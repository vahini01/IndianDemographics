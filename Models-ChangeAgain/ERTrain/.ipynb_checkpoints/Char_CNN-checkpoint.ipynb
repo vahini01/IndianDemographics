{
 "cells": [
  {
   "cell_type": "markdown",
   "metadata": {
    "id": "P_xep_Kdsdz_"
   },
   "source": [
    "https://github.com/prdeepakbabu/Python/blob/master/Deep%20learning%20gender/Deep%20Learning%20(RNN%20-%20LSTMs)%20Predict%20Gender%20from%20Name.ipynb From this link with different data"
   ]
  },
  {
   "cell_type": "code",
   "execution_count": 1,
   "metadata": {
    "id": "hZ3N3Q1AsbHh"
   },
   "outputs": [],
   "source": [
    "import tensorflow as tf\n",
    "from __future__ import print_function\n",
    "\n",
    "from sklearn.preprocessing import OneHotEncoder\n",
    "from keras.layers.core import Dense, Activation, Dropout\n",
    "from keras.preprocessing import sequence\n",
    "from keras.models import Sequential, load_model\n",
    "from keras.layers import Dense, Embedding\n",
    "from keras.layers import LSTM, Embedding\n",
    "from keras.datasets import imdb\n",
    "import pandas as pd\n",
    "import numpy as np\n",
    "import os"
   ]
  },
  {
   "cell_type": "code",
   "execution_count": 2,
   "metadata": {
    "id": "7nsk0ZJQB1TC"
   },
   "outputs": [],
   "source": [
    "from keras.layers import Input, Embedding, Activation, Flatten, Dense\n",
    "from keras.layers import Conv1D, MaxPooling1D, Dropout\n",
    "from keras.models import Model\n",
    "from sklearn.metrics import classification_report"
   ]
  },
  {
   "cell_type": "code",
   "execution_count": 5,
   "metadata": {},
   "outputs": [],
   "source": [
    "import sys  \n",
    "sys.path.insert(0, '../PreProcessing/')\n",
    "\n",
    "from utils import *\n",
    "from parse_df import *\n",
    "from split_name import *\n",
    "from char_utils import *"
   ]
  },
  {
   "cell_type": "code",
   "execution_count": 4,
   "metadata": {},
   "outputs": [
    {
     "name": "stdout",
     "output_type": "stream",
     "text": [
      "Gender\n",
      "Boy     114088\n",
      "Girl     91456\n",
      "Name: Name, dtype: int64\n"
     ]
    }
   ],
   "source": [
    "cbse_df = getCBSEData(False)\n",
    "cbse_df = cleanDf(cbse_df, 'Name')"
   ]
  },
  {
   "cell_type": "code",
   "execution_count": 6,
   "metadata": {},
   "outputs": [
    {
     "name": "stdout",
     "output_type": "stream",
     "text": [
      "(train:(147798, 5), val:(0, 0), test:(57747, 5))\n",
      "['a', 'b', 'c', 'd', 'e', 'f', 'g', 'h', 'i', 'j', 'k', 'l', 'm', 'n', 'o', 'p', 'q', 'r', 's', 't', 'u', 'v', 'w', 'x', 'y', 'z', ' ', 'END']\n",
      "['a', 'b', 'c', 'd', 'e', 'f', 'g', 'h', 'i', 'j', 'k', 'l', 'm', 'n', 'o', 'p', 'q', 'r', 's', 't', 'u', 'v', 'w', 'x', 'y', 'z', ' ', 'END']\n",
      "Train: ((147749, 30),(147749, 2)) Val:((0,),(0,)) Test: ((57731, 30),(57731, 2))\n"
     ]
    }
   ],
   "source": [
    "train_x, train_y, val_x, val_y, test_x, test_y = splitData(cbse_df, 0.7, 0, 'Name', 'char_cnn_cbse_oov.txt')"
   ]
  },
  {
   "cell_type": "code",
   "execution_count": 7,
   "metadata": {},
   "outputs": [],
   "source": [
    "voc = vocab()"
   ]
  },
  {
   "cell_type": "markdown",
   "metadata": {},
   "source": [
    "#### https://stackoverflow.com/questions/59265920/this-tensorflow-binary-is-optimized-with-intelr-mkl-dnn-to-use-the-following-c\n"
   ]
  },
  {
   "cell_type": "code",
   "execution_count": 8,
   "metadata": {},
   "outputs": [],
   "source": [
    "import os\n",
    "os.environ['TF_CPP_MIN_LOG_LEVEL'] = '2'  "
   ]
  },
  {
   "cell_type": "code",
   "execution_count": 9,
   "metadata": {},
   "outputs": [],
   "source": [
    "inputs = Input(MAXLEN_NAME_CHAR_CNN)\n",
    "x = Embedding(len(voc)+1, len(voc)+1)(inputs)\n",
    "x = Conv1D(filters = 256, kernel_size = 7, activation = 'relu')(x)\n",
    "x = Flatten()(x)\n",
    "predictions = Dense(2, activation='softmax')(x)\n",
    "model = Model(inputs=inputs, outputs=predictions)\n",
    "model.compile(loss='categorical_crossentropy', optimizer='adam',metrics=['accuracy'])"
   ]
  },
  {
   "cell_type": "code",
   "execution_count": 10,
   "metadata": {},
   "outputs": [
    {
     "name": "stdout",
     "output_type": "stream",
     "text": [
      "Model: \"model\"\n",
      "_________________________________________________________________\n",
      "Layer (type)                 Output Shape              Param #   \n",
      "=================================================================\n",
      "input_1 (InputLayer)         [(None, 30)]              0         \n",
      "_________________________________________________________________\n",
      "embedding (Embedding)        (None, 30, 29)            841       \n",
      "_________________________________________________________________\n",
      "conv1d (Conv1D)              (None, 24, 256)           52224     \n",
      "_________________________________________________________________\n",
      "flatten (Flatten)            (None, 6144)              0         \n",
      "_________________________________________________________________\n",
      "dense (Dense)                (None, 2)                 12290     \n",
      "=================================================================\n",
      "Total params: 65,355\n",
      "Trainable params: 65,355\n",
      "Non-trainable params: 0\n",
      "_________________________________________________________________\n"
     ]
    }
   ],
   "source": [
    "model.summary()"
   ]
  },
  {
   "cell_type": "code",
   "execution_count": 17,
   "metadata": {
    "colab": {
     "base_uri": "https://localhost:8080/"
    },
    "id": "wGpOOi0etqUe",
    "outputId": "c01100d9-ba75-4104-8ee7-95a5fdf4bcb1"
   },
   "outputs": [
    {
     "name": "stdout",
     "output_type": "stream",
     "text": [
      "Epoch 1/15\n",
      "148/148 [==============================] - 5s 33ms/step - loss: 0.0229 - accuracy: 0.9924 - val_loss: 0.3206 - val_accuracy: 0.9180\n",
      "Epoch 2/15\n",
      "148/148 [==============================] - 5s 33ms/step - loss: 0.0187 - accuracy: 0.9935 - val_loss: 0.3184 - val_accuracy: 0.9188\n",
      "Epoch 3/15\n",
      "148/148 [==============================] - 5s 33ms/step - loss: 0.0175 - accuracy: 0.9937 - val_loss: 0.3268 - val_accuracy: 0.9187\n",
      "Epoch 4/15\n",
      "148/148 [==============================] - 5s 33ms/step - loss: 0.0169 - accuracy: 0.9938 - val_loss: 0.3215 - val_accuracy: 0.9196\n",
      "Epoch 5/15\n",
      "148/148 [==============================] - 5s 34ms/step - loss: 0.0164 - accuracy: 0.9939 - val_loss: 0.3235 - val_accuracy: 0.9190\n",
      "Epoch 6/15\n",
      "148/148 [==============================] - 5s 33ms/step - loss: 0.0162 - accuracy: 0.9939 - val_loss: 0.3250 - val_accuracy: 0.9193\n",
      "Epoch 7/15\n",
      "148/148 [==============================] - 5s 34ms/step - loss: 0.0161 - accuracy: 0.9936 - val_loss: 0.3343 - val_accuracy: 0.9186\n",
      "Epoch 8/15\n",
      "148/148 [==============================] - 5s 33ms/step - loss: 0.0158 - accuracy: 0.9938 - val_loss: 0.3328 - val_accuracy: 0.9188\n",
      "Epoch 9/15\n",
      "148/148 [==============================] - 5s 34ms/step - loss: 0.0159 - accuracy: 0.9936 - val_loss: 0.3345 - val_accuracy: 0.9199\n",
      "Epoch 10/15\n",
      "148/148 [==============================] - 5s 33ms/step - loss: 0.0158 - accuracy: 0.9937 - val_loss: 0.3353 - val_accuracy: 0.9180\n",
      "Epoch 11/15\n",
      "148/148 [==============================] - 5s 34ms/step - loss: 0.0158 - accuracy: 0.9935 - val_loss: 0.3423 - val_accuracy: 0.9189\n",
      "Epoch 12/15\n",
      "148/148 [==============================] - 5s 33ms/step - loss: 0.0157 - accuracy: 0.9935 - val_loss: 0.3464 - val_accuracy: 0.9171\n",
      "Epoch 13/15\n",
      "148/148 [==============================] - 5s 34ms/step - loss: 0.0158 - accuracy: 0.9935 - val_loss: 0.3468 - val_accuracy: 0.9166\n",
      "Epoch 14/15\n",
      "148/148 [==============================] - 5s 33ms/step - loss: 0.0158 - accuracy: 0.9936 - val_loss: 0.3492 - val_accuracy: 0.9169\n",
      "Epoch 15/15\n",
      "148/148 [==============================] - 5s 33ms/step - loss: 0.0159 - accuracy: 0.9935 - val_loss: 0.3550 - val_accuracy: 0.9183\n"
     ]
    },
    {
     "data": {
      "text/plain": [
       "<keras.callbacks.History at 0x7ff936b31fa0>"
      ]
     },
     "execution_count": 17,
     "metadata": {},
     "output_type": "execute_result"
    }
   ],
   "source": [
    "batch_size=1000\n",
    "model.fit(train_x, train_y,batch_size=batch_size,epochs=15,validation_data=(test_x, test_y))"
   ]
  },
  {
   "cell_type": "code",
   "execution_count": 14,
   "metadata": {
    "colab": {
     "base_uri": "https://localhost:8080/"
    },
    "id": "q6NQSOMwttvv",
    "outputId": "e7796a98-3658-4475-fbed-2fc4ac6b5d8f"
   },
   "outputs": [
    {
     "name": "stdout",
     "output_type": "stream",
     "text": [
      "1805/1805 [==============================] - 3s 2ms/step - loss: 0.2514 - accuracy: 0.9161\n",
      "Test score: 0.25144320726394653\n",
      "Test accuracy: 0.9161109328269958\n"
     ]
    }
   ],
   "source": [
    "score, acc = model.evaluate(test_x, test_y)\n",
    "print('Test score:', score)\n",
    "print('Test accuracy:', acc)"
   ]
  },
  {
   "cell_type": "code",
   "execution_count": 13,
   "metadata": {},
   "outputs": [
    {
     "name": "stdout",
     "output_type": "stream",
     "text": [
      "------------------RESULTS-------------------------------\n",
      "              precision    recall  f1-score   support\n",
      "\n",
      "        Male       0.91      0.93      0.92     30779\n",
      "      Female       0.92      0.90      0.91     26952\n",
      "\n",
      "    accuracy                           0.92     57731\n",
      "   macro avg       0.92      0.91      0.92     57731\n",
      "weighted avg       0.92      0.92      0.92     57731\n",
      "\n",
      "--------------------------------------------------------\n"
     ]
    }
   ],
   "source": [
    "pred = model.predict(np.asarray(test_x))\n",
    "y_pred = np.argmax(pred, axis=1)\n",
    "y_true = np.argmax(test_y, axis=1)\n",
    "\n",
    "target_names = ['Male','Female']\n",
    "\n",
    "print(\"------------------RESULTS-------------------------------\")\n",
    "print(classification_report(y_true, y_pred, target_names=target_names))\n",
    "print(\"--------------------------------------------------------\")"
   ]
  },
  {
   "cell_type": "code",
   "execution_count": 37,
   "metadata": {},
   "outputs": [
    {
     "name": "stdout",
     "output_type": "stream",
     "text": [
      "INFO:tensorflow:Assets written to: SavedModels/FinalSet/CharCNN/CBSEModel/CBSEModel/assets\n"
     ]
    }
   ],
   "source": [
    "filename = \"SavedModels/FinalSet/CharCNN/CBSEModel/CBSEModel\"\n",
    "model.save(filename)"
   ]
  }
 ],
 "metadata": {
  "accelerator": "GPU",
  "colab": {
   "collapsed_sections": [],
   "name": "Char CNN with segregated data",
   "provenance": []
  },
  "kernelspec": {
   "display_name": "Python 3 (ipykernel)",
   "language": "python",
   "name": "python3"
  },
  "language_info": {
   "codemirror_mode": {
    "name": "ipython",
    "version": 3
   },
   "file_extension": ".py",
   "mimetype": "text/x-python",
   "name": "python",
   "nbconvert_exporter": "python",
   "pygments_lexer": "ipython3",
   "version": "3.8.11"
  }
 },
 "nbformat": 4,
 "nbformat_minor": 1
}
