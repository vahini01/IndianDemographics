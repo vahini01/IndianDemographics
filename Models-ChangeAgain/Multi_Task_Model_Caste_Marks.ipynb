{
  "nbformat": 4,
  "nbformat_minor": 5,
  "metadata": {
    "kernelspec": {
      "name": "python3",
      "display_name": "Python 3"
    },
    "colab": {
      "name": "Multi_Task_Model_Caste_Marks.ipynb",
      "provenance": [],
      "collapsed_sections": []
    },
    "language_info": {
      "name": "python"
    },
    "accelerator": "GPU"
  },
  "cells": [
    {
      "cell_type": "markdown",
      "metadata": {
        "id": "NX37fpUxPJws"
      },
      "source": [
        "Check multitasking model performance- predict caste, predict gender, predict marks in total(range in 10 point scale) (AIEEE data)\n",
        "1. Caste and Marks from AIEEE data\n",
        "2. Gender also from AIEEE data"
      ],
      "id": "NX37fpUxPJws"
    },
    {
      "cell_type": "code",
      "metadata": {
        "id": "imckURFaP72C"
      },
      "source": [
        "%%capture\n",
        "!unzip AIEEEData.zip\n",
        "!unzip PreProcessing.zip"
      ],
      "id": "imckURFaP72C",
      "execution_count": null,
      "outputs": []
    },
    {
      "cell_type": "code",
      "metadata": {
        "id": "zdTN2IKIRAc3"
      },
      "source": [
        ""
      ],
      "id": "zdTN2IKIRAc3",
      "execution_count": null,
      "outputs": []
    },
    {
      "cell_type": "code",
      "metadata": {
        "id": "ycREcg7mPJwu"
      },
      "source": [
        "# AIEEE_2009_CSV = \"../DataSets/AIEEEData/aieee_2009.csv\"\n",
        "# AIEEE_2010_CSV = \"../DataSets/AIEEEData/aieee_2010.csv\"\n",
        "# AIEEE_2011_CSV = \"../DataSets/AIEEEData/aieee_2011.csv\""
      ],
      "id": "ycREcg7mPJwu",
      "execution_count": null,
      "outputs": []
    },
    {
      "cell_type": "code",
      "metadata": {
        "id": "X30W71cxPNOX"
      },
      "source": [
        "AIEEE_2009_CSV = \"AIEEEData/aieee_2009.csv\"\n",
        "AIEEE_2010_CSV = \"AIEEEData/aieee_2010.csv\"\n",
        "AIEEE_2011_CSV = \"AIEEEData/aieee_2011.csv\""
      ],
      "id": "X30W71cxPNOX",
      "execution_count": null,
      "outputs": []
    },
    {
      "cell_type": "code",
      "metadata": {
        "colab": {
          "base_uri": "https://localhost:8080/",
          "height": 37
        },
        "id": "YIVzgdtKVY3P",
        "outputId": "05f5d0ee-dd36-4c2a-e411-ec715388ca2a"
      },
      "source": [
        "%pwd"
      ],
      "id": "YIVzgdtKVY3P",
      "execution_count": null,
      "outputs": [
        {
          "output_type": "execute_result",
          "data": {
            "application/vnd.google.colaboratory.intrinsic+json": {
              "type": "string"
            },
            "text/plain": [
              "'/content'"
            ]
          },
          "metadata": {},
          "execution_count": 10
        }
      ]
    },
    {
      "cell_type": "code",
      "metadata": {
        "id": "XXnZTWCAPJwv"
      },
      "source": [
        "import pandas as pd\n",
        "import numpy as np\n",
        "import matplotlib.pyplot as plt \n",
        "import sys  \n",
        "sys.path.insert(0, './PreProcessing/')\n",
        "\n",
        "from preprocess_aieee import *\n",
        "from char_utils import *"
      ],
      "id": "XXnZTWCAPJwv",
      "execution_count": null,
      "outputs": []
    },
    {
      "cell_type": "code",
      "metadata": {
        "id": "GacSPH4ZPJwv"
      },
      "source": [
        "ai10 = pd.read_csv(AIEEE_2010_CSV)\n",
        "ai11 = pd.read_csv(AIEEE_2011_CSV)\n",
        "ai09 = pd.read_csv(AIEEE_2009_CSV)\n",
        "ai10 = preprocess_aieee(ai10)\n",
        "ai11 = preprocess_aieee(ai11)\n",
        "ai09 = preprocess_aieee(ai09)"
      ],
      "id": "GacSPH4ZPJwv",
      "execution_count": null,
      "outputs": []
    },
    {
      "cell_type": "markdown",
      "metadata": {
        "id": "UPwBBCojPJww"
      },
      "source": [
        "marks in 10 point scale"
      ],
      "id": "UPwBBCojPJww"
    },
    {
      "cell_type": "code",
      "metadata": {
        "id": "Y8k5ZM_vPJww"
      },
      "source": [
        "marks_10 = getMarks(ai10,'p1_marks',MAX_2010)\n",
        "marks_11 = getMarks(ai11, 'p1_marks',MAX_2011)\n",
        "marks_09 = getMarks(ai09, 'p1_marks', MAX_2009)"
      ],
      "id": "Y8k5ZM_vPJww",
      "execution_count": null,
      "outputs": []
    },
    {
      "cell_type": "code",
      "metadata": {
        "id": "tQ55afv9PJwx"
      },
      "source": [
        "# # If you can plot the count based on buckets\n",
        "# ranges = [-10,0,1,2,3,4,5,6,7,8,9,10]\n",
        "# l1 = marks_09.groupby(pd.cut(marks_09.Marks, ranges)).count()\n",
        "# l2 = marks_10.groupby(pd.cut(marks_10.Marks, ranges)).count()\n",
        "# l3 = marks_11.groupby(pd.cut(marks_11.Marks, ranges)).count()\n",
        "\n",
        "# X_axis = np.arange(len(ranges[1:]))\n",
        "\n",
        "# plt.bar(X_axis - 0.2, list(l1.Name),0.2 , label = '2009')\n",
        "# plt.bar(X_axis + 0, list(l2.Name),0.2 ,label = '2010')\n",
        "# plt.bar(X_axis + 0.2, list(l3.Name),0.2 ,label = '2011')\n",
        "\n",
        "# plt.xticks(X_axis, ranges[1:])\n",
        "# plt.xlabel(\"Marks Range\")\n",
        "# plt.ylabel(\"Number of Students\")\n",
        "# plt.title(\"Marks distribution in AIEEE Sample collected\")\n",
        "# plt.legend()\n",
        "# plt.show()"
      ],
      "id": "tQ55afv9PJwx",
      "execution_count": null,
      "outputs": []
    },
    {
      "cell_type": "code",
      "metadata": {
        "colab": {
          "base_uri": "https://localhost:8080/"
        },
        "id": "LEBgaW08PJwy",
        "outputId": "dff650d3-c364-43a7-98a6-670fdb892e2a"
      },
      "source": [
        "print(marks_09.shape)\n",
        "print(marks_10.shape)\n",
        "print(marks_11.shape)"
      ],
      "id": "LEBgaW08PJwy",
      "execution_count": null,
      "outputs": [
        {
          "output_type": "stream",
          "name": "stdout",
          "text": [
            "(106592, 2)\n",
            "(116290, 2)\n",
            "(115516, 2)\n"
          ]
        }
      ]
    },
    {
      "cell_type": "markdown",
      "metadata": {
        "id": "vynuf2-FPJwz"
      },
      "source": [
        "Convert Names to embedding"
      ],
      "id": "vynuf2-FPJwz"
    },
    {
      "cell_type": "markdown",
      "metadata": {
        "id": "UynW97pSPJw0"
      },
      "source": [
        "Get Gender labels"
      ],
      "id": "UynW97pSPJw0"
    },
    {
      "cell_type": "code",
      "metadata": {
        "id": "jY81bIAxPJw0"
      },
      "source": [
        "gender_10 = getGenderNames(ai10)\n",
        "gender_11 = getGenderNames(ai11)\n",
        "gender_09 = getGenderNames(ai09)"
      ],
      "id": "jY81bIAxPJw0",
      "execution_count": null,
      "outputs": []
    },
    {
      "cell_type": "code",
      "metadata": {
        "colab": {
          "base_uri": "https://localhost:8080/"
        },
        "id": "tcGn9ObwPJw0",
        "outputId": "3636a98c-b6a8-41b6-bd6a-04351f1849ad"
      },
      "source": [
        "print(gender_09.groupby('Gender').count())\n",
        "print(gender_10.groupby('Gender').count())\n",
        "print(gender_11.groupby('Gender').count())"
      ],
      "id": "tcGn9ObwPJw0",
      "execution_count": null,
      "outputs": [
        {
          "output_type": "stream",
          "name": "stdout",
          "text": [
            "          Name\n",
            "Gender        \n",
            "FEMALE  112579\n",
            "MALE    112579\n",
            "          Name\n",
            "Gender        \n",
            "FEMALE  122871\n",
            "MALE    122871\n",
            "          Name\n",
            "Gender        \n",
            "FEMALE  123072\n",
            "MALE    123072\n"
          ]
        }
      ]
    },
    {
      "cell_type": "markdown",
      "metadata": {
        "id": "s4QMCJebPJw1"
      },
      "source": [
        "Get caste labels"
      ],
      "id": "s4QMCJebPJw1"
    },
    {
      "cell_type": "code",
      "metadata": {
        "colab": {
          "base_uri": "https://localhost:8080/"
        },
        "id": "GffrbCXfPJw2",
        "outputId": "972a7212-20d3-4157-c32b-13acff8a82fa"
      },
      "source": [
        "caste_10 = getCaste(ai10, 'category')\n",
        "caste_11 = getCaste(ai11, 'category')\n",
        "caste_09 = getCaste(ai09, 'category')"
      ],
      "id": "GffrbCXfPJw2",
      "execution_count": null,
      "outputs": [
        {
          "output_type": "stream",
          "name": "stderr",
          "text": [
            "./PreProcessing/preprocess_aieee.py:74: SettingWithCopyWarning: \n",
            "A value is trying to be set on a copy of a slice from a DataFrame.\n",
            "Try using .loc[row_indexer,col_indexer] = value instead\n",
            "\n",
            "See the caveats in the documentation: https://pandas.pydata.org/pandas-docs/stable/user_guide/indexing.html#returning-a-view-versus-a-copy\n",
            "  df1[col] = [elem.replace(\"Sub-PH\", \"\") for elem in df1[col]]\n"
          ]
        }
      ]
    },
    {
      "cell_type": "code",
      "metadata": {
        "id": "-J-EUi07PJw2"
      },
      "source": [
        "# print(caste_09.groupby('Caste').count())\n",
        "# print(caste_10.groupby('Caste').count())\n",
        "# print(caste_11.groupby('Caste').count())\n",
        "\n",
        "# ranges = ['GEN','OBC','SC','ST']\n",
        "# l1 = caste_09.groupby('Caste').count()\n",
        "# l2 = caste_10.groupby('Caste').count()\n",
        "# l3 = caste_11.groupby('Caste').count()\n",
        "\n",
        "# X_axis = np.arange(len(ranges))\n",
        "\n",
        "# plt.bar(X_axis - 0.1, list(l1.Name),0.1 , label = '2009')\n",
        "# plt.bar(X_axis + 0, list(l2.Name),0.1 ,label = '2010')\n",
        "# plt.bar(X_axis + 0.1, list(l3.Name),0.1 ,label = '2011')\n",
        "\n",
        "# plt.xticks(X_axis, ranges)\n",
        "# plt.xlabel(\"Caste\")\n",
        "# plt.ylabel(\"Number of Students\")\n",
        "# plt.title(\"Caste distribution in AIEEE Sample collected\")\n",
        "# plt.legend()\n",
        "# plt.show()"
      ],
      "id": "-J-EUi07PJw2",
      "execution_count": null,
      "outputs": []
    },
    {
      "cell_type": "code",
      "metadata": {
        "id": "M9EKjszjPJw3"
      },
      "source": [
        "# Marks range based on gender => Get corresponding datsets and may be a common function to plot\n",
        "# Marks range based on caste => Get corresponding datasets and may be a common function to plot"
      ],
      "id": "M9EKjszjPJw3",
      "execution_count": null,
      "outputs": []
    },
    {
      "cell_type": "code",
      "metadata": {
        "id": "VbS-a7o9PJw3"
      },
      "source": [
        "caste_df = pd.concat([caste_09, caste_10, caste_11], ignore_index=True)\n",
        "gender_df = pd.concat([gender_09, gender_10, gender_11], ignore_index=True)\n",
        "marks_df = pd.concat([marks_09, marks_10, marks_11], ignore_index=True)"
      ],
      "id": "VbS-a7o9PJw3",
      "execution_count": null,
      "outputs": []
    },
    {
      "cell_type": "code",
      "metadata": {
        "colab": {
          "base_uri": "https://localhost:8080/"
        },
        "id": "3sq3nWGzPJw4",
        "outputId": "c83d4cbb-a161-4ac3-a7f0-898713f75048"
      },
      "source": [
        "print(caste_df.shape)\n",
        "print(gender_df.shape)\n",
        "print(marks_df.shape)\n",
        "\n",
        "print(caste_df.groupby('Caste').count())\n",
        "print(gender_df.groupby('Gender').count())"
      ],
      "id": "3sq3nWGzPJw4",
      "execution_count": null,
      "outputs": [
        {
          "output_type": "stream",
          "name": "stdout",
          "text": [
            "(358511, 2)\n",
            "(717044, 2)\n",
            "(338398, 2)\n",
            "         Name\n",
            "Caste        \n",
            "GEN    198865\n",
            "OBC    115048\n",
            "SC      32782\n",
            "ST      11816\n",
            "          Name\n",
            "Gender        \n",
            "FEMALE  358522\n",
            "MALE    358522\n"
          ]
        }
      ]
    },
    {
      "cell_type": "code",
      "metadata": {
        "colab": {
          "base_uri": "https://localhost:8080/"
        },
        "id": "LXzaSDg4PJw4",
        "outputId": "23f7bbd0-9bf7-4eed-d7ca-376b5e1bc392"
      },
      "source": [
        "cm_10 = getMarksCaste(ai10, MAX_2010)\n",
        "cm_11 = getMarksCaste(ai11, MAX_2011)\n",
        "cm_09 = getMarksCaste(ai09, MAX_2009)"
      ],
      "id": "LXzaSDg4PJw4",
      "execution_count": null,
      "outputs": [
        {
          "output_type": "stream",
          "name": "stderr",
          "text": [
            "./PreProcessing/preprocess_aieee.py:60: SettingWithCopyWarning: \n",
            "A value is trying to be set on a copy of a slice from a DataFrame.\n",
            "Try using .loc[row_indexer,col_indexer] = value instead\n",
            "\n",
            "See the caveats in the documentation: https://pandas.pydata.org/pandas-docs/stable/user_guide/indexing.html#returning-a-view-versus-a-copy\n",
            "  df['category'] = df['category'].replace('', np.NaN)\n"
          ]
        }
      ]
    },
    {
      "cell_type": "code",
      "metadata": {
        "id": "k52o56GFPJw5"
      },
      "source": [
        "cm_df = pd.concat([cm_09, cm_10, cm_11], ignore_index=True)"
      ],
      "id": "k52o56GFPJw5",
      "execution_count": null,
      "outputs": []
    },
    {
      "cell_type": "code",
      "metadata": {
        "colab": {
          "base_uri": "https://localhost:8080/"
        },
        "id": "n3hOz6_TPJw6",
        "outputId": "bf87177e-201c-44f9-aff9-0f689fcc9578"
      },
      "source": [
        "cm_df.shape"
      ],
      "id": "n3hOz6_TPJw6",
      "execution_count": null,
      "outputs": [
        {
          "output_type": "execute_result",
          "data": {
            "text/plain": [
              "(338389, 3)"
            ]
          },
          "metadata": {},
          "execution_count": 27
        }
      ]
    },
    {
      "cell_type": "markdown",
      "metadata": {
        "id": "yiiDoXLHPJw7"
      },
      "source": [
        "### DataSet Generator"
      ],
      "id": "yiiDoXLHPJw7"
    },
    {
      "cell_type": "code",
      "metadata": {
        "id": "eqKwXmfqPJw7"
      },
      "source": [
        "train_mx, train_my, test_mx, test_my, val_mx, val_my = splitMarks(marks_df)"
      ],
      "id": "eqKwXmfqPJw7",
      "execution_count": null,
      "outputs": []
    },
    {
      "cell_type": "code",
      "metadata": {
        "id": "OmebrXyRPJw7"
      },
      "source": [
        "train_cx, train_cy, test_cx, test_cy, val_cx, val_cy = splitCaste(caste_df)"
      ],
      "id": "OmebrXyRPJw7",
      "execution_count": null,
      "outputs": []
    },
    {
      "cell_type": "code",
      "metadata": {
        "id": "Isfh09_uPJw8"
      },
      "source": [
        "train_gx, train_gy, test_gx, test_gy, val_gx, val_gy = splitGender(gender_df)"
      ],
      "id": "Isfh09_uPJw8",
      "execution_count": null,
      "outputs": []
    },
    {
      "cell_type": "code",
      "metadata": {
        "colab": {
          "base_uri": "https://localhost:8080/"
        },
        "id": "m-052YJoPJw8",
        "outputId": "dc0a5c78-810b-4ab1-9146-83f445141f2b"
      },
      "source": [
        "train_cmx, train_cmy, train_cmy1, val_cmx, val_cmy, val_cmy1, test_cmx, test_cmy, test_cmy1 = splitCasteMarks(cm_df)"
      ],
      "id": "m-052YJoPJw8",
      "execution_count": null,
      "outputs": [
        {
          "output_type": "stream",
          "name": "stdout",
          "text": [
            "Train: ((234753, 30),(234753,)) Val:((33556, 30),(33556,)) Test: ((67114, 30),(67114,))\n"
          ]
        }
      ]
    },
    {
      "cell_type": "code",
      "metadata": {
        "colab": {
          "base_uri": "https://localhost:8080/"
        },
        "id": "DQOPbxO-PJw8",
        "outputId": "22283bbc-4e28-4a7d-f8a0-72a7a1295e0f"
      },
      "source": [
        "print(f'Train: ({train_cmx.shape},{train_cmy.shape},{train_cmy1.shape}) Val:({val_cmx.shape},{val_cmy.shape},{val_cmy1.shape}) Test: ({test_cmx.shape},{test_cmy.shape},{test_cmy1.shape})')\n"
      ],
      "id": "DQOPbxO-PJw8",
      "execution_count": null,
      "outputs": [
        {
          "output_type": "stream",
          "name": "stdout",
          "text": [
            "Train: ((234753, 30),(234753,),(234753, 4)) Val:((33556, 30),(33556,),(33556, 4)) Test: ((67114, 30),(67114,),(67114, 4))\n"
          ]
        }
      ]
    },
    {
      "cell_type": "markdown",
      "metadata": {
        "id": "FVo3WfJuPJw9"
      },
      "source": [
        "### Model"
      ],
      "id": "FVo3WfJuPJw9"
    },
    {
      "cell_type": "code",
      "metadata": {
        "id": "WMqfkuWiPJw-"
      },
      "source": [
        "import tensorflow as tf\n",
        "from tensorflow.python.keras.layers.core import Dense, Activation, Dropout\n",
        "from tensorflow.python.keras.preprocessing import sequence\n",
        "from tensorflow.python.keras.models import Sequential, Model, load_model\n",
        "from tensorflow.python.keras.layers import Dense, Embedding\n",
        "from tensorflow.python.keras.layers import LSTM, Conv1D\n",
        "from tensorflow.python.keras.layers import Input, Dense, Flatten\n",
        "from tensorflow.python.keras.callbacks import TensorBoard"
      ],
      "id": "WMqfkuWiPJw-",
      "execution_count": null,
      "outputs": []
    },
    {
      "cell_type": "code",
      "metadata": {
        "id": "tqmvw25IPJw_"
      },
      "source": [
        "voc = vocab()"
      ],
      "id": "tqmvw25IPJw_",
      "execution_count": null,
      "outputs": []
    },
    {
      "cell_type": "code",
      "metadata": {
        "colab": {
          "base_uri": "https://localhost:8080/"
        },
        "id": "4xqtI-90PJw_",
        "outputId": "bbd1f8b6-6440-4288-c2e0-b805997979cf"
      },
      "source": [
        "input_ = Input(shape=(30,), name='input')\n",
        "\n",
        "embed = Embedding(len(voc), len(voc), name='embed')(input_)\n",
        "# lstm = LSTM(128, return_sequences=True, activation='tanh', name='lstm')(embed)\n",
        "\n",
        "conv_1 = Conv1D(filters = 256, kernel_size = 7, activation = 'relu')(embed)\n",
        "dropout = Dropout(0.2, name='dropout_1')(conv_1)\n",
        "\n",
        "# flat_1 = Flatten()(conv_1)\n",
        "# output_1 = Dense(2, activation='softmax', name='gender')(flat_1)\n",
        "\n",
        "flat_2 = Flatten()(dropout)\n",
        "caste = Dense(4, activation='softmax', name='caste')(flat_2)\n",
        "\n",
        "flat_3 = Flatten()(dropout)\n",
        "marks = Dense(1, name='marks')(flat_3)\n",
        "\n",
        "model = Model(inputs= input_, outputs=[marks, caste])\n",
        "\n",
        "model.compile(\n",
        "    loss={\n",
        "        # 'gender': 'sparse_categorical_crossentropy',\n",
        "        'caste': 'categorical_crossentropy',\n",
        "        'marks': 'mean_squared_error'\n",
        "    },\n",
        "    optimizer='adam',\n",
        "    metrics={\n",
        "        'caste':'categorical_accuracy',\n",
        "        'marks':'mean_squared_error',\n",
        "    }\n",
        ")\n",
        "\n",
        "model.summary()"
      ],
      "id": "4xqtI-90PJw_",
      "execution_count": null,
      "outputs": [
        {
          "output_type": "stream",
          "name": "stdout",
          "text": [
            "Model: \"model_2\"\n",
            "__________________________________________________________________________________________________\n",
            "Layer (type)                    Output Shape         Param #     Connected to                     \n",
            "==================================================================================================\n",
            "input (InputLayer)              [(None, 30)]         0                                            \n",
            "__________________________________________________________________________________________________\n",
            "embed (Embedding)               (None, 30, 28)       784         input[0][0]                      \n",
            "__________________________________________________________________________________________________\n",
            "conv1d_2 (Conv1D)               (None, 24, 256)      50432       embed[0][0]                      \n",
            "__________________________________________________________________________________________________\n",
            "dropout_1 (Dropout)             (None, 24, 256)      0           conv1d_2[0][0]                   \n",
            "__________________________________________________________________________________________________\n",
            "flatten_5 (Flatten)             (None, 6144)         0           dropout_1[0][0]                  \n",
            "__________________________________________________________________________________________________\n",
            "flatten_4 (Flatten)             (None, 6144)         0           dropout_1[0][0]                  \n",
            "__________________________________________________________________________________________________\n",
            "marks (Dense)                   (None, 1)            6145        flatten_5[0][0]                  \n",
            "__________________________________________________________________________________________________\n",
            "caste (Dense)                   (None, 4)            24580       flatten_4[0][0]                  \n",
            "==================================================================================================\n",
            "Total params: 81,941\n",
            "Trainable params: 81,941\n",
            "Non-trainable params: 0\n",
            "__________________________________________________________________________________________________\n"
          ]
        }
      ]
    },
    {
      "cell_type": "code",
      "metadata": {
        "id": "9wUHzGW2ioVk"
      },
      "source": [
        "model.fit(\n",
        "    {'input':train_cmx},\n",
        "    {'marks':train_cmy, 'caste':train_cmy1},\n",
        "    validation_data= ({'input':val_cmx},\n",
        "    {'marks':val_cmy, 'caste':val_cmy1}),\n",
        "    batch_size=1000,\n",
        "    epochs=50,\n",
        ")"
      ],
      "id": "9wUHzGW2ioVk",
      "execution_count": null,
      "outputs": []
    },
    {
      "cell_type": "code",
      "metadata": {
        "colab": {
          "base_uri": "https://localhost:8080/",
          "height": 644
        },
        "id": "P6WgoPytSyID",
        "outputId": "949c75c5-63e7-4443-e53f-27d9c3fed4f2"
      },
      "source": [
        "tf.keras.utils.plot_model(model, show_shapes=True)"
      ],
      "id": "P6WgoPytSyID",
      "execution_count": null,
      "outputs": [
        {
          "output_type": "execute_result",
          "data": {
            "image/png": "[encoded data removed]",
            "text/plain": [
              "<IPython.core.display.Image object>"
            ]
          },
          "metadata": {},
          "execution_count": 50
        }
      ]
    },
    {
      "cell_type": "code",
      "metadata": {
        "id": "ESTZFX9uX02I"
      },
      "source": [
        "results = model.predict(test_cmx)"
      ],
      "id": "ESTZFX9uX02I",
      "execution_count": null,
      "outputs": []
    },
    {
      "cell_type": "code",
      "metadata": {
        "id": "3EzgpnkXYk24"
      },
      "source": [
        "from sklearn.metrics import classification_report"
      ],
      "id": "3EzgpnkXYk24",
      "execution_count": null,
      "outputs": []
    },
    {
      "cell_type": "code",
      "metadata": {
        "colab": {
          "base_uri": "https://localhost:8080/"
        },
        "id": "Hy7NL56vYMb7",
        "outputId": "b87fd83d-5524-4854-933f-c37bde3dfb9c"
      },
      "source": [
        "y_pred = np.argmax(results[1], axis=1)\n",
        "y_true = np.argmax(test_cmy1, axis=1)\n",
        "\n",
        "target_names = ['GEN','OBC','SC','ST']\n",
        "\n",
        "print(\"------------------RESULTS-------------------------------\")\n",
        "print(classification_report(y_true, y_pred))\n",
        "print(\"--------------------------------------------------------\")"
      ],
      "id": "Hy7NL56vYMb7",
      "execution_count": null,
      "outputs": [
        {
          "output_type": "stream",
          "name": "stdout",
          "text": [
            "------------------RESULTS-------------------------------\n",
            "              precision    recall  f1-score   support\n",
            "\n",
            "           0       0.71      0.81      0.76     37550\n",
            "           1       0.56      0.57      0.56     21347\n",
            "           2       0.46      0.14      0.21      6102\n",
            "           3       0.79      0.43      0.56      2115\n",
            "\n",
            "    accuracy                           0.66     67114\n",
            "   macro avg       0.63      0.49      0.52     67114\n",
            "weighted avg       0.64      0.66      0.64     67114\n",
            "\n",
            "--------------------------------------------------------\n"
          ]
        }
      ]
    },
    {
      "cell_type": "code",
      "metadata": {
        "id": "YDd0qYsrYiRh"
      },
      "source": [
        "from sklearn.metrics import mean_squared_error"
      ],
      "id": "YDd0qYsrYiRh",
      "execution_count": null,
      "outputs": []
    },
    {
      "cell_type": "code",
      "metadata": {
        "colab": {
          "base_uri": "https://localhost:8080/"
        },
        "id": "QiR04DVrZl2k",
        "outputId": "beab51f7-f8fd-45dd-f8bf-6f2b3c1fd499"
      },
      "source": [
        "y_pred = results[0]\n",
        "y_true = test_cmy\n",
        "\n",
        "\n",
        "print(\"------------------RESULTS-------------------------------\")\n",
        "print(mean_squared_error(y_true, y_pred))\n",
        "print(\"--------------------------------------------------------\")"
      ],
      "id": "QiR04DVrZl2k",
      "execution_count": null,
      "outputs": [
        {
          "output_type": "stream",
          "name": "stdout",
          "text": [
            "------------------RESULTS-------------------------------\n",
            "1.2119505736226865\n",
            "--------------------------------------------------------\n"
          ]
        }
      ]
    },
    {
      "cell_type": "code",
      "metadata": {
        "id": "WS2PnkK9Z4xS"
      },
      "source": [
        ""
      ],
      "id": "WS2PnkK9Z4xS",
      "execution_count": null,
      "outputs": []
    },
    {
      "cell_type": "markdown",
      "metadata": {
        "id": "Pg6Kig2Ahb05"
      },
      "source": [
        "Single Task and without marks"
      ],
      "id": "Pg6Kig2Ahb05"
    },
    {
      "cell_type": "code",
      "metadata": {
        "colab": {
          "base_uri": "https://localhost:8080/"
        },
        "id": "gQEg7juShe9-",
        "outputId": "6a223a2f-1f50-4a78-83d9-bebec4ea87e4"
      },
      "source": [
        "input_ = Input(shape=(30,), name='input')\n",
        "\n",
        "embed = Embedding(len(voc), len(voc), name='embed')(input_)\n",
        "\n",
        "conv_1 = Conv1D(filters = 256, kernel_size = 7, activation = 'relu')(embed)\n",
        "\n",
        "conv_2 = Conv1D(filters = 128, kernel_size = 3, activation = 'relu')(conv_1)\n",
        "\n",
        "flat_2 = Flatten()(conv_2)\n",
        "caste = Dense(4, activation='softmax', name='caste')(flat_2)\n",
        "\n",
        "model1 = Model(inputs= input_, outputs=[caste])\n",
        "\n",
        "model1.compile(\n",
        "    loss={\n",
        "        # 'gender': 'sparse_categorical_crossentropy',\n",
        "        'caste': 'categorical_crossentropy',\n",
        "    },\n",
        "    optimizer='adam',\n",
        "    metrics={\n",
        "        'caste':'categorical_accuracy',\n",
        "    }\n",
        ")\n",
        "\n",
        "model1.summary()"
      ],
      "id": "gQEg7juShe9-",
      "execution_count": null,
      "outputs": [
        {
          "output_type": "stream",
          "name": "stdout",
          "text": [
            "Model: \"model_6\"\n",
            "_________________________________________________________________\n",
            "Layer (type)                 Output Shape              Param #   \n",
            "=================================================================\n",
            "input (InputLayer)           [(None, 30)]              0         \n",
            "_________________________________________________________________\n",
            "embed (Embedding)            (None, 30, 28)            784       \n",
            "_________________________________________________________________\n",
            "conv1d_9 (Conv1D)            (None, 24, 256)           50432     \n",
            "_________________________________________________________________\n",
            "conv1d_10 (Conv1D)           (None, 22, 128)           98432     \n",
            "_________________________________________________________________\n",
            "flatten_9 (Flatten)          (None, 2816)              0         \n",
            "_________________________________________________________________\n",
            "caste (Dense)                (None, 4)                 11268     \n",
            "=================================================================\n",
            "Total params: 160,916\n",
            "Trainable params: 160,916\n",
            "Non-trainable params: 0\n",
            "_________________________________________________________________\n"
          ]
        }
      ]
    },
    {
      "cell_type": "code",
      "metadata": {
        "colab": {
          "base_uri": "https://localhost:8080/"
        },
        "id": "pv1-kfO0ifke",
        "outputId": "6afcca72-a6f3-4a2f-e41a-40859c2f63fc"
      },
      "source": [
        "model1.fit(\n",
        "    {'input':train_cmx},\n",
        "    { 'caste':train_cmy1},\n",
        "    validation_data= ({'input':val_cmx},\n",
        "    {'caste':val_cmy1}),\n",
        "    batch_size=100,\n",
        "    epochs=10,\n",
        ")"
      ],
      "id": "pv1-kfO0ifke",
      "execution_count": null,
      "outputs": [
        {
          "output_type": "stream",
          "name": "stdout",
          "text": [
            "Epoch 1/10\n",
            "2348/2348 [==============================] - 25s 10ms/step - loss: 0.8729 - categorical_accuracy: 0.6270 - val_loss: 0.8082 - val_categorical_accuracy: 0.6529\n",
            "Epoch 2/10\n",
            "2348/2348 [==============================] - 22s 9ms/step - loss: 0.7863 - categorical_accuracy: 0.6616 - val_loss: 0.7833 - val_categorical_accuracy: 0.6595\n",
            "Epoch 3/10\n",
            "2348/2348 [==============================] - 22s 9ms/step - loss: 0.7523 - categorical_accuracy: 0.6758 - val_loss: 0.7756 - val_categorical_accuracy: 0.6654\n",
            "Epoch 4/10\n",
            "2348/2348 [==============================] - 22s 9ms/step - loss: 0.7277 - categorical_accuracy: 0.6877 - val_loss: 0.7802 - val_categorical_accuracy: 0.6682\n",
            "Epoch 5/10\n",
            "2348/2348 [==============================] - 22s 9ms/step - loss: 0.7045 - categorical_accuracy: 0.6988 - val_loss: 0.7724 - val_categorical_accuracy: 0.6678\n",
            "Epoch 6/10\n",
            "2348/2348 [==============================] - 22s 9ms/step - loss: 0.6826 - categorical_accuracy: 0.7089 - val_loss: 0.7813 - val_categorical_accuracy: 0.6596\n",
            "Epoch 7/10\n",
            "2348/2348 [==============================] - 22s 9ms/step - loss: 0.6615 - categorical_accuracy: 0.7185 - val_loss: 0.7896 - val_categorical_accuracy: 0.6609\n",
            "Epoch 8/10\n",
            "2348/2348 [==============================] - 22s 9ms/step - loss: 0.6408 - categorical_accuracy: 0.7275 - val_loss: 0.8144 - val_categorical_accuracy: 0.6486\n",
            "Epoch 9/10\n",
            "2348/2348 [==============================] - 22s 9ms/step - loss: 0.6211 - categorical_accuracy: 0.7362 - val_loss: 0.8224 - val_categorical_accuracy: 0.6505\n",
            "Epoch 10/10\n",
            "2348/2348 [==============================] - 21s 9ms/step - loss: 0.6028 - categorical_accuracy: 0.7442 - val_loss: 0.8485 - val_categorical_accuracy: 0.6579\n"
          ]
        },
        {
          "output_type": "execute_result",
          "data": {
            "text/plain": [
              "<tensorflow.python.keras.callbacks.History at 0x7efd63b9d0d0>"
            ]
          },
          "metadata": {},
          "execution_count": 65
        }
      ]
    },
    {
      "cell_type": "code",
      "metadata": {
        "colab": {
          "base_uri": "https://localhost:8080/"
        },
        "id": "h0B2liQwisCe",
        "outputId": "137476d7-bdd6-46b4-8d08-3e37fd6e2113"
      },
      "source": [
        "results = model1.predict(test_cmx)\n",
        "y_pred = np.argmax(results, axis=1)\n",
        "y_true = np.argmax(test_cmy1, axis=1)\n",
        "\n",
        "target_names = ['GEN','OBC','SC','ST']\n",
        "\n",
        "print(\"------------------RESULTS-------------------------------\")\n",
        "print(classification_report(y_true, y_pred))\n",
        "print(\"--------------------------------------------------------\")"
      ],
      "id": "h0B2liQwisCe",
      "execution_count": null,
      "outputs": [
        {
          "output_type": "stream",
          "name": "stdout",
          "text": [
            "------------------RESULTS-------------------------------\n",
            "              precision    recall  f1-score   support\n",
            "\n",
            "           0       0.71      0.82      0.76     37550\n",
            "           1       0.58      0.54      0.56     21347\n",
            "           2       0.41      0.19      0.26      6102\n",
            "           3       0.78      0.49      0.60      2115\n",
            "\n",
            "    accuracy                           0.66     67114\n",
            "   macro avg       0.62      0.51      0.55     67114\n",
            "weighted avg       0.64      0.66      0.65     67114\n",
            "\n",
            "--------------------------------------------------------\n"
          ]
        }
      ]
    },
    {
      "cell_type": "code",
      "metadata": {
        "colab": {
          "base_uri": "https://localhost:8080/",
          "height": 644
        },
        "id": "oR3_cxLnkmTl",
        "outputId": "706aac6d-7dfa-4c3c-83d6-9d7f30c7a8f4"
      },
      "source": [
        "tf.keras.utils.plot_model(model1, show_shapes=True)"
      ],
      "id": "oR3_cxLnkmTl",
      "execution_count": null,
      "outputs": [
        {
          "output_type": "execute_result",
          "data": {
            "image/png": "[encoded data removed]",
            "text/plain": [
              "<IPython.core.display.Image object>"
            ]
          },
          "metadata": {},
          "execution_count": 67
        }
      ]
    },
    {
      "cell_type": "code",
      "metadata": {
        "id": "pnqn3INOky-p"
      },
      "source": [
        ""
      ],
      "id": "pnqn3INOky-p",
      "execution_count": null,
      "outputs": []
    },
    {
      "cell_type": "markdown",
      "metadata": {
        "id": "O6aU93r0n5sH"
      },
      "source": [
        "MODEL 3"
      ],
      "id": "O6aU93r0n5sH"
    },
    {
      "cell_type": "code",
      "metadata": {
        "id": "CeUk7BRTrpS3"
      },
      "source": [
        "from sklearn.utils import class_weight\n",
        "\n",
        "def get_sample_weights(labels):\n",
        "  l = np.argmax(labels, axis = 1)\n",
        "  # cur = l.shape\n",
        "  # l = l.reshape(cur[0])\n",
        "  weights = class_weight.compute_class_weight(class_weight='balanced',classes=np.unique(l),y=l)\n",
        "  return weights"
      ],
      "id": "CeUk7BRTrpS3",
      "execution_count": null,
      "outputs": []
    },
    {
      "cell_type": "code",
      "metadata": {
        "id": "6cMYBo3Zr3x6"
      },
      "source": [
        "weights = get_sample_weights(train_cmy1)"
      ],
      "id": "6cMYBo3Zr3x6",
      "execution_count": 142,
      "outputs": []
    },
    {
      "cell_type": "code",
      "metadata": {
        "id": "uangG2fqLg0o"
      },
      "source": [
        "weights1 = class_weight.compute_sample_weight('balanced',train_cmy1)"
      ],
      "id": "uangG2fqLg0o",
      "execution_count": 156,
      "outputs": []
    },
    {
      "cell_type": "code",
      "metadata": {
        "colab": {
          "base_uri": "https://localhost:8080/"
        },
        "id": "hLt_ci5XF8N4",
        "outputId": "f1e5c89c-81c6-4b90-f987-46efc13eba18"
      },
      "source": [
        "weights"
      ],
      "id": "hLt_ci5XF8N4",
      "execution_count": 154,
      "outputs": [
        {
          "output_type": "execute_result",
          "data": {
            "text/plain": [
              "array([0.44766701, 0.78314696, 2.77210571, 7.77842942])"
            ]
          },
          "metadata": {},
          "execution_count": 154
        }
      ]
    },
    {
      "cell_type": "code",
      "metadata": {
        "id": "j5VjGCttn6gR",
        "colab": {
          "base_uri": "https://localhost:8080/"
        },
        "outputId": "8afb71a9-0b1a-4d0b-990c-dc22312d1c82"
      },
      "source": [
        "input_ = Input(shape=(30,), name='input')\n",
        "embed = Embedding(len(voc), len(voc), name='embed')(input_)\n",
        "conv_1 = Conv1D(filters = 256, kernel_size = 7, activation = 'relu')(embed)\n",
        "conv_2 = Conv1D(filters = 128, kernel_size = 3, activation = 'relu')(conv_1)\n",
        "flat_2 = Flatten()(conv_2)\n",
        "caste = Dense(4, activation='softmax', name='caste')(flat_2)\n",
        "model4 = Model(inputs= input_, outputs=[caste])\n",
        "\n",
        "\n",
        "# def custom_loss_4(y_true, y_pred, weights):\n",
        "#   scce = tf.keras.losses.SparseCategoricalCrossentropy()\n",
        "#   return scce(y_true, y_pred, sample_weight=tf.constant([0.3, 0.7])).numpy()\n",
        "\n",
        "# def custom_loss(y_true, y_pred):\n",
        "#   weights = [0.44766701, 0.78314696, 2.77210571, 7.77842942]\n",
        "#   scce = tf.keras.losses.CategoricalCrossentropy()\n",
        "#   return scce(y_true, y_pred, weights).numpy()\n",
        "\n",
        "\n",
        "model4.compile(\n",
        "  loss='categorical_crossentropy',\n",
        "  optimizer='adam',\n",
        "  metrics={\n",
        "      'caste':'categorical_accuracy',\n",
        "  },\n",
        "  loss_weights=class_weight.compute_sample_weight('balanced',train_cmy1)\n",
        ")\n",
        "print(model4.summary())"
      ],
      "id": "j5VjGCttn6gR",
      "execution_count": 168,
      "outputs": [
        {
          "output_type": "stream",
          "name": "stdout",
          "text": [
            "Model: \"model_30\"\n",
            "_________________________________________________________________\n",
            "Layer (type)                 Output Shape              Param #   \n",
            "=================================================================\n",
            "input (InputLayer)           [(None, 30)]              0         \n",
            "_________________________________________________________________\n",
            "embed (Embedding)            (None, 30, 28)            784       \n",
            "_________________________________________________________________\n",
            "conv1d_57 (Conv1D)           (None, 24, 256)           50432     \n",
            "_________________________________________________________________\n",
            "conv1d_58 (Conv1D)           (None, 22, 128)           98432     \n",
            "_________________________________________________________________\n",
            "flatten_33 (Flatten)         (None, 2816)              0         \n",
            "_________________________________________________________________\n",
            "caste (Dense)                (None, 4)                 11268     \n",
            "=================================================================\n",
            "Total params: 160,916\n",
            "Trainable params: 160,916\n",
            "Non-trainable params: 0\n",
            "_________________________________________________________________\n",
            "None\n"
          ]
        }
      ]
    },
    {
      "cell_type": "code",
      "metadata": {
        "colab": {
          "base_uri": "https://localhost:8080/"
        },
        "id": "57VeaWUZ5Ric",
        "outputId": "934b9f4d-4850-4f49-b73f-94021312e7ee"
      },
      "source": [
        "model4.fit(\n",
        "    {'input':train_cmx},\n",
        "    { 'caste':train_cmy1},\n",
        "    validation_data= ({'input':val_cmx},\n",
        "    {'caste':val_cmy1}),\n",
        "    batch_size=100,\n",
        "    epochs=10,\n",
        ")"
      ],
      "id": "57VeaWUZ5Ric",
      "execution_count": 169,
      "outputs": [
        {
          "output_type": "stream",
          "name": "stdout",
          "text": [
            "Epoch 1/10\n",
            "2348/2348 [==============================] - 37s 10ms/step - loss: 0.6182 - categorical_accuracy: 0.6274 - val_loss: 0.5772 - val_categorical_accuracy: 0.6485\n",
            "Epoch 2/10\n",
            "2348/2348 [==============================] - 23s 10ms/step - loss: 0.5587 - categorical_accuracy: 0.6605 - val_loss: 0.5560 - val_categorical_accuracy: 0.6592\n",
            "Epoch 3/10\n",
            "2348/2348 [==============================] - 23s 10ms/step - loss: 0.5348 - categorical_accuracy: 0.6758 - val_loss: 0.5545 - val_categorical_accuracy: 0.6626\n",
            "Epoch 4/10\n",
            "2348/2348 [==============================] - 23s 10ms/step - loss: 0.5170 - categorical_accuracy: 0.6868 - val_loss: 0.5514 - val_categorical_accuracy: 0.6659\n",
            "Epoch 5/10\n",
            "2348/2348 [==============================] - 22s 10ms/step - loss: 0.5012 - categorical_accuracy: 0.6966 - val_loss: 0.5494 - val_categorical_accuracy: 0.6627\n",
            "Epoch 6/10\n",
            "2348/2348 [==============================] - 22s 10ms/step - loss: 0.4858 - categorical_accuracy: 0.7065 - val_loss: 0.5568 - val_categorical_accuracy: 0.6657\n",
            "Epoch 7/10\n",
            "2348/2348 [==============================] - 22s 9ms/step - loss: 0.4709 - categorical_accuracy: 0.7168 - val_loss: 0.5610 - val_categorical_accuracy: 0.6652\n",
            "Epoch 8/10\n",
            "2348/2348 [==============================] - 22s 9ms/step - loss: 0.4569 - categorical_accuracy: 0.7244 - val_loss: 0.5742 - val_categorical_accuracy: 0.6610\n",
            "Epoch 9/10\n",
            "2348/2348 [==============================] - 22s 9ms/step - loss: 0.4428 - categorical_accuracy: 0.7335 - val_loss: 0.5832 - val_categorical_accuracy: 0.6596\n",
            "Epoch 10/10\n",
            "2348/2348 [==============================] - 21s 9ms/step - loss: 0.4298 - categorical_accuracy: 0.7425 - val_loss: 0.5955 - val_categorical_accuracy: 0.6515\n"
          ]
        },
        {
          "output_type": "execute_result",
          "data": {
            "text/plain": [
              "<tensorflow.python.keras.callbacks.History at 0x7efd55d479d0>"
            ]
          },
          "metadata": {},
          "execution_count": 169
        }
      ]
    },
    {
      "cell_type": "code",
      "metadata": {
        "id": "TDrY6-qt5cfV",
        "colab": {
          "base_uri": "https://localhost:8080/"
        },
        "outputId": "975b42b2-e797-410f-f50b-150aeef8690f"
      },
      "source": [
        "results = model4.predict(test_cmx)\n",
        "y_pred = np.argmax(results, axis=1)\n",
        "y_true = np.argmax(test_cmy1, axis=1)\n",
        "\n",
        "target_names = ['GEN','OBC','SC','ST']\n",
        "\n",
        "print(\"------------------RESULTS-------------------------------\")\n",
        "print(classification_report(y_true, y_pred))\n",
        "print(\"--------------------------------------------------------\")"
      ],
      "id": "TDrY6-qt5cfV",
      "execution_count": 167,
      "outputs": [
        {
          "output_type": "stream",
          "name": "stdout",
          "text": [
            "------------------RESULTS-------------------------------\n",
            "              precision    recall  f1-score   support\n",
            "\n",
            "           0       0.72      0.80      0.76     37550\n",
            "           1       0.57      0.56      0.56     21347\n",
            "           2       0.43      0.17      0.25      6102\n",
            "           3       0.67      0.51      0.58      2115\n",
            "\n",
            "    accuracy                           0.66     67114\n",
            "   macro avg       0.60      0.51      0.54     67114\n",
            "weighted avg       0.64      0.66      0.64     67114\n",
            "\n",
            "--------------------------------------------------------\n"
          ]
        }
      ]
    },
    {
      "cell_type": "code",
      "metadata": {
        "id": "GM0yj28CNPdQ"
      },
      "source": [
        "weights1 = class_weight.compute_sample_weight('balanced',train_cmy1)\n"
      ],
      "id": "GM0yj28CNPdQ",
      "execution_count": 170,
      "outputs": []
    },
    {
      "cell_type": "code",
      "metadata": {
        "colab": {
          "base_uri": "https://localhost:8080/"
        },
        "id": "FAGB_J9TRvbq",
        "outputId": "83ca1340-0db3-4f37-9503-3fc1e3f0fbf3"
      },
      "source": [
        "len(weights1)"
      ],
      "id": "FAGB_J9TRvbq",
      "execution_count": 172,
      "outputs": [
        {
          "output_type": "execute_result",
          "data": {
            "text/plain": [
              "234753"
            ]
          },
          "metadata": {},
          "execution_count": 172
        }
      ]
    },
    {
      "cell_type": "code",
      "metadata": {
        "colab": {
          "base_uri": "https://localhost:8080/"
        },
        "id": "rhzrToivR5wO",
        "outputId": "d0f47332-f4b4-463a-d8ff-a4167351d136"
      },
      "source": [
        "train_cmy1[20:40]"
      ],
      "id": "rhzrToivR5wO",
      "execution_count": 177,
      "outputs": [
        {
          "output_type": "execute_result",
          "data": {
            "text/plain": [
              "array([[1., 0., 0., 0.],\n",
              "       [1., 0., 0., 0.],\n",
              "       [1., 0., 0., 0.],\n",
              "       [0., 1., 0., 0.],\n",
              "       [1., 0., 0., 0.],\n",
              "       [1., 0., 0., 0.],\n",
              "       [1., 0., 0., 0.],\n",
              "       [1., 0., 0., 0.],\n",
              "       [1., 0., 0., 0.],\n",
              "       [1., 0., 0., 0.],\n",
              "       [1., 0., 0., 0.],\n",
              "       [1., 0., 0., 0.],\n",
              "       [0., 0., 1., 0.],\n",
              "       [1., 0., 0., 0.],\n",
              "       [0., 0., 1., 0.],\n",
              "       [1., 0., 0., 0.],\n",
              "       [1., 0., 0., 0.],\n",
              "       [0., 0., 1., 0.],\n",
              "       [1., 0., 0., 0.],\n",
              "       [0., 0., 0., 1.]])"
            ]
          },
          "metadata": {},
          "execution_count": 177
        }
      ]
    },
    {
      "cell_type": "code",
      "metadata": {
        "colab": {
          "base_uri": "https://localhost:8080/"
        },
        "id": "PTTPKDGRR99a",
        "outputId": "ec0092cc-5f9e-4360-a6c9-a07821203819"
      },
      "source": [
        "weights1[20:40]"
      ],
      "id": "PTTPKDGRR99a",
      "execution_count": 178,
      "outputs": [
        {
          "output_type": "execute_result",
          "data": {
            "text/plain": [
              "array([0.1866919 , 0.1866919 , 0.1866919 , 0.5035449 , 0.1866919 ,\n",
              "       0.1866919 , 0.1866919 , 0.1866919 , 0.1866919 , 0.1866919 ,\n",
              "       0.1866919 , 0.1866919 , 2.38207018, 0.1866919 , 2.38207018,\n",
              "       0.1866919 , 0.1866919 , 2.38207018, 0.1866919 , 7.11042649])"
            ]
          },
          "metadata": {},
          "execution_count": 178
        }
      ]
    },
    {
      "cell_type": "code",
      "metadata": {
        "id": "Yl7qMUAbR_OZ"
      },
      "source": [
        ""
      ],
      "id": "Yl7qMUAbR_OZ",
      "execution_count": null,
      "outputs": []
    },
    {
      "cell_type": "markdown",
      "metadata": {
        "id": "9loZ7l59S9jt"
      },
      "source": [
        "TWO CLASS CLASSIFICATION"
      ],
      "id": "9loZ7l59S9jt"
    },
    {
      "cell_type": "code",
      "metadata": {
        "colab": {
          "base_uri": "https://localhost:8080/"
        },
        "id": "u4FpqN4GTWu7",
        "outputId": "8174e2e2-6d83-4799-b837-0e45e15ad5b1"
      },
      "source": [
        "train_cmy1.shape"
      ],
      "id": "u4FpqN4GTWu7",
      "execution_count": 179,
      "outputs": [
        {
          "output_type": "execute_result",
          "data": {
            "text/plain": [
              "(234753, 4)"
            ]
          },
          "metadata": {},
          "execution_count": 179
        }
      ]
    },
    {
      "cell_type": "code",
      "metadata": {
        "id": "oRWeTvcYS_0-"
      },
      "source": [
        "train_cmy1_two_class = []\n",
        "test_cmy1_two_class = []\n",
        "val_cmy1_two_class = []"
      ],
      "id": "oRWeTvcYS_0-",
      "execution_count": 186,
      "outputs": []
    },
    {
      "cell_type": "code",
      "metadata": {
        "id": "yUXdINspUsRs"
      },
      "source": [
        "val_cmy1_two_class = []"
      ],
      "id": "yUXdINspUsRs",
      "execution_count": 191,
      "outputs": []
    },
    {
      "cell_type": "code",
      "metadata": {
        "id": "l_pyOvZOTguT"
      },
      "source": [
        "for elem in train_cmy1:\n",
        "  if (elem == [1,0,0,0]).all():\n",
        "    train_cmy1_two_class.append([1,0])\n",
        "  else:\n",
        "    train_cmy1_two_class.append([0,1])"
      ],
      "id": "l_pyOvZOTguT",
      "execution_count": 187,
      "outputs": []
    },
    {
      "cell_type": "code",
      "metadata": {
        "id": "sD6AJDCgUBbp"
      },
      "source": [
        "for elem in test_cmy1:\n",
        "  if (elem == [1,0,0,0]).all():\n",
        "    test_cmy1_two_class.append([1,0])\n",
        "  else:\n",
        "    test_cmy1_two_class.append([0,1])"
      ],
      "id": "sD6AJDCgUBbp",
      "execution_count": 188,
      "outputs": []
    },
    {
      "cell_type": "code",
      "metadata": {
        "id": "cwU907oRUuen"
      },
      "source": [
        "for elem in val_cmy1:\n",
        "  if (elem == [1,0,0,0]).all():\n",
        "    val_cmy1_two_class.append([1,0])\n",
        "  else:\n",
        "    val_cmy1_two_class.append([0,1])"
      ],
      "id": "cwU907oRUuen",
      "execution_count": 192,
      "outputs": []
    },
    {
      "cell_type": "code",
      "metadata": {
        "id": "JMcpjQxEVLSG"
      },
      "source": [
        "train_cmy1_two_class = np.array(train_cmy1_two_class)\n",
        "test_cmy1_two_class = np.array(test_cmy1_two_class)\n",
        "val_cmy1_two_class = np.array(val_cmy1_two_class)"
      ],
      "id": "JMcpjQxEVLSG",
      "execution_count": 196,
      "outputs": []
    },
    {
      "cell_type": "code",
      "metadata": {
        "colab": {
          "base_uri": "https://localhost:8080/"
        },
        "id": "3YmUBUGvT8ML",
        "outputId": "38c0bf22-0770-454d-adc1-5e4999a65a0e"
      },
      "source": [
        "input_ = Input(shape=(30,), name='input')\n",
        "embed = Embedding(len(voc), len(voc), name='embed')(input_)\n",
        "conv_1 = Conv1D(filters = 256, kernel_size = 7, activation = 'relu')(embed)\n",
        "flat_2 = Flatten()(conv_1)\n",
        "caste = Dense(2, activation='softmax', name='caste')(flat_2)\n",
        "model5 = Model(inputs= input_, outputs=caste)\n",
        "\n",
        "model5.compile(\n",
        "  loss='binary_crossentropy',\n",
        "  optimizer='adam',\n",
        "  metrics={\n",
        "      'caste':'binary_accuracy',\n",
        "  },\n",
        "  loss_weights=class_weight.compute_sample_weight('balanced',train_cmy1_two_class)\n",
        ")\n",
        "print(model5.summary())"
      ],
      "id": "3YmUBUGvT8ML",
      "execution_count": 210,
      "outputs": [
        {
          "output_type": "stream",
          "name": "stdout",
          "text": [
            "Model: \"model_37\"\n",
            "_________________________________________________________________\n",
            "Layer (type)                 Output Shape              Param #   \n",
            "=================================================================\n",
            "input (InputLayer)           [(None, 30)]              0         \n",
            "_________________________________________________________________\n",
            "embed (Embedding)            (None, 30, 28)            784       \n",
            "_________________________________________________________________\n",
            "conv1d_65 (Conv1D)           (None, 24, 256)           50432     \n",
            "_________________________________________________________________\n",
            "flatten_40 (Flatten)         (None, 6144)              0         \n",
            "_________________________________________________________________\n",
            "caste (Dense)                (None, 2)                 12290     \n",
            "=================================================================\n",
            "Total params: 63,506\n",
            "Trainable params: 63,506\n",
            "Non-trainable params: 0\n",
            "_________________________________________________________________\n",
            "None\n"
          ]
        }
      ]
    },
    {
      "cell_type": "code",
      "metadata": {
        "colab": {
          "base_uri": "https://localhost:8080/"
        },
        "id": "pPtHvpaAUdhu",
        "outputId": "8b764996-c2bc-4c19-fcd2-29228a41124b"
      },
      "source": [
        "model5.fit(\n",
        "    {'input':train_cmx},\n",
        "    { 'caste':train_cmy1_two_class},\n",
        "    validation_data= ({'input':val_cmx},\n",
        "    {'caste':val_cmy1_two_class}),\n",
        "    batch_size=100,\n",
        "    epochs=10,\n",
        ")"
      ],
      "id": "pPtHvpaAUdhu",
      "execution_count": 211,
      "outputs": [
        {
          "output_type": "stream",
          "name": "stdout",
          "text": [
            "Epoch 1/10\n",
            "2348/2348 [==============================] - 19s 8ms/step - loss: 0.6045 - binary_accuracy: 0.6653 - val_loss: 0.5734 - val_binary_accuracy: 0.6906\n",
            "Epoch 2/10\n",
            "2348/2348 [==============================] - 18s 8ms/step - loss: 0.5593 - binary_accuracy: 0.7023 - val_loss: 0.5584 - val_binary_accuracy: 0.6978\n",
            "Epoch 3/10\n",
            "2348/2348 [==============================] - 19s 8ms/step - loss: 0.5399 - binary_accuracy: 0.7176 - val_loss: 0.5541 - val_binary_accuracy: 0.7051\n",
            "Epoch 4/10\n",
            "2348/2348 [==============================] - 19s 8ms/step - loss: 0.5267 - binary_accuracy: 0.7273 - val_loss: 0.5457 - val_binary_accuracy: 0.7112\n",
            "Epoch 5/10\n",
            "2348/2348 [==============================] - 18s 8ms/step - loss: 0.5158 - binary_accuracy: 0.7364 - val_loss: 0.5416 - val_binary_accuracy: 0.7148\n",
            "Epoch 6/10\n",
            "2348/2348 [==============================] - 18s 8ms/step - loss: 0.5066 - binary_accuracy: 0.7434 - val_loss: 0.5597 - val_binary_accuracy: 0.7051\n",
            "Epoch 7/10\n",
            "2348/2348 [==============================] - 19s 8ms/step - loss: 0.4992 - binary_accuracy: 0.7487 - val_loss: 0.5500 - val_binary_accuracy: 0.7114\n",
            "Epoch 8/10\n",
            "2348/2348 [==============================] - 19s 8ms/step - loss: 0.4922 - binary_accuracy: 0.7531 - val_loss: 0.5522 - val_binary_accuracy: 0.7092\n",
            "Epoch 9/10\n",
            "2348/2348 [==============================] - 19s 8ms/step - loss: 0.4857 - binary_accuracy: 0.7579 - val_loss: 0.5525 - val_binary_accuracy: 0.7131\n",
            "Epoch 10/10\n",
            "2348/2348 [==============================] - 19s 8ms/step - loss: 0.4800 - binary_accuracy: 0.7617 - val_loss: 0.5531 - val_binary_accuracy: 0.7113\n"
          ]
        },
        {
          "output_type": "execute_result",
          "data": {
            "text/plain": [
              "<tensorflow.python.keras.callbacks.History at 0x7efd62a94850>"
            ]
          },
          "metadata": {},
          "execution_count": 211
        }
      ]
    },
    {
      "cell_type": "code",
      "metadata": {
        "colab": {
          "base_uri": "https://localhost:8080/"
        },
        "id": "JQ57BwznU1rQ",
        "outputId": "c924c93e-698e-43aa-b7e0-0e6c5be92798"
      },
      "source": [
        "results = model5.predict(test_cmx)\n",
        "y_pred = np.argmax(results, axis=1)\n",
        "y_true = np.argmax(test_cmy1_two_class, axis=1)\n",
        "\n",
        "target_names = ['GEN','RESERVED']\n",
        "\n",
        "print(\"------------------RESULTS-------------------------------\")\n",
        "print(classification_report(y_true, y_pred, target_names=target_names))\n",
        "print(\"--------------------------------------------------------\")"
      ],
      "id": "JQ57BwznU1rQ",
      "execution_count": 212,
      "outputs": [
        {
          "output_type": "stream",
          "name": "stdout",
          "text": [
            "------------------RESULTS-------------------------------\n",
            "              precision    recall  f1-score   support\n",
            "\n",
            "         GEN       0.75      0.73      0.74     37550\n",
            "    RESERVED       0.67      0.69      0.68     29564\n",
            "\n",
            "    accuracy                           0.72     67114\n",
            "   macro avg       0.71      0.71      0.71     67114\n",
            "weighted avg       0.72      0.72      0.72     67114\n",
            "\n",
            "--------------------------------------------------------\n"
          ]
        }
      ]
    },
    {
      "cell_type": "code",
      "metadata": {
        "id": "Tp2aniFxWPts"
      },
      "source": [
        ""
      ],
      "id": "Tp2aniFxWPts",
      "execution_count": null,
      "outputs": []
    },
    {
      "cell_type": "markdown",
      "metadata": {
        "id": "lxy5mGUFcNLb"
      },
      "source": [
        "TRYING WITH LSTM"
      ],
      "id": "lxy5mGUFcNLb"
    },
    {
      "cell_type": "code",
      "metadata": {
        "id": "bhgRCS-_cQgS"
      },
      "source": [
        ""
      ],
      "id": "bhgRCS-_cQgS",
      "execution_count": null,
      "outputs": []
    }
  ]
}