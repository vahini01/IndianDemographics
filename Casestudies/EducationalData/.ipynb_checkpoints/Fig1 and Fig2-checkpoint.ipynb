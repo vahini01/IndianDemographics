{
 "cells": [
  {
   "cell_type": "code",
   "execution_count": 27,
   "id": "24f9d1a8",
   "metadata": {},
   "outputs": [],
   "source": [
    "# Merged files\n",
    "# AIEEE\n",
    "AIEEE = \"/home/souvic/mounted/btp/ndata/extracted/Merged/\"\n",
    "AIEEE_2004 = AIEEE+\"AIEEE/aieee_2004.csv\"\n",
    "AIEEE_2005 = AIEEE+\"AIEEE/aieee_2005.csv\"\n",
    "AIEEE_2006 = AIEEE+\"AIEEE/aieee_2006.csv\"\n",
    "AIEEE_2007 = AIEEE+\"AIEEE/aieee_2007.csv\"\n",
    "AIEEE_2008 = AIEEE+\"AIEEE/aieee_2008.csv\"\n",
    "AIEEE_2009 = AIEEE+\"AIEEE/aieee_2009.csv\"\n",
    "AIEEE_2010 = AIEEE+\"AIEEE/aieee_2010.csv\"\n",
    "AIEEE_2011 = AIEEE+\"AIEEE/aieee_2011.csv\"\n",
    "AL = [AIEEE_2004, AIEEE_2005, AIEEE_2006, AIEEE_2007, AIEEE_2008, AIEEE_2009, AIEEE_2010, AIEEE_2011]\n",
    "\n",
    "# CBSE Class 12\n",
    "MCBSE_12 = \"/home/souvic/mounted/btp/ndata/extracted/Merged/CBSE12/\"\n",
    "MCB12_2004 = MCBSE_12 + \"2004.csv\"\n",
    "MCB12_2005 = MCBSE_12 + \"2005.csv\"\n",
    "MCB12_2006 = MCBSE_12 + \"2006.csv\"\n",
    "MCB12_2007 = MCBSE_12 + \"2007.csv\"\n",
    "MCB12_2008 = MCBSE_12 + \"2008.csv\"\n",
    "MCB12_2009 = MCBSE_12 + \"2009.csv\"\n",
    "MCB12_2010 = MCBSE_12 + \"2010.csv\"\n",
    "MCB12_2011 = MCBSE_12 + \"2011.csv\"\n",
    "MCB12_2012 = MCBSE_12 + \"2012.csv\"\n",
    "C12LM = [MCB12_2004, MCB12_2005, MCB12_2006, MCB12_2007, MCB12_2008, MCB12_2009, MCB12_2010, MCB12_2011, MCB12_2012]\n",
    "\n",
    "# CBSE Class 10\n",
    "MCBSE_10 = \"/home/souvic/mounted/btp/ndata/extracted/Merged/CBSE10/\"\n",
    "MCB10_2004 = MCBSE_10 + \"2004.csv\"\n",
    "MCB10_2005 = MCBSE_10 + \"2005.csv\"\n",
    "MCB10_2006 = MCBSE_10 + \"2006.csv\"\n",
    "MCB10_2007 = MCBSE_10 + \"2007.csv\"\n",
    "MCB10_2008 = MCBSE_10 + \"2008.csv\"\n",
    "MCB10_2009 = MCBSE_10 + \"2009.csv\"\n",
    "MCB10_2010 = MCBSE_10 + \"2010.csv\"\n",
    "C10LM = [MCB10_2004, MCB10_2005, MCB10_2006, MCB10_2007, MCB10_2008, MCB10_2009, MCB10_2010]\n",
    "\n",
    "CBSE_TRAIN = \"/home/souvic/mounted/btp/ndata/extracted/Merged/CBSETrain/\"\n",
    "CBSE_2014 = CBSE_TRAIN+\"cbse2014.csv\"\n",
    "CBSE_2015 = CBSE_TRAIN+\"cbse2015.csv\"\n",
    "\n",
    "# AIPMT\n",
    "MAIPMT = \"/home/souvic/mounted/btp/ndata/extracted/Merged/AIPMT/\"\n",
    "MAIPMT_2009 = MAIPMT+\"2009.csv\"\n",
    "MAIPMT_2010 = MAIPMT+\"2010.csv\"\n",
    "MAIPMT_2011 = MAIPMT + \"2011.csv\"\n",
    "\n",
    "MAPL = [MAIPMT_2009, MAIPMT_2010, MAIPMT_2011]"
   ]
  },
  {
   "cell_type": "code",
   "execution_count": null,
   "id": "f4ce7c3d",
   "metadata": {},
   "outputs": [],
   "source": [
    "# aieee=['AIEEE 2004', 'AIEEE 2005', 'AIEEE 2006', 'AIEEE 2007', 'AIEEE 2008', 'AIEEE 2009', 'AIEEE 2010', 'AIEEE 2011']\n",
    "# cb12 = ['CBSE 12 2004','CBSE 12 2005','CBSE 12 2006','CBSE 12 2007','CBSE 12 2008','CBSE 12 2009','CBSE 12 2010','CBSE 12 2011','CBSE 12 2012']\n",
    "# cb10 =  ['CBSE 10 2004','CBSE 10 2005','CBSE 10 2006','CBSE 10 2007','CBSE 10 2008','CBSE 10 2009','CBSE 10 2010']\n",
    "# cb = ['CBSE 12 2014', 'CBSE 12 2015']\n",
    "# aipmt = ['AIPMT 2009', 'AIPMT 2010', 'AIPMT 2011']\n",
    "# ranges = aieee+cb10+cb12+cb+aipmt"
   ]
  },
  {
   "cell_type": "code",
   "execution_count": 57,
   "id": "ceaeac56",
   "metadata": {},
   "outputs": [],
   "source": [
    "r_aieee = []\n",
    "r_cb10 = []\n",
    "r_cb12 = []\n",
    "r_aipmt = []\n",
    "w_aieee = []\n",
    "w_cb10 = []\n",
    "w_cb12 = []\n",
    "w_aipmt = []\n",
    "# data  = AL+C10LM+C12LM+[CBSE_2014, CBSE_2015]+MAPL\n",
    "d_aieee = AL\n",
    "d_cb10 = C10LM\n",
    "d_cb12 = C12LM + [CBSE_2014, CBSE_2015]\n",
    "d_aipmt  = MAPL\n",
    "\n",
    "for file in d_aieee:\n",
    "    df = pd.read_csv(file)\n",
    "    r = list(df.groupby('Caste').count()['name'])[1] / (df.shape[0])\n",
    "    r_aieee.append(r)\n",
    "    w = list(df.groupby('Gender').count()['name'])[1] / (df.shape[0])\n",
    "    w_aieee.append(w)\n",
    "  \n",
    "for i, elem in enumerate(r_aieee):\n",
    "    r_aieee[i] = round(elem*100, 2)\n",
    "    w_aieee[i] = round(w_aieee[i]*100, 2)\n",
    "    \n",
    "for file in d_cb10:\n",
    "    df = pd.read_csv(file)\n",
    "    r = list(df.groupby('Caste').count()['name'])[1] / (df.shape[0])\n",
    "    r_cb10.append(r)\n",
    "    w = list(df.groupby('Gender').count()['name'])[1] / (df.shape[0])\n",
    "    w_cb10.append(w)\n",
    "  \n",
    "for i, elem in enumerate(r_cb10):\n",
    "    r_cb10[i] = round(elem*100, 2)\n",
    "    w_cb10[i] = round(w_cb10[i]*100, 2)\n",
    "    \n",
    "for file in d_cb12:\n",
    "    df = pd.read_csv(file)\n",
    "    r = list(df.groupby('Caste').count()['name'])[1] / (df.shape[0])\n",
    "    r_cb12.append(r)\n",
    "    w = list(df.groupby('Gender').count()['name'])[1] / (df.shape[0])\n",
    "    w_cb12.append(w)\n",
    "  \n",
    "for i, elem in enumerate(r_cb12):\n",
    "    r_cb12[i] = round(elem*100, 2)\n",
    "    w_cb12[i] = round(w_cb12[i]*100, 2)\n",
    "    \n",
    "for file in d_aipmt:\n",
    "    df = pd.read_csv(file)\n",
    "    r = list(df.groupby('Caste').count()['name'])[1] / (df.shape[0])\n",
    "    r_aipmt.append(r)\n",
    "    w = list(df.groupby('Gender').count()['name'])[1] / (df.shape[0])\n",
    "    w_aipmt.append(w)\n",
    "  \n",
    "for i, elem in enumerate(r_aipmt):\n",
    "    r_aipmt[i] = round(elem*100, 2)\n",
    "    w_aipmt[i] = round(w_aipmt[i]*100, 2)"
   ]
  },
  {
   "cell_type": "code",
   "execution_count": 69,
   "id": "35bfed9f",
   "metadata": {},
   "outputs": [],
   "source": [
    "aieee_mask = [1,1,1,1,1,1,1,1,0,0,0,0]\n",
    "cb12 = [1,1,1,1,1,1,1,1,1,0,1,1]\n",
    "cb10 = [1,1,1,1,1,1,1,0,0,0,0,0]\n",
    "aipmt = [0,0,0,0,0,1,1,1,0,0,0,0]"
   ]
  },
  {
   "cell_type": "code",
   "execution_count": 70,
   "id": "7eb0de46",
   "metadata": {},
   "outputs": [],
   "source": [
    "aieee_mask = np.array(aieee_mask, dtype='bool')\n",
    "cb12 = np.array(cb12, dtype='bool')\n",
    "cb10 = np.array(cb10, dtype='bool')\n",
    "aipmt = np.array(aipmt, dtype='bool')"
   ]
  },
  {
   "cell_type": "code",
   "execution_count": 67,
   "id": "2ca56d3d",
   "metadata": {},
   "outputs": [
    {
     "name": "stdout",
     "output_type": "stream",
     "text": [
      "[ 0  1  2  3  4  5  6 10 11]\n"
     ]
    }
   ],
   "source": [
    "X_axis = np.arange(len(ranges))\n",
    "print(X_axis[cb12])"
   ]
  },
  {
   "cell_type": "code",
   "execution_count": 68,
   "id": "11d6dc49",
   "metadata": {},
   "outputs": [
    {
     "data": {
      "text/plain": [
       "[10.88, 10.69, 10.6, 10.77, 10.52, 10.91, 10.9, 10.76, 10.96, 29.0, 29.58]"
      ]
     },
     "execution_count": 68,
     "metadata": {},
     "output_type": "execute_result"
    }
   ],
   "source": [
    "r_cb12"
   ]
  },
  {
   "cell_type": "code",
   "execution_count": 111,
   "id": "167f3007",
   "metadata": {},
   "outputs": [
    {
     "data": {
      "image/png": "[encoded data removed]",
      "text/plain": [
       "<Figure size 640x480 with 1 Axes>"
      ]
     },
     "metadata": {
      "needs_background": "light"
     },
     "output_type": "display_data"
    }
   ],
   "source": [
    "import matplotlib.pyplot as plt\n",
    "import numpy as np\n",
    "from matplotlib.pyplot import figure\n",
    "\n",
    "figure(figsize=(8, 6), dpi=80)\n",
    "ranges = ['2004','2005','2006','2007','2008','2009','2010','2011','2012','2013','2014','2015']\n",
    "\n",
    "X_axis = np.arange(len(ranges))\n",
    "\n",
    "plt.xticks(X_axis, ranges, rotation=90)\n",
    "# plt.xlabel(\"Years\")\n",
    "plt.ylabel(\"Percentage of Students\")\n",
    "plt.title(\"Reserved distribution in Educational Data\")\n",
    "\n",
    "plt.plot(X_axis[aieee_mask], r_aieee, 'g-o', label='AIEEE', linewidth=2, solid_capstyle='round')\n",
    "plt.plot(X_axis[cb12], r_cb12, 'y-s', label ='CBSE 12', linewidth=2, solid_capstyle='round')\n",
    "plt.plot(X_axis[cb10], r_cb10, 'b-^', label = 'CBSE 10', linewidth=2, solid_capstyle='round')\n",
    "plt.plot(X_axis[aipmt],r_aipmt, 'r-D', label = 'AIPMT', linewidth=2, solid_capstyle='round')\n",
    "plt.plot(X_axis, [66.2]*len(X_axis), '--',label = 'Population Avg', color='black')\n",
    "\n",
    "plt.legend(loc='upper right')\n",
    "plt.show()"
   ]
  },
  {
   "cell_type": "code",
   "execution_count": 112,
   "id": "d490f954",
   "metadata": {},
   "outputs": [
    {
     "data": {
      "image/png": "[encoded data removed]",
      "text/plain": [
       "<Figure size 640x480 with 1 Axes>"
      ]
     },
     "metadata": {
      "needs_background": "light"
     },
     "output_type": "display_data"
    }
   ],
   "source": [
    "import matplotlib.pyplot as plt\n",
    "import numpy as np\n",
    "from matplotlib.pyplot import figure\n",
    "\n",
    "figure(figsize=(8, 6), dpi=80)\n",
    "ranges = ['2004','2005','2006','2007','2008','2009','2010','2011','2012','2013','2014','2015']\n",
    "\n",
    "X_axis = np.arange(len(ranges))\n",
    "\n",
    "plt.xticks(X_axis, ranges, rotation=90)\n",
    "# plt.xlabel(\"Years\")\n",
    "plt.ylabel(\"Percentage of Students\")\n",
    "plt.title(\"Women distribution in Educational Data\")\n",
    "\n",
    "plt.plot(X_axis[aieee_mask], w_aieee, 'g-o', label='AIEEE', linewidth=2, solid_capstyle='round')\n",
    "plt.plot(X_axis[cb12], w_cb12, 'y-s', label ='CBSE 12', linewidth=2, solid_capstyle='round')\n",
    "plt.plot(X_axis[cb10], w_cb10, 'b-^', label = 'CBSE 10', linewidth=2, solid_capstyle='round')\n",
    "plt.plot(X_axis[aipmt],w_aipmt, 'r-D', label = 'AIPMT', linewidth=2, solid_capstyle='round')\n",
    "plt.plot(X_axis, [48.25]*len(X_axis), '--',label = 'Population Avg', color='black')\n",
    "\n",
    "\n",
    "plt.legend()\n",
    "plt.show()"
   ]
  },
  {
   "cell_type": "markdown",
   "id": "831cd557",
   "metadata": {},
   "source": [
    "Merging the files"
   ]
  },
  {
   "cell_type": "code",
   "execution_count": 6,
   "id": "52a4c2a6",
   "metadata": {},
   "outputs": [],
   "source": [
    "# CBSE Class 10\n",
    "CBSE_12 = \"/home/souvic/mounted/btp/ndata/extracted/CBSEClass12/\"\n",
    "CB12_2004 = CBSE_12 + \"2004/\"\n",
    "CB12_2005 = CBSE_12 + \"2005/\"\n",
    "CB12_2006 = CBSE_12 + \"2006/\"\n",
    "CB12_2007 = CBSE_12 + \"2007/\"\n",
    "CB12_2008 = CBSE_12 + \"2008/\"\n",
    "CB12_2009 = CBSE_12 + \"2009/\"\n",
    "CB12_2010 = CBSE_12 + \"2010/\"\n",
    "CB12_2011 = CBSE_12 + \"2011/\"\n",
    "CB12_2012 = CBSE_12 + \"2012/\"\n",
    "C12L = [CB12_2004, CB12_2005, CB12_2006, CB12_2007, CB12_2008, CB12_2009, CB12_2010, CB12_2011, CB12_2012]\n",
    "\n",
    "# CBSE Class 12\n",
    "CBSE_10 = \"/home/souvic/mounted/btp/ndata/extracted/CBSEClass10/\"\n",
    "CB10_2004 = CBSE_10 + \"2004/\"\n",
    "CB10_2005 = CBSE_10 + \"2005/\"\n",
    "CB10_2006 = CBSE_10 + \"2006/\"\n",
    "CB10_2007 = CBSE_10 + \"2007/\"\n",
    "CB10_2008 = CBSE_10 + \"2008/\"\n",
    "CB10_2009 = CBSE_10 + \"2009/\"\n",
    "CB10_2010 = CBSE_10 + \"2010/\"\n",
    "C10L = [CB10_2004, CB10_2005, CB10_2006, CB10_2007, CB10_2008, CB10_2009, CB10_2010]\n",
    "\n",
    "# AIPMT\n",
    "AIPMT = \"/home/souvic/mounted/btp/ndata/extracted/aipmt/\"\n",
    "AIPMT_2009_0 = AIPMT+\"2009_0/\"\n",
    "AIPMT_2009_1 = AIPMT+\"2009_1/\"\n",
    "AIPMT_2009_2 = AIPMT+\"2009_2/\"\n",
    "\n",
    "AIPMT_2010_0 = AIPMT+\"2010_0/\"\n",
    "AIPMT_2010_1 = AIPMT+\"2010_1/\"\n",
    "AIPMT_2010_2 = AIPMT+\"2010_2/\"\n",
    "\n",
    "AIPMT_2011_0 = AIPMT + \"2011_0/\"\n",
    "AIPMT_2011_1 = AIPMT + \"2011_1/\"\n",
    "AIPMT_2011_2 = AIPMT + \"2011_2/\"\n",
    "AP9L = [AIPMT_2009_0, AIPMT_2009_1, AIPMT_2009_2]\n",
    "AP10L = [AIPMT_2010_0, AIPMT_2010_1, AIPMT_2010_2]\n",
    "AP11L = [AIPMT_2011_0, AIPMT_2011_1, AIPMT_2011_2]\n",
    "APL = [AP9L, AP10L, AP11L]"
   ]
  },
  {
   "cell_type": "code",
   "execution_count": 14,
   "id": "8f17a227",
   "metadata": {},
   "outputs": [
    {
     "name": "stdout",
     "output_type": "stream",
     "text": [
      "no\n",
      "no\n",
      "no\n",
      "no\n"
     ]
    }
   ],
   "source": [
    "import os\n",
    "import pandas as pd\n",
    "\n",
    "for i, cbse in enumerate(C12L):\n",
    "    files = os.listdir(cbse)\n",
    "    try:\n",
    "        files.remove('.ipynb_checkpoints')\n",
    "    except:\n",
    "        print(\"no\")\n",
    "    df = pd.concat([pd.read_csv(cbse+file) for file in files], ignore_index=True)\n",
    "    df.to_csv(C12LM[i])\n",
    "    "
   ]
  },
  {
   "cell_type": "code",
   "execution_count": 16,
   "id": "8c6b9825",
   "metadata": {},
   "outputs": [
    {
     "name": "stdout",
     "output_type": "stream",
     "text": [
      "no\n",
      "no\n",
      "no\n",
      "no\n",
      "no\n",
      "no\n",
      "no\n"
     ]
    }
   ],
   "source": [
    "for i, cbse in enumerate(C10L):\n",
    "    files = os.listdir(cbse)\n",
    "    try:\n",
    "        files.remove('.ipynb_checkpoints')\n",
    "    except:\n",
    "        print(\"no\")\n",
    "    df = pd.concat([pd.read_csv(cbse+file) for file in files], ignore_index=True)\n",
    "    df.to_csv(C10LM[i])"
   ]
  },
  {
   "cell_type": "code",
   "execution_count": 21,
   "id": "7bd17241",
   "metadata": {},
   "outputs": [
    {
     "name": "stdout",
     "output_type": "stream",
     "text": [
      "no\n",
      "no\n",
      "no\n",
      "no\n",
      "no\n",
      "no\n",
      "no\n",
      "no\n",
      "no\n"
     ]
    }
   ],
   "source": [
    "for i, aipmt in enumerate(APL):\n",
    "    \n",
    "    files = os.listdir(aipmt[0])\n",
    "    try:\n",
    "        files.remove('.ipynb_checkpoints')\n",
    "    except:\n",
    "        print(\"no\")\n",
    "    df0 = pd.concat([pd.read_csv(aipmt[0]+file) for file in files], ignore_index=True)\n",
    "    files = os.listdir(aipmt[1])\n",
    "    try:\n",
    "        files.remove('.ipynb_checkpoints')\n",
    "    except:\n",
    "        print(\"no\")\n",
    "    df1 = pd.concat([pd.read_csv(aipmt[1]+file) for file in files], ignore_index=True)\n",
    "    files = os.listdir(aipmt[2])\n",
    "    try:\n",
    "        files.remove('.ipynb_checkpoints')\n",
    "    except:\n",
    "        print(\"no\")\n",
    "    df2 = pd.concat([pd.read_csv(aipmt[2]+file) for file in files], ignore_index=True)\n",
    "    df = pd.concat([df0, df1, df2], ignore_index=True)\n",
    "    df.to_csv(MAPL[i])"
   ]
  },
  {
   "cell_type": "code",
   "execution_count": null,
   "id": "62f0651f",
   "metadata": {},
   "outputs": [],
   "source": []
  }
 ],
 "metadata": {
  "kernelspec": {
   "display_name": "Python [conda env:.conda-py38] *",
   "language": "python",
   "name": "conda-env-.conda-py38-py"
  },
  "language_info": {
   "codemirror_mode": {
    "name": "ipython",
    "version": 3
   },
   "file_extension": ".py",
   "mimetype": "text/x-python",
   "name": "python",
   "nbconvert_exporter": "python",
   "pygments_lexer": "ipython3",
   "version": "3.8.11"
  }
 },
 "nbformat": 4,
 "nbformat_minor": 5
}
