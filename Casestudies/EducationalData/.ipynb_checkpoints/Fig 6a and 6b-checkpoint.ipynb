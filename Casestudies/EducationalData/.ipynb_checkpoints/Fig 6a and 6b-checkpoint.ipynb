{
 "cells": [
  {
   "cell_type": "code",
   "execution_count": 4,
   "id": "621ad09c",
   "metadata": {},
   "outputs": [],
   "source": [
    "# Merged files\n",
    "# AIEEE\n",
    "AIEEE = \"/home/souvic/mounted/btp/ndata/extracted/Merged/\"\n",
    "AIEEE_2004 = AIEEE+\"AIEEE/aieee_2004.csv\"\n",
    "AIEEE_2005 = AIEEE+\"AIEEE/aieee_2005.csv\"\n",
    "AIEEE_2006 = AIEEE+\"AIEEE/aieee_2006.csv\"\n",
    "AIEEE_2007 = AIEEE+\"AIEEE/aieee_2007.csv\"\n",
    "AIEEE_2008 = AIEEE+\"AIEEE/aieee_2008.csv\"\n",
    "AIEEE_2009 = AIEEE+\"AIEEE/aieee_2009.csv\"\n",
    "AIEEE_2010 = AIEEE+\"AIEEE/aieee_2010.csv\"\n",
    "AIEEE_2011 = AIEEE+\"AIEEE/aieee_2011.csv\"\n",
    "AL = [AIEEE_2004, AIEEE_2005, AIEEE_2006, AIEEE_2007, AIEEE_2008, AIEEE_2009, AIEEE_2010, AIEEE_2011]"
   ]
  },
  {
   "cell_type": "code",
   "execution_count": 22,
   "id": "8079632e",
   "metadata": {},
   "outputs": [],
   "source": [
    "import pandas as pd\n",
    "import itertools\n",
    "from string import ascii_lowercase\n",
    "import numpy as np\n",
    "\n",
    "ai_2004 = pd.read_csv(AIEEE_2004)\n",
    "\n",
    "def preprocess_aieee(df):\n",
    "    df['state_no'] = [elem.replace('State Rank\\n( State code of eligibility :','') for elem in df['state_no']]    \n",
    "    df['state_no'] = [state.replace(\"\\xa0\",\"\") for state in df.state_no]\n",
    "    df['state_no'] = [elem.replace(')','') for elem in df['state_no']]\n",
    "    df['state_no'] = [state.strip() for state in df.state_no]\n",
    "    df['state_no'] = df.state_no.replace('', np.NaN)\n",
    "    df = df[df['state_no'].notna()]\n",
    "    df['state_no'] = [int(state) for state in df.state_no]\n",
    "    return df\n",
    "    \n",
    "\n",
    "def AIEEECaste():\n",
    "    states = pd.read_csv('/home/souvic/mounted/btp/vahini/Name2Demographics/Models/Data/AIEEEData/aieee_states.csv')\n",
    "    states = states.set_index('Code')\n",
    "    # Use 38 characters as length ( Name #state)\n",
    "    states['abbr'] = '00'\n",
    "    count = 0\n",
    "    for s in iter_all_strings():\n",
    "        states.abbr.iloc[count] = s\n",
    "        count += 1\n",
    "        if (count == 36):\n",
    "            break\n",
    "\n",
    "    dic = states.to_dict()\n",
    "    st = dic['abbr']\n",
    "\n",
    "    AL = [AIEEE_2004, AIEEE_2005, AIEEE_2006, AIEEE_2007, AIEEE_2008, AIEEE_2009, AIEEE_2010, AIEEE_2011]\n",
    "    for aieee in AL:\n",
    "        df = pd.read_csv(aieee)\n",
    "        preprocess_aieee(df)\n",
    "        df['state_no'] = [state.replace(\"\\xa0\",\"\") for state in df.state_no]\n",
    "        df['state_no'] = df.state_no.replace('', np.NaN)\n",
    "        df = df[df['state_no'].notna()]\n",
    "        df['state_no'] = [int(state) for state in df.state_no]\n",
    "        df['State'] = df['state_no'].map(states)\n",
    "#         df.to_csv(aieee)\n",
    "        import pdb; pdb.set_trace()\n",
    "        break"
   ]
  },
  {
   "cell_type": "code",
   "execution_count": 23,
   "id": "168cbb57",
   "metadata": {},
   "outputs": [
    {
     "ename": "NameError",
     "evalue": "name 'iter_all_strings' is not defined",
     "output_type": "error",
     "traceback": [
      "\u001b[0;31m---------------------------------------------------------------------------\u001b[0m",
      "\u001b[0;31mNameError\u001b[0m                                 Traceback (most recent call last)",
      "\u001b[0;32m/tmp/ipykernel_17339/310938362.py\u001b[0m in \u001b[0;36m<module>\u001b[0;34m\u001b[0m\n\u001b[0;32m----> 1\u001b[0;31m \u001b[0mAIEEECaste\u001b[0m\u001b[0;34m(\u001b[0m\u001b[0;34m)\u001b[0m\u001b[0;34m\u001b[0m\u001b[0;34m\u001b[0m\u001b[0m\n\u001b[0m",
      "\u001b[0;32m/tmp/ipykernel_17339/727833528.py\u001b[0m in \u001b[0;36mAIEEECaste\u001b[0;34m()\u001b[0m\n\u001b[1;32m     20\u001b[0m     \u001b[0mstates\u001b[0m\u001b[0;34m[\u001b[0m\u001b[0;34m'abbr'\u001b[0m\u001b[0;34m]\u001b[0m \u001b[0;34m=\u001b[0m \u001b[0;34m'00'\u001b[0m\u001b[0;34m\u001b[0m\u001b[0;34m\u001b[0m\u001b[0m\n\u001b[1;32m     21\u001b[0m     \u001b[0mcount\u001b[0m \u001b[0;34m=\u001b[0m \u001b[0;36m0\u001b[0m\u001b[0;34m\u001b[0m\u001b[0;34m\u001b[0m\u001b[0m\n\u001b[0;32m---> 22\u001b[0;31m     \u001b[0;32mfor\u001b[0m \u001b[0ms\u001b[0m \u001b[0;32min\u001b[0m \u001b[0miter_all_strings\u001b[0m\u001b[0;34m(\u001b[0m\u001b[0;34m)\u001b[0m\u001b[0;34m:\u001b[0m\u001b[0;34m\u001b[0m\u001b[0;34m\u001b[0m\u001b[0m\n\u001b[0m\u001b[1;32m     23\u001b[0m         \u001b[0mstates\u001b[0m\u001b[0;34m.\u001b[0m\u001b[0mabbr\u001b[0m\u001b[0;34m.\u001b[0m\u001b[0miloc\u001b[0m\u001b[0;34m[\u001b[0m\u001b[0mcount\u001b[0m\u001b[0;34m]\u001b[0m \u001b[0;34m=\u001b[0m \u001b[0ms\u001b[0m\u001b[0;34m\u001b[0m\u001b[0;34m\u001b[0m\u001b[0m\n\u001b[1;32m     24\u001b[0m         \u001b[0mcount\u001b[0m \u001b[0;34m+=\u001b[0m \u001b[0;36m1\u001b[0m\u001b[0;34m\u001b[0m\u001b[0;34m\u001b[0m\u001b[0m\n",
      "\u001b[0;31mNameError\u001b[0m: name 'iter_all_strings' is not defined"
     ]
    }
   ],
   "source": [
    "AIEEECaste()"
   ]
  },
  {
   "cell_type": "code",
   "execution_count": null,
   "id": "02a4f554",
   "metadata": {},
   "outputs": [],
   "source": []
  }
 ],
 "metadata": {
  "kernelspec": {
   "display_name": "Python [conda env:.conda-py38] *",
   "language": "python",
   "name": "conda-env-.conda-py38-py"
  },
  "language_info": {
   "codemirror_mode": {
    "name": "ipython",
    "version": 3
   },
   "file_extension": ".py",
   "mimetype": "text/x-python",
   "name": "python",
   "nbconvert_exporter": "python",
   "pygments_lexer": "ipython3",
   "version": "3.8.11"
  }
 },
 "nbformat": 4,
 "nbformat_minor": 5
}
