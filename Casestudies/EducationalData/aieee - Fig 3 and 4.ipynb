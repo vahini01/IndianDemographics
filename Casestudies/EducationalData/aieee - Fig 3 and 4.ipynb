{
 "cells": [
  {
   "cell_type": "code",
   "execution_count": 3,
   "id": "fdbbbf2b",
   "metadata": {},
   "outputs": [],
   "source": [
    "AIEEE = \"/home/souvic/mounted/btp/ndata/extracted/Merged/\"\n",
    "OAIEEE_2004 = AIEEE+\"AIEEE/aieee_2004.csv\"\n",
    "OAIEEE_2005 = AIEEE+\"AIEEE/aieee_2005.csv\"\n",
    "OAIEEE_2006 = AIEEE+\"AIEEE/aieee_2006.csv\"\n",
    "OAIEEE_2007 = AIEEE+\"AIEEE/aieee_2007.csv\"\n",
    "OAIEEE_2008 = AIEEE+\"AIEEE/aieee_2008.csv\"\n",
    "OAIEEE_2009 = AIEEE+\"AIEEE/aieee_2009.csv\"\n",
    "OAIEEE_2010 = AIEEE+\"AIEEE/aieee_2010.csv\"\n",
    "OAIEEE_2011 = AIEEE+\"AIEEE/aieee_2011.csv\"\n",
    "OAL = [OAIEEE_2004, OAIEEE_2005, OAIEEE_2006, OAIEEE_2007, OAIEEE_2008, OAIEEE_2009, OAIEEE_2010, OAIEEE_2011]\n",
    "year = ['2004','2005','2006','2007','2008','2009','2010','2011']"
   ]
  },
  {
   "cell_type": "code",
   "execution_count": 18,
   "id": "5cb47c74",
   "metadata": {},
   "outputs": [],
   "source": [
    "import numpy as np\n",
    "import pandas as pd\n",
    "\n",
    "df  = pd.read_csv(OAIEEE_2011)\n",
    "df['air_btech'] = [str(elem).replace('------\\xa0', '') for elem in df['air_btech']]\n",
    "df['air_btech'] = [str(elem).replace('nan', '') for elem in df['air_btech']]\n",
    "df['air_btech'] = df.air_btech.replace('', np.NaN)\n",
    "df = df[df['air_btech'].notna()]\n",
    "df['air_btech'] = [int(elem) for elem in df['air_btech']]"
   ]
  },
  {
   "cell_type": "code",
   "execution_count": 19,
   "id": "8fc18416",
   "metadata": {},
   "outputs": [],
   "source": [
    "df = df.sort_values(by='air_btech')\n",
    "df = df.reset_index(drop=True)"
   ]
  },
  {
   "cell_type": "code",
   "execution_count": 5,
   "id": "7afdc93a",
   "metadata": {},
   "outputs": [],
   "source": [
    "top1 = df[:115]\n",
    "top100 = df[:1150]\n",
    "gtop1 = top1[top1['category']=='GEN']\n",
    "gtop100 = top100[top100['category']=='GEN']"
   ]
  },
  {
   "cell_type": "code",
   "execution_count": 6,
   "id": "fa960533",
   "metadata": {},
   "outputs": [
    {
     "name": "stdout",
     "output_type": "stream",
     "text": [
      "58.0\n",
      "548.0\n"
     ]
    }
   ],
   "source": [
    "print(pd.Series(list(gtop1.index)).median())\n",
    "print(pd.Series(list(gtop100.index)).median())"
   ]
  },
  {
   "cell_type": "code",
   "execution_count": 7,
   "id": "eb242044",
   "metadata": {},
   "outputs": [],
   "source": [
    "generals = df[df['category']=='GEN']"
   ]
  },
  {
   "cell_type": "code",
   "execution_count": 8,
   "id": "953e424c",
   "metadata": {},
   "outputs": [
    {
     "data": {
      "text/plain": [
       "52212.0"
      ]
     },
     "execution_count": 8,
     "metadata": {},
     "output_type": "execute_result"
    }
   ],
   "source": [
    "pd.Series(list(generals.index)).median()"
   ]
  },
  {
   "cell_type": "code",
   "execution_count": 9,
   "id": "882bcf1d",
   "metadata": {},
   "outputs": [
    {
     "data": {
      "text/plain": [
       "(61755, 20)"
      ]
     },
     "execution_count": 9,
     "metadata": {},
     "output_type": "execute_result"
    }
   ],
   "source": [
    "generals.shape"
   ]
  },
  {
   "cell_type": "code",
   "execution_count": 10,
   "id": "323a5143",
   "metadata": {},
   "outputs": [
    {
     "data": {
      "text/plain": [
       "(115516, 20)"
      ]
     },
     "execution_count": 10,
     "metadata": {},
     "output_type": "execute_result"
    }
   ],
   "source": [
    "df.shape"
   ]
  },
  {
   "cell_type": "code",
   "execution_count": 11,
   "id": "ce0b5f80",
   "metadata": {},
   "outputs": [],
   "source": [
    "top1 = df[:115]\n",
    "top100 = df[:1150]\n",
    "wtop1 = top1[top1['Gender']==1]\n",
    "wtop100 = top100[top100['Gender']==1]\n",
    "w = df[df['Gender']==1]"
   ]
  },
  {
   "cell_type": "code",
   "execution_count": 12,
   "id": "f517f3b0",
   "metadata": {},
   "outputs": [
    {
     "name": "stdout",
     "output_type": "stream",
     "text": [
      "(29502, 20)\n",
      "(17, 20)\n",
      "(192, 20)\n"
     ]
    }
   ],
   "source": [
    "print(w.shape)\n",
    "print(wtop1.shape)\n",
    "print(wtop100.shape)"
   ]
  },
  {
   "cell_type": "code",
   "execution_count": 13,
   "id": "656db332",
   "metadata": {},
   "outputs": [
    {
     "name": "stdout",
     "output_type": "stream",
     "text": [
      "52.0\n",
      "558.5\n",
      "58960.5\n"
     ]
    }
   ],
   "source": [
    "print(pd.Series(list(wtop1.index)).median())\n",
    "print(pd.Series(list(wtop100.index)).median())\n",
    "print(pd.Series(list(w.index)).median())\n"
   ]
  },
  {
   "cell_type": "code",
   "execution_count": 14,
   "id": "2a549416",
   "metadata": {},
   "outputs": [],
   "source": [
    "#  52/115 = 45.22%\n",
    "#  558.5/1150 = 48.56%\n",
    "#  "
   ]
  },
  {
   "cell_type": "code",
   "execution_count": 15,
   "id": "6737ebdb",
   "metadata": {},
   "outputs": [
    {
     "data": {
      "text/plain": [
       "(86014, 20)"
      ]
     },
     "execution_count": 15,
     "metadata": {},
     "output_type": "execute_result"
    }
   ],
   "source": [
    "df[df['Gender']==0].shape"
   ]
  },
  {
   "cell_type": "code",
   "execution_count": 17,
   "id": "f22abe2c",
   "metadata": {},
   "outputs": [
    {
     "data": {
      "text/plain": [
       "{'GEN', 'GENSub-PH', 'OBC', 'OBCSub-PH', 'SC', 'SCSub-PH', 'ST', 'STSub-PH'}"
      ]
     },
     "execution_count": 17,
     "metadata": {},
     "output_type": "execute_result"
    }
   ],
   "source": [
    "set(df['category'])"
   ]
  },
  {
   "cell_type": "code",
   "execution_count": 30,
   "id": "9f423fa5",
   "metadata": {},
   "outputs": [
    {
     "name": "stdout",
     "output_type": "stream",
     "text": [
      "GEN + GENSub-PH\n",
      "Number of Students:  62059\n",
      "Median rank of GEN : 52248.0 \n",
      "Median rank of GEN in Top 1% Students: 58.0 (Number : 107)\n",
      "Median rank of GEN in Top 10% Students: 549.5 (Number: 964)\n",
      "______________________________\n",
      "OBC + OBCSub-PH\n",
      "Number of Students:  38587\n",
      "Median rank of OBC : 61033.0 \n",
      "Median rank of OBC in Top 1% Students: 51.0 (Number : 8)\n",
      "Median rank of OBC in Top 10% Students: 704.0 (Number: 171)\n",
      "______________________________\n",
      "SC + SCSub-PH\n",
      "Number of Students:  10787\n",
      "Median rank of SC : 69365.0 \n",
      "Median rank of SC in Top 1% Students: nan (Number : 0)\n",
      "Median rank of SC in Top 10% Students: 632.0 (Number: 11)\n",
      "______________________________\n",
      "ST + STSub-PH\n",
      "Number of Students:  4083\n",
      "Median rank of ST : 71419.0 \n",
      "Median rank of ST in Top 1% Students: nan (Number : 0)\n",
      "Median rank of ST in Top 10% Students: 930.0 (Number: 4)\n",
      "______________________________\n"
     ]
    },
    {
     "name": "stderr",
     "output_type": "stream",
     "text": [
      "/tmp/ipykernel_20431/1514370459.py:12: DeprecationWarning: The default dtype for empty Series will be 'object' instead of 'float64' in a future version. Specify a dtype explicitly to silence this warning.\n",
      "  print(f\"Median rank of {cat} in Top 1% Students: {pd.Series(list(ctop1.index)).median()} (Number : {ctop1.shape[0]})\")\n",
      "/tmp/ipykernel_20431/1514370459.py:12: DeprecationWarning: The default dtype for empty Series will be 'object' instead of 'float64' in a future version. Specify a dtype explicitly to silence this warning.\n",
      "  print(f\"Median rank of {cat} in Top 1% Students: {pd.Series(list(ctop1.index)).median()} (Number : {ctop1.shape[0]})\")\n"
     ]
    }
   ],
   "source": [
    "category = ['GEN','OBC','SC','ST']\n",
    "top1 = df[:115]\n",
    "top100 = df[:1150]\n",
    "\n",
    "for cat in category:\n",
    "    print(cat,\"+\", cat+\"Sub-PH\")\n",
    "    cat_df = df[(df['category']==cat) | (df['category']==cat+\"Sub-PH\")]\n",
    "    print(\"Number of Students: \", cat_df.shape[0])\n",
    "    ctop1 = top1[(top1['category']==cat) | (top1['category']==cat+\"Sub-PH\")]\n",
    "    ctop100 = top100[(top100['category']==cat) | (top100['category']==cat+\"Sub-PH\")]\n",
    "    print(f\"Median rank of {cat} : {pd.Series(list(cat_df.index)).median()} \")\n",
    "    print(f\"Median rank of {cat} in Top 1% Students: {pd.Series(list(ctop1.index)).median()} (Number : {ctop1.shape[0]})\")\n",
    "    print(f\"Median rank of {cat} in Top 10% Students: {pd.Series(list(ctop100.index)).median()} (Number: {ctop100.shape[0]})\")\n",
    "    print(\"_\"*30)    "
   ]
  },
  {
   "cell_type": "code",
   "execution_count": null,
   "id": "d8746bf1",
   "metadata": {},
   "outputs": [],
   "source": [
    "# category = ['GEN','OBC','SC','ST']\n",
    "gender = [0, 1]\n",
    "top1 = df[:115]\n",
    "top100 = df[:1150]\n",
    "\n",
    "for g in gender:\n",
    "    if g == 0:\n",
    "        cat = \"Male\"\n",
    "    else:\n",
    "        cat = \"Female\"\n",
    "    print(cat)\n",
    "    cat_df = df[(df['Gender']==g)]\n",
    "    print(\"Number of Students: \", cat_df.shape[0])\n",
    "    ctop1 = top1[(top1['Gender']==g)]\n",
    "    ctop100 = top100[top100['Gender']==g]\n",
    "    print(f\"Median rank of {cat} : {pd.Series(list(cat_df.index)).median()}\")\n",
    "    print(f\"Median rank of {cat} in Top 1% Students: {pd.Series(list(ctop1.index)).median()} (Number : {ctop1.shape[0]})\")\n",
    "    print(f\"Median rank of {cat} in Top 10% Students: {pd.Series(list(ctop100.index)).median()} (Number: {ctop100.shape[0]})\")\n",
    "    print(\"_\"*30) "
   ]
  },
  {
   "cell_type": "code",
   "execution_count": null,
   "id": "64c5b456",
   "metadata": {},
   "outputs": [],
   "source": []
  },
  {
   "cell_type": "code",
   "execution_count": 57,
   "id": "6bc5e969",
   "metadata": {},
   "outputs": [],
   "source": [
    "import numpy as np\n",
    "import pandas as pd\n",
    "\n",
    "def preprocess_df(df):\n",
    "    df['air_btech'] = [str(elem).replace('\\xa0', '') for elem in df['air_btech']]\n",
    "    df['air_btech'] = [str(elem).replace('------', '') for elem in df['air_btech']]\n",
    "    df['air_btech'] = [str(elem).replace('*', '') for elem in df['air_btech']]\n",
    "    df['air_btech'] = [str(elem).replace('&', '') for elem in df['air_btech']]\n",
    "    df['air_btech'] = [str(elem).replace('+', '') for elem in df['air_btech']]\n",
    "    df['air_btech'] = [str(elem).replace('#', '') for elem in df['air_btech']]\n",
    "    df['air_btech'] = [str(elem).replace('@', '') for elem in df['air_btech']]\n",
    "    df['air_btech'] = [str(elem).replace('$', '') for elem in df['air_btech']]\n",
    "    df['air_btech'] = [str(elem).replace('=', '') for elem in df['air_btech']]\n",
    "    df['air_btech'] = [str(elem).replace('-', '') for elem in df['air_btech']]\n",
    "    df['air_btech'] = [str(elem).replace('%', '') for elem in df['air_btech']]\n",
    "    df['air_btech'] = [str(elem).replace('{', '') for elem in df['air_btech']]\n",
    "    df['air_btech'] = [str(elem).replace('}', '') for elem in df['air_btech']]\n",
    "    df['air_btech'] = [str(elem).replace('~', '') for elem in df['air_btech']]\n",
    "    df['air_btech'] = [str(elem).replace('>', '') for elem in df['air_btech']]\n",
    "\n",
    "    df['air_btech'] = [str(elem).replace('nan', '') for elem in df['air_btech']]\n",
    "    df['air_btech'] = [str(elem).strip() for elem in df['air_btech']]\n",
    "                                                                 \n",
    "    df['air_btech'] = df.air_btech.replace('', np.NaN)\n",
    "#     df['air_btech'] = pd.to_numeric(df['air_btech'], errors='coerce')\n",
    "    df = df[df['air_btech'].notna()]\n",
    "    df['air_btech'] = [int(elem) for elem in df['air_btech']]\n",
    "    return df\n",
    "\n",
    "def get_median_percentile(df):\n",
    "    df = df.sort_values(by='air_btech')\n",
    "    df = df.reset_index(drop=True)\n",
    "\n",
    "    # category = ['GEN','OBC','SC','ST']\n",
    "    gender = [1]\n",
    "    caste = [1]\n",
    "    count = int(df.shape[0]*0.01)\n",
    "    top1 = df[:count]\n",
    "    top100 = df[:count*10]\n",
    "#     print(count)\n",
    "    \n",
    "    w = []\n",
    "    r = []\n",
    "\n",
    "    for g in gender:\n",
    "        if g == 0:\n",
    "            cat = \"Male\"\n",
    "        else:\n",
    "            cat = \"Female\"\n",
    "        print(cat)\n",
    "        cat_df = df[(df['Gender']==g)]\n",
    "        print(\"Number of Students: \", cat_df.shape[0])\n",
    "        ctop1 = top1[(top1['Gender']==g)]\n",
    "        ctop100 = top100[top100['Gender']==g]\n",
    "        print(f\"Median rank of {cat} : {pd.Series(list(cat_df.index)).median()}\")\n",
    "        print(f\"Median rank of {cat} in Top 1% Students: {pd.Series(list(ctop1.index)).median()} (Number : {ctop1.shape[0]})\")\n",
    "        print(f\"Median rank of {cat} in Top 10% Students: {pd.Series(list(ctop100.index)).median()} (Number: {ctop100.shape[0]})\")\n",
    "        w.append(round(pd.Series(list(cat_df.index)).median() / df.shape[0] * 100 , 2) )\n",
    "        w.append(round(pd.Series(list(ctop1.index)).median() / top1.shape[0] * 100 , 2))\n",
    "        w.append(round(pd.Series(list(ctop100.index)).median() / top100.shape[0] * 100 , 2))\n",
    "        print(\"_\"*30) \n",
    "        \n",
    "    for g in caste:\n",
    "        if g == 0:\n",
    "            cat = \"General\"\n",
    "        else:\n",
    "            cat = \"Reserved\"\n",
    "        print(cat)\n",
    "        cat_df = df[(df['Caste']==g)]\n",
    "        print(\"Number of Students: \", cat_df.shape[0])\n",
    "        ctop1 = top1[(top1['Caste']==g)]\n",
    "        ctop100 = top100[top100['Caste']==g]\n",
    "        print(f\"Median rank of {cat} : {pd.Series(list(cat_df.index)).median()}\")\n",
    "        print(f\"Median rank of {cat} in Top 1% Students: {pd.Series(list(ctop1.index)).median()} (Number : {ctop1.shape[0]})\")\n",
    "        print(f\"Median rank of {cat} in Top 10% Students: {pd.Series(list(ctop100.index)).median()} (Number: {ctop100.shape[0]})\")\n",
    "        r.append(round(pd.Series(list(cat_df.index)).median() / df.shape[0] * 100 , 2) )\n",
    "        r.append(round(pd.Series(list(ctop1.index)).median() / top1.shape[0] * 100 , 2))\n",
    "        r.append(round(pd.Series(list(ctop100.index)).median() / top100.shape[0] * 100 , 2))\n",
    "        print(\"_\"*30)\n",
    "    return w, r"
   ]
  },
  {
   "cell_type": "code",
   "execution_count": 58,
   "id": "e1d2761c",
   "metadata": {},
   "outputs": [
    {
     "name": "stdout",
     "output_type": "stream",
     "text": [
      "/home/souvic/mounted/btp/ndata/extracted/Merged/AIEEE/aieee_2004.csv\n"
     ]
    },
    {
     "name": "stderr",
     "output_type": "stream",
     "text": [
      "/tmp/ipykernel_8618/400951217.py:27: SettingWithCopyWarning: \n",
      "A value is trying to be set on a copy of a slice from a DataFrame.\n",
      "Try using .loc[row_indexer,col_indexer] = value instead\n",
      "\n",
      "See the caveats in the documentation: https://pandas.pydata.org/pandas-docs/stable/user_guide/indexing.html#returning-a-view-versus-a-copy\n",
      "  df['air_btech'] = [int(elem) for elem in df['air_btech']]\n"
     ]
    },
    {
     "name": "stdout",
     "output_type": "stream",
     "text": [
      "Female\n",
      "Number of Students:  6521\n",
      "Median rank of Female : 15384.0\n",
      "Median rank of Female in Top 1% Students: 149.0 (Number : 41)\n",
      "Median rank of Female in Top 10% Students: 1707.0 (Number: 535)\n",
      "______________________________\n",
      "Reserved\n",
      "Number of Students:  12314\n",
      "Median rank of Reserved : 16710.0\n",
      "Median rank of Reserved in Top 1% Students: 178.0 (Number : 95)\n",
      "Median rank of Reserved in Top 10% Students: 1617.0 (Number: 959)\n",
      "______________________________\n",
      "______________________________\n",
      "/home/souvic/mounted/btp/ndata/extracted/Merged/AIEEE/aieee_2005.csv\n"
     ]
    },
    {
     "name": "stderr",
     "output_type": "stream",
     "text": [
      "/tmp/ipykernel_8618/400951217.py:27: SettingWithCopyWarning: \n",
      "A value is trying to be set on a copy of a slice from a DataFrame.\n",
      "Try using .loc[row_indexer,col_indexer] = value instead\n",
      "\n",
      "See the caveats in the documentation: https://pandas.pydata.org/pandas-docs/stable/user_guide/indexing.html#returning-a-view-versus-a-copy\n",
      "  df['air_btech'] = [int(elem) for elem in df['air_btech']]\n"
     ]
    },
    {
     "name": "stdout",
     "output_type": "stream",
     "text": [
      "Female\n",
      "Number of Students:  9124\n",
      "Median rank of Female : 21215.5\n",
      "Median rank of Female in Top 1% Students: 267.5 (Number : 50)\n",
      "Median rank of Female in Top 10% Students: 2502.0 (Number: 683)\n",
      "______________________________\n",
      "Reserved\n",
      "Number of Students:  17325\n",
      "Median rank of Reserved : 24342.0\n",
      "Median rank of Reserved in Top 1% Students: 193.5 (Number : 120)\n",
      "Median rank of Reserved in Top 10% Students: 2322.5 (Number: 1398)\n",
      "______________________________\n",
      "______________________________\n",
      "/home/souvic/mounted/btp/ndata/extracted/Merged/AIEEE/aieee_2006.csv\n"
     ]
    },
    {
     "name": "stderr",
     "output_type": "stream",
     "text": [
      "/tmp/ipykernel_8618/400951217.py:27: SettingWithCopyWarning: \n",
      "A value is trying to be set on a copy of a slice from a DataFrame.\n",
      "Try using .loc[row_indexer,col_indexer] = value instead\n",
      "\n",
      "See the caveats in the documentation: https://pandas.pydata.org/pandas-docs/stable/user_guide/indexing.html#returning-a-view-versus-a-copy\n",
      "  df['air_btech'] = [int(elem) for elem in df['air_btech']]\n"
     ]
    },
    {
     "name": "stdout",
     "output_type": "stream",
     "text": [
      "Female\n",
      "Number of Students:  12214\n",
      "Median rank of Female : 26392.5\n",
      "Median rank of Female in Top 1% Students: 266.0 (Number : 67)\n",
      "Median rank of Female in Top 10% Students: 3137.0 (Number: 976)\n",
      "______________________________\n",
      "Reserved\n",
      "Number of Students:  22147\n",
      "Median rank of Reserved : 29317.0\n",
      "Median rank of Reserved in Top 1% Students: 256.0 (Number : 169)\n",
      "Median rank of Reserved in Top 10% Students: 2860.5 (Number: 1778)\n",
      "______________________________\n",
      "______________________________\n",
      "/home/souvic/mounted/btp/ndata/extracted/Merged/AIEEE/aieee_2007.csv\n"
     ]
    },
    {
     "name": "stderr",
     "output_type": "stream",
     "text": [
      "/tmp/ipykernel_8618/400951217.py:27: SettingWithCopyWarning: \n",
      "A value is trying to be set on a copy of a slice from a DataFrame.\n",
      "Try using .loc[row_indexer,col_indexer] = value instead\n",
      "\n",
      "See the caveats in the documentation: https://pandas.pydata.org/pandas-docs/stable/user_guide/indexing.html#returning-a-view-versus-a-copy\n",
      "  df['air_btech'] = [int(elem) for elem in df['air_btech']]\n"
     ]
    },
    {
     "name": "stdout",
     "output_type": "stream",
     "text": [
      "Female\n",
      "Number of Students:  15863\n",
      "Median rank of Female : 31831.0\n",
      "Median rank of Female in Top 1% Students: 313.0 (Number : 82)\n",
      "Median rank of Female in Top 10% Students: 3741.5 (Number: 1206)\n",
      "______________________________\n",
      "Reserved\n",
      "Number of Students:  27061\n",
      "Median rank of Reserved : 36541.0\n",
      "Median rank of Reserved in Top 1% Students: 381.0 (Number : 175)\n",
      "Median rank of Reserved in Top 10% Students: 3545.5 (Number: 2102)\n",
      "______________________________\n",
      "______________________________\n",
      "/home/souvic/mounted/btp/ndata/extracted/Merged/AIEEE/aieee_2008.csv\n"
     ]
    },
    {
     "name": "stderr",
     "output_type": "stream",
     "text": [
      "/tmp/ipykernel_8618/400951217.py:27: SettingWithCopyWarning: \n",
      "A value is trying to be set on a copy of a slice from a DataFrame.\n",
      "Try using .loc[row_indexer,col_indexer] = value instead\n",
      "\n",
      "See the caveats in the documentation: https://pandas.pydata.org/pandas-docs/stable/user_guide/indexing.html#returning-a-view-versus-a-copy\n",
      "  df['air_btech'] = [int(elem) for elem in df['air_btech']]\n"
     ]
    },
    {
     "name": "stdout",
     "output_type": "stream",
     "text": [
      "Female\n",
      "Number of Students:  22907\n",
      "Median rank of Female : 41224.0\n",
      "Median rank of Female in Top 1% Students: 492.0 (Number : 157)\n",
      "Median rank of Female in Top 10% Students: 4848.0 (Number: 2109)\n",
      "______________________________\n",
      "Reserved\n",
      "Number of Students:  36539\n",
      "Median rank of Reserved : 48637.0\n",
      "Median rank of Reserved in Top 1% Students: 405.0 (Number : 215)\n",
      "Median rank of Reserved in Top 10% Students: 4710.0 (Number: 2697)\n",
      "______________________________\n",
      "______________________________\n",
      "/home/souvic/mounted/btp/ndata/extracted/Merged/AIEEE/aieee_2009.csv\n"
     ]
    },
    {
     "name": "stderr",
     "output_type": "stream",
     "text": [
      "/tmp/ipykernel_8618/400951217.py:27: SettingWithCopyWarning: \n",
      "A value is trying to be set on a copy of a slice from a DataFrame.\n",
      "Try using .loc[row_indexer,col_indexer] = value instead\n",
      "\n",
      "See the caveats in the documentation: https://pandas.pydata.org/pandas-docs/stable/user_guide/indexing.html#returning-a-view-versus-a-copy\n",
      "  df['air_btech'] = [int(elem) for elem in df['air_btech']]\n"
     ]
    },
    {
     "name": "stdout",
     "output_type": "stream",
     "text": [
      "Female\n",
      "Number of Students:  28409\n",
      "Median rank of Female : 51276.0\n",
      "Median rank of Female in Top 1% Students: 613.0 (Number : 179)\n",
      "Median rank of Female in Top 10% Students: 5855.0 (Number: 2543)\n",
      "______________________________\n",
      "Reserved\n",
      "Number of Students:  44895\n",
      "Median rank of Reserved : 57936.0\n",
      "Median rank of Reserved in Top 1% Students: 526.0 (Number : 240)\n",
      "Median rank of Reserved in Top 10% Students: 5748.5 (Number: 3356)\n",
      "______________________________\n",
      "______________________________\n",
      "/home/souvic/mounted/btp/ndata/extracted/Merged/AIEEE/aieee_2010.csv\n"
     ]
    },
    {
     "name": "stderr",
     "output_type": "stream",
     "text": [
      "/tmp/ipykernel_8618/400951217.py:27: SettingWithCopyWarning: \n",
      "A value is trying to be set on a copy of a slice from a DataFrame.\n",
      "Try using .loc[row_indexer,col_indexer] = value instead\n",
      "\n",
      "See the caveats in the documentation: https://pandas.pydata.org/pandas-docs/stable/user_guide/indexing.html#returning-a-view-versus-a-copy\n",
      "  df['air_btech'] = [int(elem) for elem in df['air_btech']]\n"
     ]
    },
    {
     "name": "stdout",
     "output_type": "stream",
     "text": [
      "Female\n",
      "Number of Students:  31210\n",
      "Median rank of Female : 58969.5\n",
      "Median rank of Female in Top 1% Students: 645.5 (Number : 200)\n",
      "Median rank of Female in Top 10% Students: 6486.5 (Number: 2636)\n",
      "______________________________\n",
      "Reserved\n",
      "Number of Students:  50115\n",
      "Median rank of Reserved : 63051.0\n",
      "Median rank of Reserved in Top 1% Students: 613.5 (Number : 272)\n",
      "Median rank of Reserved in Top 10% Students: 6307.5 (Number: 3562)\n",
      "______________________________\n",
      "______________________________\n",
      "/home/souvic/mounted/btp/ndata/extracted/Merged/AIEEE/aieee_2011.csv\n"
     ]
    },
    {
     "name": "stderr",
     "output_type": "stream",
     "text": [
      "/tmp/ipykernel_8618/400951217.py:27: SettingWithCopyWarning: \n",
      "A value is trying to be set on a copy of a slice from a DataFrame.\n",
      "Try using .loc[row_indexer,col_indexer] = value instead\n",
      "\n",
      "See the caveats in the documentation: https://pandas.pydata.org/pandas-docs/stable/user_guide/indexing.html#returning-a-view-versus-a-copy\n",
      "  df['air_btech'] = [int(elem) for elem in df['air_btech']]\n"
     ]
    },
    {
     "name": "stdout",
     "output_type": "stream",
     "text": [
      "Female\n",
      "Number of Students:  29502\n",
      "Median rank of Female : 58960.5\n",
      "Median rank of Female in Top 1% Students: 558.5 (Number : 192)\n",
      "Median rank of Female in Top 10% Students: 6217.0 (Number: 2442)\n",
      "______________________________\n",
      "Reserved\n",
      "Number of Students:  50883\n",
      "Median rank of Reserved : 62238.0\n",
      "Median rank of Reserved in Top 1% Students: 660.0 (Number : 250)\n",
      "Median rank of Reserved in Top 10% Students: 6345.5 (Number: 3764)\n",
      "______________________________\n",
      "______________________________\n"
     ]
    }
   ],
   "source": [
    "import pandas as pd\n",
    "\n",
    "women_data = []\n",
    "reserved_data = []\n",
    "\n",
    "for ai in OAL:\n",
    "    df = pd.read_csv(ai)\n",
    "    print(ai)\n",
    "#     print(df.columns)\n",
    "    df = preprocess_df(df)\n",
    "    print(df.shape)\n",
    "    w,r = get_median_percentile(df)\n",
    "    women_data.append(w)\n",
    "    reserved_data.append(r)\n",
    "    print('_'*30)"
   ]
  },
  {
   "cell_type": "code",
   "execution_count": 61,
   "id": "0e26be9d",
   "metadata": {},
   "outputs": [],
   "source": [
    "women_df = pd.DataFrame(women_data, columns=['Total', 'Top1', 'Top100'])"
   ]
  },
  {
   "cell_type": "code",
   "execution_count": 62,
   "id": "c00cf0a2",
   "metadata": {},
   "outputs": [],
   "source": [
    "reserved_df = pd.DataFrame(reserved_data, columns=['Total', 'Top1', 'Top100'])"
   ]
  },
  {
   "cell_type": "code",
   "execution_count": 65,
   "id": "c5f3ef08",
   "metadata": {},
   "outputs": [
    {
     "data": {
      "image/png": "[encoded data removed]",
      "text/plain": [
       "<Figure size 640x480 with 1 Axes>"
      ]
     },
     "metadata": {
      "needs_background": "light"
     },
     "output_type": "display_data"
    }
   ],
   "source": [
    "import matplotlib.pyplot as plt\n",
    "import numpy as np\n",
    "from matplotlib.pyplot import figure\n",
    "\n",
    "figure(figsize=(8, 6), dpi=80)\n",
    "ranges = ['2004','2005','2006','2007','2008','2009','2010','2011']\n",
    "\n",
    "X_axis = np.arange(len(ranges))\n",
    "\n",
    "plt.xticks(X_axis, ranges, rotation=90)\n",
    "# plt.xlabel(\"Years\")\n",
    "plt.ylabel(\"Median Percentile\")\n",
    "plt.title(\"Median Percentile of Reserved Students in AIEEE\")\n",
    "\n",
    "plt.plot(X_axis, reserved_df['Total'], 'g-o', label='Complete Data', linewidth=2, solid_capstyle='round')\n",
    "plt.plot(X_axis, reserved_df['Top1'], 'r-o', label ='Top 1%', linewidth=2, solid_capstyle='round')\n",
    "plt.plot(X_axis, reserved_df['Top100'], 'b-o', label = 'Top 100%', linewidth=2, solid_capstyle='round')\n",
    "plt.plot(X_axis, [66.2]*len(X_axis), '--',label = 'Population Avg', color='black')\n",
    "\n",
    "plt.legend(loc='upper right')\n",
    "plt.show()"
   ]
  },
  {
   "cell_type": "code",
   "execution_count": 67,
   "id": "af7ab4bf",
   "metadata": {},
   "outputs": [
    {
     "data": {
      "image/png": "[encoded data removed]",
      "text/plain": [
       "<Figure size 640x480 with 1 Axes>"
      ]
     },
     "metadata": {
      "needs_background": "light"
     },
     "output_type": "display_data"
    }
   ],
   "source": [
    "import matplotlib.pyplot as plt\n",
    "import numpy as np\n",
    "from matplotlib.pyplot import figure\n",
    "\n",
    "figure(figsize=(8, 6), dpi=80)\n",
    "ranges = ['2004','2005','2006','2007','2008','2009','2010','2011']\n",
    "\n",
    "X_axis = np.arange(len(ranges))\n",
    "\n",
    "plt.xticks(X_axis, ranges, rotation=90)\n",
    "# plt.xlabel(\"Years\")\n",
    "plt.ylabel(\"Median Percentile\")\n",
    "plt.title(\"Median Percentile of Women Students in AIEEE\")\n",
    "\n",
    "plt.plot(X_axis, women_df['Total'], 'g-o', label='Complete Data', linewidth=2, solid_capstyle='round')\n",
    "plt.plot(X_axis, women_df['Top1'], 'r-o', label ='Top 1%', linewidth=2, solid_capstyle='round')\n",
    "plt.plot(X_axis, women_df['Top100'], 'b-o', label = 'Top 100%', linewidth=2, solid_capstyle='round')\n",
    "plt.plot(X_axis, [48.25]*len(X_axis), '--',label = 'Population Avg', color='black')\n",
    "\n",
    "plt.legend(loc='upper right')\n",
    "plt.show()"
   ]
  },
  {
   "cell_type": "code",
   "execution_count": null,
   "id": "0c4d0485",
   "metadata": {},
   "outputs": [],
   "source": []
  }
 ],
 "metadata": {
  "kernelspec": {
   "display_name": "Python [conda env:.conda-py38] *",
   "language": "python",
   "name": "conda-env-.conda-py38-py"
  },
  "language_info": {
   "codemirror_mode": {
    "name": "ipython",
    "version": 3
   },
   "file_extension": ".py",
   "mimetype": "text/x-python",
   "name": "python",
   "nbconvert_exporter": "python",
   "pygments_lexer": "ipython3",
   "version": "3.8.11"
  }
 },
 "nbformat": 4,
 "nbformat_minor": 5
}
