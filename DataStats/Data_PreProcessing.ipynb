{
  "nbformat": 4,
  "nbformat_minor": 0,
  "metadata": {
    "kernelspec": {
      "display_name": "Python 3 (ipykernel)",
      "language": "python",
      "name": "python3"
    },
    "language_info": {
      "codemirror_mode": {
        "name": "ipython",
        "version": 3
      },
      "file_extension": ".py",
      "mimetype": "text/x-python",
      "name": "python",
      "nbconvert_exporter": "python",
      "pygments_lexer": "ipython3",
      "version": "3.8.5"
    },
    "colab": {
      "name": "Data_PreProcessing.ipynb",
      "provenance": []
    }
  },
  "cells": [
    {
      "cell_type": "code",
      "metadata": {
        "id": "JYTQ0-Pq8fJb"
      },
      "source": [
        "import pandas as pd\n",
        "from bisect import bisect_left"
      ],
      "execution_count": 21,
      "outputs": []
    },
    {
      "cell_type": "code",
      "metadata": {
        "id": "XTFgnv-d8fJd"
      },
      "source": [
        "cbse_no_dup = pd.read_csv(\"cbse_gender_names_list.csv\")\n",
        "cbse_df = pd.read_csv(\"cbse_data_with_duplicates.csv\")"
      ],
      "execution_count": 22,
      "outputs": []
    },
    {
      "cell_type": "code",
      "metadata": {
        "colab": {
          "base_uri": "https://localhost:8080/"
        },
        "id": "4RecHPUr8fJe",
        "outputId": "149a4851-e168-45c3-efc0-6aedf382d973"
      },
      "source": [
        "print(cbse_no_dup.shape)\n",
        "print(cbse_df.shape)"
      ],
      "execution_count": 23,
      "outputs": [
        {
          "output_type": "stream",
          "name": "stdout",
          "text": [
            "(205545, 3)\n",
            "(388846, 3)\n"
          ]
        }
      ]
    },
    {
      "cell_type": "code",
      "metadata": {
        "id": "YXhPu7-B8fJg"
      },
      "source": [
        "def get_freq_and_percent_df(df, column_name):\n",
        "    freq_df = df[column_name].value_counts()\n",
        "    return freq_df"
      ],
      "execution_count": 24,
      "outputs": []
    },
    {
      "cell_type": "code",
      "metadata": {
        "id": "gmnFZjmC8fJh"
      },
      "source": [
        "def print_gender_count_stats(df, df_nodup):\n",
        "    stats_without_duplicates = get_freq_and_percent_df(df, 'Gender')\n",
        "    stats = get_freq_and_percent_df(df_nodup, 'Gender')\n",
        "    x = ['Male', 'Female']\n",
        "    print('CBSE DATA: \\n')\n",
        "    print(f'1. Actual Statistics: \\n')\n",
        "    print(stats.head())\n",
        "    print(f'2. After Removing duplicates: \\n')\n",
        "    print(stats_without_duplicates.head())"
      ],
      "execution_count": 25,
      "outputs": []
    },
    {
      "cell_type": "code",
      "metadata": {
        "colab": {
          "base_uri": "https://localhost:8080/"
        },
        "id": "oD_JJO2x8fJi",
        "outputId": "04af5577-742c-48fe-d0b8-ffe385193a97"
      },
      "source": [
        "print_gender_count_stats(cbse_no_dup, cbse_df)"
      ],
      "execution_count": 26,
      "outputs": [
        {
          "output_type": "stream",
          "name": "stdout",
          "text": [
            "CBSE DATA: \n",
            "\n",
            "1. Actual Statistics: \n",
            "\n",
            "Boy     194423\n",
            "Girl    194423\n",
            "Name: Gender, dtype: int64\n",
            "2. After Removing duplicates: \n",
            "\n",
            "Boy     114089\n",
            "Girl     91456\n",
            "Name: Gender, dtype: int64\n"
          ]
        }
      ]
    },
    {
      "cell_type": "markdown",
      "metadata": {
        "id": "r6Sh5e_vIUtR"
      },
      "source": [
        "Why after dropping duplicates sizes have differed? Same student means same parents?\n"
      ]
    },
    {
      "cell_type": "code",
      "metadata": {
        "colab": {
          "base_uri": "https://localhost:8080/",
          "height": 979
        },
        "id": "vspLrJXzUeFB",
        "outputId": "fa988a92-c1a1-4141-8f68-14f125d14ef3"
      },
      "source": [
        "c.drop_duplicates().sort_values('freq',ascending=False)[350:].head(30)"
      ],
      "execution_count": 73,
      "outputs": [
        {
          "output_type": "execute_result",
          "data": {
            "text/html": [
              "<div>\n",
              "<style scoped>\n",
              "    .dataframe tbody tr th:only-of-type {\n",
              "        vertical-align: middle;\n",
              "    }\n",
              "\n",
              "    .dataframe tbody tr th {\n",
              "        vertical-align: top;\n",
              "    }\n",
              "\n",
              "    .dataframe thead th {\n",
              "        text-align: right;\n",
              "    }\n",
              "</style>\n",
              "<table border=\"1\" class=\"dataframe\">\n",
              "  <thead>\n",
              "    <tr style=\"text-align: right;\">\n",
              "      <th></th>\n",
              "      <th>Name</th>\n",
              "      <th>Gender</th>\n",
              "      <th>freq</th>\n",
              "      <th>male_freq</th>\n",
              "      <th>female_freq</th>\n",
              "    </tr>\n",
              "  </thead>\n",
              "  <tbody>\n",
              "    <tr>\n",
              "      <th>199815</th>\n",
              "      <td>ASHOK KUMAR SINGH</td>\n",
              "      <td>Male</td>\n",
              "      <td>64.0</td>\n",
              "      <td>64.0</td>\n",
              "      <td>NaN</td>\n",
              "    </tr>\n",
              "    <tr>\n",
              "      <th>15620</th>\n",
              "      <td>SARITA SINGH</td>\n",
              "      <td>Female</td>\n",
              "      <td>64.0</td>\n",
              "      <td>NaN</td>\n",
              "      <td>64.0</td>\n",
              "    </tr>\n",
              "    <tr>\n",
              "      <th>318259</th>\n",
              "      <td>SAROJ JAIN</td>\n",
              "      <td>Male</td>\n",
              "      <td>64.0</td>\n",
              "      <td>1.0</td>\n",
              "      <td>63.0</td>\n",
              "    </tr>\n",
              "    <tr>\n",
              "      <th>3481</th>\n",
              "      <td>RADHA SHARMA</td>\n",
              "      <td>Female</td>\n",
              "      <td>63.0</td>\n",
              "      <td>NaN</td>\n",
              "      <td>63.0</td>\n",
              "    </tr>\n",
              "    <tr>\n",
              "      <th>536</th>\n",
              "      <td>ANITA AGARWAL</td>\n",
              "      <td>Female</td>\n",
              "      <td>63.0</td>\n",
              "      <td>NaN</td>\n",
              "      <td>63.0</td>\n",
              "    </tr>\n",
              "    <tr>\n",
              "      <th>197753</th>\n",
              "      <td>SANJAY KUMAR JAIN</td>\n",
              "      <td>Male</td>\n",
              "      <td>63.0</td>\n",
              "      <td>63.0</td>\n",
              "      <td>NaN</td>\n",
              "    </tr>\n",
              "    <tr>\n",
              "      <th>60510</th>\n",
              "      <td>SANJAY SINGH</td>\n",
              "      <td>Female</td>\n",
              "      <td>63.0</td>\n",
              "      <td>62.0</td>\n",
              "      <td>1.0</td>\n",
              "    </tr>\n",
              "    <tr>\n",
              "      <th>198558</th>\n",
              "      <td>SANTOSH YADAV</td>\n",
              "      <td>Male</td>\n",
              "      <td>63.0</td>\n",
              "      <td>13.0</td>\n",
              "      <td>50.0</td>\n",
              "    </tr>\n",
              "    <tr>\n",
              "      <th>1520</th>\n",
              "      <td>SANTOSH YADAV</td>\n",
              "      <td>Female</td>\n",
              "      <td>63.0</td>\n",
              "      <td>13.0</td>\n",
              "      <td>50.0</td>\n",
              "    </tr>\n",
              "    <tr>\n",
              "      <th>197838</th>\n",
              "      <td>DEEPAK SHARMA</td>\n",
              "      <td>Male</td>\n",
              "      <td>63.0</td>\n",
              "      <td>62.0</td>\n",
              "      <td>1.0</td>\n",
              "    </tr>\n",
              "    <tr>\n",
              "      <th>201339</th>\n",
              "      <td>ANIL GUPTA</td>\n",
              "      <td>Male</td>\n",
              "      <td>63.0</td>\n",
              "      <td>63.0</td>\n",
              "      <td>NaN</td>\n",
              "    </tr>\n",
              "    <tr>\n",
              "      <th>5032</th>\n",
              "      <td>SUMAN KANWAR</td>\n",
              "      <td>Female</td>\n",
              "      <td>63.0</td>\n",
              "      <td>NaN</td>\n",
              "      <td>63.0</td>\n",
              "    </tr>\n",
              "    <tr>\n",
              "      <th>6253</th>\n",
              "      <td>DEEPAK SHARMA</td>\n",
              "      <td>Female</td>\n",
              "      <td>63.0</td>\n",
              "      <td>62.0</td>\n",
              "      <td>1.0</td>\n",
              "    </tr>\n",
              "    <tr>\n",
              "      <th>198049</th>\n",
              "      <td>SANJAY SINGH</td>\n",
              "      <td>Male</td>\n",
              "      <td>63.0</td>\n",
              "      <td>62.0</td>\n",
              "      <td>1.0</td>\n",
              "    </tr>\n",
              "    <tr>\n",
              "      <th>197479</th>\n",
              "      <td>AJAY JAIN</td>\n",
              "      <td>Male</td>\n",
              "      <td>63.0</td>\n",
              "      <td>63.0</td>\n",
              "      <td>NaN</td>\n",
              "    </tr>\n",
              "    <tr>\n",
              "      <th>1246</th>\n",
              "      <td>SUSHMA</td>\n",
              "      <td>Female</td>\n",
              "      <td>62.0</td>\n",
              "      <td>NaN</td>\n",
              "      <td>62.0</td>\n",
              "    </tr>\n",
              "    <tr>\n",
              "      <th>3258</th>\n",
              "      <td>USHA GUPTA</td>\n",
              "      <td>Female</td>\n",
              "      <td>62.0</td>\n",
              "      <td>NaN</td>\n",
              "      <td>62.0</td>\n",
              "    </tr>\n",
              "    <tr>\n",
              "      <th>198135</th>\n",
              "      <td>BHANWAR SINGH</td>\n",
              "      <td>Male</td>\n",
              "      <td>62.0</td>\n",
              "      <td>62.0</td>\n",
              "      <td>NaN</td>\n",
              "    </tr>\n",
              "    <tr>\n",
              "      <th>1383</th>\n",
              "      <td>VANDANA JAIN</td>\n",
              "      <td>Female</td>\n",
              "      <td>62.0</td>\n",
              "      <td>NaN</td>\n",
              "      <td>62.0</td>\n",
              "    </tr>\n",
              "    <tr>\n",
              "      <th>429</th>\n",
              "      <td>RENU JAIN</td>\n",
              "      <td>Female</td>\n",
              "      <td>62.0</td>\n",
              "      <td>NaN</td>\n",
              "      <td>62.0</td>\n",
              "    </tr>\n",
              "    <tr>\n",
              "      <th>1969</th>\n",
              "      <td>SANDHYA</td>\n",
              "      <td>Female</td>\n",
              "      <td>62.0</td>\n",
              "      <td>NaN</td>\n",
              "      <td>62.0</td>\n",
              "    </tr>\n",
              "    <tr>\n",
              "      <th>195121</th>\n",
              "      <td>KAILASH</td>\n",
              "      <td>Male</td>\n",
              "      <td>62.0</td>\n",
              "      <td>47.0</td>\n",
              "      <td>15.0</td>\n",
              "    </tr>\n",
              "    <tr>\n",
              "      <th>6130</th>\n",
              "      <td>MOHINI DEVI</td>\n",
              "      <td>Female</td>\n",
              "      <td>62.0</td>\n",
              "      <td>NaN</td>\n",
              "      <td>62.0</td>\n",
              "    </tr>\n",
              "    <tr>\n",
              "      <th>201217</th>\n",
              "      <td>RAJENDRA GUPTA</td>\n",
              "      <td>Male</td>\n",
              "      <td>62.0</td>\n",
              "      <td>62.0</td>\n",
              "      <td>NaN</td>\n",
              "    </tr>\n",
              "    <tr>\n",
              "      <th>198508</th>\n",
              "      <td>ANIL KUMAR SINGH</td>\n",
              "      <td>Male</td>\n",
              "      <td>62.0</td>\n",
              "      <td>62.0</td>\n",
              "      <td>NaN</td>\n",
              "    </tr>\n",
              "    <tr>\n",
              "      <th>199211</th>\n",
              "      <td>PRADEEP KUMAR</td>\n",
              "      <td>Male</td>\n",
              "      <td>62.0</td>\n",
              "      <td>62.0</td>\n",
              "      <td>NaN</td>\n",
              "    </tr>\n",
              "    <tr>\n",
              "      <th>2675</th>\n",
              "      <td>KALPANA SHARMA</td>\n",
              "      <td>Female</td>\n",
              "      <td>62.0</td>\n",
              "      <td>NaN</td>\n",
              "      <td>62.0</td>\n",
              "    </tr>\n",
              "    <tr>\n",
              "      <th>198307</th>\n",
              "      <td>DILIP JAIN</td>\n",
              "      <td>Male</td>\n",
              "      <td>62.0</td>\n",
              "      <td>62.0</td>\n",
              "      <td>NaN</td>\n",
              "    </tr>\n",
              "    <tr>\n",
              "      <th>5110</th>\n",
              "      <td>PARVATI DEVI</td>\n",
              "      <td>Female</td>\n",
              "      <td>62.0</td>\n",
              "      <td>NaN</td>\n",
              "      <td>62.0</td>\n",
              "    </tr>\n",
              "    <tr>\n",
              "      <th>199164</th>\n",
              "      <td>RAJ KUMAR SHARMA</td>\n",
              "      <td>Male</td>\n",
              "      <td>62.0</td>\n",
              "      <td>62.0</td>\n",
              "      <td>NaN</td>\n",
              "    </tr>\n",
              "  </tbody>\n",
              "</table>\n",
              "</div>"
            ],
            "text/plain": [
              "                     Name  Gender  freq  male_freq  female_freq\n",
              "199815  ASHOK KUMAR SINGH    Male  64.0       64.0          NaN\n",
              "15620        SARITA SINGH  Female  64.0        NaN         64.0\n",
              "318259         SAROJ JAIN    Male  64.0        1.0         63.0\n",
              "3481         RADHA SHARMA  Female  63.0        NaN         63.0\n",
              "536         ANITA AGARWAL  Female  63.0        NaN         63.0\n",
              "197753  SANJAY KUMAR JAIN    Male  63.0       63.0          NaN\n",
              "60510        SANJAY SINGH  Female  63.0       62.0          1.0\n",
              "198558      SANTOSH YADAV    Male  63.0       13.0         50.0\n",
              "1520        SANTOSH YADAV  Female  63.0       13.0         50.0\n",
              "197838      DEEPAK SHARMA    Male  63.0       62.0          1.0\n",
              "201339         ANIL GUPTA    Male  63.0       63.0          NaN\n",
              "5032         SUMAN KANWAR  Female  63.0        NaN         63.0\n",
              "6253        DEEPAK SHARMA  Female  63.0       62.0          1.0\n",
              "198049       SANJAY SINGH    Male  63.0       62.0          1.0\n",
              "197479          AJAY JAIN    Male  63.0       63.0          NaN\n",
              "1246               SUSHMA  Female  62.0        NaN         62.0\n",
              "3258           USHA GUPTA  Female  62.0        NaN         62.0\n",
              "198135      BHANWAR SINGH    Male  62.0       62.0          NaN\n",
              "1383         VANDANA JAIN  Female  62.0        NaN         62.0\n",
              "429             RENU JAIN  Female  62.0        NaN         62.0\n",
              "1969              SANDHYA  Female  62.0        NaN         62.0\n",
              "195121            KAILASH    Male  62.0       47.0         15.0\n",
              "6130          MOHINI DEVI  Female  62.0        NaN         62.0\n",
              "201217     RAJENDRA GUPTA    Male  62.0       62.0          NaN\n",
              "198508   ANIL KUMAR SINGH    Male  62.0       62.0          NaN\n",
              "199211      PRADEEP KUMAR    Male  62.0       62.0          NaN\n",
              "2675       KALPANA SHARMA  Female  62.0        NaN         62.0\n",
              "198307         DILIP JAIN    Male  62.0       62.0          NaN\n",
              "5110         PARVATI DEVI  Female  62.0        NaN         62.0\n",
              "199164   RAJ KUMAR SHARMA    Male  62.0       62.0          NaN"
            ]
          },
          "metadata": {},
          "execution_count": 73
        }
      ]
    },
    {
      "cell_type": "code",
      "metadata": {
        "colab": {
          "base_uri": "https://localhost:8080/",
          "height": 979
        },
        "id": "C62yMjmrIfUq",
        "outputId": "45a2066a-e5d2-477c-a372-7cb5447fa952"
      },
      "source": [
        "cbse_df.drop_duplicates().sort_values('freq',ascending=False).head(30)"
      ],
      "execution_count": 67,
      "outputs": [
        {
          "output_type": "execute_result",
          "data": {
            "text/html": [
              "<div>\n",
              "<style scoped>\n",
              "    .dataframe tbody tr th:only-of-type {\n",
              "        vertical-align: middle;\n",
              "    }\n",
              "\n",
              "    .dataframe tbody tr th {\n",
              "        vertical-align: top;\n",
              "    }\n",
              "\n",
              "    .dataframe thead th {\n",
              "        text-align: right;\n",
              "    }\n",
              "</style>\n",
              "<table border=\"1\" class=\"dataframe\">\n",
              "  <thead>\n",
              "    <tr style=\"text-align: right;\">\n",
              "      <th></th>\n",
              "      <th>Name</th>\n",
              "      <th>Gender</th>\n",
              "      <th>freq</th>\n",
              "    </tr>\n",
              "  </thead>\n",
              "  <tbody>\n",
              "    <tr>\n",
              "      <th>1200</th>\n",
              "      <td>SUNITA DEVI</td>\n",
              "      <td>Girl</td>\n",
              "      <td>494.0</td>\n",
              "    </tr>\n",
              "    <tr>\n",
              "      <th>722</th>\n",
              "      <td>SUNITA</td>\n",
              "      <td>Girl</td>\n",
              "      <td>439.0</td>\n",
              "    </tr>\n",
              "    <tr>\n",
              "      <th>322873</th>\n",
              "      <td>SUNITA SHARMA</td>\n",
              "      <td>Boy</td>\n",
              "      <td>436.0</td>\n",
              "    </tr>\n",
              "    <tr>\n",
              "      <th>240</th>\n",
              "      <td>SUNITA SHARMA</td>\n",
              "      <td>Girl</td>\n",
              "      <td>436.0</td>\n",
              "    </tr>\n",
              "    <tr>\n",
              "      <th>3688</th>\n",
              "      <td>SANTOSH DEVI</td>\n",
              "      <td>Girl</td>\n",
              "      <td>410.0</td>\n",
              "    </tr>\n",
              "    <tr>\n",
              "      <th>2884</th>\n",
              "      <td>MANJU DEVI</td>\n",
              "      <td>Girl</td>\n",
              "      <td>409.0</td>\n",
              "    </tr>\n",
              "    <tr>\n",
              "      <th>244271</th>\n",
              "      <td>GEETA DEVI</td>\n",
              "      <td>Boy</td>\n",
              "      <td>363.0</td>\n",
              "    </tr>\n",
              "    <tr>\n",
              "      <th>2934</th>\n",
              "      <td>GEETA DEVI</td>\n",
              "      <td>Girl</td>\n",
              "      <td>363.0</td>\n",
              "    </tr>\n",
              "    <tr>\n",
              "      <th>2919</th>\n",
              "      <td>KAMLA DEVI</td>\n",
              "      <td>Girl</td>\n",
              "      <td>361.0</td>\n",
              "    </tr>\n",
              "    <tr>\n",
              "      <th>2831</th>\n",
              "      <td>SUNITA JAIN</td>\n",
              "      <td>Girl</td>\n",
              "      <td>336.0</td>\n",
              "    </tr>\n",
              "    <tr>\n",
              "      <th>234375</th>\n",
              "      <td>SUNITA JAIN</td>\n",
              "      <td>Boy</td>\n",
              "      <td>336.0</td>\n",
              "    </tr>\n",
              "    <tr>\n",
              "      <th>2975</th>\n",
              "      <td>ANITA SHARMA</td>\n",
              "      <td>Girl</td>\n",
              "      <td>306.0</td>\n",
              "    </tr>\n",
              "    <tr>\n",
              "      <th>2814</th>\n",
              "      <td>SEEMA JAIN</td>\n",
              "      <td>Girl</td>\n",
              "      <td>297.0</td>\n",
              "    </tr>\n",
              "    <tr>\n",
              "      <th>3423</th>\n",
              "      <td>MANJU SHARMA</td>\n",
              "      <td>Girl</td>\n",
              "      <td>292.0</td>\n",
              "    </tr>\n",
              "    <tr>\n",
              "      <th>4192</th>\n",
              "      <td>SAROJ DEVI</td>\n",
              "      <td>Girl</td>\n",
              "      <td>284.0</td>\n",
              "    </tr>\n",
              "    <tr>\n",
              "      <th>197265</th>\n",
              "      <td>SANJAY JAIN</td>\n",
              "      <td>Boy</td>\n",
              "      <td>279.0</td>\n",
              "    </tr>\n",
              "    <tr>\n",
              "      <th>3457</th>\n",
              "      <td>SUSHILA DEVI</td>\n",
              "      <td>Girl</td>\n",
              "      <td>277.0</td>\n",
              "    </tr>\n",
              "    <tr>\n",
              "      <th>707</th>\n",
              "      <td>SANTOSH</td>\n",
              "      <td>Girl</td>\n",
              "      <td>275.0</td>\n",
              "    </tr>\n",
              "    <tr>\n",
              "      <th>195596</th>\n",
              "      <td>SANTOSH</td>\n",
              "      <td>Boy</td>\n",
              "      <td>275.0</td>\n",
              "    </tr>\n",
              "    <tr>\n",
              "      <th>1980</th>\n",
              "      <td>ANITA</td>\n",
              "      <td>Girl</td>\n",
              "      <td>274.0</td>\n",
              "    </tr>\n",
              "    <tr>\n",
              "      <th>3653</th>\n",
              "      <td>ANITA DEVI</td>\n",
              "      <td>Girl</td>\n",
              "      <td>265.0</td>\n",
              "    </tr>\n",
              "    <tr>\n",
              "      <th>4008</th>\n",
              "      <td>ANITA JAIN</td>\n",
              "      <td>Girl</td>\n",
              "      <td>262.0</td>\n",
              "    </tr>\n",
              "    <tr>\n",
              "      <th>243391</th>\n",
              "      <td>SUMAN DEVI</td>\n",
              "      <td>Boy</td>\n",
              "      <td>244.0</td>\n",
              "    </tr>\n",
              "    <tr>\n",
              "      <th>2599</th>\n",
              "      <td>SUMAN DEVI</td>\n",
              "      <td>Girl</td>\n",
              "      <td>244.0</td>\n",
              "    </tr>\n",
              "    <tr>\n",
              "      <th>22</th>\n",
              "      <td>SANGEETA JAIN</td>\n",
              "      <td>Girl</td>\n",
              "      <td>237.0</td>\n",
              "    </tr>\n",
              "    <tr>\n",
              "      <th>134901</th>\n",
              "      <td>RAJESH JAIN</td>\n",
              "      <td>Girl</td>\n",
              "      <td>229.0</td>\n",
              "    </tr>\n",
              "    <tr>\n",
              "      <th>194445</th>\n",
              "      <td>RAJESH JAIN</td>\n",
              "      <td>Boy</td>\n",
              "      <td>229.0</td>\n",
              "    </tr>\n",
              "    <tr>\n",
              "      <th>706</th>\n",
              "      <td>PUSHPA DEVI</td>\n",
              "      <td>Girl</td>\n",
              "      <td>228.0</td>\n",
              "    </tr>\n",
              "    <tr>\n",
              "      <th>196661</th>\n",
              "      <td>RAJESH SHARMA</td>\n",
              "      <td>Boy</td>\n",
              "      <td>226.0</td>\n",
              "    </tr>\n",
              "    <tr>\n",
              "      <th>12897</th>\n",
              "      <td>RAJESH SHARMA</td>\n",
              "      <td>Girl</td>\n",
              "      <td>226.0</td>\n",
              "    </tr>\n",
              "  </tbody>\n",
              "</table>\n",
              "</div>"
            ],
            "text/plain": [
              "                 Name Gender   freq\n",
              "1200      SUNITA DEVI   Girl  494.0\n",
              "722            SUNITA   Girl  439.0\n",
              "322873  SUNITA SHARMA    Boy  436.0\n",
              "240     SUNITA SHARMA   Girl  436.0\n",
              "3688     SANTOSH DEVI   Girl  410.0\n",
              "2884       MANJU DEVI   Girl  409.0\n",
              "244271     GEETA DEVI    Boy  363.0\n",
              "2934       GEETA DEVI   Girl  363.0\n",
              "2919       KAMLA DEVI   Girl  361.0\n",
              "2831      SUNITA JAIN   Girl  336.0\n",
              "234375    SUNITA JAIN    Boy  336.0\n",
              "2975     ANITA SHARMA   Girl  306.0\n",
              "2814       SEEMA JAIN   Girl  297.0\n",
              "3423     MANJU SHARMA   Girl  292.0\n",
              "4192       SAROJ DEVI   Girl  284.0\n",
              "197265    SANJAY JAIN    Boy  279.0\n",
              "3457     SUSHILA DEVI   Girl  277.0\n",
              "707           SANTOSH   Girl  275.0\n",
              "195596        SANTOSH    Boy  275.0\n",
              "1980            ANITA   Girl  274.0\n",
              "3653       ANITA DEVI   Girl  265.0\n",
              "4008       ANITA JAIN   Girl  262.0\n",
              "243391     SUMAN DEVI    Boy  244.0\n",
              "2599       SUMAN DEVI   Girl  244.0\n",
              "22      SANGEETA JAIN   Girl  237.0\n",
              "134901    RAJESH JAIN   Girl  229.0\n",
              "194445    RAJESH JAIN    Boy  229.0\n",
              "706       PUSHPA DEVI   Girl  228.0\n",
              "196661  RAJESH SHARMA    Boy  226.0\n",
              "12897   RAJESH SHARMA   Girl  226.0"
            ]
          },
          "metadata": {},
          "execution_count": 67
        }
      ]
    },
    {
      "cell_type": "code",
      "metadata": {
        "colab": {
          "base_uri": "https://localhost:8080/"
        },
        "id": "30r9dnDp8fJk",
        "outputId": "d63da958-1a48-40aa-945a-4c30967ae1ad"
      },
      "source": [
        "#  Get a df with name, frequency and gender \n",
        "# print(len(list(input['Gender']=='Boy') and list(input['Gender']=='Girl')))\n",
        "# print(len(list(input['Gender']=='Girl')))\n",
        "# print(input[list(input['Gender']=='Boy')].shape)\n",
        "# print(input[list(input['Gender']=='Girl')].shape)\n",
        "# print(input[list(input['Gender']=='Boy') and list(input['Gender']=='Girl')].head())\n",
        "# df1 = input.groupby('Name').count()\n",
        "print(cbse_df['Name'].value_counts())"
      ],
      "execution_count": 27,
      "outputs": [
        {
          "output_type": "stream",
          "name": "stdout",
          "text": [
            "SUNITA DEVI             494\n",
            "SUNITA                  439\n",
            "SUNITA SHARMA           436\n",
            "SANTOSH DEVI            410\n",
            "MANJU DEVI              409\n",
            "                       ... \n",
            "GOVIND RAM VERMA          1\n",
            "DEVIDAS INDAIT            1\n",
            "SONDEI SAINI              1\n",
            "HARNAM SINGH THAKUR       1\n",
            "KAMAL KUMAR BAKLIWAL      1\n",
            "Name: Name, Length: 204544, dtype: int64\n"
          ]
        }
      ]
    },
    {
      "cell_type": "code",
      "metadata": {
        "id": "UPIJKpG4VSX6"
      },
      "source": [
        "c['male_freq'] = 0\n",
        "c['female_freq'] = 0"
      ],
      "execution_count": 58,
      "outputs": []
    },
    {
      "cell_type": "code",
      "metadata": {
        "colab": {
          "base_uri": "https://localhost:8080/",
          "height": 204
        },
        "id": "0MV0R_B_Vq_H",
        "outputId": "3d7cba0d-3186-44c6-8faf-85799efec5f6"
      },
      "source": [
        "c[c['Gender']=='Female'].head()"
      ],
      "execution_count": 66,
      "outputs": [
        {
          "output_type": "execute_result",
          "data": {
            "text/html": [
              "<div>\n",
              "<style scoped>\n",
              "    .dataframe tbody tr th:only-of-type {\n",
              "        vertical-align: middle;\n",
              "    }\n",
              "\n",
              "    .dataframe tbody tr th {\n",
              "        vertical-align: top;\n",
              "    }\n",
              "\n",
              "    .dataframe thead th {\n",
              "        text-align: right;\n",
              "    }\n",
              "</style>\n",
              "<table border=\"1\" class=\"dataframe\">\n",
              "  <thead>\n",
              "    <tr style=\"text-align: right;\">\n",
              "      <th></th>\n",
              "      <th>Name</th>\n",
              "      <th>Gender</th>\n",
              "      <th>freq</th>\n",
              "      <th>male_freq</th>\n",
              "      <th>female_freq</th>\n",
              "    </tr>\n",
              "  </thead>\n",
              "  <tbody>\n",
              "    <tr>\n",
              "      <th>0</th>\n",
              "      <td>RAJSHREE DIWAN</td>\n",
              "      <td>Female</td>\n",
              "      <td>1.0</td>\n",
              "      <td>NaN</td>\n",
              "      <td>1.0</td>\n",
              "    </tr>\n",
              "    <tr>\n",
              "      <th>1</th>\n",
              "      <td>JYOTHI JAIN</td>\n",
              "      <td>Female</td>\n",
              "      <td>1.0</td>\n",
              "      <td>NaN</td>\n",
              "      <td>1.0</td>\n",
              "    </tr>\n",
              "    <tr>\n",
              "      <th>2</th>\n",
              "      <td>NITU JAIN</td>\n",
              "      <td>Female</td>\n",
              "      <td>4.0</td>\n",
              "      <td>NaN</td>\n",
              "      <td>4.0</td>\n",
              "    </tr>\n",
              "    <tr>\n",
              "      <th>3</th>\n",
              "      <td>SARIKA JAIN</td>\n",
              "      <td>Female</td>\n",
              "      <td>17.0</td>\n",
              "      <td>NaN</td>\n",
              "      <td>17.0</td>\n",
              "    </tr>\n",
              "    <tr>\n",
              "      <th>4</th>\n",
              "      <td>KETKI JOSHINA</td>\n",
              "      <td>Female</td>\n",
              "      <td>1.0</td>\n",
              "      <td>NaN</td>\n",
              "      <td>1.0</td>\n",
              "    </tr>\n",
              "  </tbody>\n",
              "</table>\n",
              "</div>"
            ],
            "text/plain": [
              "             Name  Gender  freq  male_freq  female_freq\n",
              "0  RAJSHREE DIWAN  Female   1.0        NaN          1.0\n",
              "1     JYOTHI JAIN  Female   1.0        NaN          1.0\n",
              "2       NITU JAIN  Female   4.0        NaN          4.0\n",
              "3     SARIKA JAIN  Female  17.0        NaN         17.0\n",
              "4   KETKI JOSHINA  Female   1.0        NaN          1.0"
            ]
          },
          "metadata": {},
          "execution_count": 66
        }
      ]
    },
    {
      "cell_type": "code",
      "metadata": {
        "id": "ZbJybKm1UV0t"
      },
      "source": [
        "c['female_freq'] = c['Name'].map(c[c['Gender']=='Female']['Name'].value_counts())"
      ],
      "execution_count": 61,
      "outputs": []
    },
    {
      "cell_type": "code",
      "metadata": {
        "id": "XTz-xJVMWLmN"
      },
      "source": [
        "c['male_freq'] = c['Name'].map(c[c['Gender']=='Male']['Name'].value_counts())"
      ],
      "execution_count": 64,
      "outputs": []
    },
    {
      "cell_type": "code",
      "metadata": {
        "id": "CfE35x0AGDGw"
      },
      "source": [
        "input['frequency'] = input['Name'].map(input['Name'].value_counts())"
      ],
      "execution_count": 14,
      "outputs": []
    },
    {
      "cell_type": "code",
      "metadata": {
        "colab": {
          "base_uri": "https://localhost:8080/"
        },
        "id": "ljUf87MgGahb",
        "outputId": "18f35514-aeb6-405e-d8e3-a09b683d2f07"
      },
      "source": [
        "input[input['frequency']>1][input['Gender']=='Boy'].shape"
      ],
      "execution_count": 19,
      "outputs": [
        {
          "output_type": "stream",
          "name": "stderr",
          "text": [
            "/usr/local/lib/python3.7/dist-packages/ipykernel_launcher.py:1: UserWarning: Boolean Series key will be reindexed to match DataFrame index.\n",
            "  \"\"\"Entry point for launching an IPython kernel.\n"
          ]
        },
        {
          "output_type": "execute_result",
          "data": {
            "text/plain": [
              "(1000, 4)"
            ]
          },
          "metadata": {},
          "execution_count": 19
        }
      ]
    },
    {
      "cell_type": "code",
      "metadata": {
        "id": "EWVgaXc0Gw9H"
      },
      "source": [
        "input['frequency']"
      ],
      "execution_count": null,
      "outputs": []
    },
    {
      "cell_type": "code",
      "metadata": {
        "colab": {
          "base_uri": "https://localhost:8080/"
        },
        "id": "jc7b3bDh8fJk",
        "outputId": "1b043810-f200-4ea9-ceb1-92ed1edd9a53"
      },
      "source": [
        "df1.loc['SHANTI JAIN'].Gender\n",
        "freq_df = input.groupby('Name').count()\n",
        "cbse_df['freq'] = 0\n",
        "for i in range(cbse_df.shape[0]):\n",
        "    try :\n",
        "        cbse_df.freq.loc[i] =  df1.loc[cbse_df['Name'][i]].Gender\n",
        "    except:\n",
        "        print('i', cbse_df.loc[i])"
      ],
      "execution_count": 12,
      "outputs": [
        {
          "output_type": "stream",
          "name": "stderr",
          "text": [
            "/usr/local/lib/python3.7/dist-packages/pandas/core/indexing.py:670: SettingWithCopyWarning: \n",
            "A value is trying to be set on a copy of a slice from a DataFrame\n",
            "\n",
            "See the caveats in the documentation: https://pandas.pydata.org/pandas-docs/stable/user_guide/indexing.html#returning-a-view-versus-a-copy\n",
            "  iloc._setitem_with_indexer(indexer, value)\n"
          ]
        },
        {
          "output_type": "stream",
          "name": "stdout",
          "text": [
            "i Unnamed: 0          304970\n",
            "Name          BALWAN SINGH\n",
            "Gender                 Boy\n",
            "freq                     1\n",
            "Name: 304970, dtype: object\n",
            "i Unnamed: 0      348500\n",
            "Name          SARJERAO\n",
            "Gender             Boy\n",
            "freq                 0\n",
            "Name: 348500, dtype: object\n",
            "i Unnamed: 0                     356038\n",
            "Name          GAJENDRA SINGH SIKARWAR\n",
            "Gender                            Boy\n",
            "freq                                0\n",
            "Name: 356038, dtype: object\n",
            "i Unnamed: 0    368731\n",
            "Name             NaN\n",
            "Gender           Boy\n",
            "freq               0\n",
            "Name: 368731, dtype: object\n"
          ]
        }
      ]
    },
    {
      "cell_type": "code",
      "metadata": {
        "id": "QO0JHedP8fJl",
        "outputId": "b4d97fad-2821-43b3-e910-572162db38f8"
      },
      "source": [
        "m_df = cbse_df[cbse_df['Gender']=='Girl'][cbse_df['freq']==2]\n",
        "f_df = cbse_df[cbse_df['Gender']=='Boy'][cbse_df['freq']==2]\n",
        "print(m_df.shape)\n",
        "print(f_df.shape)"
      ],
      "execution_count": null,
      "outputs": [
        {
          "data": {
            "text/html": [
              "<div>\n",
              "<style scoped>\n",
              "    .dataframe tbody tr th:only-of-type {\n",
              "        vertical-align: middle;\n",
              "    }\n",
              "\n",
              "    .dataframe tbody tr th {\n",
              "        vertical-align: top;\n",
              "    }\n",
              "\n",
              "    .dataframe thead th {\n",
              "        text-align: right;\n",
              "    }\n",
              "</style>\n",
              "<table border=\"1\" class=\"dataframe\">\n",
              "  <thead>\n",
              "    <tr style=\"text-align: right;\">\n",
              "      <th></th>\n",
              "      <th>Name</th>\n",
              "      <th>Gender</th>\n",
              "    </tr>\n",
              "  </thead>\n",
              "  <tbody>\n",
              "    <tr>\n",
              "      <th>91456</th>\n",
              "      <td>VIMAL KANT SHUKLA</td>\n",
              "      <td>Boy</td>\n",
              "    </tr>\n",
              "    <tr>\n",
              "      <th>91457</th>\n",
              "      <td>VISHNU GURVE</td>\n",
              "      <td>Boy</td>\n",
              "    </tr>\n",
              "    <tr>\n",
              "      <th>91458</th>\n",
              "      <td>GOVIND SINGH CHAUHAN</td>\n",
              "      <td>Boy</td>\n",
              "    </tr>\n",
              "    <tr>\n",
              "      <th>91459</th>\n",
              "      <td>LILADHAR SINGHAL</td>\n",
              "      <td>Boy</td>\n",
              "    </tr>\n",
              "    <tr>\n",
              "      <th>91460</th>\n",
              "      <td>MAHAVIR AJMERA</td>\n",
              "      <td>Boy</td>\n",
              "    </tr>\n",
              "    <tr>\n",
              "      <th>...</th>\n",
              "      <td>...</td>\n",
              "      <td>...</td>\n",
              "    </tr>\n",
              "    <tr>\n",
              "      <th>205540</th>\n",
              "      <td>DAYA RAM JAKHAR</td>\n",
              "      <td>Boy</td>\n",
              "    </tr>\n",
              "    <tr>\n",
              "      <th>205541</th>\n",
              "      <td>RADHEY SHYAM SHARMA</td>\n",
              "      <td>Boy</td>\n",
              "    </tr>\n",
              "    <tr>\n",
              "      <th>205542</th>\n",
              "      <td>DINESH CHHAPARWAL</td>\n",
              "      <td>Boy</td>\n",
              "    </tr>\n",
              "    <tr>\n",
              "      <th>205543</th>\n",
              "      <td>R K SONI</td>\n",
              "      <td>Boy</td>\n",
              "    </tr>\n",
              "    <tr>\n",
              "      <th>205544</th>\n",
              "      <td>MUKESH SILODIYA</td>\n",
              "      <td>Boy</td>\n",
              "    </tr>\n",
              "  </tbody>\n",
              "</table>\n",
              "<p>114089 rows × 2 columns</p>\n",
              "</div>"
            ],
            "text/plain": [
              "                        Name Gender\n",
              "91456      VIMAL KANT SHUKLA    Boy\n",
              "91457           VISHNU GURVE    Boy\n",
              "91458   GOVIND SINGH CHAUHAN    Boy\n",
              "91459       LILADHAR SINGHAL    Boy\n",
              "91460         MAHAVIR AJMERA    Boy\n",
              "...                      ...    ...\n",
              "205540       DAYA RAM JAKHAR    Boy\n",
              "205541   RADHEY SHYAM SHARMA    Boy\n",
              "205542     DINESH CHHAPARWAL    Boy\n",
              "205543              R K SONI    Boy\n",
              "205544       MUKESH SILODIYA    Boy\n",
              "\n",
              "[114089 rows x 2 columns]"
            ]
          },
          "execution_count": 54,
          "metadata": {},
          "output_type": "execute_result"
        }
      ]
    },
    {
      "cell_type": "code",
      "metadata": {
        "id": "KNSBtMJD8fJm",
        "outputId": "dec5c208-c935-4ab2-e52e-d22afe6f05c9"
      },
      "source": [
        "print_gender_count_stats(input, cbse_df)"
      ],
      "execution_count": null,
      "outputs": [
        {
          "name": "stdout",
          "output_type": "stream",
          "text": [
            "CBSE DATA: \n",
            "\n",
            "1. Actual Statistics: \n",
            "\n",
            "[194423, 194423]\n",
            "2. After Removing duplicates: \n",
            "\n",
            "Boy     114089\n",
            "Girl     91456\n",
            "Name: Gender, dtype: int64\n"
          ]
        }
      ]
    },
    {
      "cell_type": "markdown",
      "metadata": {
        "id": "dktPWrcK8fJn"
      },
      "source": [
        "Questions:\n",
        "Similar questions for first name and with complete name.\n",
        "1. What are Top 5 female and male names?\n",
        "2. How many names are both male and female?\n",
        "3. What is the female and male ratio of the dataset"
      ]
    },
    {
      "cell_type": "code",
      "metadata": {
        "id": "f1mjDtaZ8fJp"
      },
      "source": [
        "def print_top_5_male_female_common_names(cbse_df):\n",
        "    Male_df=cbse_df.groupby(['Gender']).get_group('Boy')\n",
        "    Female_df=cbse_df.groupby(['Gender']).get_group('Girl')\n",
        "    Male_df_freq = get_freq_and_percent_df(Male_df, 'Name')\n",
        "    Female_df_freq = get_freq_and_percent_df(Female_df, 'Name')\n",
        "    print('Most frequent Male Names:')\n",
        "    print(Male_df_freq.head())\n",
        "    print('Most frequenct Female Names:')\n",
        "    print(Female_df_freq.head())\n",
        "\n",
        "    print('Most common names used in both genders:')\n",
        "    # update it to use frequency counts\n",
        "    male_names = list(set(Male_df.Name.astype(str)))\n",
        "    female_names = list(set(Female_df.Name.astype(str)))\n",
        "    common = []\n",
        "\n",
        "    male_names.sort()\n",
        "    female_names.sort()\n",
        "\n",
        "    # # optimized way sort and do a binary search\n",
        "    for elem in male_names:\n",
        "#         i = bisect_left(female_names, elem)\n",
        "#         if i!= len(female_names) and female_names[i]==elem:\n",
        "#             common.append(elem)\n",
        "        if elem in female_names:\n",
        "            common.append(elem)\n",
        "            \n",
        "    "
      ],
      "execution_count": null,
      "outputs": []
    },
    {
      "cell_type": "code",
      "metadata": {
        "id": "bA6aGAeV8fJq"
      },
      "source": [
        "def extract_first_name_last_name(cbse_df):\n",
        "    cbse_df['namelen']= [len(str(i)) for i in cbse_df['Name']]\n",
        "    cbse_df = cbse_df[(cbse_df['namelen'] >= 2) ]\n",
        "    cbse_df['first_name'] = [str(name).split(' ')[0]  for name in cbse_df['Name']]\n",
        "    cbse_df['last_name'] = [' '.join(str(name).split(\" \")[1:]) for name in cbse_df['Name']]"
      ],
      "execution_count": null,
      "outputs": []
    },
    {
      "cell_type": "code",
      "metadata": {
        "id": "SYro9K_D8fJq"
      },
      "source": [
        "first_names = pd.DataFrame(cbse_df['first_name'])\n",
        "first_names['Gender'] = cbse_df['Gender']\n",
        "print(first_names.shape)"
      ],
      "execution_count": null,
      "outputs": []
    },
    {
      "cell_type": "code",
      "metadata": {
        "id": "3wCRS71T8fJr"
      },
      "source": [
        "first_names.head()"
      ],
      "execution_count": null,
      "outputs": []
    },
    {
      "cell_type": "code",
      "metadata": {
        "id": "WR-Bt7q-8fJs"
      },
      "source": [
        "Male_df=first_names.groupby(['Gender']).get_group('Boy')\n",
        "Female_df=first_names.groupby(['Gender']).get_group('Girl')\n",
        "# print(Male_df.groupby('first_name').count().sort_values(by=\"Gender\", ascending=False).head())\n",
        "# print(Female_df.groupby('first_name').count().sort_values(by='Gender', ascending=False).head())\n",
        "print(Male_df['first_name'].value_counts().head())\n",
        "print(Female_df['first_name'].value_counts().head())"
      ],
      "execution_count": null,
      "outputs": []
    },
    {
      "cell_type": "code",
      "metadata": {
        "id": "2dJC5d3I8fJs"
      },
      "source": [
        "Male_df = Male_df.drop_duplicates()\n",
        "Female_df = Female_df.drop_duplicates()"
      ],
      "execution_count": null,
      "outputs": []
    },
    {
      "cell_type": "code",
      "metadata": {
        "id": "xFhMRe0o8fJt"
      },
      "source": [
        "Male_df['last_letter'] = [str(name)[-1] for name in Male_df['first_name']]\n",
        "# Male_df['last_but_one_letter'] = [str(name)[-2] for name in Male_df['first_name']]\n",
        "Female_df['last_letter'] = [str(name)[-1] for name in Female_df['first_name']]"
      ],
      "execution_count": null,
      "outputs": []
    },
    {
      "cell_type": "code",
      "metadata": {
        "id": "8LHSee498fJt"
      },
      "source": [
        "print(Male_df.head())\n",
        "print(Male_df.shape)\n",
        "print(Female_df.head())\n",
        "print(Female_df.shape)"
      ],
      "execution_count": null,
      "outputs": []
    },
    {
      "cell_type": "code",
      "metadata": {
        "id": "v1vZ3FdW8fJu"
      },
      "source": [
        "Female_list = Female_df['last_letter'].value_counts().sort_index().to_list() / Female_df['last_letter'].value_counts().sum()\n",
        "Male_list = Male_df['last_letter'].value_counts().sort_index().to_list()[2:-2] / Male_df['last_letter'].value_counts().sum()"
      ],
      "execution_count": null,
      "outputs": []
    },
    {
      "cell_type": "code",
      "metadata": {
        "id": "HwaMhNyk8fJu"
      },
      "source": [
        "X = ['A', 'B', 'C', 'D' , 'E', 'F', 'G', 'H', 'I', 'J', 'K', 'L', 'M', 'N', 'O', 'P', 'Q' , 'R' , 'S', 'T', 'U', 'V', 'W','X','Y','Z']"
      ],
      "execution_count": null,
      "outputs": []
    },
    {
      "cell_type": "code",
      "metadata": {
        "id": "HoGnHu1q8fJv"
      },
      "source": [
        "import numpy as np \n",
        "import matplotlib.pyplot as plt \n",
        "  \n",
        "X_axis = np.arange(len(X))\n",
        "  \n",
        "plt.bar(X_axis - 0.2, Female_list, 0.4, label = 'Female')\n",
        "plt.bar(X_axis + 0.2, Male_list, 0.4, label = 'Male')\n",
        "  \n",
        "plt.xticks(X_axis, X)\n",
        "plt.xlabel(\"Last char of first name\")\n",
        "plt.ylabel(\"Percentage of students(cbse data)\")\n",
        "# plt.title(\"Number of Students in each group\")\n",
        "plt.legend()\n",
        "plt.show()"
      ],
      "execution_count": null,
      "outputs": []
    },
    {
      "cell_type": "code",
      "metadata": {
        "id": "DFmIoOji8fJv"
      },
      "source": [
        "Male_df['last_2_letter'] = [str(name)[-2:] for name in Male_df['first_name']]\n",
        "# Male_df['last_but_one_letter'] = [str(name)[-2] for name in Male_df['first_name']]\n",
        "Female_df['last_2_letter'] = [str(name)[-2:] for name in Female_df['first_name']]"
      ],
      "execution_count": null,
      "outputs": []
    },
    {
      "cell_type": "code",
      "metadata": {
        "id": "IMFHaoXP8fJw"
      },
      "source": [
        "ml = Male_df['last_2_letter'].value_counts().sort_index()\n",
        "fl = Female_df['last_2_letter'].value_counts().sort_index()\n",
        "heat_map_values = []\n",
        "for i in range(0,26):\n",
        "    arr = []\n",
        "    for j in range(0,26):\n",
        "        string = X[i]+X[j]\n",
        "        if string in fl.index:\n",
        "            f = fl[string]\n",
        "        else: f = 0\n",
        "            \n",
        "        if string in ml.index:\n",
        "            m = ml[string]\n",
        "        else: m = 0\n",
        "            \n",
        "        if m == 0:\n",
        "            prob = 1\n",
        "        elif f == 0:\n",
        "            prob = 0\n",
        "        else: prob = f/(f+m)\n",
        "#         prob = fl[string]/(fl[string]+ml[string])\n",
        "        arr.append(prob)\n",
        "    heat_map_values.append(arr)"
      ],
      "execution_count": null,
      "outputs": []
    },
    {
      "cell_type": "code",
      "metadata": {
        "id": "5HQj6qsJ8fJx"
      },
      "source": [
        "import seaborn as sns\n",
        "plt.figure(figsize = (10,10))\n",
        "sns.heatmap(heat_map_values, xticklabels=X, yticklabels=X, linewidth = .1)"
      ],
      "execution_count": null,
      "outputs": []
    },
    {
      "cell_type": "code",
      "metadata": {
        "id": "FhfV1mmx8fJx"
      },
      "source": [
        "Female_list = Female_df['last_letter'].value_counts().sort_index().to_list() / Female_df['last_letter'].value_counts().sum()\n",
        "Male_list = Male_df['last_letter'].value_counts().sort_index().to_list()[2:-2] / Male_df['last_letter'].value_counts().sum()"
      ],
      "execution_count": null,
      "outputs": []
    },
    {
      "cell_type": "code",
      "metadata": {
        "id": "YmHCNqva8fJy"
      },
      "source": [
        ""
      ],
      "execution_count": null,
      "outputs": []
    },
    {
      "cell_type": "code",
      "metadata": {
        "id": "j-1hBgJu8fJy"
      },
      "source": [
        ""
      ],
      "execution_count": null,
      "outputs": []
    },
    {
      "cell_type": "markdown",
      "metadata": {
        "id": "Xw0jpNPq8fJy"
      },
      "source": [
        "### Seperate Data Processing"
      ]
    },
    {
      "cell_type": "code",
      "metadata": {
        "id": "6_cHcJdj8fJz"
      },
      "source": [
        "import pandas as pd\n",
        "import numpy as np\n",
        "import json\n",
        "import csv"
      ],
      "execution_count": 42,
      "outputs": []
    },
    {
      "cell_type": "code",
      "metadata": {
        "id": "I36jDjkv8fJz"
      },
      "source": [
        "def replace_none(test_dict):\n",
        "  \n",
        "    # checking for dictionary and replacing if None\n",
        "    if isinstance(test_dict, dict):\n",
        "        \n",
        "        for key in test_dict:\n",
        "            if test_dict[key] is None:\n",
        "                test_dict[key] = {}\n",
        "            else:\n",
        "                replace_none(test_dict[key])\n",
        "  \n",
        "    # checking for list, and testing for each value\n",
        "    elif isinstance(test_dict, list):\n",
        "        for val in test_dict:\n",
        "            replace_none(val)"
      ],
      "execution_count": 44,
      "outputs": []
    },
    {
      "cell_type": "code",
      "metadata": {
        "id": "BFrNWcN08fJ0"
      },
      "source": [
        "cbse_2014 = pd.read_json('cbse_data_2014.json', orient='index')\n",
        "cbse_2015 = pd.read_json('cbse_data_2015.json', orient='index')\n",
        "cbse_2014.to_json('test_2014.json',orient='records')\n",
        "cbse_2015.to_json('test_2015.json', orient='records')\n",
        "\n",
        "with open('test_2014.json') as f:\n",
        "    data_2014 = json.load(f)\n",
        "\n",
        "with open('test_2015.json') as f:\n",
        "    data_2015 = json.load(f)\n",
        "    \n",
        "        \n",
        "replace_none(data_2014)\n",
        "replace_none(data_2015)\n",
        "\n",
        "cbse_2014_df_st = pd.json_normalize(data_2014)\n",
        "cbse_2015_df_st = pd.json_normalize(data_2015)"
      ],
      "execution_count": 45,
      "outputs": []
    },
    {
      "cell_type": "code",
      "metadata": {
        "id": "-koI22-98fJ0"
      },
      "source": [
        "cbse_2014_df_st.to_csv('2014_complete_data.csv')\n",
        "cbse_2015_df_st.to_csv('2015_complete_data.csv')"
      ],
      "execution_count": 46,
      "outputs": []
    },
    {
      "cell_type": "code",
      "metadata": {
        "id": "0Z10TiFMTOw_"
      },
      "source": [
        "c1 = pd.DataFrame()\n",
        "c1['Name'] = cbse_2014_df_st['mother_name']\n",
        "c1['Gender'] = 'Female'\n",
        "c2 = pd.DataFrame()\n",
        "c2['Name'] = cbse_2015_df_st['mother_name']\n",
        "c2['Gender'] = 'Female'\n",
        "c3 = pd.DataFrame()\n",
        "c3['Name'] = cbse_2014_df_st['father_name']\n",
        "c3['Gender'] = 'Male'\n",
        "c4 = pd.DataFrame()\n",
        "c4['Name'] = cbse_2015_df_st['father_name']\n",
        "c4['Gender'] = 'Male'\n",
        "c = pd.concat([c1, c2, c3, c4], ignore_index = True)"
      ],
      "execution_count": 49,
      "outputs": []
    },
    {
      "cell_type": "code",
      "metadata": {
        "colab": {
          "base_uri": "https://localhost:8080/"
        },
        "id": "p6_I72D0UEi6",
        "outputId": "4da0b0e9-dedd-46b9-c404-5575f006f99e"
      },
      "source": [
        "c.shape"
      ],
      "execution_count": 52,
      "outputs": [
        {
          "output_type": "execute_result",
          "data": {
            "text/plain": [
              "(388846, 2)"
            ]
          },
          "metadata": {},
          "execution_count": 52
        }
      ]
    },
    {
      "cell_type": "code",
      "metadata": {
        "id": "UR43t-iO8fJ1"
      },
      "source": [
        "def extract_first_name_last_name(cbse_df, column_name):\n",
        "    cbse_df[column_name+'_namelen']= [len(str(i)) for i in cbse_df[column_name]]\n",
        "    cbse_df = cbse_df[(cbse_df[column_name+'_namelen'] >= 2) ]\n",
        "    cbse_df[column_name+'_first_name'] = [str(name).split(' ')[0]  for name in cbse_df[column_name]]\n",
        "    cbse_df[column_name+'_last_name'] = [' '.join(str(name).split(\" \")[1:]) for name in cbse_df[column_name]]\n",
        "    return cbse_df"
      ],
      "execution_count": null,
      "outputs": []
    },
    {
      "cell_type": "code",
      "metadata": {
        "id": "LBagXKmM8fJ1"
      },
      "source": [
        "def get_freq_and_percent_df(df, column_name):\n",
        "    freq_df = df[column_name].value_counts().to_frame()\n",
        "    freq_df['percent'] = df[column_name].value_counts()/df[column_name].value_counts().sum()\n",
        "    return freq_df"
      ],
      "execution_count": null,
      "outputs": []
    },
    {
      "cell_type": "code",
      "metadata": {
        "id": "sLNRAyLC8fJ2"
      },
      "source": [
        "def get_freq_df(df, column_name):\n",
        "    freq_df = df[column_name].value_counts()\n",
        "    return freq_df"
      ],
      "execution_count": null,
      "outputs": []
    },
    {
      "cell_type": "markdown",
      "metadata": {
        "id": "XqAYXvcR8fJ2"
      },
      "source": [
        "## Correlation in frequency of names from students to parents"
      ]
    },
    {
      "cell_type": "code",
      "metadata": {
        "id": "mTBx_ebt8fJ3"
      },
      "source": [
        "cbse_2014_df = extract_first_name_last_name(cbse_2014_df_st, 'name')\n",
        "cbse_2015_df = extract_first_name_last_name(cbse_2015_df_st, 'name')\n",
        "cbse_2014_df = extract_first_name_last_name(cbse_2014_df, 'mother_name')\n",
        "cbse_2014_df = extract_first_name_last_name(cbse_2014_df, 'father_name')\n",
        "cbse_2015_df = extract_first_name_last_name(cbse_2015_df, 'father_name')\n",
        "cbse_2015_df = extract_first_name_last_name(cbse_2015_df, 'mother_name')"
      ],
      "execution_count": null,
      "outputs": []
    },
    {
      "cell_type": "code",
      "metadata": {
        "id": "ogh-3uVr8fJ3",
        "outputId": "e471eef0-edef-4415-9f8c-3c548b833c4d"
      },
      "source": [
        "cbse_2014_df.head()"
      ],
      "execution_count": null,
      "outputs": [
        {
          "data": {
            "text/html": [
              "<div>\n",
              "<style scoped>\n",
              "    .dataframe tbody tr th:only-of-type {\n",
              "        vertical-align: middle;\n",
              "    }\n",
              "\n",
              "    .dataframe tbody tr th {\n",
              "        vertical-align: top;\n",
              "    }\n",
              "\n",
              "    .dataframe thead th {\n",
              "        text-align: right;\n",
              "    }\n",
              "</style>\n",
              "<table border=\"1\" class=\"dataframe\">\n",
              "  <thead>\n",
              "    <tr style=\"text-align: right;\">\n",
              "      <th></th>\n",
              "      <th>roll_no</th>\n",
              "      <th>name</th>\n",
              "      <th>mother_name</th>\n",
              "      <th>father_name</th>\n",
              "      <th>result</th>\n",
              "      <th>ENGLISH CORE.sub_code</th>\n",
              "      <th>ENGLISH CORE.sub_name</th>\n",
              "      <th>ENGLISH CORE.theory</th>\n",
              "      <th>ENGLISH CORE.marks</th>\n",
              "      <th>ENGLISH CORE.grade</th>\n",
              "      <th>...</th>\n",
              "      <th>F.AID&amp; EMER.M.CARE.grade</th>\n",
              "      <th>name_namelen</th>\n",
              "      <th>mother_name_namelen</th>\n",
              "      <th>father_name_namelen</th>\n",
              "      <th>name_first_name</th>\n",
              "      <th>name_last_name</th>\n",
              "      <th>mother_name_first_name</th>\n",
              "      <th>mother_name_last_name</th>\n",
              "      <th>father_name_first_name</th>\n",
              "      <th>father_name_last_name</th>\n",
              "    </tr>\n",
              "  </thead>\n",
              "  <tbody>\n",
              "    <tr>\n",
              "      <th>0</th>\n",
              "      <td>1610001</td>\n",
              "      <td>PRIYA DIWAN</td>\n",
              "      <td>RAJSHREE DIWAN</td>\n",
              "      <td>PARESHKUMAR DIWAN</td>\n",
              "      <td>PASS</td>\n",
              "      <td>301</td>\n",
              "      <td>ENGLISH CORE</td>\n",
              "      <td>95.0</td>\n",
              "      <td>95.0</td>\n",
              "      <td>A1</td>\n",
              "      <td>...</td>\n",
              "      <td>NaN</td>\n",
              "      <td>11</td>\n",
              "      <td>14</td>\n",
              "      <td>17</td>\n",
              "      <td>PRIYA</td>\n",
              "      <td>DIWAN</td>\n",
              "      <td>RAJSHREE</td>\n",
              "      <td>DIWAN</td>\n",
              "      <td>PARESHKUMAR</td>\n",
              "      <td>DIWAN</td>\n",
              "    </tr>\n",
              "    <tr>\n",
              "      <th>1</th>\n",
              "      <td>1610002</td>\n",
              "      <td>AKSHITA JAIN</td>\n",
              "      <td>JYOTHI JAIN</td>\n",
              "      <td>HEMENDRA JAIN</td>\n",
              "      <td>PASS</td>\n",
              "      <td>301</td>\n",
              "      <td>ENGLISH CORE</td>\n",
              "      <td>91.0</td>\n",
              "      <td>91.0</td>\n",
              "      <td>A2</td>\n",
              "      <td>...</td>\n",
              "      <td>NaN</td>\n",
              "      <td>12</td>\n",
              "      <td>11</td>\n",
              "      <td>13</td>\n",
              "      <td>AKSHITA</td>\n",
              "      <td>JAIN</td>\n",
              "      <td>JYOTHI</td>\n",
              "      <td>JAIN</td>\n",
              "      <td>HEMENDRA</td>\n",
              "      <td>JAIN</td>\n",
              "    </tr>\n",
              "    <tr>\n",
              "      <th>2</th>\n",
              "      <td>1610003</td>\n",
              "      <td>NIDHI JAIN</td>\n",
              "      <td>NITU JAIN</td>\n",
              "      <td>DINESH JAIN</td>\n",
              "      <td>PASS</td>\n",
              "      <td>301</td>\n",
              "      <td>ENGLISH CORE</td>\n",
              "      <td>79.0</td>\n",
              "      <td>79.0</td>\n",
              "      <td>B2</td>\n",
              "      <td>...</td>\n",
              "      <td>NaN</td>\n",
              "      <td>10</td>\n",
              "      <td>9</td>\n",
              "      <td>11</td>\n",
              "      <td>NIDHI</td>\n",
              "      <td>JAIN</td>\n",
              "      <td>NITU</td>\n",
              "      <td>JAIN</td>\n",
              "      <td>DINESH</td>\n",
              "      <td>JAIN</td>\n",
              "    </tr>\n",
              "    <tr>\n",
              "      <th>3</th>\n",
              "      <td>1610004</td>\n",
              "      <td>SAMIKSHA JAIN</td>\n",
              "      <td>SARIKA JAIN</td>\n",
              "      <td>SUNDER JAIN</td>\n",
              "      <td>PASS</td>\n",
              "      <td>301</td>\n",
              "      <td>ENGLISH CORE</td>\n",
              "      <td>95.0</td>\n",
              "      <td>95.0</td>\n",
              "      <td>A1</td>\n",
              "      <td>...</td>\n",
              "      <td>NaN</td>\n",
              "      <td>13</td>\n",
              "      <td>11</td>\n",
              "      <td>11</td>\n",
              "      <td>SAMIKSHA</td>\n",
              "      <td>JAIN</td>\n",
              "      <td>SARIKA</td>\n",
              "      <td>JAIN</td>\n",
              "      <td>SUNDER</td>\n",
              "      <td>JAIN</td>\n",
              "    </tr>\n",
              "    <tr>\n",
              "      <th>4</th>\n",
              "      <td>1610005</td>\n",
              "      <td>NISHI JOSHINA</td>\n",
              "      <td>KETKI JOSHINA</td>\n",
              "      <td>ANAND JOSHINA</td>\n",
              "      <td>PASS</td>\n",
              "      <td>301</td>\n",
              "      <td>ENGLISH CORE</td>\n",
              "      <td>83.0</td>\n",
              "      <td>83.0</td>\n",
              "      <td>B1</td>\n",
              "      <td>...</td>\n",
              "      <td>NaN</td>\n",
              "      <td>13</td>\n",
              "      <td>13</td>\n",
              "      <td>13</td>\n",
              "      <td>NISHI</td>\n",
              "      <td>JOSHINA</td>\n",
              "      <td>KETKI</td>\n",
              "      <td>JOSHINA</td>\n",
              "      <td>ANAND</td>\n",
              "      <td>JOSHINA</td>\n",
              "    </tr>\n",
              "  </tbody>\n",
              "</table>\n",
              "<p>5 rows × 432 columns</p>\n",
              "</div>"
            ],
            "text/plain": [
              "   roll_no           name     mother_name        father_name result  \\\n",
              "0  1610001    PRIYA DIWAN  RAJSHREE DIWAN  PARESHKUMAR DIWAN   PASS   \n",
              "1  1610002   AKSHITA JAIN     JYOTHI JAIN      HEMENDRA JAIN   PASS   \n",
              "2  1610003     NIDHI JAIN       NITU JAIN        DINESH JAIN   PASS   \n",
              "3  1610004  SAMIKSHA JAIN     SARIKA JAIN        SUNDER JAIN   PASS   \n",
              "4  1610005  NISHI JOSHINA   KETKI JOSHINA      ANAND JOSHINA   PASS   \n",
              "\n",
              "  ENGLISH CORE.sub_code ENGLISH CORE.sub_name  ENGLISH CORE.theory  \\\n",
              "0                   301          ENGLISH CORE                 95.0   \n",
              "1                   301          ENGLISH CORE                 91.0   \n",
              "2                   301          ENGLISH CORE                 79.0   \n",
              "3                   301          ENGLISH CORE                 95.0   \n",
              "4                   301          ENGLISH CORE                 83.0   \n",
              "\n",
              "   ENGLISH CORE.marks ENGLISH CORE.grade  ... F.AID& EMER.M.CARE.grade  \\\n",
              "0                95.0                 A1  ...                      NaN   \n",
              "1                91.0                 A2  ...                      NaN   \n",
              "2                79.0                 B2  ...                      NaN   \n",
              "3                95.0                 A1  ...                      NaN   \n",
              "4                83.0                 B1  ...                      NaN   \n",
              "\n",
              "  name_namelen  mother_name_namelen  father_name_namelen name_first_name  \\\n",
              "0           11                   14                   17           PRIYA   \n",
              "1           12                   11                   13         AKSHITA   \n",
              "2           10                    9                   11           NIDHI   \n",
              "3           13                   11                   11        SAMIKSHA   \n",
              "4           13                   13                   13           NISHI   \n",
              "\n",
              "  name_last_name mother_name_first_name  mother_name_last_name  \\\n",
              "0          DIWAN               RAJSHREE                  DIWAN   \n",
              "1           JAIN                 JYOTHI                   JAIN   \n",
              "2           JAIN                   NITU                   JAIN   \n",
              "3           JAIN                 SARIKA                   JAIN   \n",
              "4        JOSHINA                  KETKI                JOSHINA   \n",
              "\n",
              "   father_name_first_name father_name_last_name  \n",
              "0             PARESHKUMAR                 DIWAN  \n",
              "1                HEMENDRA                  JAIN  \n",
              "2                  DINESH                  JAIN  \n",
              "3                  SUNDER                  JAIN  \n",
              "4                   ANAND               JOSHINA  \n",
              "\n",
              "[5 rows x 432 columns]"
            ]
          },
          "execution_count": 51,
          "metadata": {},
          "output_type": "execute_result"
        }
      ]
    },
    {
      "cell_type": "code",
      "metadata": {
        "id": "XRxa8FYT8fJ4"
      },
      "source": [
        "cbse_2014_student = get_freq_and_percent_df(cbse_2014_df, 'name_first_name')\n",
        "cbse_2014_mother = get_freq_and_percent_df(cbse_2014_df, 'mother_name_first_name')\n",
        "cbse_2014_father = get_freq_and_percent_df(cbse_2014_df, 'father_name_first_name')\n",
        "cbse_2014_parent = cbse_2014_mother.append(cbse_2014_father)"
      ],
      "execution_count": null,
      "outputs": []
    },
    {
      "cell_type": "code",
      "metadata": {
        "id": "weBQp9zI8fJ5"
      },
      "source": [
        "cbse_2014_student_ln = get_freq_and_percent_df(cbse_2014_df, 'name_last_name')\n",
        "cbse_2014_mother_ln = get_freq_and_percent_df(cbse_2014_df, 'mother_name_last_name')\n",
        "cbse_2014_father_ln = get_freq_and_percent_df(cbse_2014_df, 'father_name_last_name')\n",
        "\n",
        "cbse_2015_student_ln = get_freq_and_percent_df(cbse_2015_df, 'name_last_name')\n",
        "cbse_2015_mother_ln = get_freq_and_percent_df(cbse_2015_df, 'mother_name_last_name')\n",
        "cbse_2015_father_ln = get_freq_and_percent_df(cbse_2015_df, 'father_name_last_name')"
      ],
      "execution_count": null,
      "outputs": []
    },
    {
      "cell_type": "code",
      "metadata": {
        "id": "c9Gdi7P-8fJ5"
      },
      "source": [
        "def get_top_and_bottom(df, n):\n",
        "    df1 = df.head(n)\n",
        "    df1 = df1.append(df.tail(n))\n",
        "    return df1"
      ],
      "execution_count": null,
      "outputs": []
    },
    {
      "cell_type": "code",
      "metadata": {
        "id": "7jAxj7XB8fJ6"
      },
      "source": [
        "s14_s = get_top_and_bottom(cbse_2014_student_ln, 5)\n",
        "s14_m = get_top_and_bottom(cbse_2014_mother_ln, 5)\n",
        "s14_f = get_top_and_bottom(cbse_2014_father_ln, 5)\n",
        "s15_s = get_top_and_bottom(cbse_2015_student_ln, 5)\n",
        "s15_m = get_top_and_bottom(cbse_2015_mother_ln, 5)\n",
        "s15_f = get_top_and_bottom(cbse_2015_father_ln, 5)"
      ],
      "execution_count": null,
      "outputs": []
    },
    {
      "cell_type": "code",
      "metadata": {
        "id": "99NlJcgy8fJ6"
      },
      "source": [
        "from IPython.display import display_html\n",
        "from itertools import chain,cycle\n",
        "def display_side_by_side(*args,titles=cycle([''])):\n",
        "    html_str=''\n",
        "    for df,title in zip(args, chain(titles,cycle(['</br>'])) ):\n",
        "        html_str+='<th style=\"text-align:center\"><td style=\"vertical-align:top\">'\n",
        "        html_str+=f'<h2>{title}</h2>'\n",
        "        html_str+=df.to_html().replace('table','table style=\"display:inline\"')\n",
        "        html_str+='</td></th>'\n",
        "    display_html(html_str,raw=True)"
      ],
      "execution_count": null,
      "outputs": []
    },
    {
      "cell_type": "code",
      "metadata": {
        "id": "IkQeTe_B8fJ7",
        "outputId": "f803985e-df85-47ec-cfcf-f886d2147ff7"
      },
      "source": [
        "display_side_by_side(s14_s,s14_m, s14_f, titles=['Student Surname','Mother Surname', 'Father Surname'])"
      ],
      "execution_count": null,
      "outputs": [
        {
          "data": {
            "text/html": [
              "<th style=\"text-align:center\"><td style=\"vertical-align:top\"><h2>Student Surname</h2><table style=\"display:inline\" border=\"1\" class=\"dataframe\">\n",
              "  <thead>\n",
              "    <tr style=\"text-align: right;\">\n",
              "      <th></th>\n",
              "      <th>name_last_name</th>\n",
              "      <th>percent</th>\n",
              "    </tr>\n",
              "  </thead>\n",
              "  <tbody>\n",
              "    <tr>\n",
              "      <th>SHARMA</th>\n",
              "      <td>4910</td>\n",
              "      <td>0.048420</td>\n",
              "    </tr>\n",
              "    <tr>\n",
              "      <th>JAIN</th>\n",
              "      <td>4173</td>\n",
              "      <td>0.041152</td>\n",
              "    </tr>\n",
              "    <tr>\n",
              "      <th>SINGH</th>\n",
              "      <td>3801</td>\n",
              "      <td>0.037484</td>\n",
              "    </tr>\n",
              "    <tr>\n",
              "      <th>GUPTA</th>\n",
              "      <td>2259</td>\n",
              "      <td>0.022277</td>\n",
              "    </tr>\n",
              "    <tr>\n",
              "      <th>KUMAR</th>\n",
              "      <td>2147</td>\n",
              "      <td>0.021173</td>\n",
              "    </tr>\n",
              "    <tr>\n",
              "      <th>AMBEDKAR</th>\n",
              "      <td>1</td>\n",
              "      <td>0.000010</td>\n",
              "    </tr>\n",
              "    <tr>\n",
              "      <th>JEET SINGH SIDDHU</th>\n",
              "      <td>1</td>\n",
              "      <td>0.000010</td>\n",
              "    </tr>\n",
              "    <tr>\n",
              "      <th>KUMAR MADDESHIYA</th>\n",
              "      <td>1</td>\n",
              "      <td>0.000010</td>\n",
              "    </tr>\n",
              "    <tr>\n",
              "      <th>RAUTKAR</th>\n",
              "      <td>1</td>\n",
              "      <td>0.000010</td>\n",
              "    </tr>\n",
              "    <tr>\n",
              "      <th>S MACWAN</th>\n",
              "      <td>1</td>\n",
              "      <td>0.000010</td>\n",
              "    </tr>\n",
              "  </tbody>\n",
              "</table style=\"display:inline\"></td></th><th style=\"text-align:center\"><td style=\"vertical-align:top\"><h2>Mother Surname</h2><table style=\"display:inline\" border=\"1\" class=\"dataframe\">\n",
              "  <thead>\n",
              "    <tr style=\"text-align: right;\">\n",
              "      <th></th>\n",
              "      <th>mother_name_last_name</th>\n",
              "      <th>percent</th>\n",
              "    </tr>\n",
              "  </thead>\n",
              "  <tbody>\n",
              "    <tr>\n",
              "      <th>DEVI</th>\n",
              "      <td>9079</td>\n",
              "      <td>0.089533</td>\n",
              "    </tr>\n",
              "    <tr>\n",
              "      <th></th>\n",
              "      <td>7681</td>\n",
              "      <td>0.075747</td>\n",
              "    </tr>\n",
              "    <tr>\n",
              "      <th>SHARMA</th>\n",
              "      <td>5065</td>\n",
              "      <td>0.049949</td>\n",
              "    </tr>\n",
              "    <tr>\n",
              "      <th>JAIN</th>\n",
              "      <td>3913</td>\n",
              "      <td>0.038588</td>\n",
              "    </tr>\n",
              "    <tr>\n",
              "      <th>SINGH</th>\n",
              "      <td>2663</td>\n",
              "      <td>0.026261</td>\n",
              "    </tr>\n",
              "    <tr>\n",
              "      <th>CHAUTHWANI</th>\n",
              "      <td>1</td>\n",
              "      <td>0.000010</td>\n",
              "    </tr>\n",
              "    <tr>\n",
              "      <th>FATMA KHAN</th>\n",
              "      <td>1</td>\n",
              "      <td>0.000010</td>\n",
              "    </tr>\n",
              "    <tr>\n",
              "      <th>KISHORI</th>\n",
              "      <td>1</td>\n",
              "      <td>0.000010</td>\n",
              "    </tr>\n",
              "    <tr>\n",
              "      <th>KARODIWAL</th>\n",
              "      <td>1</td>\n",
              "      <td>0.000010</td>\n",
              "    </tr>\n",
              "    <tr>\n",
              "      <th>S MACWAN</th>\n",
              "      <td>1</td>\n",
              "      <td>0.000010</td>\n",
              "    </tr>\n",
              "  </tbody>\n",
              "</table style=\"display:inline\"></td></th><th style=\"text-align:center\"><td style=\"vertical-align:top\"><h2>Father Surname</h2><table style=\"display:inline\" border=\"1\" class=\"dataframe\">\n",
              "  <thead>\n",
              "    <tr style=\"text-align: right;\">\n",
              "      <th></th>\n",
              "      <th>father_name_last_name</th>\n",
              "      <th>percent</th>\n",
              "    </tr>\n",
              "  </thead>\n",
              "  <tbody>\n",
              "    <tr>\n",
              "      <th>SINGH</th>\n",
              "      <td>5799</td>\n",
              "      <td>0.057187</td>\n",
              "    </tr>\n",
              "    <tr>\n",
              "      <th></th>\n",
              "      <td>3623</td>\n",
              "      <td>0.035728</td>\n",
              "    </tr>\n",
              "    <tr>\n",
              "      <th>SHARMA</th>\n",
              "      <td>2784</td>\n",
              "      <td>0.027455</td>\n",
              "    </tr>\n",
              "    <tr>\n",
              "      <th>JAIN</th>\n",
              "      <td>2435</td>\n",
              "      <td>0.024013</td>\n",
              "    </tr>\n",
              "    <tr>\n",
              "      <th>KUMAR</th>\n",
              "      <td>2214</td>\n",
              "      <td>0.021833</td>\n",
              "    </tr>\n",
              "    <tr>\n",
              "      <th>K PORWAL</th>\n",
              "      <td>1</td>\n",
              "      <td>0.000010</td>\n",
              "    </tr>\n",
              "    <tr>\n",
              "      <th>POUL</th>\n",
              "      <td>1</td>\n",
              "      <td>0.000010</td>\n",
              "    </tr>\n",
              "    <tr>\n",
              "      <th>JETHI</th>\n",
              "      <td>1</td>\n",
              "      <td>0.000010</td>\n",
              "    </tr>\n",
              "    <tr>\n",
              "      <th>SINGH DUGAR</th>\n",
              "      <td>1</td>\n",
              "      <td>0.000010</td>\n",
              "    </tr>\n",
              "    <tr>\n",
              "      <th>KRISHNA MITTAL</th>\n",
              "      <td>1</td>\n",
              "      <td>0.000010</td>\n",
              "    </tr>\n",
              "  </tbody>\n",
              "</table style=\"display:inline\"></td></th>"
            ]
          },
          "metadata": {},
          "output_type": "display_data"
        }
      ]
    },
    {
      "cell_type": "code",
      "metadata": {
        "id": "jcdgboGz8fJ7",
        "outputId": "c976da30-d7aa-4a5a-b1d2-5e2eebba36ec"
      },
      "source": [
        "display_side_by_side(s15_s,s15_m, s15_f, titles=['Student Surname','Mother Surname', 'Father Surname'])"
      ],
      "execution_count": null,
      "outputs": [
        {
          "data": {
            "text/html": [
              "<th style=\"text-align:center\"><td style=\"vertical-align:top\"><h2>Student Surname</h2><table style=\"display:inline\" border=\"1\" class=\"dataframe\">\n",
              "  <thead>\n",
              "    <tr style=\"text-align: right;\">\n",
              "      <th></th>\n",
              "      <th>name_last_name</th>\n",
              "      <th>percent</th>\n",
              "    </tr>\n",
              "  </thead>\n",
              "  <tbody>\n",
              "    <tr>\n",
              "      <th>SHARMA</th>\n",
              "      <td>4540</td>\n",
              "      <td>0.048807</td>\n",
              "    </tr>\n",
              "    <tr>\n",
              "      <th>JAIN</th>\n",
              "      <td>3732</td>\n",
              "      <td>0.040121</td>\n",
              "    </tr>\n",
              "    <tr>\n",
              "      <th>SINGH</th>\n",
              "      <td>3546</td>\n",
              "      <td>0.038121</td>\n",
              "    </tr>\n",
              "    <tr>\n",
              "      <th>GUPTA</th>\n",
              "      <td>2163</td>\n",
              "      <td>0.023253</td>\n",
              "    </tr>\n",
              "    <tr>\n",
              "      <th>KUMAR</th>\n",
              "      <td>2138</td>\n",
              "      <td>0.022985</td>\n",
              "    </tr>\n",
              "    <tr>\n",
              "      <th>NAJA JAIN</th>\n",
              "      <td>1</td>\n",
              "      <td>0.000011</td>\n",
              "    </tr>\n",
              "    <tr>\n",
              "      <th>HATAI</th>\n",
              "      <td>1</td>\n",
              "      <td>0.000011</td>\n",
              "    </tr>\n",
              "    <tr>\n",
              "      <th>SHALINI</th>\n",
              "      <td>1</td>\n",
              "      <td>0.000011</td>\n",
              "    </tr>\n",
              "    <tr>\n",
              "      <th>BEHURA</th>\n",
              "      <td>1</td>\n",
              "      <td>0.000011</td>\n",
              "    </tr>\n",
              "    <tr>\n",
              "      <th>MANJUL KHARE</th>\n",
              "      <td>1</td>\n",
              "      <td>0.000011</td>\n",
              "    </tr>\n",
              "  </tbody>\n",
              "</table style=\"display:inline\"></td></th><th style=\"text-align:center\"><td style=\"vertical-align:top\"><h2>Mother Surname</h2><table style=\"display:inline\" border=\"1\" class=\"dataframe\">\n",
              "  <thead>\n",
              "    <tr style=\"text-align: right;\">\n",
              "      <th></th>\n",
              "      <th>mother_name_last_name</th>\n",
              "      <th>percent</th>\n",
              "    </tr>\n",
              "  </thead>\n",
              "  <tbody>\n",
              "    <tr>\n",
              "      <th>DEVI</th>\n",
              "      <td>8656</td>\n",
              "      <td>0.093056</td>\n",
              "    </tr>\n",
              "    <tr>\n",
              "      <th></th>\n",
              "      <td>6397</td>\n",
              "      <td>0.068771</td>\n",
              "    </tr>\n",
              "    <tr>\n",
              "      <th>SHARMA</th>\n",
              "      <td>4671</td>\n",
              "      <td>0.050216</td>\n",
              "    </tr>\n",
              "    <tr>\n",
              "      <th>JAIN</th>\n",
              "      <td>3522</td>\n",
              "      <td>0.037863</td>\n",
              "    </tr>\n",
              "    <tr>\n",
              "      <th>SINGH</th>\n",
              "      <td>2436</td>\n",
              "      <td>0.026188</td>\n",
              "    </tr>\n",
              "    <tr>\n",
              "      <th>CHALISE</th>\n",
              "      <td>1</td>\n",
              "      <td>0.000011</td>\n",
              "    </tr>\n",
              "    <tr>\n",
              "      <th>DANGWAL</th>\n",
              "      <td>1</td>\n",
              "      <td>0.000011</td>\n",
              "    </tr>\n",
              "    <tr>\n",
              "      <th>MANI BARLA</th>\n",
              "      <td>1</td>\n",
              "      <td>0.000011</td>\n",
              "    </tr>\n",
              "    <tr>\n",
              "      <th>MEHMOODA</th>\n",
              "      <td>1</td>\n",
              "      <td>0.000011</td>\n",
              "    </tr>\n",
              "    <tr>\n",
              "      <th>KALA MEHRA</th>\n",
              "      <td>1</td>\n",
              "      <td>0.000011</td>\n",
              "    </tr>\n",
              "  </tbody>\n",
              "</table style=\"display:inline\"></td></th><th style=\"text-align:center\"><td style=\"vertical-align:top\"><h2>Father Surname</h2><table style=\"display:inline\" border=\"1\" class=\"dataframe\">\n",
              "  <thead>\n",
              "    <tr style=\"text-align: right;\">\n",
              "      <th></th>\n",
              "      <th>father_name_last_name</th>\n",
              "      <th>percent</th>\n",
              "    </tr>\n",
              "  </thead>\n",
              "  <tbody>\n",
              "    <tr>\n",
              "      <th>SINGH</th>\n",
              "      <td>5336</td>\n",
              "      <td>0.057365</td>\n",
              "    </tr>\n",
              "    <tr>\n",
              "      <th></th>\n",
              "      <td>2680</td>\n",
              "      <td>0.028811</td>\n",
              "    </tr>\n",
              "    <tr>\n",
              "      <th>SHARMA</th>\n",
              "      <td>2544</td>\n",
              "      <td>0.027349</td>\n",
              "    </tr>\n",
              "    <tr>\n",
              "      <th>JAIN</th>\n",
              "      <td>2120</td>\n",
              "      <td>0.022791</td>\n",
              "    </tr>\n",
              "    <tr>\n",
              "      <th>KUMAR</th>\n",
              "      <td>1969</td>\n",
              "      <td>0.021168</td>\n",
              "    </tr>\n",
              "    <tr>\n",
              "      <th>K MANDWARYA</th>\n",
              "      <td>1</td>\n",
              "      <td>0.000011</td>\n",
              "    </tr>\n",
              "    <tr>\n",
              "      <th>DAS CHETWANI</th>\n",
              "      <td>1</td>\n",
              "      <td>0.000011</td>\n",
              "    </tr>\n",
              "    <tr>\n",
              "      <th>SINGH KIROLA</th>\n",
              "      <td>1</td>\n",
              "      <td>0.000011</td>\n",
              "    </tr>\n",
              "    <tr>\n",
              "      <th>RAO G V V S N</th>\n",
              "      <td>1</td>\n",
              "      <td>0.000011</td>\n",
              "    </tr>\n",
              "    <tr>\n",
              "      <th>KISHORE MEHTO</th>\n",
              "      <td>1</td>\n",
              "      <td>0.000011</td>\n",
              "    </tr>\n",
              "  </tbody>\n",
              "</table style=\"display:inline\"></td></th>"
            ]
          },
          "metadata": {},
          "output_type": "display_data"
        }
      ]
    },
    {
      "cell_type": "code",
      "metadata": {
        "id": "gN6Tu--i8fJ8"
      },
      "source": [
        "c14s = get_freq_df(cbse_2014_df, 'name_first_name')\n",
        "c14m = get_freq_df(cbse_2014_df, 'mother_name_first_name')\n",
        "c14f = get_freq_df(cbse_2014_df, 'father_name_first_name')\n",
        "c14p = c14m.append(c14f)\n",
        "\n",
        "c15s = get_freq_df(cbse_2015_df, 'name_first_name')\n",
        "c15m = get_freq_df(cbse_2015_df, 'mother_name_first_name')\n",
        "c15f = get_freq_df(cbse_2015_df, 'father_name_first_name')\n",
        "c15p = c15m.append(c15f)"
      ],
      "execution_count": null,
      "outputs": []
    },
    {
      "cell_type": "code",
      "metadata": {
        "scrolled": true,
        "id": "y-Wl_ozR8fJ8",
        "outputId": "345cf99c-5a78-4d16-a30d-acbd47b1d89c"
      },
      "source": [
        "print('c14s - c14p: Spearman', c14s.corr(c14p, method='spearman') )\n",
        "print('c14s - c14m: Spearman', c14s.corr(c14m, method='spearman') )\n",
        "print('c14s - c14f: Spearman', c14s.corr(c14f, method='spearman') )\n",
        "print('c15s - c15p: Spearman', c14s.corr(c15p, method='spearman') )\n",
        "print('c15s - c15m: Spearman', c14s.corr(c15m, method='spearman') )\n",
        "print('c15s - c15f: Spearman', c14s.corr(c15f, method='spearman') )\n",
        "print('c14s - c14p: Pearson', c14s.corr(c14p) )\n",
        "print('c14s - c14m: Pearson', c14s.corr(c14m) )\n",
        "print('c14s - c14f: Pearson', c14s.corr(c14f) )\n",
        "print('c15s - c15p: Pearson', c14s.corr(c15p) )\n",
        "print('c15s - c15m: Pearson', c14s.corr(c15m) )\n",
        "print('c15s - c15f: Pearson', c14s.corr(c15f) )\n"
      ],
      "execution_count": null,
      "outputs": [
        {
          "name": "stdout",
          "output_type": "stream",
          "text": [
            "c14s - c14p: Spearman 0.37379760720518157\n",
            "c14s - c14m: Spearman 0.37551644085993363\n",
            "c14s - c14f: Spearman 0.38379926866290515\n",
            "c15s - c15p: Spearman 0.35360237609058826\n",
            "c15s - c15m: Spearman 0.3553801921322891\n",
            "c15s - c15f: Spearman 0.36259193288460534\n",
            "c14s - c14p: Pearson 0.14132634572271588\n",
            "c14s - c14m: Pearson 0.0816157086743922\n",
            "c14s - c14f: Pearson 0.20609627334300576\n",
            "c15s - c15p: Pearson 0.12853117491156407\n",
            "c15s - c15m: Pearson 0.07254837792677309\n",
            "c15s - c15f: Pearson 0.18904464125858295\n"
          ]
        }
      ]
    },
    {
      "cell_type": "code",
      "metadata": {
        "id": "W1JCAaTV8fJ9",
        "outputId": "e53f83f3-d519-4112-bd2a-26a7e25efdb4"
      },
      "source": [
        "marks_col = []\n",
        "for col in cbse_2014_df.columns:\n",
        "    if \"marks\" in col:\n",
        "        marks_col.append(col)\n",
        "        \n",
        "print(marks_col)"
      ],
      "execution_count": null,
      "outputs": [
        {
          "name": "stdout",
          "output_type": "stream",
          "text": [
            "['ENGLISH CORE.marks', 'ECONOMICS.marks', 'MATHEMATICS.marks', 'BUSINESS STUDIES.marks', 'ACCOUNTANCY.marks', 'PHYSICAL EDUCATION.marks', 'PHYSICS.marks', 'CHEMISTRY.marks', 'COMPUTER SCIENCE.marks', 'BIOLOGY.marks', 'INFORMATICS PRAC..marks', 'HINDI CORE.marks', 'HISTORY.marks', 'GEOGRAPHY.marks', 'PAINTING.marks', 'HIND.MUSIC VOCAL.marks', 'PSYCHOLOGY.marks', 'ENTREPRENEURSHIP.marks', 'POLITICAL SCIENCE.marks', 'URDU CORE.marks', 'HOME SCIENCE.marks', 'SOCIOLOGY.marks', 'HISTORY W/O PR..marks', 'HIND MUSIC.INS.PER.marks', 'MULTIMEDIA & WEB T.marks', 'APP/COMMERCIAL ART.marks', 'SCULPTURE.marks', 'ENGG. GRAPHICS.marks', 'HINDI ELECTIVE.marks', 'ENGLISH ELECTIVE.marks', 'GEOSPATIAL TECH.marks', 'TYPOGRAPHY &CA ENG.marks', 'HIND.MUSIC MEL.INS.marks', 'BUS.STUDIES W/O PR.marks', 'ENGLISH ELECTIVE-C.marks', 'CARNATIC MUSIC VOC.marks', 'FOOD SERVICE.marks', 'FOOD& BEV C & CNTL.marks', 'HUMAN RIGHTS & G S.marks', 'AGRICULTURE.marks', 'INTG.TRNSPRT OPER..marks', 'SANSKRIT CORE.marks', 'DANCE-BHARATNATYAM.marks', 'DANCE-KATHAK.marks', 'BIOTECHNOLOGY.marks', 'GRAPHIC DESIGN.marks', 'FASHION STUDIES.marks', 'MARKETING(OLD SYL).marks', 'BASIC PATTERN DEV..marks', 'THEATRE STUDIES.marks', 'CAP.MARKET OPRTNS.marks', 'DERIVATIV MKT OPER.marks', 'NAT. CADET CORPS.marks', 'LEGAL STUDIES.marks', 'CAR.MUSIC INS(MEL).marks', 'B P O SKILLS.marks', 'MARKETING.marks', 'PUNJABI.marks', 'URDU ELECTIVE.marks', 'SANSKRIT ELECTIVE.marks', 'LIB.SYS & RES.MGT.marks', 'COST ACCOUNTING.marks', 'FRENCH.marks', 'FOOD PRODUCTIONIII.marks', 'FOOD PRODUCTION IV.marks', 'EVOL & FORMS M M.marks', 'CRTV &COM.PROC M M.marks', 'LGSTCS,OPER&SUP CH.marks', 'B CONCEPT-H &MED T.marks', 'F.AID& EMER.M.CARE.marks']\n"
          ]
        }
      ]
    },
    {
      "cell_type": "code",
      "metadata": {
        "id": "Gr3yQT738fJ-"
      },
      "source": [
        "c14_s_m_maths = pd.DataFrame()\n",
        "c14_s_m_maths['Mathematics'] = cbse_2014_df['MATHEMATICS.marks']\n",
        "c14_s_m_maths['Name'] = cbse_2014_df['name']"
      ],
      "execution_count": null,
      "outputs": []
    },
    {
      "cell_type": "code",
      "metadata": {
        "id": "M9AiSyYP8fJ-",
        "outputId": "a60fed94-0bb5-4db0-8b06-c937cfc99fe4"
      },
      "source": [
        "for index, row in cbse_2014_df.iterrows():\n",
        "    print(index, row)\n",
        "    break"
      ],
      "execution_count": null,
      "outputs": [
        {
          "name": "stdout",
          "output_type": "stream",
          "text": [
            "0 roll_no                             1610001\n",
            "name                            PRIYA DIWAN\n",
            "mother_name                  RAJSHREE DIWAN\n",
            "father_name               PARESHKUMAR DIWAN\n",
            "result                                 PASS\n",
            "                                ...        \n",
            "name_last_name                        DIWAN\n",
            "mother_name_first_name             RAJSHREE\n",
            "mother_name_last_name                 DIWAN\n",
            "father_name_first_name          PARESHKUMAR\n",
            "father_name_last_name                 DIWAN\n",
            "Name: 0, Length: 432, dtype: object\n"
          ]
        }
      ]
    },
    {
      "cell_type": "markdown",
      "metadata": {
        "id": "Bf5oTuXS8fJ_"
      },
      "source": [
        "## Correlation between Student and Marks"
      ]
    },
    {
      "cell_type": "code",
      "metadata": {
        "id": "TG9Fn_M_8fJ_",
        "outputId": "9e6193e6-a9d1-4ee9-cdb9-73547af1e217"
      },
      "source": [
        "import math\n",
        "\n",
        "# Get student names and marks\n",
        "c14_scores = pd.DataFrame()\n",
        "c14_scores['name'] = cbse_2014_df['name']\n",
        "c14_scores['marks'] = 0.0\n",
        "for index, row in cbse_2014_df.iterrows():\n",
        "    count = 0\n",
        "    score = 0\n",
        "    for col in marks_col:\n",
        "        if math.isnan(row[col]) == False:\n",
        "            count = count+1\n",
        "            score = score + row[col]\n",
        "#             print(row[col])\n",
        "    if count == 0:\n",
        "        avg = 0\n",
        "    else:\n",
        "        avg = score/count\n",
        "#     print(avg)\n",
        "    c14_scores['marks'][index] = avg  \n",
        "#     break\n"
      ],
      "execution_count": null,
      "outputs": [
        {
          "name": "stderr",
          "output_type": "stream",
          "text": [
            "/tmp/ipykernel_1032250/2024200589.py:20: SettingWithCopyWarning: \n",
            "A value is trying to be set on a copy of a slice from a DataFrame\n",
            "\n",
            "See the caveats in the documentation: https://pandas.pydata.org/pandas-docs/stable/user_guide/indexing.html#returning-a-view-versus-a-copy\n",
            "  c14_scores['marks'][index] = avg\n"
          ]
        }
      ]
    },
    {
      "cell_type": "code",
      "metadata": {
        "id": "aeupDNTF8fKA",
        "outputId": "ead64f75-f107-456a-bdca-06e0387c1d72"
      },
      "source": [
        "c14_scores.head()"
      ],
      "execution_count": null,
      "outputs": [
        {
          "data": {
            "text/html": [
              "<div>\n",
              "<style scoped>\n",
              "    .dataframe tbody tr th:only-of-type {\n",
              "        vertical-align: middle;\n",
              "    }\n",
              "\n",
              "    .dataframe tbody tr th {\n",
              "        vertical-align: top;\n",
              "    }\n",
              "\n",
              "    .dataframe thead th {\n",
              "        text-align: right;\n",
              "    }\n",
              "</style>\n",
              "<table border=\"1\" class=\"dataframe\">\n",
              "  <thead>\n",
              "    <tr style=\"text-align: right;\">\n",
              "      <th></th>\n",
              "      <th>name</th>\n",
              "      <th>marks</th>\n",
              "    </tr>\n",
              "  </thead>\n",
              "  <tbody>\n",
              "    <tr>\n",
              "      <th>0</th>\n",
              "      <td>PRIYA DIWAN</td>\n",
              "      <td>93.4</td>\n",
              "    </tr>\n",
              "    <tr>\n",
              "      <th>1</th>\n",
              "      <td>AKSHITA JAIN</td>\n",
              "      <td>89.8</td>\n",
              "    </tr>\n",
              "    <tr>\n",
              "      <th>2</th>\n",
              "      <td>NIDHI JAIN</td>\n",
              "      <td>63.6</td>\n",
              "    </tr>\n",
              "    <tr>\n",
              "      <th>3</th>\n",
              "      <td>SAMIKSHA JAIN</td>\n",
              "      <td>93.4</td>\n",
              "    </tr>\n",
              "    <tr>\n",
              "      <th>4</th>\n",
              "      <td>NISHI JOSHINA</td>\n",
              "      <td>88.8</td>\n",
              "    </tr>\n",
              "  </tbody>\n",
              "</table>\n",
              "</div>"
            ],
            "text/plain": [
              "            name  marks\n",
              "0    PRIYA DIWAN   93.4\n",
              "1   AKSHITA JAIN   89.8\n",
              "2     NIDHI JAIN   63.6\n",
              "3  SAMIKSHA JAIN   93.4\n",
              "4  NISHI JOSHINA   88.8"
            ]
          },
          "execution_count": 170,
          "metadata": {},
          "output_type": "execute_result"
        }
      ]
    },
    {
      "cell_type": "code",
      "metadata": {
        "id": "RWiBQwSy8fKB"
      },
      "source": [
        "c14_scores = extract_first_name_last_name(c14_scores, 'name')"
      ],
      "execution_count": null,
      "outputs": []
    },
    {
      "cell_type": "code",
      "metadata": {
        "id": "r2OrBTKe8fKB",
        "outputId": "87daeecd-b5b1-496c-acd7-f631025a47de"
      },
      "source": [
        "c14_scores.head()"
      ],
      "execution_count": null,
      "outputs": [
        {
          "data": {
            "text/html": [
              "<div>\n",
              "<style scoped>\n",
              "    .dataframe tbody tr th:only-of-type {\n",
              "        vertical-align: middle;\n",
              "    }\n",
              "\n",
              "    .dataframe tbody tr th {\n",
              "        vertical-align: top;\n",
              "    }\n",
              "\n",
              "    .dataframe thead th {\n",
              "        text-align: right;\n",
              "    }\n",
              "</style>\n",
              "<table border=\"1\" class=\"dataframe\">\n",
              "  <thead>\n",
              "    <tr style=\"text-align: right;\">\n",
              "      <th></th>\n",
              "      <th>name</th>\n",
              "      <th>marks</th>\n",
              "      <th>name_namelen</th>\n",
              "      <th>name_first_name</th>\n",
              "      <th>name_last_name</th>\n",
              "    </tr>\n",
              "  </thead>\n",
              "  <tbody>\n",
              "    <tr>\n",
              "      <th>0</th>\n",
              "      <td>PRIYA DIWAN</td>\n",
              "      <td>93.4</td>\n",
              "      <td>11</td>\n",
              "      <td>PRIYA</td>\n",
              "      <td>DIWAN</td>\n",
              "    </tr>\n",
              "    <tr>\n",
              "      <th>1</th>\n",
              "      <td>AKSHITA JAIN</td>\n",
              "      <td>89.8</td>\n",
              "      <td>12</td>\n",
              "      <td>AKSHITA</td>\n",
              "      <td>JAIN</td>\n",
              "    </tr>\n",
              "    <tr>\n",
              "      <th>2</th>\n",
              "      <td>NIDHI JAIN</td>\n",
              "      <td>63.6</td>\n",
              "      <td>10</td>\n",
              "      <td>NIDHI</td>\n",
              "      <td>JAIN</td>\n",
              "    </tr>\n",
              "    <tr>\n",
              "      <th>3</th>\n",
              "      <td>SAMIKSHA JAIN</td>\n",
              "      <td>93.4</td>\n",
              "      <td>13</td>\n",
              "      <td>SAMIKSHA</td>\n",
              "      <td>JAIN</td>\n",
              "    </tr>\n",
              "    <tr>\n",
              "      <th>4</th>\n",
              "      <td>NISHI JOSHINA</td>\n",
              "      <td>88.8</td>\n",
              "      <td>13</td>\n",
              "      <td>NISHI</td>\n",
              "      <td>JOSHINA</td>\n",
              "    </tr>\n",
              "  </tbody>\n",
              "</table>\n",
              "</div>"
            ],
            "text/plain": [
              "            name  marks  name_namelen name_first_name name_last_name\n",
              "0    PRIYA DIWAN   93.4            11           PRIYA          DIWAN\n",
              "1   AKSHITA JAIN   89.8            12         AKSHITA           JAIN\n",
              "2     NIDHI JAIN   63.6            10           NIDHI           JAIN\n",
              "3  SAMIKSHA JAIN   93.4            13        SAMIKSHA           JAIN\n",
              "4  NISHI JOSHINA   88.8            13           NISHI        JOSHINA"
            ]
          },
          "execution_count": 181,
          "metadata": {},
          "output_type": "execute_result"
        }
      ]
    },
    {
      "cell_type": "code",
      "metadata": {
        "id": "FXA0NolV8fKC"
      },
      "source": [
        "sur_names = c14_scores.groupby('name_last_name')"
      ],
      "execution_count": null,
      "outputs": []
    },
    {
      "cell_type": "code",
      "metadata": {
        "id": "dob7gQ6R8fKC"
      },
      "source": [
        "scores = sur_names['marks'].agg(np.mean)"
      ],
      "execution_count": null,
      "outputs": []
    },
    {
      "cell_type": "code",
      "metadata": {
        "id": "YP4V-McN8fKC",
        "outputId": "fd07adb7-e2ad-4b58-93d3-59df94045e0f"
      },
      "source": [
        "scores.sort_values(ascending = False)"
      ],
      "execution_count": null,
      "outputs": [
        {
          "data": {
            "text/plain": [
              "name_last_name\n",
              "TALUKA                 97.4\n",
              "JOHN S                 97.4\n",
              "GARAI                  97.2\n",
              "KHATSURIYA             97.0\n",
              "KUMAR JIGAR SANGHVI    96.8\n",
              "                       ... \n",
              "KAMLESH KUMAR DUBE      0.0\n",
              "BAJIRAO PATIL           0.0\n",
              "PAL SINGH SANDHU        0.0\n",
              "HAMBIRE                 0.0\n",
              "SINGH KAROL             0.0\n",
              "Name: marks, Length: 16715, dtype: float64"
            ]
          },
          "execution_count": 186,
          "metadata": {},
          "output_type": "execute_result"
        }
      ]
    },
    {
      "cell_type": "code",
      "metadata": {
        "id": "NcZTJBOY8fKD",
        "outputId": "00874717-be2d-430c-dba0-ad5720b646a4"
      },
      "source": [
        "import math\n",
        "\n",
        "marks_col = []\n",
        "for col in cbse_2015_df.columns:\n",
        "    if \"marks\" in col:\n",
        "        marks_col.append(col)\n",
        "        \n",
        "# print(marks_col)\n",
        "\n",
        "# Get student names and marks\n",
        "c15_scores = pd.DataFrame()\n",
        "c15_scores['name'] = cbse_2015_df['name']\n",
        "c15_scores['marks'] = 0.0\n",
        "for index, row in cbse_2015_df.iterrows():\n",
        "    count = 0\n",
        "    score = 0\n",
        "    for col in marks_col:\n",
        "        if math.isnan(row[col]) == False:\n",
        "            count = count+1\n",
        "            score = score + row[col]\n",
        "#             print(row[col])\n",
        "    if count == 0:\n",
        "        avg = 0\n",
        "    else:\n",
        "        avg = score/count\n",
        "#     print(avg)\n",
        "    c15_scores['marks'][index] = avg  \n",
        "#     break\n",
        "\n",
        "c15_scores = extract_first_name_last_name(c15_scores, 'name')\n",
        "sur_names = c15_scores.groupby('name_last_name')\n",
        "scores = sur_names['marks'].agg(np.mean)\n",
        "scores.sort_values(ascending = False)"
      ],
      "execution_count": null,
      "outputs": [
        {
          "name": "stderr",
          "output_type": "stream",
          "text": [
            "/tmp/ipykernel_1032250/3204567860.py:27: SettingWithCopyWarning: \n",
            "A value is trying to be set on a copy of a slice from a DataFrame\n",
            "\n",
            "See the caveats in the documentation: https://pandas.pydata.org/pandas-docs/stable/user_guide/indexing.html#returning-a-view-versus-a-copy\n",
            "  c15_scores['marks'][index] = avg\n"
          ]
        },
        {
          "data": {
            "text/plain": [
              "name_last_name\n",
              "AMIR               97.4\n",
              "D SHRIVASTAVA      97.2\n",
              "TARTE              97.2\n",
              "KUMARI DIGGI       96.8\n",
              "MAHEEDHARAN        96.8\n",
              "                   ... \n",
              "MANISHA             0.0\n",
              "KUMAR KISPOTTA      0.0\n",
              "DAGAL               0.0\n",
              "PRAKASH CHANDRA     0.0\n",
              "KHURMI              0.0\n",
              "Name: marks, Length: 15484, dtype: float64"
            ]
          },
          "execution_count": 188,
          "metadata": {},
          "output_type": "execute_result"
        }
      ]
    },
    {
      "cell_type": "code",
      "metadata": {
        "id": "pWuBXNdj8fKE",
        "outputId": "94ccae1d-d711-49b4-8c30-a2bc9e2312dc"
      },
      "source": [
        "cbse_2015_df['father_name'].isna().sum()"
      ],
      "execution_count": null,
      "outputs": [
        {
          "data": {
            "text/plain": [
              "0"
            ]
          },
          "execution_count": 202,
          "metadata": {},
          "output_type": "execute_result"
        }
      ]
    },
    {
      "cell_type": "code",
      "metadata": {
        "id": "o10ShaB_8fKE"
      },
      "source": [
        "disp = pd.DataFrame()\n",
        "disp['name'] = cbse_2015_df[cbse_2015_df['father_name'].isnull()]['name']\n",
        "disp['mother_name'] = cbse_2015_df[cbse_2015_df['father_name'].isnull()]['mother_name']\n",
        "disp['father_name'] = cbse_2015_df[cbse_2015_df['father_name'].isnull()]['father_name']"
      ],
      "execution_count": null,
      "outputs": []
    },
    {
      "cell_type": "code",
      "metadata": {
        "id": "ISxiDded8fKF",
        "outputId": "dddfec35-17fd-471d-d607-1db48b280e35"
      },
      "source": [
        "disp"
      ],
      "execution_count": null,
      "outputs": [
        {
          "data": {
            "text/html": [
              "<div>\n",
              "<style scoped>\n",
              "    .dataframe tbody tr th:only-of-type {\n",
              "        vertical-align: middle;\n",
              "    }\n",
              "\n",
              "    .dataframe tbody tr th {\n",
              "        vertical-align: top;\n",
              "    }\n",
              "\n",
              "    .dataframe thead th {\n",
              "        text-align: right;\n",
              "    }\n",
              "</style>\n",
              "<table border=\"1\" class=\"dataframe\">\n",
              "  <thead>\n",
              "    <tr style=\"text-align: right;\">\n",
              "      <th></th>\n",
              "      <th>name</th>\n",
              "      <th>mother_name</th>\n",
              "      <th>father_name</th>\n",
              "    </tr>\n",
              "  </thead>\n",
              "  <tbody>\n",
              "    <tr>\n",
              "      <th>18269</th>\n",
              "      <td>MARIA E BHASKAR</td>\n",
              "      <td>KANINIKA BHATNAGAR</td>\n",
              "      <td>NaN</td>\n",
              "    </tr>\n",
              "    <tr>\n",
              "      <th>21496</th>\n",
              "      <td>PIHU</td>\n",
              "      <td>NIDHI SINGHAL</td>\n",
              "      <td>NaN</td>\n",
              "    </tr>\n",
              "    <tr>\n",
              "      <th>23499</th>\n",
              "      <td>DEVNA SHAH</td>\n",
              "      <td>JUHI SHAH</td>\n",
              "      <td>NaN</td>\n",
              "    </tr>\n",
              "    <tr>\n",
              "      <th>23521</th>\n",
              "      <td>K HITAISHI DRAVID</td>\n",
              "      <td>KAMILINI DRAVID</td>\n",
              "      <td>NaN</td>\n",
              "    </tr>\n",
              "    <tr>\n",
              "      <th>23522</th>\n",
              "      <td>K HIMANI DRAVID</td>\n",
              "      <td>KAMILINI DRAVID</td>\n",
              "      <td>NaN</td>\n",
              "    </tr>\n",
              "    <tr>\n",
              "      <th>29198</th>\n",
              "      <td>NAVNEET KAUR</td>\n",
              "      <td>SUKHWINDER KAUR</td>\n",
              "      <td>NaN</td>\n",
              "    </tr>\n",
              "    <tr>\n",
              "      <th>43452</th>\n",
              "      <td>ARPIT KAPOOR</td>\n",
              "      <td>SUMAN KAPOOR</td>\n",
              "      <td>NaN</td>\n",
              "    </tr>\n",
              "    <tr>\n",
              "      <th>50540</th>\n",
              "      <td>CHIRMAIE NAGDA</td>\n",
              "      <td>DIMPLE NAGDA</td>\n",
              "      <td>NaN</td>\n",
              "    </tr>\n",
              "    <tr>\n",
              "      <th>71015</th>\n",
              "      <td>ANANT VARMAN</td>\n",
              "      <td>VINDHYESHWARI KUMARI</td>\n",
              "      <td>NaN</td>\n",
              "    </tr>\n",
              "  </tbody>\n",
              "</table>\n",
              "</div>"
            ],
            "text/plain": [
              "                    name           mother_name father_name\n",
              "18269    MARIA E BHASKAR    KANINIKA BHATNAGAR         NaN\n",
              "21496               PIHU         NIDHI SINGHAL         NaN\n",
              "23499         DEVNA SHAH             JUHI SHAH         NaN\n",
              "23521  K HITAISHI DRAVID       KAMILINI DRAVID         NaN\n",
              "23522    K HIMANI DRAVID       KAMILINI DRAVID         NaN\n",
              "29198       NAVNEET KAUR       SUKHWINDER KAUR         NaN\n",
              "43452       ARPIT KAPOOR          SUMAN KAPOOR         NaN\n",
              "50540     CHIRMAIE NAGDA          DIMPLE NAGDA         NaN\n",
              "71015       ANANT VARMAN  VINDHYESHWARI KUMARI         NaN"
            ]
          },
          "execution_count": 210,
          "metadata": {},
          "output_type": "execute_result"
        }
      ]
    },
    {
      "cell_type": "code",
      "metadata": {
        "id": "jJx-CBlL8fKF"
      },
      "source": [
        ""
      ],
      "execution_count": null,
      "outputs": []
    }
  ]
}