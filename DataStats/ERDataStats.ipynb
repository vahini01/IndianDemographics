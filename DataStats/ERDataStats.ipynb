{
 "cells": [
  {
   "cell_type": "code",
   "execution_count": 6,
   "metadata": {},
   "outputs": [],
   "source": [
    "import pandas as pd\n",
    "import numpy as np\n",
    "import matplotlib.pyplot as plt \n",
    "from os import listdir"
   ]
  },
  {
   "cell_type": "code",
   "execution_count": 5,
   "metadata": {},
   "outputs": [],
   "source": [
    "import sys  \n",
    "sys.path.insert(0, '../PreProcessing/')\n",
    "\n",
    "from utils import *\n",
    "from parse_df import *\n",
    "from split_name import *\n",
    "from char_utils import *"
   ]
  },
  {
   "cell_type": "code",
   "execution_count": 1,
   "metadata": {},
   "outputs": [
    {
     "name": "stdout",
     "output_type": "stream",
     "text": [
      "Data_PreProcessing.ipynb  ERDataStats.ipynb\r\n"
     ]
    }
   ],
   "source": [
    "%ls"
   ]
  },
  {
   "cell_type": "code",
   "execution_count": null,
   "metadata": {},
   "outputs": [],
   "source": [
    "getStateData(files, loc)"
   ]
  },
  {
   "cell_type": "code",
   "execution_count": 2,
   "metadata": {},
   "outputs": [],
   "source": [
    "# Correct and update MEghalaya csv"
   ]
  },
  {
   "cell_type": "code",
   "execution_count": 11,
   "metadata": {},
   "outputs": [],
   "source": [
    "def getStateData(files, loc):\n",
    "    req = []\n",
    "    for file in files:\n",
    "        if \".csv\" in file:\n",
    "            req.append(file)\n",
    "    df = pd.concat([pd.read_csv(loc+file, header=0, names=['name','father_name','husband_name','mother_name','house_number','gender','age']) for file in req], ignore_index=True)\n",
    "    return df"
   ]
  },
  {
   "cell_type": "code",
   "execution_count": 7,
   "metadata": {},
   "outputs": [],
   "source": [
    "files = listdir(MEGHALAYA)"
   ]
  },
  {
   "cell_type": "code",
   "execution_count": 8,
   "metadata": {},
   "outputs": [],
   "source": [
    "df = getStateData(listdir(MEGHALAYA), MEGHALAYA)"
   ]
  },
  {
   "cell_type": "code",
   "execution_count": 13,
   "metadata": {},
   "outputs": [],
   "source": [
    "daman = getStateData(listdir(DAMAN), DAMAN)\n",
    "daman.to_csv(DAMAN_CSV)"
   ]
  },
  {
   "cell_type": "code",
   "execution_count": 14,
   "metadata": {},
   "outputs": [],
   "source": [
    "manipur = getStateData(listdir(MANIPUR), MANIPUR)\n",
    "manipur.to_csv(MANIPUR_CSV)"
   ]
  },
  {
   "cell_type": "code",
   "execution_count": 15,
   "metadata": {},
   "outputs": [],
   "source": [
    "meghalaya = getStateData(listdir(MEGHALAYA), MEGHALAYA)\n",
    "meghalaya.to_csv(MEGHALAYA_CSV)"
   ]
  },
  {
   "cell_type": "code",
   "execution_count": 17,
   "metadata": {},
   "outputs": [],
   "source": [
    "nagaland = getStateData(listdir(NAGALAND), NAGALAND)\n",
    "nagaland.to_csv(NAGALAND_CSV)"
   ]
  },
  {
   "cell_type": "code",
   "execution_count": 19,
   "metadata": {},
   "outputs": [],
   "source": [
    "arunachal =getStateData(listdir(ARUNACHAL), ARUNACHAL)\n",
    "arunachal.to_csv(ARUNACHAL_CSV)"
   ]
  },
  {
   "cell_type": "code",
   "execution_count": 16,
   "metadata": {},
   "outputs": [],
   "source": [
    "delhi = getStateData(listdir(DELHI), DELHI)\n",
    "delhi.to_csv(DELHI_CSV)"
   ]
  },
  {
   "cell_type": "code",
   "execution_count": 20,
   "metadata": {},
   "outputs": [],
   "source": [
    "sikkim = getStateData(listdir(SIKKIM), SIKKIM)\n",
    "sikkim.to_csv(SIKKIM_CSV)"
   ]
  },
  {
   "cell_type": "code",
   "execution_count": 21,
   "metadata": {},
   "outputs": [],
   "source": [
    "mizoram = getStateData(listdir(MIZORAM), MIZORAM)\n",
    "mizoram.to_csv(MIZORAM_CSV)"
   ]
  },
  {
   "cell_type": "code",
   "execution_count": 22,
   "metadata": {},
   "outputs": [],
   "source": [
    "meg = pd.read_csv(MEGHALAYA_CSV)"
   ]
  },
  {
   "cell_type": "code",
   "execution_count": 23,
   "metadata": {},
   "outputs": [
    {
     "data": {
      "text/html": [
       "<div>\n",
       "<style scoped>\n",
       "    .dataframe tbody tr th:only-of-type {\n",
       "        vertical-align: middle;\n",
       "    }\n",
       "\n",
       "    .dataframe tbody tr th {\n",
       "        vertical-align: top;\n",
       "    }\n",
       "\n",
       "    .dataframe thead th {\n",
       "        text-align: right;\n",
       "    }\n",
       "</style>\n",
       "<table border=\"1\" class=\"dataframe\">\n",
       "  <thead>\n",
       "    <tr style=\"text-align: right;\">\n",
       "      <th></th>\n",
       "      <th>Unnamed: 0</th>\n",
       "      <th>name</th>\n",
       "      <th>father_name</th>\n",
       "      <th>husband_name</th>\n",
       "      <th>mother_name</th>\n",
       "      <th>house_number</th>\n",
       "      <th>gender</th>\n",
       "      <th>age</th>\n",
       "    </tr>\n",
       "  </thead>\n",
       "  <tbody>\n",
       "    <tr>\n",
       "      <th>0</th>\n",
       "      <td>0</td>\n",
       "      <td>AILAD SUCHIANG</td>\n",
       "      <td>SDIH TYNGKAN</td>\n",
       "      <td>NaN</td>\n",
       "      <td>NaN</td>\n",
       "      <td>1</td>\n",
       "      <td>FEMALE</td>\n",
       "      <td>70</td>\n",
       "    </tr>\n",
       "    <tr>\n",
       "      <th>1</th>\n",
       "      <td>1</td>\n",
       "      <td>RIIEl HOK SUCHIANG</td>\n",
       "      <td>NaN</td>\n",
       "      <td>NaN</td>\n",
       "      <td>AILAD SUCHIANG</td>\n",
       "      <td>1</td>\n",
       "      <td>FEMALE</td>\n",
       "      <td>29</td>\n",
       "    </tr>\n",
       "    <tr>\n",
       "      <th>2</th>\n",
       "      <td>2</td>\n",
       "      <td>RIDALIN SUCHIANG</td>\n",
       "      <td>SHIA BIAM</td>\n",
       "      <td>NaN</td>\n",
       "      <td>NaN</td>\n",
       "      <td>1</td>\n",
       "      <td>FEMALE</td>\n",
       "      <td>42</td>\n",
       "    </tr>\n",
       "    <tr>\n",
       "      <th>3</th>\n",
       "      <td>3</td>\n",
       "      <td>MARDEIMON SUCHIANG</td>\n",
       "      <td>ERAS WORLOI</td>\n",
       "      <td>NaN</td>\n",
       "      <td>NaN</td>\n",
       "      <td>1</td>\n",
       "      <td>FEMALE</td>\n",
       "      <td>25</td>\n",
       "    </tr>\n",
       "    <tr>\n",
       "      <th>4</th>\n",
       "      <td>4</td>\n",
       "      <td>DOLBI SUCHIANG</td>\n",
       "      <td>NaN</td>\n",
       "      <td>BNAl SHADAP</td>\n",
       "      <td>NaN</td>\n",
       "      <td>2</td>\n",
       "      <td>FEMALE</td>\n",
       "      <td>52</td>\n",
       "    </tr>\n",
       "  </tbody>\n",
       "</table>\n",
       "</div>"
      ],
      "text/plain": [
       "   Unnamed: 0                name   father_name husband_name     mother_name  \\\n",
       "0           0      AILAD SUCHIANG  SDIH TYNGKAN          NaN             NaN   \n",
       "1           1  RIIEl HOK SUCHIANG           NaN          NaN  AILAD SUCHIANG   \n",
       "2           2    RIDALIN SUCHIANG     SHIA BIAM          NaN             NaN   \n",
       "3           3  MARDEIMON SUCHIANG   ERAS WORLOI          NaN             NaN   \n",
       "4           4      DOLBI SUCHIANG           NaN  BNAl SHADAP             NaN   \n",
       "\n",
       "  house_number  gender  age  \n",
       "0            1  FEMALE   70  \n",
       "1            1  FEMALE   29  \n",
       "2            1  FEMALE   42  \n",
       "3            1  FEMALE   25  \n",
       "4            2  FEMALE   52  "
      ]
     },
     "execution_count": 23,
     "metadata": {},
     "output_type": "execute_result"
    }
   ],
   "source": [
    "meg.head()"
   ]
  },
  {
   "cell_type": "code",
   "execution_count": 24,
   "metadata": {},
   "outputs": [],
   "source": [
    "meg['name'] = [ name.replace('Other\\'s : ', ' ') for name in meg['name']]"
   ]
  },
  {
   "cell_type": "code",
   "execution_count": 32,
   "metadata": {},
   "outputs": [],
   "source": [
    "meg.to_csv(MEGHALAYA_CSV)"
   ]
  },
  {
   "cell_type": "code",
   "execution_count": 33,
   "metadata": {},
   "outputs": [
    {
     "data": {
      "text/html": [
       "<div>\n",
       "<style scoped>\n",
       "    .dataframe tbody tr th:only-of-type {\n",
       "        vertical-align: middle;\n",
       "    }\n",
       "\n",
       "    .dataframe tbody tr th {\n",
       "        vertical-align: top;\n",
       "    }\n",
       "\n",
       "    .dataframe thead th {\n",
       "        text-align: right;\n",
       "    }\n",
       "</style>\n",
       "<table border=\"1\" class=\"dataframe\">\n",
       "  <thead>\n",
       "    <tr style=\"text-align: right;\">\n",
       "      <th></th>\n",
       "      <th>name</th>\n",
       "      <th>father_name</th>\n",
       "      <th>husband_name</th>\n",
       "      <th>mother_name</th>\n",
       "      <th>house_number</th>\n",
       "      <th>gender</th>\n",
       "      <th>age</th>\n",
       "    </tr>\n",
       "  </thead>\n",
       "  <tbody>\n",
       "    <tr>\n",
       "      <th>0</th>\n",
       "      <td>AILAD SUCHIANG</td>\n",
       "      <td>SDIH TYNGKAN</td>\n",
       "      <td>NaN</td>\n",
       "      <td>NaN</td>\n",
       "      <td>1</td>\n",
       "      <td>FEMALE</td>\n",
       "      <td>70</td>\n",
       "    </tr>\n",
       "    <tr>\n",
       "      <th>1</th>\n",
       "      <td>RIIEl HOK SUCHIANG</td>\n",
       "      <td>NaN</td>\n",
       "      <td>NaN</td>\n",
       "      <td>AILAD SUCHIANG</td>\n",
       "      <td>1</td>\n",
       "      <td>FEMALE</td>\n",
       "      <td>29</td>\n",
       "    </tr>\n",
       "    <tr>\n",
       "      <th>2</th>\n",
       "      <td>RIDALIN SUCHIANG</td>\n",
       "      <td>SHIA BIAM</td>\n",
       "      <td>NaN</td>\n",
       "      <td>NaN</td>\n",
       "      <td>1</td>\n",
       "      <td>FEMALE</td>\n",
       "      <td>42</td>\n",
       "    </tr>\n",
       "    <tr>\n",
       "      <th>3</th>\n",
       "      <td>MARDEIMON SUCHIANG</td>\n",
       "      <td>ERAS WORLOI</td>\n",
       "      <td>NaN</td>\n",
       "      <td>NaN</td>\n",
       "      <td>1</td>\n",
       "      <td>FEMALE</td>\n",
       "      <td>25</td>\n",
       "    </tr>\n",
       "    <tr>\n",
       "      <th>4</th>\n",
       "      <td>DOLBI SUCHIANG</td>\n",
       "      <td>NaN</td>\n",
       "      <td>BNAl SHADAP</td>\n",
       "      <td>NaN</td>\n",
       "      <td>2</td>\n",
       "      <td>FEMALE</td>\n",
       "      <td>52</td>\n",
       "    </tr>\n",
       "  </tbody>\n",
       "</table>\n",
       "</div>"
      ],
      "text/plain": [
       "                 name   father_name husband_name     mother_name house_number  \\\n",
       "0      AILAD SUCHIANG  SDIH TYNGKAN          NaN             NaN            1   \n",
       "1  RIIEl HOK SUCHIANG           NaN          NaN  AILAD SUCHIANG            1   \n",
       "2    RIDALIN SUCHIANG     SHIA BIAM          NaN             NaN            1   \n",
       "3  MARDEIMON SUCHIANG   ERAS WORLOI          NaN             NaN            1   \n",
       "4      DOLBI SUCHIANG           NaN  BNAl SHADAP             NaN            2   \n",
       "\n",
       "   gender  age  \n",
       "0  FEMALE   70  \n",
       "1  FEMALE   29  \n",
       "2  FEMALE   42  \n",
       "3  FEMALE   25  \n",
       "4  FEMALE   52  "
      ]
     },
     "execution_count": 33,
     "metadata": {},
     "output_type": "execute_result"
    }
   ],
   "source": [
    "meg.head()"
   ]
  },
  {
   "cell_type": "code",
   "execution_count": null,
   "metadata": {},
   "outputs": [],
   "source": []
  }
 ],
 "metadata": {
  "kernelspec": {
   "display_name": "Python [conda env:.conda-py36]",
   "language": "python",
   "name": "conda-env-.conda-py36-py"
  },
  "language_info": {
   "codemirror_mode": {
    "name": "ipython",
    "version": 3
   },
   "file_extension": ".py",
   "mimetype": "text/x-python",
   "name": "python",
   "nbconvert_exporter": "python",
   "pygments_lexer": "ipython3",
   "version": "3.6.10"
  }
 },
 "nbformat": 4,
 "nbformat_minor": 4
}
