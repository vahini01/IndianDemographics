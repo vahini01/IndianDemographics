{
 "cells": [
  {
   "cell_type": "markdown",
   "metadata": {
    "id": "P_xep_Kdsdz_"
   },
   "source": [
    "https://github.com/prdeepakbabu/Python/blob/master/Deep%20learning%20gender/Deep%20Learning%20(RNN%20-%20LSTMs)%20Predict%20Gender%20from%20Name.ipynb \n",
    "\n",
    "https://github.com/mhjabreel/CharCnn_Keras/blob/master/models/char_cnn_zhang.py "
   ]
  },
  {
   "cell_type": "code",
   "execution_count": 1,
   "metadata": {
    "executionInfo": {
     "elapsed": 3626,
     "status": "ok",
     "timestamp": 1641428484138,
     "user": {
      "displayName": "vahini",
      "photoUrl": "https://lh3.googleusercontent.com/a-/AOh14GhHTsSlWlULa1FavIyz3YWkccn_KU1l5Gvimbzj=s64",
      "userId": "09646027977877841530"
     },
     "user_tz": -330
    },
    "id": "7fqObYUM91d9"
   },
   "outputs": [],
   "source": [
    "import tensorflow as tf\n",
    "from tensorflow import keras"
   ]
  },
  {
   "cell_type": "code",
   "execution_count": 2,
   "metadata": {
    "executionInfo": {
     "elapsed": 10,
     "status": "ok",
     "timestamp": 1641428484140,
     "user": {
      "displayName": "vahini",
      "photoUrl": "https://lh3.googleusercontent.com/a-/AOh14GhHTsSlWlULa1FavIyz3YWkccn_KU1l5Gvimbzj=s64",
      "userId": "09646027977877841530"
     },
     "user_tz": -330
    },
    "id": "hZ3N3Q1AsbHh"
   },
   "outputs": [],
   "source": [
    "from __future__ import print_function\n",
    "\n",
    "from sklearn.preprocessing import OneHotEncoder\n",
    "from tensorflow.python.keras.layers.core import Dense, Activation, Dropout\n",
    "from tensorflow.python.keras.preprocessing import sequence\n",
    "from tensorflow.python.keras.models import Sequential, Model, load_model\n",
    "from tensorflow.python.keras.layers import Dense, Embedding\n",
    "from tensorflow.python.keras.layers import LSTM\n",
    "from tensorflow.python.keras.layers import Input, Dense, Flatten\n",
    "from tensorflow.python.keras.callbacks import TensorBoard\n",
    "import pandas as pd\n",
    "import numpy as np\n",
    "import os\n",
    "from sklearn.metrics import classification_report"
   ]
  },
  {
   "cell_type": "code",
   "execution_count": 3,
   "metadata": {
    "colab": {
     "base_uri": "https://localhost:8080/"
    },
    "executionInfo": {
     "elapsed": 23775,
     "status": "ok",
     "timestamp": 1641428507905,
     "user": {
      "displayName": "vahini",
      "photoUrl": "https://lh3.googleusercontent.com/a-/AOh14GhHTsSlWlULa1FavIyz3YWkccn_KU1l5Gvimbzj=s64",
      "userId": "09646027977877841530"
     },
     "user_tz": -330
    },
    "id": "HcL8NqPB-KRI",
    "outputId": "b6344926-4694-4abb-a7c8-70a92c18f0e0"
   },
   "outputs": [
    {
     "name": "stdout",
     "output_type": "stream",
     "text": [
      "Mounted at /content/drive\n"
     ]
    }
   ],
   "source": [
    "from google.colab import drive\n",
    "drive.mount('/content/drive')"
   ]
  },
  {
   "cell_type": "code",
   "execution_count": 4,
   "metadata": {
    "executionInfo": {
     "elapsed": 11,
     "status": "ok",
     "timestamp": 1641428507905,
     "user": {
      "displayName": "vahini",
      "photoUrl": "https://lh3.googleusercontent.com/a-/AOh14GhHTsSlWlULa1FavIyz3YWkccn_KU1l5Gvimbzj=s64",
      "userId": "09646027977877841530"
     },
     "user_tz": -330
    },
    "id": "lEORtbQs-K8a"
   },
   "outputs": [],
   "source": [
    "PATH_TO_FOLDER = \"drive/MyDrive/Name2Demographics/\""
   ]
  },
  {
   "cell_type": "code",
   "execution_count": 5,
   "metadata": {
    "colab": {
     "base_uri": "https://localhost:8080/"
    },
    "executionInfo": {
     "elapsed": 10,
     "status": "ok",
     "timestamp": 1641428507906,
     "user": {
      "displayName": "vahini",
      "photoUrl": "https://lh3.googleusercontent.com/a-/AOh14GhHTsSlWlULa1FavIyz3YWkccn_KU1l5Gvimbzj=s64",
      "userId": "09646027977877841530"
     },
     "user_tz": -330
    },
    "id": "LWVewh8a-vUC",
    "outputId": "8aa5bdee-ea47-4e0b-c9e7-10bed44d4691"
   },
   "outputs": [
    {
     "name": "stdout",
     "output_type": "stream",
     "text": [
      "/content/drive/MyDrive/Name2Demographics\n"
     ]
    }
   ],
   "source": [
    "%cd $PATH_TO_FOLDER"
   ]
  },
  {
   "cell_type": "code",
   "execution_count": 3,
   "metadata": {},
   "outputs": [
    {
     "name": "stdout",
     "output_type": "stream",
     "text": [
      "/home/souvic/mounted/btp/vahini/Name2Demographics\n"
     ]
    }
   ],
   "source": [
    "%cd ../../../"
   ]
  },
  {
   "cell_type": "code",
   "execution_count": 4,
   "metadata": {},
   "outputs": [],
   "source": [
    "import os\n",
    "os.environ[\"CUDA_VISIBLE_DEVICES\"]=\"-1\"    \n",
    "import tensorflow as tf"
   ]
  },
  {
   "cell_type": "code",
   "execution_count": 5,
   "metadata": {
    "executionInfo": {
     "elapsed": 3988,
     "status": "ok",
     "timestamp": 1641428511887,
     "user": {
      "displayName": "vahini",
      "photoUrl": "https://lh3.googleusercontent.com/a-/AOh14GhHTsSlWlULa1FavIyz3YWkccn_KU1l5Gvimbzj=s64",
      "userId": "09646027977877841530"
     },
     "user_tz": -330
    },
    "id": "nWiZcsh791eC"
   },
   "outputs": [],
   "source": [
    "import sys  \n",
    "sys.path.insert(0, 'Models/PreProcessing/')\n",
    "\n",
    "from char_utils import *\n",
    "\n",
    "sys.path.insert(0, 'Models/AIEEEGenderData/Preprocessing/')\n",
    "from aieee_gender import *"
   ]
  },
  {
   "cell_type": "code",
   "execution_count": 7,
   "metadata": {
    "executionInfo": {
     "elapsed": 26,
     "status": "ok",
     "timestamp": 1641428511888,
     "user": {
      "displayName": "vahini",
      "photoUrl": "https://lh3.googleusercontent.com/a-/AOh14GhHTsSlWlULa1FavIyz3YWkccn_KU1l5Gvimbzj=s64",
      "userId": "09646027977877841530"
     },
     "user_tz": -330
    },
    "id": "VGl4vCnG91eD"
   },
   "outputs": [],
   "source": [
    "# print(tf.__version__)"
   ]
  },
  {
   "cell_type": "code",
   "execution_count": 8,
   "metadata": {
    "executionInfo": {
     "elapsed": 25,
     "status": "ok",
     "timestamp": 1641428511889,
     "user": {
      "displayName": "vahini",
      "photoUrl": "https://lh3.googleusercontent.com/a-/AOh14GhHTsSlWlULa1FavIyz3YWkccn_KU1l5Gvimbzj=s64",
      "userId": "09646027977877841530"
     },
     "user_tz": -330
    },
    "id": "nydpBcCy91eD"
   },
   "outputs": [],
   "source": [
    "# physical_devices = tf.config.list_physical_devices('GPU')\n",
    "# # tf.config.experimental.set_memory_growth(physical_devices[0], enable=True)\n",
    "# from tensorflow.python.client import device_lib\n",
    "\n",
    "# def get_available_devices():\n",
    "#     local_device_protos = device_lib.list_local_devices()\n",
    "#     return [x.name for x in local_device_protos if x.device_type == 'GPU' or x.device_type == 'CPU']"
   ]
  },
  {
   "cell_type": "code",
   "execution_count": 9,
   "metadata": {
    "executionInfo": {
     "elapsed": 25,
     "status": "ok",
     "timestamp": 1641428511890,
     "user": {
      "displayName": "vahini",
      "photoUrl": "https://lh3.googleusercontent.com/a-/AOh14GhHTsSlWlULa1FavIyz3YWkccn_KU1l5Gvimbzj=s64",
      "userId": "09646027977877841530"
     },
     "user_tz": -330
    },
    "id": "QAdrn-2E91eF"
   },
   "outputs": [],
   "source": [
    "# get_available_devices()"
   ]
  },
  {
   "cell_type": "markdown",
   "metadata": {
    "id": "LBe0L7zO91eH"
   },
   "source": [
    "### PreProcessing"
   ]
  },
  {
   "cell_type": "code",
   "execution_count": 6,
   "metadata": {
    "colab": {
     "base_uri": "https://localhost:8080/"
    },
    "executionInfo": {
     "elapsed": 25610,
     "status": "ok",
     "timestamp": 1641428537475,
     "user": {
      "displayName": "vahini",
      "photoUrl": "https://lh3.googleusercontent.com/a-/AOh14GhHTsSlWlULa1FavIyz3YWkccn_KU1l5Gvimbzj=s64",
      "userId": "09646027977877841530"
     },
     "user_tz": -330
    },
    "id": "s7O5eD7z91eI",
    "outputId": "59e7b01e-de01-4ab9-e50e-26a465c417d0"
   },
   "outputs": [],
   "source": [
    "aieee_df = AIEEEGenderData()"
   ]
  },
  {
   "cell_type": "code",
   "execution_count": 7,
   "metadata": {
    "colab": {
     "base_uri": "https://localhost:8080/"
    },
    "executionInfo": {
     "elapsed": 121226,
     "status": "ok",
     "timestamp": 1641428658681,
     "user": {
      "displayName": "vahini",
      "photoUrl": "https://lh3.googleusercontent.com/a-/AOh14GhHTsSlWlULa1FavIyz3YWkccn_KU1l5Gvimbzj=s64",
      "userId": "09646027977877841530"
     },
     "user_tz": -330
    },
    "id": "ggitf6Ds91eJ",
    "outputId": "2d6f5794-6d8a-4b62-b527-e4dd565d736a"
   },
   "outputs": [
    {
     "name": "stdout",
     "output_type": "stream",
     "text": [
      "(train:(284697, 4), val:(0, 0), test:(124589, 4))\n",
      "Train: ((278492, 30),(278492, 2)) Val:((0,),(0,)) Test: ((122434, 30),(122434, 2))\n"
     ]
    }
   ],
   "source": [
    "train_x, train_y, val_x, val_y, test_x, test_y = splitData(aieee_df, 0.7, 0, 'Name', 'char_lstm_cbse_oov.txt')"
   ]
  },
  {
   "cell_type": "code",
   "execution_count": 8,
   "metadata": {
    "executionInfo": {
     "elapsed": 11,
     "status": "ok",
     "timestamp": 1641428658682,
     "user": {
      "displayName": "vahini",
      "photoUrl": "https://lh3.googleusercontent.com/a-/AOh14GhHTsSlWlULa1FavIyz3YWkccn_KU1l5Gvimbzj=s64",
      "userId": "09646027977877841530"
     },
     "user_tz": -330
    },
    "id": "Rg91juns91eK"
   },
   "outputs": [],
   "source": [
    "voc = vocab()"
   ]
  },
  {
   "cell_type": "markdown",
   "metadata": {
    "id": "8GnY_M8F91eK"
   },
   "source": [
    "### Build Model"
   ]
  },
  {
   "cell_type": "code",
   "execution_count": null,
   "metadata": {
    "id": "0PF6mAYT91eL"
   },
   "outputs": [],
   "source": [
    "# import os\n",
    "# os.environ['TF_CPP_MIN_LOG_LEVEL'] = '2'  "
   ]
  },
  {
   "cell_type": "code",
   "execution_count": 9,
   "metadata": {
    "executionInfo": {
     "elapsed": 3286,
     "status": "ok",
     "timestamp": 1641428686962,
     "user": {
      "displayName": "vahini",
      "photoUrl": "https://lh3.googleusercontent.com/a-/AOh14GhHTsSlWlULa1FavIyz3YWkccn_KU1l5Gvimbzj=s64",
      "userId": "09646027977877841530"
     },
     "user_tz": -330
    },
    "id": "ueNz17ph91eL"
   },
   "outputs": [
    {
     "name": "stderr",
     "output_type": "stream",
     "text": [
      "2022-03-17 14:51:43.354260: E tensorflow/stream_executor/cuda/cuda_driver.cc:271] failed call to cuInit: CUDA_ERROR_NO_DEVICE: no CUDA-capable device is detected\n",
      "2022-03-17 14:51:43.354401: I tensorflow/stream_executor/cuda/cuda_diagnostics.cc:169] retrieving CUDA diagnostic information for host: obelix\n",
      "2022-03-17 14:51:43.354431: I tensorflow/stream_executor/cuda/cuda_diagnostics.cc:176] hostname: obelix\n",
      "2022-03-17 14:51:43.354894: I tensorflow/stream_executor/cuda/cuda_diagnostics.cc:200] libcuda reported version is: 470.86.0\n",
      "2022-03-17 14:51:43.363108: I tensorflow/stream_executor/cuda/cuda_diagnostics.cc:204] kernel reported version is: 470.86.0\n",
      "2022-03-17 14:51:43.363137: I tensorflow/stream_executor/cuda/cuda_diagnostics.cc:310] kernel version seems to match DSO: 470.86.0\n",
      "2022-03-17 14:51:43.376621: I tensorflow/core/platform/cpu_feature_guard.cc:151] This TensorFlow binary is optimized with oneAPI Deep Neural Network Library (oneDNN) to use the following CPU instructions in performance-critical operations:  AVX2 AVX512F FMA\n",
      "To enable them in other operations, rebuild TensorFlow with the appropriate compiler flags.\n"
     ]
    }
   ],
   "source": [
    "inputs = Input(MAXLEN_NAME_CHAR_LSTM)\n",
    "x = Embedding(len(voc), len(voc))(inputs)\n",
    "# x = LSTM(64, return_sequences=True, activation='tanh')(x)\n",
    "# x = Dropout(0.2)(x)\n",
    "x = LSTM(64, return_sequences=False, activation='tanh')(x)\n",
    "x = Dropout(0.2)(x)\n",
    "# x = Dense(8, activation='relu')(x)\n",
    "predictions = Dense(2, activation='softmax')(x)\n",
    "model = Model(inputs=inputs, outputs=predictions)"
   ]
  },
  {
   "cell_type": "code",
   "execution_count": 10,
   "metadata": {
    "colab": {
     "base_uri": "https://localhost:8080/"
    },
    "executionInfo": {
     "elapsed": 5,
     "status": "ok",
     "timestamp": 1641428686964,
     "user": {
      "displayName": "vahini",
      "photoUrl": "https://lh3.googleusercontent.com/a-/AOh14GhHTsSlWlULa1FavIyz3YWkccn_KU1l5Gvimbzj=s64",
      "userId": "09646027977877841530"
     },
     "user_tz": -330
    },
    "id": "xeiBlrPJ91eM",
    "outputId": "fc64caaf-5edb-408b-a6be-8507ea4b7384"
   },
   "outputs": [
    {
     "name": "stdout",
     "output_type": "stream",
     "text": [
      "Model: \"model\"\n",
      "_________________________________________________________________\n",
      "Layer (type)                 Output Shape              Param #   \n",
      "=================================================================\n",
      "input_1 (InputLayer)         [(None, 30)]              0         \n",
      "_________________________________________________________________\n",
      "embedding (Embedding)        (None, 30, 28)            784       \n",
      "_________________________________________________________________\n",
      "lstm (LSTM)                  (None, 64)                23808     \n",
      "_________________________________________________________________\n",
      "dropout (Dropout)            (None, 64)                0         \n",
      "_________________________________________________________________\n",
      "dense (Dense)                (None, 2)                 130       \n",
      "=================================================================\n",
      "Total params: 24,722\n",
      "Trainable params: 24,722\n",
      "Non-trainable params: 0\n",
      "_________________________________________________________________\n"
     ]
    }
   ],
   "source": [
    "model.summary()"
   ]
  },
  {
   "cell_type": "code",
   "execution_count": 11,
   "metadata": {
    "executionInfo": {
     "elapsed": 4,
     "status": "ok",
     "timestamp": 1641428687653,
     "user": {
      "displayName": "vahini",
      "photoUrl": "https://lh3.googleusercontent.com/a-/AOh14GhHTsSlWlULa1FavIyz3YWkccn_KU1l5Gvimbzj=s64",
      "userId": "09646027977877841530"
     },
     "user_tz": -330
    },
    "id": "sOTeTMKA91eN"
   },
   "outputs": [],
   "source": [
    "model.compile(loss='categorical_crossentropy', optimizer='adam',metrics=['accuracy'])"
   ]
  },
  {
   "cell_type": "code",
   "execution_count": 12,
   "metadata": {
    "executionInfo": {
     "elapsed": 4,
     "status": "ok",
     "timestamp": 1641428690461,
     "user": {
      "displayName": "vahini",
      "photoUrl": "https://lh3.googleusercontent.com/a-/AOh14GhHTsSlWlULa1FavIyz3YWkccn_KU1l5Gvimbzj=s64",
      "userId": "09646027977877841530"
     },
     "user_tz": -330
    },
    "id": "qw-P5zJA91eN"
   },
   "outputs": [],
   "source": [
    "# print(\"Num GPUs Available: \", len(tf.config.list_physical_devices('GPU')))"
   ]
  },
  {
   "cell_type": "code",
   "execution_count": 13,
   "metadata": {
    "executionInfo": {
     "elapsed": 3,
     "status": "ok",
     "timestamp": 1641428691305,
     "user": {
      "displayName": "vahini",
      "photoUrl": "https://lh3.googleusercontent.com/a-/AOh14GhHTsSlWlULa1FavIyz3YWkccn_KU1l5Gvimbzj=s64",
      "userId": "09646027977877841530"
     },
     "user_tz": -330
    },
    "id": "Y9KArf-O91eO"
   },
   "outputs": [],
   "source": [
    "batch_size=100"
   ]
  },
  {
   "cell_type": "code",
   "execution_count": 14,
   "metadata": {
    "colab": {
     "base_uri": "https://localhost:8080/"
    },
    "id": "Fh6X5RcU91eP",
    "outputId": "c848e21a-c405-4cd8-e7d2-3a3630f37c24"
   },
   "outputs": [
    {
     "name": "stdout",
     "output_type": "stream",
     "text": [
      "Epoch 1/10\n",
      "2785/2785 [==============================] - 148s 51ms/step - loss: 0.4599 - accuracy: 0.7786 - val_loss: 0.3809 - val_accuracy: 0.8402\n",
      "Epoch 2/10\n",
      "2785/2785 [==============================] - 139s 50ms/step - loss: 0.2984 - accuracy: 0.8776 - val_loss: 0.3079 - val_accuracy: 0.8719\n",
      "Epoch 3/10\n",
      "2785/2785 [==============================] - 137s 49ms/step - loss: 0.2391 - accuracy: 0.9059 - val_loss: 0.2626 - val_accuracy: 0.8921\n",
      "Epoch 4/10\n",
      "2785/2785 [==============================] - 136s 49ms/step - loss: 0.2020 - accuracy: 0.9228 - val_loss: 0.2424 - val_accuracy: 0.9010\n",
      "Epoch 5/10\n",
      "2785/2785 [==============================] - 136s 49ms/step - loss: 0.1619 - accuracy: 0.9394 - val_loss: 0.2194 - val_accuracy: 0.9184\n",
      "Epoch 7/10\n",
      "2785/2785 [==============================] - 137s 49ms/step - loss: 0.1501 - accuracy: 0.9438 - val_loss: 0.2111 - val_accuracy: 0.9184\n",
      "Epoch 8/10\n",
      "2785/2785 [==============================] - 136s 49ms/step - loss: 0.1406 - accuracy: 0.9474 - val_loss: 0.1982 - val_accuracy: 0.9253\n",
      "Epoch 9/10\n",
      "2785/2785 [==============================] - 136s 49ms/step - loss: 0.1328 - accuracy: 0.9506 - val_loss: 0.2152 - val_accuracy: 0.9182\n",
      "Epoch 10/10\n",
      " 763/2785 [=======>......................] - ETA: 1:30 - loss: 0.1260 - accuracy: 0.9540"
     ]
    },
    {
     "name": "stderr",
     "output_type": "stream",
     "text": [
      "IOPub message rate exceeded.\n",
      "The notebook server will temporarily stop sending output\n",
      "to the client in order to avoid crashing it.\n",
      "To change this limit, set the config variable\n",
      "`--NotebookApp.iopub_msg_rate_limit`.\n",
      "\n",
      "Current values:\n",
      "NotebookApp.iopub_msg_rate_limit=1000.0 (msgs/sec)\n",
      "NotebookApp.rate_limit_window=3.0 (secs)\n",
      "\n"
     ]
    }
   ],
   "source": [
    "model.fit(train_x, train_y,batch_size=batch_size,epochs=10,validation_data=(test_x, test_y))"
   ]
  },
  {
   "cell_type": "code",
   "execution_count": 15,
   "metadata": {
    "colab": {
     "base_uri": "https://localhost:8080/"
    },
    "executionInfo": {
     "elapsed": 33867,
     "status": "ok",
     "timestamp": 1641431672973,
     "user": {
      "displayName": "vahini",
      "photoUrl": "https://lh3.googleusercontent.com/a-/AOh14GhHTsSlWlULa1FavIyz3YWkccn_KU1l5Gvimbzj=s64",
      "userId": "09646027977877841530"
     },
     "user_tz": -330
    },
    "id": "q6NQSOMwttvv",
    "outputId": "d15df11c-6d55-49fa-e2bb-920c5209f449"
   },
   "outputs": [
    {
     "name": "stdout",
     "output_type": "stream",
     "text": [
      "3827/3827 [==============================] - 31s 8ms/step - loss: 0.2085 - accuracy: 0.9253\n",
      "Test score: 0.2085089534521103\n",
      "Test accuracy: 0.9253230094909668\n"
     ]
    }
   ],
   "source": [
    "score, acc = model.evaluate(test_x, test_y)\n",
    "print('Test score:', score)\n",
    "print('Test accuracy:', acc)"
   ]
  },
  {
   "cell_type": "code",
   "execution_count": 16,
   "metadata": {
    "colab": {
     "base_uri": "https://localhost:8080/"
    },
    "executionInfo": {
     "elapsed": 41815,
     "status": "ok",
     "timestamp": 1641431714767,
     "user": {
      "displayName": "vahini",
      "photoUrl": "https://lh3.googleusercontent.com/a-/AOh14GhHTsSlWlULa1FavIyz3YWkccn_KU1l5Gvimbzj=s64",
      "userId": "09646027977877841530"
     },
     "user_tz": -330
    },
    "id": "j-5UYZDi91eQ",
    "outputId": "d25a713f-f04b-4ae9-f4f3-595ee0cc5b96"
   },
   "outputs": [
    {
     "name": "stdout",
     "output_type": "stream",
     "text": [
      "------------------RESULTS-------------------------------\n",
      "              precision    recall  f1-score   support\n",
      "\n",
      "        Male     0.9123    0.9646    0.9377     71377\n",
      "      Female     0.9462    0.8704    0.9067     51057\n",
      "\n",
      "    accuracy                         0.9253    122434\n",
      "   macro avg     0.9293    0.9175    0.9222    122434\n",
      "weighted avg     0.9265    0.9253    0.9248    122434\n",
      "\n",
      "--------------------------------------------------------\n"
     ]
    }
   ],
   "source": [
    "pred = model.predict(np.asarray(test_x))\n",
    "y_pred = np.argmax(pred, axis=1)\n",
    "y_true = np.argmax(test_y, axis=1)\n",
    "\n",
    "target_names = ['Male','Female']\n",
    "\n",
    "print(\"------------------RESULTS-------------------------------\")\n",
    "print(classification_report(y_true, y_pred, target_names=target_names, digits=4))\n",
    "print(\"--------------------------------------------------------\")"
   ]
  },
  {
   "cell_type": "code",
   "execution_count": 21,
   "metadata": {
    "colab": {
     "base_uri": "https://localhost:8080/"
    },
    "executionInfo": {
     "elapsed": 4473,
     "status": "ok",
     "timestamp": 1641431736340,
     "user": {
      "displayName": "vahini",
      "photoUrl": "https://lh3.googleusercontent.com/a-/AOh14GhHTsSlWlULa1FavIyz3YWkccn_KU1l5Gvimbzj=s64",
      "userId": "09646027977877841530"
     },
     "user_tz": -330
    },
    "id": "dcciPqZy91eQ",
    "outputId": "43a1f6ec-1ef1-465f-f9f8-2d4476f02eb4"
   },
   "outputs": [
    {
     "name": "stdout",
     "output_type": "stream",
     "text": [
      "INFO:tensorflow:Assets written to: Models/CBSEData/CharLSTM/SavedModel/CharLSTM/assets\n"
     ]
    }
   ],
   "source": [
    "filename = \"Models/AIEEEGenderData/CharLSTM/SavedModel/CharLSTM\"\n",
    "model.save(filename)"
   ]
  },
  {
   "cell_type": "code",
   "execution_count": null,
   "metadata": {
    "id": "iBS_ems5F3n7"
   },
   "outputs": [],
   "source": []
  }
 ],
 "metadata": {
  "accelerator": "GPU",
  "colab": {
   "collapsed_sections": [],
   "name": "Char LSTM.ipynb",
   "provenance": []
  },
  "kernelspec": {
   "display_name": "Python [conda env:.conda-py38] *",
   "language": "python",
   "name": "conda-env-.conda-py38-py"
  },
  "language_info": {
   "codemirror_mode": {
    "name": "ipython",
    "version": 3
   },
   "file_extension": ".py",
   "mimetype": "text/x-python",
   "name": "python",
   "nbconvert_exporter": "python",
   "pygments_lexer": "ipython3",
   "version": "3.8.11"
  }
 },
 "nbformat": 4,
 "nbformat_minor": 1
}
