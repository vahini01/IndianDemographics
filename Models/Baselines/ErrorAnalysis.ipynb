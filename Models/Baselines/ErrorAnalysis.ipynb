{
 "cells": [
  {
   "cell_type": "code",
   "execution_count": 2,
   "id": "1e29a563",
   "metadata": {},
   "outputs": [
    {
     "name": "stdout",
     "output_type": "stream",
     "text": [
      "/home/souvic/mounted/btp/vahini/Name2Demographics\n"
     ]
    }
   ],
   "source": [
    "%cd ../../"
   ]
  },
  {
   "cell_type": "code",
   "execution_count": 20,
   "id": "dd56fba6",
   "metadata": {},
   "outputs": [],
   "source": [
    "# CBSE best performing : forebears + BERT AIEEE\n",
    "fcbse = \"Models/Baselines/Baselines/Forebears/forebears_cbse.csv\"\n",
    "fer = \"Models/Baselines/Baselines/Forebears/forebears_er.csv\"\n",
    "faieee = \"Models/Baselines/Baselines/Forebears/forebears_aieee.csv\"\n",
    "mcbse = \"Models/Baselines/BERTAIEEE/cbse_sample.csv\"\n",
    "mer =\"Models/Baselines/MurilER/cbse_sample.csv\"\n",
    "maieee = \"Models/Baselines/BERTAIEEE/aieee_sample.csv\""
   ]
  },
  {
   "cell_type": "code",
   "execution_count": 101,
   "id": "b21261e1",
   "metadata": {},
   "outputs": [],
   "source": [
    "import pandas as pd\n",
    "\n",
    "fc = pd.read_csv(fcbse)\n",
    "fe = pd.read_csv(fer)\n",
    "fe = fe[:445]\n",
    "fa = pd.read_csv(faieee)\n",
    "mc = pd.read_csv(mcbse)\n",
    "me = pd.read_csv(mer)\n",
    "ma = pd.read_csv(maieee)"
   ]
  },
  {
   "cell_type": "code",
   "execution_count": 102,
   "id": "ced8b1d2",
   "metadata": {},
   "outputs": [
    {
     "data": {
      "text/html": [
       "<div>\n",
       "<style scoped>\n",
       "    .dataframe tbody tr th:only-of-type {\n",
       "        vertical-align: middle;\n",
       "    }\n",
       "\n",
       "    .dataframe tbody tr th {\n",
       "        vertical-align: top;\n",
       "    }\n",
       "\n",
       "    .dataframe thead th {\n",
       "        text-align: right;\n",
       "    }\n",
       "</style>\n",
       "<table border=\"1\" class=\"dataframe\">\n",
       "  <thead>\n",
       "    <tr style=\"text-align: right;\">\n",
       "      <th></th>\n",
       "      <th>Unnamed: 0</th>\n",
       "      <th>Name</th>\n",
       "      <th>Gender</th>\n",
       "      <th>first_name</th>\n",
       "      <th>last_name</th>\n",
       "      <th>world_gender</th>\n",
       "    </tr>\n",
       "  </thead>\n",
       "  <tbody>\n",
       "    <tr>\n",
       "      <th>0</th>\n",
       "      <td>0</td>\n",
       "      <td>nandkishore mukati</td>\n",
       "      <td>Male</td>\n",
       "      <td>nandkishore</td>\n",
       "      <td>mukati</td>\n",
       "      <td>m</td>\n",
       "    </tr>\n",
       "    <tr>\n",
       "      <th>1</th>\n",
       "      <td>1</td>\n",
       "      <td>ramkranti</td>\n",
       "      <td>Female</td>\n",
       "      <td>ramkranti</td>\n",
       "      <td>NaN</td>\n",
       "      <td>f</td>\n",
       "    </tr>\n",
       "    <tr>\n",
       "      <th>2</th>\n",
       "      <td>2</td>\n",
       "      <td>manmohan vyas</td>\n",
       "      <td>Male</td>\n",
       "      <td>manmohan</td>\n",
       "      <td>vyas</td>\n",
       "      <td>m</td>\n",
       "    </tr>\n",
       "    <tr>\n",
       "      <th>3</th>\n",
       "      <td>3</td>\n",
       "      <td>suresh prasad malviya</td>\n",
       "      <td>Male</td>\n",
       "      <td>suresh</td>\n",
       "      <td>prasad malviya</td>\n",
       "      <td>m</td>\n",
       "    </tr>\n",
       "    <tr>\n",
       "      <th>4</th>\n",
       "      <td>4</td>\n",
       "      <td>ashok kumari devi</td>\n",
       "      <td>Female</td>\n",
       "      <td>ashok</td>\n",
       "      <td>kumari devi</td>\n",
       "      <td>m</td>\n",
       "    </tr>\n",
       "  </tbody>\n",
       "</table>\n",
       "</div>"
      ],
      "text/plain": [
       "   Unnamed: 0                   Name  Gender   first_name       last_name  \\\n",
       "0           0     nandkishore mukati    Male  nandkishore          mukati   \n",
       "1           1              ramkranti  Female    ramkranti             NaN   \n",
       "2           2          manmohan vyas    Male     manmohan            vyas   \n",
       "3           3  suresh prasad malviya    Male       suresh  prasad malviya   \n",
       "4           4      ashok kumari devi  Female        ashok     kumari devi   \n",
       "\n",
       "  world_gender  \n",
       "0            m  \n",
       "1            f  \n",
       "2            m  \n",
       "3            m  \n",
       "4            m  "
      ]
     },
     "execution_count": 102,
     "metadata": {},
     "output_type": "execute_result"
    }
   ],
   "source": [
    "fc.head()"
   ]
  },
  {
   "cell_type": "code",
   "execution_count": 103,
   "id": "a21c877c",
   "metadata": {},
   "outputs": [
    {
     "name": "stdout",
     "output_type": "stream",
     "text": [
      "(500, 6)\n",
      "(445, 15)\n",
      "(500, 6)\n",
      "(500, 7)\n",
      "(501, 7)\n",
      "(500, 7)\n"
     ]
    }
   ],
   "source": [
    "f = [fc, fe, fa]\n",
    "m = [mc, me, ma]\n",
    "for file in f:\n",
    "    print(file.shape)\n",
    "for file in m:\n",
    "    print(file.shape)"
   ]
  },
  {
   "cell_type": "code",
   "execution_count": 104,
   "id": "6c5c0752",
   "metadata": {},
   "outputs": [],
   "source": [
    "#  create a list\n",
    "def createdf(f, m):\n",
    "    df = pd.DataFrame()\n",
    "    df['Name'] = m['Name']\n",
    "    df['Gender'] = m['Gender']\n",
    "    df['Model'] = m['pred']\n",
    "    df['API'] = 0\n",
    "    # update df['API']\n",
    "    for i in range(len(df)):\n",
    "        name = df.loc[i, 'Name']\n",
    "        if len(list(f[f['Name']==name].world_gender))>0:\n",
    "            df.loc[i,'API'] = list(f[f['Name']==name].world_gender)[0]\n",
    "    return df"
   ]
  },
  {
   "cell_type": "code",
   "execution_count": 117,
   "id": "35c6cad8",
   "metadata": {},
   "outputs": [],
   "source": [
    "cbse_df = createdf(fc, mc)"
   ]
  },
  {
   "cell_type": "code",
   "execution_count": 118,
   "id": "790254e7",
   "metadata": {},
   "outputs": [],
   "source": [
    "aieee_df = createdf(fa, ma)"
   ]
  },
  {
   "cell_type": "code",
   "execution_count": 119,
   "id": "f39faa70",
   "metadata": {},
   "outputs": [],
   "source": [
    "er_df = createdf(fe, me)"
   ]
  },
  {
   "cell_type": "code",
   "execution_count": 120,
   "id": "22698c33",
   "metadata": {},
   "outputs": [],
   "source": [
    "import numpy as np\n",
    "\n",
    "def addColumns(df):\n",
    "    df['Model'] = [str(elem).replace(\"0\",\"Female\") for elem in df['Model']]\n",
    "    df['Model'] = [str(elem).replace(\"1\",\"Male\") for elem in df['Model']]\n",
    "    df['API'] = df['API'].replace(0, np.NaN)\n",
    "    df['API'] = [str(elem).replace(\"m\",\"Male\") for elem in df['API']]\n",
    "    df['API'] = [str(elem).replace(\"f\",\"Female\") for elem in df['API']]\n",
    "    df['M'] = df['Model'] == df['Gender']\n",
    "    df['A'] = df['API'] == df['Gender']\n",
    "    return df"
   ]
  },
  {
   "cell_type": "code",
   "execution_count": 121,
   "id": "4ee301e2",
   "metadata": {},
   "outputs": [],
   "source": [
    "# Extract True labels and false labels\n",
    "def AddErrorCases(df, name):\n",
    "    df[df['M'] & df['A'] == True].to_csv(\"Errors/\"+name+\"_M_true_A_true.csv\")\n",
    "    df[df['M'] & df['A'] == False].to_csv(\"Errors/\"+name+\"_M_false_A_false.csv\")\n",
    "    df[(df['M'] == False) & (df['A']== True)].to_csv(\"Errors/\"+name+\"_M_false_A_true.csv\")\n",
    "    df[(df['M'] == True) & (df['A'] == False)].to_csv(\"Errors/\"+name+\"_M_true_A_false.csv\")\n",
    "    return"
   ]
  },
  {
   "cell_type": "code",
   "execution_count": 122,
   "id": "fa684f32",
   "metadata": {},
   "outputs": [],
   "source": [
    "er = addColumns(er_df)\n",
    "AddErrorCases(er, \"er\")"
   ]
  },
  {
   "cell_type": "code",
   "execution_count": 123,
   "id": "a52c33ae",
   "metadata": {},
   "outputs": [],
   "source": [
    "c1 = addColumns(cbse_df)\n",
    "AddErrorCases(c1, \"cbse\")"
   ]
  },
  {
   "cell_type": "code",
   "execution_count": 125,
   "id": "0043a420",
   "metadata": {},
   "outputs": [],
   "source": [
    "c1 = addColumns(aieee_df)\n",
    "AddErrorCases(c1, \"aieee\")"
   ]
  },
  {
   "cell_type": "code",
   "execution_count": null,
   "id": "7e4afce1",
   "metadata": {},
   "outputs": [],
   "source": []
  }
 ],
 "metadata": {
  "kernelspec": {
   "display_name": "Python [conda env:.conda-py38] *",
   "language": "python",
   "name": "conda-env-.conda-py38-py"
  },
  "language_info": {
   "codemirror_mode": {
    "name": "ipython",
    "version": 3
   },
   "file_extension": ".py",
   "mimetype": "text/x-python",
   "name": "python",
   "nbconvert_exporter": "python",
   "pygments_lexer": "ipython3",
   "version": "3.8.11"
  }
 },
 "nbformat": 4,
 "nbformat_minor": 5
}
