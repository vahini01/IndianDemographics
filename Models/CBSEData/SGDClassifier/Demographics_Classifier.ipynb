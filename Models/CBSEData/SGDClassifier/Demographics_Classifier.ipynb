{
 "cells": [
  {
   "cell_type": "markdown",
   "metadata": {
    "id": "GS4aYvEoCSCe"
   },
   "source": [
    "### Import Required Modules"
   ]
  },
  {
   "cell_type": "code",
   "execution_count": null,
   "metadata": {},
   "outputs": [],
   "source": [
    "# ../CBSEData/cbse_gender_names_list.csv"
   ]
  },
  {
   "cell_type": "code",
   "execution_count": 1,
   "metadata": {},
   "outputs": [],
   "source": [
    "import pandas as pd\n",
    "import numpy as np\n",
    "from sklearn.feature_extraction.text import CountVectorizer\n",
    "from sklearn.feature_extraction.text import TfidfTransformer, TfidfVectorizer\n",
    "from sklearn.linear_model import SGDClassifier\n",
    "from sklearn.pipeline import Pipeline\n",
    "from sklearn.model_selection import train_test_split\n",
    "from sklearn.naive_bayes import MultinomialNB\n",
    "from sklearn.metrics import classification_report\n",
    "import pickle"
   ]
  },
  {
   "cell_type": "code",
   "execution_count": 2,
   "metadata": {},
   "outputs": [],
   "source": [
    "import sys  \n",
    "sys.path.insert(0, '../PreProcessing/')\n",
    "\n",
    "from utils import *\n",
    "from parse_df import *\n",
    "from split_name import *"
   ]
  },
  {
   "cell_type": "markdown",
   "metadata": {},
   "source": [
    "### Train Model on Data"
   ]
  },
  {
   "cell_type": "code",
   "execution_count": 3,
   "metadata": {},
   "outputs": [
    {
     "name": "stdout",
     "output_type": "stream",
     "text": [
      "Gender\n",
      "Boy     114088\n",
      "Girl     91456\n",
      "Name: Name, dtype: int64\n"
     ]
    }
   ],
   "source": [
    "cbse_df = getCBSEData(False)\n",
    "cbse_df = cleanDf(cbse_df, 'Name')"
   ]
  },
  {
   "cell_type": "code",
   "execution_count": 13,
   "metadata": {},
   "outputs": [
    {
     "name": "stdout",
     "output_type": "stream",
     "text": [
      "(train:(143977, 5), val:(0, 0), test:(61568, 5))\n"
     ]
    }
   ],
   "source": [
    "train, val, test = splitTrainTestVal(cbse_df, 0.7 ,0, 'Name')"
   ]
  },
  {
   "cell_type": "code",
   "execution_count": 14,
   "metadata": {},
   "outputs": [
    {
     "name": "stdout",
     "output_type": "stream",
     "text": [
      "0.70046461845338\n"
     ]
    }
   ],
   "source": [
    "total_points = cbse_df.shape[0]\n",
    "train_points = train.shape[0]\n",
    "test_points = test.shape[0]\n",
    "print(train_points/total_points)"
   ]
  },
  {
   "cell_type": "code",
   "execution_count": 15,
   "metadata": {
    "id": "2n9TyPSMhbjk"
   },
   "outputs": [],
   "source": [
    "sgd_pipe = Pipeline([\n",
    "    ('vect', CountVectorizer(ngram_range=(1, 6), lowercase = True, stop_words = \"english\")),\n",
    "    ('tfidf', TfidfTransformer(sublinear_tf = True)),\n",
    "    ('clf', SGDClassifier(class_weight=\"balanced\",loss=\"squared_loss\",max_iter=10000, random_state=None, validation_fraction = 0.3, average=1000))\n",
    "])"
   ]
  },
  {
   "cell_type": "code",
   "execution_count": 16,
   "metadata": {
    "colab": {
     "base_uri": "https://localhost:8080/"
    },
    "id": "nOQTKv6ghgCO",
    "outputId": "a682131d-9fae-4247-e4fc-f8d12ad4a985"
   },
   "outputs": [
    {
     "data": {
      "text/plain": [
       "Pipeline(steps=[('vect',\n",
       "                 CountVectorizer(ngram_range=(1, 6), stop_words='english')),\n",
       "                ('tfidf', TfidfTransformer(sublinear_tf=True)),\n",
       "                ('clf',\n",
       "                 SGDClassifier(average=1000, class_weight='balanced',\n",
       "                               loss='squared_loss', max_iter=10000,\n",
       "                               validation_fraction=0.3))])"
      ]
     },
     "execution_count": 16,
     "metadata": {},
     "output_type": "execute_result"
    }
   ],
   "source": [
    "sgd_pipe.fit(train['Name'].values.astype('str'), train['Gender'].values.astype('str'))"
   ]
  },
  {
   "cell_type": "code",
   "execution_count": 17,
   "metadata": {
    "colab": {
     "base_uri": "https://localhost:8080/"
    },
    "id": "PVD1IbqhhgHS",
    "outputId": "88d212f9-161c-4830-f8cc-8afccc81a846"
   },
   "outputs": [
    {
     "name": "stdout",
     "output_type": "stream",
     "text": [
      "              precision    recall  f1-score   support\n",
      "\n",
      "        Male       0.71      0.76      0.73     33720\n",
      "      Female       0.68      0.62      0.65     27848\n",
      "\n",
      "    accuracy                           0.69     61568\n",
      "   macro avg       0.69      0.69      0.69     61568\n",
      "weighted avg       0.69      0.69      0.69     61568\n",
      "\n"
     ]
    }
   ],
   "source": [
    "y_pred=sgd_pipe.predict(test['Name'].values.astype('str'))\n",
    "print(classification_report(test['Gender'], y_pred, target_names = ['Male', 'Female']))"
   ]
  },
  {
   "cell_type": "markdown",
   "metadata": {},
   "source": [
    "### Save Model"
   ]
  },
  {
   "cell_type": "code",
   "execution_count": 18,
   "metadata": {},
   "outputs": [],
   "source": [
    "filename = \"SavedModels/FinalSet/SGDClassifier/CBSEModel.pkl\"\n",
    "pickle.dump(sgd_pipe, open(filename, 'wb'))"
   ]
  },
  {
   "cell_type": "markdown",
   "metadata": {},
   "source": [
    "### Load Model"
   ]
  },
  {
   "cell_type": "code",
   "execution_count": 4,
   "metadata": {},
   "outputs": [],
   "source": [
    "filename = \"SavedModels/FinalSet/SGDClassifier/CBSEModel.pkl\"\n",
    "pipe = pickle.load(open(filename, 'rb'))"
   ]
  },
  {
   "cell_type": "code",
   "execution_count": 5,
   "metadata": {},
   "outputs": [],
   "source": [
    "df, first_name = split_name_df(cbse_df, 'Name')"
   ]
  },
  {
   "cell_type": "code",
   "execution_count": 6,
   "metadata": {},
   "outputs": [],
   "source": [
    "y_pred=pipe.predict(df['first_name'].values.astype('str'))\n",
    "# print(classification_report(test['Gender'], y_pred, target_names = ['Male', 'Female']))"
   ]
  },
  {
   "cell_type": "code",
   "execution_count": 7,
   "metadata": {},
   "outputs": [],
   "source": [
    "fn = pd.DataFrame()"
   ]
  },
  {
   "cell_type": "code",
   "execution_count": 8,
   "metadata": {},
   "outputs": [],
   "source": [
    "fn['first_name'] = df['first_name']"
   ]
  },
  {
   "cell_type": "code",
   "execution_count": 9,
   "metadata": {},
   "outputs": [],
   "source": [
    "df['predict'] = y_pred"
   ]
  },
  {
   "cell_type": "code",
   "execution_count": 10,
   "metadata": {},
   "outputs": [],
   "source": [
    "fn['gender'] = y_pred\n",
    "fn['true_gender'] = df['Gender']"
   ]
  },
  {
   "cell_type": "code",
   "execution_count": 28,
   "metadata": {},
   "outputs": [
    {
     "name": "stdout",
     "output_type": "stream",
     "text": [
      "first_name    gender\n",
      "(late)        Boy         1\n",
      "(late)robert  Boy         1\n",
      "`rameshwar    Boy         1\n",
      "a             Girl      293\n",
      "aabda         Girl        1\n",
      "                       ... \n",
      "zulfiya       Girl        1\n",
      "zulikha       Girl        1\n",
      "zumardan      Girl        1\n",
      "zunjhar       Girl        1\n",
      "zuveda        Girl        1\n",
      "Length: 23597, dtype: int64\n"
     ]
    }
   ],
   "source": [
    "print(fn.groupby(['first_name','gender']).size())"
   ]
  },
  {
   "cell_type": "code",
   "execution_count": 52,
   "metadata": {},
   "outputs": [
    {
     "data": {
      "text/html": [
       "<div>\n",
       "<style scoped>\n",
       "    .dataframe tbody tr th:only-of-type {\n",
       "        vertical-align: middle;\n",
       "    }\n",
       "\n",
       "    .dataframe tbody tr th {\n",
       "        vertical-align: top;\n",
       "    }\n",
       "\n",
       "    .dataframe thead th {\n",
       "        text-align: right;\n",
       "    }\n",
       "</style>\n",
       "<table border=\"1\" class=\"dataframe\">\n",
       "  <thead>\n",
       "    <tr style=\"text-align: right;\">\n",
       "      <th></th>\n",
       "      <th>first_name</th>\n",
       "      <th>gender</th>\n",
       "      <th>true_gender</th>\n",
       "    </tr>\n",
       "  </thead>\n",
       "  <tbody>\n",
       "    <tr>\n",
       "      <th>0</th>\n",
       "      <td>sarda</td>\n",
       "      <td>Girl</td>\n",
       "      <td>Girl</td>\n",
       "    </tr>\n",
       "    <tr>\n",
       "      <th>1</th>\n",
       "      <td>rakhi</td>\n",
       "      <td>Girl</td>\n",
       "      <td>Girl</td>\n",
       "    </tr>\n",
       "    <tr>\n",
       "      <th>2</th>\n",
       "      <td>surekha</td>\n",
       "      <td>Girl</td>\n",
       "      <td>Girl</td>\n",
       "    </tr>\n",
       "    <tr>\n",
       "      <th>3</th>\n",
       "      <td>shivani</td>\n",
       "      <td>Girl</td>\n",
       "      <td>Girl</td>\n",
       "    </tr>\n",
       "    <tr>\n",
       "      <th>4</th>\n",
       "      <td>ramdulari</td>\n",
       "      <td>Girl</td>\n",
       "      <td>Girl</td>\n",
       "    </tr>\n",
       "    <tr>\n",
       "      <th>...</th>\n",
       "      <td>...</td>\n",
       "      <td>...</td>\n",
       "      <td>...</td>\n",
       "    </tr>\n",
       "    <tr>\n",
       "      <th>25729</th>\n",
       "      <td>mannulal</td>\n",
       "      <td>Girl</td>\n",
       "      <td>Boy</td>\n",
       "    </tr>\n",
       "    <tr>\n",
       "      <th>25730</th>\n",
       "      <td>anada</td>\n",
       "      <td>Girl</td>\n",
       "      <td>Boy</td>\n",
       "    </tr>\n",
       "    <tr>\n",
       "      <th>25731</th>\n",
       "      <td>priyadarshan</td>\n",
       "      <td>Girl</td>\n",
       "      <td>Boy</td>\n",
       "    </tr>\n",
       "    <tr>\n",
       "      <th>25732</th>\n",
       "      <td>bindhyeshwari</td>\n",
       "      <td>Girl</td>\n",
       "      <td>Boy</td>\n",
       "    </tr>\n",
       "    <tr>\n",
       "      <th>25733</th>\n",
       "      <td>houn</td>\n",
       "      <td>Girl</td>\n",
       "      <td>Boy</td>\n",
       "    </tr>\n",
       "  </tbody>\n",
       "</table>\n",
       "<p>25734 rows × 3 columns</p>\n",
       "</div>"
      ],
      "text/plain": [
       "          first_name gender true_gender\n",
       "0              sarda   Girl        Girl\n",
       "1              rakhi   Girl        Girl\n",
       "2            surekha   Girl        Girl\n",
       "3            shivani   Girl        Girl\n",
       "4          ramdulari   Girl        Girl\n",
       "...              ...    ...         ...\n",
       "25729       mannulal   Girl         Boy\n",
       "25730          anada   Girl         Boy\n",
       "25731   priyadarshan   Girl         Boy\n",
       "25732  bindhyeshwari   Girl         Boy\n",
       "25733           houn   Girl         Boy\n",
       "\n",
       "[25734 rows x 3 columns]"
      ]
     },
     "execution_count": 52,
     "metadata": {},
     "output_type": "execute_result"
    }
   ],
   "source": [
    "f1 = fn.drop_duplicates()\n",
    "f1 = f1.reset_index(drop=True)\n",
    "f1"
   ]
  },
  {
   "cell_type": "code",
   "execution_count": null,
   "metadata": {},
   "outputs": [],
   "source": []
  }
 ],
 "metadata": {
  "colab": {
   "collapsed_sections": [],
   "name": "Demographics_Classifier",
   "provenance": []
  },
  "kernelspec": {
   "display_name": "Python [conda env:.conda-py38] *",
   "language": "python",
   "name": "conda-env-.conda-py38-py"
  },
  "language_info": {
   "codemirror_mode": {
    "name": "ipython",
    "version": 3
   },
   "file_extension": ".py",
   "mimetype": "text/x-python",
   "name": "python",
   "nbconvert_exporter": "python",
   "pygments_lexer": "ipython3",
   "version": "3.8.0"
  }
 },
 "nbformat": 4,
 "nbformat_minor": 1
}
