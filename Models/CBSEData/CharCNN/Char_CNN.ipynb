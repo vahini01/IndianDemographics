{
 "cells": [
  {
   "cell_type": "markdown",
   "metadata": {
    "id": "P_xep_Kdsdz_"
   },
   "source": [
    "https://github.com/prdeepakbabu/Python/blob/master/Deep%20learning%20gender/Deep%20Learning%20(RNN%20-%20LSTMs)%20Predict%20Gender%20from%20Name.ipynb \n"
   ]
  },
  {
   "cell_type": "code",
   "execution_count": 1,
   "metadata": {
    "executionInfo": {
     "elapsed": 636,
     "status": "ok",
     "timestamp": 1641397157937,
     "user": {
      "displayName": "vahini",
      "photoUrl": "https://lh3.googleusercontent.com/a-/AOh14GhHTsSlWlULa1FavIyz3YWkccn_KU1l5Gvimbzj=s64",
      "userId": "09646027977877841530"
     },
     "user_tz": -330
    },
    "id": "hZ3N3Q1AsbHh"
   },
   "outputs": [],
   "source": [
    "import tensorflow as tf\n",
    "from __future__ import print_function\n",
    "\n",
    "from sklearn.preprocessing import OneHotEncoder\n",
    "from keras.layers.core import Dense, Activation, Dropout\n",
    "from keras.preprocessing import sequence\n",
    "from keras.models import Sequential, load_model\n",
    "from keras.layers import Dense, Embedding\n",
    "from keras.layers import LSTM, Embedding\n",
    "from keras.datasets import imdb\n",
    "import pandas as pd\n",
    "import numpy as np\n",
    "import os"
   ]
  },
  {
   "cell_type": "code",
   "execution_count": 2,
   "metadata": {
    "executionInfo": {
     "elapsed": 10,
     "status": "ok",
     "timestamp": 1641397157938,
     "user": {
      "displayName": "vahini",
      "photoUrl": "https://lh3.googleusercontent.com/a-/AOh14GhHTsSlWlULa1FavIyz3YWkccn_KU1l5Gvimbzj=s64",
      "userId": "09646027977877841530"
     },
     "user_tz": -330
    },
    "id": "7nsk0ZJQB1TC"
   },
   "outputs": [],
   "source": [
    "from keras.layers import Input, Embedding, Activation, Flatten, Dense\n",
    "from keras.layers import Conv1D, MaxPooling1D, Dropout\n",
    "from keras.models import Model\n",
    "from sklearn.metrics import classification_report"
   ]
  },
  {
   "cell_type": "code",
   "execution_count": 3,
   "metadata": {
    "colab": {
     "base_uri": "https://localhost:8080/"
    },
    "executionInfo": {
     "elapsed": 40812,
     "status": "ok",
     "timestamp": 1641397198742,
     "user": {
      "displayName": "vahini",
      "photoUrl": "https://lh3.googleusercontent.com/a-/AOh14GhHTsSlWlULa1FavIyz3YWkccn_KU1l5Gvimbzj=s64",
      "userId": "09646027977877841530"
     },
     "user_tz": -330
    },
    "id": "3aayx8qs3TRA",
    "outputId": "fb47ebaa-eb5e-470b-9416-aec62c203c84"
   },
   "outputs": [
    {
     "name": "stdout",
     "output_type": "stream",
     "text": [
      "Mounted at /content/drive\n"
     ]
    }
   ],
   "source": [
    "from google.colab import drive\n",
    "drive.mount('/content/drive')"
   ]
  },
  {
   "cell_type": "code",
   "execution_count": 4,
   "metadata": {
    "executionInfo": {
     "elapsed": 35,
     "status": "ok",
     "timestamp": 1641397198743,
     "user": {
      "displayName": "vahini",
      "photoUrl": "https://lh3.googleusercontent.com/a-/AOh14GhHTsSlWlULa1FavIyz3YWkccn_KU1l5Gvimbzj=s64",
      "userId": "09646027977877841530"
     },
     "user_tz": -330
    },
    "id": "Ji4P1nlZ3cP8"
   },
   "outputs": [],
   "source": [
    "PATH_TO_FOLDER = \"drive/MyDrive/Name2Demographics/\""
   ]
  },
  {
   "cell_type": "code",
   "execution_count": 5,
   "metadata": {
    "colab": {
     "base_uri": "https://localhost:8080/"
    },
    "executionInfo": {
     "elapsed": 32,
     "status": "ok",
     "timestamp": 1641397198745,
     "user": {
      "displayName": "vahini",
      "photoUrl": "https://lh3.googleusercontent.com/a-/AOh14GhHTsSlWlULa1FavIyz3YWkccn_KU1l5Gvimbzj=s64",
      "userId": "09646027977877841530"
     },
     "user_tz": -330
    },
    "id": "yE-HuAX63ff8",
    "outputId": "4106ef69-35cd-4a5b-c351-93b59a0a66bb"
   },
   "outputs": [
    {
     "name": "stdout",
     "output_type": "stream",
     "text": [
      "/content/drive/MyDrive/Name2Demographics\n"
     ]
    }
   ],
   "source": [
    "%cd $PATH_TO_FOLDER"
   ]
  },
  {
   "cell_type": "code",
   "execution_count": 6,
   "metadata": {
    "executionInfo": {
     "elapsed": 1882,
     "status": "ok",
     "timestamp": 1641397200599,
     "user": {
      "displayName": "vahini",
      "photoUrl": "https://lh3.googleusercontent.com/a-/AOh14GhHTsSlWlULa1FavIyz3YWkccn_KU1l5Gvimbzj=s64",
      "userId": "09646027977877841530"
     },
     "user_tz": -330
    },
    "id": "VFIo7B1upCsH"
   },
   "outputs": [],
   "source": [
    "import sys  \n",
    "sys.path.insert(0, 'Models/PreProcessing/')\n",
    "\n",
    "from char_utils import *\n",
    "\n",
    "sys.path.insert(0, 'Models/CBSEData/CBSEPreprocessing/')\n",
    "from parse_cbse import *"
   ]
  },
  {
   "cell_type": "code",
   "execution_count": 7,
   "metadata": {
    "colab": {
     "base_uri": "https://localhost:8080/"
    },
    "executionInfo": {
     "elapsed": 25237,
     "status": "ok",
     "timestamp": 1641397225828,
     "user": {
      "displayName": "vahini",
      "photoUrl": "https://lh3.googleusercontent.com/a-/AOh14GhHTsSlWlULa1FavIyz3YWkccn_KU1l5Gvimbzj=s64",
      "userId": "09646027977877841530"
     },
     "user_tz": -330
    },
    "id": "wNpKWO9bpCsI",
    "outputId": "f2432198-af47-4650-eeb6-d3e77cd5188f"
   },
   "outputs": [
    {
     "name": "stderr",
     "output_type": "stream",
     "text": [
      "/usr/local/lib/python3.7/dist-packages/IPython/core/interactiveshell.py:2822: DtypeWarning: Columns (84,88,90,94,96,100,102,106,108,112,114,118,120,123,125,128,130,134,136,140,142,145,147,151,153,157,159,163,165,169,171,175,177,180,182,185,187,191,193,194,196,200,202,206,208,211,213,216,218,222,224,228,230,234,236,240,242,246,248,252,254,257,259,263,265,269,271,275,277,281,283,287,289,293,295,299,301,305,307,311,313,317,319,323,325,328,330,334,336,340,342,346,348,351,353,354,356,359,361,364,366,370,372,376,378,381,383,387,389,393,395,399,401,405,407,411,413,417,419,423) have mixed types.Specify dtype option on import or set low_memory=False.\n",
      "  if self.run_code(code, result):\n",
      "/usr/local/lib/python3.7/dist-packages/IPython/core/interactiveshell.py:2822: DtypeWarning: Columns (82,86,88,92,94,98,100,104,106,110,112,116,124,128,130,134,136,140,142,146,148,152,154,158,160,164,166,170,172,176,178,182,184,188,190,194,196,200,202,206,208,212,214,218,220,224,226,230,232,233,235,239,241,245,247,251,253,257,259,263,265,269,271,275,277,281,283,287,289,293,295,299,301,305,307,311,313,317,319,323,325,329,331,335,337,341,343,347,349,353,355,359,361,365,367,371,373,377,379,383,385,389,391,395,397,401) have mixed types.Specify dtype option on import or set low_memory=False.\n",
      "  if self.run_code(code, result):\n"
     ]
    }
   ],
   "source": [
    "cbse_df = CBSEData()"
   ]
  },
  {
   "cell_type": "code",
   "execution_count": 8,
   "metadata": {
    "colab": {
     "base_uri": "https://localhost:8080/"
    },
    "executionInfo": {
     "elapsed": 124340,
     "status": "ok",
     "timestamp": 1641397350162,
     "user": {
      "displayName": "vahini",
      "photoUrl": "https://lh3.googleusercontent.com/a-/AOh14GhHTsSlWlULa1FavIyz3YWkccn_KU1l5Gvimbzj=s64",
      "userId": "09646027977877841530"
     },
     "user_tz": -330
    },
    "id": "zzUrWrEPpCsI",
    "outputId": "1543b166-552d-4856-a39d-e6130ed67b05"
   },
   "outputs": [
    {
     "name": "stdout",
     "output_type": "stream",
     "text": [
      "(train:(151291, 4), val:(0, 0), test:(53253, 4))\n",
      "Train: ((151240, 30),(151240, 2)) Val:((0,),(0,)) Test: ((53239, 30),(53239, 2))\n"
     ]
    }
   ],
   "source": [
    "train_x, train_y, val_x, val_y, test_x, test_y = splitData(cbse_df, 0.7, 0, 'Name', 'char_cnn_cbse_oov.txt')"
   ]
  },
  {
   "cell_type": "code",
   "execution_count": 9,
   "metadata": {
    "executionInfo": {
     "elapsed": 29,
     "status": "ok",
     "timestamp": 1641397350163,
     "user": {
      "displayName": "vahini",
      "photoUrl": "https://lh3.googleusercontent.com/a-/AOh14GhHTsSlWlULa1FavIyz3YWkccn_KU1l5Gvimbzj=s64",
      "userId": "09646027977877841530"
     },
     "user_tz": -330
    },
    "id": "OICYX1xnpCsJ"
   },
   "outputs": [],
   "source": [
    "voc = vocab()"
   ]
  },
  {
   "cell_type": "markdown",
   "metadata": {
    "id": "KeyQzIempCsK"
   },
   "source": [
    "#### https://stackoverflow.com/questions/59265920/this-tensorflow-binary-is-optimized-with-intelr-mkl-dnn-to-use-the-following-c\n"
   ]
  },
  {
   "cell_type": "code",
   "execution_count": null,
   "metadata": {
    "id": "eiwiIQztpCsL"
   },
   "outputs": [],
   "source": [
    "# import os\n",
    "# os.environ['TF_CPP_MIN_LOG_LEVEL'] = '2'  "
   ]
  },
  {
   "cell_type": "code",
   "execution_count": 13,
   "metadata": {
    "executionInfo": {
     "elapsed": 3345,
     "status": "ok",
     "timestamp": 1641397721288,
     "user": {
      "displayName": "vahini",
      "photoUrl": "https://lh3.googleusercontent.com/a-/AOh14GhHTsSlWlULa1FavIyz3YWkccn_KU1l5Gvimbzj=s64",
      "userId": "09646027977877841530"
     },
     "user_tz": -330
    },
    "id": "Q0pPUrZNpCsL"
   },
   "outputs": [],
   "source": [
    "inputs = Input(MAXLEN_NAME_CHAR_CNN)\n",
    "x = Embedding(len(voc), len(voc))(inputs)\n",
    "x = Conv1D(filters = 256, kernel_size = 7, activation = 'relu')(x)\n",
    "x = Flatten()(x)\n",
    "predictions = Dense(2, activation='softmax')(x)\n",
    "model = Model(inputs=inputs, outputs=predictions)\n",
    "model.compile(loss='categorical_crossentropy', optimizer='adam',metrics=['accuracy'])"
   ]
  },
  {
   "cell_type": "code",
   "execution_count": 14,
   "metadata": {
    "colab": {
     "base_uri": "https://localhost:8080/"
    },
    "executionInfo": {
     "elapsed": 8,
     "status": "ok",
     "timestamp": 1641397721289,
     "user": {
      "displayName": "vahini",
      "photoUrl": "https://lh3.googleusercontent.com/a-/AOh14GhHTsSlWlULa1FavIyz3YWkccn_KU1l5Gvimbzj=s64",
      "userId": "09646027977877841530"
     },
     "user_tz": -330
    },
    "id": "SZZuuPKepCsM",
    "outputId": "60e22a07-1d4c-48d6-dd91-49c2cd9ca2ed"
   },
   "outputs": [
    {
     "name": "stdout",
     "output_type": "stream",
     "text": [
      "Model: \"model\"\n",
      "_________________________________________________________________\n",
      " Layer (type)                Output Shape              Param #   \n",
      "=================================================================\n",
      " input_1 (InputLayer)        [(None, 30)]              0         \n",
      "                                                                 \n",
      " embedding (Embedding)       (None, 30, 28)            784       \n",
      "                                                                 \n",
      " conv1d (Conv1D)             (None, 24, 256)           50432     \n",
      "                                                                 \n",
      " flatten (Flatten)           (None, 6144)              0         \n",
      "                                                                 \n",
      " dense (Dense)               (None, 2)                 12290     \n",
      "                                                                 \n",
      "=================================================================\n",
      "Total params: 63,506\n",
      "Trainable params: 63,506\n",
      "Non-trainable params: 0\n",
      "_________________________________________________________________\n"
     ]
    }
   ],
   "source": [
    "model.summary()"
   ]
  },
  {
   "cell_type": "code",
   "execution_count": 16,
   "metadata": {
    "colab": {
     "base_uri": "https://localhost:8080/"
    },
    "executionInfo": {
     "elapsed": 82986,
     "status": "ok",
     "timestamp": 1641397813726,
     "user": {
      "displayName": "vahini",
      "photoUrl": "https://lh3.googleusercontent.com/a-/AOh14GhHTsSlWlULa1FavIyz3YWkccn_KU1l5Gvimbzj=s64",
      "userId": "09646027977877841530"
     },
     "user_tz": -330
    },
    "id": "wGpOOi0etqUe",
    "outputId": "abef3ccb-e28e-4676-9469-81125b28306f"
   },
   "outputs": [
    {
     "name": "stdout",
     "output_type": "stream",
     "text": [
      "Epoch 1/15\n",
      "152/152 [==============================] - 13s 22ms/step - loss: 0.3731 - accuracy: 0.8240 - val_loss: 0.2693 - val_accuracy: 0.8916\n",
      "Epoch 2/15\n",
      "152/152 [==============================] - 3s 20ms/step - loss: 0.2039 - accuracy: 0.9241 - val_loss: 0.2272 - val_accuracy: 0.9097\n",
      "Epoch 3/15\n",
      "152/152 [==============================] - 3s 20ms/step - loss: 0.1641 - accuracy: 0.9413 - val_loss: 0.2156 - val_accuracy: 0.9110\n",
      "Epoch 4/15\n",
      "152/152 [==============================] - 3s 22ms/step - loss: 0.1415 - accuracy: 0.9495 - val_loss: 0.2062 - val_accuracy: 0.9169\n",
      "Epoch 5/15\n",
      "152/152 [==============================] - 3s 19ms/step - loss: 0.1269 - accuracy: 0.9551 - val_loss: 0.1977 - val_accuracy: 0.9192\n",
      "Epoch 6/15\n",
      "152/152 [==============================] - 3s 19ms/step - loss: 0.1160 - accuracy: 0.9595 - val_loss: 0.1922 - val_accuracy: 0.9226\n",
      "Epoch 7/15\n",
      "152/152 [==============================] - 3s 22ms/step - loss: 0.1076 - accuracy: 0.9625 - val_loss: 0.1973 - val_accuracy: 0.9232\n",
      "Epoch 8/15\n",
      "152/152 [==============================] - 3s 19ms/step - loss: 0.1011 - accuracy: 0.9648 - val_loss: 0.1942 - val_accuracy: 0.9233\n",
      "Epoch 9/15\n",
      "152/152 [==============================] - 3s 20ms/step - loss: 0.0949 - accuracy: 0.9670 - val_loss: 0.1848 - val_accuracy: 0.9273\n",
      "Epoch 10/15\n",
      "152/152 [==============================] - 3s 20ms/step - loss: 0.0901 - accuracy: 0.9685 - val_loss: 0.1811 - val_accuracy: 0.9310\n",
      "Epoch 11/15\n",
      "152/152 [==============================] - 3s 22ms/step - loss: 0.0863 - accuracy: 0.9698 - val_loss: 0.1748 - val_accuracy: 0.9328\n",
      "Epoch 12/15\n",
      "152/152 [==============================] - 3s 19ms/step - loss: 0.0816 - accuracy: 0.9717 - val_loss: 0.1787 - val_accuracy: 0.9298\n",
      "Epoch 13/15\n",
      "152/152 [==============================] - 3s 20ms/step - loss: 0.0787 - accuracy: 0.9724 - val_loss: 0.1749 - val_accuracy: 0.9335\n",
      "Epoch 14/15\n",
      "152/152 [==============================] - 3s 20ms/step - loss: 0.0759 - accuracy: 0.9734 - val_loss: 0.1792 - val_accuracy: 0.9307\n",
      "Epoch 15/15\n",
      "152/152 [==============================] - 3s 20ms/step - loss: 0.0729 - accuracy: 0.9744 - val_loss: 0.1884 - val_accuracy: 0.9298\n"
     ]
    },
    {
     "data": {
      "text/plain": [
       "<keras.callbacks.History at 0x7f3274c96490>"
      ]
     },
     "execution_count": 16,
     "metadata": {},
     "output_type": "execute_result"
    }
   ],
   "source": [
    "batch_size=1000\n",
    "model.fit(train_x, train_y,batch_size=batch_size,epochs=15,validation_data=(test_x, test_y))"
   ]
  },
  {
   "cell_type": "code",
   "execution_count": 17,
   "metadata": {
    "colab": {
     "base_uri": "https://localhost:8080/"
    },
    "executionInfo": {
     "elapsed": 6890,
     "status": "ok",
     "timestamp": 1641397820591,
     "user": {
      "displayName": "vahini",
      "photoUrl": "https://lh3.googleusercontent.com/a-/AOh14GhHTsSlWlULa1FavIyz3YWkccn_KU1l5Gvimbzj=s64",
      "userId": "09646027977877841530"
     },
     "user_tz": -330
    },
    "id": "q6NQSOMwttvv",
    "outputId": "ed8faaf2-4b36-4594-82c9-e0f22cda9743"
   },
   "outputs": [
    {
     "name": "stdout",
     "output_type": "stream",
     "text": [
      "1664/1664 [==============================] - 6s 4ms/step - loss: 0.1884 - accuracy: 0.9298\n",
      "Test score: 0.18836355209350586\n",
      "Test accuracy: 0.9297695159912109\n"
     ]
    }
   ],
   "source": [
    "score, acc = model.evaluate(test_x, test_y)\n",
    "print('Test score:', score)\n",
    "print('Test accuracy:', acc)"
   ]
  },
  {
   "cell_type": "code",
   "execution_count": 18,
   "metadata": {
    "colab": {
     "base_uri": "https://localhost:8080/"
    },
    "executionInfo": {
     "elapsed": 5793,
     "status": "ok",
     "timestamp": 1641397831027,
     "user": {
      "displayName": "vahini",
      "photoUrl": "https://lh3.googleusercontent.com/a-/AOh14GhHTsSlWlULa1FavIyz3YWkccn_KU1l5Gvimbzj=s64",
      "userId": "09646027977877841530"
     },
     "user_tz": -330
    },
    "id": "cLLtYdLKpCsO",
    "outputId": "8f181865-8341-46cd-be50-32a87105b7ab"
   },
   "outputs": [
    {
     "name": "stdout",
     "output_type": "stream",
     "text": [
      "------------------RESULTS-------------------------------\n",
      "              precision    recall  f1-score   support\n",
      "\n",
      "        Male     0.9543    0.9129    0.9331     28576\n",
      "      Female     0.9039    0.9494    0.9261     24663\n",
      "\n",
      "    accuracy                         0.9298     53239\n",
      "   macro avg     0.9291    0.9311    0.9296     53239\n",
      "weighted avg     0.9309    0.9298    0.9299     53239\n",
      "\n",
      "--------------------------------------------------------\n"
     ]
    }
   ],
   "source": [
    "pred = model.predict(np.asarray(test_x))\n",
    "y_pred = np.argmax(pred, axis=1)\n",
    "y_true = np.argmax(test_y, axis=1)\n",
    "\n",
    "target_names = ['Male','Female']\n",
    "\n",
    "print(\"------------------RESULTS-------------------------------\")\n",
    "print(classification_report(y_true, y_pred, target_names=target_names, digits=4))\n",
    "print(\"--------------------------------------------------------\")"
   ]
  },
  {
   "cell_type": "code",
   "execution_count": 19,
   "metadata": {
    "colab": {
     "base_uri": "https://localhost:8080/"
    },
    "executionInfo": {
     "elapsed": 1718,
     "status": "ok",
     "timestamp": 1641397950437,
     "user": {
      "displayName": "vahini",
      "photoUrl": "https://lh3.googleusercontent.com/a-/AOh14GhHTsSlWlULa1FavIyz3YWkccn_KU1l5Gvimbzj=s64",
      "userId": "09646027977877841530"
     },
     "user_tz": -330
    },
    "id": "VeJlmZW0pCsR",
    "outputId": "ace3026d-bbd9-4d25-d5fb-fe64be75de0b"
   },
   "outputs": [
    {
     "name": "stdout",
     "output_type": "stream",
     "text": [
      "INFO:tensorflow:Assets written to: Models/CBSEData/CharCNN/SavedModel/CharCNN/assets\n"
     ]
    }
   ],
   "source": [
    "filename = \"Models/CBSEData/CharCNN/SavedModel/CharCNN\"\n",
    "model.save(filename)"
   ]
  },
  {
   "cell_type": "code",
   "execution_count": null,
   "metadata": {
    "id": "Dugbikl48Q4u"
   },
   "outputs": [],
   "source": []
  }
 ],
 "metadata": {
  "accelerator": "GPU",
  "colab": {
   "collapsed_sections": [],
   "name": "Char_CNN.ipynb",
   "provenance": []
  },
  "kernelspec": {
   "display_name": "Python 3",
   "language": "python",
   "name": "python3"
  },
  "language_info": {
   "codemirror_mode": {
    "name": "ipython",
    "version": 3
   },
   "file_extension": ".py",
   "mimetype": "text/x-python",
   "name": "python",
   "nbconvert_exporter": "python",
   "pygments_lexer": "ipython3",
   "version": "3.8.11"
  }
 },
 "nbformat": 4,
 "nbformat_minor": 1
}
