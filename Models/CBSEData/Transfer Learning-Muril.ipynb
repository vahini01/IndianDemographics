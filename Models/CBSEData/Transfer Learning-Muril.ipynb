{
 "cells": [
  {
   "cell_type": "code",
   "execution_count": 1,
   "id": "2bd0cbf6",
   "metadata": {},
   "outputs": [],
   "source": [
    "# Load AIEEE Data"
   ]
  },
  {
   "cell_type": "code",
   "execution_count": 1,
   "id": "752490f9",
   "metadata": {},
   "outputs": [
    {
     "name": "stdout",
     "output_type": "stream",
     "text": [
      "Sat Mar 19 01:53:20 2022       \n",
      "+-----------------------------------------------------------------------------+\n",
      "| NVIDIA-SMI 470.86       Driver Version: 470.86       CUDA Version: 11.4     |\n",
      "|-------------------------------+----------------------+----------------------+\n",
      "| GPU  Name        Persistence-M| Bus-Id        Disp.A | Volatile Uncorr. ECC |\n",
      "| Fan  Temp  Perf  Pwr:Usage/Cap|         Memory-Usage | GPU-Util  Compute M. |\n",
      "|                               |                      |               MIG M. |\n",
      "|===============================+======================+======================|\n",
      "|   0  Tesla P100-PCIE...  Off  | 00000000:3B:00.0 Off |                    0 |\n",
      "| N/A   39C    P0    43W / 250W |   5988MiB / 16280MiB |     42%      Default |\n",
      "|                               |                      |                  N/A |\n",
      "+-------------------------------+----------------------+----------------------+\n",
      "|   1  Tesla P100-PCIE...  Off  | 00000000:D8:00.0 Off |                    0 |\n",
      "| N/A   41C    P0    86W / 250W |   3966MiB / 16280MiB |     41%      Default |\n",
      "|                               |                      |                  N/A |\n",
      "+-------------------------------+----------------------+----------------------+\n",
      "                                                                               \n",
      "+-----------------------------------------------------------------------------+\n",
      "| Processes:                                                                  |\n",
      "|  GPU   GI   CI        PID   Type   Process name                  GPU Memory |\n",
      "|        ID   ID                                                   Usage      |\n",
      "|=============================================================================|\n",
      "|    0   N/A  N/A      4613      C   python                           3593MiB |\n",
      "|    0   N/A  N/A     12585      C   python                           2393MiB |\n",
      "|    1   N/A  N/A     12585      C   python                            255MiB |\n",
      "|    1   N/A  N/A     28065      C   python                           3709MiB |\n",
      "+-----------------------------------------------------------------------------+\n"
     ]
    }
   ],
   "source": [
    "!nvidia-smi"
   ]
  },
  {
   "cell_type": "code",
   "execution_count": 2,
   "id": "d7fc5802",
   "metadata": {},
   "outputs": [],
   "source": [
    "import os\n",
    "os.environ[\"CUDA_VISIBLE_DEVICES\"]=\"1\"    \n",
    "import tensorflow as tf"
   ]
  },
  {
   "cell_type": "code",
   "execution_count": 3,
   "id": "5d77862d",
   "metadata": {},
   "outputs": [
    {
     "name": "stdout",
     "output_type": "stream",
     "text": [
      "/home/souvic/mounted/btp/vahini/Name2Demographics\n"
     ]
    }
   ],
   "source": [
    "%cd ../../"
   ]
  },
  {
   "cell_type": "code",
   "execution_count": 4,
   "id": "eab1696a",
   "metadata": {},
   "outputs": [],
   "source": [
    "import pandas as pd\n",
    "import numpy as np\n",
    "import matplotlib.pyplot as plt \n",
    "\n",
    "\n",
    "import sys  \n",
    "sys.path.insert(0, 'Models/CBSEData/CBSEPreprocessing/')\n",
    "from parse_cbse import *"
   ]
  },
  {
   "cell_type": "code",
   "execution_count": 5,
   "id": "d3320fa4",
   "metadata": {},
   "outputs": [],
   "source": [
    "cbse_df = CBSEData()"
   ]
  },
  {
   "cell_type": "markdown",
   "id": "4ab7a3a3",
   "metadata": {},
   "source": [
    "Load Models"
   ]
  },
  {
   "cell_type": "code",
   "execution_count": 11,
   "id": "845a38ec",
   "metadata": {},
   "outputs": [],
   "source": [
    "#  other models\n",
    "AIEEE_Muril = \"Models/AIEEEGenderData/MurilBERT/SavedModel/MurilBERT\"\n",
    "CBSE_Muril = \"Models/CBSEData/MurilBERT/SavedModel/MurilBERT\"\n",
    "ER_Muril = \"Models/ERData/MurilBERT/SavedModel/BERTMuril\""
   ]
  },
  {
   "cell_type": "code",
   "execution_count": 7,
   "id": "74c98d00",
   "metadata": {},
   "outputs": [],
   "source": [
    "%%capture\n",
    "!pip install transformers[sentencepiece]\n",
    "import transformers"
   ]
  },
  {
   "cell_type": "code",
   "execution_count": 8,
   "id": "cb498592",
   "metadata": {},
   "outputs": [],
   "source": [
    "from transformers import BertModel, AutoModelForSequenceClassification\n",
    "from transformers import AutoTokenizer"
   ]
  },
  {
   "cell_type": "code",
   "execution_count": 9,
   "id": "2d6a9971",
   "metadata": {},
   "outputs": [],
   "source": [
    "aieee_model = AutoModelForSequenceClassification.from_pretrained(AIEEE_Muril)"
   ]
  },
  {
   "cell_type": "code",
   "execution_count": 10,
   "id": "dd5a18a7",
   "metadata": {},
   "outputs": [],
   "source": [
    "cbse_model = AutoModelForSequenceClassification.from_pretrained(CBSE_Muril)"
   ]
  },
  {
   "cell_type": "code",
   "execution_count": 12,
   "id": "d0ccd29b",
   "metadata": {},
   "outputs": [],
   "source": [
    "er_model = AutoModelForSequenceClassification.from_pretrained(ER_Muril)"
   ]
  },
  {
   "cell_type": "code",
   "execution_count": 14,
   "id": "42241779",
   "metadata": {},
   "outputs": [],
   "source": [
    "tokenizer = AutoTokenizer.from_pretrained(\"google/muril-base-cased\")\n"
   ]
  },
  {
   "cell_type": "markdown",
   "id": "636223f6",
   "metadata": {},
   "source": [
    "Predict Gender"
   ]
  },
  {
   "cell_type": "code",
   "execution_count": 13,
   "id": "6367d673",
   "metadata": {},
   "outputs": [],
   "source": [
    "from transformers import pipeline\n",
    "from sklearn.metrics import classification_report\n"
   ]
  },
  {
   "cell_type": "code",
   "execution_count": 18,
   "id": "7796bc1b",
   "metadata": {},
   "outputs": [],
   "source": [
    "import math\n",
    "\n",
    "def print_results(rmodel, tokenizer, df):\n",
    "    pipe = pipeline(task=\"text-classification\",model=rmodel, tokenizer=tokenizer)\n",
    "    n = df.shape[0]\n",
    "    predictions = []\n",
    "    for i in range(math.ceil(n/1000)):\n",
    "        df1 = df[i*1000:(i+1)*(1000)]\n",
    "        onway = pipe(list(df1['Name']), batch_size=256)\n",
    "        predictions = predictions + onway\n",
    "#     import pdb; pdb.set_trace()\n",
    "    labels = []\n",
    "    for pred in predictions:\n",
    "        if pred['label'] == 'LABEL_0':\n",
    "            labels.append(0)\n",
    "        else:\n",
    "            labels.append(1)\n",
    "    \n",
    "    true = list(df['Gender'])\n",
    "    print(classification_report(true, labels, digits = 4))\n",
    "    return "
   ]
  },
  {
   "cell_type": "code",
   "execution_count": null,
   "id": "e4d0daef",
   "metadata": {},
   "outputs": [],
   "source": [
    "print_results(cbse_model, tokenizer, cbse_df)"
   ]
  },
  {
   "cell_type": "code",
   "execution_count": 19,
   "id": "8b3a9faf",
   "metadata": {},
   "outputs": [
    {
     "name": "stdout",
     "output_type": "stream",
     "text": [
      "              precision    recall  f1-score   support\n",
      "\n",
      "         0.0     0.9677    0.9636    0.9657     67970\n",
      "         1.0     0.9709    0.9742    0.9725     84519\n",
      "\n",
      "    accuracy                         0.9695    152489\n",
      "   macro avg     0.9693    0.9689    0.9691    152489\n",
      "weighted avg     0.9695    0.9695    0.9695    152489\n",
      "\n"
     ]
    }
   ],
   "source": [
    "print_results(aieee_model, tokenizer, cbse_df)"
   ]
  },
  {
   "cell_type": "code",
   "execution_count": null,
   "id": "9f86f5fc",
   "metadata": {},
   "outputs": [],
   "source": [
    "print_results(er_model, tokenizer, cbse_df)"
   ]
  }
 ],
 "metadata": {
  "kernelspec": {
   "display_name": "Python [conda env:.conda-py38] *",
   "language": "python",
   "name": "conda-env-.conda-py38-py"
  },
  "language_info": {
   "codemirror_mode": {
    "name": "ipython",
    "version": 3
   },
   "file_extension": ".py",
   "mimetype": "text/x-python",
   "name": "python",
   "nbconvert_exporter": "python",
   "pygments_lexer": "ipython3",
   "version": "3.8.11"
  }
 },
 "nbformat": 4,
 "nbformat_minor": 5
}
