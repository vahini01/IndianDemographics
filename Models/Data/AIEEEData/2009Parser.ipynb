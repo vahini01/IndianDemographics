{
 "cells": [
  {
   "cell_type": "code",
   "execution_count": 1,
   "id": "81690abe",
   "metadata": {},
   "outputs": [
    {
     "name": "stdout",
     "output_type": "stream",
     "text": [
      "Requirement already satisfied: BeautifulSoup4 in /home/souvic/.conda/envs/py38/lib/python3.8/site-packages (4.10.0)\r\n",
      "Requirement already satisfied: soupsieve>1.2 in /home/souvic/.conda/envs/py38/lib/python3.8/site-packages (from BeautifulSoup4) (2.3)\r\n"
     ]
    }
   ],
   "source": [
    "!pip install BeautifulSoup4"
   ]
  },
  {
   "cell_type": "code",
   "execution_count": 2,
   "id": "e7bf09ad",
   "metadata": {},
   "outputs": [],
   "source": [
    "import pickle\n",
    "import pandas as pd\n",
    "from bs4 import BeautifulSoup"
   ]
  },
  {
   "cell_type": "code",
   "execution_count": 3,
   "id": "204a3f02",
   "metadata": {},
   "outputs": [],
   "source": [
    "# path\n",
    "AIEEE = '../../../jalend/aieeedata/'\n",
    "AIEEE_2004 = AIEEE+'2004.p'\n",
    "AIEEE_2006 = AIEEE+'2006.p'\n",
    "AIEEE_2008 = AIEEE+'2008.p'\n",
    "AIEEE_2009 = AIEEE+'2009.p'\n",
    "AIEEE_2010 = AIEEE+'2010.p'\n",
    "AIEEE_2011 = AIEEE+'2011.p'"
   ]
  },
  {
   "cell_type": "code",
   "execution_count": 4,
   "id": "bd0e7772",
   "metadata": {},
   "outputs": [],
   "source": [
    "with (open(AIEEE_2009, \"rb\")) as openfile:\n",
    "    ai_09 = pickle.load(openfile)"
   ]
  },
  {
   "cell_type": "code",
   "execution_count": 5,
   "id": "37ecf909",
   "metadata": {},
   "outputs": [],
   "source": [
    "rolls = ai_09.keys()"
   ]
  },
  {
   "cell_type": "code",
   "execution_count": 6,
   "id": "71e52029",
   "metadata": {},
   "outputs": [],
   "source": [
    "rn = []\n",
    "for key in rolls:\n",
    "    rn.append(key)"
   ]
  },
  {
   "cell_type": "code",
   "execution_count": 7,
   "id": "7e088cb2",
   "metadata": {},
   "outputs": [],
   "source": [
    "# Paper 1: Physics, Chemistry &amp; Mathematics\n",
    "# Paper 2: Mathematics, Aptitude Test &amp; Drawing"
   ]
  },
  {
   "cell_type": "code",
   "execution_count": 9,
   "id": "b889b2f7",
   "metadata": {},
   "outputs": [
    {
     "name": "stdout",
     "output_type": "stream",
     "text": [
      "10000\n",
      "20000\n",
      "30000\n",
      "40000\n",
      "50000\n",
      "70000\n",
      "80000\n",
      "90000\n",
      "100000\n",
      "110000\n"
     ]
    }
   ],
   "source": [
    "data = []\n",
    "count = 0\n",
    "for elem in rn:\n",
    "    student = []\n",
    "    count = count+1\n",
    "    if count%10000 == 0:\n",
    "        print(count)\n",
    "        df = pd.DataFrame(data, columns=['roll_no','name','mother_name','father_name','category','state_no','present','p1_marks','p2_marks','air_btech','air_cat_btech','state_btech','state_cat_btech','air_barch','air_cat_barch','state_barch','state_cat_barch'])\n",
    "    if ai_09[elem] == \"\":\n",
    "        continue\n",
    "    soup = BeautifulSoup(ai_09[elem],'html.parser')\n",
    "    tab  = soup.find_all('table', align=\"center\", border=\"0\", width=\"500\")\n",
    "    info0 = tab[0].find_all('td', align=\"left\")\n",
    "    roll_no = info0[0].string\n",
    "    name = info0[1].string\n",
    "    mother_name = info0[2].string\n",
    "    father_name = info0[3].string\n",
    "    info1 = tab[1].find_all('strong')\n",
    "    category = info1[0].string\n",
    "    state_no = info1[1].string\n",
    "    student= student+([roll_no, name, mother_name, father_name, category, state_no])\n",
    "    taba = soup.find_all('table',width='400')\n",
    "    if len(tab) <= 2:\n",
    "        present = False\n",
    "        student.append(present)\n",
    "#         print(taba[0].text,\":\",elem)\n",
    "    else :\n",
    "        present = True\n",
    "        info2 = tab[2].find_all('td', align='right')\n",
    "        p1_marks = info2[1].string\n",
    "        p2_marks = info2[2].string\n",
    "        info = tab[3].find_all('td', align='center')\n",
    "        air_btech = info[4].text\n",
    "        air_cat_btech = info[6].text\n",
    "        state_btech = info[10].text\n",
    "        state_cat_btech = info[12].text\n",
    "        air_barch = info[5].text\n",
    "        air_cat_barch = info[7].text\n",
    "        state_barch = info[11].text\n",
    "        state_cat_barch = info[13].text\n",
    "#         print(name,\":\", roll_no, \":\", mother_name,\":\", father_name, \":\", category,\":\",state_no,\":\",p1_marks,\":\",p2_marks,\":\")\n",
    "#         print(air_btech, \":\", air_cat_btech,\":\", state_btech, \":\",state_cat_btech,\":\", air_barch,\":\", air_cat_barch,\":\",state_barch,\":\",state_cat_barch)\n",
    "        student=student+([present, p1_marks, p2_marks, air_btech, air_cat_btech, state_btech, state_cat_btech, air_barch, air_cat_barch, state_barch, state_cat_barch])\n",
    "    data.append(student)\n",
    "    "
   ]
  },
  {
   "cell_type": "code",
   "execution_count": 10,
   "id": "369c1f9e",
   "metadata": {},
   "outputs": [],
   "source": [
    "df = pd.DataFrame(data, columns=['roll_no','name','mother_name','father_name','category','state_no','present','p1_marks','p2_marks','air_btech','air_cat_btech','state_btech','state_cat_btech','air_barch','air_cat_barch','state_barch','state_cat_barch'])"
   ]
  },
  {
   "cell_type": "code",
   "execution_count": 11,
   "id": "b4381fbb",
   "metadata": {},
   "outputs": [
    {
     "data": {
      "text/plain": [
       "(112579, 17)"
      ]
     },
     "execution_count": 11,
     "metadata": {},
     "output_type": "execute_result"
    }
   ],
   "source": [
    "df.shape"
   ]
  },
  {
   "cell_type": "code",
   "execution_count": 12,
   "id": "e7d06d00",
   "metadata": {},
   "outputs": [],
   "source": [
    "df.to_csv('aieee_2009.csv')"
   ]
  },
  {
   "cell_type": "code",
   "execution_count": 13,
   "id": "d0adcbd6",
   "metadata": {},
   "outputs": [
    {
     "data": {
      "text/html": [
       "<div>\n",
       "<style scoped>\n",
       "    .dataframe tbody tr th:only-of-type {\n",
       "        vertical-align: middle;\n",
       "    }\n",
       "\n",
       "    .dataframe tbody tr th {\n",
       "        vertical-align: top;\n",
       "    }\n",
       "\n",
       "    .dataframe thead th {\n",
       "        text-align: right;\n",
       "    }\n",
       "</style>\n",
       "<table border=\"1\" class=\"dataframe\">\n",
       "  <thead>\n",
       "    <tr style=\"text-align: right;\">\n",
       "      <th></th>\n",
       "      <th>roll_no</th>\n",
       "      <th>name</th>\n",
       "      <th>mother_name</th>\n",
       "      <th>father_name</th>\n",
       "      <th>category</th>\n",
       "      <th>state_no</th>\n",
       "      <th>present</th>\n",
       "      <th>p1_marks</th>\n",
       "      <th>p2_marks</th>\n",
       "      <th>air_btech</th>\n",
       "      <th>air_cat_btech</th>\n",
       "      <th>state_btech</th>\n",
       "      <th>state_cat_btech</th>\n",
       "      <th>air_barch</th>\n",
       "      <th>air_cat_barch</th>\n",
       "      <th>state_barch</th>\n",
       "      <th>state_cat_barch</th>\n",
       "    </tr>\n",
       "  </thead>\n",
       "  <tbody>\n",
       "    <tr>\n",
       "      <th>0</th>\n",
       "      <td>22500416</td>\n",
       "      <td>SUNNY LALLER</td>\n",
       "      <td>SHARDA DEVI</td>\n",
       "      <td>DALBIR SINGH LALLER</td>\n",
       "      <td>Category:                 GEN\\r\\n\\r\\n</td>\n",
       "      <td>State Code of Eligibility: 13</td>\n",
       "      <td>True</td>\n",
       "      <td>26</td>\n",
       "      <td>\\r\\n\\r\\nNot Applicable/Not Applied\\r\\n\\r\\n</td>\n",
       "      <td>687686</td>\n",
       "      <td>414972</td>\n",
       "      <td>34288</td>\n",
       "      <td>23484</td>\n",
       "      <td>------</td>\n",
       "      <td>------</td>\n",
       "      <td>------</td>\n",
       "      <td>------</td>\n",
       "    </tr>\n",
       "    <tr>\n",
       "      <th>1</th>\n",
       "      <td>22700891</td>\n",
       "      <td>KULDEEP SHARMA</td>\n",
       "      <td>CHAMPA DEVI</td>\n",
       "      <td>MANANTRAM</td>\n",
       "      <td>Category:                 GEN\\r\\n\\r\\n</td>\n",
       "      <td>State Code of Eligibility: 14</td>\n",
       "      <td>True</td>\n",
       "      <td>14</td>\n",
       "      <td>\\r\\n\\r\\nNot Applicable/Not Applied\\r\\n\\r\\n</td>\n",
       "      <td>810423</td>\n",
       "      <td>479425</td>\n",
       "      <td>9337</td>\n",
       "      <td>6689</td>\n",
       "      <td>------</td>\n",
       "      <td>------</td>\n",
       "      <td>------</td>\n",
       "      <td>------</td>\n",
       "    </tr>\n",
       "    <tr>\n",
       "      <th>2</th>\n",
       "      <td>21415832</td>\n",
       "      <td>TEJPARTAP SINGH</td>\n",
       "      <td>HERJEET KAUR</td>\n",
       "      <td>TARLOCHAN SINGH</td>\n",
       "      <td>Category:                 GEN\\r\\n\\r\\n</td>\n",
       "      <td>State Code of Eligibility: 28</td>\n",
       "      <td>False</td>\n",
       "      <td>None</td>\n",
       "      <td>None</td>\n",
       "      <td>None</td>\n",
       "      <td>None</td>\n",
       "      <td>None</td>\n",
       "      <td>None</td>\n",
       "      <td>None</td>\n",
       "      <td>None</td>\n",
       "      <td>None</td>\n",
       "      <td>None</td>\n",
       "    </tr>\n",
       "    <tr>\n",
       "      <th>3</th>\n",
       "      <td>21402077</td>\n",
       "      <td>HARJINDER SINGH</td>\n",
       "      <td>SUKHDEV KAUR</td>\n",
       "      <td>RANJIT SINGH</td>\n",
       "      <td>Category:                 GEN\\r\\n\\r\\n</td>\n",
       "      <td>State Code of Eligibility: 34</td>\n",
       "      <td>True</td>\n",
       "      <td>87</td>\n",
       "      <td>\\r\\n\\r\\nNot Applicable/Not Applied\\r\\n\\r\\n</td>\n",
       "      <td>164867</td>\n",
       "      <td>114788</td>\n",
       "      <td>2714</td>\n",
       "      <td>2270</td>\n",
       "      <td>------</td>\n",
       "      <td>------</td>\n",
       "      <td>------</td>\n",
       "      <td>------</td>\n",
       "    </tr>\n",
       "    <tr>\n",
       "      <th>4</th>\n",
       "      <td>20600071</td>\n",
       "      <td>THYNALA SETHU DHARANIDHAR</td>\n",
       "      <td>THYNALA LAKSHMI RAJYAM</td>\n",
       "      <td>THYNALA VIJAYA KUMAR</td>\n",
       "      <td>Category:                 OBC\\r\\n\\r\\n</td>\n",
       "      <td>State Code of Eligibility: 02</td>\n",
       "      <td>True</td>\n",
       "      <td>194</td>\n",
       "      <td>\\r\\n\\r\\nNot Applicable/Not Applied\\r\\n\\r\\n</td>\n",
       "      <td>22354</td>\n",
       "      <td>4249</td>\n",
       "      <td>3630</td>\n",
       "      <td>928</td>\n",
       "      <td>------</td>\n",
       "      <td>------</td>\n",
       "      <td>------</td>\n",
       "      <td>------</td>\n",
       "    </tr>\n",
       "  </tbody>\n",
       "</table>\n",
       "</div>"
      ],
      "text/plain": [
       "      roll_no                         name               mother_name  \\\n",
       "0   22500416                 SUNNY LALLER               SHARDA DEVI    \n",
       "1   22700891               KULDEEP SHARMA               CHAMPA DEVI    \n",
       "2   21415832              TEJPARTAP SINGH              HERJEET KAUR    \n",
       "3   21402077              HARJINDER SINGH              SUKHDEV KAUR    \n",
       "4   20600071    THYNALA SETHU DHARANIDHAR    THYNALA LAKSHMI RAJYAM    \n",
       "\n",
       "              father_name                               category  \\\n",
       "0    DALBIR SINGH LALLER   Category:                 GEN\\r\\n\\r\\n   \n",
       "1              MANANTRAM   Category:                 GEN\\r\\n\\r\\n   \n",
       "2        TARLOCHAN SINGH   Category:                 GEN\\r\\n\\r\\n   \n",
       "3           RANJIT SINGH   Category:                 GEN\\r\\n\\r\\n   \n",
       "4   THYNALA VIJAYA KUMAR   Category:                 OBC\\r\\n\\r\\n   \n",
       "\n",
       "                        state_no  present p1_marks  \\\n",
       "0  State Code of Eligibility: 13     True      26    \n",
       "1  State Code of Eligibility: 14     True      14    \n",
       "2  State Code of Eligibility: 28    False     None   \n",
       "3  State Code of Eligibility: 34     True      87    \n",
       "4  State Code of Eligibility: 02     True     194    \n",
       "\n",
       "                                       p2_marks air_btech air_cat_btech  \\\n",
       "0   \\r\\n\\r\\nNot Applicable/Not Applied\\r\\n\\r\\n    687686        414972    \n",
       "1   \\r\\n\\r\\nNot Applicable/Not Applied\\r\\n\\r\\n    810423        479425    \n",
       "2                                          None      None          None   \n",
       "3   \\r\\n\\r\\nNot Applicable/Not Applied\\r\\n\\r\\n    164867        114788    \n",
       "4   \\r\\n\\r\\nNot Applicable/Not Applied\\r\\n\\r\\n     22354          4249    \n",
       "\n",
       "  state_btech state_cat_btech air_barch air_cat_barch state_barch  \\\n",
       "0      34288           23484    ------        ------      ------    \n",
       "1       9337            6689    ------        ------      ------    \n",
       "2        None            None      None          None        None   \n",
       "3       2714            2270    ------        ------      ------    \n",
       "4       3630             928    ------        ------      ------    \n",
       "\n",
       "  state_cat_barch  \n",
       "0         ------   \n",
       "1         ------   \n",
       "2            None  \n",
       "3         ------   \n",
       "4         ------   "
      ]
     },
     "execution_count": 13,
     "metadata": {},
     "output_type": "execute_result"
    }
   ],
   "source": [
    "df.head()"
   ]
  },
  {
   "cell_type": "code",
   "execution_count": null,
   "id": "2483061e",
   "metadata": {},
   "outputs": [],
   "source": []
  }
 ],
 "metadata": {
  "kernelspec": {
   "display_name": "Python [conda env:.conda-py38] *",
   "language": "python",
   "name": "conda-env-.conda-py38-py"
  },
  "language_info": {
   "codemirror_mode": {
    "name": "ipython",
    "version": 3
   },
   "file_extension": ".py",
   "mimetype": "text/x-python",
   "name": "python",
   "nbconvert_exporter": "python",
   "pygments_lexer": "ipython3",
   "version": "3.8.11"
  }
 },
 "nbformat": 4,
 "nbformat_minor": 5
}
