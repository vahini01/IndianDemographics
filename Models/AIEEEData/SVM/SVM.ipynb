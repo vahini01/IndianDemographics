{
 "cells": [
  {
   "cell_type": "markdown",
   "metadata": {
    "id": "GS4aYvEoCSCe"
   },
   "source": [
    "### Import Required Modules"
   ]
  },
  {
   "cell_type": "code",
   "execution_count": 1,
   "metadata": {
    "id": "-BE1xe9P3FdV"
   },
   "outputs": [],
   "source": [
    "import pandas as pd\n",
    "import numpy as np\n",
    "from sklearn.feature_extraction.text import CountVectorizer\n",
    "from sklearn.feature_extraction.text import TfidfTransformer, TfidfVectorizer\n",
    "from sklearn.linear_model import SGDClassifier\n",
    "from sklearn.pipeline import Pipeline\n",
    "from sklearn.model_selection import train_test_split\n",
    "from sklearn.naive_bayes import MultinomialNB\n",
    "from sklearn.metrics import classification_report\n",
    "import pickle"
   ]
  },
  {
   "cell_type": "code",
   "execution_count": 2,
   "metadata": {
    "colab": {
     "base_uri": "https://localhost:8080/"
    },
    "executionInfo": {
     "elapsed": 3589,
     "status": "ok",
     "timestamp": 1641394659029,
     "user": {
      "displayName": "vahini",
      "photoUrl": "https://lh3.googleusercontent.com/a-/AOh14GhHTsSlWlULa1FavIyz3YWkccn_KU1l5Gvimbzj=s64",
      "userId": "09646027977877841530"
     },
     "user_tz": -330
    },
    "id": "eZXUbf0hCvPO",
    "outputId": "9b62c1e7-a462-4208-f736-b1c50cd53ae5"
   },
   "outputs": [],
   "source": [
    "# from google.colab import drive\n",
    "# drive.mount('/content/drive')"
   ]
  },
  {
   "cell_type": "code",
   "execution_count": 3,
   "metadata": {
    "id": "0S86wOPeCNcD"
   },
   "outputs": [],
   "source": [
    "# PATH_TO_FOLDER = \"drive/MyDrive/Name2Demographics/\""
   ]
  },
  {
   "cell_type": "code",
   "execution_count": 4,
   "metadata": {
    "colab": {
     "base_uri": "https://localhost:8080/"
    },
    "executionInfo": {
     "elapsed": 13,
     "status": "ok",
     "timestamp": 1641394659030,
     "user": {
      "displayName": "vahini",
      "photoUrl": "https://lh3.googleusercontent.com/a-/AOh14GhHTsSlWlULa1FavIyz3YWkccn_KU1l5Gvimbzj=s64",
      "userId": "09646027977877841530"
     },
     "user_tz": -330
    },
    "id": "IaxJmq9sCo9f",
    "outputId": "0b969cba-e9e1-488f-8cbd-f41bd357f4f8"
   },
   "outputs": [
    {
     "name": "stdout",
     "output_type": "stream",
     "text": [
      "/home/souvic/mounted/btp/vahini/Name2Demographics\n"
     ]
    }
   ],
   "source": [
    "%cd ../../../\n",
    "# %cd $PATH_TO_FOLDER"
   ]
  },
  {
   "cell_type": "code",
   "execution_count": 6,
   "metadata": {
    "id": "CwQm23aR3FdW"
   },
   "outputs": [],
   "source": [
    "import sys  \n",
    "sys.path.insert(0, 'Models/PreProcessing/')\n",
    "\n",
    "from utils import *\n",
    "\n",
    "sys.path.insert(0, 'Models/AIEEEData/Preprocessing/')\n",
    "from aieee_caste import *"
   ]
  },
  {
   "cell_type": "markdown",
   "metadata": {
    "id": "LC68xJ1y3FdX"
   },
   "source": [
    "### Train Model on Data"
   ]
  },
  {
   "cell_type": "code",
   "execution_count": 7,
   "metadata": {
    "colab": {
     "base_uri": "https://localhost:8080/"
    },
    "executionInfo": {
     "elapsed": 20016,
     "status": "ok",
     "timestamp": 1641394679036,
     "user": {
      "displayName": "vahini",
      "photoUrl": "https://lh3.googleusercontent.com/a-/AOh14GhHTsSlWlULa1FavIyz3YWkccn_KU1l5Gvimbzj=s64",
      "userId": "09646027977877841530"
     },
     "user_tz": -330
    },
    "id": "VU1MwLJR3FdX",
    "outputId": "bcbbee19-79ef-4dd8-c230-0725be6100f4"
   },
   "outputs": [
    {
     "name": "stderr",
     "output_type": "stream",
     "text": [
      "/home/souvic/mounted/btp/vahini/Name2Demographics/Models/AIEEEData/Preprocessing/aieee_caste.py:15: SettingWithCopyWarning: \n",
      "A value is trying to be set on a copy of a slice from a DataFrame.\n",
      "Try using .loc[row_indexer,col_indexer] = value instead\n",
      "\n",
      "See the caveats in the documentation: https://pandas.pydata.org/pandas-docs/stable/user_guide/indexing.html#returning-a-view-versus-a-copy\n",
      "  df1[col] = [elem.replace(\"Sub-PH\", \"\") for elem in df1[col]]\n"
     ]
    }
   ],
   "source": [
    "caste_df = AIEEECasteData()"
   ]
  },
  {
   "cell_type": "code",
   "execution_count": 8,
   "metadata": {
    "colab": {
     "base_uri": "https://localhost:8080/"
    },
    "executionInfo": {
     "elapsed": 108488,
     "status": "ok",
     "timestamp": 1641394787502,
     "user": {
      "displayName": "vahini",
      "photoUrl": "https://lh3.googleusercontent.com/a-/AOh14GhHTsSlWlULa1FavIyz3YWkccn_KU1l5Gvimbzj=s64",
      "userId": "09646027977877841530"
     },
     "user_tz": -330
    },
    "id": "1LtkVrgL3Fdf",
    "outputId": "ae03dfd7-16d8-4338-c61c-e53ba85a3d74"
   },
   "outputs": [
    {
     "name": "stdout",
     "output_type": "stream",
     "text": [
      "(train:(178433, 4), val:(0, 0), test:(74986, 4))\n"
     ]
    }
   ],
   "source": [
    "train, val, test = splitTrainTestVal(caste_df, 0.7 ,0, 'Name')"
   ]
  },
  {
   "cell_type": "code",
   "execution_count": 9,
   "metadata": {
    "colab": {
     "base_uri": "https://localhost:8080/"
    },
    "executionInfo": {
     "elapsed": 25,
     "status": "ok",
     "timestamp": 1641394787503,
     "user": {
      "displayName": "vahini",
      "photoUrl": "https://lh3.googleusercontent.com/a-/AOh14GhHTsSlWlULa1FavIyz3YWkccn_KU1l5Gvimbzj=s64",
      "userId": "09646027977877841530"
     },
     "user_tz": -330
    },
    "id": "39kd7xZJ3Fdi",
    "outputId": "a40ef2a2-ac37-4a2f-bb01-2673781c76be"
   },
   "outputs": [
    {
     "name": "stdout",
     "output_type": "stream",
     "text": [
      "0.7041026915898176\n"
     ]
    }
   ],
   "source": [
    "total_points = caste_df.shape[0]\n",
    "train_points = train.shape[0]\n",
    "test_points = test.shape[0]\n",
    "print(train_points/total_points)"
   ]
  },
  {
   "cell_type": "code",
   "execution_count": 10,
   "metadata": {},
   "outputs": [],
   "source": [
    "from sklearn.svm import SVC"
   ]
  },
  {
   "cell_type": "code",
   "execution_count": 11,
   "metadata": {
    "id": "2n9TyPSMhbjk"
   },
   "outputs": [],
   "source": [
    "svm_pipe = Pipeline([\n",
    "    ('vect', CountVectorizer(ngram_range=(1, 6), lowercase = True, stop_words = \"english\")),\n",
    "    ('tfidf', TfidfTransformer(sublinear_tf = True)),\n",
    "    ('clf', SVC(max_iter=10000, random_state=42))\n",
    "])"
   ]
  },
  {
   "cell_type": "code",
   "execution_count": 12,
   "metadata": {
    "colab": {
     "base_uri": "https://localhost:8080/"
    },
    "executionInfo": {
     "elapsed": 4969,
     "status": "ok",
     "timestamp": 1641394829047,
     "user": {
      "displayName": "vahini",
      "photoUrl": "https://lh3.googleusercontent.com/a-/AOh14GhHTsSlWlULa1FavIyz3YWkccn_KU1l5Gvimbzj=s64",
      "userId": "09646027977877841530"
     },
     "user_tz": -330
    },
    "id": "nOQTKv6ghgCO",
    "outputId": "3904956d-06a4-4865-b285-33b39a127506"
   },
   "outputs": [
    {
     "name": "stderr",
     "output_type": "stream",
     "text": [
      "/home/souvic/.conda/envs/py38/lib/python3.8/site-packages/sklearn/svm/_base.py:255: ConvergenceWarning: Solver terminated early (max_iter=10000).  Consider pre-processing your data with StandardScaler or MinMaxScaler.\n",
      "  warnings.warn('Solver terminated early (max_iter=%i).'\n"
     ]
    },
    {
     "data": {
      "text/plain": [
       "Pipeline(steps=[('vect',\n",
       "                 CountVectorizer(ngram_range=(1, 6), stop_words='english')),\n",
       "                ('tfidf', TfidfTransformer(sublinear_tf=True)),\n",
       "                ('clf', SVC(max_iter=10000, random_state=42))])"
      ]
     },
     "execution_count": 12,
     "metadata": {},
     "output_type": "execute_result"
    }
   ],
   "source": [
    "svm_pipe.fit(train['Name'].values.astype('str'), train['Caste'])"
   ]
  },
  {
   "cell_type": "code",
   "execution_count": 14,
   "metadata": {
    "colab": {
     "base_uri": "https://localhost:8080/"
    },
    "executionInfo": {
     "elapsed": 747,
     "status": "ok",
     "timestamp": 1641394831476,
     "user": {
      "displayName": "vahini",
      "photoUrl": "https://lh3.googleusercontent.com/a-/AOh14GhHTsSlWlULa1FavIyz3YWkccn_KU1l5Gvimbzj=s64",
      "userId": "09646027977877841530"
     },
     "user_tz": -330
    },
    "id": "PVD1IbqhhgHS",
    "outputId": "2bbd79d2-6f1a-4b33-eb1d-c9bdc3ea5693"
   },
   "outputs": [
    {
     "name": "stdout",
     "output_type": "stream",
     "text": [
      "              precision    recall  f1-score   support\n",
      "\n",
      "     General     0.6182    0.8895    0.7294     43478\n",
      "    Reserved     0.6132    0.2418    0.3469     31508\n",
      "\n",
      "    accuracy                         0.6173     74986\n",
      "   macro avg     0.6157    0.5656    0.5381     74986\n",
      "weighted avg     0.6161    0.6173    0.5687     74986\n",
      "\n"
     ]
    }
   ],
   "source": [
    "y_pred=svm_pipe.predict(test['Name'].values.astype('str'))\n",
    "print(classification_report(test['Caste'], y_pred, target_names = ['General', 'Reserved'], digits=4))"
   ]
  },
  {
   "cell_type": "markdown",
   "metadata": {
    "id": "WFDiKo1B3Fdm"
   },
   "source": [
    "### Save Model"
   ]
  },
  {
   "cell_type": "code",
   "execution_count": 15,
   "metadata": {
    "colab": {
     "base_uri": "https://localhost:8080/",
     "height": 35
    },
    "executionInfo": {
     "elapsed": 542,
     "status": "ok",
     "timestamp": 1641394845566,
     "user": {
      "displayName": "vahini",
      "photoUrl": "https://lh3.googleusercontent.com/a-/AOh14GhHTsSlWlULa1FavIyz3YWkccn_KU1l5Gvimbzj=s64",
      "userId": "09646027977877841530"
     },
     "user_tz": -330
    },
    "id": "lnRTCQXupqD5",
    "outputId": "532e6eb6-c0fd-4fc1-cbae-aa9edb078fd6"
   },
   "outputs": [
    {
     "data": {
      "text/plain": [
       "'/home/souvic/mounted/btp/vahini/Name2Demographics'"
      ]
     },
     "execution_count": 15,
     "metadata": {},
     "output_type": "execute_result"
    }
   ],
   "source": [
    "%pwd"
   ]
  },
  {
   "cell_type": "code",
   "execution_count": 16,
   "metadata": {
    "id": "wF37tnfk3Fdm"
   },
   "outputs": [],
   "source": [
    "filename = \"Models/AIEEEData/SVM/SavedModel/AIEEEModel.pkl\"\n",
    "pickle.dump(svm_pipe, open(filename, 'wb'))"
   ]
  },
  {
   "cell_type": "markdown",
   "metadata": {
    "id": "O5H7MQd53Fdn"
   },
   "source": [
    "### Load Model"
   ]
  },
  {
   "cell_type": "code",
   "execution_count": null,
   "metadata": {
    "id": "3jiSRe123Fdn"
   },
   "outputs": [],
   "source": [
    "# filename = \"SavedModels/FinalSet/SGDClassifier/CBSEModel.pkl\"\n",
    "# pipe = pickle.load(open(filename, 'rb'))"
   ]
  },
  {
   "cell_type": "code",
   "execution_count": null,
   "metadata": {
    "id": "OAfojWFy3Fdo"
   },
   "outputs": [],
   "source": [
    "# df, first_name = split_name_df(cbse_df, 'Name')"
   ]
  },
  {
   "cell_type": "code",
   "execution_count": null,
   "metadata": {
    "id": "tH8zbcS33Fdp"
   },
   "outputs": [],
   "source": [
    "# y_pred=pipe.predict(df['first_name'].values.astype('str'))\n",
    "# print(classification_report(test['Gender'], y_pred, target_names = ['Male', 'Female']))"
   ]
  },
  {
   "cell_type": "code",
   "execution_count": null,
   "metadata": {
    "id": "--anXmMk3Fdp"
   },
   "outputs": [],
   "source": [
    "# fn = pd.DataFrame()"
   ]
  },
  {
   "cell_type": "code",
   "execution_count": null,
   "metadata": {
    "id": "ugvJ4DCU3Fdq"
   },
   "outputs": [],
   "source": [
    "# fn['first_name'] = df['first_name']"
   ]
  },
  {
   "cell_type": "code",
   "execution_count": null,
   "metadata": {
    "id": "eWbGTJeE3Fdq"
   },
   "outputs": [],
   "source": [
    "# df['predict'] = y_pred"
   ]
  },
  {
   "cell_type": "code",
   "execution_count": null,
   "metadata": {
    "id": "tDFzTl5l3Fd0"
   },
   "outputs": [],
   "source": [
    "# fn['gender'] = y_pred\n",
    "# fn['true_gender'] = df['Gender']"
   ]
  },
  {
   "cell_type": "code",
   "execution_count": null,
   "metadata": {
    "id": "te1rTpkM3Fd0"
   },
   "outputs": [],
   "source": [
    "# print(fn.groupby(['first_name','gender']).size())"
   ]
  },
  {
   "cell_type": "code",
   "execution_count": null,
   "metadata": {
    "id": "ycXgaYSz3Fd1",
    "outputId": "b73259a6-7021-49a2-e760-f432d9c4c7b1"
   },
   "outputs": [
    {
     "data": {
      "text/html": [
       "<div>\n",
       "<style scoped>\n",
       "    .dataframe tbody tr th:only-of-type {\n",
       "        vertical-align: middle;\n",
       "    }\n",
       "\n",
       "    .dataframe tbody tr th {\n",
       "        vertical-align: top;\n",
       "    }\n",
       "\n",
       "    .dataframe thead th {\n",
       "        text-align: right;\n",
       "    }\n",
       "</style>\n",
       "<table border=\"1\" class=\"dataframe\">\n",
       "  <thead>\n",
       "    <tr style=\"text-align: right;\">\n",
       "      <th></th>\n",
       "      <th>first_name</th>\n",
       "      <th>gender</th>\n",
       "      <th>true_gender</th>\n",
       "    </tr>\n",
       "  </thead>\n",
       "  <tbody>\n",
       "    <tr>\n",
       "      <th>0</th>\n",
       "      <td>sarda</td>\n",
       "      <td>Girl</td>\n",
       "      <td>Girl</td>\n",
       "    </tr>\n",
       "    <tr>\n",
       "      <th>1</th>\n",
       "      <td>rakhi</td>\n",
       "      <td>Girl</td>\n",
       "      <td>Girl</td>\n",
       "    </tr>\n",
       "    <tr>\n",
       "      <th>2</th>\n",
       "      <td>surekha</td>\n",
       "      <td>Girl</td>\n",
       "      <td>Girl</td>\n",
       "    </tr>\n",
       "    <tr>\n",
       "      <th>3</th>\n",
       "      <td>shivani</td>\n",
       "      <td>Girl</td>\n",
       "      <td>Girl</td>\n",
       "    </tr>\n",
       "    <tr>\n",
       "      <th>4</th>\n",
       "      <td>ramdulari</td>\n",
       "      <td>Girl</td>\n",
       "      <td>Girl</td>\n",
       "    </tr>\n",
       "    <tr>\n",
       "      <th>...</th>\n",
       "      <td>...</td>\n",
       "      <td>...</td>\n",
       "      <td>...</td>\n",
       "    </tr>\n",
       "    <tr>\n",
       "      <th>25729</th>\n",
       "      <td>mannulal</td>\n",
       "      <td>Girl</td>\n",
       "      <td>Boy</td>\n",
       "    </tr>\n",
       "    <tr>\n",
       "      <th>25730</th>\n",
       "      <td>anada</td>\n",
       "      <td>Girl</td>\n",
       "      <td>Boy</td>\n",
       "    </tr>\n",
       "    <tr>\n",
       "      <th>25731</th>\n",
       "      <td>priyadarshan</td>\n",
       "      <td>Girl</td>\n",
       "      <td>Boy</td>\n",
       "    </tr>\n",
       "    <tr>\n",
       "      <th>25732</th>\n",
       "      <td>bindhyeshwari</td>\n",
       "      <td>Girl</td>\n",
       "      <td>Boy</td>\n",
       "    </tr>\n",
       "    <tr>\n",
       "      <th>25733</th>\n",
       "      <td>houn</td>\n",
       "      <td>Girl</td>\n",
       "      <td>Boy</td>\n",
       "    </tr>\n",
       "  </tbody>\n",
       "</table>\n",
       "<p>25734 rows × 3 columns</p>\n",
       "</div>"
      ],
      "text/plain": [
       "          first_name gender true_gender\n",
       "0              sarda   Girl        Girl\n",
       "1              rakhi   Girl        Girl\n",
       "2            surekha   Girl        Girl\n",
       "3            shivani   Girl        Girl\n",
       "4          ramdulari   Girl        Girl\n",
       "...              ...    ...         ...\n",
       "25729       mannulal   Girl         Boy\n",
       "25730          anada   Girl         Boy\n",
       "25731   priyadarshan   Girl         Boy\n",
       "25732  bindhyeshwari   Girl         Boy\n",
       "25733           houn   Girl         Boy\n",
       "\n",
       "[25734 rows x 3 columns]"
      ]
     },
     "execution_count": 52,
     "metadata": {},
     "output_type": "execute_result"
    }
   ],
   "source": [
    "# f1 = fn.drop_duplicates()\n",
    "# f1 = f1.reset_index(drop=True)\n",
    "# f1"
   ]
  }
 ],
 "metadata": {
  "colab": {
   "collapsed_sections": [
    "O5H7MQd53Fdn"
   ],
   "name": "Demographics_Classifier.ipynb",
   "provenance": []
  },
  "kernelspec": {
   "display_name": "Python [conda env:.conda-py38] *",
   "language": "python",
   "name": "conda-env-.conda-py38-py"
  },
  "language_info": {
   "codemirror_mode": {
    "name": "ipython",
    "version": 3
   },
   "file_extension": ".py",
   "mimetype": "text/x-python",
   "name": "python",
   "nbconvert_exporter": "python",
   "pygments_lexer": "ipython3",
   "version": "3.8.11"
  }
 },
 "nbformat": 4,
 "nbformat_minor": 1
}
