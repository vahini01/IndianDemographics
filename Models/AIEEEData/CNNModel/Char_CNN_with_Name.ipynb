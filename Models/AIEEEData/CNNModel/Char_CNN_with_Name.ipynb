{
 "cells": [
  {
   "cell_type": "code",
   "execution_count": 1,
   "metadata": {
    "colab": {
     "base_uri": "https://localhost:8080/"
    },
    "executionInfo": {
     "elapsed": 3592,
     "status": "ok",
     "timestamp": 1641660129486,
     "user": {
      "displayName": "vahini",
      "photoUrl": "https://lh3.googleusercontent.com/a-/AOh14GhHTsSlWlULa1FavIyz3YWkccn_KU1l5Gvimbzj=s64",
      "userId": "09646027977877841530"
     },
     "user_tz": -330
    },
    "id": "nbOEL8sSoRXq",
    "outputId": "59f394d4-f59e-4e3e-adbe-4280a6315641"
   },
   "outputs": [
    {
     "name": "stdout",
     "output_type": "stream",
     "text": [
      "Drive already mounted at /content/drive; to attempt to forcibly remount, call drive.mount(\"/content/drive\", force_remount=True).\n"
     ]
    }
   ],
   "source": [
    "from google.colab import drive\n",
    "drive.mount('/content/drive')"
   ]
  },
  {
   "cell_type": "code",
   "execution_count": 2,
   "metadata": {
    "executionInfo": {
     "elapsed": 11,
     "status": "ok",
     "timestamp": 1641660129487,
     "user": {
      "displayName": "vahini",
      "photoUrl": "https://lh3.googleusercontent.com/a-/AOh14GhHTsSlWlULa1FavIyz3YWkccn_KU1l5Gvimbzj=s64",
      "userId": "09646027977877841530"
     },
     "user_tz": -330
    },
    "id": "Z1RuwYC5ozBM"
   },
   "outputs": [],
   "source": [
    "PATH_TO_FOLDER = \"drive/MyDrive/Name2Demographics/\""
   ]
  },
  {
   "cell_type": "code",
   "execution_count": 3,
   "metadata": {
    "colab": {
     "base_uri": "https://localhost:8080/"
    },
    "executionInfo": {
     "elapsed": 11,
     "status": "ok",
     "timestamp": 1641660129488,
     "user": {
      "displayName": "vahini",
      "photoUrl": "https://lh3.googleusercontent.com/a-/AOh14GhHTsSlWlULa1FavIyz3YWkccn_KU1l5Gvimbzj=s64",
      "userId": "09646027977877841530"
     },
     "user_tz": -330
    },
    "id": "oCmYMfD3o1LY",
    "outputId": "b3545130-26c8-4d21-ca91-b362fb4f3791"
   },
   "outputs": [
    {
     "name": "stdout",
     "output_type": "stream",
     "text": [
      "/content/drive/MyDrive/Name2Demographics\n"
     ]
    }
   ],
   "source": [
    "%cd $PATH_TO_FOLDER"
   ]
  },
  {
   "cell_type": "code",
   "execution_count": 4,
   "metadata": {
    "executionInfo": {
     "elapsed": 448,
     "status": "ok",
     "timestamp": 1641660133062,
     "user": {
      "displayName": "vahini",
      "photoUrl": "https://lh3.googleusercontent.com/a-/AOh14GhHTsSlWlULa1FavIyz3YWkccn_KU1l5Gvimbzj=s64",
      "userId": "09646027977877841530"
     },
     "user_tz": -330
    },
    "id": "WvUAZ7Uzpsd_"
   },
   "outputs": [],
   "source": [
    "import pandas as pd\n",
    "import numpy as np"
   ]
  },
  {
   "cell_type": "code",
   "execution_count": 5,
   "metadata": {
    "executionInfo": {
     "elapsed": 882,
     "status": "ok",
     "timestamp": 1641660134693,
     "user": {
      "displayName": "vahini",
      "photoUrl": "https://lh3.googleusercontent.com/a-/AOh14GhHTsSlWlULa1FavIyz3YWkccn_KU1l5Gvimbzj=s64",
      "userId": "09646027977877841530"
     },
     "user_tz": -330
    },
    "id": "H5yndlUEo7ys"
   },
   "outputs": [],
   "source": [
    "import sys  \n",
    "\n",
    "sys.path.insert(0, 'Models/AIEEEData/PreProcessing/')\n",
    "from aieee_caste import *"
   ]
  },
  {
   "cell_type": "code",
   "execution_count": 6,
   "metadata": {
    "colab": {
     "base_uri": "https://localhost:8080/"
    },
    "executionInfo": {
     "elapsed": 14029,
     "status": "ok",
     "timestamp": 1641660150830,
     "user": {
      "displayName": "vahini",
      "photoUrl": "https://lh3.googleusercontent.com/a-/AOh14GhHTsSlWlULa1FavIyz3YWkccn_KU1l5Gvimbzj=s64",
      "userId": "09646027977877841530"
     },
     "user_tz": -330
    },
    "id": "zeOls4UrprGP",
    "outputId": "e3bd432d-1e1f-4e5f-e3be-5b563a3695df"
   },
   "outputs": [
    {
     "name": "stderr",
     "output_type": "stream",
     "text": [
      "Models/AIEEEData/PreProcessing/aieee_caste.py:15: SettingWithCopyWarning: \n",
      "A value is trying to be set on a copy of a slice from a DataFrame.\n",
      "Try using .loc[row_indexer,col_indexer] = value instead\n",
      "\n",
      "See the caveats in the documentation: https://pandas.pydata.org/pandas-docs/stable/user_guide/indexing.html#returning-a-view-versus-a-copy\n",
      "  df1[col] = [elem.replace(\"Sub-PH\", \"\") for elem in df1[col]]\n"
     ]
    }
   ],
   "source": [
    "caste_df = AIEEECasteData()"
   ]
  },
  {
   "cell_type": "code",
   "execution_count": 7,
   "metadata": {
    "colab": {
     "base_uri": "https://localhost:8080/"
    },
    "executionInfo": {
     "elapsed": 14821,
     "status": "ok",
     "timestamp": 1641660167877,
     "user": {
      "displayName": "vahini",
      "photoUrl": "https://lh3.googleusercontent.com/a-/AOh14GhHTsSlWlULa1FavIyz3YWkccn_KU1l5Gvimbzj=s64",
      "userId": "09646027977877841530"
     },
     "user_tz": -330
    },
    "id": "zKC3_T93pwrW",
    "outputId": "9b6bf7b6-77d3-41f7-befd-77c8d0192b87"
   },
   "outputs": [
    {
     "name": "stdout",
     "output_type": "stream",
     "text": [
      "Train: ((175138, 30),(175138, 2))  Test: ((75065, 30),(75065, 2))\n"
     ]
    }
   ],
   "source": [
    "train_cx, train_cy, test_cx, test_cy = splitCaste(caste_df)"
   ]
  },
  {
   "cell_type": "markdown",
   "metadata": {
    "id": "F_Arnj6ItOPz"
   },
   "source": [
    "##Model"
   ]
  },
  {
   "cell_type": "code",
   "execution_count": 10,
   "metadata": {
    "executionInfo": {
     "elapsed": 3213,
     "status": "ok",
     "timestamp": 1641660404000,
     "user": {
      "displayName": "vahini",
      "photoUrl": "https://lh3.googleusercontent.com/a-/AOh14GhHTsSlWlULa1FavIyz3YWkccn_KU1l5Gvimbzj=s64",
      "userId": "09646027977877841530"
     },
     "user_tz": -330
    },
    "id": "or61k1OksOGS"
   },
   "outputs": [],
   "source": [
    "import tensorflow as tf\n",
    "from tensorflow.keras.preprocessing import sequence\n",
    "from tensorflow.keras.models import Sequential, Model, load_model\n",
    "from tensorflow.keras.layers import Dense, Embedding\n",
    "from tensorflow.keras.layers import LSTM, Conv1D\n",
    "from tensorflow.keras.layers import Input, Dense, Flatten\n",
    "from tensorflow.keras.callbacks import TensorBoard\n",
    "from tensorflow.keras.optimizers import Adam\n",
    "\n",
    "from sklearn.utils import class_weight\n",
    "from sklearn.metrics import classification_report"
   ]
  },
  {
   "cell_type": "code",
   "execution_count": 11,
   "metadata": {
    "executionInfo": {
     "elapsed": 7,
     "status": "ok",
     "timestamp": 1641660404001,
     "user": {
      "displayName": "vahini",
      "photoUrl": "https://lh3.googleusercontent.com/a-/AOh14GhHTsSlWlULa1FavIyz3YWkccn_KU1l5Gvimbzj=s64",
      "userId": "09646027977877841530"
     },
     "user_tz": -330
    },
    "id": "F3TV8dyyWf4B"
   },
   "outputs": [],
   "source": [
    "voc = vocab()"
   ]
  },
  {
   "cell_type": "code",
   "execution_count": 12,
   "metadata": {
    "colab": {
     "base_uri": "https://localhost:8080/"
    },
    "executionInfo": {
     "elapsed": 8,
     "status": "ok",
     "timestamp": 1641660404002,
     "user": {
      "displayName": "vahini",
      "photoUrl": "https://lh3.googleusercontent.com/a-/AOh14GhHTsSlWlULa1FavIyz3YWkccn_KU1l5Gvimbzj=s64",
      "userId": "09646027977877841530"
     },
     "user_tz": -330
    },
    "id": "sYbua1OqWes0",
    "outputId": "6f2ec782-5269-4f09-a304-b37609acc7e1"
   },
   "outputs": [
    {
     "name": "stdout",
     "output_type": "stream",
     "text": [
      "Model: \"model\"\n",
      "_________________________________________________________________\n",
      " Layer (type)                Output Shape              Param #   \n",
      "=================================================================\n",
      " input (InputLayer)          [(None, 30)]              0         \n",
      "                                                                 \n",
      " embed (Embedding)           (None, 30, 28)            784       \n",
      "                                                                 \n",
      " conv1d (Conv1D)             (None, 24, 128)           25216     \n",
      "                                                                 \n",
      " flatten (Flatten)           (None, 3072)              0         \n",
      "                                                                 \n",
      " caste (Dense)               (None, 2)                 6146      \n",
      "                                                                 \n",
      "=================================================================\n",
      "Total params: 32,146\n",
      "Trainable params: 32,146\n",
      "Non-trainable params: 0\n",
      "_________________________________________________________________\n",
      "None\n"
     ]
    }
   ],
   "source": [
    "input_ = Input(shape=(30,), name='input')\n",
    "embed = Embedding(len(voc), len(voc), name='embed')(input_)\n",
    "conv_1 = Conv1D(filters = 128, kernel_size = 7, activation = 'relu')(embed)\n",
    "flat_2 = Flatten()(conv_1)\n",
    "caste = Dense(2, activation='softmax', name='caste')(flat_2)\n",
    "model = Model(inputs= input_, outputs=caste)\n",
    "\n",
    "model.compile(\n",
    "  loss='binary_crossentropy',\n",
    "  optimizer=Adam(learning_rate=1e-3),\n",
    "  metrics={\n",
    "      'caste':'binary_accuracy',\n",
    "  },\n",
    "  loss_weights=class_weight.compute_sample_weight('balanced',train_cy)\n",
    ")\n",
    "print(model.summary())"
   ]
  },
  {
   "cell_type": "code",
   "execution_count": null,
   "metadata": {
    "colab": {
     "base_uri": "https://localhost:8080/"
    },
    "id": "bcuL-OR1Wfdr",
    "outputId": "2b59ee81-4582-4114-b0ba-13f7a25e0431"
   },
   "outputs": [
    {
     "name": "stdout",
     "output_type": "stream",
     "text": [
      "Epoch 1/30\n",
      "255/351 [====================>.........] - ETA: 4s - loss: 0.5267 - binary_accuracy: 0.7349"
     ]
    }
   ],
   "source": [
    "model.fit(\n",
    "    {'input':train_cx},\n",
    "    { 'caste':train_cy},\n",
    "    validation_data= ({'input':test_cx},\n",
    "    {'caste':test_cy}),\n",
    "    batch_size=500,\n",
    "    epochs=30,\n",
    ")"
   ]
  },
  {
   "cell_type": "code",
   "execution_count": 18,
   "metadata": {
    "colab": {
     "base_uri": "https://localhost:8080/"
    },
    "executionInfo": {
     "elapsed": 10562,
     "status": "ok",
     "timestamp": 1641616838009,
     "user": {
      "displayName": "vahini",
      "photoUrl": "https://lh3.googleusercontent.com/a-/AOh14GhHTsSlWlULa1FavIyz3YWkccn_KU1l5Gvimbzj=s64",
      "userId": "09646027977877841530"
     },
     "user_tz": -330
    },
    "id": "UaM9x0n9WlTC",
    "outputId": "1e5ab52d-1fd3-487c-b8a9-ec97dd4cc41f"
   },
   "outputs": [
    {
     "name": "stdout",
     "output_type": "stream",
     "text": [
      "------------------RESULTS-------------------------------\n",
      "              precision    recall  f1-score   support\n",
      "\n",
      "         GEN     0.7254    0.7785    0.7510     59343\n",
      "    RESERVED     0.6938    0.6301    0.6604     47274\n",
      "\n",
      "    accuracy                         0.7127    106617\n",
      "   macro avg     0.7096    0.7043    0.7057    106617\n",
      "weighted avg     0.7114    0.7127    0.7108    106617\n",
      "\n",
      "--------------------------------------------------------\n"
     ]
    }
   ],
   "source": [
    "results = model.predict(test_cx)\n",
    "y_pred = np.argmax(results, axis=1)\n",
    "y_true = np.argmax(test_cy, axis=1)\n",
    "\n",
    "target_names = ['GEN','RESERVED']\n",
    "\n",
    "print(\"------------------RESULTS-------------------------------\")\n",
    "print(classification_report(y_true, y_pred, target_names=target_names, digits=4))\n",
    "print(\"--------------------------------------------------------\")"
   ]
  },
  {
   "cell_type": "code",
   "execution_count": 19,
   "metadata": {
    "colab": {
     "base_uri": "https://localhost:8080/"
    },
    "executionInfo": {
     "elapsed": 1874,
     "status": "ok",
     "timestamp": 1641616917307,
     "user": {
      "displayName": "vahini",
      "photoUrl": "https://lh3.googleusercontent.com/a-/AOh14GhHTsSlWlULa1FavIyz3YWkccn_KU1l5Gvimbzj=s64",
      "userId": "09646027977877841530"
     },
     "user_tz": -330
    },
    "id": "vMKB7ZFeWoI1",
    "outputId": "271ab68a-70ef-4112-9b4e-89a1f40e7675"
   },
   "outputs": [
    {
     "name": "stdout",
     "output_type": "stream",
     "text": [
      "INFO:tensorflow:Assets written to: Models/AIEEEData/CNNModel/SavedModel/CasteModel/assets\n"
     ]
    }
   ],
   "source": [
    "filename = \"Models/AIEEEData/CNNModel/SavedModel/CasteModel\"\n",
    "model.save(filename)"
   ]
  },
  {
   "cell_type": "code",
   "execution_count": 20,
   "metadata": {
    "colab": {
     "base_uri": "https://localhost:8080/",
     "height": 533
    },
    "executionInfo": {
     "elapsed": 1016,
     "status": "ok",
     "timestamp": 1641616918317,
     "user": {
      "displayName": "vahini",
      "photoUrl": "https://lh3.googleusercontent.com/a-/AOh14GhHTsSlWlULa1FavIyz3YWkccn_KU1l5Gvimbzj=s64",
      "userId": "09646027977877841530"
     },
     "user_tz": -330
    },
    "id": "SDv2-kRb-CUa",
    "outputId": "d43d4be6-7006-4716-91b4-0e8cde703e34"
   },
   "outputs": [
    {
     "data": {
      "image/png": "[encoded data removed]",
      "text/plain": [
       "<IPython.core.display.Image object>"
      ]
     },
     "execution_count": 20,
     "metadata": {},
     "output_type": "execute_result"
    }
   ],
   "source": [
    "tf.keras.utils.plot_model(model, show_shapes=True)"
   ]
  },
  {
   "cell_type": "code",
   "execution_count": 21,
   "metadata": {
    "colab": {
     "base_uri": "https://localhost:8080/",
     "height": 466
    },
    "executionInfo": {
     "elapsed": 13,
     "status": "ok",
     "timestamp": 1641616918318,
     "user": {
      "displayName": "vahini",
      "photoUrl": "https://lh3.googleusercontent.com/a-/AOh14GhHTsSlWlULa1FavIyz3YWkccn_KU1l5Gvimbzj=s64",
      "userId": "09646027977877841530"
     },
     "user_tz": -330
    },
    "id": "YKxZ8Vki-E-T",
    "outputId": "4976dec9-b869-4717-98d9-ad864f4cd08b"
   },
   "outputs": [
    {
     "data": {
      "image/png": "[encoded data removed]",
      "text/plain": [
       "<IPython.core.display.Image object>"
      ]
     },
     "execution_count": 21,
     "metadata": {},
     "output_type": "execute_result"
    }
   ],
   "source": [
    "tf.keras.utils.plot_model(model)"
   ]
  },
  {
   "cell_type": "code",
   "execution_count": null,
   "metadata": {
    "id": "SJQvOa0t_j_q"
   },
   "outputs": [],
   "source": []
  }
 ],
 "metadata": {
  "accelerator": "GPU",
  "colab": {
   "authorship_tag": "ABX9TyObmTIu93clmsEUcTPPA7/e",
   "collapsed_sections": [],
   "mount_file_id": "1ddH_Oxwhc0VwgLTo0IYEhwtgNUynszZ5",
   "name": "Char_CNN_with_Name.ipynb",
   "provenance": []
  },
  "kernelspec": {
   "display_name": "Python 3",
   "language": "python",
   "name": "python3"
  },
  "language_info": {
   "codemirror_mode": {
    "name": "ipython",
    "version": 3
   },
   "file_extension": ".py",
   "mimetype": "text/x-python",
   "name": "python",
   "nbconvert_exporter": "python",
   "pygments_lexer": "ipython3",
   "version": "3.8.11"
  }
 },
 "nbformat": 4,
 "nbformat_minor": 1
}
