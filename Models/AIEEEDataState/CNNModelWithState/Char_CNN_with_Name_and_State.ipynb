{
 "cells": [
  {
   "cell_type": "code",
   "execution_count": 1,
   "metadata": {
    "colab": {
     "base_uri": "https://localhost:8080/"
    },
    "executionInfo": {
     "elapsed": 10354,
     "status": "ok",
     "timestamp": 1641650275629,
     "user": {
      "displayName": "vahini",
      "photoUrl": "https://lh3.googleusercontent.com/a-/AOh14GhHTsSlWlULa1FavIyz3YWkccn_KU1l5Gvimbzj=s64",
      "userId": "09646027977877841530"
     },
     "user_tz": -330
    },
    "id": "nbOEL8sSoRXq",
    "outputId": "ee72039f-dcb5-4c90-9ee0-6324164b0b27"
   },
   "outputs": [
    {
     "name": "stdout",
     "output_type": "stream",
     "text": [
      "Drive already mounted at /content/drive; to attempt to forcibly remount, call drive.mount(\"/content/drive\", force_remount=True).\n"
     ]
    }
   ],
   "source": [
    "from google.colab import drive\n",
    "drive.mount('/content/drive')"
   ]
  },
  {
   "cell_type": "code",
   "execution_count": 2,
   "metadata": {
    "executionInfo": {
     "elapsed": 11,
     "status": "ok",
     "timestamp": 1641650275630,
     "user": {
      "displayName": "vahini",
      "photoUrl": "https://lh3.googleusercontent.com/a-/AOh14GhHTsSlWlULa1FavIyz3YWkccn_KU1l5Gvimbzj=s64",
      "userId": "09646027977877841530"
     },
     "user_tz": -330
    },
    "id": "Z1RuwYC5ozBM"
   },
   "outputs": [],
   "source": [
    "PATH_TO_FOLDER = \"drive/MyDrive/Name2Demographics/\""
   ]
  },
  {
   "cell_type": "code",
   "execution_count": 3,
   "metadata": {
    "colab": {
     "base_uri": "https://localhost:8080/"
    },
    "executionInfo": {
     "elapsed": 10,
     "status": "ok",
     "timestamp": 1641650275631,
     "user": {
      "displayName": "vahini",
      "photoUrl": "https://lh3.googleusercontent.com/a-/AOh14GhHTsSlWlULa1FavIyz3YWkccn_KU1l5Gvimbzj=s64",
      "userId": "09646027977877841530"
     },
     "user_tz": -330
    },
    "id": "oCmYMfD3o1LY",
    "outputId": "01dbb256-8ac7-4148-e1c1-6dc8939375f8"
   },
   "outputs": [
    {
     "name": "stdout",
     "output_type": "stream",
     "text": [
      "/content/drive/MyDrive/Name2Demographics\n"
     ]
    }
   ],
   "source": [
    "%cd $PATH_TO_FOLDER"
   ]
  },
  {
   "cell_type": "code",
   "execution_count": 4,
   "metadata": {
    "executionInfo": {
     "elapsed": 8,
     "status": "ok",
     "timestamp": 1641650275631,
     "user": {
      "displayName": "vahini",
      "photoUrl": "https://lh3.googleusercontent.com/a-/AOh14GhHTsSlWlULa1FavIyz3YWkccn_KU1l5Gvimbzj=s64",
      "userId": "09646027977877841530"
     },
     "user_tz": -330
    },
    "id": "WvUAZ7Uzpsd_"
   },
   "outputs": [],
   "source": [
    "import pandas as pd\n",
    "import numpy as np"
   ]
  },
  {
   "cell_type": "code",
   "execution_count": 5,
   "metadata": {
    "executionInfo": {
     "elapsed": 398,
     "status": "ok",
     "timestamp": 1641650276022,
     "user": {
      "displayName": "vahini",
      "photoUrl": "https://lh3.googleusercontent.com/a-/AOh14GhHTsSlWlULa1FavIyz3YWkccn_KU1l5Gvimbzj=s64",
      "userId": "09646027977877841530"
     },
     "user_tz": -330
    },
    "id": "H5yndlUEo7ys"
   },
   "outputs": [],
   "source": [
    "import sys  \n",
    "\n",
    "sys.path.insert(0, 'Models/AIEEEData/PreProcessing/')\n",
    "from aieee_caste import *"
   ]
  },
  {
   "cell_type": "code",
   "execution_count": 6,
   "metadata": {
    "colab": {
     "base_uri": "https://localhost:8080/"
    },
    "executionInfo": {
     "elapsed": 3856,
     "status": "ok",
     "timestamp": 1641650280482,
     "user": {
      "displayName": "vahini",
      "photoUrl": "https://lh3.googleusercontent.com/a-/AOh14GhHTsSlWlULa1FavIyz3YWkccn_KU1l5Gvimbzj=s64",
      "userId": "09646027977877841530"
     },
     "user_tz": -330
    },
    "id": "zeOls4UrprGP",
    "outputId": "de106792-efa3-42bb-d787-a7fad84335e1"
   },
   "outputs": [
    {
     "name": "stderr",
     "output_type": "stream",
     "text": [
      "Models/AIEEEData/PreProcessing/aieee_caste.py:166: SettingWithCopyWarning: \n",
      "A value is trying to be set on a copy of a slice from a DataFrame.\n",
      "Try using .loc[row_indexer,col_indexer] = value instead\n",
      "\n",
      "See the caveats in the documentation: https://pandas.pydata.org/pandas-docs/stable/user_guide/indexing.html#returning-a-view-versus-a-copy\n",
      "  df['category'] = df['category'].replace('', np.NaN)\n"
     ]
    }
   ],
   "source": [
    "caste_df = AIEEECasteState()"
   ]
  },
  {
   "cell_type": "code",
   "execution_count": 7,
   "metadata": {
    "colab": {
     "base_uri": "https://localhost:8080/"
    },
    "executionInfo": {
     "elapsed": 24273,
     "status": "ok",
     "timestamp": 1641650310936,
     "user": {
      "displayName": "vahini",
      "photoUrl": "https://lh3.googleusercontent.com/a-/AOh14GhHTsSlWlULa1FavIyz3YWkccn_KU1l5Gvimbzj=s64",
      "userId": "09646027977877841530"
     },
     "user_tz": -330
    },
    "id": "rb9ZyF8VK2JM",
    "outputId": "9301c481-4ac4-431d-dfce-3b2f983383d5"
   },
   "outputs": [
    {
     "name": "stdout",
     "output_type": "stream",
     "text": [
      "Train: ((234811, 38),(234811,)) Test: ((100596, 38),(100596,))\n"
     ]
    }
   ],
   "source": [
    "train_cmsx, train_cmsy, train_cmsy1, test_cmsx, test_cmsy, test_cmsy1 = splitCasteMarksState(caste_df)"
   ]
  },
  {
   "cell_type": "markdown",
   "metadata": {
    "id": "F_Arnj6ItOPz"
   },
   "source": [
    "##Model"
   ]
  },
  {
   "cell_type": "code",
   "execution_count": 8,
   "metadata": {
    "executionInfo": {
     "elapsed": 2363,
     "status": "ok",
     "timestamp": 1641650313276,
     "user": {
      "displayName": "vahini",
      "photoUrl": "https://lh3.googleusercontent.com/a-/AOh14GhHTsSlWlULa1FavIyz3YWkccn_KU1l5Gvimbzj=s64",
      "userId": "09646027977877841530"
     },
     "user_tz": -330
    },
    "id": "or61k1OksOGS"
   },
   "outputs": [],
   "source": [
    "import tensorflow as tf\n",
    "from tensorflow.keras.preprocessing import sequence\n",
    "from tensorflow.keras.models import Sequential, Model, load_model\n",
    "from tensorflow.keras.layers import Dense, Embedding\n",
    "from tensorflow.keras.layers import LSTM, Conv1D\n",
    "from tensorflow.keras.layers import Input, Dense, Flatten\n",
    "from tensorflow.keras.callbacks import TensorBoard\n",
    "from tensorflow.keras.optimizers import Adam\n",
    "\n",
    "from sklearn.utils import class_weight\n",
    "from sklearn.metrics import classification_report"
   ]
  },
  {
   "cell_type": "code",
   "execution_count": 9,
   "metadata": {
    "executionInfo": {
     "elapsed": 7,
     "status": "ok",
     "timestamp": 1641650313277,
     "user": {
      "displayName": "vahini",
      "photoUrl": "https://lh3.googleusercontent.com/a-/AOh14GhHTsSlWlULa1FavIyz3YWkccn_KU1l5Gvimbzj=s64",
      "userId": "09646027977877841530"
     },
     "user_tz": -330
    },
    "id": "F3TV8dyyWf4B"
   },
   "outputs": [],
   "source": [
    "voc = vocab() + ['#'] + ['0','1','2','3','4','5','6','7','8','9']"
   ]
  },
  {
   "cell_type": "code",
   "execution_count": 10,
   "metadata": {
    "colab": {
     "base_uri": "https://localhost:8080/"
    },
    "executionInfo": {
     "elapsed": 2925,
     "status": "ok",
     "timestamp": 1641650316196,
     "user": {
      "displayName": "vahini",
      "photoUrl": "https://lh3.googleusercontent.com/a-/AOh14GhHTsSlWlULa1FavIyz3YWkccn_KU1l5Gvimbzj=s64",
      "userId": "09646027977877841530"
     },
     "user_tz": -330
    },
    "id": "sYbua1OqWes0",
    "outputId": "bba6adfe-0f94-4001-8686-4f6b0b9ce1e5"
   },
   "outputs": [
    {
     "name": "stdout",
     "output_type": "stream",
     "text": [
      "Model: \"model\"\n",
      "_________________________________________________________________\n",
      " Layer (type)                Output Shape              Param #   \n",
      "=================================================================\n",
      " input (InputLayer)          [(None, 38)]              0         \n",
      "                                                                 \n",
      " embed (Embedding)           (None, 38, 39)            1521      \n",
      "                                                                 \n",
      " conv1d (Conv1D)             (None, 32, 128)           35072     \n",
      "                                                                 \n",
      " flatten (Flatten)           (None, 4096)              0         \n",
      "                                                                 \n",
      " caste (Dense)               (None, 2)                 8194      \n",
      "                                                                 \n",
      "=================================================================\n",
      "Total params: 44,787\n",
      "Trainable params: 44,787\n",
      "Non-trainable params: 0\n",
      "_________________________________________________________________\n",
      "None\n"
     ]
    }
   ],
   "source": [
    "input_ = Input(shape=(38,), name='input')\n",
    "embed = Embedding(len(voc), len(voc), name='embed')(input_)\n",
    "conv_1 = Conv1D(filters = 128, kernel_size = 7, activation = 'relu')(embed)\n",
    "flat_2 = Flatten()(conv_1)\n",
    "caste = Dense(2, activation='softmax', name='caste')(flat_2)\n",
    "model = Model(inputs= input_, outputs=caste)\n",
    "\n",
    "model.compile(\n",
    "  loss='binary_crossentropy',\n",
    "  optimizer=Adam(learning_rate=1e-3),\n",
    "  metrics={\n",
    "      'caste':'binary_accuracy',\n",
    "  },\n",
    "  loss_weights=class_weight.compute_sample_weight('balanced',train_cmsy1)\n",
    ")\n",
    "print(model.summary())"
   ]
  },
  {
   "cell_type": "code",
   "execution_count": 11,
   "metadata": {
    "colab": {
     "base_uri": "https://localhost:8080/"
    },
    "executionInfo": {
     "elapsed": 188456,
     "status": "ok",
     "timestamp": 1641650504645,
     "user": {
      "displayName": "vahini",
      "photoUrl": "https://lh3.googleusercontent.com/a-/AOh14GhHTsSlWlULa1FavIyz3YWkccn_KU1l5Gvimbzj=s64",
      "userId": "09646027977877841530"
     },
     "user_tz": -330
    },
    "id": "bcuL-OR1Wfdr",
    "outputId": "2430f37e-c904-462a-e7bc-39af025a7eab"
   },
   "outputs": [
    {
     "name": "stdout",
     "output_type": "stream",
     "text": [
      "Epoch 1/30\n",
      "470/470 [==============================] - 20s 13ms/step - loss: 0.6088 - binary_accuracy: 0.6664 - val_loss: 0.5793 - val_binary_accuracy: 0.6879\n",
      "Epoch 2/30\n",
      "470/470 [==============================] - 6s 12ms/step - loss: 0.5593 - binary_accuracy: 0.7023 - val_loss: 0.5531 - val_binary_accuracy: 0.7039\n",
      "Epoch 3/30\n",
      "470/470 [==============================] - 6s 12ms/step - loss: 0.5376 - binary_accuracy: 0.7171 - val_loss: 0.5429 - val_binary_accuracy: 0.7103\n",
      "Epoch 4/30\n",
      "470/470 [==============================] - 6s 13ms/step - loss: 0.5246 - binary_accuracy: 0.7262 - val_loss: 0.5345 - val_binary_accuracy: 0.7179\n",
      "Epoch 5/30\n",
      "470/470 [==============================] - 6s 13ms/step - loss: 0.5159 - binary_accuracy: 0.7336 - val_loss: 0.5287 - val_binary_accuracy: 0.7190\n",
      "Epoch 6/30\n",
      "470/470 [==============================] - 5s 12ms/step - loss: 0.5086 - binary_accuracy: 0.7391 - val_loss: 0.5266 - val_binary_accuracy: 0.7217\n",
      "Epoch 7/30\n",
      "470/470 [==============================] - 5s 12ms/step - loss: 0.5017 - binary_accuracy: 0.7433 - val_loss: 0.5224 - val_binary_accuracy: 0.7265\n",
      "Epoch 8/30\n",
      "470/470 [==============================] - 6s 13ms/step - loss: 0.4971 - binary_accuracy: 0.7463 - val_loss: 0.5231 - val_binary_accuracy: 0.7242\n",
      "Epoch 9/30\n",
      "470/470 [==============================] - 6s 12ms/step - loss: 0.4924 - binary_accuracy: 0.7513 - val_loss: 0.5224 - val_binary_accuracy: 0.7246\n",
      "Epoch 10/30\n",
      "470/470 [==============================] - 5s 12ms/step - loss: 0.4889 - binary_accuracy: 0.7529 - val_loss: 0.5265 - val_binary_accuracy: 0.7278\n",
      "Epoch 11/30\n",
      "470/470 [==============================] - 6s 13ms/step - loss: 0.4849 - binary_accuracy: 0.7560 - val_loss: 0.5223 - val_binary_accuracy: 0.7300\n",
      "Epoch 12/30\n",
      "470/470 [==============================] - 6s 12ms/step - loss: 0.4813 - binary_accuracy: 0.7585 - val_loss: 0.5192 - val_binary_accuracy: 0.7295\n",
      "Epoch 13/30\n",
      "470/470 [==============================] - 6s 13ms/step - loss: 0.4788 - binary_accuracy: 0.7602 - val_loss: 0.5259 - val_binary_accuracy: 0.7248\n",
      "Epoch 14/30\n",
      "470/470 [==============================] - 6s 13ms/step - loss: 0.4755 - binary_accuracy: 0.7625 - val_loss: 0.5216 - val_binary_accuracy: 0.7302\n",
      "Epoch 15/30\n",
      "470/470 [==============================] - 6s 12ms/step - loss: 0.4722 - binary_accuracy: 0.7647 - val_loss: 0.5231 - val_binary_accuracy: 0.7302\n",
      "Epoch 16/30\n",
      "470/470 [==============================] - 6s 13ms/step - loss: 0.4696 - binary_accuracy: 0.7661 - val_loss: 0.5244 - val_binary_accuracy: 0.7303\n",
      "Epoch 17/30\n",
      "470/470 [==============================] - 6s 13ms/step - loss: 0.4676 - binary_accuracy: 0.7670 - val_loss: 0.5213 - val_binary_accuracy: 0.7329\n",
      "Epoch 18/30\n",
      "470/470 [==============================] - 5s 12ms/step - loss: 0.4655 - binary_accuracy: 0.7691 - val_loss: 0.5249 - val_binary_accuracy: 0.7306\n",
      "Epoch 19/30\n",
      "470/470 [==============================] - 6s 12ms/step - loss: 0.4637 - binary_accuracy: 0.7702 - val_loss: 0.5247 - val_binary_accuracy: 0.7295\n",
      "Epoch 20/30\n",
      "470/470 [==============================] - 6s 13ms/step - loss: 0.4611 - binary_accuracy: 0.7727 - val_loss: 0.5253 - val_binary_accuracy: 0.7308\n",
      "Epoch 21/30\n",
      "470/470 [==============================] - 6s 13ms/step - loss: 0.4597 - binary_accuracy: 0.7732 - val_loss: 0.5337 - val_binary_accuracy: 0.7252\n",
      "Epoch 22/30\n",
      "470/470 [==============================] - 6s 12ms/step - loss: 0.4580 - binary_accuracy: 0.7746 - val_loss: 0.5264 - val_binary_accuracy: 0.7312\n",
      "Epoch 23/30\n",
      "470/470 [==============================] - 6s 13ms/step - loss: 0.4562 - binary_accuracy: 0.7752 - val_loss: 0.5298 - val_binary_accuracy: 0.7277\n",
      "Epoch 24/30\n",
      "470/470 [==============================] - 6s 13ms/step - loss: 0.4545 - binary_accuracy: 0.7770 - val_loss: 0.5307 - val_binary_accuracy: 0.7298\n",
      "Epoch 25/30\n",
      "470/470 [==============================] - 6s 13ms/step - loss: 0.4528 - binary_accuracy: 0.7777 - val_loss: 0.5286 - val_binary_accuracy: 0.7320\n",
      "Epoch 26/30\n",
      "470/470 [==============================] - 6s 13ms/step - loss: 0.4517 - binary_accuracy: 0.7788 - val_loss: 0.5298 - val_binary_accuracy: 0.7303\n",
      "Epoch 27/30\n",
      "470/470 [==============================] - 5s 12ms/step - loss: 0.4495 - binary_accuracy: 0.7799 - val_loss: 0.5300 - val_binary_accuracy: 0.7296\n",
      "Epoch 28/30\n",
      "470/470 [==============================] - 5s 12ms/step - loss: 0.4485 - binary_accuracy: 0.7804 - val_loss: 0.5336 - val_binary_accuracy: 0.7303\n",
      "Epoch 29/30\n",
      "470/470 [==============================] - 6s 13ms/step - loss: 0.4477 - binary_accuracy: 0.7813 - val_loss: 0.5330 - val_binary_accuracy: 0.7299\n",
      "Epoch 30/30\n",
      "470/470 [==============================] - 5s 12ms/step - loss: 0.4459 - binary_accuracy: 0.7826 - val_loss: 0.5327 - val_binary_accuracy: 0.7321\n"
     ]
    },
    {
     "data": {
      "text/plain": [
       "<keras.callbacks.History at 0x7f2bf0440c50>"
      ]
     },
     "execution_count": 11,
     "metadata": {},
     "output_type": "execute_result"
    }
   ],
   "source": [
    "model.fit(\n",
    "    {'input':train_cmsx},\n",
    "    { 'caste':train_cmsy1},\n",
    "    validation_data= ({'input':test_cmsx},\n",
    "    {'caste':test_cmsy1}),\n",
    "    batch_size=500,\n",
    "    epochs=30,\n",
    ")"
   ]
  },
  {
   "cell_type": "code",
   "execution_count": 12,
   "metadata": {
    "colab": {
     "base_uri": "https://localhost:8080/"
    },
    "executionInfo": {
     "elapsed": 5747,
     "status": "ok",
     "timestamp": 1641650510369,
     "user": {
      "displayName": "vahini",
      "photoUrl": "https://lh3.googleusercontent.com/a-/AOh14GhHTsSlWlULa1FavIyz3YWkccn_KU1l5Gvimbzj=s64",
      "userId": "09646027977877841530"
     },
     "user_tz": -330
    },
    "id": "UaM9x0n9WlTC",
    "outputId": "b39a5474-3066-4d8b-b578-1debb49e3194"
   },
   "outputs": [
    {
     "name": "stdout",
     "output_type": "stream",
     "text": [
      "------------------RESULTS-------------------------------\n",
      "              precision    recall  f1-score   support\n",
      "\n",
      "         GEN     0.7531    0.7729    0.7628     56089\n",
      "    RESERVED     0.7040    0.6806    0.6921     44507\n",
      "\n",
      "    accuracy                         0.7321    100596\n",
      "   macro avg     0.7285    0.7267    0.7275    100596\n",
      "weighted avg     0.7313    0.7321    0.7315    100596\n",
      "\n",
      "--------------------------------------------------------\n"
     ]
    }
   ],
   "source": [
    "results = model.predict(test_cmsx)\n",
    "y_pred = np.argmax(results, axis=1)\n",
    "y_true = np.argmax(test_cmsy1, axis=1)\n",
    "\n",
    "target_names = ['GEN','RESERVED']\n",
    "\n",
    "print(\"------------------RESULTS-------------------------------\")\n",
    "print(classification_report(y_true, y_pred, target_names=target_names, digits=4))\n",
    "print(\"--------------------------------------------------------\")"
   ]
  },
  {
   "cell_type": "code",
   "execution_count": 13,
   "metadata": {
    "colab": {
     "base_uri": "https://localhost:8080/"
    },
    "executionInfo": {
     "elapsed": 914,
     "status": "ok",
     "timestamp": 1641650597578,
     "user": {
      "displayName": "vahini",
      "photoUrl": "https://lh3.googleusercontent.com/a-/AOh14GhHTsSlWlULa1FavIyz3YWkccn_KU1l5Gvimbzj=s64",
      "userId": "09646027977877841530"
     },
     "user_tz": -330
    },
    "id": "vMKB7ZFeWoI1",
    "outputId": "871dec39-2633-4fcb-e414-361f33087a4f"
   },
   "outputs": [
    {
     "name": "stdout",
     "output_type": "stream",
     "text": [
      "INFO:tensorflow:Assets written to: Models/AIEEEData/CNNModelWithState/SavedModel/CasteModel/assets\n"
     ]
    }
   ],
   "source": [
    "filename = \"Models/AIEEEData/CNNModelWithState/\"+\"SavedModel/CasteModel\"\n",
    "model.save(filename)"
   ]
  },
  {
   "cell_type": "code",
   "execution_count": null,
   "metadata": {
    "id": "kGh0rFiXDvkF"
   },
   "outputs": [],
   "source": []
  }
 ],
 "metadata": {
  "accelerator": "GPU",
  "colab": {
   "authorship_tag": "ABX9TyNrG9Oxu8RW57uS0hbUSycs",
   "collapsed_sections": [],
   "mount_file_id": "1jzdlYlwY1oygvoPxQBJf7yCjyJHJcOG6",
   "name": "Char_CNN_with_Name_and_State.ipynb",
   "provenance": [
    {
     "file_id": "1ddH_Oxwhc0VwgLTo0IYEhwtgNUynszZ5",
     "timestamp": 1641615032347
    }
   ]
  },
  "kernelspec": {
   "display_name": "Python 3",
   "language": "python",
   "name": "python3"
  },
  "language_info": {
   "codemirror_mode": {
    "name": "ipython",
    "version": 3
   },
   "file_extension": ".py",
   "mimetype": "text/x-python",
   "name": "python",
   "nbconvert_exporter": "python",
   "pygments_lexer": "ipython3",
   "version": "3.8.11"
  }
 },
 "nbformat": 4,
 "nbformat_minor": 1
}
