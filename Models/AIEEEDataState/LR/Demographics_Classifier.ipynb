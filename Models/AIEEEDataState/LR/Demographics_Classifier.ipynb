{
 "cells": [
  {
   "cell_type": "markdown",
   "metadata": {
    "id": "GS4aYvEoCSCe"
   },
   "source": [
    "### Import Required Modules"
   ]
  },
  {
   "cell_type": "code",
   "execution_count": 1,
   "metadata": {
    "id": "-BE1xe9P3FdV"
   },
   "outputs": [],
   "source": [
    "import pandas as pd\n",
    "import numpy as np\n",
    "from sklearn.feature_extraction.text import CountVectorizer\n",
    "from sklearn.feature_extraction.text import TfidfTransformer, TfidfVectorizer\n",
    "from sklearn.linear_model import SGDClassifier\n",
    "from sklearn.pipeline import Pipeline\n",
    "from sklearn.model_selection import train_test_split\n",
    "from sklearn.naive_bayes import MultinomialNB\n",
    "from sklearn.metrics import classification_report\n",
    "import pickle"
   ]
  },
  {
   "cell_type": "code",
   "execution_count": 2,
   "metadata": {
    "colab": {
     "base_uri": "https://localhost:8080/"
    },
    "executionInfo": {
     "elapsed": 3589,
     "status": "ok",
     "timestamp": 1641394659029,
     "user": {
      "displayName": "vahini",
      "photoUrl": "https://lh3.googleusercontent.com/a-/AOh14GhHTsSlWlULa1FavIyz3YWkccn_KU1l5Gvimbzj=s64",
      "userId": "09646027977877841530"
     },
     "user_tz": -330
    },
    "id": "eZXUbf0hCvPO",
    "outputId": "9b62c1e7-a462-4208-f736-b1c50cd53ae5"
   },
   "outputs": [],
   "source": [
    "# from google.colab import drive\n",
    "# drive.mount('/content/drive')"
   ]
  },
  {
   "cell_type": "code",
   "execution_count": 3,
   "metadata": {},
   "outputs": [
    {
     "name": "stdout",
     "output_type": "stream",
     "text": [
      "Fri Mar 18 07:58:52 2022       \n",
      "+-----------------------------------------------------------------------------+\n",
      "| NVIDIA-SMI 470.86       Driver Version: 470.86       CUDA Version: 11.4     |\n",
      "|-------------------------------+----------------------+----------------------+\n",
      "| GPU  Name        Persistence-M| Bus-Id        Disp.A | Volatile Uncorr. ECC |\n",
      "| Fan  Temp  Perf  Pwr:Usage/Cap|         Memory-Usage | GPU-Util  Compute M. |\n",
      "|                               |                      |               MIG M. |\n",
      "|===============================+======================+======================|\n",
      "|   0  Tesla P100-PCIE...  Off  | 00000000:3B:00.0 Off |                    0 |\n",
      "| N/A   43C    P0    92W / 250W |  16048MiB / 16280MiB |    100%      Default |\n",
      "|                               |                      |                  N/A |\n",
      "+-------------------------------+----------------------+----------------------+\n",
      "|   1  Tesla P100-PCIE...  Off  | 00000000:D8:00.0 Off |                    0 |\n",
      "| N/A   52C    P0   100W / 250W |  10994MiB / 16280MiB |    100%      Default |\n",
      "|                               |                      |                  N/A |\n",
      "+-------------------------------+----------------------+----------------------+\n",
      "                                                                               \n",
      "+-----------------------------------------------------------------------------+\n",
      "| Processes:                                                                  |\n",
      "|  GPU   GI   CI        PID   Type   Process name                  GPU Memory |\n",
      "|        ID   ID                                                   Usage      |\n",
      "|=============================================================================|\n",
      "|    0   N/A  N/A      4613      C   python                           3593MiB |\n",
      "|    0   N/A  N/A     17913      C   ...onda/envs/py38/bin/python     2181MiB |\n",
      "|    0   N/A  N/A     20648      C   ...onda/envs/py38/bin/python     3693MiB |\n",
      "|    0   N/A  N/A     21587      C   ...onda/envs/py38/bin/python     6577MiB |\n",
      "|    1   N/A  N/A     17913      C   ...onda/envs/py38/bin/python     1573MiB |\n",
      "|    1   N/A  N/A     20648      C   ...onda/envs/py38/bin/python     1985MiB |\n",
      "|    1   N/A  N/A     21587      C   ...onda/envs/py38/bin/python     2957MiB |\n",
      "|    1   N/A  N/A     28191      C   ...onda/envs/py38/bin/python     4475MiB |\n",
      "+-----------------------------------------------------------------------------+\n"
     ]
    }
   ],
   "source": [
    "!nvidia-smi"
   ]
  },
  {
   "cell_type": "code",
   "execution_count": 4,
   "metadata": {},
   "outputs": [],
   "source": [
    "import os\n",
    "os.environ[\"CUDA_VISIBLE_DEVICES\"]=\"1\"    \n",
    "import tensorflow as tf"
   ]
  },
  {
   "cell_type": "code",
   "execution_count": 5,
   "metadata": {
    "id": "0S86wOPeCNcD"
   },
   "outputs": [],
   "source": [
    "PATH_TO_FOLDER = \"drive/MyDrive/Name2Demographics/\""
   ]
  },
  {
   "cell_type": "code",
   "execution_count": 6,
   "metadata": {
    "colab": {
     "base_uri": "https://localhost:8080/"
    },
    "executionInfo": {
     "elapsed": 13,
     "status": "ok",
     "timestamp": 1641394659030,
     "user": {
      "displayName": "vahini",
      "photoUrl": "https://lh3.googleusercontent.com/a-/AOh14GhHTsSlWlULa1FavIyz3YWkccn_KU1l5Gvimbzj=s64",
      "userId": "09646027977877841530"
     },
     "user_tz": -330
    },
    "id": "IaxJmq9sCo9f",
    "outputId": "0b969cba-e9e1-488f-8cbd-f41bd357f4f8"
   },
   "outputs": [
    {
     "name": "stdout",
     "output_type": "stream",
     "text": [
      "/home/souvic/mounted/btp/vahini/Name2Demographics\n"
     ]
    }
   ],
   "source": [
    "# %cd $PATH_TO_FOLDER\n",
    "%cd ../../../"
   ]
  },
  {
   "cell_type": "code",
   "execution_count": 7,
   "metadata": {
    "id": "CwQm23aR3FdW"
   },
   "outputs": [],
   "source": [
    "import sys  \n",
    "sys.path.insert(0, 'Models/PreProcessing/')\n",
    "\n",
    "from utils import *\n",
    "\n",
    "sys.path.insert(0, 'Models/AIEEEDataState/Preprocessing/')\n",
    "from aieee_caste import *"
   ]
  },
  {
   "cell_type": "markdown",
   "metadata": {
    "id": "LC68xJ1y3FdX"
   },
   "source": [
    "### Train Model on Data"
   ]
  },
  {
   "cell_type": "code",
   "execution_count": 8,
   "metadata": {
    "colab": {
     "base_uri": "https://localhost:8080/"
    },
    "executionInfo": {
     "elapsed": 20016,
     "status": "ok",
     "timestamp": 1641394679036,
     "user": {
      "displayName": "vahini",
      "photoUrl": "https://lh3.googleusercontent.com/a-/AOh14GhHTsSlWlULa1FavIyz3YWkccn_KU1l5Gvimbzj=s64",
      "userId": "09646027977877841530"
     },
     "user_tz": -330
    },
    "id": "VU1MwLJR3FdX",
    "outputId": "bcbbee19-79ef-4dd8-c230-0725be6100f4"
   },
   "outputs": [
    {
     "name": "stderr",
     "output_type": "stream",
     "text": [
      "/home/souvic/mounted/btp/vahini/Name2Demographics/Models/AIEEEDataState/Preprocessing/aieee_caste.py:251: SettingWithCopyWarning: \n",
      "A value is trying to be set on a copy of a slice from a DataFrame.\n",
      "Try using .loc[row_indexer,col_indexer] = value instead\n",
      "\n",
      "See the caveats in the documentation: https://pandas.pydata.org/pandas-docs/stable/user_guide/indexing.html#returning-a-view-versus-a-copy\n",
      "  df['category'] = df['category'].replace('', np.NaN)\n"
     ]
    }
   ],
   "source": [
    "caste_df = AIEEECasteStateFinalData()"
   ]
  },
  {
   "cell_type": "code",
   "execution_count": 9,
   "metadata": {},
   "outputs": [
    {
     "data": {
      "text/html": [
       "<div>\n",
       "<style scoped>\n",
       "    .dataframe tbody tr th:only-of-type {\n",
       "        vertical-align: middle;\n",
       "    }\n",
       "\n",
       "    .dataframe tbody tr th {\n",
       "        vertical-align: top;\n",
       "    }\n",
       "\n",
       "    .dataframe thead th {\n",
       "        text-align: right;\n",
       "    }\n",
       "</style>\n",
       "<table border=\"1\" class=\"dataframe\">\n",
       "  <thead>\n",
       "    <tr style=\"text-align: right;\">\n",
       "      <th></th>\n",
       "      <th>Name</th>\n",
       "      <th>Caste</th>\n",
       "    </tr>\n",
       "  </thead>\n",
       "  <tbody>\n",
       "    <tr>\n",
       "      <th>0</th>\n",
       "      <td>gauri shankar pandey 35</td>\n",
       "      <td>0.0</td>\n",
       "    </tr>\n",
       "    <tr>\n",
       "      <th>1</th>\n",
       "      <td>nelluri teja bharath 14</td>\n",
       "      <td>0.0</td>\n",
       "    </tr>\n",
       "    <tr>\n",
       "      <th>2</th>\n",
       "      <td>jerin t jerome 04</td>\n",
       "      <td>1.0</td>\n",
       "    </tr>\n",
       "    <tr>\n",
       "      <th>3</th>\n",
       "      <td>bhuri gurjar 16</td>\n",
       "      <td>1.0</td>\n",
       "    </tr>\n",
       "    <tr>\n",
       "      <th>4</th>\n",
       "      <td>abhishek deopa 27</td>\n",
       "      <td>0.0</td>\n",
       "    </tr>\n",
       "  </tbody>\n",
       "</table>\n",
       "</div>"
      ],
      "text/plain": [
       "                      Name  Caste\n",
       "0  gauri shankar pandey 35    0.0\n",
       "1  nelluri teja bharath 14    0.0\n",
       "2        jerin t jerome 04    1.0\n",
       "3          bhuri gurjar 16    1.0\n",
       "4        abhishek deopa 27    0.0"
      ]
     },
     "execution_count": 9,
     "metadata": {},
     "output_type": "execute_result"
    }
   ],
   "source": [
    "caste_df.head()"
   ]
  },
  {
   "cell_type": "code",
   "execution_count": 10,
   "metadata": {
    "colab": {
     "base_uri": "https://localhost:8080/"
    },
    "executionInfo": {
     "elapsed": 108488,
     "status": "ok",
     "timestamp": 1641394787502,
     "user": {
      "displayName": "vahini",
      "photoUrl": "https://lh3.googleusercontent.com/a-/AOh14GhHTsSlWlULa1FavIyz3YWkccn_KU1l5Gvimbzj=s64",
      "userId": "09646027977877841530"
     },
     "user_tz": -330
    },
    "id": "1LtkVrgL3Fdf",
    "outputId": "ae03dfd7-16d8-4338-c61c-e53ba85a3d74"
   },
   "outputs": [
    {
     "name": "stdout",
     "output_type": "stream",
     "text": [
      "(train:(187544, 4), val:(0, 0), test:(83509, 4))\n"
     ]
    }
   ],
   "source": [
    "train, val, test = splitTrainTestVal(caste_df, 0.7 ,0, 'Name')"
   ]
  },
  {
   "cell_type": "code",
   "execution_count": 11,
   "metadata": {
    "colab": {
     "base_uri": "https://localhost:8080/"
    },
    "executionInfo": {
     "elapsed": 25,
     "status": "ok",
     "timestamp": 1641394787503,
     "user": {
      "displayName": "vahini",
      "photoUrl": "https://lh3.googleusercontent.com/a-/AOh14GhHTsSlWlULa1FavIyz3YWkccn_KU1l5Gvimbzj=s64",
      "userId": "09646027977877841530"
     },
     "user_tz": -330
    },
    "id": "39kd7xZJ3Fdi",
    "outputId": "a40ef2a2-ac37-4a2f-bb01-2673781c76be"
   },
   "outputs": [
    {
     "name": "stdout",
     "output_type": "stream",
     "text": [
      "0.6919089624538375\n"
     ]
    }
   ],
   "source": [
    "total_points = caste_df.shape[0]\n",
    "train_points = train.shape[0]\n",
    "test_points = test.shape[0]\n",
    "print(train_points/total_points)"
   ]
  },
  {
   "cell_type": "code",
   "execution_count": 12,
   "metadata": {
    "id": "2n9TyPSMhbjk"
   },
   "outputs": [],
   "source": [
    "sgd_pipe = Pipeline([\n",
    "    ('vect', CountVectorizer(ngram_range=(1, 6), lowercase = True, stop_words = \"english\")),\n",
    "    ('tfidf', TfidfTransformer(sublinear_tf = True)),\n",
    "    ('clf', SGDClassifier(class_weight=\"balanced\",loss=\"squared_loss\",max_iter=10000, random_state=42, validation_fraction = 0.3, average=1000\n",
    "                          , learning_rate='adaptive', eta0=0.003))\n",
    "])"
   ]
  },
  {
   "cell_type": "code",
   "execution_count": 13,
   "metadata": {
    "colab": {
     "base_uri": "https://localhost:8080/"
    },
    "executionInfo": {
     "elapsed": 4969,
     "status": "ok",
     "timestamp": 1641394829047,
     "user": {
      "displayName": "vahini",
      "photoUrl": "https://lh3.googleusercontent.com/a-/AOh14GhHTsSlWlULa1FavIyz3YWkccn_KU1l5Gvimbzj=s64",
      "userId": "09646027977877841530"
     },
     "user_tz": -330
    },
    "id": "nOQTKv6ghgCO",
    "outputId": "3904956d-06a4-4865-b285-33b39a127506"
   },
   "outputs": [
    {
     "data": {
      "text/plain": [
       "Pipeline(steps=[('vect',\n",
       "                 CountVectorizer(ngram_range=(1, 6), stop_words='english')),\n",
       "                ('tfidf', TfidfTransformer(sublinear_tf=True)),\n",
       "                ('clf',\n",
       "                 SGDClassifier(average=1000, class_weight='balanced',\n",
       "                               eta0=0.003, learning_rate='adaptive',\n",
       "                               loss='squared_loss', max_iter=10000,\n",
       "                               random_state=42, validation_fraction=0.3))])"
      ]
     },
     "execution_count": 13,
     "metadata": {},
     "output_type": "execute_result"
    }
   ],
   "source": [
    "sgd_pipe.fit(train['Name'].values.astype('str'), train['Caste'])"
   ]
  },
  {
   "cell_type": "code",
   "execution_count": 14,
   "metadata": {
    "colab": {
     "base_uri": "https://localhost:8080/"
    },
    "executionInfo": {
     "elapsed": 747,
     "status": "ok",
     "timestamp": 1641394831476,
     "user": {
      "displayName": "vahini",
      "photoUrl": "https://lh3.googleusercontent.com/a-/AOh14GhHTsSlWlULa1FavIyz3YWkccn_KU1l5Gvimbzj=s64",
      "userId": "09646027977877841530"
     },
     "user_tz": -330
    },
    "id": "PVD1IbqhhgHS",
    "outputId": "2bbd79d2-6f1a-4b33-eb1d-c9bdc3ea5693"
   },
   "outputs": [
    {
     "name": "stdout",
     "output_type": "stream",
     "text": [
      "              precision    recall  f1-score   support\n",
      "\n",
      "    Reserved     0.8073    0.6279    0.7064     48599\n",
      "     General     0.6044    0.7914    0.6853     34910\n",
      "\n",
      "    accuracy                         0.6962     83509\n",
      "   macro avg     0.7058    0.7096    0.6958     83509\n",
      "weighted avg     0.7225    0.6962    0.6976     83509\n",
      "\n"
     ]
    }
   ],
   "source": [
    "y_pred=sgd_pipe.predict(test['Name'].values.astype('str'))\n",
    "print(classification_report(test['Caste'], y_pred, target_names = ['Reserved', 'General'], digits=4))"
   ]
  },
  {
   "cell_type": "code",
   "execution_count": 17,
   "metadata": {},
   "outputs": [
    {
     "data": {
      "text/html": [
       "<div>\n",
       "<style scoped>\n",
       "    .dataframe tbody tr th:only-of-type {\n",
       "        vertical-align: middle;\n",
       "    }\n",
       "\n",
       "    .dataframe tbody tr th {\n",
       "        vertical-align: top;\n",
       "    }\n",
       "\n",
       "    .dataframe thead th {\n",
       "        text-align: right;\n",
       "    }\n",
       "</style>\n",
       "<table border=\"1\" class=\"dataframe\">\n",
       "  <thead>\n",
       "    <tr style=\"text-align: right;\">\n",
       "      <th></th>\n",
       "      <th>Name</th>\n",
       "      <th>Caste</th>\n",
       "      <th>first_name</th>\n",
       "      <th>last_name</th>\n",
       "    </tr>\n",
       "  </thead>\n",
       "  <tbody>\n",
       "    <tr>\n",
       "      <th>1</th>\n",
       "      <td>nelluri teja bharath 14</td>\n",
       "      <td>0.0</td>\n",
       "      <td>nelluri</td>\n",
       "      <td>teja bharath 14</td>\n",
       "    </tr>\n",
       "    <tr>\n",
       "      <th>2</th>\n",
       "      <td>jerin t jerome 04</td>\n",
       "      <td>1.0</td>\n",
       "      <td>jerin</td>\n",
       "      <td>t jerome 04</td>\n",
       "    </tr>\n",
       "    <tr>\n",
       "      <th>3</th>\n",
       "      <td>bhuri gurjar 16</td>\n",
       "      <td>1.0</td>\n",
       "      <td>bhuri</td>\n",
       "      <td>gurjar 16</td>\n",
       "    </tr>\n",
       "    <tr>\n",
       "      <th>4</th>\n",
       "      <td>abhishek deopa 27</td>\n",
       "      <td>0.0</td>\n",
       "      <td>abhishek</td>\n",
       "      <td>deopa 27</td>\n",
       "    </tr>\n",
       "    <tr>\n",
       "      <th>6</th>\n",
       "      <td>shamseer m 04</td>\n",
       "      <td>1.0</td>\n",
       "      <td>shamseer</td>\n",
       "      <td>m 04</td>\n",
       "    </tr>\n",
       "  </tbody>\n",
       "</table>\n",
       "</div>"
      ],
      "text/plain": [
       "                      Name  Caste first_name        last_name\n",
       "1  nelluri teja bharath 14    0.0    nelluri  teja bharath 14\n",
       "2        jerin t jerome 04    1.0      jerin      t jerome 04\n",
       "3          bhuri gurjar 16    1.0      bhuri        gurjar 16\n",
       "4        abhishek deopa 27    0.0   abhishek         deopa 27\n",
       "6            shamseer m 04    1.0   shamseer             m 04"
      ]
     },
     "execution_count": 17,
     "metadata": {},
     "output_type": "execute_result"
    }
   ],
   "source": [
    "train.head()"
   ]
  },
  {
   "cell_type": "markdown",
   "metadata": {
    "id": "WFDiKo1B3Fdm"
   },
   "source": [
    "### Save Model"
   ]
  },
  {
   "cell_type": "code",
   "execution_count": 15,
   "metadata": {
    "colab": {
     "base_uri": "https://localhost:8080/",
     "height": 35
    },
    "executionInfo": {
     "elapsed": 542,
     "status": "ok",
     "timestamp": 1641394845566,
     "user": {
      "displayName": "vahini",
      "photoUrl": "https://lh3.googleusercontent.com/a-/AOh14GhHTsSlWlULa1FavIyz3YWkccn_KU1l5Gvimbzj=s64",
      "userId": "09646027977877841530"
     },
     "user_tz": -330
    },
    "id": "lnRTCQXupqD5",
    "outputId": "532e6eb6-c0fd-4fc1-cbae-aa9edb078fd6"
   },
   "outputs": [
    {
     "data": {
      "text/plain": [
       "'/home/souvic/mounted/btp/vahini/Name2Demographics'"
      ]
     },
     "execution_count": 15,
     "metadata": {},
     "output_type": "execute_result"
    }
   ],
   "source": [
    "%pwd"
   ]
  },
  {
   "cell_type": "code",
   "execution_count": 16,
   "metadata": {
    "id": "wF37tnfk3Fdm"
   },
   "outputs": [],
   "source": [
    "filename = \"Models/AIEEEDataState/LR/SavedModel/AIEEEModel.pkl\"\n",
    "pickle.dump(sgd_pipe, open(filename, 'wb'))"
   ]
  },
  {
   "cell_type": "markdown",
   "metadata": {
    "id": "O5H7MQd53Fdn"
   },
   "source": [
    "### Load Model"
   ]
  },
  {
   "cell_type": "code",
   "execution_count": null,
   "metadata": {
    "id": "3jiSRe123Fdn"
   },
   "outputs": [],
   "source": [
    "# filename = \"SavedModels/FinalSet/SGDClassifier/CBSEModel.pkl\"\n",
    "# pipe = pickle.load(open(filename, 'rb'))"
   ]
  },
  {
   "cell_type": "code",
   "execution_count": null,
   "metadata": {
    "id": "OAfojWFy3Fdo"
   },
   "outputs": [],
   "source": [
    "# df, first_name = split_name_df(cbse_df, 'Name')"
   ]
  },
  {
   "cell_type": "code",
   "execution_count": null,
   "metadata": {
    "id": "tH8zbcS33Fdp"
   },
   "outputs": [],
   "source": [
    "# y_pred=pipe.predict(df['first_name'].values.astype('str'))\n",
    "# print(classification_report(test['Gender'], y_pred, target_names = ['Male', 'Female']))"
   ]
  },
  {
   "cell_type": "code",
   "execution_count": null,
   "metadata": {
    "id": "--anXmMk3Fdp"
   },
   "outputs": [],
   "source": [
    "# fn = pd.DataFrame()"
   ]
  },
  {
   "cell_type": "code",
   "execution_count": null,
   "metadata": {
    "id": "ugvJ4DCU3Fdq"
   },
   "outputs": [],
   "source": [
    "# fn['first_name'] = df['first_name']"
   ]
  },
  {
   "cell_type": "code",
   "execution_count": null,
   "metadata": {
    "id": "eWbGTJeE3Fdq"
   },
   "outputs": [],
   "source": [
    "# df['predict'] = y_pred"
   ]
  },
  {
   "cell_type": "code",
   "execution_count": null,
   "metadata": {
    "id": "tDFzTl5l3Fd0"
   },
   "outputs": [],
   "source": [
    "# fn['gender'] = y_pred\n",
    "# fn['true_gender'] = df['Gender']"
   ]
  },
  {
   "cell_type": "code",
   "execution_count": null,
   "metadata": {
    "id": "te1rTpkM3Fd0"
   },
   "outputs": [],
   "source": [
    "# print(fn.groupby(['first_name','gender']).size())"
   ]
  },
  {
   "cell_type": "code",
   "execution_count": null,
   "metadata": {
    "id": "ycXgaYSz3Fd1",
    "outputId": "b73259a6-7021-49a2-e760-f432d9c4c7b1"
   },
   "outputs": [
    {
     "data": {
      "text/html": [
       "<div>\n",
       "<style scoped>\n",
       "    .dataframe tbody tr th:only-of-type {\n",
       "        vertical-align: middle;\n",
       "    }\n",
       "\n",
       "    .dataframe tbody tr th {\n",
       "        vertical-align: top;\n",
       "    }\n",
       "\n",
       "    .dataframe thead th {\n",
       "        text-align: right;\n",
       "    }\n",
       "</style>\n",
       "<table border=\"1\" class=\"dataframe\">\n",
       "  <thead>\n",
       "    <tr style=\"text-align: right;\">\n",
       "      <th></th>\n",
       "      <th>first_name</th>\n",
       "      <th>gender</th>\n",
       "      <th>true_gender</th>\n",
       "    </tr>\n",
       "  </thead>\n",
       "  <tbody>\n",
       "    <tr>\n",
       "      <th>0</th>\n",
       "      <td>sarda</td>\n",
       "      <td>Girl</td>\n",
       "      <td>Girl</td>\n",
       "    </tr>\n",
       "    <tr>\n",
       "      <th>1</th>\n",
       "      <td>rakhi</td>\n",
       "      <td>Girl</td>\n",
       "      <td>Girl</td>\n",
       "    </tr>\n",
       "    <tr>\n",
       "      <th>2</th>\n",
       "      <td>surekha</td>\n",
       "      <td>Girl</td>\n",
       "      <td>Girl</td>\n",
       "    </tr>\n",
       "    <tr>\n",
       "      <th>3</th>\n",
       "      <td>shivani</td>\n",
       "      <td>Girl</td>\n",
       "      <td>Girl</td>\n",
       "    </tr>\n",
       "    <tr>\n",
       "      <th>4</th>\n",
       "      <td>ramdulari</td>\n",
       "      <td>Girl</td>\n",
       "      <td>Girl</td>\n",
       "    </tr>\n",
       "    <tr>\n",
       "      <th>...</th>\n",
       "      <td>...</td>\n",
       "      <td>...</td>\n",
       "      <td>...</td>\n",
       "    </tr>\n",
       "    <tr>\n",
       "      <th>25729</th>\n",
       "      <td>mannulal</td>\n",
       "      <td>Girl</td>\n",
       "      <td>Boy</td>\n",
       "    </tr>\n",
       "    <tr>\n",
       "      <th>25730</th>\n",
       "      <td>anada</td>\n",
       "      <td>Girl</td>\n",
       "      <td>Boy</td>\n",
       "    </tr>\n",
       "    <tr>\n",
       "      <th>25731</th>\n",
       "      <td>priyadarshan</td>\n",
       "      <td>Girl</td>\n",
       "      <td>Boy</td>\n",
       "    </tr>\n",
       "    <tr>\n",
       "      <th>25732</th>\n",
       "      <td>bindhyeshwari</td>\n",
       "      <td>Girl</td>\n",
       "      <td>Boy</td>\n",
       "    </tr>\n",
       "    <tr>\n",
       "      <th>25733</th>\n",
       "      <td>houn</td>\n",
       "      <td>Girl</td>\n",
       "      <td>Boy</td>\n",
       "    </tr>\n",
       "  </tbody>\n",
       "</table>\n",
       "<p>25734 rows × 3 columns</p>\n",
       "</div>"
      ],
      "text/plain": [
       "          first_name gender true_gender\n",
       "0              sarda   Girl        Girl\n",
       "1              rakhi   Girl        Girl\n",
       "2            surekha   Girl        Girl\n",
       "3            shivani   Girl        Girl\n",
       "4          ramdulari   Girl        Girl\n",
       "...              ...    ...         ...\n",
       "25729       mannulal   Girl         Boy\n",
       "25730          anada   Girl         Boy\n",
       "25731   priyadarshan   Girl         Boy\n",
       "25732  bindhyeshwari   Girl         Boy\n",
       "25733           houn   Girl         Boy\n",
       "\n",
       "[25734 rows x 3 columns]"
      ]
     },
     "execution_count": 52,
     "metadata": {},
     "output_type": "execute_result"
    }
   ],
   "source": [
    "# f1 = fn.drop_duplicates()\n",
    "# f1 = f1.reset_index(drop=True)\n",
    "# f1"
   ]
  }
 ],
 "metadata": {
  "colab": {
   "collapsed_sections": [
    "O5H7MQd53Fdn"
   ],
   "name": "Demographics_Classifier.ipynb",
   "provenance": []
  },
  "kernelspec": {
   "display_name": "Python [conda env:.conda-py38] *",
   "language": "python",
   "name": "conda-env-.conda-py38-py"
  },
  "language_info": {
   "codemirror_mode": {
    "name": "ipython",
    "version": 3
   },
   "file_extension": ".py",
   "mimetype": "text/x-python",
   "name": "python",
   "nbconvert_exporter": "python",
   "pygments_lexer": "ipython3",
   "version": "3.8.11"
  }
 },
 "nbformat": 4,
 "nbformat_minor": 1
}
