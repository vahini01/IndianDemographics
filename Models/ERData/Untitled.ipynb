{
 "cells": [
  {
   "cell_type": "code",
   "execution_count": 1,
   "id": "19401f63",
   "metadata": {},
   "outputs": [
    {
     "data": {
      "text/plain": [
       "0.7964437767957001"
      ]
     },
     "execution_count": 1,
     "metadata": {},
     "output_type": "execute_result"
    }
   ],
   "source": [
    "(0.8670*1831488+0.7601*2000000+0.7794*3318000)/(3318000+2000000+1831468)"
   ]
  },
  {
   "cell_type": "code",
   "execution_count": 2,
   "id": "f59c62ab",
   "metadata": {},
   "outputs": [
    {
     "data": {
      "text/plain": [
       "7149468"
      ]
     },
     "execution_count": 2,
     "metadata": {},
     "output_type": "execute_result"
    }
   ],
   "source": [
    "(3318000+2000000+1831468)"
   ]
  },
  {
   "cell_type": "code",
   "execution_count": 5,
   "id": "e7fdeef9",
   "metadata": {},
   "outputs": [],
   "source": [
    "def cf1(pre, rec):\n",
    "    f1 = 2*pre*rec/ (pre+rec)\n",
    "    return f1"
   ]
  },
  {
   "cell_type": "code",
   "execution_count": 6,
   "id": "7bdd6002",
   "metadata": {},
   "outputs": [
    {
     "data": {
      "text/plain": [
       "0.8587440675007274"
      ]
     },
     "execution_count": 6,
     "metadata": {},
     "output_type": "execute_result"
    }
   ],
   "source": [
    "cf1(0.8384, 0.8801)"
   ]
  },
  {
   "cell_type": "code",
   "execution_count": 7,
   "id": "26830ff5",
   "metadata": {},
   "outputs": [],
   "source": [
    "def cp(tp, tn, fp, fn):\n",
    "    return tp/(tp+fp)"
   ]
  },
  {
   "cell_type": "code",
   "execution_count": 8,
   "id": "6efb20bb",
   "metadata": {},
   "outputs": [],
   "source": [
    "def ca(tp, tn, fp, fn):\n",
    "    return tp/(tp+fn)"
   ]
  },
  {
   "cell_type": "code",
   "execution_count": 9,
   "id": "45057209",
   "metadata": {},
   "outputs": [],
   "source": [
    "from math import floor"
   ]
  },
  {
   "cell_type": "code",
   "execution_count": 10,
   "id": "ebbe510f",
   "metadata": {},
   "outputs": [],
   "source": [
    "def extract(pre, rec, sup, supo):\n",
    "    tp = tn = fp = fn = 0\n",
    "    tp = floor(rec * (sup))\n",
    "    fn = sup - tp\n",
    "    fp = floor(tp/pre - tp)\n",
    "    tn = supo - fp\n",
    "    return tp, tn, fp, fn"
   ]
  },
  {
   "cell_type": "code",
   "execution_count": 14,
   "id": "99127553",
   "metadata": {},
   "outputs": [],
   "source": [
    "s1 = extract(0.8384, 0.8801, 841103, 990385)"
   ]
  },
  {
   "cell_type": "code",
   "execution_count": 15,
   "id": "df8cb69e",
   "metadata": {},
   "outputs": [],
   "source": [
    "s2 = extract(0.7812, 0.7227, 999994, 1000006)"
   ]
  },
  {
   "cell_type": "code",
   "execution_count": 16,
   "id": "9ace1849",
   "metadata": {},
   "outputs": [],
   "source": [
    "s3 = extract(0.7543, 0.7570, 1495365, 1822635)"
   ]
  },
  {
   "cell_type": "code",
   "execution_count": 19,
   "id": "7b02e2a5",
   "metadata": {},
   "outputs": [],
   "source": [
    "s = [0,0,0,0]\n",
    "for i in range(4):\n",
    "    s[i] = s1[i]+s2[i]+s3[i]"
   ]
  },
  {
   "cell_type": "code",
   "execution_count": 20,
   "id": "4f7f6a60",
   "metadata": {},
   "outputs": [
    {
     "data": {
      "text/plain": [
       "[2594940, 3099205, 713821, 741522]"
      ]
     },
     "execution_count": 20,
     "metadata": {},
     "output_type": "execute_result"
    }
   ],
   "source": [
    "s"
   ]
  },
  {
   "cell_type": "code",
   "execution_count": 28,
   "id": "9ca6814a",
   "metadata": {},
   "outputs": [],
   "source": [
    "pre = cp(s[0], s[1], s[2], s[3])\n",
    "rec = ca(s[0], s[1], s[2], s[3])\n",
    "f1_0 = cf1(pre, rec)"
   ]
  },
  {
   "cell_type": "code",
   "execution_count": 29,
   "id": "b5fc94e9",
   "metadata": {},
   "outputs": [
    {
     "data": {
      "text/plain": [
       "0.7809941065935636"
      ]
     },
     "execution_count": 29,
     "metadata": {},
     "output_type": "execute_result"
    }
   ],
   "source": [
    "f1_0"
   ]
  },
  {
   "cell_type": "code",
   "execution_count": 26,
   "id": "eba50056",
   "metadata": {},
   "outputs": [],
   "source": [
    "pre = cp(s[1], s[0], s[3], s[2])\n",
    "rec = ca(s[1], s[0], s[3], s[2])\n",
    "f1_1 = cf1(pre, rec)\n",
    "f1_1"
   ]
  },
  {
   "cell_type": "code",
   "execution_count": 27,
   "id": "b1d5352a",
   "metadata": {},
   "outputs": [
    {
     "data": {
      "text/plain": [
       "0.8098523691579804"
      ]
     },
     "execution_count": 27,
     "metadata": {},
     "output_type": "execute_result"
    }
   ],
   "source": [
    "f1_1"
   ]
  },
  {
   "cell_type": "code",
   "execution_count": 1,
   "id": "ebd872df",
   "metadata": {},
   "outputs": [
    {
     "ename": "NameError",
     "evalue": "name 's' is not defined",
     "output_type": "error",
     "traceback": [
      "\u001b[0;31m---------------------------------------------------------------------------\u001b[0m",
      "\u001b[0;31mNameError\u001b[0m                                 Traceback (most recent call last)",
      "\u001b[0;32m/tmp/ipykernel_28893/402837985.py\u001b[0m in \u001b[0;36m<module>\u001b[0;34m\u001b[0m\n\u001b[0;32m----> 1\u001b[0;31m \u001b[0msum\u001b[0m\u001b[0;34m(\u001b[0m\u001b[0ms\u001b[0m\u001b[0;34m)\u001b[0m\u001b[0;34m\u001b[0m\u001b[0;34m\u001b[0m\u001b[0m\n\u001b[0m",
      "\u001b[0;31mNameError\u001b[0m: name 's' is not defined"
     ]
    }
   ],
   "source": [
    "sum(s)"
   ]
  },
  {
   "cell_type": "code",
   "execution_count": 3,
   "id": "cd1c5be9",
   "metadata": {},
   "outputs": [
    {
     "data": {
      "text/plain": [
       "0.7832558142345298"
      ]
     },
     "execution_count": 3,
     "metadata": {},
     "output_type": "execute_result"
    }
   ],
   "source": [
    "(0.7283*2000000+0.8046*5149488)/(5149488+2000000)"
   ]
  },
  {
   "cell_type": "code",
   "execution_count": 11,
   "id": "fd42cbe0",
   "metadata": {},
   "outputs": [],
   "source": [
    "s1 = extract(0.7843 , 0.6298, 999994, 1000006)"
   ]
  },
  {
   "cell_type": "code",
   "execution_count": 12,
   "id": "d114f82a",
   "metadata": {},
   "outputs": [],
   "source": [
    "s2 = extract( 0.7817, 0.7901, 2336468, 2813020)"
   ]
  },
  {
   "cell_type": "code",
   "execution_count": 14,
   "id": "386293f8",
   "metadata": {},
   "outputs": [],
   "source": [
    "s = [0,0,0,0]\n",
    "for i in range(4):\n",
    "    s[i] = s1[i]+s2[i]"
   ]
  },
  {
   "cell_type": "code",
   "execution_count": 15,
   "id": "5d174dae",
   "metadata": {},
   "outputs": [
    {
     "data": {
      "text/plain": [
       "7149488"
      ]
     },
     "execution_count": 15,
     "metadata": {},
     "output_type": "execute_result"
    }
   ],
   "source": [
    "sum(s)"
   ]
  },
  {
   "cell_type": "code",
   "execution_count": 16,
   "id": "4d209c29",
   "metadata": {},
   "outputs": [
    {
     "data": {
      "text/plain": [
       "0.7616748645870297"
      ]
     },
     "execution_count": 16,
     "metadata": {},
     "output_type": "execute_result"
    }
   ],
   "source": [
    "pre = cp(s[0], s[1], s[2], s[3])\n",
    "rec = ca(s[0], s[1], s[2], s[3])\n",
    "f1_0 = cf1(pre, rec)\n",
    "f1_0"
   ]
  },
  {
   "cell_type": "code",
   "execution_count": 17,
   "id": "3fbb64e3",
   "metadata": {},
   "outputs": [
    {
     "data": {
      "text/plain": [
       "0.8013114237778531"
      ]
     },
     "execution_count": 17,
     "metadata": {},
     "output_type": "execute_result"
    }
   ],
   "source": [
    "pre = cp(s[1], s[0], s[3], s[2])\n",
    "rec = ca(s[1], s[0], s[3], s[2])\n",
    "f1_1 = cf1(pre, rec)\n",
    "f1_1"
   ]
  },
  {
   "cell_type": "code",
   "execution_count": null,
   "id": "e11c9d45",
   "metadata": {},
   "outputs": [],
   "source": []
  }
 ],
 "metadata": {
  "kernelspec": {
   "display_name": "Python 3",
   "language": "python",
   "name": "python3"
  },
  "language_info": {
   "codemirror_mode": {
    "name": "ipython",
    "version": 3
   },
   "file_extension": ".py",
   "mimetype": "text/x-python",
   "name": "python",
   "nbconvert_exporter": "python",
   "pygments_lexer": "ipython3",
   "version": "3.8.11"
  }
 },
 "nbformat": 4,
 "nbformat_minor": 5
}
