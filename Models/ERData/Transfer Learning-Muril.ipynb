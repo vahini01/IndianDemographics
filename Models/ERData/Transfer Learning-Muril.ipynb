{
 "cells": [
  {
   "cell_type": "code",
   "execution_count": null,
   "id": "9decf1f2",
   "metadata": {},
   "outputs": [],
   "source": [
    "# Load AIEEE Data"
   ]
  },
  {
   "cell_type": "code",
   "execution_count": 1,
   "id": "b4b22e38",
   "metadata": {},
   "outputs": [
    {
     "name": "stdout",
     "output_type": "stream",
     "text": [
      "/home/souvic/mounted/btp/vahini/Name2Demographics\n"
     ]
    }
   ],
   "source": [
    "%cd ../../"
   ]
  },
  {
   "cell_type": "code",
   "execution_count": 18,
   "id": "81b6a5cd",
   "metadata": {},
   "outputs": [
    {
     "name": "stdout",
     "output_type": "stream",
     "text": [
      "huggingface/tokenizers: The current process just got forked, after parallelism has already been used. Disabling parallelism to avoid deadlocks...\n",
      "To disable this warning, you can either:\n",
      "\t- Avoid using `tokenizers` before the fork if possible\n",
      "\t- Explicitly set the environment variable TOKENIZERS_PARALLELISM=(true | false)\n",
      "Fri Apr  1 10:45:47 2022       \n",
      "+-----------------------------------------------------------------------------+\n",
      "| NVIDIA-SMI 470.86       Driver Version: 470.86       CUDA Version: 11.4     |\n",
      "|-------------------------------+----------------------+----------------------+\n",
      "| GPU  Name        Persistence-M| Bus-Id        Disp.A | Volatile Uncorr. ECC |\n",
      "| Fan  Temp  Perf  Pwr:Usage/Cap|         Memory-Usage | GPU-Util  Compute M. |\n",
      "|                               |                      |               MIG M. |\n",
      "|===============================+======================+======================|\n",
      "|   0  Tesla P100-PCIE...  Off  | 00000000:3B:00.0 Off |                    0 |\n",
      "| N/A   32C    P0    34W / 250W |   2608MiB / 16280MiB |      0%      Default |\n",
      "|                               |                      |                  N/A |\n",
      "+-------------------------------+----------------------+----------------------+\n",
      "|   1  Tesla P100-PCIE...  Off  | 00000000:D8:00.0 Off |                    0 |\n",
      "| N/A   30C    P0    26W / 250W |      2MiB / 16280MiB |      0%      Default |\n",
      "|                               |                      |                  N/A |\n",
      "+-------------------------------+----------------------+----------------------+\n",
      "                                                                               \n",
      "+-----------------------------------------------------------------------------+\n",
      "| Processes:                                                                  |\n",
      "|  GPU   GI   CI        PID   Type   Process name                  GPU Memory |\n",
      "|        ID   ID                                                   Usage      |\n",
      "|=============================================================================|\n",
      "|    0   N/A  N/A     12334      C   python                           1303MiB |\n",
      "|    0   N/A  N/A     12441      C   python                           1303MiB |\n",
      "+-----------------------------------------------------------------------------+\n"
     ]
    }
   ],
   "source": [
    "!nvidia-smi"
   ]
  },
  {
   "cell_type": "code",
   "execution_count": 19,
   "id": "18beba1f",
   "metadata": {},
   "outputs": [],
   "source": [
    "import os\n",
    "os.environ[\"CUDA_VISIBLE_DEVICES\"]=\"1\"    \n",
    "import tensorflow as tf"
   ]
  },
  {
   "cell_type": "code",
   "execution_count": 3,
   "id": "fb0f3f13",
   "metadata": {},
   "outputs": [],
   "source": [
    "import sys  \n",
    "sys.path.insert(0, 'Models/ERData/PreProcessing/')\n",
    "\n",
    "from er_preprocess import *"
   ]
  },
  {
   "cell_type": "code",
   "execution_count": 4,
   "id": "49e45baf",
   "metadata": {},
   "outputs": [],
   "source": [
    "er_df = pd.read_csv(\"Models/Data/ERData/er_data_with_majority_label.csv\")"
   ]
  },
  {
   "cell_type": "markdown",
   "id": "bf59cd9d",
   "metadata": {},
   "source": [
    "Load Models"
   ]
  },
  {
   "cell_type": "code",
   "execution_count": 5,
   "id": "b5767258",
   "metadata": {},
   "outputs": [],
   "source": [
    "#  other models\n",
    "AIEEE_Muril = \"Models/AIEEEGenderData/MurilBERT/SavedModel/MurilBERT\"\n",
    "CBSE_Muril = \"Models/CBSEData/MurilBERT/SavedModel/MurilBERT\"\n",
    "ER_Muril = \"Models/ERData/MurilBERT/SavedModel/BERTMuril\""
   ]
  },
  {
   "cell_type": "code",
   "execution_count": 6,
   "id": "307f4f85",
   "metadata": {},
   "outputs": [],
   "source": [
    "%%capture\n",
    "!pip install transformers[sentencepiece]\n",
    "import transformers"
   ]
  },
  {
   "cell_type": "code",
   "execution_count": 7,
   "id": "93dd3691",
   "metadata": {},
   "outputs": [],
   "source": [
    "from transformers import BertModel, AutoModelForSequenceClassification\n",
    "from transformers import AutoTokenizer"
   ]
  },
  {
   "cell_type": "code",
   "execution_count": 8,
   "id": "b468678d",
   "metadata": {},
   "outputs": [],
   "source": [
    "aieee_model = AutoModelForSequenceClassification.from_pretrained(AIEEE_Muril)"
   ]
  },
  {
   "cell_type": "code",
   "execution_count": 9,
   "id": "7dcb37af",
   "metadata": {},
   "outputs": [],
   "source": [
    "cbse_model = AutoModelForSequenceClassification.from_pretrained(CBSE_Muril)"
   ]
  },
  {
   "cell_type": "code",
   "execution_count": 10,
   "id": "296f5aa6",
   "metadata": {},
   "outputs": [],
   "source": [
    "er_model = AutoModelForSequenceClassification.from_pretrained(ER_Muril)"
   ]
  },
  {
   "cell_type": "code",
   "execution_count": 11,
   "id": "de1a51d6",
   "metadata": {},
   "outputs": [],
   "source": [
    "tokenizer = AutoTokenizer.from_pretrained(\"google/muril-base-cased\")"
   ]
  },
  {
   "cell_type": "code",
   "execution_count": 12,
   "id": "6cfcfe86",
   "metadata": {},
   "outputs": [],
   "source": [
    "er_df = er_df.dropna()"
   ]
  },
  {
   "cell_type": "markdown",
   "id": "ba38d140",
   "metadata": {},
   "source": [
    "Predict Gender"
   ]
  },
  {
   "cell_type": "code",
   "execution_count": 13,
   "id": "ab684a8c",
   "metadata": {},
   "outputs": [],
   "source": [
    "from transformers import pipeline\n",
    "from sklearn.metrics import classification_report\n"
   ]
  },
  {
   "cell_type": "code",
   "execution_count": 22,
   "id": "8e1ced78",
   "metadata": {},
   "outputs": [],
   "source": [
    "import math\n",
    "\n",
    "def print_results(rmodel, tokenizer, df):\n",
    "    pipe = pipeline(task=\"text-classification\",model=rmodel, tokenizer=tokenizer, device=0)\n",
    "    n = df.shape[0]\n",
    "    predictions = []\n",
    "    for i in range(math.ceil(n/1000)):\n",
    "        df1 = df[i*1000:(i+1)*(1000)]\n",
    "        onway = pipe(list(df1['Name']), batch_size=256)\n",
    "        predictions = predictions + onway\n",
    "        with open(\"Models/ERData/er_data_aieee_test1.txt\", 'a') as f:\n",
    "            f.write(f\"{i}\\n\")\n",
    "    labels = []\n",
    "    for pred in predictions:\n",
    "        if pred['label'] == 'LABEL_0':\n",
    "            labels.append(0)\n",
    "        else:\n",
    "            labels.append(1)\n",
    "    \n",
    "    true = list(df['Gender'])\n",
    "    report = classification_report(true, labels, digits = 4)\n",
    "    print(classification_report(true, labels, digits = 4))\n",
    "    with open(\"Models/ERData/er_data_aieee_test1.txt\", 'a') as f:\n",
    "            f.write(f\"{report}\\n\")\n",
    "    return report"
   ]
  },
  {
   "cell_type": "code",
   "execution_count": null,
   "id": "7d5cb5cd",
   "metadata": {},
   "outputs": [],
   "source": [
    "#  5318"
   ]
  },
  {
   "cell_type": "code",
   "execution_count": 25,
   "id": "ace41c70",
   "metadata": {},
   "outputs": [
    {
     "name": "stdout",
     "output_type": "stream",
     "text": [
      "              precision    recall  f1-score   support\n",
      "\n",
      "         0.0     0.8384    0.8801    0.8587    841103\n",
      "         1.0     0.8937    0.8559    0.8744    990385\n",
      "\n",
      "    accuracy                         0.8670   1831488\n",
      "   macro avg     0.8660    0.8680    0.8665   1831488\n",
      "weighted avg     0.8683    0.8670    0.8672   1831488\n",
      "\n"
     ]
    }
   ],
   "source": [
    "report1 = print_results(aieee_model, tokenizer, er_df[5318000:])"
   ]
  },
  {
   "cell_type": "code",
   "execution_count": 16,
   "id": "bcf8152a",
   "metadata": {},
   "outputs": [
    {
     "name": "stdout",
     "output_type": "stream",
     "text": [
      "              precision    recall  f1-score   support\n",
      "\n",
      "         0.0     0.7812    0.7227    0.7508    999994\n",
      "         1.0     0.7420    0.7975    0.7688   1000006\n",
      "\n",
      "    accuracy                         0.7601   2000000\n",
      "   macro avg     0.7616    0.7601    0.7598   2000000\n",
      "weighted avg     0.7616    0.7601    0.7598   2000000\n",
      "\n"
     ]
    }
   ],
   "source": [
    "report2 = print_results(aieee_model, tokenizer, er_df[:2000000])"
   ]
  },
  {
   "cell_type": "code",
   "execution_count": 23,
   "id": "3c7092b5",
   "metadata": {},
   "outputs": [
    {
     "name": "stdout",
     "output_type": "stream",
     "text": [
      "              precision    recall  f1-score   support\n",
      "\n",
      "         0.0     0.7543    0.7570    0.7557   1495365\n",
      "         1.0     0.8001    0.7977    0.7989   1822635\n",
      "\n",
      "    accuracy                         0.7794   3318000\n",
      "   macro avg     0.7772    0.7774    0.7773   3318000\n",
      "weighted avg     0.7794    0.7794    0.7794   3318000\n",
      "\n"
     ]
    }
   ],
   "source": [
    "report3 = print_results(aieee_model, tokenizer, er_df[2000000:5318000])"
   ]
  },
  {
   "cell_type": "code",
   "execution_count": 18,
   "id": "1c730f98",
   "metadata": {},
   "outputs": [
    {
     "name": "stdout",
     "output_type": "stream",
     "text": [
      "              precision    recall  f1-score   support\n",
      "\n",
      "         0.0     0.7812    0.7227    0.7508    999994\n",
      "         1.0     0.7420    0.7975    0.7688   1000006\n",
      "\n",
      "    accuracy                         0.7601   2000000\n",
      "   macro avg     0.7616    0.7601    0.7598   2000000\n",
      "weighted avg     0.7616    0.7601    0.7598   2000000\n",
      "\n"
     ]
    }
   ],
   "source": [
    "print(report2)"
   ]
  },
  {
   "cell_type": "code",
   "execution_count": null,
   "id": "cde660d3",
   "metadata": {},
   "outputs": [],
   "source": [
    "print(report3)"
   ]
  },
  {
   "cell_type": "code",
   "execution_count": null,
   "id": "be4bc4b3",
   "metadata": {},
   "outputs": [],
   "source": [
    "print(er_df.shape)"
   ]
  },
  {
   "cell_type": "code",
   "execution_count": 15,
   "id": "87e68b36",
   "metadata": {},
   "outputs": [
    {
     "data": {
      "text/plain": [
       "(7149489, 3)"
      ]
     },
     "execution_count": 15,
     "metadata": {},
     "output_type": "execute_result"
    }
   ],
   "source": [
    "er_df.shape"
   ]
  },
  {
   "cell_type": "code",
   "execution_count": 17,
   "id": "e231132b",
   "metadata": {},
   "outputs": [
    {
     "data": {
      "text/plain": [
       "(7149488, 3)"
      ]
     },
     "execution_count": 17,
     "metadata": {},
     "output_type": "execute_result"
    }
   ],
   "source": [
    "er_df.dropna().shape"
   ]
  },
  {
   "cell_type": "code",
   "execution_count": 18,
   "id": "ec906d0b",
   "metadata": {},
   "outputs": [],
   "source": [
    "er_df = er_df.dropna()"
   ]
  },
  {
   "cell_type": "code",
   "execution_count": 19,
   "id": "0168f072",
   "metadata": {},
   "outputs": [
    {
     "data": {
      "text/plain": [
       "(7149488, 3)"
      ]
     },
     "execution_count": 19,
     "metadata": {},
     "output_type": "execute_result"
    }
   ],
   "source": [
    "er_df.shape"
   ]
  },
  {
   "cell_type": "code",
   "execution_count": null,
   "id": "b7699e2c",
   "metadata": {},
   "outputs": [],
   "source": [
    "p"
   ]
  }
 ],
 "metadata": {
  "kernelspec": {
   "display_name": "Python [conda env:.conda-py38] *",
   "language": "python",
   "name": "conda-env-.conda-py38-py"
  },
  "language_info": {
   "codemirror_mode": {
    "name": "ipython",
    "version": 3
   },
   "file_extension": ".py",
   "mimetype": "text/x-python",
   "name": "python",
   "nbconvert_exporter": "python",
   "pygments_lexer": "ipython3",
   "version": "3.8.11"
  }
 },
 "nbformat": 4,
 "nbformat_minor": 5
}
