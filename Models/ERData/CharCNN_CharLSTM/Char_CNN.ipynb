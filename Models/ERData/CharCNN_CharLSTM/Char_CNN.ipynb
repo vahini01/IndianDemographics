{
 "cells": [
  {
   "cell_type": "markdown",
   "metadata": {
    "id": "P_xep_Kdsdz_"
   },
   "source": [
    "https://github.com/prdeepakbabu/Python/blob/master/Deep%20learning%20gender/Deep%20Learning%20(RNN%20-%20LSTMs)%20Predict%20Gender%20from%20Name.ipynb From this link with different data"
   ]
  },
  {
   "cell_type": "code",
   "execution_count": 3,
   "metadata": {},
   "outputs": [],
   "source": [
    "# os.environ['TF_FORCE_GPU_ALLOW_GROWTH'] = 'true'\n",
    "import os\n",
    "os.environ[\"CUDA_VISIBLE_DEVICES\"]=\"-1\"    \n",
    "import tensorflow as tf"
   ]
  },
  {
   "cell_type": "code",
   "execution_count": 4,
   "metadata": {},
   "outputs": [],
   "source": [
    "from tensorflow import keras"
   ]
  },
  {
   "cell_type": "code",
   "execution_count": 5,
   "metadata": {
    "id": "hZ3N3Q1AsbHh"
   },
   "outputs": [],
   "source": [
    "import tensorflow as tf\n",
    "# from __future__ import print_function\n",
    "\n",
    "from sklearn.preprocessing import OneHotEncoder\n",
    "from keras.layers.core import Dense, Activation, Dropout\n",
    "from keras.preprocessing import sequence\n",
    "from keras.models import Sequential, load_model\n",
    "from keras.layers import Dense, Embedding\n",
    "from keras.layers import LSTM, Embedding\n",
    "from keras.datasets import imdb\n",
    "import pandas as pd\n",
    "import numpy as np\n",
    "import os"
   ]
  },
  {
   "cell_type": "code",
   "execution_count": 6,
   "metadata": {
    "id": "7nsk0ZJQB1TC"
   },
   "outputs": [],
   "source": [
    "from keras.layers import Input, Embedding, Activation, Flatten, Dense\n",
    "from keras.layers import Conv1D, MaxPooling1D, Dropout\n",
    "from keras.models import Model\n",
    "from sklearn.metrics import classification_report"
   ]
  },
  {
   "cell_type": "code",
   "execution_count": 7,
   "metadata": {},
   "outputs": [
    {
     "name": "stdout",
     "output_type": "stream",
     "text": [
      "/home/souvic/mounted/btp/vahini/Name2Demographics\n"
     ]
    }
   ],
   "source": [
    "# PATH_TO_FOLDER = \"drive/MyDrive/Name2Demographics/\"\n",
    "PATH_TO_FOLDER = \"../../../\"\n",
    "%cd $PATH_TO_FOLDER"
   ]
  },
  {
   "cell_type": "code",
   "execution_count": 21,
   "metadata": {},
   "outputs": [],
   "source": [
    "import pandas as pd\n",
    "import numpy as np\n",
    "import matplotlib.pyplot as plt \n",
    "\n",
    "\n",
    "import sys  \n",
    "sys.path.insert(0, 'Models/ERData/PreProcessing/')\n",
    "\n",
    "from er_preprocess import *\n",
    "\n",
    "sys.path.insert(0, 'Models/PreProcessing/')\n",
    "\n",
    "from char_utils import *"
   ]
  },
  {
   "cell_type": "code",
   "execution_count": null,
   "metadata": {},
   "outputs": [],
   "source": [
    "DAMAN_CSV = \"Models/Data/ERData/daman.csv\"\n",
    "\n",
    "er_df = ERData_MajorityLabel()\n",
    "# e_df = ERStateData_with_freq(DAMAN_CSV)"
   ]
  },
  {
   "cell_type": "code",
   "execution_count": null,
   "metadata": {},
   "outputs": [],
   "source": [
    "# er_df = pd.DataFrame()\n",
    "# er_df['Name'] = e_df['Name']\n",
    "# er_df['Gender'] = e_df['new_labels']"
   ]
  },
  {
   "cell_type": "code",
   "execution_count": null,
   "metadata": {},
   "outputs": [],
   "source": [
    "er_df.groupby('Gender')['Gender'].value_counts()"
   ]
  },
  {
   "cell_type": "code",
   "execution_count": null,
   "metadata": {},
   "outputs": [],
   "source": [
    "train_x, train_y, test_x, test_y = splitERData(er_df, 'Name','Models/ERData/'+ 'char_lstm_er_oov.txt')"
   ]
  },
  {
   "cell_type": "code",
   "execution_count": null,
   "metadata": {},
   "outputs": [],
   "source": [
    "voc = vocab()"
   ]
  },
  {
   "cell_type": "code",
   "execution_count": 43,
   "metadata": {},
   "outputs": [
    {
     "data": {
      "text/plain": [
       "6353946"
      ]
     },
     "execution_count": 43,
     "metadata": {},
     "output_type": "execute_result"
    }
   ],
   "source": [
    "test_x.shape[0]+train_x.shape[0]"
   ]
  },
  {
   "cell_type": "markdown",
   "metadata": {},
   "source": [
    "#### https://stackoverflow.com/questions/59265920/this-tensorflow-binary-is-optimized-with-intelr-mkl-dnn-to-use-the-following-c\n",
    "\n",
    "https://stackoverflow.com/questions/53698035/failed-to-get-convolution-algorithm-this-is-probably-because-cudnn-failed-to-in "
   ]
  },
  {
   "cell_type": "code",
   "execution_count": null,
   "metadata": {},
   "outputs": [],
   "source": [
    "# os.environ['TF_FORCE_GPU_ALLOW_GROWTH'] = 'true'"
   ]
  },
  {
   "cell_type": "code",
   "execution_count": 28,
   "metadata": {},
   "outputs": [],
   "source": [
    "MAXLEN_NAME_CHAR_CNN = 30\n",
    "inputs = Input(MAXLEN_NAME_CHAR_CNN)\n",
    "x = Embedding(len(voc), len(voc))(inputs)\n",
    "x = Conv1D(filters = 256, kernel_size = 7, activation = 'relu')(x)\n",
    "x = Flatten()(x)\n",
    "predictions = Dense(2, activation='softmax')(x)\n",
    "cnn_model = Model(inputs=inputs, outputs=predictions)\n",
    "cnn_model.compile(loss='categorical_crossentropy', optimizer='adam',metrics=['accuracy'])"
   ]
  },
  {
   "cell_type": "code",
   "execution_count": 29,
   "metadata": {},
   "outputs": [
    {
     "name": "stdout",
     "output_type": "stream",
     "text": [
      "Model: \"model_2\"\n",
      "_________________________________________________________________\n",
      " Layer (type)                Output Shape              Param #   \n",
      "=================================================================\n",
      " input_3 (InputLayer)        [(None, 30)]              0         \n",
      "                                                                 \n",
      " embedding_2 (Embedding)     (None, 30, 28)            784       \n",
      "                                                                 \n",
      " conv1d_2 (Conv1D)           (None, 24, 256)           50432     \n",
      "                                                                 \n",
      " flatten_2 (Flatten)         (None, 6144)              0         \n",
      "                                                                 \n",
      " dense_2 (Dense)             (None, 2)                 12290     \n",
      "                                                                 \n",
      "=================================================================\n",
      "Total params: 63,506\n",
      "Trainable params: 63,506\n",
      "Non-trainable params: 0\n",
      "_________________________________________________________________\n"
     ]
    }
   ],
   "source": [
    "cnn_model.summary()"
   ]
  },
  {
   "cell_type": "code",
   "execution_count": 36,
   "metadata": {
    "scrolled": false
   },
   "outputs": [
    {
     "name": "stdout",
     "output_type": "stream",
     "text": [
      "Epoch 1/15\n",
      "4448/4448 [==============================] - 285s 64ms/step - loss: 0.2229 - accuracy: 0.9104 - val_loss: 0.2331 - val_accuracy: 0.9063\n",
      "Epoch 2/15\n",
      "4448/4448 [==============================] - 270s 61ms/step - loss: 0.2223 - accuracy: 0.9106 - val_loss: 0.2331 - val_accuracy: 0.9063\n",
      "Epoch 3/15\n",
      "4448/4448 [==============================] - 274s 62ms/step - loss: 0.2217 - accuracy: 0.9110 - val_loss: 0.2326 - val_accuracy: 0.9065\n",
      "Epoch 4/15\n",
      "4448/4448 [==============================] - 275s 62ms/step - loss: 0.2212 - accuracy: 0.9112 - val_loss: 0.2328 - val_accuracy: 0.9066\n",
      "Epoch 5/15\n",
      "4448/4448 [==============================] - 277s 62ms/step - loss: 0.2209 - accuracy: 0.9113 - val_loss: 0.2328 - val_accuracy: 0.9065\n",
      "Epoch 6/15\n",
      "4448/4448 [==============================] - 274s 62ms/step - loss: 0.2207 - accuracy: 0.9114 - val_loss: 0.2331 - val_accuracy: 0.9067\n",
      "Epoch 7/15\n",
      "4448/4448 [==============================] - 273s 61ms/step - loss: 0.2204 - accuracy: 0.9116 - val_loss: 0.2323 - val_accuracy: 0.9068\n",
      "Epoch 8/15\n",
      "4448/4448 [==============================] - 273s 61ms/step - loss: 0.2202 - accuracy: 0.9117 - val_loss: 0.2326 - val_accuracy: 0.9068\n",
      "Epoch 9/15\n",
      "4448/4448 [==============================] - 273s 61ms/step - loss: 0.2201 - accuracy: 0.9117 - val_loss: 0.2321 - val_accuracy: 0.9071\n",
      "Epoch 10/15\n",
      "4448/4448 [==============================] - 271s 61ms/step - loss: 0.2199 - accuracy: 0.9118 - val_loss: 0.2324 - val_accuracy: 0.9070\n",
      "Epoch 11/15\n",
      "4448/4448 [==============================] - 273s 61ms/step - loss: 0.2198 - accuracy: 0.9119 - val_loss: 0.2328 - val_accuracy: 0.9067\n",
      "Epoch 12/15\n",
      "4448/4448 [==============================] - 263s 59ms/step - loss: 0.2196 - accuracy: 0.9120 - val_loss: 0.2331 - val_accuracy: 0.9067\n",
      "Epoch 13/15\n",
      "4448/4448 [==============================] - 262s 59ms/step - loss: 0.2194 - accuracy: 0.9120 - val_loss: 0.2323 - val_accuracy: 0.9068\n",
      "Epoch 14/15\n",
      "4448/4448 [==============================] - 262s 59ms/step - loss: 0.2193 - accuracy: 0.9120 - val_loss: 0.2323 - val_accuracy: 0.9069\n",
      "Epoch 15/15\n",
      "4448/4448 [==============================] - 262s 59ms/step - loss: 0.2192 - accuracy: 0.9121 - val_loss: 0.2322 - val_accuracy: 0.9068\n"
     ]
    },
    {
     "data": {
      "text/plain": [
       "<keras.callbacks.History at 0x7f46ce829dc0>"
      ]
     },
     "execution_count": 36,
     "metadata": {},
     "output_type": "execute_result"
    }
   ],
   "source": [
    "batch_size=1000\n",
    "cnn_model.fit(train_x, train_y,batch_size=batch_size,epochs=15,validation_data=(test_x, test_y))"
   ]
  },
  {
   "cell_type": "code",
   "execution_count": null,
   "metadata": {},
   "outputs": [],
   "source": [
    "# import keras\n",
    "# import tensorflow as tf\n",
    "# import tensorflow.keras.backend as K\n",
    "\n",
    "\n",
    "# config = tf.compat.v1.ConfigProto()\n",
    "# config.gpu_options.per_process_gpu_memory_fraction = 0.9  # 0.6 sometimes works better for folks\n",
    "# tf.keras.backend.tensorflow_backend.set_session(tf.Session(config=config))"
   ]
  },
  {
   "cell_type": "code",
   "execution_count": 37,
   "metadata": {},
   "outputs": [
    {
     "name": "stdout",
     "output_type": "stream",
     "text": [
      "59568/59568 [==============================] - 133s 2ms/step - loss: 0.2322 - accuracy: 0.9068\n",
      "Test score: 0.2321975827217102\n",
      "Test accuracy: 0.9068312644958496\n"
     ]
    }
   ],
   "source": [
    "score, acc = cnn_model.evaluate(test_x, test_y)\n",
    "print('Test score:', score)\n",
    "print('Test accuracy:', acc)"
   ]
  },
  {
   "cell_type": "code",
   "execution_count": 38,
   "metadata": {},
   "outputs": [
    {
     "name": "stdout",
     "output_type": "stream",
     "text": [
      "------------------RESULTS-------------------------------\n",
      "              precision    recall  f1-score   support\n",
      "\n",
      "        Male     0.9010    0.9259    0.9133   1010138\n",
      "      Female     0.9138    0.8853    0.8993    896016\n",
      "\n",
      "    accuracy                         0.9068   1906154\n",
      "   macro avg     0.9074    0.9056    0.9063   1906154\n",
      "weighted avg     0.9070    0.9068    0.9067   1906154\n",
      "\n",
      "--------------------------------------------------------\n"
     ]
    }
   ],
   "source": [
    "pred = cnn_model.predict(np.asarray(test_x))\n",
    "y_pred = np.argmax(pred, axis=1)\n",
    "y_true = np.argmax(test_y, axis=1)\n",
    "\n",
    "target_names = ['Male','Female']\n",
    "\n",
    "print(\"------------------RESULTS-------------------------------\")\n",
    "print(classification_report(y_true, y_pred, target_names=target_names, digits=4))\n",
    "print(\"--------------------------------------------------------\")"
   ]
  },
  {
   "cell_type": "code",
   "execution_count": 39,
   "metadata": {},
   "outputs": [
    {
     "name": "stdout",
     "output_type": "stream",
     "text": [
      "INFO:tensorflow:Assets written to: Models/ERData/CharCNN_CharLSTM/SavedModel/CharCNN/assets\n"
     ]
    }
   ],
   "source": [
    "filename = \"Models/ERData/CharCNN_CharLSTM/SavedModel/CharCNN/\"\n",
    "cnn_model.save(filename)"
   ]
  },
  {
   "cell_type": "code",
   "execution_count": 40,
   "metadata": {},
   "outputs": [
    {
     "data": {
      "text/plain": [
       "'/home/souvic/mounted/btp/vahini/Name2Demographics'"
      ]
     },
     "execution_count": 40,
     "metadata": {},
     "output_type": "execute_result"
    }
   ],
   "source": [
    "%pwd"
   ]
  },
  {
   "cell_type": "code",
   "execution_count": 46,
   "metadata": {},
   "outputs": [],
   "source": [
    "inputs = Input(MAXLEN_NAME_CHAR_LSTM)\n",
    "x = Embedding(len(voc), len(voc))(inputs)\n",
    "x = LSTM(512, return_sequences=True, activation='tanh')(x)\n",
    "x = Dropout(0.2)(x)\n",
    "x = LSTM(512, return_sequences=False, activation='tanh')(x)\n",
    "x = Dropout(0.2)(x)\n",
    "predictions = Dense(2, activation='softmax')(x)\n",
    "model = Model(inputs=inputs, outputs=predictions)\n",
    "model.compile(loss='categorical_crossentropy', optimizer='adam',metrics=['accuracy'])"
   ]
  },
  {
   "cell_type": "code",
   "execution_count": null,
   "metadata": {},
   "outputs": [
    {
     "name": "stdout",
     "output_type": "stream",
     "text": [
      "Epoch 1/15\n",
      "4448/4448 [==============================] - 14401s 3s/step - loss: 0.3582 - accuracy: 0.8354 - val_loss: 0.2503 - val_accuracy: 0.8949\n",
      "Epoch 2/15\n",
      "4448/4448 [==============================] - 13982s 3s/step - loss: 0.2237 - accuracy: 0.9078 - val_loss: 0.2073 - val_accuracy: 0.9156\n",
      "Epoch 3/15\n",
      "1602/4448 [=========>....................] - ETA: 2:10:20 - loss: 0.1979 - accuracy: 0.9199"
     ]
    }
   ],
   "source": [
    "batch_size=1000\n",
    "model.fit(train_x, train_y,batch_size=batch_size,epochs=15,validation_data=(test_x, test_y))"
   ]
  },
  {
   "cell_type": "code",
   "execution_count": null,
   "metadata": {},
   "outputs": [],
   "source": [
    "score, acc = model.evaluate(test_x, test_y)"
   ]
  },
  {
   "cell_type": "code",
   "execution_count": 60,
   "metadata": {},
   "outputs": [
    {
     "name": "stdout",
     "output_type": "stream",
     "text": [
      "1\n"
     ]
    }
   ],
   "source": [
    "print(1)"
   ]
  },
  {
   "cell_type": "code",
   "execution_count": 57,
   "metadata": {},
   "outputs": [
    {
     "name": "stdout",
     "output_type": "stream",
     "text": [
      "Test score: 0.2195446640253067\n",
      "Test accuracy: 0.92354816198349\n"
     ]
    }
   ],
   "source": [
    "print('Test score:', score)\n",
    "print('Test accuracy:', acc)"
   ]
  },
  {
   "cell_type": "code",
   "execution_count": 58,
   "metadata": {},
   "outputs": [
    {
     "name": "stdout",
     "output_type": "stream",
     "text": [
      "------------------RESULTS-------------------------------\n",
      "              precision    recall  f1-score   support\n",
      "\n",
      "        Male     0.9262    0.9298    0.9280   1010138\n",
      "      Female     0.9205    0.9165    0.9185    896016\n",
      "\n",
      "    accuracy                         0.9235   1906154\n",
      "   macro avg     0.9234    0.9231    0.9233   1906154\n",
      "weighted avg     0.9235    0.9235    0.9235   1906154\n",
      "\n",
      "--------------------------------------------------------\n"
     ]
    }
   ],
   "source": [
    "pred = model.predict(np.asarray(test_x))\n",
    "y_pred = np.argmax(pred, axis=1)\n",
    "y_true = np.argmax(test_y, axis=1)\n",
    "\n",
    "target_names = ['Male','Female']\n",
    "\n",
    "print(\"------------------RESULTS-------------------------------\")\n",
    "print(classification_report(y_true, y_pred, target_names=target_names, digits=4))\n",
    "print(\"--------------------------------------------------------\")"
   ]
  },
  {
   "cell_type": "code",
   "execution_count": 59,
   "metadata": {},
   "outputs": [],
   "source": [
    "report = classification_report(y_true, y_pred, target_names=target_names, digits=4)"
   ]
  },
  {
   "cell_type": "code",
   "execution_count": null,
   "metadata": {},
   "outputs": [],
   "source": []
  }
 ],
 "metadata": {
  "accelerator": "GPU",
  "colab": {
   "collapsed_sections": [],
   "name": "Char CNN with segregated data",
   "provenance": []
  },
  "kernelspec": {
   "display_name": "Python [conda env:.conda-py38] *",
   "language": "python",
   "name": "conda-env-.conda-py38-py"
  },
  "language_info": {
   "codemirror_mode": {
    "name": "ipython",
    "version": 3
   },
   "file_extension": ".py",
   "mimetype": "text/x-python",
   "name": "python",
   "nbconvert_exporter": "python",
   "pygments_lexer": "ipython3",
   "version": "3.8.11"
  }
 },
 "nbformat": 4,
 "nbformat_minor": 1
}
