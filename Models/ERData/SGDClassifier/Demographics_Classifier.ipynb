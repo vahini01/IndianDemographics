{
 "cells": [
  {
   "cell_type": "markdown",
   "metadata": {
    "id": "GS4aYvEoCSCe"
   },
   "source": [
    "### Import Required Modules"
   ]
  },
  {
   "cell_type": "code",
   "execution_count": 1,
   "metadata": {},
   "outputs": [],
   "source": [
    "import pandas as pd\n",
    "import numpy as np\n",
    "from sklearn.feature_extraction.text import CountVectorizer\n",
    "from sklearn.feature_extraction.text import TfidfTransformer, TfidfVectorizer\n",
    "from sklearn.linear_model import SGDClassifier\n",
    "from sklearn.pipeline import Pipeline\n",
    "from sklearn.model_selection import train_test_split\n",
    "from sklearn.naive_bayes import MultinomialNB\n",
    "from sklearn.metrics import classification_report\n",
    "import pickle"
   ]
  },
  {
   "cell_type": "code",
   "execution_count": 2,
   "metadata": {},
   "outputs": [],
   "source": [
    "from google.colab import drive\n",
    "drive.mount('/content/drive')"
   ]
  },
  {
   "cell_type": "code",
   "execution_count": 2,
   "metadata": {},
   "outputs": [
    {
     "name": "stdout",
     "output_type": "stream",
     "text": [
      "/home/souvic/mounted/btp/vahini/Name2Demographics\n"
     ]
    }
   ],
   "source": [
    "# PATH_TO_FOLDER = \"drive/MyDrive/Name2Demographics/\"\n",
    "PATH_TO_FOLDER = \"../../../\"\n",
    "%cd $PATH_TO_FOLDER"
   ]
  },
  {
   "cell_type": "code",
   "execution_count": 3,
   "metadata": {},
   "outputs": [],
   "source": [
    "import sys  \n",
    "sys.path.insert(0, 'Models/ERData/PreProcessing/')\n",
    "\n",
    "from er_preprocess import *"
   ]
  },
  {
   "cell_type": "markdown",
   "metadata": {},
   "source": [
    "### Train Model on Data"
   ]
  },
  {
   "cell_type": "code",
   "execution_count": 4,
   "metadata": {},
   "outputs": [],
   "source": [
    "er_df = ERData_MajorityLabel()"
   ]
  },
  {
   "cell_type": "code",
   "execution_count": 5,
   "metadata": {},
   "outputs": [],
   "source": [
    "train, test = train_test_split(er_df, test_size=0.3)"
   ]
  },
  {
   "cell_type": "code",
   "execution_count": 6,
   "metadata": {},
   "outputs": [
    {
     "name": "stdout",
     "output_type": "stream",
     "text": [
      "(5004642, 2) : (2144847, 2)\n"
     ]
    }
   ],
   "source": [
    "print(train.shape, \":\", test.shape)"
   ]
  },
  {
   "cell_type": "code",
   "execution_count": null,
   "metadata": {},
   "outputs": [],
   "source": [
    "# train, val, test = splitTrainTestVal(er_df[:500000], 0.8 ,0, 'Name')"
   ]
  },
  {
   "cell_type": "code",
   "execution_count": null,
   "metadata": {},
   "outputs": [],
   "source": [
    "# train1, _, test1 = splitTrainTestVal(er_df[100000:500000], 0.8 ,0, 'Name')"
   ]
  },
  {
   "cell_type": "code",
   "execution_count": 16,
   "metadata": {
    "id": "2n9TyPSMhbjk"
   },
   "outputs": [],
   "source": [
    "sgd_pipe = Pipeline([\n",
    "    ('vect', CountVectorizer(ngram_range=(1, 6), lowercase = True, stop_words = \"english\")),\n",
    "    ('tfidf', TfidfTransformer(sublinear_tf = True)),\n",
    "    ('clf', SGDClassifier(class_weight=\"balanced\",loss=\"squared_loss\",max_iter=10000, random_state=42, validation_fraction = 0.3, average=1000\n",
    "                          , learning_rate='adaptive', eta0=0.003))\n",
    "])"
   ]
  },
  {
   "cell_type": "code",
   "execution_count": 17,
   "metadata": {
    "colab": {
     "base_uri": "https://localhost:8080/"
    },
    "id": "nOQTKv6ghgCO",
    "outputId": "a682131d-9fae-4247-e4fc-f8d12ad4a985"
   },
   "outputs": [
    {
     "data": {
      "text/plain": [
       "Pipeline(steps=[('vect',\n",
       "                 CountVectorizer(ngram_range=(1, 6), stop_words='english')),\n",
       "                ('tfidf', TfidfTransformer(sublinear_tf=True)),\n",
       "                ('clf',\n",
       "                 SGDClassifier(average=1000, class_weight='balanced',\n",
       "                               eta0=0.003, learning_rate='adaptive',\n",
       "                               loss='squared_loss', max_iter=10000,\n",
       "                               random_state=42, validation_fraction=0.3))])"
      ]
     },
     "execution_count": 17,
     "metadata": {},
     "output_type": "execute_result"
    }
   ],
   "source": [
    "sgd_pipe.fit(train['Name'].values.astype('str'), train['Gender'].values.astype('str'))"
   ]
  },
  {
   "cell_type": "code",
   "execution_count": 18,
   "metadata": {
    "colab": {
     "base_uri": "https://localhost:8080/"
    },
    "id": "PVD1IbqhhgHS",
    "outputId": "88d212f9-161c-4830-f8cc-8afccc81a846"
   },
   "outputs": [],
   "source": [
    "y_pred=sgd_pipe.predict(test['Name'].values.astype('str'))\n",
    "# print(classification_report(test['Gender'], y_pred, target_names = ['Male', 'Female']))"
   ]
  },
  {
   "cell_type": "code",
   "execution_count": 19,
   "metadata": {},
   "outputs": [],
   "source": [
    "y_pred = y_pred.astype(str)"
   ]
  },
  {
   "cell_type": "code",
   "execution_count": 20,
   "metadata": {},
   "outputs": [
    {
     "name": "stdout",
     "output_type": "stream",
     "text": [
      "              precision    recall  f1-score   support\n",
      "\n",
      "         0.0     0.6574    0.9056    0.7618   1000777\n",
      "         1.0     0.8768    0.5872    0.7033   1144070\n",
      "\n",
      "    accuracy                         0.7358   2144847\n",
      "   macro avg     0.7671    0.7464    0.7326   2144847\n",
      "weighted avg     0.7744    0.7358    0.7306   2144847\n",
      "\n"
     ]
    }
   ],
   "source": [
    "print(classification_report(test['Gender'].values.astype('str'), y_pred, digits=4))"
   ]
  },
  {
   "cell_type": "markdown",
   "metadata": {},
   "source": [
    "### Save Model"
   ]
  },
  {
   "cell_type": "code",
   "execution_count": 21,
   "metadata": {},
   "outputs": [],
   "source": [
    "filename = \"Models/ERData/SGDClassifier/SavedModel/ERModel.pkl\"\n",
    "pickle.dump(sgd_pipe, open(filename, 'wb'))"
   ]
  },
  {
   "cell_type": "code",
   "execution_count": null,
   "metadata": {},
   "outputs": [],
   "source": []
  }
 ],
 "metadata": {
  "colab": {
   "collapsed_sections": [],
   "name": "Demographics_Classifier",
   "provenance": []
  },
  "kernelspec": {
   "display_name": "Python [conda env:.conda-py38] *",
   "language": "python",
   "name": "conda-env-.conda-py38-py"
  },
  "language_info": {
   "codemirror_mode": {
    "name": "ipython",
    "version": 3
   },
   "file_extension": ".py",
   "mimetype": "text/x-python",
   "name": "python",
   "nbconvert_exporter": "python",
   "pygments_lexer": "ipython3",
   "version": "3.8.11"
  }
 },
 "nbformat": 4,
 "nbformat_minor": 1
}
