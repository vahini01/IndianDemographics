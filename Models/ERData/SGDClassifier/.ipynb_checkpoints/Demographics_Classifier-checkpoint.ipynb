{
 "cells": [
  {
   "cell_type": "markdown",
   "metadata": {
    "id": "GS4aYvEoCSCe"
   },
   "source": [
    "### Import Required Modules"
   ]
  },
  {
   "cell_type": "code",
   "execution_count": null,
   "metadata": {},
   "outputs": [],
   "source": [
    "# ../CBSEData/cbse_gender_names_list.csv"
   ]
  },
  {
   "cell_type": "code",
   "execution_count": 3,
   "metadata": {},
   "outputs": [],
   "source": [
    "import pandas as pd\n",
    "import numpy as np\n",
    "from sklearn.feature_extraction.text import CountVectorizer\n",
    "from sklearn.feature_extraction.text import TfidfTransformer, TfidfVectorizer\n",
    "from sklearn.linear_model import SGDClassifier\n",
    "from sklearn.pipeline import Pipeline\n",
    "from sklearn.model_selection import train_test_split\n",
    "from sklearn.naive_bayes import MultinomialNB\n",
    "from sklearn.metrics import classification_report\n",
    "import pickle"
   ]
  },
  {
   "cell_type": "code",
   "execution_count": 4,
   "metadata": {},
   "outputs": [],
   "source": [
    "import sys  \n",
    "sys.path.insert(0, '../PreProcessing/')\n",
    "\n",
    "from utils import *\n",
    "from parse_df import *\n",
    "from split_name import *"
   ]
  },
  {
   "cell_type": "markdown",
   "metadata": {},
   "source": [
    "### Train Model on Data"
   ]
  },
  {
   "cell_type": "code",
   "execution_count": 39,
   "metadata": {},
   "outputs": [
    {
     "name": "stdout",
     "output_type": "stream",
     "text": [
      "Gender\n",
      "Boy     114088\n",
      "Girl     91456\n",
      "Name: Name, dtype: int64\n"
     ]
    }
   ],
   "source": [
    "cbse_df = getCBSEData(False)\n",
    "cbse_df = cleanDf(cbse_df, 'Name')"
   ]
  },
  {
   "cell_type": "code",
   "execution_count": null,
   "metadata": {},
   "outputs": [],
   "source": [
    "train, val, test = splitTrainTestVal(cbse_df, 0.8 ,0, 'Name')"
   ]
  },
  {
   "cell_type": "code",
   "execution_count": null,
   "metadata": {
    "id": "2n9TyPSMhbjk"
   },
   "outputs": [],
   "source": [
    "sgd_pipe = Pipeline([\n",
    "    ('vect', CountVectorizer(ngram_range=(1, 6), lowercase = True, stop_words = \"english\")),\n",
    "    ('tfidf', TfidfTransformer(sublinear_tf = True)),\n",
    "    ('clf', SGDClassifier(class_weight=\"balanced\",loss=\"squared_loss\",max_iter=10000, random_state=None, validation_fraction = 0.3, average=1000))\n",
    "])"
   ]
  },
  {
   "cell_type": "code",
   "execution_count": null,
   "metadata": {
    "colab": {
     "base_uri": "https://localhost:8080/"
    },
    "id": "nOQTKv6ghgCO",
    "outputId": "a682131d-9fae-4247-e4fc-f8d12ad4a985"
   },
   "outputs": [],
   "source": [
    "sgd_pipe.fit(train['Name'].values.astype('str'), train['Gender'].values.astype('str'))"
   ]
  },
  {
   "cell_type": "code",
   "execution_count": null,
   "metadata": {
    "colab": {
     "base_uri": "https://localhost:8080/"
    },
    "id": "PVD1IbqhhgHS",
    "outputId": "88d212f9-161c-4830-f8cc-8afccc81a846"
   },
   "outputs": [],
   "source": [
    "y_pred=sgd_pipe.predict(test['Name'].values.astype('str'))\n",
    "print(classification_report(test['Gender'], y_pred, target_names = ['Male', 'Female']))"
   ]
  },
  {
   "cell_type": "markdown",
   "metadata": {},
   "source": [
    "### Save Model"
   ]
  },
  {
   "cell_type": "code",
   "execution_count": null,
   "metadata": {},
   "outputs": [],
   "source": [
    "filename = \"SavedModels/SGDClassifier/CBSEModel.pkl\"\n",
    "pickle.dump(sgd_pipe, open(filename, 'wb'))"
   ]
  },
  {
   "cell_type": "markdown",
   "metadata": {},
   "source": [
    "### Testing the above Model on ElectoralRolls Dataset"
   ]
  },
  {
   "cell_type": "code",
   "execution_count": 38,
   "metadata": {},
   "outputs": [],
   "source": [
    "filename = \"SavedModels/SGDClassifier/CBSEModel.pkl\"\n",
    "pipe = pickle.load(open(filename, 'rb'))"
   ]
  },
  {
   "cell_type": "code",
   "execution_count": 41,
   "metadata": {},
   "outputs": [
    {
     "name": "stdout",
     "output_type": "stream",
     "text": [
      "              precision    recall  f1-score   support\n",
      "\n",
      "        Male       0.91      0.94      0.92    114089\n",
      "      Female       0.92      0.88      0.90     91456\n",
      "\n",
      "    accuracy                           0.91    205545\n",
      "   macro avg       0.91      0.91      0.91    205545\n",
      "weighted avg       0.91      0.91      0.91    205545\n",
      "\n"
     ]
    }
   ],
   "source": [
    "y_pred = pipe.predict(cbse_df['Name'].values.astype('str'))\n",
    "print(classification_report(cbse_df['Gender'].values.astype('str'), y_pred, target_names = ['Male', 'Female'] ))"
   ]
  },
  {
   "cell_type": "code",
   "execution_count": 34,
   "metadata": {},
   "outputs": [],
   "source": [
    "def testData(df, model):\n",
    "    df = preprocessData(df)\n",
    "    print(\"-------------------STATS OF DATA-----------------------\")\n",
    "    print(\"SHAPE: \", df.shape)\n",
    "    print(df.groupby('Gender')['Name'].count())\n",
    "    print(\"-------------------------------------------------------\")\n",
    "    df['Gender'] = df['Gender'].replace({'FEMALE':'Girl', 'MALE':'Boy'})\n",
    "    print(\"------------------RESULTS-------------------------------\")\n",
    "    y_pred = model.predict(df['Name'].values.astype('str'))\n",
    "    print(classification_report(df['Gender'].values.astype('str'), y_pred, target_names = ['Male', 'Female'] ))\n",
    "    print(\"--------------------------------------------------------\")"
   ]
  },
  {
   "cell_type": "code",
   "execution_count": 35,
   "metadata": {},
   "outputs": [],
   "source": [
    "def stateResults(path, pipe):\n",
    "    df = pd.read_csv(path, dtype={'name':str})\n",
    "    testData(df, pipe)"
   ]
  },
  {
   "cell_type": "code",
   "execution_count": 37,
   "metadata": {},
   "outputs": [
    {
     "name": "stdout",
     "output_type": "stream",
     "text": [
      "-------------------STATS OF DATA-----------------------\n",
      "SHAPE:  (164362, 2)\n",
      "Gender\n",
      "FEMALE     54188\n",
      "MALE      110174\n",
      "Name: Name, dtype: int64\n",
      "-------------------------------------------------------\n",
      "------------------RESULTS-------------------------------\n",
      "              precision    recall  f1-score   support\n",
      "\n",
      "        Male       0.79      0.74      0.76    110174\n",
      "      Female       0.53      0.61      0.57     54188\n",
      "\n",
      "    accuracy                           0.69    164362\n",
      "   macro avg       0.66      0.67      0.67    164362\n",
      "weighted avg       0.71      0.69      0.70    164362\n",
      "\n",
      "--------------------------------------------------------\n"
     ]
    }
   ],
   "source": [
    "stateResults(DAMAN_CSV, pipe)"
   ]
  },
  {
   "cell_type": "code",
   "execution_count": 11,
   "metadata": {},
   "outputs": [
    {
     "name": "stdout",
     "output_type": "stream",
     "text": [
      "-------------------STATS OF DATA-----------------------\n",
      "SHAPE:  (1689592, 4)\n",
      "Gender\n",
      "FEMALE     617321\n",
      "MALE      1072271\n",
      "Name: Name, dtype: int64\n",
      "-------------------------------------------------------\n",
      "------------------RESULTS-------------------------------\n",
      "              precision    recall  f1-score   support\n",
      "\n",
      "        Male       0.91      0.35      0.50   1072271\n",
      "      Female       0.45      0.94      0.61    617321\n",
      "\n",
      "    accuracy                           0.56   1689592\n",
      "   macro avg       0.68      0.64      0.56   1689592\n",
      "weighted avg       0.75      0.56      0.54   1689592\n",
      "\n",
      "--------------------------------------------------------\n"
     ]
    }
   ],
   "source": [
    "stateResults(MANIPUR_CSV, pipe)"
   ]
  },
  {
   "cell_type": "code",
   "execution_count": 24,
   "metadata": {},
   "outputs": [
    {
     "name": "stderr",
     "output_type": "stream",
     "text": [
      "/tmp/ipykernel_17810/664595804.py:1: DtypeWarning: Columns (10,11,12,13,14,15,17,18,19,21,23,24,25,27,28,30,31,32,33,35,37,39,40,42,43,45,46,48,49,51,52,54,55,57,58,59,60,62,64,65,66,67,68,69,70,72,73,74,75,77,78,79,80,81,82,84,85,87,88,89,90,92,94,95,97,99,100,102,103,105,106,107,109,110,112,113,115,116,117,118,119,120,121,122,123,125,126,128,129,130,131,133,135,136,138,139,140,141,142,143,145,146,147,148,149,150,151,152,154,155,156,157,158,159,161,163,164,165,166,168,169,171,172,174,175,176,177,178,180,181,182,183,185,186,187,188,189,190,191,192,193,194,195,196,197,198,199,200,201,203,204,205,206,208,209,210,211,212,213,214,215,217,218,219,220,221,222,223,224,225,226,227) have mixed types.Specify dtype option on import or set low_memory=False.\n",
      "  stateResults(MEGHALAYA_CSV, pipe)\n"
     ]
    },
    {
     "name": "stdout",
     "output_type": "stream",
     "text": [
      "-------------------STATS OF DATA-----------------------\n",
      "SHAPE:  (2113858, 4)\n",
      "Gender\n",
      "FEMALE     844463\n",
      "MALE      1269395\n",
      "Name: Name, dtype: int64\n",
      "-------------------------------------------------------\n",
      "------------------RESULTS-------------------------------\n",
      "              precision    recall  f1-score   support\n",
      "\n",
      "        Male       0.83      0.18      0.29   1269395\n",
      "      Female       0.43      0.95      0.60    844463\n",
      "\n",
      "    accuracy                           0.49   2113858\n",
      "   macro avg       0.63      0.56      0.44   2113858\n",
      "weighted avg       0.67      0.49      0.41   2113858\n",
      "\n",
      "--------------------------------------------------------\n"
     ]
    }
   ],
   "source": [
    "stateResults(MEGHALAYA_CSV, pipe)"
   ]
  },
  {
   "cell_type": "code",
   "execution_count": 13,
   "metadata": {},
   "outputs": [
    {
     "name": "stdout",
     "output_type": "stream",
     "text": [
      "-------------------STATS OF DATA-----------------------\n",
      "SHAPE:  (816488, 4)\n",
      "Gender\n",
      "FEMALE    265382\n",
      "MALE      551106\n",
      "Name: Name, dtype: int64\n",
      "-------------------------------------------------------\n",
      "------------------RESULTS-------------------------------\n",
      "              precision    recall  f1-score   support\n",
      "\n",
      "        Male       0.92      0.18      0.30    551106\n",
      "      Female       0.36      0.97      0.53    265382\n",
      "\n",
      "    accuracy                           0.43    816488\n",
      "   macro avg       0.64      0.57      0.41    816488\n",
      "weighted avg       0.74      0.43      0.37    816488\n",
      "\n",
      "--------------------------------------------------------\n"
     ]
    }
   ],
   "source": [
    "stateResults(NAGALAND_CSV, pipe)"
   ]
  },
  {
   "cell_type": "code",
   "execution_count": 14,
   "metadata": {},
   "outputs": [
    {
     "name": "stdout",
     "output_type": "stream",
     "text": [
      "-------------------STATS OF DATA-----------------------\n",
      "SHAPE:  (815744, 4)\n",
      "Gender\n",
      "FEMALE    300756\n",
      "MALE      514987\n",
      "Name: Name, dtype: int64\n",
      "-------------------------------------------------------\n",
      "------------------RESULTS-------------------------------\n",
      "              precision    recall  f1-score   support\n",
      "\n",
      "        Male       0.84      0.24      0.37    514988\n",
      "      Female       0.41      0.92      0.57    300756\n",
      "\n",
      "    accuracy                           0.49    815744\n",
      "   macro avg       0.63      0.58      0.47    815744\n",
      "weighted avg       0.68      0.49      0.45    815744\n",
      "\n",
      "--------------------------------------------------------\n"
     ]
    }
   ],
   "source": [
    "stateResults(ARUNACHAL_CSV, pipe)"
   ]
  },
  {
   "cell_type": "code",
   "execution_count": 15,
   "metadata": {},
   "outputs": [
    {
     "name": "stdout",
     "output_type": "stream",
     "text": [
      "-------------------STATS OF DATA-----------------------\n",
      "SHAPE:  (239927, 4)\n",
      "Gender\n",
      "FEMALE     79105\n",
      "MALE      160822\n",
      "Name: Name, dtype: int64\n",
      "-------------------------------------------------------\n",
      "------------------RESULTS-------------------------------\n",
      "              precision    recall  f1-score   support\n",
      "\n",
      "        Male       0.88      0.62      0.73    160822\n",
      "      Female       0.51      0.82      0.63     79105\n",
      "\n",
      "    accuracy                           0.69    239927\n",
      "   macro avg       0.70      0.72      0.68    239927\n",
      "weighted avg       0.76      0.69      0.69    239927\n",
      "\n",
      "--------------------------------------------------------\n"
     ]
    }
   ],
   "source": [
    "stateResults(SIKKIM_CSV, pipe)"
   ]
  },
  {
   "cell_type": "code",
   "execution_count": 17,
   "metadata": {},
   "outputs": [
    {
     "name": "stdout",
     "output_type": "stream",
     "text": [
      "-------------------STATS OF DATA-----------------------\n",
      "SHAPE:  (517013, 4)\n",
      "Gender\n",
      "FEMALE    189232\n",
      "MALE      327781\n",
      "Name: Name, dtype: int64\n",
      "-------------------------------------------------------\n",
      "------------------RESULTS-------------------------------\n",
      "              precision    recall  f1-score   support\n",
      "\n",
      "        Male       0.83      0.54      0.65    327781\n",
      "      Female       0.50      0.81      0.62    189232\n",
      "\n",
      "    accuracy                           0.64    517013\n",
      "   macro avg       0.67      0.67      0.64    517013\n",
      "weighted avg       0.71      0.64      0.64    517013\n",
      "\n",
      "--------------------------------------------------------\n"
     ]
    }
   ],
   "source": [
    "goa_df = getStateData(listdir(GOA),GOA)\n",
    "testData(goa_df, pipe)"
   ]
  },
  {
   "cell_type": "code",
   "execution_count": 18,
   "metadata": {},
   "outputs": [],
   "source": [
    "goa_df.to_csv(GOA_CSV)"
   ]
  },
  {
   "cell_type": "code",
   "execution_count": 20,
   "metadata": {},
   "outputs": [
    {
     "name": "stdout",
     "output_type": "stream",
     "text": [
      "-------------------STATS OF DATA-----------------------\n",
      "SHAPE:  (429776, 4)\n",
      "Gender\n",
      "FEMALE    139569\n",
      "MALE      290207\n",
      "Name: Name, dtype: int64\n",
      "-------------------------------------------------------\n",
      "------------------RESULTS-------------------------------\n",
      "              precision    recall  f1-score   support\n",
      "\n",
      "        Male       0.89      0.15      0.26    290207\n",
      "      Female       0.35      0.96      0.52    139569\n",
      "\n",
      "    accuracy                           0.42    429776\n",
      "   macro avg       0.62      0.56      0.39    429776\n",
      "weighted avg       0.72      0.42      0.35    429776\n",
      "\n",
      "--------------------------------------------------------\n"
     ]
    }
   ],
   "source": [
    "stateResults(MIZORAM_CSV, pipe)"
   ]
  },
  {
   "cell_type": "code",
   "execution_count": 21,
   "metadata": {},
   "outputs": [
    {
     "name": "stdout",
     "output_type": "stream",
     "text": [
      "-------------------STATS OF DATA-----------------------\n",
      "SHAPE:  (3801952, 4)\n",
      "Gender\n",
      "FEMALE    1041925\n",
      "MALE      2760027\n",
      "Name: Name, dtype: int64\n",
      "-------------------------------------------------------\n",
      "------------------RESULTS-------------------------------\n",
      "              precision    recall  f1-score   support\n",
      "\n",
      "        Male       0.91      0.79      0.84   2760027\n",
      "      Female       0.58      0.78      0.67   1041925\n",
      "\n",
      "    accuracy                           0.79   3801952\n",
      "   macro avg       0.74      0.79      0.76   3801952\n",
      "weighted avg       0.82      0.79      0.80   3801952\n",
      "\n",
      "--------------------------------------------------------\n"
     ]
    }
   ],
   "source": [
    "stateResults(DELHI_CSV, pipe)"
   ]
  }
 ],
 "metadata": {
  "colab": {
   "collapsed_sections": [],
   "name": "Demographics_Classifier",
   "provenance": []
  },
  "kernelspec": {
   "display_name": "Python [conda env:.conda-py38] *",
   "language": "python",
   "name": "conda-env-.conda-py38-py"
  },
  "language_info": {
   "codemirror_mode": {
    "name": "ipython",
    "version": 3
   },
   "file_extension": ".py",
   "mimetype": "text/x-python",
   "name": "python",
   "nbconvert_exporter": "python",
   "pygments_lexer": "ipython3",
   "version": "3.8.11"
  }
 },
 "nbformat": 4,
 "nbformat_minor": 1
}
