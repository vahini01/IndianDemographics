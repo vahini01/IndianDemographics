{
 "cells": [
  {
   "cell_type": "code",
   "execution_count": 1,
   "id": "2bd0cbf6",
   "metadata": {},
   "outputs": [],
   "source": [
    "# Load AIEEE Data"
   ]
  },
  {
   "cell_type": "code",
   "execution_count": 1,
   "id": "d008f480",
   "metadata": {},
   "outputs": [
    {
     "name": "stdout",
     "output_type": "stream",
     "text": [
      "Fri Apr  1 09:39:51 2022       \n",
      "+-----------------------------------------------------------------------------+\n",
      "| NVIDIA-SMI 470.86       Driver Version: 470.86       CUDA Version: 11.4     |\n",
      "|-------------------------------+----------------------+----------------------+\n",
      "| GPU  Name        Persistence-M| Bus-Id        Disp.A | Volatile Uncorr. ECC |\n",
      "| Fan  Temp  Perf  Pwr:Usage/Cap|         Memory-Usage | GPU-Util  Compute M. |\n",
      "|                               |                      |               MIG M. |\n",
      "|===============================+======================+======================|\n",
      "|   0  Tesla P100-PCIE...  Off  | 00000000:3B:00.0 Off |                    0 |\n",
      "| N/A   30C    P0    34W / 250W |   2608MiB / 16280MiB |      0%      Default |\n",
      "|                               |                      |                  N/A |\n",
      "+-------------------------------+----------------------+----------------------+\n",
      "|   1  Tesla P100-PCIE...  Off  | 00000000:D8:00.0 Off |                    0 |\n",
      "| N/A   29C    P0    26W / 250W |      2MiB / 16280MiB |      0%      Default |\n",
      "|                               |                      |                  N/A |\n",
      "+-------------------------------+----------------------+----------------------+\n",
      "                                                                               \n",
      "+-----------------------------------------------------------------------------+\n",
      "| Processes:                                                                  |\n",
      "|  GPU   GI   CI        PID   Type   Process name                  GPU Memory |\n",
      "|        ID   ID                                                   Usage      |\n",
      "|=============================================================================|\n",
      "|    0   N/A  N/A     12334      C   python                           1303MiB |\n",
      "|    0   N/A  N/A     12441      C   python                           1303MiB |\n",
      "+-----------------------------------------------------------------------------+\n"
     ]
    }
   ],
   "source": [
    "!nvidia-smi"
   ]
  },
  {
   "cell_type": "code",
   "execution_count": 2,
   "id": "60841c06",
   "metadata": {},
   "outputs": [],
   "source": [
    "import os\n",
    "os.environ[\"CUDA_VISIBLE_DEVICES\"]=\"1\"    \n",
    "import tensorflow as tf"
   ]
  },
  {
   "cell_type": "code",
   "execution_count": 3,
   "id": "5d77862d",
   "metadata": {},
   "outputs": [
    {
     "name": "stdout",
     "output_type": "stream",
     "text": [
      "/home/souvic/mounted/btp/vahini/Name2Demographics\n"
     ]
    }
   ],
   "source": [
    "%cd ../../"
   ]
  },
  {
   "cell_type": "code",
   "execution_count": 4,
   "id": "eab1696a",
   "metadata": {},
   "outputs": [],
   "source": [
    "import sys  \n",
    "sys.path.insert(0, 'Models/ERData/PreProcessing/')\n",
    "\n",
    "from er_preprocess import *"
   ]
  },
  {
   "cell_type": "code",
   "execution_count": 5,
   "id": "d3320fa4",
   "metadata": {},
   "outputs": [],
   "source": [
    "er_df = pd.read_csv(\"Models/Data/ERData/er_data_with_majority_label.csv\")\n",
    "er_df = er_df.dropna()"
   ]
  },
  {
   "cell_type": "code",
   "execution_count": 6,
   "id": "01716a14",
   "metadata": {},
   "outputs": [
    {
     "data": {
      "text/plain": [
       "(7149488, 3)"
      ]
     },
     "execution_count": 6,
     "metadata": {},
     "output_type": "execute_result"
    }
   ],
   "source": [
    "er_df.shape"
   ]
  },
  {
   "cell_type": "markdown",
   "id": "4ab7a3a3",
   "metadata": {},
   "source": [
    "Load Models"
   ]
  },
  {
   "cell_type": "code",
   "execution_count": 7,
   "id": "845a38ec",
   "metadata": {},
   "outputs": [],
   "source": [
    "#  other models\n",
    "AIEEE_BERT = \"Models/AIEEEGenderData/BERT/SavedModel/BERT\"\n",
    "CBSE_BERT = \"Models/CBSEData/BERT/SavedModel/BERT\"\n",
    "ER_BERT = \"Models/ERData/BERT/SavedModel/BERT\""
   ]
  },
  {
   "cell_type": "code",
   "execution_count": 8,
   "id": "74c98d00",
   "metadata": {},
   "outputs": [],
   "source": [
    "%%capture\n",
    "!pip install transformers[sentencepiece]\n",
    "import transformers"
   ]
  },
  {
   "cell_type": "code",
   "execution_count": 9,
   "id": "cb498592",
   "metadata": {},
   "outputs": [],
   "source": [
    "from transformers import BertModel, AutoModelForSequenceClassification\n",
    "from transformers import AutoTokenizer"
   ]
  },
  {
   "cell_type": "code",
   "execution_count": 10,
   "id": "2d6a9971",
   "metadata": {},
   "outputs": [],
   "source": [
    "aieee_model = AutoModelForSequenceClassification.from_pretrained(AIEEE_BERT)"
   ]
  },
  {
   "cell_type": "code",
   "execution_count": null,
   "id": "dd5a18a7",
   "metadata": {},
   "outputs": [],
   "source": [
    "cbse_model = AutoModelForSequenceClassification.from_pretrained(CBSE_BERT)"
   ]
  },
  {
   "cell_type": "code",
   "execution_count": null,
   "id": "d0ccd29b",
   "metadata": {},
   "outputs": [],
   "source": [
    "er_model = AutoModelForSequenceClassification.from_pretrained(ER_BERT)"
   ]
  },
  {
   "cell_type": "code",
   "execution_count": 11,
   "id": "42241779",
   "metadata": {},
   "outputs": [],
   "source": [
    "tokenizer = AutoTokenizer.from_pretrained(\"bert-base-uncased\")\n"
   ]
  },
  {
   "cell_type": "markdown",
   "id": "636223f6",
   "metadata": {},
   "source": [
    "Predict Gender"
   ]
  },
  {
   "cell_type": "code",
   "execution_count": 12,
   "id": "6367d673",
   "metadata": {},
   "outputs": [],
   "source": [
    "from transformers import pipeline"
   ]
  },
  {
   "cell_type": "code",
   "execution_count": 13,
   "id": "a7db8c53",
   "metadata": {},
   "outputs": [],
   "source": [
    "from sklearn.metrics import classification_report\n",
    "\n",
    "# print(classification_report(true, labels, digits = 4))"
   ]
  },
  {
   "cell_type": "code",
   "execution_count": 14,
   "id": "55ff427d",
   "metadata": {},
   "outputs": [],
   "source": [
    "import math\n",
    "\n",
    "def print_results(rmodel, tokenizer, df):\n",
    "    pipe = pipeline(task=\"text-classification\",model=rmodel, tokenizer=tokenizer)\n",
    "    n = df.shape[0]\n",
    "    predictions = []\n",
    "    for i in range(math.ceil(n/1000)):\n",
    "        df1 = df[i*1000:(i+1)*(1000)]\n",
    "        onway = pipe(list(df1['Name']), batch_size=256)\n",
    "        predictions = predictions + onway\n",
    "        with open(\"Models/ERData/er_data_aieee_bert_test1.txt\", 'a') as f:\n",
    "            f.write(f\"{i}\\n\")\n",
    "    labels = []\n",
    "    for pred in predictions:\n",
    "        if pred['label'] == 'LABEL_0':\n",
    "            labels.append(0)\n",
    "        else:\n",
    "            labels.append(1)\n",
    "    \n",
    "    true = list(df['Gender'])\n",
    "    report = classification_report(true, labels, digits = 4)\n",
    "    print(classification_report(true, labels, digits = 4))\n",
    "    with open(\"Models/ERData/er_data_aieee_bert_test1.txt\", 'a') as f:\n",
    "            f.write(f\"{report}\\n\")\n",
    "    return report"
   ]
  },
  {
   "cell_type": "code",
   "execution_count": 15,
   "id": "a0a85846",
   "metadata": {},
   "outputs": [
    {
     "data": {
      "text/plain": [
       "(7149488, 3)"
      ]
     },
     "execution_count": 15,
     "metadata": {},
     "output_type": "execute_result"
    }
   ],
   "source": [
    "er_df.shape"
   ]
  },
  {
   "cell_type": "code",
   "execution_count": null,
   "id": "9f86f5fc",
   "metadata": {},
   "outputs": [],
   "source": [
    "report1 = print_results(aieee_model, tokenizer, er_df[:2000000])"
   ]
  },
  {
   "cell_type": "code",
   "execution_count": null,
   "id": "3c9d0262",
   "metadata": {},
   "outputs": [],
   "source": [
    "report2 = print_results(aieee_model, tokenizer, er_df[2000000:4000000])"
   ]
  },
  {
   "cell_type": "code",
   "execution_count": null,
   "id": "7c9e2530",
   "metadata": {},
   "outputs": [],
   "source": [
    "report3 = print_results(aieee_model, tokenizer, er_df[4000000:6000000])"
   ]
  },
  {
   "cell_type": "code",
   "execution_count": null,
   "id": "4a8e0587",
   "metadata": {},
   "outputs": [],
   "source": [
    "report4 = print_results(aieee_model, tokenizer, er_df[6000000:])"
   ]
  }
 ],
 "metadata": {
  "kernelspec": {
   "display_name": "Python [conda env:.conda-py38] *",
   "language": "python",
   "name": "conda-env-.conda-py38-py"
  },
  "language_info": {
   "codemirror_mode": {
    "name": "ipython",
    "version": 3
   },
   "file_extension": ".py",
   "mimetype": "text/x-python",
   "name": "python",
   "nbconvert_exporter": "python",
   "pygments_lexer": "ipython3",
   "version": "3.8.11"
  }
 },
 "nbformat": 4,
 "nbformat_minor": 5
}
