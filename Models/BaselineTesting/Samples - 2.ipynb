{
 "cells": [
  {
   "cell_type": "code",
   "execution_count": 5,
   "id": "2b44f9ba",
   "metadata": {},
   "outputs": [
    {
     "name": "stdout",
     "output_type": "stream",
     "text": [
      "/home/souvic/mounted/btp/vahini/Name2Demographics\n"
     ]
    }
   ],
   "source": [
    "%cd ../../"
   ]
  },
  {
   "cell_type": "code",
   "execution_count": 2,
   "id": "6c3ef277",
   "metadata": {},
   "outputs": [],
   "source": [
    "#  CBSE Parent data\n",
    "import sys\n",
    "sys.path.insert(0, 'Models/CBSEData/CBSEPreProcessing/')\n",
    "\n",
    "from parse_cbse import *\n",
    "\n",
    "cbse = CBSEData()\n",
    "\n",
    "# 1 for male 0 for female\n"
   ]
  },
  {
   "cell_type": "code",
   "execution_count": 4,
   "id": "ee605f26",
   "metadata": {},
   "outputs": [],
   "source": [
    "cbse['Gender'] = [str(elem).replace(\"0.0\", \"Female\") for elem in cbse['Gender']]\n",
    "cbse['Gender'] = [str(elem).replace(\"1.0\", \"Male\") for elem in cbse['Gender']]"
   ]
  },
  {
   "cell_type": "code",
   "execution_count": 8,
   "id": "ab6c2259",
   "metadata": {},
   "outputs": [],
   "source": [
    "cbse_sample = cbse.sample(500)"
   ]
  },
  {
   "cell_type": "code",
   "execution_count": 27,
   "id": "688395cb",
   "metadata": {},
   "outputs": [],
   "source": [
    "df1.to_csv(\"/home/souvic/mounted/btp/ndata/samples/cbse_sample.csv\")"
   ]
  },
  {
   "cell_type": "code",
   "execution_count": 11,
   "id": "9cc78d46",
   "metadata": {},
   "outputs": [],
   "source": [
    "def split_name(name):\n",
    "    name = str(name)\n",
    "    # Trim begining spaces\n",
    "    name = str(name).strip()\n",
    "    firstname = str(name).split(' ')[0]\n",
    "    lastname = ' '.join(str(name).split(\" \")[1:])\n",
    "    return firstname, lastname\n",
    "\n",
    "def split_name_df(df, col):\n",
    "    first_name = []\n",
    "    last_name = []\n",
    "    for name in df[col]:\n",
    "        f,l = split_name(name)\n",
    "        first_name.append(f)\n",
    "        last_name.append(l)\n",
    "        \n",
    "    df['first_name'] = first_name\n",
    "    df['last_name'] = last_name\n",
    "    return df, first_name"
   ]
  },
  {
   "cell_type": "code",
   "execution_count": 21,
   "id": "bfdf5cd4",
   "metadata": {},
   "outputs": [],
   "source": [
    "df1, _ = split_name_df(cbse_sample, 'Name')"
   ]
  },
  {
   "cell_type": "code",
   "execution_count": 26,
   "id": "91701094",
   "metadata": {},
   "outputs": [
    {
     "data": {
      "text/html": [
       "<div>\n",
       "<style scoped>\n",
       "    .dataframe tbody tr th:only-of-type {\n",
       "        vertical-align: middle;\n",
       "    }\n",
       "\n",
       "    .dataframe tbody tr th {\n",
       "        vertical-align: top;\n",
       "    }\n",
       "\n",
       "    .dataframe thead th {\n",
       "        text-align: right;\n",
       "    }\n",
       "</style>\n",
       "<table border=\"1\" class=\"dataframe\">\n",
       "  <thead>\n",
       "    <tr style=\"text-align: right;\">\n",
       "      <th></th>\n",
       "      <th>Name</th>\n",
       "      <th>Gender</th>\n",
       "      <th>first_name</th>\n",
       "      <th>last_name</th>\n",
       "    </tr>\n",
       "  </thead>\n",
       "  <tbody>\n",
       "    <tr>\n",
       "      <th>0</th>\n",
       "      <td>nandkishore mukati</td>\n",
       "      <td>Male</td>\n",
       "      <td>nandkishore</td>\n",
       "      <td>mukati</td>\n",
       "    </tr>\n",
       "    <tr>\n",
       "      <th>1</th>\n",
       "      <td>ramkranti</td>\n",
       "      <td>Female</td>\n",
       "      <td>ramkranti</td>\n",
       "      <td></td>\n",
       "    </tr>\n",
       "    <tr>\n",
       "      <th>2</th>\n",
       "      <td>manmohan vyas</td>\n",
       "      <td>Male</td>\n",
       "      <td>manmohan</td>\n",
       "      <td>vyas</td>\n",
       "    </tr>\n",
       "    <tr>\n",
       "      <th>3</th>\n",
       "      <td>suresh prasad malviya</td>\n",
       "      <td>Male</td>\n",
       "      <td>suresh</td>\n",
       "      <td>prasad malviya</td>\n",
       "    </tr>\n",
       "    <tr>\n",
       "      <th>4</th>\n",
       "      <td>ashok kumari devi</td>\n",
       "      <td>Female</td>\n",
       "      <td>ashok</td>\n",
       "      <td>kumari devi</td>\n",
       "    </tr>\n",
       "  </tbody>\n",
       "</table>\n",
       "</div>"
      ],
      "text/plain": [
       "                    Name  Gender   first_name       last_name\n",
       "0     nandkishore mukati    Male  nandkishore          mukati\n",
       "1              ramkranti  Female    ramkranti                \n",
       "2          manmohan vyas    Male     manmohan            vyas\n",
       "3  suresh prasad malviya    Male       suresh  prasad malviya\n",
       "4      ashok kumari devi  Female        ashok     kumari devi"
      ]
     },
     "execution_count": 26,
     "metadata": {},
     "output_type": "execute_result"
    }
   ],
   "source": [
    "df1.head()"
   ]
  },
  {
   "cell_type": "code",
   "execution_count": 25,
   "id": "eec0e831",
   "metadata": {},
   "outputs": [],
   "source": [
    "del df1['index']\n",
    "del df1['level_0']"
   ]
  },
  {
   "cell_type": "code",
   "execution_count": 23,
   "id": "1ffa458f",
   "metadata": {},
   "outputs": [],
   "source": [
    "df1.reset_index(inplace=True)"
   ]
  },
  {
   "cell_type": "code",
   "execution_count": 29,
   "id": "4726d8a1",
   "metadata": {},
   "outputs": [],
   "source": [
    "df_check  = pd.read_csv(AIEEE_2009)"
   ]
  },
  {
   "cell_type": "code",
   "execution_count": 30,
   "id": "588520e1",
   "metadata": {},
   "outputs": [
    {
     "data": {
      "text/html": [
       "<div>\n",
       "<style scoped>\n",
       "    .dataframe tbody tr th:only-of-type {\n",
       "        vertical-align: middle;\n",
       "    }\n",
       "\n",
       "    .dataframe tbody tr th {\n",
       "        vertical-align: top;\n",
       "    }\n",
       "\n",
       "    .dataframe thead th {\n",
       "        text-align: right;\n",
       "    }\n",
       "</style>\n",
       "<table border=\"1\" class=\"dataframe\">\n",
       "  <thead>\n",
       "    <tr style=\"text-align: right;\">\n",
       "      <th></th>\n",
       "      <th>Unnamed: 0</th>\n",
       "      <th>roll_no</th>\n",
       "      <th>name</th>\n",
       "      <th>mother_name</th>\n",
       "      <th>father_name</th>\n",
       "      <th>category</th>\n",
       "      <th>state_no</th>\n",
       "      <th>present</th>\n",
       "      <th>p1_marks</th>\n",
       "      <th>p2_marks</th>\n",
       "      <th>air_btech</th>\n",
       "      <th>air_cat_btech</th>\n",
       "      <th>state_btech</th>\n",
       "      <th>state_cat_btech</th>\n",
       "      <th>air_barch</th>\n",
       "      <th>air_cat_barch</th>\n",
       "      <th>state_barch</th>\n",
       "      <th>state_cat_barch</th>\n",
       "    </tr>\n",
       "  </thead>\n",
       "  <tbody>\n",
       "    <tr>\n",
       "      <th>0</th>\n",
       "      <td>0</td>\n",
       "      <td>22500416</td>\n",
       "      <td>SUNNY LALLER</td>\n",
       "      <td>SHARDA DEVI</td>\n",
       "      <td>DALBIR SINGH LALLER</td>\n",
       "      <td>GEN</td>\n",
       "      <td>13</td>\n",
       "      <td>True</td>\n",
       "      <td>26.0</td>\n",
       "      <td>NaN</td>\n",
       "      <td>687686</td>\n",
       "      <td>414972</td>\n",
       "      <td>34288</td>\n",
       "      <td>23484</td>\n",
       "      <td>------</td>\n",
       "      <td>------</td>\n",
       "      <td>------</td>\n",
       "      <td>------</td>\n",
       "    </tr>\n",
       "    <tr>\n",
       "      <th>1</th>\n",
       "      <td>1</td>\n",
       "      <td>22700891</td>\n",
       "      <td>KULDEEP SHARMA</td>\n",
       "      <td>CHAMPA DEVI</td>\n",
       "      <td>MANANTRAM</td>\n",
       "      <td>GEN</td>\n",
       "      <td>14</td>\n",
       "      <td>True</td>\n",
       "      <td>14.0</td>\n",
       "      <td>NaN</td>\n",
       "      <td>810423</td>\n",
       "      <td>479425</td>\n",
       "      <td>9337</td>\n",
       "      <td>6689</td>\n",
       "      <td>------</td>\n",
       "      <td>------</td>\n",
       "      <td>------</td>\n",
       "      <td>------</td>\n",
       "    </tr>\n",
       "    <tr>\n",
       "      <th>2</th>\n",
       "      <td>2</td>\n",
       "      <td>21415832</td>\n",
       "      <td>TEJPARTAP SINGH</td>\n",
       "      <td>HERJEET KAUR</td>\n",
       "      <td>TARLOCHAN SINGH</td>\n",
       "      <td>GEN</td>\n",
       "      <td>28</td>\n",
       "      <td>False</td>\n",
       "      <td>NaN</td>\n",
       "      <td>NaN</td>\n",
       "      <td>NaN</td>\n",
       "      <td>NaN</td>\n",
       "      <td>NaN</td>\n",
       "      <td>NaN</td>\n",
       "      <td>NaN</td>\n",
       "      <td>NaN</td>\n",
       "      <td>NaN</td>\n",
       "      <td>NaN</td>\n",
       "    </tr>\n",
       "    <tr>\n",
       "      <th>3</th>\n",
       "      <td>3</td>\n",
       "      <td>21402077</td>\n",
       "      <td>HARJINDER SINGH</td>\n",
       "      <td>SUKHDEV KAUR</td>\n",
       "      <td>RANJIT SINGH</td>\n",
       "      <td>GEN</td>\n",
       "      <td>34</td>\n",
       "      <td>True</td>\n",
       "      <td>87.0</td>\n",
       "      <td>NaN</td>\n",
       "      <td>164867</td>\n",
       "      <td>114788</td>\n",
       "      <td>2714</td>\n",
       "      <td>2270</td>\n",
       "      <td>------</td>\n",
       "      <td>------</td>\n",
       "      <td>------</td>\n",
       "      <td>------</td>\n",
       "    </tr>\n",
       "    <tr>\n",
       "      <th>4</th>\n",
       "      <td>4</td>\n",
       "      <td>20600071</td>\n",
       "      <td>THYNALA SETHU DHARANIDHAR</td>\n",
       "      <td>THYNALA LAKSHMI RAJYAM</td>\n",
       "      <td>THYNALA VIJAYA KUMAR</td>\n",
       "      <td>OBC</td>\n",
       "      <td>02</td>\n",
       "      <td>True</td>\n",
       "      <td>194.0</td>\n",
       "      <td>NaN</td>\n",
       "      <td>22354</td>\n",
       "      <td>4249</td>\n",
       "      <td>3630</td>\n",
       "      <td>928</td>\n",
       "      <td>------</td>\n",
       "      <td>------</td>\n",
       "      <td>------</td>\n",
       "      <td>------</td>\n",
       "    </tr>\n",
       "  </tbody>\n",
       "</table>\n",
       "</div>"
      ],
      "text/plain": [
       "   Unnamed: 0   roll_no                         name  \\\n",
       "0           0  22500416                SUNNY LALLER    \n",
       "1           1  22700891              KULDEEP SHARMA    \n",
       "2           2  21415832             TEJPARTAP SINGH    \n",
       "3           3  21402077             HARJINDER SINGH    \n",
       "4           4  20600071   THYNALA SETHU DHARANIDHAR    \n",
       "\n",
       "                mother_name             father_name category state_no  \\\n",
       "0              SHARDA DEVI     DALBIR SINGH LALLER       GEN       13   \n",
       "1              CHAMPA DEVI               MANANTRAM       GEN       14   \n",
       "2             HERJEET KAUR         TARLOCHAN SINGH       GEN       28   \n",
       "3             SUKHDEV KAUR            RANJIT SINGH       GEN       34   \n",
       "4   THYNALA LAKSHMI RAJYAM    THYNALA VIJAYA KUMAR       OBC       02   \n",
       "\n",
       "   present  p1_marks  p2_marks air_btech air_cat_btech state_btech  \\\n",
       "0     True      26.0       NaN   687686        414972       34288    \n",
       "1     True      14.0       NaN   810423        479425        9337    \n",
       "2    False       NaN       NaN       NaN           NaN         NaN   \n",
       "3     True      87.0       NaN   164867        114788        2714    \n",
       "4     True     194.0       NaN    22354          4249        3630    \n",
       "\n",
       "  state_cat_btech air_barch air_cat_barch state_barch state_cat_barch  \n",
       "0          23484    ------        ------      ------          ------   \n",
       "1           6689    ------        ------      ------          ------   \n",
       "2             NaN       NaN           NaN         NaN             NaN  \n",
       "3           2270    ------        ------      ------          ------   \n",
       "4            928    ------        ------      ------          ------   "
      ]
     },
     "execution_count": 30,
     "metadata": {},
     "output_type": "execute_result"
    }
   ],
   "source": [
    "df_check.head()"
   ]
  },
  {
   "cell_type": "code",
   "execution_count": 8,
   "id": "5b7c3345",
   "metadata": {},
   "outputs": [],
   "source": [
    "#  aieee sample \n",
    "\n",
    "AIEEE_2009 = \"Models/Data/AIEEEData/aieee_2009.csv\"\n",
    "AIEEE_2010 = \"Models/Data/AIEEEData/aieee_2010.csv\"\n",
    "AIEEE_2011 = \"Models/Data/AIEEEData/aieee_2011.csv\"\n",
    "\n",
    "\n",
    "def getParentsData(df):\n",
    "  mother_df = pd.DataFrame()\n",
    "  father_df = pd.DataFrame()\n",
    "  mother_df['Name'] = df['mother_name']\n",
    "  mother_df['Gender'] = 'FEMALE'\n",
    "  father_df['Name'] = df['father_name']\n",
    "  father_df['Gender'] = 'MALE'\n",
    "  name_df = pd.concat([mother_df, father_df], ignore_index=True)\n",
    "  return name_df\n",
    "\n",
    "def processDf(df):\n",
    "  df['Name'] = [str(name).strip() for name in df['Name']]\n",
    "  df['Name'] = [name.lower() for name in df['Name']]\n",
    "  return df\n",
    "\n",
    "def addFrequency(df):\n",
    "  df['female_freq'] = df['Name'].map(df[df['Gender']=='FEMALE']['Name'].value_counts())\n",
    "  df['male_freq'] = df['Name'].map(df[df['Gender']=='MALE']['Name'].value_counts())\n",
    "  return df\n",
    "\n",
    "def useMajorityLabel(df):\n",
    "  df['new_labels'] = 0.0\n",
    "  labels = []\n",
    "  for i, name in enumerate(df['Name']):\n",
    "    if np.isnan(df['female_freq'][i]) or df['male_freq'][i] > df['female_freq'][i]:\n",
    "      # labels.append(1) 1 for MALE\n",
    "      df.at[i,'new_labels'] = 1\n",
    "    else:\n",
    "      # labels.append(0) 0 for FEMALE\n",
    "      df.at[i,'new_labels'] = 0\n",
    "  return df\n",
    "\n",
    "def dropDuplicates(df):\n",
    "  df = df.drop_duplicates(subset='Name', keep='last')\n",
    "  df = df.reset_index(drop=True)\n",
    "  return df\n",
    "\n",
    "def AIEEEData():\n",
    "  a9 = pd.read_csv(AIEEE_2009)\n",
    "  a10 = pd.read_csv(AIEEE_2010)\n",
    "  a11 = pd.read_csv(AIEEE_2011)\n",
    "  a9 = processDf(getParentsData(a9))\n",
    "  a10 = processDf(getParentsData(a10))\n",
    "  a11 = processDf(getParentsData(a11))\n",
    "  aieee = pd.concat([a9, a10, a11], ignore_index=True)\n",
    "  # Use majority label\n",
    "  cbse = addFrequency(aieee)\n",
    "  cbse = useMajorityLabel(cbse)\n",
    "  cbse = dropDuplicates(cbse)\n",
    "  final_df = pd.DataFrame()\n",
    "  final_df['Name'] = cbse['Name']\n",
    "  final_df['Gender'] = cbse['new_labels']\n",
    "  return final_df"
   ]
  },
  {
   "cell_type": "code",
   "execution_count": 32,
   "id": "a68209a7",
   "metadata": {},
   "outputs": [],
   "source": [
    "aieee  = AIEEEData()"
   ]
  },
  {
   "cell_type": "code",
   "execution_count": 35,
   "id": "73bb7581",
   "metadata": {},
   "outputs": [],
   "source": [
    "aieee['Gender'] = [str(elem).replace(\"0.0\", \"Female\") for elem in aieee['Gender']]\n",
    "aieee['Gender'] = [str(elem).replace(\"1.0\", \"Male\") for elem in aieee['Gender']]"
   ]
  },
  {
   "cell_type": "code",
   "execution_count": 39,
   "id": "8cfe17f1",
   "metadata": {},
   "outputs": [],
   "source": [
    "sam = aieee.sample(500)"
   ]
  },
  {
   "cell_type": "code",
   "execution_count": 41,
   "id": "79a26a99",
   "metadata": {},
   "outputs": [],
   "source": [
    "sam.reset_index(inplace=True)"
   ]
  },
  {
   "cell_type": "code",
   "execution_count": 44,
   "id": "357db7a2",
   "metadata": {},
   "outputs": [],
   "source": [
    "del sam['index']"
   ]
  },
  {
   "cell_type": "code",
   "execution_count": 45,
   "id": "260e2092",
   "metadata": {},
   "outputs": [
    {
     "data": {
      "text/html": [
       "<div>\n",
       "<style scoped>\n",
       "    .dataframe tbody tr th:only-of-type {\n",
       "        vertical-align: middle;\n",
       "    }\n",
       "\n",
       "    .dataframe tbody tr th {\n",
       "        vertical-align: top;\n",
       "    }\n",
       "\n",
       "    .dataframe thead th {\n",
       "        text-align: right;\n",
       "    }\n",
       "</style>\n",
       "<table border=\"1\" class=\"dataframe\">\n",
       "  <thead>\n",
       "    <tr style=\"text-align: right;\">\n",
       "      <th></th>\n",
       "      <th>Name</th>\n",
       "      <th>Gender</th>\n",
       "    </tr>\n",
       "  </thead>\n",
       "  <tbody>\n",
       "    <tr>\n",
       "      <th>0</th>\n",
       "      <td>prahlad singh dangi</td>\n",
       "      <td>Male</td>\n",
       "    </tr>\n",
       "    <tr>\n",
       "      <th>1</th>\n",
       "      <td>sarvesh kumari</td>\n",
       "      <td>Female</td>\n",
       "    </tr>\n",
       "    <tr>\n",
       "      <th>2</th>\n",
       "      <td>shanichri devi</td>\n",
       "      <td>Female</td>\n",
       "    </tr>\n",
       "    <tr>\n",
       "      <th>3</th>\n",
       "      <td>marthala savithri</td>\n",
       "      <td>Female</td>\n",
       "    </tr>\n",
       "    <tr>\n",
       "      <th>4</th>\n",
       "      <td>kakali roy</td>\n",
       "      <td>Female</td>\n",
       "    </tr>\n",
       "    <tr>\n",
       "      <th>...</th>\n",
       "      <td>...</td>\n",
       "      <td>...</td>\n",
       "    </tr>\n",
       "    <tr>\n",
       "      <th>495</th>\n",
       "      <td>usha natarajan</td>\n",
       "      <td>Female</td>\n",
       "    </tr>\n",
       "    <tr>\n",
       "      <th>496</th>\n",
       "      <td>burugula bhadraiah</td>\n",
       "      <td>Male</td>\n",
       "    </tr>\n",
       "    <tr>\n",
       "      <th>497</th>\n",
       "      <td>ajay kumar srivastay</td>\n",
       "      <td>Male</td>\n",
       "    </tr>\n",
       "    <tr>\n",
       "      <th>498</th>\n",
       "      <td>bimala devi</td>\n",
       "      <td>Female</td>\n",
       "    </tr>\n",
       "    <tr>\n",
       "      <th>499</th>\n",
       "      <td>jayasree l</td>\n",
       "      <td>Female</td>\n",
       "    </tr>\n",
       "  </tbody>\n",
       "</table>\n",
       "<p>500 rows × 2 columns</p>\n",
       "</div>"
      ],
      "text/plain": [
       "                     Name  Gender\n",
       "0     prahlad singh dangi    Male\n",
       "1          sarvesh kumari  Female\n",
       "2          shanichri devi  Female\n",
       "3       marthala savithri  Female\n",
       "4              kakali roy  Female\n",
       "..                    ...     ...\n",
       "495        usha natarajan  Female\n",
       "496    burugula bhadraiah    Male\n",
       "497  ajay kumar srivastay    Male\n",
       "498           bimala devi  Female\n",
       "499            jayasree l  Female\n",
       "\n",
       "[500 rows x 2 columns]"
      ]
     },
     "execution_count": 45,
     "metadata": {},
     "output_type": "execute_result"
    }
   ],
   "source": [
    "sam"
   ]
  },
  {
   "cell_type": "code",
   "execution_count": 46,
   "id": "44514b18",
   "metadata": {},
   "outputs": [],
   "source": [
    "df1, _ = split_name_df(sam, 'Name')"
   ]
  },
  {
   "cell_type": "code",
   "execution_count": 47,
   "id": "1936971c",
   "metadata": {},
   "outputs": [
    {
     "data": {
      "text/html": [
       "<div>\n",
       "<style scoped>\n",
       "    .dataframe tbody tr th:only-of-type {\n",
       "        vertical-align: middle;\n",
       "    }\n",
       "\n",
       "    .dataframe tbody tr th {\n",
       "        vertical-align: top;\n",
       "    }\n",
       "\n",
       "    .dataframe thead th {\n",
       "        text-align: right;\n",
       "    }\n",
       "</style>\n",
       "<table border=\"1\" class=\"dataframe\">\n",
       "  <thead>\n",
       "    <tr style=\"text-align: right;\">\n",
       "      <th></th>\n",
       "      <th>Name</th>\n",
       "      <th>Gender</th>\n",
       "      <th>first_name</th>\n",
       "      <th>last_name</th>\n",
       "    </tr>\n",
       "  </thead>\n",
       "  <tbody>\n",
       "    <tr>\n",
       "      <th>0</th>\n",
       "      <td>prahlad singh dangi</td>\n",
       "      <td>Male</td>\n",
       "      <td>prahlad</td>\n",
       "      <td>singh dangi</td>\n",
       "    </tr>\n",
       "    <tr>\n",
       "      <th>1</th>\n",
       "      <td>sarvesh kumari</td>\n",
       "      <td>Female</td>\n",
       "      <td>sarvesh</td>\n",
       "      <td>kumari</td>\n",
       "    </tr>\n",
       "    <tr>\n",
       "      <th>2</th>\n",
       "      <td>shanichri devi</td>\n",
       "      <td>Female</td>\n",
       "      <td>shanichri</td>\n",
       "      <td>devi</td>\n",
       "    </tr>\n",
       "    <tr>\n",
       "      <th>3</th>\n",
       "      <td>marthala savithri</td>\n",
       "      <td>Female</td>\n",
       "      <td>marthala</td>\n",
       "      <td>savithri</td>\n",
       "    </tr>\n",
       "    <tr>\n",
       "      <th>4</th>\n",
       "      <td>kakali roy</td>\n",
       "      <td>Female</td>\n",
       "      <td>kakali</td>\n",
       "      <td>roy</td>\n",
       "    </tr>\n",
       "    <tr>\n",
       "      <th>...</th>\n",
       "      <td>...</td>\n",
       "      <td>...</td>\n",
       "      <td>...</td>\n",
       "      <td>...</td>\n",
       "    </tr>\n",
       "    <tr>\n",
       "      <th>495</th>\n",
       "      <td>usha natarajan</td>\n",
       "      <td>Female</td>\n",
       "      <td>usha</td>\n",
       "      <td>natarajan</td>\n",
       "    </tr>\n",
       "    <tr>\n",
       "      <th>496</th>\n",
       "      <td>burugula bhadraiah</td>\n",
       "      <td>Male</td>\n",
       "      <td>burugula</td>\n",
       "      <td>bhadraiah</td>\n",
       "    </tr>\n",
       "    <tr>\n",
       "      <th>497</th>\n",
       "      <td>ajay kumar srivastay</td>\n",
       "      <td>Male</td>\n",
       "      <td>ajay</td>\n",
       "      <td>kumar srivastay</td>\n",
       "    </tr>\n",
       "    <tr>\n",
       "      <th>498</th>\n",
       "      <td>bimala devi</td>\n",
       "      <td>Female</td>\n",
       "      <td>bimala</td>\n",
       "      <td>devi</td>\n",
       "    </tr>\n",
       "    <tr>\n",
       "      <th>499</th>\n",
       "      <td>jayasree l</td>\n",
       "      <td>Female</td>\n",
       "      <td>jayasree</td>\n",
       "      <td>l</td>\n",
       "    </tr>\n",
       "  </tbody>\n",
       "</table>\n",
       "<p>500 rows × 4 columns</p>\n",
       "</div>"
      ],
      "text/plain": [
       "                     Name  Gender first_name        last_name\n",
       "0     prahlad singh dangi    Male    prahlad      singh dangi\n",
       "1          sarvesh kumari  Female    sarvesh           kumari\n",
       "2          shanichri devi  Female  shanichri             devi\n",
       "3       marthala savithri  Female   marthala         savithri\n",
       "4              kakali roy  Female     kakali              roy\n",
       "..                    ...     ...        ...              ...\n",
       "495        usha natarajan  Female       usha        natarajan\n",
       "496    burugula bhadraiah    Male   burugula        bhadraiah\n",
       "497  ajay kumar srivastay    Male       ajay  kumar srivastay\n",
       "498           bimala devi  Female     bimala             devi\n",
       "499            jayasree l  Female   jayasree                l\n",
       "\n",
       "[500 rows x 4 columns]"
      ]
     },
     "execution_count": 47,
     "metadata": {},
     "output_type": "execute_result"
    }
   ],
   "source": []
  },
  {
   "cell_type": "code",
   "execution_count": 48,
   "id": "6379871c",
   "metadata": {},
   "outputs": [],
   "source": [
    "df1.to_csv(\"/home/souvic/mounted/btp/ndata/samples/aieee_sample.csv\")"
   ]
  },
  {
   "cell_type": "code",
   "execution_count": 1,
   "id": "d4a991e6",
   "metadata": {},
   "outputs": [],
   "source": [
    "CBSE_2014 = \"Models/Data/CBSEData/2014_complete_data.csv\"\n",
    "CBSE_2015 = \"Models/Data/CBSEData/2015_complete_data.csv\""
   ]
  },
  {
   "cell_type": "code",
   "execution_count": 6,
   "id": "6db3977c",
   "metadata": {},
   "outputs": [],
   "source": [
    "import pandas as pd\n",
    "\n",
    "cbse14 = pd.read_csv(CBSE_2014, dtype=object, encoding= 'unicode_escape')\n",
    "cbse15 = pd.read_csv(CBSE_2015, dtype=object, encoding= 'unicode_escape')"
   ]
  },
  {
   "cell_type": "code",
   "execution_count": 7,
   "id": "c3212465",
   "metadata": {},
   "outputs": [
    {
     "data": {
      "text/plain": [
       "(44722, 424)"
      ]
     },
     "execution_count": 7,
     "metadata": {},
     "output_type": "execute_result"
    }
   ],
   "source": [
    "cbse14.shape"
   ]
  },
  {
   "cell_type": "code",
   "execution_count": 10,
   "id": "a5eead25",
   "metadata": {},
   "outputs": [],
   "source": [
    "c14 = processDf(getParentsData(cbse14))\n",
    "c15 = processDf(getParentsData(cbse15))"
   ]
  },
  {
   "cell_type": "code",
   "execution_count": 13,
   "id": "ee7acdf0",
   "metadata": {},
   "outputs": [
    {
     "data": {
      "text/plain": [
       "(186038, 2)"
      ]
     },
     "execution_count": 13,
     "metadata": {},
     "output_type": "execute_result"
    }
   ],
   "source": [
    "c15.shape"
   ]
  },
  {
   "cell_type": "code",
   "execution_count": 22,
   "id": "002de8e6",
   "metadata": {},
   "outputs": [
    {
     "data": {
      "text/plain": [
       "(51744, 2)"
      ]
     },
     "execution_count": 22,
     "metadata": {},
     "output_type": "execute_result"
    }
   ],
   "source": [
    "c15[c15['Gender']=='FEMALE'].drop_duplicates().shape"
   ]
  },
  {
   "cell_type": "code",
   "execution_count": 21,
   "id": "8b21c564",
   "metadata": {},
   "outputs": [
    {
     "data": {
      "text/plain": [
       "(25779, 2)"
      ]
     },
     "execution_count": 21,
     "metadata": {},
     "output_type": "execute_result"
    }
   ],
   "source": [
    "c14[c14['Gender']=='FEMALE'].drop_duplicates().shape"
   ]
  },
  {
   "cell_type": "code",
   "execution_count": 20,
   "id": "e7c4e4a6",
   "metadata": {},
   "outputs": [
    {
     "data": {
      "text/plain": [
       "(63434, 2)"
      ]
     },
     "execution_count": 20,
     "metadata": {},
     "output_type": "execute_result"
    }
   ],
   "source": [
    "c15[c15['Gender']=='MALE'].drop_duplicates().shape"
   ]
  },
  {
   "cell_type": "code",
   "execution_count": 19,
   "id": "c06d0ba9",
   "metadata": {},
   "outputs": [
    {
     "data": {
      "text/plain": [
       "(31573, 2)"
      ]
     },
     "execution_count": 19,
     "metadata": {},
     "output_type": "execute_result"
    }
   ],
   "source": [
    "c14[c14['Gender']=='MALE'].drop_duplicates().shape"
   ]
  },
  {
   "cell_type": "code",
   "execution_count": null,
   "id": "2cedf315",
   "metadata": {},
   "outputs": [],
   "source": []
  }
 ],
 "metadata": {
  "kernelspec": {
   "display_name": "Python [conda env:.conda-py38] *",
   "language": "python",
   "name": "conda-env-.conda-py38-py"
  },
  "language_info": {
   "codemirror_mode": {
    "name": "ipython",
    "version": 3
   },
   "file_extension": ".py",
   "mimetype": "text/x-python",
   "name": "python",
   "nbconvert_exporter": "python",
   "pygments_lexer": "ipython3",
   "version": "3.8.11"
  }
 },
 "nbformat": 4,
 "nbformat_minor": 5
}
