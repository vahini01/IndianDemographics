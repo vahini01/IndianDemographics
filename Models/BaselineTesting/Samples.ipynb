{
 "cells": [
  {
   "cell_type": "code",
   "execution_count": 6,
   "id": "3b44fdc2",
   "metadata": {},
   "outputs": [],
   "source": [
    "import sys  \n",
    "sys.path.insert(0, '../ERData/PreProcessing/')\n",
    "\n",
    "from er_preprocess import *"
   ]
  },
  {
   "cell_type": "code",
   "execution_count": 7,
   "id": "7021751c",
   "metadata": {},
   "outputs": [
    {
     "name": "stdout",
     "output_type": "stream",
     "text": [
      "/home/souvic/mounted/btp/vahini/Name2Demographics\n"
     ]
    }
   ],
   "source": [
    "%cd ../../"
   ]
  },
  {
   "cell_type": "code",
   "execution_count": 1,
   "id": "f9d9c953",
   "metadata": {},
   "outputs": [],
   "source": [
    "import pandas as pd\n",
    "\n",
    "f = pd.read_csv('er_shape.csv')"
   ]
  },
  {
   "cell_type": "code",
   "execution_count": 5,
   "id": "cf907655",
   "metadata": {},
   "outputs": [
    {
     "data": {
      "text/plain": [
       "7635322"
      ]
     },
     "execution_count": 5,
     "metadata": {},
     "output_type": "execute_result"
    }
   ],
   "source": [
    "f['unique names'].sum()"
   ]
  },
  {
   "cell_type": "code",
   "execution_count": 32,
   "id": "5f0f83ff",
   "metadata": {},
   "outputs": [],
   "source": [
    "def get_data(df, name):\n",
    "    data = []\n",
    "    data.append(name)\n",
    "    data.append(df.shape[0])\n",
    "    data.append(df.drop_duplicates().shape[0])\n",
    "    mdf = df[df['Gender']=='MALE']\n",
    "    fdf = df[df['Gender']=='FEMALE']\n",
    "    data.append(mdf.shape[0])\n",
    "    data.append(mdf.drop_duplicates().shape[0])\n",
    "    data.append(fdf.shape[0])\n",
    "    data.append(fdf.drop_duplicates().shape[0])\n",
    "    return data"
   ]
  },
  {
   "cell_type": "code",
   "execution_count": 33,
   "id": "5ca27bd0",
   "metadata": {},
   "outputs": [],
   "source": [
    "shapes = []\n",
    "shapes.append(get_data(daman, \"daman\"))\n",
    "shapes.append(get_data(manipur, \"manipur\"))\n",
    "shapes.append(get_data(meghalaya, \"meghalaya\"))\n",
    "shapes.append(get_data(nagaland, \"nagaland\"))\n",
    "shapes.append(get_data(arunachal, \"arunachal\"))\n",
    "shapes.append(get_data(delhi, \"delhi\"))\n",
    "shapes.append(get_data(sikkim, \"sikkim\"))\n",
    "shapes.append(get_data(goa, \"goa\"))\n",
    "shapes.append(get_data(mizoram, \"mizoram\"))"
   ]
  },
  {
   "cell_type": "code",
   "execution_count": 40,
   "id": "028e57d6",
   "metadata": {},
   "outputs": [],
   "source": [
    "df = pd.DataFrame(shapes, columns=['state','names','unique names','male','unique male','female', 'unique female'])"
   ]
  },
  {
   "cell_type": "code",
   "execution_count": 41,
   "id": "5479e1cc",
   "metadata": {},
   "outputs": [],
   "source": [
    "df.to_csv('Models/Data/er_shape.csv')"
   ]
  },
  {
   "cell_type": "code",
   "execution_count": 64,
   "id": "67d0804f",
   "metadata": {},
   "outputs": [],
   "source": [
    "df = pd.read_csv('Models/Data/er_shape.csv')"
   ]
  },
  {
   "cell_type": "code",
   "execution_count": 65,
   "id": "e99d2dc7",
   "metadata": {},
   "outputs": [],
   "source": [
    "total = df['unique names'].sum()\n",
    "df['weight'] = df['unique names'] / total\n"
   ]
  },
  {
   "cell_type": "code",
   "execution_count": 66,
   "id": "61b15203",
   "metadata": {},
   "outputs": [],
   "source": [
    "df['count'] = 500*df['weight']"
   ]
  },
  {
   "cell_type": "code",
   "execution_count": 67,
   "id": "5f080263",
   "metadata": {},
   "outputs": [],
   "source": [
    "df['count'] = [round(count) for count in df['count']]"
   ]
  },
  {
   "cell_type": "code",
   "execution_count": 68,
   "id": "3dec48e7",
   "metadata": {},
   "outputs": [
    {
     "data": {
      "text/html": [
       "<div>\n",
       "<style scoped>\n",
       "    .dataframe tbody tr th:only-of-type {\n",
       "        vertical-align: middle;\n",
       "    }\n",
       "\n",
       "    .dataframe tbody tr th {\n",
       "        vertical-align: top;\n",
       "    }\n",
       "\n",
       "    .dataframe thead th {\n",
       "        text-align: right;\n",
       "    }\n",
       "</style>\n",
       "<table border=\"1\" class=\"dataframe\">\n",
       "  <thead>\n",
       "    <tr style=\"text-align: right;\">\n",
       "      <th></th>\n",
       "      <th>Unnamed: 0</th>\n",
       "      <th>state</th>\n",
       "      <th>names</th>\n",
       "      <th>unique names</th>\n",
       "      <th>male</th>\n",
       "      <th>unique male</th>\n",
       "      <th>female</th>\n",
       "      <th>unique female</th>\n",
       "      <th>weight</th>\n",
       "      <th>count</th>\n",
       "    </tr>\n",
       "  </thead>\n",
       "  <tbody>\n",
       "    <tr>\n",
       "      <th>0</th>\n",
       "      <td>0</td>\n",
       "      <td>daman</td>\n",
       "      <td>113136</td>\n",
       "      <td>108032</td>\n",
       "      <td>56381</td>\n",
       "      <td>53605</td>\n",
       "      <td>55712</td>\n",
       "      <td>53391</td>\n",
       "      <td>0.014149</td>\n",
       "      <td>7</td>\n",
       "    </tr>\n",
       "    <tr>\n",
       "      <th>1</th>\n",
       "      <td>1</td>\n",
       "      <td>manipur</td>\n",
       "      <td>1909440</td>\n",
       "      <td>1193419</td>\n",
       "      <td>919194</td>\n",
       "      <td>589948</td>\n",
       "      <td>966053</td>\n",
       "      <td>580415</td>\n",
       "      <td>0.156302</td>\n",
       "      <td>78</td>\n",
       "    </tr>\n",
       "    <tr>\n",
       "      <th>2</th>\n",
       "      <td>2</td>\n",
       "      <td>meghalaya</td>\n",
       "      <td>1922098</td>\n",
       "      <td>1506434</td>\n",
       "      <td>942317</td>\n",
       "      <td>737951</td>\n",
       "      <td>959827</td>\n",
       "      <td>748820</td>\n",
       "      <td>0.197298</td>\n",
       "      <td>99</td>\n",
       "    </tr>\n",
       "    <tr>\n",
       "      <th>3</th>\n",
       "      <td>3</td>\n",
       "      <td>nagaland</td>\n",
       "      <td>1177288</td>\n",
       "      <td>558415</td>\n",
       "      <td>583172</td>\n",
       "      <td>295039</td>\n",
       "      <td>583315</td>\n",
       "      <td>253274</td>\n",
       "      <td>0.073136</td>\n",
       "      <td>37</td>\n",
       "    </tr>\n",
       "    <tr>\n",
       "      <th>4</th>\n",
       "      <td>4</td>\n",
       "      <td>arunachal</td>\n",
       "      <td>777449</td>\n",
       "      <td>591152</td>\n",
       "      <td>380317</td>\n",
       "      <td>292544</td>\n",
       "      <td>390608</td>\n",
       "      <td>292158</td>\n",
       "      <td>0.077423</td>\n",
       "      <td>39</td>\n",
       "    </tr>\n",
       "    <tr>\n",
       "      <th>5</th>\n",
       "      <td>5</td>\n",
       "      <td>delhi</td>\n",
       "      <td>14039285</td>\n",
       "      <td>2458838</td>\n",
       "      <td>7634450</td>\n",
       "      <td>1430743</td>\n",
       "      <td>6305806</td>\n",
       "      <td>966324</td>\n",
       "      <td>0.322035</td>\n",
       "      <td>161</td>\n",
       "    </tr>\n",
       "    <tr>\n",
       "      <th>6</th>\n",
       "      <td>6</td>\n",
       "      <td>sikkim</td>\n",
       "      <td>398936</td>\n",
       "      <td>168490</td>\n",
       "      <td>200894</td>\n",
       "      <td>88209</td>\n",
       "      <td>193654</td>\n",
       "      <td>76145</td>\n",
       "      <td>0.022067</td>\n",
       "      <td>11</td>\n",
       "    </tr>\n",
       "    <tr>\n",
       "      <th>7</th>\n",
       "      <td>7</td>\n",
       "      <td>goa</td>\n",
       "      <td>1053415</td>\n",
       "      <td>744309</td>\n",
       "      <td>512134</td>\n",
       "      <td>361380</td>\n",
       "      <td>530032</td>\n",
       "      <td>372029</td>\n",
       "      <td>0.097482</td>\n",
       "      <td>49</td>\n",
       "    </tr>\n",
       "    <tr>\n",
       "      <th>8</th>\n",
       "      <td>8</td>\n",
       "      <td>mizoram</td>\n",
       "      <td>826015</td>\n",
       "      <td>306233</td>\n",
       "      <td>395634</td>\n",
       "      <td>158144</td>\n",
       "      <td>411910</td>\n",
       "      <td>134305</td>\n",
       "      <td>0.040107</td>\n",
       "      <td>20</td>\n",
       "    </tr>\n",
       "  </tbody>\n",
       "</table>\n",
       "</div>"
      ],
      "text/plain": [
       "   Unnamed: 0      state     names  unique names     male  unique male  \\\n",
       "0           0      daman    113136        108032    56381        53605   \n",
       "1           1    manipur   1909440       1193419   919194       589948   \n",
       "2           2  meghalaya   1922098       1506434   942317       737951   \n",
       "3           3   nagaland   1177288        558415   583172       295039   \n",
       "4           4  arunachal    777449        591152   380317       292544   \n",
       "5           5      delhi  14039285       2458838  7634450      1430743   \n",
       "6           6     sikkim    398936        168490   200894        88209   \n",
       "7           7        goa   1053415        744309   512134       361380   \n",
       "8           8    mizoram    826015        306233   395634       158144   \n",
       "\n",
       "    female  unique female    weight  count  \n",
       "0    55712          53391  0.014149      7  \n",
       "1   966053         580415  0.156302     78  \n",
       "2   959827         748820  0.197298     99  \n",
       "3   583315         253274  0.073136     37  \n",
       "4   390608         292158  0.077423     39  \n",
       "5  6305806         966324  0.322035    161  \n",
       "6   193654          76145  0.022067     11  \n",
       "7   530032         372029  0.097482     49  \n",
       "8   411910         134305  0.040107     20  "
      ]
     },
     "execution_count": 68,
     "metadata": {},
     "output_type": "execute_result"
    }
   ],
   "source": [
    "df"
   ]
  },
  {
   "cell_type": "code",
   "execution_count": 9,
   "id": "26ae6a3f",
   "metadata": {},
   "outputs": [],
   "source": [
    "daman = ERState_df_with_dup(DAMAN_CSV)"
   ]
  },
  {
   "cell_type": "code",
   "execution_count": 23,
   "id": "aa40ad2e",
   "metadata": {},
   "outputs": [],
   "source": [
    "manipur = ERState_df_with_dup(MANIPUR_CSV)"
   ]
  },
  {
   "cell_type": "code",
   "execution_count": 24,
   "id": "bdc1ef52",
   "metadata": {},
   "outputs": [],
   "source": [
    "meghalaya = ERState_df_with_dup(MEGHALAYA_CSV)"
   ]
  },
  {
   "cell_type": "code",
   "execution_count": 25,
   "id": "0511834a",
   "metadata": {},
   "outputs": [],
   "source": [
    "nagaland = ERState_df_with_dup(NAGALAND_CSV)"
   ]
  },
  {
   "cell_type": "code",
   "execution_count": 26,
   "id": "c53b3e30",
   "metadata": {},
   "outputs": [],
   "source": [
    "arunachal = ERState_df_with_dup(ARUNACHAL_CSV)"
   ]
  },
  {
   "cell_type": "code",
   "execution_count": 27,
   "id": "9d1bb864",
   "metadata": {},
   "outputs": [],
   "source": [
    "delhi = ERState_df_with_dup(DELHI_CSV)"
   ]
  },
  {
   "cell_type": "code",
   "execution_count": 28,
   "id": "ebbe08d0",
   "metadata": {},
   "outputs": [],
   "source": [
    "sikkim = ERState_df_with_dup(SIKKIM_CSV)"
   ]
  },
  {
   "cell_type": "code",
   "execution_count": 29,
   "id": "1033276c",
   "metadata": {},
   "outputs": [],
   "source": [
    "goa = ERState_df_with_dup(GOA_CSV)"
   ]
  },
  {
   "cell_type": "code",
   "execution_count": 30,
   "id": "8918d1b0",
   "metadata": {},
   "outputs": [],
   "source": [
    "mizoram = ERState_df_with_dup(MIZORAM_CSV)"
   ]
  },
  {
   "cell_type": "code",
   "execution_count": 54,
   "id": "10d06029",
   "metadata": {},
   "outputs": [],
   "source": [
    "daman  = daman.drop_duplicates()\n",
    "manipur = manipur.drop_duplicates()\n",
    "meghalaya = meghalaya.drop_duplicates()\n",
    "nagaland = nagaland.drop_duplicates()\n",
    "arunachal = arunachal.drop_duplicates()\n",
    "delhi = delhi.drop_duplicates()\n",
    "sikkim = sikkim.drop_duplicates()\n",
    "goa = goa.drop_duplicates()\n",
    "mizoram = mizoram.drop_duplicates()"
   ]
  },
  {
   "cell_type": "code",
   "execution_count": 86,
   "id": "c59d61a9",
   "metadata": {},
   "outputs": [],
   "source": [
    "#  Remember 1 for male and 0 for female\n",
    "def getnames(df):\n",
    "    df_new = pd.DataFrame()\n",
    "    df_new['Name'] = df['Name']\n",
    "    df_new['Gender'] = df['new_labels']\n",
    "    df_new['Gender'] = [ str(elem).replace(\"1.0\",\"Male\") for elem in df_new['Gender']]\n",
    "    df_new['Gender'] = [ str(elem).replace(\"0.0\",\"Female\") for elem in df_new['Gender']]\n",
    "    return df_new"
   ]
  },
  {
   "cell_type": "code",
   "execution_count": 87,
   "id": "aa9165c4",
   "metadata": {},
   "outputs": [],
   "source": [
    "daman  = ERStateData_with_freq(DAMAN_CSV)\n",
    "daman = getnames(daman)"
   ]
  },
  {
   "cell_type": "code",
   "execution_count": 88,
   "id": "ba2cd1e6",
   "metadata": {},
   "outputs": [],
   "source": [
    "manipur  = ERStateData_with_freq(MANIPUR_CSV)\n",
    "manipur = getnames(manipur)"
   ]
  },
  {
   "cell_type": "code",
   "execution_count": 89,
   "id": "464be5cb",
   "metadata": {},
   "outputs": [],
   "source": [
    "delhi  = ERStateData_with_freq(DELHI_CSV)\n",
    "delhi = getnames(delhi)"
   ]
  },
  {
   "cell_type": "code",
   "execution_count": 90,
   "id": "9c45100e",
   "metadata": {},
   "outputs": [],
   "source": [
    "mizoram  = ERStateData_with_freq(MIZORAM_CSV)\n",
    "mizoram = getnames(mizoram)"
   ]
  },
  {
   "cell_type": "code",
   "execution_count": 91,
   "id": "a0f78b5c",
   "metadata": {},
   "outputs": [],
   "source": [
    "goa  = ERStateData_with_freq(GOA_CSV)\n",
    "goa = getnames(goa)"
   ]
  },
  {
   "cell_type": "code",
   "execution_count": 92,
   "id": "64184a20",
   "metadata": {},
   "outputs": [],
   "source": [
    "sikkim  = ERStateData_with_freq(SIKKIM_CSV)\n",
    "sikkim = getnames(sikkim)"
   ]
  },
  {
   "cell_type": "code",
   "execution_count": 93,
   "id": "a6f2c5f4",
   "metadata": {},
   "outputs": [],
   "source": [
    "arunachal  = ERStateData_with_freq(ARUNACHAL_CSV)\n",
    "arunachal = getnames(arunachal)"
   ]
  },
  {
   "cell_type": "code",
   "execution_count": 94,
   "id": "f9e9982e",
   "metadata": {},
   "outputs": [],
   "source": [
    "nagaland  = ERStateData_with_freq(NAGALAND_CSV)\n",
    "nagaland = getnames(nagaland)"
   ]
  },
  {
   "cell_type": "code",
   "execution_count": 95,
   "id": "a8f07a46",
   "metadata": {},
   "outputs": [],
   "source": [
    "meghalaya  = ERStateData_with_freq(MEGHALAYA_CSV)\n",
    "meghalaya = getnames(meghalaya)"
   ]
  },
  {
   "cell_type": "code",
   "execution_count": 96,
   "id": "5876b9fc",
   "metadata": {},
   "outputs": [
    {
     "data": {
      "text/plain": [
       "[7, 78, 99, 37, 39, 161, 11, 49, 20]"
      ]
     },
     "execution_count": 96,
     "metadata": {},
     "output_type": "execute_result"
    }
   ],
   "source": [
    "counts"
   ]
  },
  {
   "cell_type": "code",
   "execution_count": 56,
   "id": "ecfba913",
   "metadata": {},
   "outputs": [],
   "source": [
    "counts = list(df['count'])"
   ]
  },
  {
   "cell_type": "code",
   "execution_count": 98,
   "id": "940acedf",
   "metadata": {},
   "outputs": [],
   "source": [
    "arr = [daman, manipur, meghalaya, nagaland, arunachal, delhi, sikkim, goa, mizoram]"
   ]
  },
  {
   "cell_type": "code",
   "execution_count": 102,
   "id": "e5afab2c",
   "metadata": {},
   "outputs": [],
   "source": [
    "final_df = pd.DataFrame()\n",
    "\n",
    "for i, df in enumerate(arr):\n",
    "    sample = df.sample(counts[i])\n",
    "    final_df = final_df.append(sample, ignore_index=True)"
   ]
  },
  {
   "cell_type": "code",
   "execution_count": 104,
   "id": "c41b1989",
   "metadata": {},
   "outputs": [
    {
     "data": {
      "text/plain": [
       "'/home/souvic/mounted/btp/vahini/Name2Demographics'"
      ]
     },
     "execution_count": 104,
     "metadata": {},
     "output_type": "execute_result"
    }
   ],
   "source": [
    "%pwd"
   ]
  },
  {
   "cell_type": "code",
   "execution_count": 113,
   "id": "d2ce6070",
   "metadata": {},
   "outputs": [],
   "source": [
    "new_df.to_csv('/home/souvic/mounted/btp/ndata/samples/er_sample.csv')"
   ]
  },
  {
   "cell_type": "code",
   "execution_count": 103,
   "id": "895bc63b",
   "metadata": {},
   "outputs": [
    {
     "data": {
      "text/html": [
       "<div>\n",
       "<style scoped>\n",
       "    .dataframe tbody tr th:only-of-type {\n",
       "        vertical-align: middle;\n",
       "    }\n",
       "\n",
       "    .dataframe tbody tr th {\n",
       "        vertical-align: top;\n",
       "    }\n",
       "\n",
       "    .dataframe thead th {\n",
       "        text-align: right;\n",
       "    }\n",
       "</style>\n",
       "<table border=\"1\" class=\"dataframe\">\n",
       "  <thead>\n",
       "    <tr style=\"text-align: right;\">\n",
       "      <th></th>\n",
       "      <th>Name</th>\n",
       "      <th>Gender</th>\n",
       "    </tr>\n",
       "  </thead>\n",
       "  <tbody>\n",
       "    <tr>\n",
       "      <th>0</th>\n",
       "      <td>rajesh kantilal halpati</td>\n",
       "      <td>Male</td>\n",
       "    </tr>\n",
       "    <tr>\n",
       "      <th>1</th>\n",
       "      <td>dhodi dineshbhai babubhai</td>\n",
       "      <td>Male</td>\n",
       "    </tr>\n",
       "    <tr>\n",
       "      <th>2</th>\n",
       "      <td>damyanti pareshkumar</td>\n",
       "      <td>Female</td>\n",
       "    </tr>\n",
       "    <tr>\n",
       "      <th>3</th>\n",
       "      <td>solanki bharatiben bharat</td>\n",
       "      <td>Female</td>\n",
       "    </tr>\n",
       "    <tr>\n",
       "      <th>4</th>\n",
       "      <td>divyesh mahesh kamli</td>\n",
       "      <td>Male</td>\n",
       "    </tr>\n",
       "    <tr>\n",
       "      <th>...</th>\n",
       "      <td>...</td>\n",
       "      <td>...</td>\n",
       "    </tr>\n",
       "    <tr>\n",
       "      <th>496</th>\n",
       "      <td>alaw dhar chakma</td>\n",
       "      <td>Male</td>\n",
       "    </tr>\n",
       "    <tr>\n",
       "      <th>497</th>\n",
       "      <td>hmangaihsangi royte</td>\n",
       "      <td>Female</td>\n",
       "    </tr>\n",
       "    <tr>\n",
       "      <th>498</th>\n",
       "      <td>rajkumar shahi</td>\n",
       "      <td>Male</td>\n",
       "    </tr>\n",
       "    <tr>\n",
       "      <th>499</th>\n",
       "      <td>k.lalrodinga</td>\n",
       "      <td>Male</td>\n",
       "    </tr>\n",
       "    <tr>\n",
       "      <th>500</th>\n",
       "      <td>rinhlupuii renthlei</td>\n",
       "      <td>Female</td>\n",
       "    </tr>\n",
       "  </tbody>\n",
       "</table>\n",
       "<p>501 rows × 2 columns</p>\n",
       "</div>"
      ],
      "text/plain": [
       "                          Name  Gender\n",
       "0      rajesh kantilal halpati    Male\n",
       "1    dhodi dineshbhai babubhai    Male\n",
       "2         damyanti pareshkumar  Female\n",
       "3    solanki bharatiben bharat  Female\n",
       "4         divyesh mahesh kamli    Male\n",
       "..                         ...     ...\n",
       "496           alaw dhar chakma    Male\n",
       "497        hmangaihsangi royte  Female\n",
       "498             rajkumar shahi    Male\n",
       "499               k.lalrodinga    Male\n",
       "500        rinhlupuii renthlei  Female\n",
       "\n",
       "[501 rows x 2 columns]"
      ]
     },
     "execution_count": 103,
     "metadata": {},
     "output_type": "execute_result"
    }
   ],
   "source": [
    "final_df"
   ]
  },
  {
   "cell_type": "code",
   "execution_count": 71,
   "id": "8c4272a2",
   "metadata": {},
   "outputs": [],
   "source": [
    "#  Adding first names column"
   ]
  },
  {
   "cell_type": "code",
   "execution_count": 108,
   "id": "f4c398b2",
   "metadata": {},
   "outputs": [],
   "source": [
    "def split_name(name):\n",
    "    name = str(name)\n",
    "    # Trim begining spaces\n",
    "    name = str(name).strip()\n",
    "    firstname = str(name).split(' ')[0]\n",
    "    lastname = ' '.join(str(name).split(\" \")[1:])\n",
    "    return firstname, lastname\n",
    "\n",
    "def split_name_df(df, col):\n",
    "    first_name = []\n",
    "    last_name = []\n",
    "    for name in df[col]:\n",
    "        f,l = split_name(name)\n",
    "        first_name.append(f)\n",
    "        last_name.append(l)\n",
    "        \n",
    "    df['first_name'] = first_name\n",
    "    df['last_name'] = last_name\n",
    "    return df, first_name"
   ]
  },
  {
   "cell_type": "code",
   "execution_count": 110,
   "id": "b09b6db2",
   "metadata": {},
   "outputs": [],
   "source": [
    "new_df, _ = split_name_df(final_df, 'Name')"
   ]
  },
  {
   "cell_type": "code",
   "execution_count": 112,
   "id": "e47b0b16",
   "metadata": {},
   "outputs": [
    {
     "data": {
      "text/html": [
       "<div>\n",
       "<style scoped>\n",
       "    .dataframe tbody tr th:only-of-type {\n",
       "        vertical-align: middle;\n",
       "    }\n",
       "\n",
       "    .dataframe tbody tr th {\n",
       "        vertical-align: top;\n",
       "    }\n",
       "\n",
       "    .dataframe thead th {\n",
       "        text-align: right;\n",
       "    }\n",
       "</style>\n",
       "<table border=\"1\" class=\"dataframe\">\n",
       "  <thead>\n",
       "    <tr style=\"text-align: right;\">\n",
       "      <th></th>\n",
       "      <th>Name</th>\n",
       "      <th>Gender</th>\n",
       "      <th>first_name</th>\n",
       "      <th>last_name</th>\n",
       "    </tr>\n",
       "  </thead>\n",
       "  <tbody>\n",
       "    <tr>\n",
       "      <th>0</th>\n",
       "      <td>rajesh kantilal halpati</td>\n",
       "      <td>Male</td>\n",
       "      <td>rajesh</td>\n",
       "      <td>kantilal halpati</td>\n",
       "    </tr>\n",
       "    <tr>\n",
       "      <th>1</th>\n",
       "      <td>dhodi dineshbhai babubhai</td>\n",
       "      <td>Male</td>\n",
       "      <td>dhodi</td>\n",
       "      <td>dineshbhai babubhai</td>\n",
       "    </tr>\n",
       "    <tr>\n",
       "      <th>2</th>\n",
       "      <td>damyanti pareshkumar</td>\n",
       "      <td>Female</td>\n",
       "      <td>damyanti</td>\n",
       "      <td>pareshkumar</td>\n",
       "    </tr>\n",
       "    <tr>\n",
       "      <th>3</th>\n",
       "      <td>solanki bharatiben bharat</td>\n",
       "      <td>Female</td>\n",
       "      <td>solanki</td>\n",
       "      <td>bharatiben bharat</td>\n",
       "    </tr>\n",
       "    <tr>\n",
       "      <th>4</th>\n",
       "      <td>divyesh mahesh kamli</td>\n",
       "      <td>Male</td>\n",
       "      <td>divyesh</td>\n",
       "      <td>mahesh kamli</td>\n",
       "    </tr>\n",
       "  </tbody>\n",
       "</table>\n",
       "</div>"
      ],
      "text/plain": [
       "                        Name  Gender first_name            last_name\n",
       "0    rajesh kantilal halpati    Male     rajesh     kantilal halpati\n",
       "1  dhodi dineshbhai babubhai    Male      dhodi  dineshbhai babubhai\n",
       "2       damyanti pareshkumar  Female   damyanti          pareshkumar\n",
       "3  solanki bharatiben bharat  Female    solanki    bharatiben bharat\n",
       "4       divyesh mahesh kamli    Male    divyesh         mahesh kamli"
      ]
     },
     "execution_count": 112,
     "metadata": {},
     "output_type": "execute_result"
    }
   ],
   "source": [
    "new_df.head()"
   ]
  },
  {
   "cell_type": "code",
   "execution_count": 69,
   "id": "78fd0ee9",
   "metadata": {},
   "outputs": [],
   "source": [
    "#  CBSE Parent data\n",
    "sys.path.insert(0, 'Models/CBSEData/CBSEPreProcessing/')\n",
    "\n",
    "from parse_cbse import *\n",
    "\n",
    "cbse = CBSEData()\n",
    "\n",
    "# 1 for male 0 for female\n"
   ]
  },
  {
   "cell_type": "code",
   "execution_count": 70,
   "id": "cf833f17",
   "metadata": {},
   "outputs": [],
   "source": [
    "# AIEEE Parent data"
   ]
  },
  {
   "cell_type": "code",
   "execution_count": null,
   "id": "27c3df44",
   "metadata": {},
   "outputs": [],
   "source": []
  }
 ],
 "metadata": {
  "kernelspec": {
   "display_name": "Python [conda env:.conda-py38] *",
   "language": "python",
   "name": "conda-env-.conda-py38-py"
  },
  "language_info": {
   "codemirror_mode": {
    "name": "ipython",
    "version": 3
   },
   "file_extension": ".py",
   "mimetype": "text/x-python",
   "name": "python",
   "nbconvert_exporter": "python",
   "pygments_lexer": "ipython3",
   "version": "3.8.11"
  }
 },
 "nbformat": 4,
 "nbformat_minor": 5
}
