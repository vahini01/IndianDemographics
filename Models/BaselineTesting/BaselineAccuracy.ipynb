{
 "cells": [
  {
   "cell_type": "code",
   "execution_count": 1,
   "id": "0a729e73",
   "metadata": {},
   "outputs": [
    {
     "data": {
      "text/plain": [
       "'/home/souvic/mounted/btp/vahini/Name2Demographics/Models/BaselineTesting'"
      ]
     },
     "execution_count": 1,
     "metadata": {},
     "output_type": "execute_result"
    }
   ],
   "source": [
    "%pwd"
   ]
  },
  {
   "cell_type": "code",
   "execution_count": 6,
   "id": "a377fe61",
   "metadata": {},
   "outputs": [
    {
     "name": "stdout",
     "output_type": "stream",
     "text": [
      "/home/souvic/mounted/btp/vahini/Name2Demographics\n"
     ]
    }
   ],
   "source": [
    "%cd ../../"
   ]
  },
  {
   "cell_type": "code",
   "execution_count": 8,
   "id": "08abbae9",
   "metadata": {},
   "outputs": [
    {
     "name": "stdout",
     "output_type": "stream",
     "text": [
      "49.79\n"
     ]
    }
   ],
   "source": [
    "path = \"Models/Baselines/Baselines/Genderize/genderize_er_first_names.csv\"\n",
    "\n",
    "import pandas as pd\n",
    "\n",
    "df  = pd.read_csv(path)\n",
    "df.head()\n",
    "\n",
    "count = 0\n",
    "for index, row in df.iterrows():\n",
    "    if(str(row['Gender']).strip().lower() == str(row['gender']).strip().lower()):\n",
    "        count = count + 1\n",
    "        \n",
    "total = df.shape[0]\n",
    "accuracy = round(count/total * 100, 2)\n",
    "print(accuracy)"
   ]
  },
  {
   "cell_type": "code",
   "execution_count": 7,
   "id": "91924d94",
   "metadata": {},
   "outputs": [
    {
     "name": "stdout",
     "output_type": "stream",
     "text": [
      "63.86\n"
     ]
    }
   ],
   "source": [
    "path = \"/home/souvic/mounted/btp/ndata/samples/Baselines/Genderize/genderize_aieee_first_name.csv\"\n",
    "\n",
    "import pandas as pd\n",
    "\n",
    "df  = pd.read_csv(path)\n",
    "df.head()\n",
    "\n",
    "count = 0\n",
    "for index, row in df.iterrows():\n",
    "    if(str(row['Gender']).strip().lower() == str(row['gender']).strip().lower()):\n",
    "        count = count + 1\n",
    "        \n",
    "total = df.shape[0]\n",
    "accuracy = round(count/total * 100, 2)\n",
    "print(accuracy)"
   ]
  },
  {
   "cell_type": "code",
   "execution_count": 11,
   "id": "cae3ebde",
   "metadata": {},
   "outputs": [
    {
     "name": "stdout",
     "output_type": "stream",
     "text": [
      "82.38\n"
     ]
    }
   ],
   "source": [
    "path = \"/home/souvic/mounted/btp/ndata/samples/Baselines/Genderize/genderize_cbse_first_names.csv\"\n",
    "\n",
    "import pandas as pd\n",
    "\n",
    "df  = pd.read_csv(path)\n",
    "df.head()\n",
    "\n",
    "count = 0\n",
    "for index, row in df.iterrows():\n",
    "    if(str(row['Gender']).strip().lower() == str(row['gender']).strip().lower()):\n",
    "        count = count + 1\n",
    "        \n",
    "total = df.shape[0]\n",
    "accuracy = round(count/total * 100, 2)\n",
    "print(accuracy)"
   ]
  },
  {
   "cell_type": "code",
   "execution_count": 9,
   "id": "3e2dbd98",
   "metadata": {},
   "outputs": [
    {
     "name": "stdout",
     "output_type": "stream",
     "text": [
      "92.8\n"
     ]
    }
   ],
   "source": [
    "path = \"Models/Baselines/Baselines/Forebears/forebears_cbse_first_name_part1.csv\"\n",
    "path1 = \"Models/Baselines/Baselines/Forebears/forebears_cbse_first_name_part2.csv\"\n",
    "path2 = \"Models/Baselines/Baselines/Forebears/forebears_cbse_first_name_part3.csv\"\n",
    "path3 = \"Models/Baselines/Baselines/Forebears/forebears_cbse_first_name_part4.csv\"\n",
    "path4 = \"Models/Baselines/Baselines/Forebears/forebears_cbse_first_name_part5.csv\"\n",
    "\n",
    "\n",
    "\n",
    "import pandas as pd\n",
    "\n",
    "df  = pd.read_csv(path)\n",
    "df1 = pd.read_csv(path1)\n",
    "df2 = pd.read_csv(path2)\n",
    "df3 = pd.read_csv(path3)\n",
    "df4 = pd.read_csv(path4)\n",
    "df.head()\n",
    "\n",
    "count = 0\n",
    "for index, row in df.iterrows():\n",
    "    if(str(row['Gender']).strip().lower()[0] == str(row['world_gender']).strip().lower()):\n",
    "        count = count + 1\n",
    "#         print(row['Gender'], row['world_gender'])\n",
    "\n",
    "for index, row in df1.iterrows():\n",
    "    if(str(row['Gender']).strip().lower()[0] == str(row['world_gender']).strip().lower()):\n",
    "        count = count + 1\n",
    "        \n",
    "for index, row in df2.iterrows():\n",
    "    if(str(row['Gender']).strip().lower()[0] == str(row['world_gender']).strip().lower()):\n",
    "        count = count + 1\n",
    "        \n",
    "for index, row in df3.iterrows():\n",
    "    if(str(row['Gender']).strip().lower()[0] == str(row['world_gender']).strip().lower()):\n",
    "        count = count + 1\n",
    "        \n",
    "for index, row in df4.iterrows():\n",
    "    if(str(row['Gender']).strip().lower()[0] == str(row['world_gender']).strip().lower()):\n",
    "        count = count + 1\n",
    "\n",
    "        \n",
    "total = df.shape[0]+df1.shape[0]+df2.shape[0]+df3.shape[0]+df4.shape[0]\n",
    "accuracy = round(count/total * 100, 2)\n",
    "print(accuracy)"
   ]
  },
  {
   "cell_type": "code",
   "execution_count": 26,
   "id": "45cd5d7f",
   "metadata": {},
   "outputs": [],
   "source": [
    "path = \"Models/Baselines/Baselines/Forebears/forebears_cbse_first_name_part1.csv\"\n",
    "path1 = \"Models/Baselines/Baselines/Forebears/forebears_cbse_first_name_part2.csv\"\n",
    "path2 = \"Models/Baselines/Baselines/Forebears/forebears_cbse_first_name_part3.csv\"\n",
    "path3 = \"Models/Baselines/Baselines/Forebears/forebears_cbse_first_name_part4.csv\"\n",
    "path4 = \"Models/Baselines/Baselines/Forebears/forebears_cbse_first_name_part5.csv\"\n",
    "\n",
    "\n",
    "\n",
    "import pandas as pd\n",
    "\n",
    "df  = pd.read_csv(path)\n",
    "df1 = pd.read_csv(path1)\n",
    "df2 = pd.read_csv(path2)\n",
    "df3 = pd.read_csv(path3)\n",
    "df4 = pd.read_csv(path4)\n",
    "\n",
    "finaldf = pd.concat([df, df1, df2, df3, df4] , ignore_index=True)\n",
    "del finaldf['Unnamed: 0']\n",
    "del finaldf['world_percent']\n",
    "del finaldf['jurisdiction_1']\n",
    "del finaldf['jurisdiction_1_gender']\n",
    "del finaldf['jurisdiction_1_percent']"
   ]
  },
  {
   "cell_type": "code",
   "execution_count": 30,
   "id": "e1544b1f",
   "metadata": {},
   "outputs": [],
   "source": [
    "finaldf.to_csv('Models/Baselines/Baselines/Forebears/forebears_cbse.csv')"
   ]
  },
  {
   "cell_type": "code",
   "execution_count": null,
   "id": "859df7e9",
   "metadata": {},
   "outputs": [],
   "source": [
    "path = \"Models/Baselines/Baselines/Forebears/forebears_aieee_first_name_part1.csv\"\n",
    "path1 = \"Models/Baselines/Baselines/Forebears/forebears_aieee_first_name_part2.csv\"\n",
    "path2 = \"Models/Baselines/Baselines/Forebears/forebears_aieee_first_name_part3.csv\"\n",
    "path3 = \"Models/Baselines/Baselines/Forebears/forebears_aieee_first_name_part4.csv\"\n",
    "path4 = \"Models/Baselines/Baselines/Forebears/forebears_aieee_first_name_part5.csv\"\n",
    "\n",
    "import pandas as pd\n",
    "\n",
    "df  = pd.read_csv(path)\n",
    "df1 = pd.read_csv(path1)\n",
    "df2 = pd.read_csv(path2)\n",
    "df3 = pd.read_csv(path3)\n",
    "df4 = pd.read_csv(path4)\n",
    "df.head()\n",
    "\n",
    "finaldf = pd.concat([df, df1, df2, df3, df4] , ignore_index=True)\n",
    "del finaldf['Unnamed: 0']\n",
    "del finaldf['world_percent']\n",
    "del finaldf['jurisdiction_1']\n",
    "del finaldf['jurisdiction_1_gender']\n",
    "del finaldf['jurisdiction_1_percent']\n",
    "\n",
    "finaldf.to_csv('Models/Baselines/Baselines/Forebears/forebears_aieee.csv')"
   ]
  },
  {
   "cell_type": "code",
   "execution_count": 11,
   "id": "f46bab25",
   "metadata": {},
   "outputs": [
    {
     "name": "stdout",
     "output_type": "stream",
     "text": [
      "82.0\n"
     ]
    }
   ],
   "source": [
    "path = \"Models/Baselines/Baselines/Forebears/forebears_aieee_first_name_part1.csv\"\n",
    "path1 = \"Models/Baselines/Baselines/Forebears/forebears_aieee_first_name_part2.csv\"\n",
    "path2 = \"Models/Baselines/Baselines/Forebears/forebears_aieee_first_name_part3.csv\"\n",
    "path3 = \"Models/Baselines/Baselines/Forebears/forebears_aieee_first_name_part4.csv\"\n",
    "path4 = \"Models/Baselines/Baselines/Forebears/forebears_aieee_first_name_part5.csv\"\n",
    "\n",
    "import pandas as pd\n",
    "\n",
    "df  = pd.read_csv(path)\n",
    "df1 = pd.read_csv(path1)\n",
    "df2 = pd.read_csv(path2)\n",
    "df3 = pd.read_csv(path3)\n",
    "df4 = pd.read_csv(path4)\n",
    "df.head()\n",
    "\n",
    "count = 0\n",
    "for index, row in df.iterrows():\n",
    "    if(str(row['Gender']).strip().lower()[0] == str(row['world_gender']).strip().lower()):\n",
    "        count = count + 1\n",
    "#         print(row['Gender'], row['world_gender'])\n",
    "\n",
    "for index, row in df1.iterrows():\n",
    "    if(str(row['Gender']).strip().lower()[0] == str(row['world_gender']).strip().lower()):\n",
    "        count = count + 1\n",
    "    \n",
    "for index, row in df2.iterrows():\n",
    "    if(str(row['Gender']).strip().lower()[0] == str(row['world_gender']).strip().lower()):\n",
    "        count = count + 1\n",
    "        \n",
    "for index, row in df3.iterrows():\n",
    "    if(str(row['Gender']).strip().lower()[0] == str(row['world_gender']).strip().lower()):\n",
    "        count = count + 1\n",
    "        \n",
    "for index, row in df4.iterrows():\n",
    "    if(str(row['Gender']).strip().lower()[0] == str(row['world_gender']).strip().lower()):\n",
    "        count = count + 1\n",
    "\n",
    "        \n",
    "total = df.shape[0]+df1.shape[0]+df2.shape[0]+df3.shape[0]+df4.shape[0]\n",
    "accuracy = round(count/total * 100, 2)\n",
    "print(accuracy)"
   ]
  },
  {
   "cell_type": "code",
   "execution_count": 21,
   "id": "5b96f8ab",
   "metadata": {},
   "outputs": [
    {
     "name": "stdout",
     "output_type": "stream",
     "text": [
      "71.46\n"
     ]
    }
   ],
   "source": [
    "path = \"Models/Baselines/Baselines/Forebears/forebears_er_first_name_part1.csv\"\n",
    "path1 = \"Models/Baselines/Baselines/Forebears/forebears_er_first_name_part2.csv\"\n",
    "path2 = \"Models/Baselines/Baselines/Forebears/forebears_er_first_name_part3.csv\"\n",
    "path3 = \"Models/Baselines/Baselines/Forebears/forebears_er_first_name_part4.csv\"\n",
    "path4 = \"Models/Baselines/Baselines/Forebears/forebears_er_first_name_part5.csv\"\n",
    "\n",
    "import pandas as pd\n",
    "\n",
    "df  = pd.read_csv(path)\n",
    "df1 = pd.read_csv(path1)\n",
    "df2 = pd.read_csv(path2)\n",
    "df3 = pd.read_csv(path3)\n",
    "df4 = pd.read_csv(path4)\n",
    "df.head()\n",
    "\n",
    "count = 0\n",
    "for index, row in df.iterrows():\n",
    "    if(str(row['Gender']).strip().lower()[0] == str(row['world_gender']).strip().lower()):\n",
    "        count = count + 1\n",
    "#         print(row['Gender'], row['world_gender'])\n",
    "\n",
    "for index, row in df1.iterrows():\n",
    "    if(str(row['Gender']).strip().lower()[0] == str(row['world_gender']).strip().lower()):\n",
    "        count = count + 1\n",
    "\n",
    "for index, row in df2.iterrows():\n",
    "    if(str(row['Gender']).strip().lower()[0] == str(row['world_gender']).strip().lower()):\n",
    "        count = count + 1\n",
    "        \n",
    "for index, row in df3.iterrows():\n",
    "    if(str(row['Gender']).strip().lower()[0] == str(row['world_gender']).strip().lower()):\n",
    "        count = count + 1\n",
    "        \n",
    "for index, row in df4.iterrows():\n",
    "    if(str(row['Gender']).strip().lower()[0] == str(row['world_gender']).strip().lower()):\n",
    "        count = count + 1\n",
    "\n",
    "        \n",
    "total = df.shape[0]+df1.shape[0]+df2.shape[0]+df3.shape[0]+df4.shape[0]\n",
    "accuracy = round(count/total * 100, 2)\n",
    "print(accuracy)"
   ]
  },
  {
   "cell_type": "code",
   "execution_count": null,
   "id": "2f2d3829",
   "metadata": {},
   "outputs": [],
   "source": []
  }
 ],
 "metadata": {
  "kernelspec": {
   "display_name": "Python [conda env:.conda-py38] *",
   "language": "python",
   "name": "conda-env-.conda-py38-py"
  },
  "language_info": {
   "codemirror_mode": {
    "name": "ipython",
    "version": 3
   },
   "file_extension": ".py",
   "mimetype": "text/x-python",
   "name": "python",
   "nbconvert_exporter": "python",
   "pygments_lexer": "ipython3",
   "version": "3.8.11"
  }
 },
 "nbformat": 4,
 "nbformat_minor": 5
}
