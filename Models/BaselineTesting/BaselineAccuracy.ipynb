{
 "cells": [
  {
   "cell_type": "code",
   "execution_count": 1,
   "id": "0a729e73",
   "metadata": {},
   "outputs": [
    {
     "data": {
      "text/plain": [
       "'/home/souvic/mounted/btp/vahini/Name2Demographics/Models/Data'"
      ]
     },
     "execution_count": 1,
     "metadata": {},
     "output_type": "execute_result"
    }
   ],
   "source": [
    "%pwd"
   ]
  },
  {
   "cell_type": "code",
   "execution_count": 5,
   "id": "08abbae9",
   "metadata": {},
   "outputs": [
    {
     "name": "stdout",
     "output_type": "stream",
     "text": [
      "49.79\n"
     ]
    }
   ],
   "source": [
    "path = \"/home/souvic/mounted/btp/ndata/samples/Baselines/Genderize/genderize_er_first_names.csv\"\n",
    "\n",
    "import pandas as pd\n",
    "\n",
    "df  = pd.read_csv(path)\n",
    "df.head()\n",
    "\n",
    "count = 0\n",
    "for index, row in df.iterrows():\n",
    "    if(str(row['Gender']).strip().lower() == str(row['gender']).strip().lower()):\n",
    "        count = count + 1\n",
    "        \n",
    "total = df.shape[0]\n",
    "accuracy = round(count/total * 100, 2)\n",
    "print(accuracy)"
   ]
  },
  {
   "cell_type": "code",
   "execution_count": 7,
   "id": "91924d94",
   "metadata": {},
   "outputs": [
    {
     "name": "stdout",
     "output_type": "stream",
     "text": [
      "63.86\n"
     ]
    }
   ],
   "source": [
    "path = \"/home/souvic/mounted/btp/ndata/samples/Baselines/Genderize/genderize_aieee_first_name.csv\"\n",
    "\n",
    "import pandas as pd\n",
    "\n",
    "df  = pd.read_csv(path)\n",
    "df.head()\n",
    "\n",
    "count = 0\n",
    "for index, row in df.iterrows():\n",
    "    if(str(row['Gender']).strip().lower() == str(row['gender']).strip().lower()):\n",
    "        count = count + 1\n",
    "        \n",
    "total = df.shape[0]\n",
    "accuracy = round(count/total * 100, 2)\n",
    "print(accuracy)"
   ]
  },
  {
   "cell_type": "code",
   "execution_count": 11,
   "id": "cae3ebde",
   "metadata": {},
   "outputs": [
    {
     "name": "stdout",
     "output_type": "stream",
     "text": [
      "82.38\n"
     ]
    }
   ],
   "source": [
    "path = \"/home/souvic/mounted/btp/ndata/samples/Baselines/Genderize/genderize_cbse_first_names.csv\"\n",
    "\n",
    "import pandas as pd\n",
    "\n",
    "df  = pd.read_csv(path)\n",
    "df.head()\n",
    "\n",
    "count = 0\n",
    "for index, row in df.iterrows():\n",
    "    if(str(row['Gender']).strip().lower() == str(row['gender']).strip().lower()):\n",
    "        count = count + 1\n",
    "        \n",
    "total = df.shape[0]\n",
    "accuracy = round(count/total * 100, 2)\n",
    "print(accuracy)"
   ]
  },
  {
   "cell_type": "code",
   "execution_count": 29,
   "id": "3e2dbd98",
   "metadata": {},
   "outputs": [
    {
     "name": "stdout",
     "output_type": "stream",
     "text": [
      "91.0\n"
     ]
    }
   ],
   "source": [
    "path = \"/home/souvic/mounted/btp/ndata/samples/Baselines/Forebears/forebears_cbse_first_name_part1.csv\"\n",
    "path1 = \"/home/souvic/mounted/btp/ndata/samples/Baselines/Forebears/forebears_cbse_first_name_part2.csv\"\n",
    "\n",
    "\n",
    "import pandas as pd\n",
    "\n",
    "df  = pd.read_csv(path)\n",
    "df1 = pd.read_csv(path1)\n",
    "df.head()\n",
    "\n",
    "count = 0\n",
    "for index, row in df.iterrows():\n",
    "    if(str(row['Gender']).strip().lower()[0] == str(row['world_gender']).strip().lower()):\n",
    "        count = count + 1\n",
    "#         print(row['Gender'], row['world_gender'])\n",
    "\n",
    "for index, row in df1.iterrows():\n",
    "    if(str(row['Gender']).strip().lower()[0] == str(row['world_gender']).strip().lower()):\n",
    "        count = count + 1\n",
    "\n",
    "        \n",
    "total = df.shape[0]+df1.shape[0]\n",
    "accuracy = round(count/total * 100, 2)\n",
    "print(accuracy)"
   ]
  },
  {
   "cell_type": "code",
   "execution_count": 28,
   "id": "f46bab25",
   "metadata": {},
   "outputs": [
    {
     "name": "stdout",
     "output_type": "stream",
     "text": [
      "83.25\n"
     ]
    }
   ],
   "source": [
    "path = \"/home/souvic/mounted/btp/ndata/samples/Baselines/Forebears/forebears_aieee_first_name_part1.csv\"\n",
    "path1 = \"/home/souvic/mounted/btp/ndata/samples/Baselines/Forebears/forebears_aieee_first_name_part2.csv\"\n",
    "\n",
    "\n",
    "import pandas as pd\n",
    "\n",
    "df  = pd.read_csv(path)\n",
    "df1 = pd.read_csv(path1)\n",
    "df.head()\n",
    "\n",
    "count = 0\n",
    "for index, row in df.iterrows():\n",
    "    if(str(row['Gender']).strip().lower()[0] == str(row['world_gender']).strip().lower()):\n",
    "        count = count + 1\n",
    "#         print(row['Gender'], row['world_gender'])\n",
    "\n",
    "for index, row in df1.iterrows():\n",
    "    if(str(row['Gender']).strip().lower()[0] == str(row['world_gender']).strip().lower()):\n",
    "        count = count + 1\n",
    "\n",
    "        \n",
    "total = df.shape[0]+df1.shape[0]\n",
    "accuracy = round(count/total * 100, 2)\n",
    "print(accuracy)"
   ]
  },
  {
   "cell_type": "code",
   "execution_count": 27,
   "id": "5b96f8ab",
   "metadata": {},
   "outputs": [
    {
     "name": "stdout",
     "output_type": "stream",
     "text": [
      "62.08\n"
     ]
    }
   ],
   "source": [
    "path = \"/home/souvic/mounted/btp/ndata/samples/Baselines/Forebears/forebears_er_first_name_part1.csv\"\n",
    "path1 = \"/home/souvic/mounted/btp/ndata/samples/Baselines/Forebears/forebears_er_first_name_part2.csv\"\n",
    "\n",
    "\n",
    "import pandas as pd\n",
    "\n",
    "df  = pd.read_csv(path)\n",
    "df1 = pd.read_csv(path1)\n",
    "df.head()\n",
    "\n",
    "count = 0\n",
    "for index, row in df.iterrows():\n",
    "    if(str(row['Gender']).strip().lower()[0] == str(row['world_gender']).strip().lower()):\n",
    "        count = count + 1\n",
    "#         print(row['Gender'], row['world_gender'])\n",
    "\n",
    "for index, row in df1.iterrows():\n",
    "    if(str(row['Gender']).strip().lower()[0] == str(row['world_gender']).strip().lower()):\n",
    "        count = count + 1\n",
    "\n",
    "        \n",
    "total = df.shape[0]+df1.shape[0]\n",
    "accuracy = round(count/total * 100, 2)\n",
    "print(accuracy)"
   ]
  },
  {
   "cell_type": "code",
   "execution_count": null,
   "id": "d90a644e",
   "metadata": {},
   "outputs": [],
   "source": []
  }
 ],
 "metadata": {
  "kernelspec": {
   "display_name": "Python [conda env:.conda-py38] *",
   "language": "python",
   "name": "conda-env-.conda-py38-py"
  },
  "language_info": {
   "codemirror_mode": {
    "name": "ipython",
    "version": 3
   },
   "file_extension": ".py",
   "mimetype": "text/x-python",
   "name": "python",
   "nbconvert_exporter": "python",
   "pygments_lexer": "ipython3",
   "version": "3.8.11"
  }
 },
 "nbformat": 4,
 "nbformat_minor": 5
}
