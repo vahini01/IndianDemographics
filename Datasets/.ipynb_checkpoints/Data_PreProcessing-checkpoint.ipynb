{
 "cells": [
  {
   "cell_type": "code",
   "execution_count": 1,
   "metadata": {},
   "outputs": [],
   "source": [
    "import pandas as pd\n",
    "from bisect import bisect_left"
   ]
  },
  {
   "cell_type": "code",
   "execution_count": 2,
   "metadata": {},
   "outputs": [],
   "source": [
    "input = pd.read_csv(\"../CBSEData/cbse_gender_names_list.csv\")\n",
    "cbse_df = pd.read_csv(\"../CBSEData/cbse_data_with_duplicates.csv\")"
   ]
  },
  {
   "cell_type": "code",
   "execution_count": 3,
   "metadata": {},
   "outputs": [
    {
     "name": "stdout",
     "output_type": "stream",
     "text": [
      "(205545, 3)\n",
      "(388846, 3)\n"
     ]
    }
   ],
   "source": [
    "print(input.shape)\n",
    "print(cbse_df.shape)"
   ]
  },
  {
   "cell_type": "code",
   "execution_count": 4,
   "metadata": {},
   "outputs": [],
   "source": [
    "def get_freq_and_percent_df(df, column_name):\n",
    "    freq_df = df[column_name].value_counts()\n",
    "    return freq_df"
   ]
  },
  {
   "cell_type": "code",
   "execution_count": 5,
   "metadata": {},
   "outputs": [],
   "source": [
    "def print_gender_count_stats(input, cbse_df):\n",
    "    stats_without_duplicates = get_freq_and_percent_df(input, 'Gender')\n",
    "    stats = get_freq_and_percent_df(cbse_df, 'Gender')\n",
    "    print('CBSE DATA: \\n')\n",
    "    print(f'1. Actual Statistics: \\n')\n",
    "    print(stats.head())\n",
    "    print(f'2. After Removing duplicates: \\n')\n",
    "    print(stats_without_duplicates.head())"
   ]
  },
  {
   "cell_type": "code",
   "execution_count": 6,
   "metadata": {},
   "outputs": [
    {
     "name": "stdout",
     "output_type": "stream",
     "text": [
      "CBSE DATA: \n",
      "\n",
      "1. Actual Statistics: \n",
      "\n",
      "Boy     194423\n",
      "Girl    194423\n",
      "Name: Gender, dtype: int64\n",
      "2. After Removing duplicates: \n",
      "\n",
      "Boy     114089\n",
      "Girl     91456\n",
      "Name: Gender, dtype: int64\n"
     ]
    }
   ],
   "source": [
    "print_gender_count_stats(input, cbse_df)"
   ]
  },
  {
   "cell_type": "markdown",
   "metadata": {},
   "source": [
    "Questions:\n",
    "Similar questions for first name and with complete name.\n",
    "1. What are Top 5 female and male names?\n",
    "2. How many names are both male and female?\n",
    "3. What is the female and male ratio of the dataset"
   ]
  },
  {
   "cell_type": "code",
   "execution_count": 7,
   "metadata": {},
   "outputs": [],
   "source": [
    "def print_top_5_male_female_common_names(cbse_df):\n",
    "    Male_df=cbse_df.groupby(['Gender']).get_group('Boy')\n",
    "    Female_df=cbse_df.groupby(['Gender']).get_group('Girl')\n",
    "    Male_df_freq = get_freq_and_percent_df(Male_df, 'Name')\n",
    "    Female_df_freq = get_freq_and_percent_df(Female_df, 'Name')\n",
    "    print('Most frequent Male Names:')\n",
    "    print(Male_df_freq.head())\n",
    "    print('Most frequenct Female Names:')\n",
    "    print(Female_df_freq.head())\n",
    "\n",
    "    print('Most common names used in both genders:')\n",
    "    # update it to use frequency counts\n",
    "    male_names = list(set(Male_df.Name.astype(str)))\n",
    "    female_names = list(set(Female_df.Name.astype(str)))\n",
    "    common = []\n",
    "\n",
    "    male_names.sort()\n",
    "    female_names.sort()\n",
    "\n",
    "    # # optimized way sort and do a binary search\n",
    "    for elem in male_names:\n",
    "#         i = bisect_left(female_names, elem)\n",
    "#         if i!= len(female_names) and female_names[i]==elem:\n",
    "#             common.append(elem)\n",
    "        if elem in female_names:\n",
    "            common.append(elem)\n",
    "            \n",
    "    "
   ]
  },
  {
   "cell_type": "code",
   "execution_count": 82,
   "metadata": {},
   "outputs": [],
   "source": [
    "def extract_first_name_last_name(cbse_df):\n",
    "    cbse_df['namelen']= [len(str(i)) for i in cbse_df['Name']]\n",
    "    cbse_df = cbse_df[(cbse_df['namelen'] >= 2) ]\n",
    "    cbse_df['first_name'] = [str(name).split(' ')[0]  for name in cbse_df['Name']]\n",
    "    cbse_df['last_name'] = [' '.join(str(name).split(\" \")[1:]) for name in cbse_df['Name']]"
   ]
  },
  {
   "cell_type": "code",
   "execution_count": 83,
   "metadata": {},
   "outputs": [
    {
     "name": "stdout",
     "output_type": "stream",
     "text": [
      "(388846, 2)\n"
     ]
    }
   ],
   "source": [
    "first_names = pd.DataFrame(cbse_df['first_name'])\n",
    "first_names['Gender'] = cbse_df['Gender']\n",
    "print(first_names.shape)"
   ]
  },
  {
   "cell_type": "code",
   "execution_count": 84,
   "metadata": {},
   "outputs": [
    {
     "data": {
      "text/html": [
       "<div>\n",
       "<style scoped>\n",
       "    .dataframe tbody tr th:only-of-type {\n",
       "        vertical-align: middle;\n",
       "    }\n",
       "\n",
       "    .dataframe tbody tr th {\n",
       "        vertical-align: top;\n",
       "    }\n",
       "\n",
       "    .dataframe thead th {\n",
       "        text-align: right;\n",
       "    }\n",
       "</style>\n",
       "<table border=\"1\" class=\"dataframe\">\n",
       "  <thead>\n",
       "    <tr style=\"text-align: right;\">\n",
       "      <th></th>\n",
       "      <th>first_name</th>\n",
       "      <th>Gender</th>\n",
       "    </tr>\n",
       "  </thead>\n",
       "  <tbody>\n",
       "    <tr>\n",
       "      <th>0</th>\n",
       "      <td>RAJSHREE</td>\n",
       "      <td>Girl</td>\n",
       "    </tr>\n",
       "    <tr>\n",
       "      <th>1</th>\n",
       "      <td>JYOTHI</td>\n",
       "      <td>Girl</td>\n",
       "    </tr>\n",
       "    <tr>\n",
       "      <th>2</th>\n",
       "      <td>NITU</td>\n",
       "      <td>Girl</td>\n",
       "    </tr>\n",
       "    <tr>\n",
       "      <th>3</th>\n",
       "      <td>SARIKA</td>\n",
       "      <td>Girl</td>\n",
       "    </tr>\n",
       "    <tr>\n",
       "      <th>4</th>\n",
       "      <td>KETKI</td>\n",
       "      <td>Girl</td>\n",
       "    </tr>\n",
       "  </tbody>\n",
       "</table>\n",
       "</div>"
      ],
      "text/plain": [
       "  first_name Gender\n",
       "0   RAJSHREE   Girl\n",
       "1     JYOTHI   Girl\n",
       "2       NITU   Girl\n",
       "3     SARIKA   Girl\n",
       "4      KETKI   Girl"
      ]
     },
     "execution_count": 84,
     "metadata": {},
     "output_type": "execute_result"
    }
   ],
   "source": [
    "first_names.head()"
   ]
  },
  {
   "cell_type": "code",
   "execution_count": 87,
   "metadata": {},
   "outputs": [
    {
     "name": "stdout",
     "output_type": "stream",
     "text": [
      "RAJESH      4271\n",
      "SANJAY      3708\n",
      "ASHOK       3476\n",
      "RAJENDRA    3354\n",
      "ANIL        3261\n",
      "Name: first_name, dtype: int64\n",
      "SUNITA    6232\n",
      "ANITA     4400\n",
      "MANJU     3914\n",
      "SEEMA     3328\n",
      "REKHA     3310\n",
      "Name: first_name, dtype: int64\n"
     ]
    }
   ],
   "source": [
    "Male_df=first_names.groupby(['Gender']).get_group('Boy')\n",
    "Female_df=first_names.groupby(['Gender']).get_group('Girl')\n",
    "# print(Male_df.groupby('first_name').count().sort_values(by=\"Gender\", ascending=False).head())\n",
    "# print(Female_df.groupby('first_name').count().sort_values(by='Gender', ascending=False).head())\n",
    "print(Male_df['first_name'].value_counts().head())\n",
    "print(Female_df['first_name'].value_counts().head())"
   ]
  },
  {
   "cell_type": "code",
   "execution_count": 94,
   "metadata": {},
   "outputs": [],
   "source": [
    "Male_df = Male_df.drop_duplicates()\n",
    "Female_df = Female_df.drop_duplicates()"
   ]
  },
  {
   "cell_type": "code",
   "execution_count": 95,
   "metadata": {},
   "outputs": [
    {
     "name": "stderr",
     "output_type": "stream",
     "text": [
      "<ipython-input-95-3f1e0badf5aa>:1: SettingWithCopyWarning: \n",
      "A value is trying to be set on a copy of a slice from a DataFrame.\n",
      "Try using .loc[row_indexer,col_indexer] = value instead\n",
      "\n",
      "See the caveats in the documentation: https://pandas.pydata.org/pandas-docs/stable/user_guide/indexing.html#returning-a-view-versus-a-copy\n",
      "  Male_df['last_letter'] = [str(name)[-1] for name in Male_df['first_name']]\n",
      "<ipython-input-95-3f1e0badf5aa>:3: SettingWithCopyWarning: \n",
      "A value is trying to be set on a copy of a slice from a DataFrame.\n",
      "Try using .loc[row_indexer,col_indexer] = value instead\n",
      "\n",
      "See the caveats in the documentation: https://pandas.pydata.org/pandas-docs/stable/user_guide/indexing.html#returning-a-view-versus-a-copy\n",
      "  Female_df['last_letter'] = [str(name)[-1] for name in Female_df['first_name']]\n"
     ]
    }
   ],
   "source": [
    "Male_df['last_letter'] = [str(name)[-1] for name in Male_df['first_name']]\n",
    "# Male_df['last_but_one_letter'] = [str(name)[-2] for name in Male_df['first_name']]\n",
    "Female_df['last_letter'] = [str(name)[-1] for name in Female_df['first_name']]"
   ]
  },
  {
   "cell_type": "code",
   "execution_count": 97,
   "metadata": {},
   "outputs": [
    {
     "name": "stdout",
     "output_type": "stream",
     "text": [
      "         first_name Gender last_letter\n",
      "194423  PARESHKUMAR    Boy           R\n",
      "194424     HEMENDRA    Boy           A\n",
      "194425       DINESH    Boy           H\n",
      "194426       SUNDER    Boy           R\n",
      "194427        ANAND    Boy           D\n",
      "(13769, 3)\n",
      "  first_name Gender last_letter\n",
      "0   RAJSHREE   Girl           E\n",
      "1     JYOTHI   Girl           I\n",
      "2       NITU   Girl           U\n",
      "3     SARIKA   Girl           A\n",
      "4      KETKI   Girl           I\n",
      "(11965, 3)\n"
     ]
    }
   ],
   "source": [
    "print(Male_df.head())\n",
    "print(Male_df.shape)\n",
    "print(Female_df.head())\n",
    "print(Female_df.shape)"
   ]
  },
  {
   "cell_type": "code",
   "execution_count": 115,
   "metadata": {},
   "outputs": [],
   "source": [
    "Female_list = Female_df['last_letter'].value_counts().sort_index().to_list() / Female_df['last_letter'].value_counts().sum()\n",
    "Male_list = Male_df['last_letter'].value_counts().sort_index().to_list()[2:-2] / Male_df['last_letter'].value_counts().sum()"
   ]
  },
  {
   "cell_type": "code",
   "execution_count": 120,
   "metadata": {},
   "outputs": [],
   "source": [
    "X = ['A', 'B', 'C', 'D' , 'E', 'F', 'G', 'H', 'I', 'J', 'K', 'L', 'M', 'N', 'O', 'P', 'Q' , 'R' , 'S', 'T', 'U', 'V', 'W','X','Y','Z']"
   ]
  },
  {
   "cell_type": "code",
   "execution_count": 154,
   "metadata": {},
   "outputs": [
    {
     "data": {
      "image/png": "[encoded data removed]",
      "text/plain": [
       "<Figure size 432x288 with 1 Axes>"
      ]
     },
     "metadata": {
      "needs_background": "light"
     },
     "output_type": "display_data"
    }
   ],
   "source": [
    "import numpy as np \n",
    "import matplotlib.pyplot as plt \n",
    "  \n",
    "X_axis = np.arange(len(X))\n",
    "  \n",
    "plt.bar(X_axis - 0.2, Female_list, 0.4, label = 'Female')\n",
    "plt.bar(X_axis + 0.2, Male_list, 0.4, label = 'Male')\n",
    "  \n",
    "plt.xticks(X_axis, X)\n",
    "plt.xlabel(\"Last char of first name\")\n",
    "plt.ylabel(\"Percentage of students(cbse data)\")\n",
    "# plt.title(\"Number of Students in each group\")\n",
    "plt.legend()\n",
    "plt.show()"
   ]
  },
  {
   "cell_type": "code",
   "execution_count": 123,
   "metadata": {},
   "outputs": [
    {
     "name": "stderr",
     "output_type": "stream",
     "text": [
      "<ipython-input-123-df172fc8f105>:1: SettingWithCopyWarning: \n",
      "A value is trying to be set on a copy of a slice from a DataFrame.\n",
      "Try using .loc[row_indexer,col_indexer] = value instead\n",
      "\n",
      "See the caveats in the documentation: https://pandas.pydata.org/pandas-docs/stable/user_guide/indexing.html#returning-a-view-versus-a-copy\n",
      "  Male_df['last_2_letter'] = [str(name)[-2:] for name in Male_df['first_name']]\n",
      "<ipython-input-123-df172fc8f105>:3: SettingWithCopyWarning: \n",
      "A value is trying to be set on a copy of a slice from a DataFrame.\n",
      "Try using .loc[row_indexer,col_indexer] = value instead\n",
      "\n",
      "See the caveats in the documentation: https://pandas.pydata.org/pandas-docs/stable/user_guide/indexing.html#returning-a-view-versus-a-copy\n",
      "  Female_df['last_2_letter'] = [str(name)[-2:] for name in Female_df['first_name']]\n"
     ]
    }
   ],
   "source": [
    "Male_df['last_2_letter'] = [str(name)[-2:] for name in Male_df['first_name']]\n",
    "# Male_df['last_but_one_letter'] = [str(name)[-2] for name in Male_df['first_name']]\n",
    "Female_df['last_2_letter'] = [str(name)[-2:] for name in Female_df['first_name']]"
   ]
  },
  {
   "cell_type": "code",
   "execution_count": 143,
   "metadata": {},
   "outputs": [],
   "source": [
    "ml = Male_df['last_2_letter'].value_counts().sort_index()\n",
    "fl = Female_df['last_2_letter'].value_counts().sort_index()\n",
    "heat_map_values = []\n",
    "for i in range(0,26):\n",
    "    arr = []\n",
    "    for j in range(0,26):\n",
    "        string = X[i]+X[j]\n",
    "        if string in fl.index:\n",
    "            f = fl[string]\n",
    "        else: f = 0\n",
    "            \n",
    "        if string in ml.index:\n",
    "            m = ml[string]\n",
    "        else: m = 0\n",
    "            \n",
    "        if m == 0:\n",
    "            prob = 1\n",
    "        elif f == 0:\n",
    "            prob = 0\n",
    "        else: prob = f/(f+m)\n",
    "#         prob = fl[string]/(fl[string]+ml[string])\n",
    "        arr.append(prob)\n",
    "    heat_map_values.append(arr)"
   ]
  },
  {
   "cell_type": "code",
   "execution_count": 153,
   "metadata": {},
   "outputs": [
    {
     "data": {
      "text/plain": [
       "<AxesSubplot:>"
      ]
     },
     "execution_count": 153,
     "metadata": {},
     "output_type": "execute_result"
    },
    {
     "data": {
      "image/png": "[encoded data removed]",
      "text/plain": [
       "<Figure size 720x720 with 2 Axes>"
      ]
     },
     "metadata": {
      "needs_background": "light"
     },
     "output_type": "display_data"
    }
   ],
   "source": [
    "import seaborn as sns\n",
    "plt.figure(figsize = (10,10))\n",
    "sns.heatmap(heat_map_values, xticklabels=X, yticklabels=X, linewidth = .1)"
   ]
  },
  {
   "cell_type": "code",
   "execution_count": null,
   "metadata": {},
   "outputs": [],
   "source": [
    "Female_list = Female_df['last_letter'].value_counts().sort_index().to_list() / Female_df['last_letter'].value_counts().sum()\n",
    "Male_list = Male_df['last_letter'].value_counts().sort_index().to_list()[2:-2] / Male_df['last_letter'].value_counts().sum()"
   ]
  }
 ],
 "metadata": {
  "kernelspec": {
   "display_name": "Python 3",
   "language": "python",
   "name": "python3"
  },
  "language_info": {
   "codemirror_mode": {
    "name": "ipython",
    "version": 3
   },
   "file_extension": ".py",
   "mimetype": "text/x-python",
   "name": "python",
   "nbconvert_exporter": "python",
   "pygments_lexer": "ipython3",
   "version": "3.8.0"
  }
 },
 "nbformat": 4,
 "nbformat_minor": 4
}
