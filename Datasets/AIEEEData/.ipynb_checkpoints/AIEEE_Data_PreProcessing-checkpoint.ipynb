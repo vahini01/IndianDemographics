{
 "cells": [
  {
   "cell_type": "markdown",
   "metadata": {
    "id": "nzVN8H1JSC1y"
   },
   "source": [
    "Adding Caste category to Student Names"
   ]
  },
  {
   "cell_type": "code",
   "execution_count": null,
   "metadata": {
    "id": "t6MZaq8BSgtx"
   },
   "outputs": [],
   "source": [
    "import tensorflow as tf\n",
    "from __future__ import print_function\n",
    "\n",
    "from sklearn.preprocessing import OneHotEncoder\n",
    "from keras.layers.core import Dense, Activation, Dropout\n",
    "from keras.preprocessing import sequence\n",
    "from keras.models import Sequential, load_model\n",
    "from keras.layers import Dense, Embedding\n",
    "from keras.layers import LSTM, Embedding\n",
    "from keras.datasets import imdb\n",
    "import pandas as pd\n",
    "import numpy as np\n",
    "import os\n",
    "\n",
    "from keras.layers import Input, Embedding, Activation, Flatten, Dense\n",
    "from keras.layers import Conv1D, MaxPooling1D, Dropout\n",
    "from keras.models import Model\n",
    "from sklearn.metrics import classification_report"
   ]
  },
  {
   "cell_type": "code",
   "execution_count": null,
   "metadata": {
    "id": "BRrGUREITYPF"
   },
   "outputs": [],
   "source": [
    "def vocab():\n",
    "    alpha = ['a','b','c','d','e','f','g','h','i','j','k','l','m','n','o','p','q','r','s','t','u','v','w','x','y','z']\n",
    "    special = [' ']\n",
    "    vocab = alpha+special+['END']\n",
    "\n",
    "    return vocab"
   ]
  },
  {
   "cell_type": "code",
   "execution_count": null,
   "metadata": {
    "id": "PvnLSvBxSxUN"
   },
   "outputs": [],
   "source": [
    "def getIndex(df, maxlen, file):\n",
    "    '''\n",
    "    #take input upto max and truncate rest\n",
    "    #encode to vector space(one hot encoding)\n",
    "    #padd 'END' to shorter sequences\n",
    "    #also convert each name to list of indices that can be passed onto \n",
    "    '''\n",
    "    if df.shape == (0,0):\n",
    "        return np.empty(0), np.empty(0)\n",
    "    \n",
    "    df = df.reset_index(drop=True)\n",
    "\n",
    "    voc = vocab()\n",
    "    char_index = dict((c, i) for i, c in enumerate(voc))    \n",
    "    X = []\n",
    "    next_name = False\n",
    "    \n",
    "    # Club all the whitespaces\n",
    "    df['Name'] = [re.sub('[ \\t\\n]+',' ', str(name)) for name in df['Name']]\n",
    "    \n",
    "    trunc_X = [str(i).lower()[0:maxlen] for i in df['Name']]\n",
    "    for i in range(len(trunc_X)):\n",
    "        name = trunc_X[i]\n",
    "        tmp = []\n",
    "        for char in str(name):\n",
    "            if char not in voc:\n",
    "                with open(file,'a') as f:\n",
    "                    f.write(name+'\\n')\n",
    "                next_name = True\n",
    "                break\n",
    "            else:\n",
    "                tmp.append(char_index[char])\n",
    "        if next_name:\n",
    "            next_name = False\n",
    "            continue\n",
    "        for k in range(0,maxlen - len(str(name))):\n",
    "            tmp.append(char_index[\"END\"])\n",
    "        X.append(tmp)\n",
    "            \n",
    "    return np.asarray(X)"
   ]
  },
  {
   "cell_type": "code",
   "execution_count": null,
   "metadata": {
    "id": "XQgl4w4RSskM"
   },
   "outputs": [],
   "source": [
    "def testData(df, model):\n",
    "    # df = preprocessData(df)\n",
    "    test_x = getIndex(df, 30, 'oov.txt')\n",
    "    print(\"-------------------STATS OF DATA-----------------------\")\n",
    "    print(\"SHAPE: \", df.shape)\n",
    "    print(df.groupby('Gender')['Name'].count())\n",
    "    print(\"-------------------------------------------------------\")\n",
    "    \n",
    "    pred = model.predict(np.asarray(test_x))\n",
    "    y_pred = np.argmax(pred, axis=1)\n",
    "    return y_pred"
   ]
  },
  {
   "cell_type": "code",
   "execution_count": null,
   "metadata": {
    "colab": {
     "base_uri": "https://localhost:8080/"
    },
    "id": "CCqrH2MESNPV",
    "outputId": "ad7dcd98-fba5-40e7-f846-6dfe5f8db0f8"
   },
   "outputs": [
    {
     "name": "stdout",
     "output_type": "stream",
     "text": [
      "WARNING:tensorflow:SavedModel saved prior to TF 2.5 detected when loading Keras model. Please ensure that you are saving the model with model.save() or tf.keras.models.save_model(), *NOT* tf.saved_model.save(). To confirm, there should be a file named \"keras_metadata.pb\" in the SavedModel directory.\n"
     ]
    }
   ],
   "source": [
    "filename = \"ERModel/ERModel\"\n",
    "model = load_model(filename)"
   ]
  },
  {
   "cell_type": "code",
   "execution_count": null,
   "metadata": {
    "colab": {
     "base_uri": "https://localhost:8080/",
     "height": 312
    },
    "id": "KMajScaaTwVf",
    "outputId": "44439bd4-a656-4986-c2a7-2a5a1130ded5"
   },
   "outputs": [
    {
     "ename": "NameError",
     "evalue": "ignored",
     "output_type": "error",
     "traceback": [
      "\u001b[0;31m---------------------------------------------------------------------------\u001b[0m",
      "\u001b[0;31mNameError\u001b[0m                                 Traceback (most recent call last)",
      "\u001b[0;32m<ipython-input-180-5ae63c92242c>\u001b[0m in \u001b[0;36m<module>\u001b[0;34m()\u001b[0m\n\u001b[0;32m----> 1\u001b[0;31m \u001b[0mtestData\u001b[0m\u001b[0;34m(\u001b[0m\u001b[0mcm_df\u001b[0m\u001b[0;34m,\u001b[0m \u001b[0mmodel\u001b[0m\u001b[0;34m)\u001b[0m\u001b[0;34m\u001b[0m\u001b[0;34m\u001b[0m\u001b[0m\n\u001b[0m",
      "\u001b[0;32m<ipython-input-179-9170ff738fcb>\u001b[0m in \u001b[0;36mtestData\u001b[0;34m(df, model)\u001b[0m\n\u001b[1;32m      1\u001b[0m \u001b[0;32mdef\u001b[0m \u001b[0mtestData\u001b[0m\u001b[0;34m(\u001b[0m\u001b[0mdf\u001b[0m\u001b[0;34m,\u001b[0m \u001b[0mmodel\u001b[0m\u001b[0;34m)\u001b[0m\u001b[0;34m:\u001b[0m\u001b[0;34m\u001b[0m\u001b[0;34m\u001b[0m\u001b[0m\n\u001b[1;32m      2\u001b[0m     \u001b[0;31m# df = preprocessData(df)\u001b[0m\u001b[0;34m\u001b[0m\u001b[0;34m\u001b[0m\u001b[0;34m\u001b[0m\u001b[0m\n\u001b[0;32m----> 3\u001b[0;31m     \u001b[0mtest_x\u001b[0m \u001b[0;34m=\u001b[0m \u001b[0mgetIndex\u001b[0m\u001b[0;34m(\u001b[0m\u001b[0mdf\u001b[0m\u001b[0;34m,\u001b[0m \u001b[0;36m30\u001b[0m\u001b[0;34m,\u001b[0m \u001b[0;34m'oov.txt'\u001b[0m\u001b[0;34m)\u001b[0m\u001b[0;34m\u001b[0m\u001b[0;34m\u001b[0m\u001b[0m\n\u001b[0m\u001b[1;32m      4\u001b[0m     \u001b[0mprint\u001b[0m\u001b[0;34m(\u001b[0m\u001b[0;34m\"-------------------STATS OF DATA-----------------------\"\u001b[0m\u001b[0;34m)\u001b[0m\u001b[0;34m\u001b[0m\u001b[0;34m\u001b[0m\u001b[0m\n\u001b[1;32m      5\u001b[0m     \u001b[0mprint\u001b[0m\u001b[0;34m(\u001b[0m\u001b[0;34m\"SHAPE: \"\u001b[0m\u001b[0;34m,\u001b[0m \u001b[0mdf\u001b[0m\u001b[0;34m.\u001b[0m\u001b[0mshape\u001b[0m\u001b[0;34m)\u001b[0m\u001b[0;34m\u001b[0m\u001b[0;34m\u001b[0m\u001b[0m\n",
      "\u001b[0;32m<ipython-input-176-a530fa2ef910>\u001b[0m in \u001b[0;36mgetIndex\u001b[0;34m(df, maxlen, file)\u001b[0m\n\u001b[1;32m     20\u001b[0m \u001b[0;34m\u001b[0m\u001b[0m\n\u001b[1;32m     21\u001b[0m     \u001b[0mtrunc_X\u001b[0m \u001b[0;34m=\u001b[0m \u001b[0;34m[\u001b[0m\u001b[0mstr\u001b[0m\u001b[0;34m(\u001b[0m\u001b[0mi\u001b[0m\u001b[0;34m)\u001b[0m\u001b[0;34m.\u001b[0m\u001b[0mlower\u001b[0m\u001b[0;34m(\u001b[0m\u001b[0;34m)\u001b[0m\u001b[0;34m[\u001b[0m\u001b[0;36m0\u001b[0m\u001b[0;34m:\u001b[0m\u001b[0mmaxlen\u001b[0m\u001b[0;34m]\u001b[0m \u001b[0;32mfor\u001b[0m \u001b[0mi\u001b[0m \u001b[0;32min\u001b[0m \u001b[0mdf\u001b[0m\u001b[0;34m[\u001b[0m\u001b[0;34m'Name'\u001b[0m\u001b[0;34m]\u001b[0m\u001b[0;34m]\u001b[0m\u001b[0;34m\u001b[0m\u001b[0;34m\u001b[0m\u001b[0m\n\u001b[0;32m---> 22\u001b[0;31m     \u001b[0;32mfor\u001b[0m \u001b[0mi\u001b[0m \u001b[0;32min\u001b[0m \u001b[0mrange\u001b[0m\u001b[0;34m(\u001b[0m\u001b[0mlen\u001b[0m\u001b[0;34m(\u001b[0m\u001b[0mgender\u001b[0m\u001b[0;34m)\u001b[0m\u001b[0;34m)\u001b[0m\u001b[0;34m:\u001b[0m\u001b[0;34m\u001b[0m\u001b[0;34m\u001b[0m\u001b[0m\n\u001b[0m\u001b[1;32m     23\u001b[0m         \u001b[0mname\u001b[0m \u001b[0;34m=\u001b[0m \u001b[0mtrunc_X\u001b[0m\u001b[0;34m[\u001b[0m\u001b[0mi\u001b[0m\u001b[0;34m]\u001b[0m\u001b[0;34m\u001b[0m\u001b[0;34m\u001b[0m\u001b[0m\n\u001b[1;32m     24\u001b[0m         \u001b[0mtmp\u001b[0m \u001b[0;34m=\u001b[0m \u001b[0;34m[\u001b[0m\u001b[0;34m]\u001b[0m\u001b[0;34m\u001b[0m\u001b[0;34m\u001b[0m\u001b[0m\n",
      "\u001b[0;31mNameError\u001b[0m: name 'gender' is not defined"
     ]
    }
   ],
   "source": [
    "testData(cm_df, model)"
   ]
  },
  {
   "cell_type": "markdown",
   "metadata": {
    "id": "AllNWMX1euUA"
   },
   "source": [
    "On Student's Name"
   ]
  },
  {
   "cell_type": "code",
   "execution_count": null,
   "metadata": {
    "id": "AlUr_dOYe0uO"
   },
   "outputs": [],
   "source": [
    "import pandas as pd\n",
    "import numpy as np\n",
    "import matplotlib.pyplot as plt\n",
    "import re"
   ]
  },
  {
   "cell_type": "code",
   "execution_count": null,
   "metadata": {
    "id": "i4kevzVQe3Ax"
   },
   "outputs": [],
   "source": [
    "a9 = pd.read_csv('aieee_2009.csv')\n",
    "a10 = pd.read_csv('aieee_2010.csv')\n",
    "a11 = pd.read_csv('aieee_2011.csv')"
   ]
  },
  {
   "cell_type": "code",
   "execution_count": null,
   "metadata": {
    "id": "Idpi7CXPfade"
   },
   "outputs": [],
   "source": [
    "def preprocess_aieee(df):\n",
    "    del df['Unnamed: 0']\n",
    "    df['category'] = [elem.replace(\"Category:\", \"\") for elem in df.category]\n",
    "#     df['category'] = [elem.replace(\"Sub-\\xa0\\xa0PH\", \"\") for elem in df.category]\n",
    "    df['category'] = [elem.replace(\"\\xa0\", \"\") for elem in df.category]\n",
    "    df['category'] = [elem.replace(\"\\r\\n\", \"\") for elem in df.category]\n",
    "    df.category = [elem.strip() for elem in df.category]\n",
    "    df['state_no'] = [elem.replace('State Code of Eligibility:','') for elem in df['state_no']]\n",
    "    # Preprocess marks\n",
    "    df['p2_marks']=[str(elem).replace('\\r\\n\\r\\nNot Applicable/Not Applied\\r\\n\\r\\n','?') for elem in df.p2_marks]\n",
    "    df['p2_marks'] = [str(elem).strip() for elem in df.p2_marks]\n",
    "    df.p2_marks = df['p2_marks'].replace('nan', np.NaN)\n",
    "    df.p2_marks = df['p2_marks'].replace('?', np.NaN)\n",
    "    df['p1_marks'] = [str(elem).strip() for elem in df.p1_marks]\n",
    "    df['p1_marks']=[str(elem).replace('\\r\\n','') for elem in df.p1_marks]\n",
    "    df['p1_marks']=[str(elem).replace('Not Applicable/Not Applied','?') for elem in df.p1_marks]\n",
    "    # For now replacing ABS with NaN\n",
    "    df['p1_marks']=[str(elem).replace('ABS','?') for elem in df.p1_marks]\n",
    "    df.p1_marks = df['p1_marks'].replace('nan', np.NaN)\n",
    "    df.p1_marks = df['p1_marks'].replace('?', np.NaN)\n",
    "    df.p1_marks = pd.to_numeric(df.p1_marks)\n",
    "    df.p2_marks = pd.to_numeric(df.p2_marks)\n",
    "    return df\n",
    "\n",
    "def convertMarks(df, col, max_marks):\n",
    "    df[col] = round((df[col]/max_marks)*10,2)\n",
    "    return df\n",
    "\n",
    "# Consider only those students with p1_marks\n",
    "def getGenderNames(df):\n",
    "    gender_df = pd.DataFrame()\n",
    "    father_df = pd.DataFrame()\n",
    "    mother_df = pd.DataFrame()\n",
    "    mother_df['Name'] = df['mother_name']\n",
    "    mother_df['Gender'] = 'FEMALE'\n",
    "    father_df['Name'] = df['father_name']\n",
    "    father_df['Gender'] = 'MALE'\n",
    "    gender_df = gender_df.append(father_df, ignore_index = True)\n",
    "    gender_df = gender_df.append(mother_df, ignore_index = True)\n",
    "    return gender_df\n",
    "\n",
    "def getMarks(df, col, max_marks):\n",
    "    df1 = df[df[col].notna()]\n",
    "    marks_df = pd.DataFrame()\n",
    "    marks_df['Name'] = df1['name']\n",
    "    marks_df['Marks'] = round((df1[col]/max_marks)*10,2)\n",
    "    return marks_df\n",
    "\n",
    "def getMarksCaste(df, max_marks):\n",
    "    df = df[df['p1_marks'].notna()]\n",
    "    df['category'] = df['category'].replace('', np.NaN)\n",
    "    df = df[df['category'].notna()]\n",
    "    # Not taking PH sub category\n",
    "    df['category'] = [elem.replace(\"Sub-PH\", \"\") for elem in df['category']]\n",
    "    cm_df = pd.DataFrame()\n",
    "    cm_df['Name'] = df['name']\n",
    "    cm_df['Caste'] = df['category']\n",
    "    cm_df['Marks'] = round((df['p1_marks']/max_marks)*10,2)\n",
    "    return cm_df\n",
    "    \n",
    "def getCaste(df, col):\n",
    "    df[col] = df[col].replace('', np.NaN)\n",
    "    df1 = df[df[col].notna()]\n",
    "    # Not taking PH sub category\n",
    "    df1[col] = [elem.replace(\"Sub-PH\", \"\") for elem in df1[col]]\n",
    "    caste_df = pd.DataFrame()\n",
    "    caste_df['Name'] = df1['name']\n",
    "    caste_df['Caste'] = df1[col]\n",
    "    return caste_df"
   ]
  },
  {
   "cell_type": "code",
   "execution_count": null,
   "metadata": {
    "id": "fHuWtJFIgV9H"
   },
   "outputs": [],
   "source": [
    "ai10 = preprocess_aieee(a10)\n",
    "ai11 = preprocess_aieee(a11)\n",
    "ai09 = preprocess_aieee(a9)"
   ]
  },
  {
   "cell_type": "code",
   "execution_count": null,
   "metadata": {
    "id": "0Ze4rPztguxp"
   },
   "outputs": [],
   "source": [
    "MAX_2010 = 432\n",
    "MAX_2011 = 360\n",
    "MAX_2009 = 432"
   ]
  },
  {
   "cell_type": "code",
   "execution_count": null,
   "metadata": {
    "id": "kM81k-PpgZmo"
   },
   "outputs": [],
   "source": [
    "# marks in 10 point scale\n",
    "marks_10 = getMarks(ai10,'p1_marks',MAX_2010)\n",
    "marks_11 = getMarks(ai11, 'p1_marks',MAX_2011)\n",
    "marks_09 = getMarks(ai09, 'p1_marks', MAX_2009)"
   ]
  },
  {
   "cell_type": "code",
   "execution_count": null,
   "metadata": {
    "colab": {
     "base_uri": "https://localhost:8080/",
     "height": 295
    },
    "id": "9GDCx-BjgzOE",
    "outputId": "5f48f323-d5eb-487e-ee3b-cd2e45a99332"
   },
   "outputs": [
    {
     "data": {
      "image/png": "[encoded data removed]",
      "text/plain": [
       "<Figure size 432x288 with 1 Axes>"
      ]
     },
     "metadata": {
      "needs_background": "light"
     },
     "output_type": "display_data"
    }
   ],
   "source": [
    "# plot the count based on buckets\n",
    "ranges = [-10,0,1,2,3,4,5,6,7,8,9,10]\n",
    "l1 = marks_09.groupby(pd.cut(marks_09.Marks, ranges)).count()\n",
    "l2 = marks_10.groupby(pd.cut(marks_10.Marks, ranges)).count()\n",
    "l3 = marks_11.groupby(pd.cut(marks_11.Marks, ranges)).count()\n",
    "\n",
    "X_axis = np.arange(len(ranges[1:]))\n",
    "\n",
    "plt.bar(X_axis - 0.2, list(l1.Name),0.2 , label = '2009')\n",
    "plt.bar(X_axis + 0, list(l2.Name),0.2 ,label = '2010')\n",
    "plt.bar(X_axis + 0.2, list(l3.Name),0.2 ,label = '2011')\n",
    "\n",
    "plt.xticks(X_axis, ranges[1:])\n",
    "plt.xlabel(\"Marks Range\")\n",
    "plt.ylabel(\"Number of Students\")\n",
    "plt.title(\"Marks distribution in AIEEE Sample collected\")\n",
    "plt.legend()\n",
    "plt.show()"
   ]
  },
  {
   "cell_type": "code",
   "execution_count": null,
   "metadata": {
    "colab": {
     "base_uri": "https://localhost:8080/"
    },
    "id": "uKZSgsIKg4vQ",
    "outputId": "5572b294-6582-433c-ecad-06ee5ccfe6dc"
   },
   "outputs": [
    {
     "name": "stdout",
     "output_type": "stream",
     "text": [
      "(106592, 2)\n",
      "(116290, 2)\n",
      "(115516, 2)\n"
     ]
    }
   ],
   "source": [
    "print(marks_09.shape)\n",
    "print(marks_10.shape)\n",
    "print(marks_11.shape)"
   ]
  },
  {
   "cell_type": "code",
   "execution_count": null,
   "metadata": {
    "colab": {
     "base_uri": "https://localhost:8080/"
    },
    "id": "KA4zAqQhhEI4",
    "outputId": "7451af45-9f22-4724-891a-94f2ccdbaeba"
   },
   "outputs": [
    {
     "name": "stderr",
     "output_type": "stream",
     "text": [
      "/usr/local/lib/python3.7/dist-packages/ipykernel_launcher.py:65: SettingWithCopyWarning: \n",
      "A value is trying to be set on a copy of a slice from a DataFrame.\n",
      "Try using .loc[row_indexer,col_indexer] = value instead\n",
      "\n",
      "See the caveats in the documentation: https://pandas.pydata.org/pandas-docs/stable/user_guide/indexing.html#returning-a-view-versus-a-copy\n"
     ]
    },
    {
     "name": "stdout",
     "output_type": "stream",
     "text": [
      "        Name\n",
      "Caste       \n",
      "GEN    64892\n",
      "OBC    34497\n",
      "SC      9887\n",
      "ST      3297\n",
      "        Name\n",
      "Caste       \n",
      "GEN    68163\n",
      "OBC    39366\n",
      "SC     11262\n",
      "ST      4075\n",
      "        Name\n",
      "Caste       \n",
      "GEN    65810\n",
      "OBC    41185\n",
      "SC     11633\n",
      "ST      4444\n"
     ]
    }
   ],
   "source": [
    "# Get caste labels\n",
    "caste_10 = getCaste(ai10, 'category')\n",
    "caste_11 = getCaste(ai11, 'category')\n",
    "caste_09 = getCaste(ai09, 'category')\n",
    "print(caste_09.groupby('Caste').count())\n",
    "print(caste_10.groupby('Caste').count())\n",
    "print(caste_11.groupby('Caste').count())"
   ]
  },
  {
   "cell_type": "code",
   "execution_count": null,
   "metadata": {
    "colab": {
     "base_uri": "https://localhost:8080/",
     "height": 295
    },
    "id": "8xzQnd-ThIsE",
    "outputId": "e6e34efc-87b4-4387-a6be-94087b9e7640"
   },
   "outputs": [
    {
     "data": {
      "image/png": "[encoded data removed]",
      "text/plain": [
       "<Figure size 432x288 with 1 Axes>"
      ]
     },
     "metadata": {
      "needs_background": "light"
     },
     "output_type": "display_data"
    }
   ],
   "source": [
    "ranges = ['GEN','OBC','SC','ST']\n",
    "l1 = caste_09.groupby('Caste').count()\n",
    "l2 = caste_10.groupby('Caste').count()\n",
    "l3 = caste_11.groupby('Caste').count()\n",
    "\n",
    "X_axis = np.arange(len(ranges))\n",
    "\n",
    "plt.bar(X_axis - 0.1, list(l1.Name),0.1 , label = '2009')\n",
    "plt.bar(X_axis + 0, list(l2.Name),0.1 ,label = '2010')\n",
    "plt.bar(X_axis + 0.1, list(l3.Name),0.1 ,label = '2011')\n",
    "\n",
    "plt.xticks(X_axis, ranges)\n",
    "plt.xlabel(\"Caste\")\n",
    "plt.ylabel(\"Number of Students\")\n",
    "plt.title(\"Caste distribution in AIEEE Sample collected\")\n",
    "plt.legend()\n",
    "plt.show()"
   ]
  },
  {
   "cell_type": "code",
   "execution_count": null,
   "metadata": {
    "colab": {
     "base_uri": "https://localhost:8080/"
    },
    "id": "O5paSKhbe_r5",
    "outputId": "f65072bf-b70c-4086-d64d-6677ee6e747b"
   },
   "outputs": [
    {
     "name": "stdout",
     "output_type": "stream",
     "text": [
      "(358511, 2)\n",
      "(338398, 2)\n",
      "         Name\n",
      "Caste        \n",
      "GEN    198865\n",
      "OBC    115048\n",
      "SC      32782\n",
      "ST      11816\n"
     ]
    },
    {
     "name": "stderr",
     "output_type": "stream",
     "text": [
      "/usr/local/lib/python3.7/dist-packages/ipykernel_launcher.py:51: SettingWithCopyWarning: \n",
      "A value is trying to be set on a copy of a slice from a DataFrame.\n",
      "Try using .loc[row_indexer,col_indexer] = value instead\n",
      "\n",
      "See the caveats in the documentation: https://pandas.pydata.org/pandas-docs/stable/user_guide/indexing.html#returning-a-view-versus-a-copy\n"
     ]
    },
    {
     "data": {
      "text/plain": [
       "(338389, 3)"
      ]
     },
     "execution_count": 14,
     "metadata": {},
     "output_type": "execute_result"
    }
   ],
   "source": [
    "# Marks range based on caste => Get corresponding datasets and may be a common function to plot\n",
    "caste_df = pd.concat([caste_09, caste_10, caste_11], ignore_index=True)\n",
    "marks_df = pd.concat([marks_09, marks_10, marks_11], ignore_index=True)\n",
    "print(caste_df.shape)\n",
    "print(marks_df.shape)\n",
    "\n",
    "print(caste_df.groupby('Caste').count())\n",
    "cm_10 = getMarksCaste(ai10, MAX_2010)\n",
    "cm_11 = getMarksCaste(ai11, MAX_2011)\n",
    "cm_09 = getMarksCaste(ai09, MAX_2009)\n",
    "cm_df = pd.concat([cm_09, cm_10, cm_11], ignore_index=True)\n",
    "cm_df.shape"
   ]
  },
  {
   "cell_type": "code",
   "execution_count": null,
   "metadata": {
    "id": "g7pKOYgtjDa7"
   },
   "outputs": [],
   "source": [
    "def add_surname(df):\n",
    "  df = df.reset_index(drop=True)\n",
    "  for i in range(len(list(df.Name))):\n",
    "        words = df.Name.loc[i].strip().split(' ');\n",
    "        if len(words) > 1:\n",
    "          df.Surname.loc[i] = words[-1]\n",
    "  return df"
   ]
  },
  {
   "cell_type": "code",
   "execution_count": null,
   "metadata": {
    "colab": {
     "base_uri": "https://localhost:8080/"
    },
    "id": "dimT-ZZcjv3H",
    "outputId": "3d623dcf-0202-4e51-d696-a63ae8d88bc5"
   },
   "outputs": [
    {
     "name": "stderr",
     "output_type": "stream",
     "text": [
      "/usr/local/lib/python3.7/dist-packages/ipykernel_launcher.py:2: SettingWithCopyWarning: \n",
      "A value is trying to be set on a copy of a slice from a DataFrame.\n",
      "Try using .loc[row_indexer,col_indexer] = value instead\n",
      "\n",
      "See the caveats in the documentation: https://pandas.pydata.org/pandas-docs/stable/user_guide/indexing.html#returning-a-view-versus-a-copy\n",
      "  \n"
     ]
    }
   ],
   "source": [
    "test = cm_df[:10]\n",
    "test['Surname'] = \"\""
   ]
  },
  {
   "cell_type": "code",
   "execution_count": null,
   "metadata": {
    "colab": {
     "base_uri": "https://localhost:8080/",
     "height": 470
    },
    "id": "Cfe1gxc6jfih",
    "outputId": "af0ad9fc-cc87-4451-f189-b40bd772b789"
   },
   "outputs": [
    {
     "name": "stderr",
     "output_type": "stream",
     "text": [
      "/usr/local/lib/python3.7/dist-packages/pandas/core/indexing.py:670: SettingWithCopyWarning: \n",
      "A value is trying to be set on a copy of a slice from a DataFrame\n",
      "\n",
      "See the caveats in the documentation: https://pandas.pydata.org/pandas-docs/stable/user_guide/indexing.html#returning-a-view-versus-a-copy\n",
      "  iloc._setitem_with_indexer(indexer, value)\n"
     ]
    },
    {
     "data": {
      "text/html": [
       "<div>\n",
       "<style scoped>\n",
       "    .dataframe tbody tr th:only-of-type {\n",
       "        vertical-align: middle;\n",
       "    }\n",
       "\n",
       "    .dataframe tbody tr th {\n",
       "        vertical-align: top;\n",
       "    }\n",
       "\n",
       "    .dataframe thead th {\n",
       "        text-align: right;\n",
       "    }\n",
       "</style>\n",
       "<table border=\"1\" class=\"dataframe\">\n",
       "  <thead>\n",
       "    <tr style=\"text-align: right;\">\n",
       "      <th></th>\n",
       "      <th>Name</th>\n",
       "      <th>Caste</th>\n",
       "      <th>Marks</th>\n",
       "      <th>Surname</th>\n",
       "    </tr>\n",
       "  </thead>\n",
       "  <tbody>\n",
       "    <tr>\n",
       "      <th>0</th>\n",
       "      <td>SUNNY LALLER</td>\n",
       "      <td>GEN</td>\n",
       "      <td>0.60</td>\n",
       "      <td>LALLER</td>\n",
       "    </tr>\n",
       "    <tr>\n",
       "      <th>1</th>\n",
       "      <td>KULDEEP SHARMA</td>\n",
       "      <td>GEN</td>\n",
       "      <td>0.32</td>\n",
       "      <td>SHARMA</td>\n",
       "    </tr>\n",
       "    <tr>\n",
       "      <th>2</th>\n",
       "      <td>HARJINDER SINGH</td>\n",
       "      <td>GEN</td>\n",
       "      <td>2.01</td>\n",
       "      <td>SINGH</td>\n",
       "    </tr>\n",
       "    <tr>\n",
       "      <th>3</th>\n",
       "      <td>THYNALA SETHU DHARANIDHAR</td>\n",
       "      <td>OBC</td>\n",
       "      <td>4.49</td>\n",
       "      <td>DHARANIDHAR</td>\n",
       "    </tr>\n",
       "    <tr>\n",
       "      <th>4</th>\n",
       "      <td>RAUNAK SINGH</td>\n",
       "      <td>GEN</td>\n",
       "      <td>1.60</td>\n",
       "      <td>SINGH</td>\n",
       "    </tr>\n",
       "    <tr>\n",
       "      <th>5</th>\n",
       "      <td>ANANT KUMAR CHOUDHARY</td>\n",
       "      <td>SC</td>\n",
       "      <td>4.24</td>\n",
       "      <td>CHOUDHARY</td>\n",
       "    </tr>\n",
       "    <tr>\n",
       "      <th>6</th>\n",
       "      <td>HULASH YADAV</td>\n",
       "      <td>GEN</td>\n",
       "      <td>1.02</td>\n",
       "      <td>YADAV</td>\n",
       "    </tr>\n",
       "    <tr>\n",
       "      <th>7</th>\n",
       "      <td>RAVIPATI NITESHNATH</td>\n",
       "      <td>GEN</td>\n",
       "      <td>1.74</td>\n",
       "      <td>NITESHNATH</td>\n",
       "    </tr>\n",
       "    <tr>\n",
       "      <th>8</th>\n",
       "      <td>AHIRE PRIYANKA RAVINDRA</td>\n",
       "      <td>OBC</td>\n",
       "      <td>1.23</td>\n",
       "      <td>RAVINDRA</td>\n",
       "    </tr>\n",
       "    <tr>\n",
       "      <th>9</th>\n",
       "      <td>RAHUL KUMAR</td>\n",
       "      <td>GEN</td>\n",
       "      <td>6.90</td>\n",
       "      <td>KUMAR</td>\n",
       "    </tr>\n",
       "  </tbody>\n",
       "</table>\n",
       "</div>"
      ],
      "text/plain": [
       "                          Name Caste  Marks      Surname\n",
       "0                SUNNY LALLER    GEN   0.60       LALLER\n",
       "1              KULDEEP SHARMA    GEN   0.32       SHARMA\n",
       "2             HARJINDER SINGH    GEN   2.01        SINGH\n",
       "3   THYNALA SETHU DHARANIDHAR    OBC   4.49  DHARANIDHAR\n",
       "4                RAUNAK SINGH    GEN   1.60        SINGH\n",
       "5       ANANT KUMAR CHOUDHARY     SC   4.24    CHOUDHARY\n",
       "6                HULASH YADAV    GEN   1.02        YADAV\n",
       "7         RAVIPATI NITESHNATH    GEN   1.74   NITESHNATH\n",
       "8     AHIRE PRIYANKA RAVINDRA    OBC   1.23     RAVINDRA\n",
       "9                 RAHUL KUMAR    GEN   6.90        KUMAR"
      ]
     },
     "execution_count": 41,
     "metadata": {},
     "output_type": "execute_result"
    }
   ],
   "source": [
    "add_surname(test)"
   ]
  },
  {
   "cell_type": "code",
   "execution_count": null,
   "metadata": {
    "colab": {
     "base_uri": "https://localhost:8080/",
     "height": 313
    },
    "id": "OPJ6njK0hT6M",
    "outputId": "18fde0e2-3fd7-45f2-9c2e-ee97f5c01b31"
   },
   "outputs": [
    {
     "name": "stderr",
     "output_type": "stream",
     "text": [
      "/usr/local/lib/python3.7/dist-packages/pandas/core/indexing.py:670: SettingWithCopyWarning: \n",
      "A value is trying to be set on a copy of a slice from a DataFrame\n",
      "\n",
      "See the caveats in the documentation: https://pandas.pydata.org/pandas-docs/stable/user_guide/indexing.html#returning-a-view-versus-a-copy\n",
      "  iloc._setitem_with_indexer(indexer, value)\n"
     ]
    },
    {
     "data": {
      "text/html": [
       "<div>\n",
       "<style scoped>\n",
       "    .dataframe tbody tr th:only-of-type {\n",
       "        vertical-align: middle;\n",
       "    }\n",
       "\n",
       "    .dataframe tbody tr th {\n",
       "        vertical-align: top;\n",
       "    }\n",
       "\n",
       "    .dataframe thead th {\n",
       "        text-align: right;\n",
       "    }\n",
       "</style>\n",
       "<table border=\"1\" class=\"dataframe\">\n",
       "  <thead>\n",
       "    <tr style=\"text-align: right;\">\n",
       "      <th></th>\n",
       "      <th>Name</th>\n",
       "      <th>Caste</th>\n",
       "      <th>Marks</th>\n",
       "      <th>Surname</th>\n",
       "    </tr>\n",
       "  </thead>\n",
       "  <tbody>\n",
       "    <tr>\n",
       "      <th>0</th>\n",
       "      <td>SUNNY LALLER</td>\n",
       "      <td>GEN</td>\n",
       "      <td>0.60</td>\n",
       "      <td>LALLER</td>\n",
       "    </tr>\n",
       "    <tr>\n",
       "      <th>1</th>\n",
       "      <td>KULDEEP SHARMA</td>\n",
       "      <td>GEN</td>\n",
       "      <td>0.32</td>\n",
       "      <td>SHARMA</td>\n",
       "    </tr>\n",
       "    <tr>\n",
       "      <th>2</th>\n",
       "      <td>HARJINDER SINGH</td>\n",
       "      <td>GEN</td>\n",
       "      <td>2.01</td>\n",
       "      <td>SINGH</td>\n",
       "    </tr>\n",
       "    <tr>\n",
       "      <th>3</th>\n",
       "      <td>THYNALA SETHU DHARANIDHAR</td>\n",
       "      <td>OBC</td>\n",
       "      <td>4.49</td>\n",
       "      <td>DHARANIDHAR</td>\n",
       "    </tr>\n",
       "    <tr>\n",
       "      <th>4</th>\n",
       "      <td>RAUNAK SINGH</td>\n",
       "      <td>GEN</td>\n",
       "      <td>1.60</td>\n",
       "      <td>SINGH</td>\n",
       "    </tr>\n",
       "  </tbody>\n",
       "</table>\n",
       "</div>"
      ],
      "text/plain": [
       "                          Name Caste  Marks      Surname\n",
       "0                SUNNY LALLER    GEN   0.60       LALLER\n",
       "1              KULDEEP SHARMA    GEN   0.32       SHARMA\n",
       "2             HARJINDER SINGH    GEN   2.01        SINGH\n",
       "3   THYNALA SETHU DHARANIDHAR    OBC   4.49  DHARANIDHAR\n",
       "4                RAUNAK SINGH    GEN   1.60        SINGH"
      ]
     },
     "execution_count": 42,
     "metadata": {},
     "output_type": "execute_result"
    }
   ],
   "source": [
    "# Add last name column to cm_df\n",
    "cm_df['Surname'] = \"\"\n",
    "fdf = add_surname(cm_df)\n",
    "fdf.head()"
   ]
  },
  {
   "cell_type": "code",
   "execution_count": null,
   "metadata": {
    "id": "r4igxDIyrrgE"
   },
   "outputs": [],
   "source": [
    "sort_df = fdf.sort_values(by='Marks')"
   ]
  },
  {
   "cell_type": "code",
   "execution_count": null,
   "metadata": {
    "colab": {
     "base_uri": "https://localhost:8080/"
    },
    "id": "VG2aq26THNmW",
    "outputId": "1de0b2b2-d9de-4da7-9f4c-8762d7a2d59d"
   },
   "outputs": [
    {
     "data": {
      "text/plain": [
       "(338389, 4)"
      ]
     },
     "execution_count": 166,
     "metadata": {},
     "output_type": "execute_result"
    }
   ],
   "source": [
    "sort_df['high'] = "
   ]
  },
  {
   "cell_type": "code",
   "execution_count": null,
   "metadata": {
    "id": "mYsTyvzjr5ZU"
   },
   "outputs": [],
   "source": [
    "low_df = sort_df[sort_df.Marks <= 1 ]"
   ]
  },
  {
   "cell_type": "code",
   "execution_count": null,
   "metadata": {
    "id": "iqg9W4Antobt"
   },
   "outputs": [],
   "source": [
    "rest_df = sort_df[sort_df.Marks > 1]"
   ]
  },
  {
   "cell_type": "code",
   "execution_count": null,
   "metadata": {
    "id": "eX0uVgafr5Jd"
   },
   "outputs": [],
   "source": [
    "med_df = rest_df[rest_df.Marks <= 2]\n",
    "high_df = rest_df[rest_df.Marks > 2]"
   ]
  },
  {
   "cell_type": "code",
   "execution_count": null,
   "metadata": {
    "colab": {
     "base_uri": "https://localhost:8080/"
    },
    "id": "U8LCtkjOt5BS",
    "outputId": "d689cf14-87fe-4b1d-806c-fe78992e6132"
   },
   "outputs": [
    {
     "name": "stdout",
     "output_type": "stream",
     "text": [
      "(338389, 4)\n",
      "(195206, 4)\n",
      "(95396, 4)\n",
      "(47787, 4)\n"
     ]
    }
   ],
   "source": [
    "print(sort_df.shape)\n",
    "print(low_df.shape)\n",
    "# print(rest_df.shape)\n",
    "print(med_df.shape)\n",
    "print(high_df.shape)"
   ]
  },
  {
   "cell_type": "code",
   "execution_count": null,
   "metadata": {
    "colab": {
     "base_uri": "https://localhost:8080/"
    },
    "id": "NT2idNKduFRH",
    "outputId": "4cad7599-045b-4a6d-d06b-adb05804ab0d"
   },
   "outputs": [
    {
     "name": "stdout",
     "output_type": "stream",
     "text": [
      "Requirement already satisfied: wordcloud in /usr/local/lib/python3.7/dist-packages (1.5.0)\n",
      "Requirement already satisfied: pillow in /usr/local/lib/python3.7/dist-packages (from wordcloud) (7.1.2)\n",
      "Requirement already satisfied: numpy>=1.6.1 in /usr/local/lib/python3.7/dist-packages (from wordcloud) (1.19.5)\n"
     ]
    }
   ],
   "source": [
    "!pip install wordcloud"
   ]
  },
  {
   "cell_type": "code",
   "execution_count": null,
   "metadata": {
    "colab": {
     "base_uri": "https://localhost:8080/",
     "height": 320
    },
    "id": "6yz5w2mDt-j9",
    "outputId": "c400f285-2846-4822-cd73-f31f77d1dff0"
   },
   "outputs": [
    {
     "name": "stdout",
     "output_type": "stream",
     "text": [
      "Surname\n",
      "KUMAR     19564\n",
      "SINGH     10164\n",
      "           9610\n",
      "SHARMA     4514\n",
      "YADAV      3527\n",
      "Name: Name, dtype: int64\n"
     ]
    },
    {
     "data": {
      "image/png": "[encoded data removed]",
      "text/plain": [
       "<Figure size 432x288 with 1 Axes>"
      ]
     },
     "metadata": {
      "needs_background": "light"
     },
     "output_type": "display_data"
    }
   ],
   "source": [
    "ln = low_df.groupby('Surname').count()['Name']\n",
    "print(ln.sort_values(ascending=False).head())\n",
    "d = dict(ln)\n",
    "d[\"OOV\"] = d['']+med_df.shape[0]+high_df.shape[0]\n",
    "import matplotlib.pyplot as plt\n",
    "from wordcloud import WordCloud\n",
    "\n",
    "wordcloud = WordCloud(background_color=\"white\")\n",
    "wordcloud.generate_from_frequencies(frequencies=d)\n",
    "plt.figure()\n",
    "plt.imshow(wordcloud, interpolation=\"bilinear\")\n",
    "plt.axis(\"off\")\n",
    "plt.show()"
   ]
  },
  {
   "cell_type": "code",
   "execution_count": null,
   "metadata": {
    "colab": {
     "base_uri": "https://localhost:8080/",
     "height": 320
    },
    "id": "l9n0en9hum-G",
    "outputId": "205e45af-1d86-4ee3-b385-b6f1c5aae0ac"
   },
   "outputs": [
    {
     "name": "stdout",
     "output_type": "stream",
     "text": [
      "Surname\n",
      "KUMAR     8534\n",
      "SINGH     4739\n",
      "          4454\n",
      "SHARMA    2188\n",
      "GUPTA     1552\n",
      "Name: Name, dtype: int64\n"
     ]
    },
    {
     "data": {
      "image/png": "[encoded data removed]",
      "text/plain": [
       "<Figure size 432x288 with 1 Axes>"
      ]
     },
     "metadata": {
      "needs_background": "light"
     },
     "output_type": "display_data"
    }
   ],
   "source": [
    "ln = med_df.groupby('Surname').count()['Name']\n",
    "print(ln.sort_values(ascending=False).head())\n",
    "\n",
    "d = dict(ln)\n",
    "d['OOV'] = d['']+low_df.shape[0]+high_df.shape[0]\n",
    "\n",
    "import matplotlib.pyplot as plt\n",
    "from wordcloud import WordCloud\n",
    "\n",
    "wordcloud = WordCloud(background_color=\"white\")\n",
    "wordcloud.generate_from_frequencies(frequencies=d)\n",
    "plt.figure()\n",
    "plt.imshow(wordcloud, interpolation=\"bilinear\")\n",
    "plt.axis(\"off\")\n",
    "plt.show()"
   ]
  },
  {
   "cell_type": "code",
   "execution_count": null,
   "metadata": {
    "colab": {
     "base_uri": "https://localhost:8080/",
     "height": 320
    },
    "id": "99MAr8ooupAM",
    "outputId": "710b727b-376e-439b-c423-f4cad84b55f4"
   },
   "outputs": [
    {
     "name": "stdout",
     "output_type": "stream",
     "text": [
      "Surname\n",
      "KUMAR     3739\n",
      "SINGH     2280\n",
      "          1731\n",
      "GUPTA     1291\n",
      "SHARMA    1142\n",
      "Name: Name, dtype: int64\n"
     ]
    },
    {
     "data": {
      "image/png": "[encoded data removed]",
      "text/plain": [
       "<Figure size 432x288 with 1 Axes>"
      ]
     },
     "metadata": {
      "needs_background": "light"
     },
     "output_type": "display_data"
    }
   ],
   "source": [
    "ln = high_df.groupby('Surname').count()['Name']\n",
    "print(ln.sort_values(ascending=False).head())\n",
    "\n",
    "d = dict(ln)\n",
    "d['OOV'] = d['']+med_df.shape[0]+low_df.shape[0]\n",
    "\n",
    "import matplotlib.pyplot as plt\n",
    "from wordcloud import WordCloud\n",
    "\n",
    "wordcloud = WordCloud(background_color=\"white\")\n",
    "wordcloud.generate_from_frequencies(frequencies=d)\n",
    "plt.figure()\n",
    "plt.imshow(wordcloud, interpolation=\"bilinear\")\n",
    "plt.axis(\"off\")\n",
    "plt.show()"
   ]
  },
  {
   "cell_type": "code",
   "execution_count": null,
   "metadata": {
    "colab": {
     "base_uri": "https://localhost:8080/",
     "height": 206
    },
    "id": "Z4nJo82lyUMB",
    "outputId": "2bd741a3-4072-4c0d-c183-73cf182b2319"
   },
   "outputs": [
    {
     "data": {
      "text/html": [
       "<div>\n",
       "<style scoped>\n",
       "    .dataframe tbody tr th:only-of-type {\n",
       "        vertical-align: middle;\n",
       "    }\n",
       "\n",
       "    .dataframe tbody tr th {\n",
       "        vertical-align: top;\n",
       "    }\n",
       "\n",
       "    .dataframe thead th {\n",
       "        text-align: right;\n",
       "    }\n",
       "</style>\n",
       "<table border=\"1\" class=\"dataframe\">\n",
       "  <thead>\n",
       "    <tr style=\"text-align: right;\">\n",
       "      <th></th>\n",
       "      <th>Name</th>\n",
       "      <th>Caste</th>\n",
       "      <th>Marks</th>\n",
       "      <th>Surname</th>\n",
       "    </tr>\n",
       "  </thead>\n",
       "  <tbody>\n",
       "    <tr>\n",
       "      <th>0</th>\n",
       "      <td>SUNNY LALLER</td>\n",
       "      <td>GEN</td>\n",
       "      <td>0.60</td>\n",
       "      <td></td>\n",
       "    </tr>\n",
       "    <tr>\n",
       "      <th>1</th>\n",
       "      <td>KULDEEP SHARMA</td>\n",
       "      <td>GEN</td>\n",
       "      <td>0.32</td>\n",
       "      <td></td>\n",
       "    </tr>\n",
       "    <tr>\n",
       "      <th>2</th>\n",
       "      <td>HARJINDER SINGH</td>\n",
       "      <td>GEN</td>\n",
       "      <td>2.01</td>\n",
       "      <td></td>\n",
       "    </tr>\n",
       "    <tr>\n",
       "      <th>3</th>\n",
       "      <td>THYNALA SETHU DHARANIDHAR</td>\n",
       "      <td>OBC</td>\n",
       "      <td>4.49</td>\n",
       "      <td></td>\n",
       "    </tr>\n",
       "    <tr>\n",
       "      <th>4</th>\n",
       "      <td>RAUNAK SINGH</td>\n",
       "      <td>GEN</td>\n",
       "      <td>1.60</td>\n",
       "      <td></td>\n",
       "    </tr>\n",
       "  </tbody>\n",
       "</table>\n",
       "</div>"
      ],
      "text/plain": [
       "                          Name Caste  Marks Surname\n",
       "0                SUNNY LALLER    GEN   0.60        \n",
       "1              KULDEEP SHARMA    GEN   0.32        \n",
       "2             HARJINDER SINGH    GEN   2.01        \n",
       "3   THYNALA SETHU DHARANIDHAR    OBC   4.49        \n",
       "4                RAUNAK SINGH    GEN   1.60        "
      ]
     },
     "execution_count": 150,
     "metadata": {},
     "output_type": "execute_result"
    }
   ],
   "source": [
    "cm_df.head()"
   ]
  },
  {
   "cell_type": "code",
   "execution_count": null,
   "metadata": {
    "id": "UrhLncUCzL4G"
   },
   "outputs": [],
   "source": [
    "l1 = cm_df.groupby('Caste')"
   ]
  },
  {
   "cell_type": "code",
   "execution_count": null,
   "metadata": {
    "colab": {
     "base_uri": "https://localhost:8080/",
     "height": 367
    },
    "id": "ILfmDZl9yWmf",
    "outputId": "d325b9d4-7ef9-4b2e-d03b-3d7af246efc8"
   },
   "outputs": [
    {
     "name": "stdout",
     "output_type": "stream",
     "text": [
      "(188571, 3)\n",
      "(108470, 3)\n",
      "(30517, 3)\n",
      "(10831, 3)\n"
     ]
    },
    {
     "data": {
      "image/png": "[encoded data removed]",
      "text/plain": [
       "<Figure size 432x288 with 1 Axes>"
      ]
     },
     "metadata": {
      "needs_background": "light"
     },
     "output_type": "display_data"
    }
   ],
   "source": [
    "ranges = ['GEN','OBC','SC','ST']\n",
    "gen = cm_df[cm_df['Caste']=='GEN']\n",
    "obc = cm_df[cm_df['Caste']=='OBC']\n",
    "sc = cm_df[cm_df['Caste']=='SC']\n",
    "st = cm_df[cm_df['Caste']=='ST']\n",
    "\n",
    "print(gen.shape)\n",
    "print(obc.shape)\n",
    "print(sc.shape)\n",
    "print(st.shape)\n",
    "\n",
    "# plot the count based on buckets\n",
    "ranges = [-10,0,1,2,3,4,5,6,7,8,9,10]\n",
    "l1 = gen.groupby(pd.cut(gen.Marks, ranges)).count()/gen.shape[0]\n",
    "l2 = obc.groupby(pd.cut(obc.Marks, ranges)).count()/obc.shape[0]\n",
    "l3 = sc.groupby(pd.cut(sc.Marks, ranges)).count()/sc.shape[0]\n",
    "l4 = st.groupby(pd.cut(st.Marks, ranges)).count()/st.shape[0]\n",
    "\n",
    "X_axis = np.arange(len(ranges[1:]))\n",
    "\n",
    "\n",
    "plt.bar(X_axis - 0.3, list(l1.Name),0.2 , label = 'GEN')\n",
    "plt.bar(X_axis -0.1, list(l2.Name),0.2 ,label = 'OBC')\n",
    "plt.bar(X_axis + 0.1, list(l3.Name),0.2 ,label = 'SC')\n",
    "plt.bar(X_axis + 0.3, list(l4.Name),0.2 ,label = 'ST')\n",
    "\n",
    "\n",
    "plt.xticks(X_axis, ranges[1:])\n",
    "plt.xlabel(\"Marks Range\")\n",
    "plt.ylabel(\"Fraction of Students, normalized for each Category\")\n",
    "plt.title(\"Caste - Marks distribution in AIEEE Sample collected\")\n",
    "plt.legend()\n",
    "plt.show()"
   ]
  },
  {
   "cell_type": "markdown",
   "metadata": {
    "id": "12SbI_YHeuzn"
   },
   "source": [
    "Parent's Name"
   ]
  },
  {
   "cell_type": "code",
   "execution_count": null,
   "metadata": {
    "id": "ZllWg4xGhAzO"
   },
   "outputs": [],
   "source": [
    "# New and Organized code "
   ]
  },
  {
   "cell_type": "code",
   "execution_count": null,
   "metadata": {
    "id": "wgVd9WGkiO4W"
   },
   "outputs": [],
   "source": [
    "import pandas as pd\n",
    "import numpy as np\n",
    "import matplotlib.pyplot as plt\n",
    "import re"
   ]
  },
  {
   "cell_type": "code",
   "execution_count": null,
   "metadata": {
    "id": "EpFcIHbBiRK9"
   },
   "outputs": [],
   "source": [
    "a9 = pd.read_csv('aieee_2009.csv')\n",
    "a10 = pd.read_csv('aieee_2010.csv')\n",
    "a11 = pd.read_csv('aieee_2011.csv')"
   ]
  },
  {
   "cell_type": "code",
   "execution_count": null,
   "metadata": {
    "colab": {
     "base_uri": "https://localhost:8080/"
    },
    "id": "zZgttpZqdcqh",
    "outputId": "9a957c05-8f9a-4056-a0ee-3aa9b4878629"
   },
   "outputs": [
    {
     "name": "stdout",
     "output_type": "stream",
     "text": [
      "(112579, 18, 122871, 18, 123072, 18)\n"
     ]
    }
   ],
   "source": [
    "print(a9.shape + a10.shape + a11.shape)"
   ]
  },
  {
   "cell_type": "code",
   "execution_count": null,
   "metadata": {
    "id": "iP9XzuUFnS0a"
   },
   "outputs": [],
   "source": [
    "def getdf(df):\n",
    "  c1 = pd.DataFrame()\n",
    "  c1['Name'] = df['mother_name']\n",
    "  c1['Gender'] = 'Female'\n",
    "  c2 = pd.DataFrame()\n",
    "  c2['Name'] =  df['father_name']\n",
    "  c2['Gender'] = 'Male'\n",
    "  c = pd.concat([c1, c2], ignore_index = True)\n",
    "  return c"
   ]
  },
  {
   "cell_type": "code",
   "execution_count": null,
   "metadata": {
    "id": "3mUspwa5nmT3"
   },
   "outputs": [],
   "source": [
    "a_9 = getdf(a9)\n",
    "a_10 = getdf(a10)\n",
    "a_11 = getdf(a11)"
   ]
  },
  {
   "cell_type": "code",
   "execution_count": null,
   "metadata": {
    "id": "E6R-9Un2UUrc"
   },
   "outputs": [],
   "source": [
    "d_9 = getdf(a9)\n",
    "d_10 = getdf(a10)\n",
    "d_11 = getdf(a11)"
   ]
  },
  {
   "cell_type": "code",
   "execution_count": null,
   "metadata": {
    "colab": {
     "base_uri": "https://localhost:8080/",
     "height": 411
    },
    "id": "6Y2fCJlZnC5e",
    "outputId": "0273ff11-afef-4e0f-c317-b638bf13de52"
   },
   "outputs": [
    {
     "data": {
      "text/html": [
       "<div>\n",
       "<style scoped>\n",
       "    .dataframe tbody tr th:only-of-type {\n",
       "        vertical-align: middle;\n",
       "    }\n",
       "\n",
       "    .dataframe tbody tr th {\n",
       "        vertical-align: top;\n",
       "    }\n",
       "\n",
       "    .dataframe thead th {\n",
       "        text-align: right;\n",
       "    }\n",
       "</style>\n",
       "<table border=\"1\" class=\"dataframe\">\n",
       "  <thead>\n",
       "    <tr style=\"text-align: right;\">\n",
       "      <th></th>\n",
       "      <th>Unnamed: 0</th>\n",
       "      <th>roll_no</th>\n",
       "      <th>name</th>\n",
       "      <th>mother_name</th>\n",
       "      <th>father_name</th>\n",
       "      <th>category</th>\n",
       "      <th>state_no</th>\n",
       "      <th>present</th>\n",
       "      <th>p1_marks</th>\n",
       "      <th>p2_marks</th>\n",
       "      <th>air_btech</th>\n",
       "      <th>air_cat_btech</th>\n",
       "      <th>state_btech</th>\n",
       "      <th>state_cat_btech</th>\n",
       "      <th>air_barch</th>\n",
       "      <th>air_cat_barch</th>\n",
       "      <th>state_barch</th>\n",
       "      <th>state_cat_barch</th>\n",
       "    </tr>\n",
       "  </thead>\n",
       "  <tbody>\n",
       "    <tr>\n",
       "      <th>0</th>\n",
       "      <td>0</td>\n",
       "      <td>22500416</td>\n",
       "      <td>SUNNY LALLER</td>\n",
       "      <td>SHARDA DEVI</td>\n",
       "      <td>DALBIR SINGH LALLER</td>\n",
       "      <td>Category:                 GEN\\r\\n\\r\\n</td>\n",
       "      <td>State Code of Eligibility: 13</td>\n",
       "      <td>True</td>\n",
       "      <td>26</td>\n",
       "      <td>\\r\\n\\r\\nNot Applicable/Not Applied\\r\\n\\r\\n</td>\n",
       "      <td>687686</td>\n",
       "      <td>414972</td>\n",
       "      <td>34288</td>\n",
       "      <td>23484</td>\n",
       "      <td>------</td>\n",
       "      <td>------</td>\n",
       "      <td>------</td>\n",
       "      <td>------</td>\n",
       "    </tr>\n",
       "    <tr>\n",
       "      <th>1</th>\n",
       "      <td>1</td>\n",
       "      <td>22700891</td>\n",
       "      <td>KULDEEP SHARMA</td>\n",
       "      <td>CHAMPA DEVI</td>\n",
       "      <td>MANANTRAM</td>\n",
       "      <td>Category:                 GEN\\r\\n\\r\\n</td>\n",
       "      <td>State Code of Eligibility: 14</td>\n",
       "      <td>True</td>\n",
       "      <td>14</td>\n",
       "      <td>\\r\\n\\r\\nNot Applicable/Not Applied\\r\\n\\r\\n</td>\n",
       "      <td>810423</td>\n",
       "      <td>479425</td>\n",
       "      <td>9337</td>\n",
       "      <td>6689</td>\n",
       "      <td>------</td>\n",
       "      <td>------</td>\n",
       "      <td>------</td>\n",
       "      <td>------</td>\n",
       "    </tr>\n",
       "    <tr>\n",
       "      <th>2</th>\n",
       "      <td>2</td>\n",
       "      <td>21415832</td>\n",
       "      <td>TEJPARTAP SINGH</td>\n",
       "      <td>HERJEET KAUR</td>\n",
       "      <td>TARLOCHAN SINGH</td>\n",
       "      <td>Category:                 GEN\\r\\n\\r\\n</td>\n",
       "      <td>State Code of Eligibility: 28</td>\n",
       "      <td>False</td>\n",
       "      <td>NaN</td>\n",
       "      <td>NaN</td>\n",
       "      <td>NaN</td>\n",
       "      <td>NaN</td>\n",
       "      <td>NaN</td>\n",
       "      <td>NaN</td>\n",
       "      <td>NaN</td>\n",
       "      <td>NaN</td>\n",
       "      <td>NaN</td>\n",
       "      <td>NaN</td>\n",
       "    </tr>\n",
       "    <tr>\n",
       "      <th>3</th>\n",
       "      <td>3</td>\n",
       "      <td>21402077</td>\n",
       "      <td>HARJINDER SINGH</td>\n",
       "      <td>SUKHDEV KAUR</td>\n",
       "      <td>RANJIT SINGH</td>\n",
       "      <td>Category:                 GEN\\r\\n\\r\\n</td>\n",
       "      <td>State Code of Eligibility: 34</td>\n",
       "      <td>True</td>\n",
       "      <td>87</td>\n",
       "      <td>\\r\\n\\r\\nNot Applicable/Not Applied\\r\\n\\r\\n</td>\n",
       "      <td>164867</td>\n",
       "      <td>114788</td>\n",
       "      <td>2714</td>\n",
       "      <td>2270</td>\n",
       "      <td>------</td>\n",
       "      <td>------</td>\n",
       "      <td>------</td>\n",
       "      <td>------</td>\n",
       "    </tr>\n",
       "    <tr>\n",
       "      <th>4</th>\n",
       "      <td>4</td>\n",
       "      <td>20600071</td>\n",
       "      <td>THYNALA SETHU DHARANIDHAR</td>\n",
       "      <td>THYNALA LAKSHMI RAJYAM</td>\n",
       "      <td>THYNALA VIJAYA KUMAR</td>\n",
       "      <td>Category:                 OBC\\r\\n\\r\\n</td>\n",
       "      <td>State Code of Eligibility: 02</td>\n",
       "      <td>True</td>\n",
       "      <td>194</td>\n",
       "      <td>\\r\\n\\r\\nNot Applicable/Not Applied\\r\\n\\r\\n</td>\n",
       "      <td>22354</td>\n",
       "      <td>4249</td>\n",
       "      <td>3630</td>\n",
       "      <td>928</td>\n",
       "      <td>------</td>\n",
       "      <td>------</td>\n",
       "      <td>------</td>\n",
       "      <td>------</td>\n",
       "    </tr>\n",
       "  </tbody>\n",
       "</table>\n",
       "</div>"
      ],
      "text/plain": [
       "   Unnamed: 0   roll_no  ... state_barch state_cat_barch\n",
       "0           0  22500416  ...     ------          ------ \n",
       "1           1  22700891  ...     ------          ------ \n",
       "2           2  21415832  ...         NaN             NaN\n",
       "3           3  21402077  ...     ------          ------ \n",
       "4           4  20600071  ...     ------          ------ \n",
       "\n",
       "[5 rows x 18 columns]"
      ]
     },
     "execution_count": 7,
     "metadata": {},
     "output_type": "execute_result"
    }
   ],
   "source": [
    "a9.head()"
   ]
  },
  {
   "cell_type": "code",
   "execution_count": null,
   "metadata": {
    "id": "8de2FIkouPYy"
   },
   "outputs": [],
   "source": [
    "def plot_stacked(x, y1, y2, legend, label, title):\n",
    "  import matplotlib.pyplot as plt\n",
    "\n",
    "  plt.bar(x, y1, color='r', width=0.2)\n",
    "  plt.bar(x, y2, bottom=y1,color = 'b', width=0.2)\n",
    "  plt.xlabel(label[0])\n",
    "  plt.ylabel(label[1])\n",
    "  plt.legend(legend)\n",
    "  plt.title(title)\n",
    "  plt.show"
   ]
  },
  {
   "cell_type": "code",
   "execution_count": null,
   "metadata": {
    "id": "bSPyQh-YjFwc"
   },
   "outputs": [],
   "source": [
    "def print_gender_count_stats(df, year):\n",
    "    n = len(df)\n",
    "    # fig, ax = plt.subplots(1,2)\n",
    "    Male = []\n",
    "    Female = []\n",
    "    Maled = []\n",
    "    Femaled = []\n",
    "\n",
    "    for i in range(n):\n",
    "      dfi = df[i]\n",
    "      y  = year[i]\n",
    "      print('_'*10,y,'_'*10)\n",
    "      a = dfi.groupby('Gender').count()\n",
    "      print('Original Data')\n",
    "      print(a.head())\n",
    "      Male.append(a.Name['Male'])\n",
    "      Female.append(a.Name['Female'])\n",
    "      b = dfi.drop_duplicates().groupby('Gender').count()\n",
    "      Maled.append(b.Name['Male'])\n",
    "      Femaled.append(b.Name['Female'])\n",
    "      print('Unique Names')\n",
    "      print(b.head())\n",
    "      print('_'*10,'_'*11)\n",
    "\n",
    "    x = ['Male','Female']\n",
    "    return year, (Male, Female), (Maled, Femaled) "
   ]
  },
  {
   "cell_type": "code",
   "execution_count": null,
   "metadata": {
    "colab": {
     "base_uri": "https://localhost:8080/"
    },
    "id": "KRplNKCUp9Pi",
    "outputId": "4b7d4646-42fd-4d15-d459-438b172393af"
   },
   "outputs": [
    {
     "name": "stdout",
     "output_type": "stream",
     "text": [
      "__________ 2009 __________\n",
      "Original Data\n",
      "          Name\n",
      "Gender        \n",
      "Female  112579\n",
      "Male    112579\n",
      "Unique Names\n",
      "         Name\n",
      "Gender       \n",
      "Female  66444\n",
      "Male    84946\n",
      "__________ ___________\n",
      "__________ 2010 __________\n",
      "Original Data\n",
      "          Name\n",
      "Gender        \n",
      "Female  122871\n",
      "Male    122871\n",
      "Unique Names\n",
      "         Name\n",
      "Gender       \n",
      "Female  70973\n",
      "Male    92007\n",
      "__________ ___________\n",
      "__________ 2011 __________\n",
      "Original Data\n",
      "          Name\n",
      "Gender        \n",
      "Female  123072\n",
      "Male    123072\n",
      "Unique Names\n",
      "         Name\n",
      "Gender       \n",
      "Female  69171\n",
      "Male    89877\n",
      "__________ ___________\n"
     ]
    }
   ],
   "source": [
    "x,y1,y2 = print_gender_count_stats([a_9, a_10, a_11],['2009','2010', '2011'])"
   ]
  },
  {
   "cell_type": "code",
   "execution_count": null,
   "metadata": {
    "colab": {
     "base_uri": "https://localhost:8080/"
    },
    "id": "oLZiLzVV5DCp",
    "outputId": "cb869dab-3d7e-44d3-c112-c9ad7a38ccf9"
   },
   "outputs": [
    {
     "name": "stdout",
     "output_type": "stream",
     "text": [
      "Male 266830, Female:206588, Total:473418\n"
     ]
    }
   ],
   "source": [
    "print(f\"Male {sum(y2[0])}, Female:{sum(y2[1])}, Total:{sum(y2[0])+sum(y2[1])}\")"
   ]
  },
  {
   "cell_type": "code",
   "execution_count": null,
   "metadata": {
    "colab": {
     "base_uri": "https://localhost:8080/",
     "height": 295
    },
    "id": "ngWe9wrMqLBC",
    "outputId": "c8c5ff73-9e85-4722-b22b-26cd02d56643"
   },
   "outputs": [
    {
     "data": {
      "image/png": "[encoded data removed]",
      "text/plain": [
       "<Figure size 432x288 with 1 Axes>"
      ]
     },
     "metadata": {
      "needs_background": "light"
     },
     "output_type": "display_data"
    }
   ],
   "source": [
    "plot_stacked(x, y1[0], y1[1], ['Male','Female'], ['year','Names'],'Frequency distribution of Names')"
   ]
  },
  {
   "cell_type": "code",
   "execution_count": null,
   "metadata": {
    "colab": {
     "base_uri": "https://localhost:8080/",
     "height": 295
    },
    "id": "xzwPBRA7vXSg",
    "outputId": "60dc03df-e63c-4c03-e81f-3b46484ba9da"
   },
   "outputs": [
    {
     "data": {
      "image/png": "[encoded data removed]",
      "text/plain": [
       "<Figure size 432x288 with 1 Axes>"
      ]
     },
     "metadata": {
      "needs_background": "light"
     },
     "output_type": "display_data"
    }
   ],
   "source": [
    "plot_stacked(x, y2[0], y2[1], ['Male','Female'], ['year','Names'],'Frequency distribution of Unique Names')"
   ]
  },
  {
   "cell_type": "markdown",
   "metadata": {
    "id": "rI2yfHzcjSn5"
   },
   "source": [
    "Extract frequency, first name and last name "
   ]
  },
  {
   "cell_type": "code",
   "execution_count": null,
   "metadata": {
    "id": "9N4imZsWjSRh"
   },
   "outputs": [],
   "source": [
    "# sur1 = pd.read_csv('indian_caste_data.csv')\n",
    "# sur2 = pd.read_csv('topsurnames.csv')"
   ]
  },
  {
   "cell_type": "code",
   "execution_count": null,
   "metadata": {
    "id": "JTJqNz1nraXp"
   },
   "outputs": [],
   "source": [
    "# del sur2['Unnamed: 0']\n",
    "# del sur2['Unnamed: 1']\n",
    "# del sur2['Unnamed: 5']\n",
    "# del sur2['Unnamed: 6']\n",
    "# hdr = sur2.iloc[0]\n",
    "# sur2 = sur2[1:]\n",
    "# sur2.columns = hdr"
   ]
  },
  {
   "cell_type": "code",
   "execution_count": null,
   "metadata": {
    "id": "arBHkp5psURV"
   },
   "outputs": [],
   "source": [
    "# l1 = list(sur1['caste'])\n",
    "# l2 = list(sur2['Surname'])"
   ]
  },
  {
   "cell_type": "code",
   "execution_count": null,
   "metadata": {
    "id": "Byes8DJssvme"
   },
   "outputs": [],
   "source": [
    "# print(len(l1),':',len(l2))"
   ]
  },
  {
   "cell_type": "code",
   "execution_count": null,
   "metadata": {
    "id": "kVxfbFwbsgXy"
   },
   "outputs": [],
   "source": [
    "# d = []\n",
    "# for elem in l1:\n",
    "#   elem = str(elem)\n",
    "#   elem = elem.strip()\n",
    "#   elem = re.sub('[ \\t\\n]+', ' ', str(elem))\n",
    "#   elem = elem.lower()\n",
    "#   d.append(elem)\n",
    "# l1 = d\n",
    "# d = []\n",
    "# for elem in l2:\n",
    "#   elem = str(elem)\n",
    "#   elem = elem.strip()\n",
    "#   elem = re.sub('[ \\t\\n]+', ' ', str(elem))\n",
    "#   elem = elem.lower()\n",
    "#   d.append(elem)\n",
    "# l2 = d"
   ]
  },
  {
   "cell_type": "code",
   "execution_count": null,
   "metadata": {
    "id": "cK27kjwPj1z4"
   },
   "outputs": [],
   "source": [
    "def split_name(name, count1, count2):\n",
    "  # Preprocessing\n",
    "  name = str(name)\n",
    "  name = name.strip()\n",
    "  name = re.sub('[ \\t\\n]+',' ', str(name))\n",
    "  name = name.lower()\n",
    "\n",
    "  # check surname matching and print some of them from both list\n",
    "  # for elem in l2:\n",
    "\n",
    "  #   if re.search('([ ]|^)+'+elem+'([ ]|$)+', name) is not None:\n",
    "  #     count2 += 1\n",
    "  #     last_name = elem\n",
    "  #     name = name.replace(last_name,\"\")\n",
    "  #     first_name = name.split(' ')[0]\n",
    "  #     return first_name, last_name, count1, count2\n",
    "\n",
    "  # for elem in l1:\n",
    "  #   if re.search('([ ]|^)+'+elem+'([ ]|$)+', name) is not None:\n",
    "  #     count1 += 1\n",
    "  #     last_name = elem\n",
    "  #     name = name.replace(last_name,\"\")\n",
    "  #     first_name = name.split(' ')[0]\n",
    "  #     return first_name, last_name, count1, count2\n",
    "\n",
    "  # Heuristic\n",
    "  first_name = name.split(' ')[0]\n",
    "  # name = name.split(' ')[1:]\n",
    "  if len(name.split(' ')) > 1:\n",
    "    last_name = name.split(' ')[-1]\n",
    "  else:\n",
    "    last_name = np.nan\n",
    "\n",
    "  return first_name, last_name, count1, count2"
   ]
  },
  {
   "cell_type": "code",
   "execution_count": null,
   "metadata": {
    "id": "HsaR4xW0kzRD"
   },
   "outputs": [],
   "source": [
    "def add_freq(df):\n",
    "  df['freq'] = df['Name'].map(df['Name'].value_counts())\n",
    "  df['male_freq'] = df['Name'].map(df[df['Gender']=='Male']['Name'].value_counts())\n",
    "  df['female_freq']  = df['Name'].map(df[df['Gender']=='Female']['Name'].value_counts())\n",
    "  df = df.drop_duplicates(subset='Name', keep='last')\n",
    "  return df "
   ]
  },
  {
   "cell_type": "code",
   "execution_count": null,
   "metadata": {
    "id": "m6d7Ii4v6OS9"
   },
   "outputs": [],
   "source": [
    "def assign_gender(df):\n",
    "  df = df.reset_index(drop=True)\n",
    "  for i in range(df.shape[0]):\n",
    "    if np.isnan(df.male_freq.loc[i]):\n",
    "      df.Gender.loc[i] = 'Female'\n",
    "      continue\n",
    "    if np.isnan(df.female_freq.loc[i]):\n",
    "      df.Gender.loc[i] = 'Male'\n",
    "      continue\n",
    "    if df.male_freq.loc[i] > df.female_freq.loc[i]: \n",
    "      df.Gender.loc[i] = 'Male'\n",
    "    else:\n",
    "      df.Gender.loc[i] = 'Female' \n",
    "  return df"
   ]
  },
  {
   "cell_type": "code",
   "execution_count": null,
   "metadata": {
    "id": "za3MeAkQl6Zb"
   },
   "outputs": [],
   "source": [
    "def add_name(df, c1, c2):\n",
    "  df['first_name'] = ''\n",
    "  df['last_name'] = ''\n",
    "  count = 0\n",
    "  for i in range(len(list(df.Name))):\n",
    "      f, l, c1, c2 = split_name(df.Name.loc[i], c1, c2)\n",
    "      count += 1\n",
    "      df.first_name.loc[i] = f\n",
    "      df.last_name.loc[i] = l\n",
    "      # if c1%1000 ==0:\n",
    "      #   print(c1)\n",
    "      # if c2%1000 == 0:\n",
    "      #   print(c2)\n",
    "      # if count%10000 == 0:\n",
    "      #   print(count)\n",
    "\n",
    "  return df"
   ]
  },
  {
   "cell_type": "code",
   "execution_count": null,
   "metadata": {
    "colab": {
     "base_uri": "https://localhost:8080/",
     "height": 204
    },
    "id": "MVaAx9-v7OYu",
    "outputId": "2e252d8e-7000-4506-eaf8-76d5a5e8d138"
   },
   "outputs": [
    {
     "data": {
      "text/html": [
       "<div>\n",
       "<style scoped>\n",
       "    .dataframe tbody tr th:only-of-type {\n",
       "        vertical-align: middle;\n",
       "    }\n",
       "\n",
       "    .dataframe tbody tr th {\n",
       "        vertical-align: top;\n",
       "    }\n",
       "\n",
       "    .dataframe thead th {\n",
       "        text-align: right;\n",
       "    }\n",
       "</style>\n",
       "<table border=\"1\" class=\"dataframe\">\n",
       "  <thead>\n",
       "    <tr style=\"text-align: right;\">\n",
       "      <th></th>\n",
       "      <th>Name</th>\n",
       "      <th>Gender</th>\n",
       "      <th>freq</th>\n",
       "      <th>male_freq</th>\n",
       "      <th>female_freq</th>\n",
       "    </tr>\n",
       "  </thead>\n",
       "  <tbody>\n",
       "    <tr>\n",
       "      <th>2</th>\n",
       "      <td>HERJEET KAUR</td>\n",
       "      <td>Female</td>\n",
       "      <td>1</td>\n",
       "      <td>NaN</td>\n",
       "      <td>1.0</td>\n",
       "    </tr>\n",
       "    <tr>\n",
       "      <th>4</th>\n",
       "      <td>THYNALA LAKSHMI RAJYAM</td>\n",
       "      <td>Female</td>\n",
       "      <td>1</td>\n",
       "      <td>NaN</td>\n",
       "      <td>1.0</td>\n",
       "    </tr>\n",
       "    <tr>\n",
       "      <th>8</th>\n",
       "      <td>RAVIPATI SUSEELA</td>\n",
       "      <td>Female</td>\n",
       "      <td>1</td>\n",
       "      <td>NaN</td>\n",
       "      <td>1.0</td>\n",
       "    </tr>\n",
       "    <tr>\n",
       "      <th>13</th>\n",
       "      <td>BHAWANA ADWANI</td>\n",
       "      <td>Female</td>\n",
       "      <td>1</td>\n",
       "      <td>NaN</td>\n",
       "      <td>1.0</td>\n",
       "    </tr>\n",
       "    <tr>\n",
       "      <th>14</th>\n",
       "      <td>ANURADHA DUBE</td>\n",
       "      <td>Female</td>\n",
       "      <td>1</td>\n",
       "      <td>NaN</td>\n",
       "      <td>1.0</td>\n",
       "    </tr>\n",
       "  </tbody>\n",
       "</table>\n",
       "</div>"
      ],
      "text/plain": [
       "                        Name  Gender  freq  male_freq  female_freq\n",
       "2              HERJEET KAUR   Female     1        NaN          1.0\n",
       "4    THYNALA LAKSHMI RAJYAM   Female     1        NaN          1.0\n",
       "8          RAVIPATI SUSEELA   Female     1        NaN          1.0\n",
       "13           BHAWANA ADWANI   Female     1        NaN          1.0\n",
       "14            ANURADHA DUBE   Female     1        NaN          1.0"
      ]
     },
     "execution_count": 35,
     "metadata": {},
     "output_type": "execute_result"
    }
   ],
   "source": [
    "# a_9.head()"
   ]
  },
  {
   "cell_type": "code",
   "execution_count": null,
   "metadata": {
    "colab": {
     "base_uri": "https://localhost:8080/"
    },
    "id": "SeUEetyFUadY",
    "outputId": "ad546510-1fae-4f38-9928-b67b55083a53"
   },
   "outputs": [
    {
     "name": "stderr",
     "output_type": "stream",
     "text": [
      "/usr/local/lib/python3.7/dist-packages/pandas/core/indexing.py:670: SettingWithCopyWarning: \n",
      "A value is trying to be set on a copy of a slice from a DataFrame\n",
      "\n",
      "See the caveats in the documentation: https://pandas.pydata.org/pandas-docs/stable/user_guide/indexing.html#returning-a-view-versus-a-copy\n",
      "  iloc._setitem_with_indexer(indexer, value)\n"
     ]
    }
   ],
   "source": [
    "d_9 = add_freq(d_9)\n",
    "d_9 = assign_gender(d_9)"
   ]
  },
  {
   "cell_type": "code",
   "execution_count": null,
   "metadata": {
    "colab": {
     "base_uri": "https://localhost:8080/"
    },
    "id": "jn0IDVndUebd",
    "outputId": "c64de7d9-067a-4334-8b84-0ec8e32bccc8"
   },
   "outputs": [
    {
     "metadata": {
      "tags": null
     },
     "name": "stderr",
     "output_type": "stream",
     "text": [
      "/usr/local/lib/python3.7/dist-packages/pandas/core/indexing.py:670: SettingWithCopyWarning: \n",
      "A value is trying to be set on a copy of a slice from a DataFrame\n",
      "\n",
      "See the caveats in the documentation: https://pandas.pydata.org/pandas-docs/stable/user_guide/indexing.html#returning-a-view-versus-a-copy\n",
      "  iloc._setitem_with_indexer(indexer, value)\n"
     ]
    }
   ],
   "source": [
    "d_10 = add_freq(d_10)\n",
    "d_10 = assign_gender(d_10)\n",
    "d_11 = add_freq(d_11)\n",
    "d_11 = assign_gender(d_11)"
   ]
  },
  {
   "cell_type": "code",
   "execution_count": null,
   "metadata": {
    "colab": {
     "base_uri": "https://localhost:8080/"
    },
    "id": "EFmyv8znyvWq",
    "outputId": "ec13eee0-0dce-4b52-edff-98b5c7359e60"
   },
   "outputs": [
    {
     "name": "stderr",
     "output_type": "stream",
     "text": [
      "/usr/local/lib/python3.7/dist-packages/pandas/core/indexing.py:670: SettingWithCopyWarning: \n",
      "A value is trying to be set on a copy of a slice from a DataFrame\n",
      "\n",
      "See the caveats in the documentation: https://pandas.pydata.org/pandas-docs/stable/user_guide/indexing.html#returning-a-view-versus-a-copy\n",
      "  iloc._setitem_with_indexer(indexer, value)\n"
     ]
    }
   ],
   "source": [
    "a_9 = add_freq(a_9)\n",
    "a_9 = assign_gender(a_9)\n",
    "a_9 = add_name(a_9,0,0)"
   ]
  },
  {
   "cell_type": "code",
   "execution_count": null,
   "metadata": {
    "colab": {
     "base_uri": "https://localhost:8080/"
    },
    "id": "J_waty0Aa8g3",
    "outputId": "41a45fea-4898-4a3f-dd04-1ef1e4c37088"
   },
   "outputs": [
    {
     "name": "stderr",
     "output_type": "stream",
     "text": [
      "/usr/local/lib/python3.7/dist-packages/pandas/core/indexing.py:670: SettingWithCopyWarning: \n",
      "A value is trying to be set on a copy of a slice from a DataFrame\n",
      "\n",
      "See the caveats in the documentation: https://pandas.pydata.org/pandas-docs/stable/user_guide/indexing.html#returning-a-view-versus-a-copy\n",
      "  iloc._setitem_with_indexer(indexer, value)\n"
     ]
    }
   ],
   "source": [
    "a_10 = add_freq(a_10)\n",
    "a_10 = assign_gender(a_10)\n",
    "a_10 = add_name(a_10,0,0)"
   ]
  },
  {
   "cell_type": "code",
   "execution_count": null,
   "metadata": {
    "colab": {
     "base_uri": "https://localhost:8080/"
    },
    "id": "cIjtvqDe7pPg",
    "outputId": "16fcedac-3d48-4611-8e15-05e7772b7da8"
   },
   "outputs": [
    {
     "name": "stderr",
     "output_type": "stream",
     "text": [
      "/usr/local/lib/python3.7/dist-packages/pandas/core/indexing.py:670: SettingWithCopyWarning: \n",
      "A value is trying to be set on a copy of a slice from a DataFrame\n",
      "\n",
      "See the caveats in the documentation: https://pandas.pydata.org/pandas-docs/stable/user_guide/indexing.html#returning-a-view-versus-a-copy\n",
      "  iloc._setitem_with_indexer(indexer, value)\n"
     ]
    }
   ],
   "source": [
    "a_11 = add_freq(a_11)\n",
    "a_11 = assign_gender(a_11)\n",
    "a_11 = add_name(a_11,0,0)"
   ]
  },
  {
   "cell_type": "markdown",
   "metadata": {
    "id": "oYHVVhdM-cK5"
   },
   "source": [
    "Plot of last char "
   ]
  },
  {
   "cell_type": "code",
   "execution_count": null,
   "metadata": {
    "id": "W7mODIFCeT_d"
   },
   "outputs": [],
   "source": [
    "def get_freq_counts(df, col):\n",
    "  M = np.zeros(26)\n",
    "  F = np.zeros(26)\n",
    "  X = ['A', 'B', 'C', 'D' , 'E', 'F', 'G', 'H', 'I', 'J', 'K', 'L', 'M', 'N', 'O', 'P', 'Q' , 'R' , 'S', 'T', 'U', 'V', 'W','X','Y','Z']\n",
    "  for i in range(26):\n",
    "    c = df[(df[col]==X[i].lower())]\n",
    "    M[i] = c['male_freq'].sum()\n",
    "    F[i] = c['female_freq'].sum()\n",
    "  return M, F"
   ]
  },
  {
   "cell_type": "code",
   "execution_count": null,
   "metadata": {
    "id": "Lvx80__zKg4B"
   },
   "outputs": [],
   "source": [
    "import re\n",
    "\n",
    "def convert_alpha(df):\n",
    "  regex = re.compile('[^a-zA-Z ]')\n",
    "  df['Name'] = [regex.sub('',name) for name in df['Name']]\n",
    "  df = df[df['Name']!=\"\"]\n",
    "  # df['first_name'] = [regex.sub('',name) for name in df['first_name']]\n",
    "  # df = df[df['first_name']!=\"\"]\n",
    "  return df"
   ]
  },
  {
   "cell_type": "code",
   "execution_count": null,
   "metadata": {
    "colab": {
     "base_uri": "https://localhost:8080/"
    },
    "id": "MFa9wBKMWL1g",
    "outputId": "a0bd7d73-ebb3-4777-a6da-4a2346739a78"
   },
   "outputs": [
    {
     "name": "stdout",
     "output_type": "stream",
     "text": [
      "(150902, 5)\n",
      "(150901, 8)\n",
      "(162514, 5)\n",
      "(162513, 8)\n",
      "(158455, 5)\n",
      "(158454, 8)\n"
     ]
    }
   ],
   "source": [
    "print(d_9.shape)\n",
    "print(a_9.shape)\n",
    "print(d_10.shape)\n",
    "print(a_10.shape)\n",
    "print(d_11.shape)\n",
    "print(a_11.shape)"
   ]
  },
  {
   "cell_type": "code",
   "execution_count": null,
   "metadata": {
    "id": "B7RBagpEXLpJ"
   },
   "outputs": [],
   "source": [
    "a_9.Name = d_9.Name\n",
    "a_10.Name = d_10.Name"
   ]
  },
  {
   "cell_type": "code",
   "execution_count": null,
   "metadata": {
    "id": "C1fiKRaTYyV4"
   },
   "outputs": [],
   "source": [
    "a_11.Name = d_11.Name"
   ]
  },
  {
   "cell_type": "code",
   "execution_count": null,
   "metadata": {
    "id": "-erTrrfdVPdy"
   },
   "outputs": [],
   "source": [
    "d_9 = convert_alpha(d_9)\n",
    "d_10 = convert_alpha(d_10)\n",
    "d_11 = convert_alpha(d_11)"
   ]
  },
  {
   "cell_type": "code",
   "execution_count": null,
   "metadata": {
    "id": "Z3i2v5syKytp"
   },
   "outputs": [],
   "source": [
    "a_9_test = convert_alpha(a_9, 'Name')"
   ]
  },
  {
   "cell_type": "code",
   "execution_count": null,
   "metadata": {
    "id": "0aKwSiNWLJrz"
   },
   "outputs": [],
   "source": [
    "a_9_test = a_9_test[a_9_test['Name']!=\"\"]"
   ]
  },
  {
   "cell_type": "code",
   "execution_count": null,
   "metadata": {
    "id": "z-ycxU7Lb3Qg"
   },
   "outputs": [],
   "source": [
    "def plot_last_char(df, col):\n",
    "  df['last_letter'] = [str(name)[-1].lower() for name in df[col]]\n",
    "  M_list, F_list = get_freq_counts(df, 'last_letter')\n",
    "  X = ['A', 'B', 'C', 'D' , 'E', 'F', 'G', 'H', 'I', 'J', 'K', 'L', 'M', 'N', 'O', 'P', 'Q' , 'R' , 'S', 'T', 'U', 'V', 'W','X','Y','Z']\n",
    "\n",
    "  import matplotlib.pyplot as plt\n",
    "  X_axis = np.arange(len(X))\n",
    "\n",
    "  plt.bar(X_axis - 0.2, F_list, 0.4, label = 'Female')\n",
    "  plt.bar(X_axis + 0.2, M_list, 0.4, label = 'Male')\n",
    "    \n",
    "  print(M_list-F_list)\n",
    "\n",
    "  plt.xticks(X_axis, X)\n",
    "  plt.xlabel(\"Last char of Name\")\n",
    "  plt.ylabel(\"Percentage of students(aieee data)\")\n",
    "  # plt.title(\"Number of Students in each group\")\n",
    "  plt.legend()\n",
    "  plt.show()\n"
   ]
  },
  {
   "cell_type": "code",
   "execution_count": null,
   "metadata": {
    "colab": {
     "base_uri": "https://localhost:8080/",
     "height": 364
    },
    "id": "x9NRhp--fXoE",
    "outputId": "f585f114-e3c2-421e-e49c-eed4259b91e5"
   },
   "outputs": [
    {
     "name": "stdout",
     "output_type": "stream",
     "text": [
      "[-9.2230e+03  2.0900e+02  4.9000e+01  3.8990e+03  1.9900e+02  1.0400e+02\n",
      "  2.4500e+02  1.0953e+04 -2.9153e+04  2.2600e+02  8.1900e+02  2.7300e+03\n",
      "  1.5480e+03  4.8000e+02  3.3620e+03  2.5900e+02  1.4000e+01  5.2000e+03\n",
      "  7.7000e+02  1.0520e+03  1.5500e+03  1.6270e+03  1.4600e+02  3.0000e+00\n",
      "  2.9490e+03 -1.5000e+01]\n"
     ]
    },
    {
     "data": {
      "image/png": "[encoded data removed]",
      "text/plain": [
       "<Figure size 432x288 with 1 Axes>"
      ]
     },
     "metadata": {
      "needs_background": "light"
     },
     "output_type": "display_data"
    }
   ],
   "source": [
    "plot_last_char(a_9_test, 'Name')"
   ]
  },
  {
   "cell_type": "code",
   "execution_count": null,
   "metadata": {
    "colab": {
     "base_uri": "https://localhost:8080/"
    },
    "id": "aTYmWxmAM4mJ",
    "outputId": "d90c1a41-18e3-4be8-a992-a10d37ca6ed2"
   },
   "outputs": [
    {
     "name": "stderr",
     "output_type": "stream",
     "text": [
      "/usr/local/lib/python3.7/dist-packages/ipykernel_launcher.py:7: SettingWithCopyWarning: \n",
      "A value is trying to be set on a copy of a slice from a DataFrame.\n",
      "Try using .loc[row_indexer,col_indexer] = value instead\n",
      "\n",
      "See the caveats in the documentation: https://pandas.pydata.org/pandas-docs/stable/user_guide/indexing.html#returning-a-view-versus-a-copy\n",
      "  import sys\n"
     ]
    }
   ],
   "source": [
    "a_9 = convert_alpha(a_9)"
   ]
  },
  {
   "cell_type": "code",
   "execution_count": null,
   "metadata": {
    "colab": {
     "base_uri": "https://localhost:8080/",
     "height": 364
    },
    "id": "H_oYcbaCft8v",
    "outputId": "aa1dd24f-0d08-48ef-f862-827d25ac42e5"
   },
   "outputs": [
    {
     "name": "stdout",
     "output_type": "stream",
     "text": [
      "[-4.0753e+04  6.7800e+02  1.9400e+02  5.3030e+03  1.3130e+03  7.5000e+01\n",
      "  3.4600e+02  1.0090e+04 -1.3517e+04  8.0800e+02  2.9020e+03  5.9180e+03\n",
      "  3.8480e+03  5.8510e+03  9.7900e+02  1.9380e+03  7.6000e+01  9.4810e+03\n",
      "  1.1840e+03  1.4720e+03 -1.9500e+03  1.6730e+03  5.7000e+01  3.0000e+00\n",
      "  2.0940e+03 -6.1000e+01]\n"
     ]
    },
    {
     "data": {
      "image/png": "[encoded data removed]",
      "text/plain": [
       "<Figure size 432x288 with 1 Axes>"
      ]
     },
     "metadata": {
      "needs_background": "light"
     },
     "output_type": "display_data"
    }
   ],
   "source": [
    "plot_last_char(a_9, 'first_name')"
   ]
  },
  {
   "cell_type": "code",
   "execution_count": null,
   "metadata": {
    "colab": {
     "base_uri": "https://localhost:8080/"
    },
    "id": "Yb0eKFKCNJWX",
    "outputId": "b9228dc4-5728-4e20-e331-e8dae6aa12d5"
   },
   "outputs": [
    {
     "name": "stderr",
     "output_type": "stream",
     "text": [
      "/usr/local/lib/python3.7/dist-packages/ipykernel_launcher.py:7: SettingWithCopyWarning: \n",
      "A value is trying to be set on a copy of a slice from a DataFrame.\n",
      "Try using .loc[row_indexer,col_indexer] = value instead\n",
      "\n",
      "See the caveats in the documentation: https://pandas.pydata.org/pandas-docs/stable/user_guide/indexing.html#returning-a-view-versus-a-copy\n",
      "  import sys\n"
     ]
    }
   ],
   "source": [
    "a_10 = convert_alpha(a_10)\n",
    "a_11 = convert_alpha(a_11)"
   ]
  },
  {
   "cell_type": "code",
   "execution_count": null,
   "metadata": {
    "colab": {
     "base_uri": "https://localhost:8080/",
     "height": 364
    },
    "id": "RyPYrzMPfvuh",
    "outputId": "2071fab4-b82e-4a9d-a75e-0f202445bdcd"
   },
   "outputs": [
    {
     "name": "stdout",
     "output_type": "stream",
     "text": [
      "[-4.4898e+04  7.5400e+02  1.4700e+02  5.8310e+03  1.4450e+03  1.1600e+02\n",
      "  3.8400e+02  1.1387e+04 -1.4490e+04  1.0740e+03  3.0170e+03  6.4010e+03\n",
      "  4.2040e+03  5.5970e+03  1.0960e+03  2.0890e+03  7.9000e+01  1.0352e+04\n",
      "  1.2310e+03  1.7480e+03 -2.1920e+03  1.8610e+03  6.8000e+01  1.4000e+01\n",
      "  2.6950e+03 -1.2000e+01]\n"
     ]
    },
    {
     "data": {
      "image/png": "[encoded data removed]",
      "text/plain": [
       "<Figure size 432x288 with 1 Axes>"
      ]
     },
     "metadata": {
      "needs_background": "light"
     },
     "output_type": "display_data"
    }
   ],
   "source": [
    "plot_last_char(a_10, 'first_name')"
   ]
  },
  {
   "cell_type": "code",
   "execution_count": null,
   "metadata": {
    "colab": {
     "base_uri": "https://localhost:8080/",
     "height": 364
    },
    "id": "83lfMM6MfxrE",
    "outputId": "c43d0daf-0e76-4cc2-a693-9aa48f0b6c0d"
   },
   "outputs": [
    {
     "name": "stdout",
     "output_type": "stream",
     "text": [
      "[-4.5474e+04  7.4700e+02  1.7000e+02  6.1020e+03  1.0710e+03  1.1900e+02\n",
      "  3.4000e+02  1.1592e+04 -1.4792e+04  1.1380e+03  2.9320e+03  6.4690e+03\n",
      "  4.0040e+03  6.2620e+03  1.0390e+03  2.0640e+03  1.0800e+02  1.0388e+04\n",
      "  1.3190e+03  1.8610e+03 -2.3100e+03  1.9690e+03  5.6000e+01  2.2000e+01\n",
      "  2.7860e+03  2.2000e+01]\n"
     ]
    },
    {
     "data": {
      "image/png": "[encoded data removed]",
      "text/plain": [
       "<Figure size 432x288 with 1 Axes>"
      ]
     },
     "metadata": {
      "needs_background": "light"
     },
     "output_type": "display_data"
    }
   ],
   "source": [
    "plot_last_char(a_11, 'first_name')"
   ]
  },
  {
   "cell_type": "code",
   "execution_count": null,
   "metadata": {
    "colab": {
     "base_uri": "https://localhost:8080/",
     "height": 364
    },
    "id": "llEqA5EhOvnD",
    "outputId": "d13f3b68-38c1-4339-82cb-bc7f808451c4"
   },
   "outputs": [
    {
     "name": "stdout",
     "output_type": "stream",
     "text": [
      "[-1.0589e+04  2.2900e+02  6.2000e+01  4.3440e+03  2.5600e+02  9.5000e+01\n",
      "  2.7500e+02  1.2251e+04 -3.2816e+04  2.3200e+02  7.9100e+02  3.2390e+03\n",
      "  1.9560e+03  4.0600e+02  3.5580e+03  3.7900e+02  1.2000e+01  5.7900e+03\n",
      "  8.5500e+02  1.2540e+03  1.7900e+03  2.0180e+03  1.6500e+02 -1.0000e+00\n",
      "  3.4590e+03 -1.2000e+01]\n"
     ]
    },
    {
     "data": {
      "image/png": "[encoded data removed]",
      "text/plain": [
       "<Figure size 432x288 with 1 Axes>"
      ]
     },
     "metadata": {
      "needs_background": "light"
     },
     "output_type": "display_data"
    }
   ],
   "source": [
    "plot_last_char(a_10, 'Name')"
   ]
  },
  {
   "cell_type": "code",
   "execution_count": null,
   "metadata": {
    "colab": {
     "base_uri": "https://localhost:8080/",
     "height": 364
    },
    "id": "mStNdoSkOxTT",
    "outputId": "71f2b35c-07f4-4c4f-c00b-9b3c29639220"
   },
   "outputs": [
    {
     "name": "stdout",
     "output_type": "stream",
     "text": [
      "[-1.0067e+04  2.4200e+02  2.9000e+01  4.4020e+03  3.4600e+02  1.0100e+02\n",
      "  2.5400e+02  1.2463e+04 -3.3515e+04  2.9800e+02  8.8300e+02  3.2030e+03\n",
      "  1.6790e+03  8.4100e+02  3.2210e+03  3.4600e+02  2.9000e+01  5.9870e+03\n",
      "  1.0000e+03  1.2860e+03  1.5620e+03  2.0450e+03  1.9600e+02 -2.0000e+00\n",
      "  3.2050e+03 -3.0000e+01]\n"
     ]
    },
    {
     "data": {
      "image/png": "[encoded data removed]",
      "text/plain": [
       "<Figure size 432x288 with 1 Axes>"
      ]
     },
     "metadata": {
      "needs_background": "light"
     },
     "output_type": "display_data"
    }
   ],
   "source": [
    "plot_last_char(a_11, 'Name')"
   ]
  },
  {
   "cell_type": "markdown",
   "metadata": {
    "id": "rp13vBgF-fN1"
   },
   "source": [
    "Most frequent Names -> Check first_names and complete_name"
   ]
  },
  {
   "cell_type": "code",
   "execution_count": null,
   "metadata": {
    "id": "GQ3fyuPzgcJ0"
   },
   "outputs": [],
   "source": [
    "def add_percent(df):\n",
    "  df['freq_percent'] = df['freq']/df['freq'].sum()\n",
    "  df['male_freq_percent'] = df['male_freq']/df['freq'].sum()\n",
    "  df['female_freq_percent'] = df['female_freq']/df['freq'].sum()\n",
    "  return df"
   ]
  },
  {
   "cell_type": "code",
   "execution_count": null,
   "metadata": {
    "id": "kmLI8dRMm5wR"
   },
   "outputs": [],
   "source": [
    "def get_first_name_counts(df):\n",
    "  fn_df = pd.DataFrame()\n",
    "  fn = list(df['first_name'].drop_duplicates())\n",
    "  # freq = np.zeros(len(fn))\n",
    "  # m_freq = np.zeros(len(fn))\n",
    "  # f_freq = np.zeros(len(fn))\n",
    "\n",
    "  # for i in range(len(fn)):\n",
    "  #   f = df[df['first_name']==fn[i]]\n",
    "  #   freq[i] = f.freq.sum()\n",
    "  #   m_freq[i] = f.male_freq.sum()\n",
    "  #   f_freq[i] = f.female_freq.sum()\n",
    "  fn_df['first_name'] = fn\n",
    "  fn_df['freq'] = fn_df['first_name'].map(df.groupby('first_name').sum()['freq'])\n",
    "  fn_df['male_freq'] = fn_df['first_name'].map(df.groupby('first_name').sum()['male_freq'])\n",
    "  fn_df['female_freq'] = fn_df['first_name'].map(df.groupby('first_name').sum()['female_freq'])\n",
    "  return fn_df"
   ]
  },
  {
   "cell_type": "code",
   "execution_count": null,
   "metadata": {
    "id": "Tr0AdQFfxWM7"
   },
   "outputs": [],
   "source": [
    "def get_last_name_counts(df):\n",
    "  fn_df = pd.DataFrame()\n",
    "  fn = list(df['last_name'].drop_duplicates())\n",
    "  freq = np.zeros(len(fn))\n",
    "  # for i in range(len(fn)):\n",
    "  #   f = df[df['last_name']==fn[i]]\n",
    "  #   freq[i] = f.freq.sum()\n",
    "\n",
    "  fn_df['last_name'] = fn\n",
    "  fn_df['freq'] = fn_df['last_name'].map(df.groupby('last_name').sum()['freq'])\n",
    "  fn_df['freq_percent'] = fn_df['freq']/fn_df['freq'].sum()\n",
    "  return fn_df"
   ]
  },
  {
   "cell_type": "code",
   "execution_count": null,
   "metadata": {
    "id": "ROvNm195yaUW"
   },
   "outputs": [],
   "source": [
    "def add_combined_freq(df):\n",
    "  df['freq'] = df['Name'].map(df.groupby('Name').sum()['freq'])\n",
    "  df['male_freq'] = df['Name'].map(df.groupby('Name').sum()['male_freq'])\n",
    "  df['female_freq']  = df['Name'].map(df.groupby('Name').sum()['female_freq'])\n",
    "  df = df.drop_duplicates(subset='Name', keep='last')\n",
    "  return df"
   ]
  },
  {
   "cell_type": "code",
   "execution_count": null,
   "metadata": {
    "id": "q-awfHCrSzfE"
   },
   "outputs": [],
   "source": [
    "ai = pd.concat([a_9, a_10, a_11], ignore_index=True)"
   ]
  },
  {
   "cell_type": "code",
   "execution_count": null,
   "metadata": {
    "id": "E9cNctvNTJpA"
   },
   "outputs": [],
   "source": [
    "ai = add_combined_freq(ai)"
   ]
  },
  {
   "cell_type": "code",
   "execution_count": null,
   "metadata": {
    "colab": {
     "base_uri": "https://localhost:8080/",
     "height": 419
    },
    "id": "cbyhosonTSTZ",
    "outputId": "4663ef9e-fe12-4992-e2e3-34bcb6e82f60"
   },
   "outputs": [
    {
     "data": {
      "text/html": [
       "<div>\n",
       "<style scoped>\n",
       "    .dataframe tbody tr th:only-of-type {\n",
       "        vertical-align: middle;\n",
       "    }\n",
       "\n",
       "    .dataframe tbody tr th {\n",
       "        vertical-align: top;\n",
       "    }\n",
       "\n",
       "    .dataframe thead th {\n",
       "        text-align: right;\n",
       "    }\n",
       "</style>\n",
       "<table border=\"1\" class=\"dataframe\">\n",
       "  <thead>\n",
       "    <tr style=\"text-align: right;\">\n",
       "      <th></th>\n",
       "      <th>Name</th>\n",
       "      <th>Gender</th>\n",
       "      <th>freq</th>\n",
       "      <th>male_freq</th>\n",
       "      <th>female_freq</th>\n",
       "      <th>first_name</th>\n",
       "      <th>last_name</th>\n",
       "      <th>last_letter</th>\n",
       "    </tr>\n",
       "  </thead>\n",
       "  <tbody>\n",
       "    <tr>\n",
       "      <th>381812</th>\n",
       "      <td>SUNITA</td>\n",
       "      <td>Female</td>\n",
       "      <td>1397</td>\n",
       "      <td>0.0</td>\n",
       "      <td>1397.0</td>\n",
       "      <td>sunita</td>\n",
       "      <td>NaN</td>\n",
       "      <td>a</td>\n",
       "    </tr>\n",
       "    <tr>\n",
       "      <th>391956</th>\n",
       "      <td>SUNITA DEVI</td>\n",
       "      <td>Female</td>\n",
       "      <td>1225</td>\n",
       "      <td>1.0</td>\n",
       "      <td>1224.0</td>\n",
       "      <td>sunita</td>\n",
       "      <td>devi</td>\n",
       "      <td>i</td>\n",
       "    </tr>\n",
       "    <tr>\n",
       "      <th>470358</th>\n",
       "      <td>MANJU DEVI</td>\n",
       "      <td>Female</td>\n",
       "      <td>1095</td>\n",
       "      <td>1.0</td>\n",
       "      <td>1094.0</td>\n",
       "      <td>manju</td>\n",
       "      <td>devi</td>\n",
       "      <td>i</td>\n",
       "    </tr>\n",
       "    <tr>\n",
       "      <th>381966</th>\n",
       "      <td>URMILA DEVI</td>\n",
       "      <td>Female</td>\n",
       "      <td>1074</td>\n",
       "      <td>0.0</td>\n",
       "      <td>1074.0</td>\n",
       "      <td>urmila</td>\n",
       "      <td>devi</td>\n",
       "      <td>i</td>\n",
       "    </tr>\n",
       "    <tr>\n",
       "      <th>381673</th>\n",
       "      <td>USHA DEVI</td>\n",
       "      <td>Female</td>\n",
       "      <td>1059</td>\n",
       "      <td>0.0</td>\n",
       "      <td>1059.0</td>\n",
       "      <td>usha</td>\n",
       "      <td>devi</td>\n",
       "      <td>i</td>\n",
       "    </tr>\n",
       "    <tr>\n",
       "      <th>...</th>\n",
       "      <td>...</td>\n",
       "      <td>...</td>\n",
       "      <td>...</td>\n",
       "      <td>...</td>\n",
       "      <td>...</td>\n",
       "      <td>...</td>\n",
       "      <td>...</td>\n",
       "      <td>...</td>\n",
       "    </tr>\n",
       "    <tr>\n",
       "      <th>175534</th>\n",
       "      <td>ZOBAIDA KHATOON</td>\n",
       "      <td>Female</td>\n",
       "      <td>1</td>\n",
       "      <td>0.0</td>\n",
       "      <td>1.0</td>\n",
       "      <td>zobaida</td>\n",
       "      <td>khatoon</td>\n",
       "      <td>n</td>\n",
       "    </tr>\n",
       "    <tr>\n",
       "      <th>175533</th>\n",
       "      <td>SANJAFI DEVI</td>\n",
       "      <td>Female</td>\n",
       "      <td>1</td>\n",
       "      <td>0.0</td>\n",
       "      <td>1.0</td>\n",
       "      <td>sanjafi</td>\n",
       "      <td>devi</td>\n",
       "      <td>i</td>\n",
       "    </tr>\n",
       "    <tr>\n",
       "      <th>175531</th>\n",
       "      <td>NAJMVN NISNA</td>\n",
       "      <td>Female</td>\n",
       "      <td>1</td>\n",
       "      <td>0.0</td>\n",
       "      <td>1.0</td>\n",
       "      <td>najmvn</td>\n",
       "      <td>nisna</td>\n",
       "      <td>a</td>\n",
       "    </tr>\n",
       "    <tr>\n",
       "      <th>175529</th>\n",
       "      <td>RAJBALA KATARIA</td>\n",
       "      <td>Female</td>\n",
       "      <td>1</td>\n",
       "      <td>0.0</td>\n",
       "      <td>1.0</td>\n",
       "      <td>rajbala</td>\n",
       "      <td>kataria</td>\n",
       "      <td>a</td>\n",
       "    </tr>\n",
       "    <tr>\n",
       "      <th>471867</th>\n",
       "      <td>MYNENI SURI BABU</td>\n",
       "      <td>Male</td>\n",
       "      <td>1</td>\n",
       "      <td>1.0</td>\n",
       "      <td>0.0</td>\n",
       "      <td>myneni</td>\n",
       "      <td>babu</td>\n",
       "      <td>u</td>\n",
       "    </tr>\n",
       "  </tbody>\n",
       "</table>\n",
       "<p>408663 rows × 8 columns</p>\n",
       "</div>"
      ],
      "text/plain": [
       "                      Name  Gender  freq  ...  first_name  last_name last_letter\n",
       "381812             SUNITA   Female  1397  ...      sunita        NaN           a\n",
       "391956        SUNITA DEVI   Female  1225  ...      sunita       devi           i\n",
       "470358         MANJU DEVI   Female  1095  ...       manju       devi           i\n",
       "381966        URMILA DEVI   Female  1074  ...      urmila       devi           i\n",
       "381673          USHA DEVI   Female  1059  ...        usha       devi           i\n",
       "...                    ...     ...   ...  ...         ...        ...         ...\n",
       "175534    ZOBAIDA KHATOON   Female     1  ...     zobaida    khatoon           n\n",
       "175533       SANJAFI DEVI   Female     1  ...     sanjafi       devi           i\n",
       "175531       NAJMVN NISNA   Female     1  ...      najmvn      nisna           a\n",
       "175529    RAJBALA KATARIA   Female     1  ...     rajbala    kataria           a\n",
       "471867   MYNENI SURI BABU     Male     1  ...      myneni       babu           u\n",
       "\n",
       "[408663 rows x 8 columns]"
      ]
     },
     "execution_count": 141,
     "metadata": {},
     "output_type": "execute_result"
    }
   ],
   "source": [
    "ai.sort_values('freq',ascending=False)"
   ]
  },
  {
   "cell_type": "code",
   "execution_count": null,
   "metadata": {
    "colab": {
     "base_uri": "https://localhost:8080/",
     "height": 204
    },
    "id": "EjXBa52oTX1v",
    "outputId": "11433c53-b5a5-4203-81dd-412b5d726de1"
   },
   "outputs": [
    {
     "data": {
      "text/html": [
       "<div>\n",
       "<style scoped>\n",
       "    .dataframe tbody tr th:only-of-type {\n",
       "        vertical-align: middle;\n",
       "    }\n",
       "\n",
       "    .dataframe tbody tr th {\n",
       "        vertical-align: top;\n",
       "    }\n",
       "\n",
       "    .dataframe thead th {\n",
       "        text-align: right;\n",
       "    }\n",
       "</style>\n",
       "<table border=\"1\" class=\"dataframe\">\n",
       "  <thead>\n",
       "    <tr style=\"text-align: right;\">\n",
       "      <th></th>\n",
       "      <th>first_name</th>\n",
       "      <th>freq</th>\n",
       "      <th>male_freq</th>\n",
       "      <th>female_freq</th>\n",
       "    </tr>\n",
       "  </thead>\n",
       "  <tbody>\n",
       "    <tr>\n",
       "      <th>0</th>\n",
       "      <td>herjeet</td>\n",
       "      <td>NaN</td>\n",
       "      <td>NaN</td>\n",
       "      <td>NaN</td>\n",
       "    </tr>\n",
       "    <tr>\n",
       "      <th>1</th>\n",
       "      <td>thynala</td>\n",
       "      <td>NaN</td>\n",
       "      <td>NaN</td>\n",
       "      <td>NaN</td>\n",
       "    </tr>\n",
       "    <tr>\n",
       "      <th>2</th>\n",
       "      <td>ravipati</td>\n",
       "      <td>NaN</td>\n",
       "      <td>NaN</td>\n",
       "      <td>NaN</td>\n",
       "    </tr>\n",
       "    <tr>\n",
       "      <th>3</th>\n",
       "      <td>anuradha</td>\n",
       "      <td>NaN</td>\n",
       "      <td>NaN</td>\n",
       "      <td>NaN</td>\n",
       "    </tr>\n",
       "    <tr>\n",
       "      <th>4</th>\n",
       "      <td>aluru</td>\n",
       "      <td>NaN</td>\n",
       "      <td>NaN</td>\n",
       "      <td>NaN</td>\n",
       "    </tr>\n",
       "  </tbody>\n",
       "</table>\n",
       "</div>"
      ],
      "text/plain": [
       "  first_name  freq  male_freq  female_freq\n",
       "0    herjeet   NaN        NaN          NaN\n",
       "1    thynala   NaN        NaN          NaN\n",
       "2   ravipati   NaN        NaN          NaN\n",
       "3   anuradha   NaN        NaN          NaN\n",
       "4      aluru   NaN        NaN          NaN"
      ]
     },
     "execution_count": 142,
     "metadata": {},
     "output_type": "execute_result"
    }
   ],
   "source": [
    "ai = add_percent(ai)\n",
    "ai_fn.head()"
   ]
  },
  {
   "cell_type": "code",
   "execution_count": null,
   "metadata": {
    "id": "KOlL_vzGZmLE"
   },
   "outputs": [],
   "source": [
    "ai_fn = get_first_name_counts(ai)\n",
    "ai_ln = get_last_name_counts(ai)\n"
   ]
  },
  {
   "cell_type": "code",
   "execution_count": null,
   "metadata": {
    "colab": {
     "base_uri": "https://localhost:8080/",
     "height": 204
    },
    "id": "Utv1WPlYZX--",
    "outputId": "b80ad423-1c9c-48ac-eacd-01844e2decd8"
   },
   "outputs": [
    {
     "data": {
      "text/html": [
       "<div>\n",
       "<style scoped>\n",
       "    .dataframe tbody tr th:only-of-type {\n",
       "        vertical-align: middle;\n",
       "    }\n",
       "\n",
       "    .dataframe tbody tr th {\n",
       "        vertical-align: top;\n",
       "    }\n",
       "\n",
       "    .dataframe thead th {\n",
       "        text-align: right;\n",
       "    }\n",
       "</style>\n",
       "<table border=\"1\" class=\"dataframe\">\n",
       "  <thead>\n",
       "    <tr style=\"text-align: right;\">\n",
       "      <th></th>\n",
       "      <th>last_name</th>\n",
       "      <th>freq</th>\n",
       "      <th>freq_percent</th>\n",
       "    </tr>\n",
       "  </thead>\n",
       "  <tbody>\n",
       "    <tr>\n",
       "      <th>0</th>\n",
       "      <td>kaur</td>\n",
       "      <td>5778.0</td>\n",
       "      <td>0.009248</td>\n",
       "    </tr>\n",
       "    <tr>\n",
       "      <th>1</th>\n",
       "      <td>rajyam</td>\n",
       "      <td>9.0</td>\n",
       "      <td>0.000014</td>\n",
       "    </tr>\n",
       "    <tr>\n",
       "      <th>2</th>\n",
       "      <td>suseela</td>\n",
       "      <td>71.0</td>\n",
       "      <td>0.000114</td>\n",
       "    </tr>\n",
       "    <tr>\n",
       "      <th>3</th>\n",
       "      <td>dube</td>\n",
       "      <td>34.0</td>\n",
       "      <td>0.000054</td>\n",
       "    </tr>\n",
       "    <tr>\n",
       "      <th>4</th>\n",
       "      <td>sulochana</td>\n",
       "      <td>73.0</td>\n",
       "      <td>0.000117</td>\n",
       "    </tr>\n",
       "  </tbody>\n",
       "</table>\n",
       "</div>"
      ],
      "text/plain": [
       "   last_name    freq  freq_percent\n",
       "0       kaur  5778.0      0.009248\n",
       "1     rajyam     9.0      0.000014\n",
       "2    suseela    71.0      0.000114\n",
       "3       dube    34.0      0.000054\n",
       "4  sulochana    73.0      0.000117"
      ]
     },
     "execution_count": 164,
     "metadata": {},
     "output_type": "execute_result"
    }
   ],
   "source": [
    "ai_ln.head()"
   ]
  },
  {
   "cell_type": "code",
   "execution_count": null,
   "metadata": {
    "id": "qs-djvRMTevj"
   },
   "outputs": [],
   "source": [
    "ai_fn = add_percent(ai_fn)"
   ]
  },
  {
   "cell_type": "code",
   "execution_count": null,
   "metadata": {
    "colab": {
     "base_uri": "https://localhost:8080/",
     "height": 204
    },
    "id": "JuYWEZUbTiUK",
    "outputId": "d1b94c4c-1674-46e2-e7fc-c6c02aa4fd61"
   },
   "outputs": [
    {
     "data": {
      "text/html": [
       "<div>\n",
       "<style scoped>\n",
       "    .dataframe tbody tr th:only-of-type {\n",
       "        vertical-align: middle;\n",
       "    }\n",
       "\n",
       "    .dataframe tbody tr th {\n",
       "        vertical-align: top;\n",
       "    }\n",
       "\n",
       "    .dataframe thead th {\n",
       "        text-align: right;\n",
       "    }\n",
       "</style>\n",
       "<table border=\"1\" class=\"dataframe\">\n",
       "  <thead>\n",
       "    <tr style=\"text-align: right;\">\n",
       "      <th></th>\n",
       "      <th>Name</th>\n",
       "      <th>Gender</th>\n",
       "      <th>freq</th>\n",
       "      <th>male_freq</th>\n",
       "      <th>female_freq</th>\n",
       "      <th>first_name</th>\n",
       "      <th>last_name</th>\n",
       "      <th>last_letter</th>\n",
       "      <th>freq_percent</th>\n",
       "      <th>male_freq_percent</th>\n",
       "      <th>female_freq_percent</th>\n",
       "    </tr>\n",
       "  </thead>\n",
       "  <tbody>\n",
       "    <tr>\n",
       "      <th>381812</th>\n",
       "      <td>SUNITA</td>\n",
       "      <td>Female</td>\n",
       "      <td>1397</td>\n",
       "      <td>0.0</td>\n",
       "      <td>1397.0</td>\n",
       "      <td>sunita</td>\n",
       "      <td>NaN</td>\n",
       "      <td>a</td>\n",
       "      <td>0.001948</td>\n",
       "      <td>0.000000</td>\n",
       "      <td>0.001948</td>\n",
       "    </tr>\n",
       "    <tr>\n",
       "      <th>391956</th>\n",
       "      <td>SUNITA DEVI</td>\n",
       "      <td>Female</td>\n",
       "      <td>1225</td>\n",
       "      <td>1.0</td>\n",
       "      <td>1224.0</td>\n",
       "      <td>sunita</td>\n",
       "      <td>devi</td>\n",
       "      <td>i</td>\n",
       "      <td>0.001708</td>\n",
       "      <td>0.000001</td>\n",
       "      <td>0.001707</td>\n",
       "    </tr>\n",
       "    <tr>\n",
       "      <th>470358</th>\n",
       "      <td>MANJU DEVI</td>\n",
       "      <td>Female</td>\n",
       "      <td>1095</td>\n",
       "      <td>1.0</td>\n",
       "      <td>1094.0</td>\n",
       "      <td>manju</td>\n",
       "      <td>devi</td>\n",
       "      <td>i</td>\n",
       "      <td>0.001527</td>\n",
       "      <td>0.000001</td>\n",
       "      <td>0.001526</td>\n",
       "    </tr>\n",
       "    <tr>\n",
       "      <th>381966</th>\n",
       "      <td>URMILA DEVI</td>\n",
       "      <td>Female</td>\n",
       "      <td>1074</td>\n",
       "      <td>0.0</td>\n",
       "      <td>1074.0</td>\n",
       "      <td>urmila</td>\n",
       "      <td>devi</td>\n",
       "      <td>i</td>\n",
       "      <td>0.001498</td>\n",
       "      <td>0.000000</td>\n",
       "      <td>0.001498</td>\n",
       "    </tr>\n",
       "    <tr>\n",
       "      <th>381673</th>\n",
       "      <td>USHA DEVI</td>\n",
       "      <td>Female</td>\n",
       "      <td>1059</td>\n",
       "      <td>0.0</td>\n",
       "      <td>1059.0</td>\n",
       "      <td>usha</td>\n",
       "      <td>devi</td>\n",
       "      <td>i</td>\n",
       "      <td>0.001477</td>\n",
       "      <td>0.000000</td>\n",
       "      <td>0.001477</td>\n",
       "    </tr>\n",
       "  </tbody>\n",
       "</table>\n",
       "</div>"
      ],
      "text/plain": [
       "                 Name  Gender  ...  male_freq_percent  female_freq_percent\n",
       "381812        SUNITA   Female  ...           0.000000             0.001948\n",
       "391956   SUNITA DEVI   Female  ...           0.000001             0.001707\n",
       "470358    MANJU DEVI   Female  ...           0.000001             0.001526\n",
       "381966   URMILA DEVI   Female  ...           0.000000             0.001498\n",
       "381673     USHA DEVI   Female  ...           0.000000             0.001477\n",
       "\n",
       "[5 rows x 11 columns]"
      ]
     },
     "execution_count": 167,
     "metadata": {},
     "output_type": "execute_result"
    }
   ],
   "source": [
    "ai.sort_values('freq',ascending=False).head()"
   ]
  },
  {
   "cell_type": "code",
   "execution_count": null,
   "metadata": {
    "colab": {
     "base_uri": "https://localhost:8080/",
     "height": 204
    },
    "id": "l4gSzUOlTk_p",
    "outputId": "99967dcf-0f16-47e9-9650-c825865e66e3"
   },
   "outputs": [
    {
     "data": {
      "text/html": [
       "<div>\n",
       "<style scoped>\n",
       "    .dataframe tbody tr th:only-of-type {\n",
       "        vertical-align: middle;\n",
       "    }\n",
       "\n",
       "    .dataframe tbody tr th {\n",
       "        vertical-align: top;\n",
       "    }\n",
       "\n",
       "    .dataframe thead th {\n",
       "        text-align: right;\n",
       "    }\n",
       "</style>\n",
       "<table border=\"1\" class=\"dataframe\">\n",
       "  <thead>\n",
       "    <tr style=\"text-align: right;\">\n",
       "      <th></th>\n",
       "      <th>Name</th>\n",
       "      <th>Gender</th>\n",
       "      <th>freq</th>\n",
       "      <th>male_freq</th>\n",
       "      <th>female_freq</th>\n",
       "      <th>first_name</th>\n",
       "      <th>last_name</th>\n",
       "      <th>last_letter</th>\n",
       "      <th>freq_percent</th>\n",
       "      <th>male_freq_percent</th>\n",
       "      <th>female_freq_percent</th>\n",
       "    </tr>\n",
       "  </thead>\n",
       "  <tbody>\n",
       "    <tr>\n",
       "      <th>471799</th>\n",
       "      <td>ASHOK KUMAR</td>\n",
       "      <td>Male</td>\n",
       "      <td>753</td>\n",
       "      <td>752.0</td>\n",
       "      <td>1.0</td>\n",
       "      <td>ashok</td>\n",
       "      <td>kumar</td>\n",
       "      <td>r</td>\n",
       "      <td>0.001050</td>\n",
       "      <td>0.001049</td>\n",
       "      <td>0.000001</td>\n",
       "    </tr>\n",
       "    <tr>\n",
       "      <th>469388</th>\n",
       "      <td>ASHOK</td>\n",
       "      <td>Male</td>\n",
       "      <td>449</td>\n",
       "      <td>448.0</td>\n",
       "      <td>1.0</td>\n",
       "      <td>ashok</td>\n",
       "      <td>NaN</td>\n",
       "      <td>k</td>\n",
       "      <td>0.000626</td>\n",
       "      <td>0.000625</td>\n",
       "      <td>0.000001</td>\n",
       "    </tr>\n",
       "    <tr>\n",
       "      <th>471296</th>\n",
       "      <td>RAJENDRA</td>\n",
       "      <td>Male</td>\n",
       "      <td>379</td>\n",
       "      <td>378.0</td>\n",
       "      <td>1.0</td>\n",
       "      <td>rajendra</td>\n",
       "      <td>NaN</td>\n",
       "      <td>a</td>\n",
       "      <td>0.000529</td>\n",
       "      <td>0.000527</td>\n",
       "      <td>0.000001</td>\n",
       "    </tr>\n",
       "    <tr>\n",
       "      <th>471708</th>\n",
       "      <td>ANIL KUMAR</td>\n",
       "      <td>Male</td>\n",
       "      <td>375</td>\n",
       "      <td>374.0</td>\n",
       "      <td>1.0</td>\n",
       "      <td>anil</td>\n",
       "      <td>kumar</td>\n",
       "      <td>r</td>\n",
       "      <td>0.000523</td>\n",
       "      <td>0.000522</td>\n",
       "      <td>0.000001</td>\n",
       "    </tr>\n",
       "    <tr>\n",
       "      <th>470659</th>\n",
       "      <td>SURESH</td>\n",
       "      <td>Male</td>\n",
       "      <td>377</td>\n",
       "      <td>351.0</td>\n",
       "      <td>26.0</td>\n",
       "      <td>suresh</td>\n",
       "      <td>NaN</td>\n",
       "      <td>h</td>\n",
       "      <td>0.000526</td>\n",
       "      <td>0.000490</td>\n",
       "      <td>0.000036</td>\n",
       "    </tr>\n",
       "  </tbody>\n",
       "</table>\n",
       "</div>"
      ],
      "text/plain": [
       "                 Name Gender  ...  male_freq_percent  female_freq_percent\n",
       "471799   ASHOK KUMAR    Male  ...           0.001049             0.000001\n",
       "469388         ASHOK    Male  ...           0.000625             0.000001\n",
       "471296      RAJENDRA    Male  ...           0.000527             0.000001\n",
       "471708    ANIL KUMAR    Male  ...           0.000522             0.000001\n",
       "470659        SURESH    Male  ...           0.000490             0.000036\n",
       "\n",
       "[5 rows x 11 columns]"
      ]
     },
     "execution_count": 168,
     "metadata": {},
     "output_type": "execute_result"
    }
   ],
   "source": [
    "ai.sort_values('male_freq', ascending=False).head()"
   ]
  },
  {
   "cell_type": "code",
   "execution_count": null,
   "metadata": {
    "colab": {
     "base_uri": "https://localhost:8080/",
     "height": 204
    },
    "id": "Wwz4bHy7TnOq",
    "outputId": "5d6100fc-e3c2-43b0-ea51-bb1fb466d4a5"
   },
   "outputs": [
    {
     "data": {
      "text/html": [
       "<div>\n",
       "<style scoped>\n",
       "    .dataframe tbody tr th:only-of-type {\n",
       "        vertical-align: middle;\n",
       "    }\n",
       "\n",
       "    .dataframe tbody tr th {\n",
       "        vertical-align: top;\n",
       "    }\n",
       "\n",
       "    .dataframe thead th {\n",
       "        text-align: right;\n",
       "    }\n",
       "</style>\n",
       "<table border=\"1\" class=\"dataframe\">\n",
       "  <thead>\n",
       "    <tr style=\"text-align: right;\">\n",
       "      <th></th>\n",
       "      <th>Name</th>\n",
       "      <th>Gender</th>\n",
       "      <th>freq</th>\n",
       "      <th>male_freq</th>\n",
       "      <th>female_freq</th>\n",
       "      <th>first_name</th>\n",
       "      <th>last_name</th>\n",
       "      <th>last_letter</th>\n",
       "      <th>freq_percent</th>\n",
       "      <th>male_freq_percent</th>\n",
       "      <th>female_freq_percent</th>\n",
       "    </tr>\n",
       "  </thead>\n",
       "  <tbody>\n",
       "    <tr>\n",
       "      <th>381812</th>\n",
       "      <td>SUNITA</td>\n",
       "      <td>Female</td>\n",
       "      <td>1397</td>\n",
       "      <td>0.0</td>\n",
       "      <td>1397.0</td>\n",
       "      <td>sunita</td>\n",
       "      <td>NaN</td>\n",
       "      <td>a</td>\n",
       "      <td>0.001948</td>\n",
       "      <td>0.000000</td>\n",
       "      <td>0.001948</td>\n",
       "    </tr>\n",
       "    <tr>\n",
       "      <th>391956</th>\n",
       "      <td>SUNITA DEVI</td>\n",
       "      <td>Female</td>\n",
       "      <td>1225</td>\n",
       "      <td>1.0</td>\n",
       "      <td>1224.0</td>\n",
       "      <td>sunita</td>\n",
       "      <td>devi</td>\n",
       "      <td>i</td>\n",
       "      <td>0.001708</td>\n",
       "      <td>0.000001</td>\n",
       "      <td>0.001707</td>\n",
       "    </tr>\n",
       "    <tr>\n",
       "      <th>470358</th>\n",
       "      <td>MANJU DEVI</td>\n",
       "      <td>Female</td>\n",
       "      <td>1095</td>\n",
       "      <td>1.0</td>\n",
       "      <td>1094.0</td>\n",
       "      <td>manju</td>\n",
       "      <td>devi</td>\n",
       "      <td>i</td>\n",
       "      <td>0.001527</td>\n",
       "      <td>0.000001</td>\n",
       "      <td>0.001526</td>\n",
       "    </tr>\n",
       "    <tr>\n",
       "      <th>381966</th>\n",
       "      <td>URMILA DEVI</td>\n",
       "      <td>Female</td>\n",
       "      <td>1074</td>\n",
       "      <td>0.0</td>\n",
       "      <td>1074.0</td>\n",
       "      <td>urmila</td>\n",
       "      <td>devi</td>\n",
       "      <td>i</td>\n",
       "      <td>0.001498</td>\n",
       "      <td>0.000000</td>\n",
       "      <td>0.001498</td>\n",
       "    </tr>\n",
       "    <tr>\n",
       "      <th>381673</th>\n",
       "      <td>USHA DEVI</td>\n",
       "      <td>Female</td>\n",
       "      <td>1059</td>\n",
       "      <td>0.0</td>\n",
       "      <td>1059.0</td>\n",
       "      <td>usha</td>\n",
       "      <td>devi</td>\n",
       "      <td>i</td>\n",
       "      <td>0.001477</td>\n",
       "      <td>0.000000</td>\n",
       "      <td>0.001477</td>\n",
       "    </tr>\n",
       "  </tbody>\n",
       "</table>\n",
       "</div>"
      ],
      "text/plain": [
       "                 Name  Gender  ...  male_freq_percent  female_freq_percent\n",
       "381812        SUNITA   Female  ...           0.000000             0.001948\n",
       "391956   SUNITA DEVI   Female  ...           0.000001             0.001707\n",
       "470358    MANJU DEVI   Female  ...           0.000001             0.001526\n",
       "381966   URMILA DEVI   Female  ...           0.000000             0.001498\n",
       "381673     USHA DEVI   Female  ...           0.000000             0.001477\n",
       "\n",
       "[5 rows x 11 columns]"
      ]
     },
     "execution_count": 169,
     "metadata": {},
     "output_type": "execute_result"
    }
   ],
   "source": [
    "ai.sort_values('female_freq', ascending=False).head()"
   ]
  },
  {
   "cell_type": "code",
   "execution_count": null,
   "metadata": {
    "colab": {
     "base_uri": "https://localhost:8080/",
     "height": 204
    },
    "id": "b48TtV-gTpf2",
    "outputId": "5ea88980-8c65-4e60-91f4-0f67d0fbf0af"
   },
   "outputs": [
    {
     "data": {
      "text/html": [
       "<div>\n",
       "<style scoped>\n",
       "    .dataframe tbody tr th:only-of-type {\n",
       "        vertical-align: middle;\n",
       "    }\n",
       "\n",
       "    .dataframe tbody tr th {\n",
       "        vertical-align: top;\n",
       "    }\n",
       "\n",
       "    .dataframe thead th {\n",
       "        text-align: right;\n",
       "    }\n",
       "</style>\n",
       "<table border=\"1\" class=\"dataframe\">\n",
       "  <thead>\n",
       "    <tr style=\"text-align: right;\">\n",
       "      <th></th>\n",
       "      <th>first_name</th>\n",
       "      <th>freq</th>\n",
       "      <th>male_freq</th>\n",
       "      <th>female_freq</th>\n",
       "      <th>freq_percent</th>\n",
       "      <th>male_freq_percent</th>\n",
       "      <th>female_freq_percent</th>\n",
       "    </tr>\n",
       "  </thead>\n",
       "  <tbody>\n",
       "    <tr>\n",
       "      <th>145</th>\n",
       "      <td>ram</td>\n",
       "      <td>7227</td>\n",
       "      <td>6523.0</td>\n",
       "      <td>704.0</td>\n",
       "      <td>0.010079</td>\n",
       "      <td>0.009097</td>\n",
       "      <td>0.000982</td>\n",
       "    </tr>\n",
       "    <tr>\n",
       "      <th>98</th>\n",
       "      <td>sunita</td>\n",
       "      <td>6086</td>\n",
       "      <td>3.0</td>\n",
       "      <td>6083.0</td>\n",
       "      <td>0.008488</td>\n",
       "      <td>0.000004</td>\n",
       "      <td>0.008484</td>\n",
       "    </tr>\n",
       "    <tr>\n",
       "      <th>5045</th>\n",
       "      <td>ashok</td>\n",
       "      <td>4622</td>\n",
       "      <td>4581.0</td>\n",
       "      <td>41.0</td>\n",
       "      <td>0.006446</td>\n",
       "      <td>0.006389</td>\n",
       "      <td>0.000057</td>\n",
       "    </tr>\n",
       "    <tr>\n",
       "      <th>140</th>\n",
       "      <td>k</td>\n",
       "      <td>4479</td>\n",
       "      <td>2801.0</td>\n",
       "      <td>1678.0</td>\n",
       "      <td>0.006247</td>\n",
       "      <td>0.003906</td>\n",
       "      <td>0.002340</td>\n",
       "    </tr>\n",
       "    <tr>\n",
       "      <th>31</th>\n",
       "      <td>anita</td>\n",
       "      <td>4305</td>\n",
       "      <td>6.0</td>\n",
       "      <td>4299.0</td>\n",
       "      <td>0.006004</td>\n",
       "      <td>0.000008</td>\n",
       "      <td>0.005996</td>\n",
       "    </tr>\n",
       "  </tbody>\n",
       "</table>\n",
       "</div>"
      ],
      "text/plain": [
       "     first_name  freq  ...  male_freq_percent  female_freq_percent\n",
       "145         ram  7227  ...           0.009097             0.000982\n",
       "98       sunita  6086  ...           0.000004             0.008484\n",
       "5045      ashok  4622  ...           0.006389             0.000057\n",
       "140           k  4479  ...           0.003906             0.002340\n",
       "31        anita  4305  ...           0.000008             0.005996\n",
       "\n",
       "[5 rows x 7 columns]"
      ]
     },
     "execution_count": 171,
     "metadata": {},
     "output_type": "execute_result"
    }
   ],
   "source": [
    "ai_fn.sort_values('freq',ascending =False).head()"
   ]
  },
  {
   "cell_type": "code",
   "execution_count": null,
   "metadata": {
    "colab": {
     "base_uri": "https://localhost:8080/",
     "height": 204
    },
    "id": "Xem_tuhlTr1z",
    "outputId": "02f3157e-5ed1-432d-dfb2-1322bde5f88c"
   },
   "outputs": [
    {
     "data": {
      "text/html": [
       "<div>\n",
       "<style scoped>\n",
       "    .dataframe tbody tr th:only-of-type {\n",
       "        vertical-align: middle;\n",
       "    }\n",
       "\n",
       "    .dataframe tbody tr th {\n",
       "        vertical-align: top;\n",
       "    }\n",
       "\n",
       "    .dataframe thead th {\n",
       "        text-align: right;\n",
       "    }\n",
       "</style>\n",
       "<table border=\"1\" class=\"dataframe\">\n",
       "  <thead>\n",
       "    <tr style=\"text-align: right;\">\n",
       "      <th></th>\n",
       "      <th>first_name</th>\n",
       "      <th>freq</th>\n",
       "      <th>male_freq</th>\n",
       "      <th>female_freq</th>\n",
       "      <th>freq_percent</th>\n",
       "      <th>male_freq_percent</th>\n",
       "      <th>female_freq_percent</th>\n",
       "    </tr>\n",
       "  </thead>\n",
       "  <tbody>\n",
       "    <tr>\n",
       "      <th>98</th>\n",
       "      <td>sunita</td>\n",
       "      <td>6086</td>\n",
       "      <td>3.0</td>\n",
       "      <td>6083.0</td>\n",
       "      <td>0.008488</td>\n",
       "      <td>0.000004</td>\n",
       "      <td>0.008484</td>\n",
       "    </tr>\n",
       "    <tr>\n",
       "      <th>31</th>\n",
       "      <td>anita</td>\n",
       "      <td>4305</td>\n",
       "      <td>6.0</td>\n",
       "      <td>4299.0</td>\n",
       "      <td>0.006004</td>\n",
       "      <td>0.000008</td>\n",
       "      <td>0.005996</td>\n",
       "    </tr>\n",
       "    <tr>\n",
       "      <th>112</th>\n",
       "      <td>usha</td>\n",
       "      <td>4146</td>\n",
       "      <td>5.0</td>\n",
       "      <td>4141.0</td>\n",
       "      <td>0.005782</td>\n",
       "      <td>0.000007</td>\n",
       "      <td>0.005775</td>\n",
       "    </tr>\n",
       "    <tr>\n",
       "      <th>202</th>\n",
       "      <td>manju</td>\n",
       "      <td>3753</td>\n",
       "      <td>5.0</td>\n",
       "      <td>3748.0</td>\n",
       "      <td>0.005234</td>\n",
       "      <td>0.000007</td>\n",
       "      <td>0.005227</td>\n",
       "    </tr>\n",
       "    <tr>\n",
       "      <th>333</th>\n",
       "      <td>asha</td>\n",
       "      <td>3354</td>\n",
       "      <td>40.0</td>\n",
       "      <td>3314.0</td>\n",
       "      <td>0.004678</td>\n",
       "      <td>0.000056</td>\n",
       "      <td>0.004622</td>\n",
       "    </tr>\n",
       "  </tbody>\n",
       "</table>\n",
       "</div>"
      ],
      "text/plain": [
       "    first_name  freq  ...  male_freq_percent  female_freq_percent\n",
       "98      sunita  6086  ...           0.000004             0.008484\n",
       "31       anita  4305  ...           0.000008             0.005996\n",
       "112       usha  4146  ...           0.000007             0.005775\n",
       "202      manju  3753  ...           0.000007             0.005227\n",
       "333       asha  3354  ...           0.000056             0.004622\n",
       "\n",
       "[5 rows x 7 columns]"
      ]
     },
     "execution_count": 172,
     "metadata": {},
     "output_type": "execute_result"
    }
   ],
   "source": [
    "ai_fn.sort_values('female_freq',ascending =False).head()"
   ]
  },
  {
   "cell_type": "code",
   "execution_count": null,
   "metadata": {
    "colab": {
     "base_uri": "https://localhost:8080/",
     "height": 204
    },
    "id": "Jyhnz4_ATtxf",
    "outputId": "2df7b671-3dc8-4d41-b424-561af27af157"
   },
   "outputs": [
    {
     "data": {
      "text/html": [
       "<div>\n",
       "<style scoped>\n",
       "    .dataframe tbody tr th:only-of-type {\n",
       "        vertical-align: middle;\n",
       "    }\n",
       "\n",
       "    .dataframe tbody tr th {\n",
       "        vertical-align: top;\n",
       "    }\n",
       "\n",
       "    .dataframe thead th {\n",
       "        text-align: right;\n",
       "    }\n",
       "</style>\n",
       "<table border=\"1\" class=\"dataframe\">\n",
       "  <thead>\n",
       "    <tr style=\"text-align: right;\">\n",
       "      <th></th>\n",
       "      <th>first_name</th>\n",
       "      <th>freq</th>\n",
       "      <th>male_freq</th>\n",
       "      <th>female_freq</th>\n",
       "      <th>freq_percent</th>\n",
       "      <th>male_freq_percent</th>\n",
       "      <th>female_freq_percent</th>\n",
       "    </tr>\n",
       "  </thead>\n",
       "  <tbody>\n",
       "    <tr>\n",
       "      <th>145</th>\n",
       "      <td>ram</td>\n",
       "      <td>7227</td>\n",
       "      <td>6523.0</td>\n",
       "      <td>704.0</td>\n",
       "      <td>0.010079</td>\n",
       "      <td>0.009097</td>\n",
       "      <td>0.000982</td>\n",
       "    </tr>\n",
       "    <tr>\n",
       "      <th>5045</th>\n",
       "      <td>ashok</td>\n",
       "      <td>4622</td>\n",
       "      <td>4581.0</td>\n",
       "      <td>41.0</td>\n",
       "      <td>0.006446</td>\n",
       "      <td>0.006389</td>\n",
       "      <td>0.000057</td>\n",
       "    </tr>\n",
       "    <tr>\n",
       "      <th>6729</th>\n",
       "      <td>anil</td>\n",
       "      <td>3185</td>\n",
       "      <td>3165.0</td>\n",
       "      <td>20.0</td>\n",
       "      <td>0.004442</td>\n",
       "      <td>0.004414</td>\n",
       "      <td>0.000028</td>\n",
       "    </tr>\n",
       "    <tr>\n",
       "      <th>13682</th>\n",
       "      <td>ramesh</td>\n",
       "      <td>3208</td>\n",
       "      <td>3146.0</td>\n",
       "      <td>62.0</td>\n",
       "      <td>0.004474</td>\n",
       "      <td>0.004388</td>\n",
       "      <td>0.000086</td>\n",
       "    </tr>\n",
       "    <tr>\n",
       "      <th>5223</th>\n",
       "      <td>suresh</td>\n",
       "      <td>3283</td>\n",
       "      <td>3109.0</td>\n",
       "      <td>174.0</td>\n",
       "      <td>0.004579</td>\n",
       "      <td>0.004336</td>\n",
       "      <td>0.000243</td>\n",
       "    </tr>\n",
       "  </tbody>\n",
       "</table>\n",
       "</div>"
      ],
      "text/plain": [
       "      first_name  freq  ...  male_freq_percent  female_freq_percent\n",
       "145          ram  7227  ...           0.009097             0.000982\n",
       "5045       ashok  4622  ...           0.006389             0.000057\n",
       "6729        anil  3185  ...           0.004414             0.000028\n",
       "13682     ramesh  3208  ...           0.004388             0.000086\n",
       "5223      suresh  3283  ...           0.004336             0.000243\n",
       "\n",
       "[5 rows x 7 columns]"
      ]
     },
     "execution_count": 173,
     "metadata": {},
     "output_type": "execute_result"
    }
   ],
   "source": [
    "ai_fn.sort_values('male_freq',ascending =False).head()"
   ]
  },
  {
   "cell_type": "code",
   "execution_count": null,
   "metadata": {
    "colab": {
     "base_uri": "https://localhost:8080/",
     "height": 669
    },
    "id": "PldWP8nyTv8Y",
    "outputId": "d94225b9-cd6c-4401-c59b-18665ae69f80"
   },
   "outputs": [
    {
     "data": {
      "text/html": [
       "<div>\n",
       "<style scoped>\n",
       "    .dataframe tbody tr th:only-of-type {\n",
       "        vertical-align: middle;\n",
       "    }\n",
       "\n",
       "    .dataframe tbody tr th {\n",
       "        vertical-align: top;\n",
       "    }\n",
       "\n",
       "    .dataframe thead th {\n",
       "        text-align: right;\n",
       "    }\n",
       "</style>\n",
       "<table border=\"1\" class=\"dataframe\">\n",
       "  <thead>\n",
       "    <tr style=\"text-align: right;\">\n",
       "      <th></th>\n",
       "      <th>last_name</th>\n",
       "      <th>freq</th>\n",
       "      <th>freq_percent</th>\n",
       "    </tr>\n",
       "  </thead>\n",
       "  <tbody>\n",
       "    <tr>\n",
       "      <th>42</th>\n",
       "      <td>devi</td>\n",
       "      <td>69640.0</td>\n",
       "      <td>0.111458</td>\n",
       "    </tr>\n",
       "    <tr>\n",
       "      <th>116</th>\n",
       "      <td>singh</td>\n",
       "      <td>43572.0</td>\n",
       "      <td>0.069736</td>\n",
       "    </tr>\n",
       "    <tr>\n",
       "      <th>617</th>\n",
       "      <td>sharma</td>\n",
       "      <td>16777.0</td>\n",
       "      <td>0.026851</td>\n",
       "    </tr>\n",
       "    <tr>\n",
       "      <th>349</th>\n",
       "      <td>kumar</td>\n",
       "      <td>13402.0</td>\n",
       "      <td>0.021450</td>\n",
       "    </tr>\n",
       "    <tr>\n",
       "      <th>418</th>\n",
       "      <td>gupta</td>\n",
       "      <td>10790.0</td>\n",
       "      <td>0.017269</td>\n",
       "    </tr>\n",
       "    <tr>\n",
       "      <th>20</th>\n",
       "      <td>yadav</td>\n",
       "      <td>9781.0</td>\n",
       "      <td>0.015654</td>\n",
       "    </tr>\n",
       "    <tr>\n",
       "      <th>1238</th>\n",
       "      <td>prasad</td>\n",
       "      <td>7334.0</td>\n",
       "      <td>0.011738</td>\n",
       "    </tr>\n",
       "    <tr>\n",
       "      <th>231</th>\n",
       "      <td>mishra</td>\n",
       "      <td>6322.0</td>\n",
       "      <td>0.010118</td>\n",
       "    </tr>\n",
       "    <tr>\n",
       "      <th>0</th>\n",
       "      <td>kaur</td>\n",
       "      <td>5778.0</td>\n",
       "      <td>0.009248</td>\n",
       "    </tr>\n",
       "    <tr>\n",
       "      <th>38</th>\n",
       "      <td>kumari</td>\n",
       "      <td>5651.0</td>\n",
       "      <td>0.009044</td>\n",
       "    </tr>\n",
       "    <tr>\n",
       "      <th>104</th>\n",
       "      <td>rao</td>\n",
       "      <td>5467.0</td>\n",
       "      <td>0.008750</td>\n",
       "    </tr>\n",
       "    <tr>\n",
       "      <th>47</th>\n",
       "      <td>verma</td>\n",
       "      <td>5298.0</td>\n",
       "      <td>0.008479</td>\n",
       "    </tr>\n",
       "    <tr>\n",
       "      <th>101</th>\n",
       "      <td>jain</td>\n",
       "      <td>4860.0</td>\n",
       "      <td>0.007778</td>\n",
       "    </tr>\n",
       "    <tr>\n",
       "      <th>281</th>\n",
       "      <td>pandey</td>\n",
       "      <td>4856.0</td>\n",
       "      <td>0.007772</td>\n",
       "    </tr>\n",
       "    <tr>\n",
       "      <th>102</th>\n",
       "      <td>reddy</td>\n",
       "      <td>4136.0</td>\n",
       "      <td>0.006620</td>\n",
       "    </tr>\n",
       "    <tr>\n",
       "      <th>65</th>\n",
       "      <td>das</td>\n",
       "      <td>3852.0</td>\n",
       "      <td>0.006165</td>\n",
       "    </tr>\n",
       "    <tr>\n",
       "      <th>287</th>\n",
       "      <td>rani</td>\n",
       "      <td>3700.0</td>\n",
       "      <td>0.005922</td>\n",
       "    </tr>\n",
       "    <tr>\n",
       "      <th>1828</th>\n",
       "      <td>ram</td>\n",
       "      <td>3616.0</td>\n",
       "      <td>0.005787</td>\n",
       "    </tr>\n",
       "    <tr>\n",
       "      <th>16</th>\n",
       "      <td>k</td>\n",
       "      <td>3601.0</td>\n",
       "      <td>0.005763</td>\n",
       "    </tr>\n",
       "    <tr>\n",
       "      <th>232</th>\n",
       "      <td>sinha</td>\n",
       "      <td>3492.0</td>\n",
       "      <td>0.005589</td>\n",
       "    </tr>\n",
       "  </tbody>\n",
       "</table>\n",
       "</div>"
      ],
      "text/plain": [
       "     last_name     freq  freq_percent\n",
       "42        devi  69640.0      0.111458\n",
       "116      singh  43572.0      0.069736\n",
       "617     sharma  16777.0      0.026851\n",
       "349      kumar  13402.0      0.021450\n",
       "418      gupta  10790.0      0.017269\n",
       "20       yadav   9781.0      0.015654\n",
       "1238    prasad   7334.0      0.011738\n",
       "231     mishra   6322.0      0.010118\n",
       "0         kaur   5778.0      0.009248\n",
       "38      kumari   5651.0      0.009044\n",
       "104        rao   5467.0      0.008750\n",
       "47       verma   5298.0      0.008479\n",
       "101       jain   4860.0      0.007778\n",
       "281     pandey   4856.0      0.007772\n",
       "102      reddy   4136.0      0.006620\n",
       "65         das   3852.0      0.006165\n",
       "287       rani   3700.0      0.005922\n",
       "1828       ram   3616.0      0.005787\n",
       "16           k   3601.0      0.005763\n",
       "232      sinha   3492.0      0.005589"
      ]
     },
     "execution_count": 174,
     "metadata": {},
     "output_type": "execute_result"
    }
   ],
   "source": [
    "ai_ln.sort_values('freq', ascending=False).head(20)"
   ]
  },
  {
   "cell_type": "code",
   "execution_count": null,
   "metadata": {
    "colab": {
     "base_uri": "https://localhost:8080/"
    },
    "id": "UZbjeMg0TynY",
    "outputId": "d3e5e1ad-79a2-478c-9cb0-a98f85b9de1a"
   },
   "outputs": [
    {
     "name": "stdout",
     "output_type": "stream",
     "text": [
      "Requirement already satisfied: wordcloud in /usr/local/lib/python3.7/dist-packages (1.5.0)\n",
      "Requirement already satisfied: numpy>=1.6.1 in /usr/local/lib/python3.7/dist-packages (from wordcloud) (1.19.5)\n",
      "Requirement already satisfied: pillow in /usr/local/lib/python3.7/dist-packages (from wordcloud) (7.1.2)\n"
     ]
    }
   ],
   "source": [
    "!pip install wordcloud"
   ]
  },
  {
   "cell_type": "code",
   "execution_count": null,
   "metadata": {
    "colab": {
     "base_uri": "https://localhost:8080/",
     "height": 198
    },
    "id": "0Ne6HkocT0oM",
    "outputId": "3d81b9ab-2594-472c-82cd-08c72e20f311"
   },
   "outputs": [
    {
     "data": {
      "image/png": "[encoded data removed]",
      "text/plain": [
       "<Figure size 432x288 with 1 Axes>"
      ]
     },
     "metadata": {
      "needs_background": "light"
     },
     "output_type": "display_data"
    }
   ],
   "source": [
    "ln = ai_ln.groupby('last_name').sum()['freq']\n",
    "d = dict(ln)\n",
    "\n",
    "import matplotlib.pyplot as plt\n",
    "from wordcloud import WordCloud\n",
    "\n",
    "wordcloud = WordCloud(background_color=\"white\")\n",
    "wordcloud.generate_from_frequencies(frequencies=d)\n",
    "plt.figure()\n",
    "plt.imshow(wordcloud, interpolation=\"bilinear\")\n",
    "plt.axis(\"off\")\n",
    "plt.show()"
   ]
  },
  {
   "cell_type": "code",
   "execution_count": null,
   "metadata": {
    "colab": {
     "base_uri": "https://localhost:8080/",
     "height": 419
    },
    "id": "VjPAetjQT3Kn",
    "outputId": "e9f10d27-aa9a-4c4f-8efa-ac00419c6172"
   },
   "outputs": [
    {
     "data": {
      "text/html": [
       "<div>\n",
       "<style scoped>\n",
       "    .dataframe tbody tr th:only-of-type {\n",
       "        vertical-align: middle;\n",
       "    }\n",
       "\n",
       "    .dataframe tbody tr th {\n",
       "        vertical-align: top;\n",
       "    }\n",
       "\n",
       "    .dataframe thead th {\n",
       "        text-align: right;\n",
       "    }\n",
       "</style>\n",
       "<table border=\"1\" class=\"dataframe\">\n",
       "  <thead>\n",
       "    <tr style=\"text-align: right;\">\n",
       "      <th></th>\n",
       "      <th>Name</th>\n",
       "      <th>Gender</th>\n",
       "      <th>freq</th>\n",
       "      <th>male_freq</th>\n",
       "      <th>female_freq</th>\n",
       "      <th>first_name</th>\n",
       "      <th>last_name</th>\n",
       "      <th>last_letter</th>\n",
       "      <th>freq_percent</th>\n",
       "      <th>male_freq_percent</th>\n",
       "      <th>female_freq_percent</th>\n",
       "    </tr>\n",
       "  </thead>\n",
       "  <tbody>\n",
       "    <tr>\n",
       "      <th>391956</th>\n",
       "      <td>SUNITA DEVI</td>\n",
       "      <td>Female</td>\n",
       "      <td>1225</td>\n",
       "      <td>1.0</td>\n",
       "      <td>1224.0</td>\n",
       "      <td>sunita</td>\n",
       "      <td>devi</td>\n",
       "      <td>i</td>\n",
       "      <td>0.001708</td>\n",
       "      <td>0.000001</td>\n",
       "      <td>0.001707</td>\n",
       "    </tr>\n",
       "    <tr>\n",
       "      <th>470358</th>\n",
       "      <td>MANJU DEVI</td>\n",
       "      <td>Female</td>\n",
       "      <td>1095</td>\n",
       "      <td>1.0</td>\n",
       "      <td>1094.0</td>\n",
       "      <td>manju</td>\n",
       "      <td>devi</td>\n",
       "      <td>i</td>\n",
       "      <td>0.001527</td>\n",
       "      <td>0.000001</td>\n",
       "      <td>0.001526</td>\n",
       "    </tr>\n",
       "    <tr>\n",
       "      <th>455841</th>\n",
       "      <td>SHANTI DEVI</td>\n",
       "      <td>Female</td>\n",
       "      <td>1041</td>\n",
       "      <td>2.0</td>\n",
       "      <td>1039.0</td>\n",
       "      <td>shanti</td>\n",
       "      <td>devi</td>\n",
       "      <td>i</td>\n",
       "      <td>0.001452</td>\n",
       "      <td>0.000003</td>\n",
       "      <td>0.001449</td>\n",
       "    </tr>\n",
       "    <tr>\n",
       "      <th>429887</th>\n",
       "      <td>GEETA DEVI</td>\n",
       "      <td>Female</td>\n",
       "      <td>915</td>\n",
       "      <td>3.0</td>\n",
       "      <td>912.0</td>\n",
       "      <td>geeta</td>\n",
       "      <td>devi</td>\n",
       "      <td>i</td>\n",
       "      <td>0.001276</td>\n",
       "      <td>0.000004</td>\n",
       "      <td>0.001272</td>\n",
       "    </tr>\n",
       "    <tr>\n",
       "      <th>381635</th>\n",
       "      <td>MEENA DEVI</td>\n",
       "      <td>Female</td>\n",
       "      <td>895</td>\n",
       "      <td>1.0</td>\n",
       "      <td>894.0</td>\n",
       "      <td>meena</td>\n",
       "      <td>devi</td>\n",
       "      <td>i</td>\n",
       "      <td>0.001248</td>\n",
       "      <td>0.000001</td>\n",
       "      <td>0.001247</td>\n",
       "    </tr>\n",
       "    <tr>\n",
       "      <th>...</th>\n",
       "      <td>...</td>\n",
       "      <td>...</td>\n",
       "      <td>...</td>\n",
       "      <td>...</td>\n",
       "      <td>...</td>\n",
       "      <td>...</td>\n",
       "      <td>...</td>\n",
       "      <td>...</td>\n",
       "      <td>...</td>\n",
       "      <td>...</td>\n",
       "      <td>...</td>\n",
       "    </tr>\n",
       "    <tr>\n",
       "      <th>345224</th>\n",
       "      <td>SHARADA SINGH</td>\n",
       "      <td>Female</td>\n",
       "      <td>2</td>\n",
       "      <td>1.0</td>\n",
       "      <td>1.0</td>\n",
       "      <td>sharada</td>\n",
       "      <td>singh</td>\n",
       "      <td>h</td>\n",
       "      <td>0.000003</td>\n",
       "      <td>0.000001</td>\n",
       "      <td>0.000001</td>\n",
       "    </tr>\n",
       "    <tr>\n",
       "      <th>345985</th>\n",
       "      <td>LAXMINARSU</td>\n",
       "      <td>Female</td>\n",
       "      <td>2</td>\n",
       "      <td>1.0</td>\n",
       "      <td>1.0</td>\n",
       "      <td>laxminarsu</td>\n",
       "      <td>NaN</td>\n",
       "      <td>u</td>\n",
       "      <td>0.000003</td>\n",
       "      <td>0.000001</td>\n",
       "      <td>0.000001</td>\n",
       "    </tr>\n",
       "    <tr>\n",
       "      <th>346286</th>\n",
       "      <td>NIRMAL GARG</td>\n",
       "      <td>Female</td>\n",
       "      <td>2</td>\n",
       "      <td>1.0</td>\n",
       "      <td>1.0</td>\n",
       "      <td>nirmal</td>\n",
       "      <td>garg</td>\n",
       "      <td>g</td>\n",
       "      <td>0.000003</td>\n",
       "      <td>0.000001</td>\n",
       "      <td>0.000001</td>\n",
       "    </tr>\n",
       "    <tr>\n",
       "      <th>346384</th>\n",
       "      <td>RAJESH KAUSHIK</td>\n",
       "      <td>Female</td>\n",
       "      <td>2</td>\n",
       "      <td>1.0</td>\n",
       "      <td>1.0</td>\n",
       "      <td>rajesh</td>\n",
       "      <td>kaushik</td>\n",
       "      <td>k</td>\n",
       "      <td>0.000003</td>\n",
       "      <td>0.000001</td>\n",
       "      <td>0.000001</td>\n",
       "    </tr>\n",
       "    <tr>\n",
       "      <th>67164</th>\n",
       "      <td>RAJPATI TIWARI</td>\n",
       "      <td>Female</td>\n",
       "      <td>2</td>\n",
       "      <td>1.0</td>\n",
       "      <td>1.0</td>\n",
       "      <td>rajpati</td>\n",
       "      <td>tiwari</td>\n",
       "      <td>i</td>\n",
       "      <td>0.000003</td>\n",
       "      <td>0.000001</td>\n",
       "      <td>0.000001</td>\n",
       "    </tr>\n",
       "  </tbody>\n",
       "</table>\n",
       "<p>1756 rows × 11 columns</p>\n",
       "</div>"
      ],
      "text/plain": [
       "                    Name  Gender  ...  male_freq_percent  female_freq_percent\n",
       "391956      SUNITA DEVI   Female  ...           0.000001             0.001707\n",
       "470358       MANJU DEVI   Female  ...           0.000001             0.001526\n",
       "455841      SHANTI DEVI   Female  ...           0.000003             0.001449\n",
       "429887       GEETA DEVI   Female  ...           0.000004             0.001272\n",
       "381635       MEENA DEVI   Female  ...           0.000001             0.001247\n",
       "...                  ...     ...  ...                ...                  ...\n",
       "345224    SHARADA SINGH   Female  ...           0.000001             0.000001\n",
       "345985       LAXMINARSU   Female  ...           0.000001             0.000001\n",
       "346286      NIRMAL GARG   Female  ...           0.000001             0.000001\n",
       "346384   RAJESH KAUSHIK   Female  ...           0.000001             0.000001\n",
       "67164    RAJPATI TIWARI   Female  ...           0.000001             0.000001\n",
       "\n",
       "[1756 rows x 11 columns]"
      ]
     },
     "execution_count": 177,
     "metadata": {},
     "output_type": "execute_result"
    }
   ],
   "source": [
    "common = ai[~((ai['male_freq']==0.0) | (ai['female_freq']==0.))]\n",
    "common.sort_values('freq', ascending=False)"
   ]
  },
  {
   "cell_type": "code",
   "execution_count": null,
   "metadata": {
    "colab": {
     "base_uri": "https://localhost:8080/",
     "height": 419
    },
    "id": "dpMubrpkT5Vi",
    "outputId": "d91a9a0e-5b89-4ddb-a3b8-095c276d45cb"
   },
   "outputs": [
    {
     "data": {
      "text/html": [
       "<div>\n",
       "<style scoped>\n",
       "    .dataframe tbody tr th:only-of-type {\n",
       "        vertical-align: middle;\n",
       "    }\n",
       "\n",
       "    .dataframe tbody tr th {\n",
       "        vertical-align: top;\n",
       "    }\n",
       "\n",
       "    .dataframe thead th {\n",
       "        text-align: right;\n",
       "    }\n",
       "</style>\n",
       "<table border=\"1\" class=\"dataframe\">\n",
       "  <thead>\n",
       "    <tr style=\"text-align: right;\">\n",
       "      <th></th>\n",
       "      <th>first_name</th>\n",
       "      <th>freq</th>\n",
       "      <th>male_freq</th>\n",
       "      <th>female_freq</th>\n",
       "      <th>freq_percent</th>\n",
       "      <th>male_freq_percent</th>\n",
       "      <th>female_freq_percent</th>\n",
       "    </tr>\n",
       "  </thead>\n",
       "  <tbody>\n",
       "    <tr>\n",
       "      <th>145</th>\n",
       "      <td>ram</td>\n",
       "      <td>7227</td>\n",
       "      <td>6523.0</td>\n",
       "      <td>704.0</td>\n",
       "      <td>0.010079</td>\n",
       "      <td>0.009097</td>\n",
       "      <td>0.000982</td>\n",
       "    </tr>\n",
       "    <tr>\n",
       "      <th>98</th>\n",
       "      <td>sunita</td>\n",
       "      <td>6086</td>\n",
       "      <td>3.0</td>\n",
       "      <td>6083.0</td>\n",
       "      <td>0.008488</td>\n",
       "      <td>0.000004</td>\n",
       "      <td>0.008484</td>\n",
       "    </tr>\n",
       "    <tr>\n",
       "      <th>5045</th>\n",
       "      <td>ashok</td>\n",
       "      <td>4622</td>\n",
       "      <td>4581.0</td>\n",
       "      <td>41.0</td>\n",
       "      <td>0.006446</td>\n",
       "      <td>0.006389</td>\n",
       "      <td>0.000057</td>\n",
       "    </tr>\n",
       "    <tr>\n",
       "      <th>140</th>\n",
       "      <td>k</td>\n",
       "      <td>4479</td>\n",
       "      <td>2801.0</td>\n",
       "      <td>1678.0</td>\n",
       "      <td>0.006247</td>\n",
       "      <td>0.003906</td>\n",
       "      <td>0.002340</td>\n",
       "    </tr>\n",
       "    <tr>\n",
       "      <th>31</th>\n",
       "      <td>anita</td>\n",
       "      <td>4305</td>\n",
       "      <td>6.0</td>\n",
       "      <td>4299.0</td>\n",
       "      <td>0.006004</td>\n",
       "      <td>0.000008</td>\n",
       "      <td>0.005996</td>\n",
       "    </tr>\n",
       "    <tr>\n",
       "      <th>...</th>\n",
       "      <td>...</td>\n",
       "      <td>...</td>\n",
       "      <td>...</td>\n",
       "      <td>...</td>\n",
       "      <td>...</td>\n",
       "      <td>...</td>\n",
       "      <td>...</td>\n",
       "    </tr>\n",
       "    <tr>\n",
       "      <th>38104</th>\n",
       "      <td>kodaganti</td>\n",
       "      <td>2</td>\n",
       "      <td>1.0</td>\n",
       "      <td>1.0</td>\n",
       "      <td>0.000003</td>\n",
       "      <td>0.000001</td>\n",
       "      <td>0.000001</td>\n",
       "    </tr>\n",
       "    <tr>\n",
       "      <th>38101</th>\n",
       "      <td>medicherla</td>\n",
       "      <td>2</td>\n",
       "      <td>1.0</td>\n",
       "      <td>1.0</td>\n",
       "      <td>0.000003</td>\n",
       "      <td>0.000001</td>\n",
       "      <td>0.000001</td>\n",
       "    </tr>\n",
       "    <tr>\n",
       "      <th>3716</th>\n",
       "      <td>naroju</td>\n",
       "      <td>2</td>\n",
       "      <td>1.0</td>\n",
       "      <td>1.0</td>\n",
       "      <td>0.000003</td>\n",
       "      <td>0.000001</td>\n",
       "      <td>0.000001</td>\n",
       "    </tr>\n",
       "    <tr>\n",
       "      <th>38095</th>\n",
       "      <td>bitra</td>\n",
       "      <td>2</td>\n",
       "      <td>1.0</td>\n",
       "      <td>1.0</td>\n",
       "      <td>0.000003</td>\n",
       "      <td>0.000001</td>\n",
       "      <td>0.000001</td>\n",
       "    </tr>\n",
       "    <tr>\n",
       "      <th>1</th>\n",
       "      <td>thynala</td>\n",
       "      <td>2</td>\n",
       "      <td>1.0</td>\n",
       "      <td>1.0</td>\n",
       "      <td>0.000003</td>\n",
       "      <td>0.000001</td>\n",
       "      <td>0.000001</td>\n",
       "    </tr>\n",
       "  </tbody>\n",
       "</table>\n",
       "<p>16539 rows × 7 columns</p>\n",
       "</div>"
      ],
      "text/plain": [
       "       first_name  freq  ...  male_freq_percent  female_freq_percent\n",
       "145           ram  7227  ...           0.009097             0.000982\n",
       "98         sunita  6086  ...           0.000004             0.008484\n",
       "5045        ashok  4622  ...           0.006389             0.000057\n",
       "140             k  4479  ...           0.003906             0.002340\n",
       "31          anita  4305  ...           0.000008             0.005996\n",
       "...           ...   ...  ...                ...                  ...\n",
       "38104   kodaganti     2  ...           0.000001             0.000001\n",
       "38101  medicherla     2  ...           0.000001             0.000001\n",
       "3716       naroju     2  ...           0.000001             0.000001\n",
       "38095       bitra     2  ...           0.000001             0.000001\n",
       "1         thynala     2  ...           0.000001             0.000001\n",
       "\n",
       "[16539 rows x 7 columns]"
      ]
     },
     "execution_count": 179,
     "metadata": {},
     "output_type": "execute_result"
    }
   ],
   "source": [
    "common = ai_fn[~((ai_fn['male_freq']==0.0) | (ai_fn['female_freq']==0.))]\n",
    "common.sort_values('freq', ascending=False)"
   ]
  },
  {
   "cell_type": "code",
   "execution_count": null,
   "metadata": {
    "id": "YNLjjfE_T7ym"
   },
   "outputs": [],
   "source": [
    ""
   ]
  },
  {
   "cell_type": "markdown",
   "metadata": {
    "id": "8Uf4MfunbxU0"
   },
   "source": [
    ""
   ]
  },
  {
   "cell_type": "markdown",
   "metadata": {
    "id": "9tw2eMrVoIa2"
   },
   "source": [
    "Students"
   ]
  },
  {
   "cell_type": "code",
   "execution_count": null,
   "metadata": {
    "colab": {
     "base_uri": "https://localhost:8080/",
     "height": 130
    },
    "id": "WLciyHPqoJHm",
    "outputId": "e237a781-7ff3-483d-f205-261552b98d3d"
   },
   "outputs": [
    {
     "ename": "SyntaxError",
     "evalue": "ignored",
     "output_type": "error",
     "traceback": [
      "\u001b[0;36m  File \u001b[0;32m\"<ipython-input-182-16223d88d48a>\"\u001b[0;36m, line \u001b[0;32m1\u001b[0m\n\u001b[0;31m    a9p = a9[!np.isnan(a9['p1_marks'])]\u001b[0m\n\u001b[0m             ^\u001b[0m\n\u001b[0;31mSyntaxError\u001b[0m\u001b[0;31m:\u001b[0m invalid syntax\n"
     ]
    }
   ],
   "source": [
    "a9p = a9[!np.isnan(a9['p1_marks'])]"
   ]
  },
  {
   "cell_type": "code",
   "execution_count": null,
   "metadata": {
    "id": "n0vJCLPuoK9m"
   },
   "outputs": [],
   "source": [
    "a9-"
   ]
  }
 ],
 "metadata": {
  "colab": {
   "collapsed_sections": [],
   "name": "AIEEE Data_PreProcessing.ipynb",
   "provenance": []
  },
  "kernelspec": {
   "display_name": "Python 3 (ipykernel)",
   "language": "python",
   "name": "python3"
  },
  "language_info": {
   "codemirror_mode": {
    "name": "ipython",
    "version": 3
   },
   "file_extension": ".py",
   "mimetype": "text/x-python",
   "name": "python",
   "nbconvert_exporter": "python",
   "pygments_lexer": "ipython3",
   "version": "3.8.5"
  }
 },
 "nbformat": 4,
 "nbformat_minor": 0
}
