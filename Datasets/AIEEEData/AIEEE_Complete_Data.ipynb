{
 "cells": [
  {
   "cell_type": "code",
   "execution_count": null,
   "metadata": {
    "id": "UEZL4a7Sb-x5"
   },
   "outputs": [],
   "source": [
    "import pandas as pd"
   ]
  },
  {
   "cell_type": "code",
   "execution_count": null,
   "metadata": {
    "id": "PxF3Foe8cCe3"
   },
   "outputs": [],
   "source": [
    "PATH = \"drive/MyDrive/Name2Demographics/Models/Data/\"\n",
    "AIEEE_2004 = PATH+\"AIEEEData/aieee_2004.csv\"\n",
    "AIEEE_2005 = PATH+\"AIEEEData/aieee_2005.csv\"\n",
    "AIEEE_2006 = PATH+\"AIEEEData/aieee_2006.csv\"\n",
    "AIEEE_2007 = PATH+\"AIEEEData/aieee_2007.csv\"\n",
    "AIEEE_2008 = PATH+\"AIEEEData/aieee_2008.csv\"\n",
    "AIEEE_2009 = PATH+\"AIEEEData/aieee_2009.csv\"\n",
    "AIEEE_2010 = PATH+\"AIEEEData/aieee_2010.csv\"\n",
    "AIEEE_2011 = PATH+\"AIEEEData/aieee_2011.csv\""
   ]
  },
  {
   "cell_type": "code",
   "execution_count": null,
   "metadata": {
    "id": "BjDT2WDgcklP"
   },
   "outputs": [],
   "source": [
    "aieee = [AIEEE_2004, AIEEE_2005, AIEEE_2006, AIEEE_2007, AIEEE_2008, AIEEE_2009, AIEEE_2010, AIEEE_2011]"
   ]
  },
  {
   "cell_type": "code",
   "execution_count": null,
   "metadata": {
    "id": "zeQ1RugSc_R8"
   },
   "outputs": [],
   "source": [
    "def vocab():\n",
    "    alpha = ['a','b','c','d','e','f','g','h','i','j','k','l','m','n','o','p','q','r','s','t','u','v','w','x','y','z']\n",
    "    special = [' ']\n",
    "    vocab = alpha+special+['END']\n",
    "\n",
    "    return vocab\n",
    "    \n",
    "def getIndex(df, maxlen, file):\n",
    "    voc = vocab()\n",
    "    char_index = dict((c, i) for i, c in enumerate(voc))\n",
    "    \n",
    "    X = []\n",
    "    next_name = False\n",
    "    \n",
    "    # Club all the whitespaces\n",
    "    \n",
    "    trunc_X = [str(i).lower()[0:maxlen] for i in df['name']]\n",
    "    mask = []\n",
    "    for i in range(len(trunc_X)):\n",
    "        name = trunc_X[i]\n",
    "        tmp = []\n",
    "        for char in str(name):\n",
    "            if char not in voc:\n",
    "                with open(file,'a') as f:\n",
    "                    f.write(name+'\\n')\n",
    "                print(name)\n",
    "                next_name = True\n",
    "                break\n",
    "            else:\n",
    "                tmp.append(char_index[char])\n",
    "        if next_name:\n",
    "            mask.append(False)\n",
    "            next_name = False\n",
    "            continue\n",
    "        mask.append(True)\n",
    "        for k in range(0,maxlen - len(str(name))):\n",
    "            tmp.append(char_index[\"END\"])\n",
    "        X.append(tmp)\n",
    "            \n",
    "    return np.asarray(X), df[mask]"
   ]
  },
  {
   "cell_type": "code",
   "execution_count": null,
   "metadata": {
    "id": "b-5tz6diduTc"
   },
   "outputs": [],
   "source": [
    "import re\n",
    "import numpy as np\n",
    "\n",
    "def preprocess_df(df):\n",
    "    df['name'] = [str(name).lower() for name in df['name']]\n",
    "    df['name'] = [str(name).strip() for name in df['name']]\n",
    "    df['name'] = [re.sub('[^a-zA-Z]+', ' ', str(name)) for name in df['name']]\n",
    "    df['name'] = [re.sub('[ \\t\\n]+',' ', str(name)) for name in df['name']]\n",
    "    df['name'].replace('', np.nan, inplace=True)\n",
    "    df = df[df['name']!='nan']\n",
    "    df.dropna(subset=['name'],inplace=True)\n",
    "    return df"
   ]
  },
  {
   "cell_type": "code",
   "execution_count": null,
   "metadata": {
    "id": "MLj-WfjwdyZF"
   },
   "outputs": [],
   "source": [
    "def returnGenderPred(df, model):\n",
    "    test_x, df = getIndex(df, 30, 'aieee_labels_oov.txt')\n",
    "    pred = model.predict(np.asarray(test_x), verbose = 1)\n",
    "    y_pred = np.argmax(pred, axis =1)\n",
    "    df['Gender'] = y_pred\n",
    "    return df\n",
    "\n",
    "def returnCastePred(df, model):\n",
    "    df = preprocess_df(df)\n",
    "    test_x, df = getIndex(df, 30, 'aieee_labels_oov.txt')\n",
    "    pred = model.predict(np.asarray(test_x), verbose = 1)\n",
    "    y_pred = np.argmax(pred, axis =1)\n",
    "    df['Caste'] = y_pred\n",
    "    return df"
   ]
  },
  {
   "cell_type": "code",
   "execution_count": null,
   "metadata": {
    "id": "GSEBBH3gd0pA"
   },
   "outputs": [],
   "source": [
    "from keras.models import load_model\n",
    "\n",
    "\n",
    "def get_gender_model():\n",
    "  filename = \"/content/drive/My Drive/BTP/SavedModels/ERModel\"\n",
    "  model = load_model(filename)\n",
    "  return model\n",
    "\n",
    "def get_caste_model():\n",
    "  filename = \"/content/drive/My Drive/Name2Demographics/Models/AIEEEData/CNNModel/SavedModel/CasteModel/\"\n",
    "  model = load_model(filename)\n",
    "  return model"
   ]
  },
  {
   "cell_type": "code",
   "execution_count": null,
   "metadata": {
    "colab": {
     "base_uri": "https://localhost:8080/"
    },
    "id": "YbRoUsn4fUXy",
    "outputId": "491a328b-5c13-4dda-af13-abad50f24b60"
   },
   "outputs": [
    {
     "name": "stdout",
     "output_type": "stream",
     "text": [
      "WARNING:tensorflow:SavedModel saved prior to TF 2.5 detected when loading Keras model. Please ensure that you are saving the model with model.save() or tf.keras.models.save_model(), *NOT* tf.saved_model.save(). To confirm, there should be a file named \"keras_metadata.pb\" in the SavedModel directory.\n",
      "WARNING:tensorflow:Layer lstm_2 will not use cuDNN kernels since it doesn't meet the criteria. It will use a generic GPU kernel as fallback when running on GPU.\n",
      "WARNING:tensorflow:Layer lstm_3 will not use cuDNN kernels since it doesn't meet the criteria. It will use a generic GPU kernel as fallback when running on GPU.\n"
     ]
    }
   ],
   "source": [
    "gender_model = get_gender_model()\n",
    "caste_model = get_caste_model()"
   ]
  },
  {
   "cell_type": "code",
   "execution_count": null,
   "metadata": {
    "colab": {
     "base_uri": "https://localhost:8080/"
    },
    "id": "3JAMeADXe2TN",
    "outputId": "415a8963-7917-4df2-8f79-e3fce46baad1"
   },
   "outputs": [
    {
     "name": "stdout",
     "output_type": "stream",
     "text": [
      "2237/2237 [==============================] - 101s 45ms/step\n",
      "2237/2237 [==============================] - 5s 2ms/step\n",
      "2995/2995 [==============================] - 135s 45ms/step\n",
      "2995/2995 [==============================] - 6s 2ms/step\n",
      "3519/3519 [==============================] - 159s 45ms/step\n",
      "3519/3519 [==============================] - 7s 2ms/step\n",
      "3840/3840 [==============================] - 173s 45ms/step\n",
      "3840/3840 [==============================] - 8s 2ms/step\n",
      "3846/3846 [==============================] - 177s 46ms/step\n",
      "3846/3846 [==============================] - 9s 2ms/step\n"
     ]
    }
   ],
   "source": [
    "for file in aieee[3:]:\n",
    "  df = pd.read_csv(file)\n",
    "  df = preprocess_df(df)\n",
    "  df = returnGenderPred(df, gender_model)\n",
    "  df = returnCastePred(df, caste_model)\n",
    "  del df['Unnamed: 0']\n",
    "  df.to_csv(file)\n",
    "  # break"
   ]
  },
  {
   "cell_type": "code",
   "execution_count": null,
   "metadata": {
    "id": "mV4qzY9UoPMy"
   },
   "outputs": [],
   "source": [
    "cb4 = pd.read_csv(PATH+'../files/cbse2014.csv', dtype=object)\n",
    "cb5 = pd.read_csv(PATH+'../files/cbse2015.csv', dtype=object)"
   ]
  },
  {
   "cell_type": "code",
   "execution_count": null,
   "metadata": {
    "id": "cHn2LU5zo0uf"
   },
   "outputs": [],
   "source": [
    "ra = []\n",
    "wa = []"
   ]
  },
  {
   "cell_type": "code",
   "execution_count": null,
   "metadata": {
    "id": "p0lzegkyojgd"
   },
   "outputs": [],
   "source": [
    "for file in aieee:\n",
    "  df = pd.read_csv(file)\n",
    "  r = list(df.groupby('Caste').count()['name'])[1] / (df.shape[0])\n",
    "  ra.append(r)\n",
    "rc4 = list(cb4.groupby('Caste').count()['Name'])[1] / cb4.shape[0]\n",
    "rc5 = list(cb5.groupby('Caste').count()['Name'])[1] / cb5.shape[0]\n",
    "ra.append(rc4)\n",
    "ra.append(rc5)\n"
   ]
  },
  {
   "cell_type": "code",
   "execution_count": null,
   "metadata": {
    "id": "9C5In1EKormo"
   },
   "outputs": [],
   "source": [
    "for file in aieee:\n",
    "  df = pd.read_csv(file)\n",
    "  w = list(df.groupby('Gender').count()['name'])[1] / (df.shape[0])\n",
    "  wa.append(w)\n",
    "\n",
    "wc4 = list(cb4.groupby('Gender').count()['Name'])[1] / cb4.shape[0]\n",
    "wc5 = list(cb5.groupby('Gender').count()['Name'])[1] / cb5.shape[0]\n",
    "wa.append(wc4)\n",
    "wa.append(wc5)"
   ]
  },
  {
   "cell_type": "code",
   "execution_count": null,
   "metadata": {
    "id": "M_EnEv-3oxRt"
   },
   "outputs": [],
   "source": [
    "for i, elem in enumerate(ra):\n",
    "  ra[i] = round(elem*100, 2)\n",
    "  wa[i] = round(wa[i]*100, 2)"
   ]
  },
  {
   "cell_type": "code",
   "execution_count": null,
   "metadata": {
    "colab": {
     "base_uri": "https://localhost:8080/",
     "height": 328
    },
    "id": "4HF1_TdrfCWC",
    "outputId": "6604fb67-9479-49fc-ba87-b421164cc078"
   },
   "outputs": [
    {
     "data": {
      "image/png": "[encoded data removed]",
      "text/plain": [
       "<Figure size 432x288 with 1 Axes>"
      ]
     },
     "metadata": {
      "needs_background": "light"
     },
     "output_type": "display_data"
    }
   ],
   "source": [
    "import matplotlib.pyplot as plt\n",
    "\n",
    "ranges = ['AIEEE 2004', 'AIEEE 2005', 'AIEEE 2006', 'AIEEE 2007', 'AIEEE 2008', 'AIEEE 2009', 'AIEEE 2010', 'AIEEE 2011']+['CBSE 2014', 'CBSE 2015']\n",
    "X_axis = np.arange(len(ranges))\n",
    "\n",
    "plt.xticks(X_axis, ranges, rotation=90)\n",
    "# plt.xlabel(\"Years\")\n",
    "plt.ylabel(\"Percentage of Students\")\n",
    "plt.title(\"Reserved distribution in Educational Data\")\n",
    "\n",
    "plt.plot(X_axis[:len(aieee)], ra[:len(aieee)], marker='o', color='b')\n",
    "plt.plot(X_axis[len(aieee):], ra[len(aieee):], marker='o', color='r')\n",
    "\n",
    "plt.show()"
   ]
  },
  {
   "cell_type": "code",
   "execution_count": null,
   "metadata": {
    "colab": {
     "base_uri": "https://localhost:8080/",
     "height": 328
    },
    "id": "-T6XNWxoozXP",
    "outputId": "31544b97-fa1c-4952-e314-57dc0d5e5d1b"
   },
   "outputs": [
    {
     "data": {
      "image/png": "[encoded data removed]",
      "text/plain": [
       "<Figure size 432x288 with 1 Axes>"
      ]
     },
     "metadata": {
      "needs_background": "light"
     },
     "output_type": "display_data"
    }
   ],
   "source": [
    "import matplotlib.pyplot as plt\n",
    "\n",
    "ranges = ['AIEEE 2004', 'AIEEE 2005', 'AIEEE 2006', 'AIEEE 2007', 'AIEEE 2008', 'AIEEE 2009', 'AIEEE 2010', 'AIEEE 2011']+['CBSE 2014', 'CBSE 2015']\n",
    "X_axis = np.arange(len(ranges))\n",
    "\n",
    "plt.xticks(X_axis, ranges, rotation = 90)\n",
    "# plt.xlabel(\"Years\")\n",
    "plt.ylabel(\"Percentage of Students\")\n",
    "plt.title(\"Women distribution in Educational Data\")\n",
    "\n",
    "plt.plot(X_axis[:len(aieee)], wa[:len(aieee)], marker='o', color='b')\n",
    "plt.plot(X_axis[len(aieee):], wa[len(aieee):], marker='o', color='r')\n",
    "\n",
    "plt.show()"
   ]
  },
  {
   "cell_type": "code",
   "execution_count": null,
   "metadata": {
    "id": "_4jSjI7XqRqm"
   },
   "outputs": [],
   "source": [
    "def add_category(df):\n",
    "  df = df[df['category'].notna()]\n",
    "  dic = {\n",
    "      'GEN':0,\n",
    "      'OBC':1,\n",
    "      'SC':1,\n",
    "      'ST':1,\n",
    "      'GENSub-PH':0,\n",
    "      'OBCSub-PH':1,\n",
    "      'SCSub-PH':1,\n",
    "      'STSub-PH':1\n",
    "  }\n",
    "  df['cat'] = [dic[cat] for cat in df.category]\n",
    "  return df"
   ]
  },
  {
   "cell_type": "code",
   "execution_count": null,
   "metadata": {
    "colab": {
     "base_uri": "https://localhost:8080/"
    },
    "id": "fc-EbAWirW_d",
    "outputId": "7d74177d-78da-4859-e957-c12f1dac4357"
   },
   "outputs": [
    {
     "name": "stderr",
     "output_type": "stream",
     "text": [
      "/usr/local/lib/python3.7/dist-packages/ipykernel_launcher.py:13: SettingWithCopyWarning: \n",
      "A value is trying to be set on a copy of a slice from a DataFrame.\n",
      "Try using .loc[row_indexer,col_indexer] = value instead\n",
      "\n",
      "See the caveats in the documentation: https://pandas.pydata.org/pandas-docs/stable/user_guide/indexing.html#returning-a-view-versus-a-copy\n",
      "  del sys.path[0]\n"
     ]
    },
    {
     "name": "stdout",
     "output_type": "stream",
     "text": [
      "              precision    recall  f1-score   support\n",
      "\n",
      "           0       0.78      0.78      0.78     64892\n",
      "           1       0.70      0.70      0.70     47681\n",
      "\n",
      "    accuracy                           0.75    112573\n",
      "   macro avg       0.74      0.74      0.74    112573\n",
      "weighted avg       0.75      0.75      0.75    112573\n",
      "\n"
     ]
    },
    {
     "name": "stderr",
     "output_type": "stream",
     "text": [
      "/usr/local/lib/python3.7/dist-packages/ipykernel_launcher.py:13: SettingWithCopyWarning: \n",
      "A value is trying to be set on a copy of a slice from a DataFrame.\n",
      "Try using .loc[row_indexer,col_indexer] = value instead\n",
      "\n",
      "See the caveats in the documentation: https://pandas.pydata.org/pandas-docs/stable/user_guide/indexing.html#returning-a-view-versus-a-copy\n",
      "  del sys.path[0]\n"
     ]
    },
    {
     "name": "stdout",
     "output_type": "stream",
     "text": [
      "              precision    recall  f1-score   support\n",
      "\n",
      "           0       0.77      0.78      0.77     68163\n",
      "           1       0.72      0.70      0.71     54703\n",
      "\n",
      "    accuracy                           0.75    122866\n",
      "   macro avg       0.74      0.74      0.74    122866\n",
      "weighted avg       0.75      0.75      0.75    122866\n",
      "\n",
      "              precision    recall  f1-score   support\n",
      "\n",
      "           0       0.75      0.78      0.77     65810\n",
      "           1       0.74      0.70      0.72     57262\n",
      "\n",
      "    accuracy                           0.75    123072\n",
      "   macro avg       0.75      0.74      0.74    123072\n",
      "weighted avg       0.75      0.75      0.75    123072\n",
      "\n"
     ]
    }
   ],
   "source": [
    "from sklearn.metrics import classification_report\n",
    "\n",
    "for file in aieee[-3:]:\n",
    "  df = pd.read_csv(file)\n",
    "  df = add_category(df)\n",
    "  print(classification_report(df['cat'], df['Caste']))\n",
    "  "
   ]
  },
  {
   "cell_type": "code",
   "execution_count": null,
   "metadata": {
    "id": "GHxqJ0Q1sNqn"
   },
   "outputs": [],
   "source": [
    ""
   ]
  }
 ],
 "metadata": {
  "accelerator": "GPU",
  "colab": {
   "collapsed_sections": [],
   "name": "AIEEE Complete Data",
   "provenance": []
  },
  "kernelspec": {
   "display_name": "Python 3",
   "name": "python3"
  },
  "language_info": {
   "name": "python"
  }
 },
 "nbformat": 4,
 "nbformat_minor": 0
}
