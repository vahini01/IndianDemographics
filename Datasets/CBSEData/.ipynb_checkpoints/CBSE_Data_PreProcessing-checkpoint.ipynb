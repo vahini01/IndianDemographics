{
 "cells": [
  {
   "cell_type": "code",
   "execution_count": null,
   "metadata": {
    "id": "ZllWg4xGhAzO"
   },
   "outputs": [],
   "source": [
    "# New and Organized code "
   ]
  },
  {
   "cell_type": "code",
   "execution_count": null,
   "metadata": {
    "id": "wgVd9WGkiO4W"
   },
   "outputs": [],
   "source": [
    "import pandas as pd\n",
    "import numpy as np\n",
    "import matplotlib.pyplot as plt\n",
    "import re"
   ]
  },
  {
   "cell_type": "code",
   "execution_count": null,
   "metadata": {
    "id": "iP9XzuUFnS0a"
   },
   "outputs": [],
   "source": [
    "def getdf(df):\n",
    "  c1 = pd.DataFrame()\n",
    "  c1['Name'] = df['mother_name']\n",
    "  c1['Gender'] = 'Female'\n",
    "  c2 = pd.DataFrame()\n",
    "  c2['Name'] =  df['father_name']\n",
    "  c2['Gender'] = 'Male'\n",
    "  c = pd.concat([c1, c2], ignore_index = True)\n",
    "  return c"
   ]
  },
  {
   "cell_type": "code",
   "execution_count": null,
   "metadata": {
    "colab": {
     "base_uri": "https://localhost:8080/",
     "height": 184
    },
    "id": "3mUspwa5nmT3",
    "outputId": "7a708b5f-7823-46be-ecb7-53bcd54533b3"
   },
   "outputs": [
    {
     "ename": "NameError",
     "evalue": "ignored",
     "output_type": "error",
     "traceback": [
      "\u001b[0;31m---------------------------------------------------------------------------\u001b[0m",
      "\u001b[0;31mNameError\u001b[0m                                 Traceback (most recent call last)",
      "\u001b[0;32m<ipython-input-3-675b76cc9624>\u001b[0m in \u001b[0;36m<module>\u001b[0;34m()\u001b[0m\n\u001b[0;32m----> 1\u001b[0;31m \u001b[0mc4\u001b[0m \u001b[0;34m=\u001b[0m \u001b[0mgetdf\u001b[0m\u001b[0;34m(\u001b[0m\u001b[0mcb4\u001b[0m\u001b[0;34m)\u001b[0m\u001b[0;34m\u001b[0m\u001b[0;34m\u001b[0m\u001b[0m\n\u001b[0m\u001b[1;32m      2\u001b[0m \u001b[0mc5\u001b[0m \u001b[0;34m=\u001b[0m \u001b[0mgetdf\u001b[0m\u001b[0;34m(\u001b[0m\u001b[0mcb5\u001b[0m\u001b[0;34m)\u001b[0m\u001b[0;34m\u001b[0m\u001b[0;34m\u001b[0m\u001b[0m\n",
      "\u001b[0;31mNameError\u001b[0m: name 'cb4' is not defined"
     ]
    }
   ],
   "source": [
    "c4 = getdf(cb4)\n",
    "c5 = getdf(cb5)"
   ]
  },
  {
   "cell_type": "code",
   "execution_count": null,
   "metadata": {
    "id": "_zw75UQ8YJ9i"
   },
   "outputs": [],
   "source": [
    "cb4 = pd.read_csv('2014_complete_data.csv', dtype=object)\n",
    "cb5 = pd.read_csv('2015_complete_data.csv', dtype=object)\n",
    "# c4= pd.read_csv('c4.csv')\n",
    "# c5= pd.read_csv('c5.csv')\n",
    "# c4_fn= pd.read_csv('c4_fn.csv')\n",
    "# c5_fn= pd.read_csv('c5_fn.csv')\n",
    "# c4_ln= pd.read_csv('c4_ln.csv')\n",
    "# c5_ln= pd.read_csv('c5_ln.csv')"
   ]
  },
  {
   "cell_type": "code",
   "execution_count": null,
   "metadata": {
    "colab": {
     "base_uri": "https://localhost:8080/"
    },
    "id": "6Y2fCJlZnC5e",
    "outputId": "d2b149cb-7dce-45ee-d418-cb1033916a2a"
   },
   "outputs": [
    {
     "name": "stdout",
     "output_type": "stream",
     "text": [
      "(101404, 424)\n",
      "(93019, 402)\n"
     ]
    }
   ],
   "source": [
    "print(cb4.shape)\n",
    "print(cb5.shape)\n",
    "# print(c4.shape)\n",
    "# print(c5.shape)"
   ]
  },
  {
   "cell_type": "code",
   "execution_count": null,
   "metadata": {
    "id": "8de2FIkouPYy"
   },
   "outputs": [],
   "source": [
    "def plot_stacked(x, y1, y2, legend, label, title):\n",
    "  import matplotlib.pyplot as plt\n",
    "\n",
    "  plt.bar(x, y1, color='r', width=0.2)\n",
    "  plt.bar(x, y2, bottom=y1,color = 'b', width=0.2)\n",
    "  plt.xlabel(label[0])\n",
    "  plt.ylabel(label[1])\n",
    "  plt.legend(legend, loc='upper right')\n",
    "  plt.title(title)\n",
    "  plt.show"
   ]
  },
  {
   "cell_type": "code",
   "execution_count": null,
   "metadata": {
    "id": "bSPyQh-YjFwc"
   },
   "outputs": [],
   "source": [
    "def print_gender_count_stats(df, year):\n",
    "    n = len(df)\n",
    "    # fig, ax = plt.subplots(1,2)\n",
    "    Male = []\n",
    "    Female = []\n",
    "    Maled = []\n",
    "    Femaled = []\n",
    "\n",
    "    for i in range(n):\n",
    "      dfi = df[i]\n",
    "      y  = year[i]\n",
    "      print('_'*10,y,'_'*10)\n",
    "      a = dfi.groupby('Gender').count()\n",
    "      print('Original Data')\n",
    "      print(a.head())\n",
    "      Male.append(a.Name['Male'])\n",
    "      Female.append(a.Name['Female'])\n",
    "      b = dfi.drop_duplicates().groupby('Gender').count()\n",
    "      Maled.append(b.Name['Male'])\n",
    "      Femaled.append(b.Name['Female'])\n",
    "      print('Unique Names')\n",
    "      print(b.head())\n",
    "      print('_'*10,'_'*11)\n",
    "\n",
    "    x = ['Male','Female']\n",
    "    return year, (Male, Female), (Maled, Femaled) "
   ]
  },
  {
   "cell_type": "code",
   "execution_count": null,
   "metadata": {
    "colab": {
     "base_uri": "https://localhost:8080/"
    },
    "id": "koZW7yMY4vmy",
    "outputId": "16962a35-a5cf-4296-b0b5-4b1c515a9372"
   },
   "outputs": [
    {
     "name": "stdout",
     "output_type": "stream",
     "text": [
      "194423\n"
     ]
    }
   ],
   "source": [
    "print(cb4.shape[0]+cb5.shape[0])"
   ]
  },
  {
   "cell_type": "code",
   "execution_count": null,
   "metadata": {
    "colab": {
     "base_uri": "https://localhost:8080/"
    },
    "id": "OFb-gB985tWA",
    "outputId": "5a4d783e-d73c-42a1-fc31-a924f67969cc"
   },
   "outputs": [
    {
     "name": "stdout",
     "output_type": "stream",
     "text": [
      "Male 131436, Female:107347, Total:238783\n"
     ]
    }
   ],
   "source": [
    "print(f\"Male {sum(y2[0])}, Female:{sum(y2[1])}, Total:{sum(y2[0])+sum(y2[1])}\")"
   ]
  },
  {
   "cell_type": "code",
   "execution_count": null,
   "metadata": {
    "colab": {
     "base_uri": "https://localhost:8080/"
    },
    "id": "KRplNKCUp9Pi",
    "outputId": "e229b620-3081-495c-95f6-3ff59dce0031"
   },
   "outputs": [
    {
     "name": "stdout",
     "output_type": "stream",
     "text": [
      "__________ 2014 __________\n",
      "Original Data\n",
      "          Name\n",
      "Gender        \n",
      "Female  101404\n",
      "Male    101404\n",
      "Unique Names\n",
      "         Name\n",
      "Gender       \n",
      "Female  55603\n",
      "Male    68003\n",
      "__________ ___________\n",
      "__________ 2015 __________\n",
      "Original Data\n",
      "         Name\n",
      "Gender       \n",
      "Female  93019\n",
      "Male    93009\n",
      "Unique Names\n",
      "         Name\n",
      "Gender       \n",
      "Female  51744\n",
      "Male    63433\n",
      "__________ ___________\n"
     ]
    }
   ],
   "source": [
    "x,y1,y2 = print_gender_count_stats([c4, c5],['2014','2015'])"
   ]
  },
  {
   "cell_type": "code",
   "execution_count": null,
   "metadata": {
    "colab": {
     "base_uri": "https://localhost:8080/",
     "height": 295
    },
    "id": "ngWe9wrMqLBC",
    "outputId": "685fc428-693b-47d7-9d65-a5870f7dda12"
   },
   "outputs": [
    {
     "data": {
      "image/png": "[encoded data removed]",
      "text/plain": [
       "<Figure size 432x288 with 1 Axes>"
      ]
     },
     "metadata": {
      "needs_background": "light"
     },
     "output_type": "display_data"
    }
   ],
   "source": [
    "plot_stacked(x, y1[0], y1[1], ['Male','Female'], ['year','Names'],'Frequency distribution of Names')"
   ]
  },
  {
   "cell_type": "code",
   "execution_count": null,
   "metadata": {
    "colab": {
     "base_uri": "https://localhost:8080/",
     "height": 295
    },
    "id": "xzwPBRA7vXSg",
    "outputId": "fb41e667-46bb-447c-ac8d-7c6781209f12"
   },
   "outputs": [
    {
     "data": {
      "image/png": "[encoded data removed]",
      "text/plain": [
       "<Figure size 432x288 with 1 Axes>"
      ]
     },
     "metadata": {
      "needs_background": "light"
     },
     "output_type": "display_data"
    }
   ],
   "source": [
    "plot_stacked(x, y2[0], y2[1], ['Male','Female'], ['year','Names'],'Frequency distribution of Unique Names')"
   ]
  },
  {
   "cell_type": "markdown",
   "metadata": {
    "id": "rI2yfHzcjSn5"
   },
   "source": [
    "Extract frequency, first name and last name "
   ]
  },
  {
   "cell_type": "code",
   "execution_count": null,
   "metadata": {
    "id": "9N4imZsWjSRh"
   },
   "outputs": [],
   "source": [
    "# sur1 = pd.read_csv('indian_caste_data.csv')\n",
    "# sur2 = pd.read_csv('topsurnames.csv')"
   ]
  },
  {
   "cell_type": "code",
   "execution_count": null,
   "metadata": {
    "id": "JTJqNz1nraXp"
   },
   "outputs": [],
   "source": [
    "# del sur2['Unnamed: 0']\n",
    "# del sur2['Unnamed: 1']\n",
    "# del sur2['Unnamed: 5']\n",
    "# del sur2['Unnamed: 6']\n",
    "# hdr = sur2.iloc[0]\n",
    "# sur2 = sur2[1:]\n",
    "# sur2.columns = hdr"
   ]
  },
  {
   "cell_type": "code",
   "execution_count": null,
   "metadata": {
    "id": "arBHkp5psURV"
   },
   "outputs": [],
   "source": [
    "# l1 = list(sur1['caste'])\n",
    "# l2 = list(sur2['Surname'])"
   ]
  },
  {
   "cell_type": "code",
   "execution_count": null,
   "metadata": {
    "id": "Byes8DJssvme"
   },
   "outputs": [],
   "source": [
    "# print(len(l1),':',len(l2))"
   ]
  },
  {
   "cell_type": "code",
   "execution_count": null,
   "metadata": {
    "id": "kVxfbFwbsgXy"
   },
   "outputs": [],
   "source": [
    "# d = []\n",
    "# for elem in l1:\n",
    "#   elem = str(elem)\n",
    "#   elem = elem.strip()\n",
    "#   elem = re.sub('[ \\t\\n]+', ' ', str(elem))\n",
    "#   elem = elem.lower()\n",
    "#   d.append(elem)\n",
    "# l1 = d\n",
    "# d = []\n",
    "# for elem in l2:\n",
    "#   elem = str(elem)\n",
    "#   elem = elem.strip()\n",
    "#   elem = re.sub('[ \\t\\n]+', ' ', str(elem))\n",
    "#   elem = elem.lower()\n",
    "#   d.append(elem)\n",
    "# l2 = d"
   ]
  },
  {
   "cell_type": "code",
   "execution_count": null,
   "metadata": {
    "id": "cK27kjwPj1z4"
   },
   "outputs": [],
   "source": [
    "def split_name(name, count1, count2):\n",
    "  # Preprocessing\n",
    "  name = str(name)\n",
    "  name = name.strip()\n",
    "  name = re.sub('[ \\t\\n]+',' ', str(name))\n",
    "  name = name.lower()\n",
    "\n",
    "  # check surname matching and print some of them from both list\n",
    "  # for elem in l2:\n",
    "\n",
    "  #   if re.search('([ ]|^)+'+elem+'([ ]|$)+', name) is not None:\n",
    "  #     count2 += 1\n",
    "  #     last_name = elem\n",
    "  #     name = name.replace(last_name,\"\")\n",
    "  #     first_name = name.split(' ')[0]\n",
    "  #     return first_name, last_name, count1, count2\n",
    "\n",
    "  # for elem in l1:\n",
    "  #   if re.search('([ ]|^)+'+elem+'([ ]|$)+', name) is not None:\n",
    "  #     count1 += 1\n",
    "  #     last_name = elem\n",
    "  #     name = name.replace(last_name,\"\")\n",
    "  #     first_name = name.split(' ')[0]\n",
    "  #     return first_name, last_name, count1, count2\n",
    "\n",
    "  # Heuristic\n",
    "  first_name = name.split(' ')[0]\n",
    "  # name = name.split(' ')[1:]\n",
    "  if len(name.split(' ')) > 1:\n",
    "    last_name = name.split(' ')[-1]\n",
    "  else:\n",
    "    last_name = np.nan\n",
    "\n",
    "  return first_name, last_name, count1, count2"
   ]
  },
  {
   "cell_type": "code",
   "execution_count": null,
   "metadata": {
    "id": "HsaR4xW0kzRD"
   },
   "outputs": [],
   "source": [
    "def add_freq(df):\n",
    "  df['freq'] = df['Name'].map(df['Name'].value_counts())\n",
    "  df['male_freq'] = df['Name'].map(df[df['Gender']=='Male']['Name'].value_counts())\n",
    "  df['female_freq']  = df['Name'].map(df[df['Gender']=='Female']['Name'].value_counts())\n",
    "  df = df.drop_duplicates(subset='Name', keep='last')\n",
    "  return df "
   ]
  },
  {
   "cell_type": "code",
   "execution_count": null,
   "metadata": {
    "id": "m6d7Ii4v6OS9"
   },
   "outputs": [],
   "source": [
    "def assign_gender(df):\n",
    "  df = df.reset_index(drop=True)\n",
    "  for i in range(df.shape[0]):\n",
    "    if np.isnan(df.male_freq.loc[i]):\n",
    "      df.Gender.loc[i] = 'Female'\n",
    "      continue\n",
    "    if np.isnan(df.female_freq.loc[i]):\n",
    "      df.Gender.loc[i] = 'Male'\n",
    "      continue\n",
    "    if df.male_freq.loc[i] > df.female_freq.loc[i]: \n",
    "      df.Gender.loc[i] = 'Male'\n",
    "    else:\n",
    "      df.Gender.loc[i] = 'Female' \n",
    "  return df"
   ]
  },
  {
   "cell_type": "code",
   "execution_count": null,
   "metadata": {
    "id": "za3MeAkQl6Zb"
   },
   "outputs": [],
   "source": [
    "def add_name(df, c1, c2):\n",
    "  df['first_name'] = ''\n",
    "  df['last_name'] = ''\n",
    "  count = 0\n",
    "  for i in range(len(list(df.Name))):\n",
    "      f, l, c1, c2 = split_name(df.Name.loc[i], c1, c2)\n",
    "      count += 1\n",
    "      df.first_name.loc[i] = f\n",
    "      df.last_name.loc[i] = l\n",
    "      # if c1%1000 ==0:\n",
    "      #   print(c1)\n",
    "      # if c2%1000 == 0:\n",
    "      #   print(c2)\n",
    "      # if count%10000 == 0:\n",
    "      #   print(count)\n",
    "\n",
    "  return df"
   ]
  },
  {
   "cell_type": "code",
   "execution_count": null,
   "metadata": {
    "colab": {
     "base_uri": "https://localhost:8080/"
    },
    "id": "EFmyv8znyvWq",
    "outputId": "357d1ad7-cb9f-48fa-f7cf-e0514958adc6"
   },
   "outputs": [
    {
     "name": "stderr",
     "output_type": "stream",
     "text": [
      "/usr/local/lib/python3.7/dist-packages/pandas/core/indexing.py:670: SettingWithCopyWarning: \n",
      "A value is trying to be set on a copy of a slice from a DataFrame\n",
      "\n",
      "See the caveats in the documentation: https://pandas.pydata.org/pandas-docs/stable/user_guide/indexing.html#returning-a-view-versus-a-copy\n",
      "  iloc._setitem_with_indexer(indexer, value)\n"
     ]
    }
   ],
   "source": [
    "c4 = add_freq(c4)\n",
    "c4 = assign_gender(c4)\n",
    "c4 = add_name(c4,0,0)"
   ]
  },
  {
   "cell_type": "code",
   "execution_count": null,
   "metadata": {
    "colab": {
     "base_uri": "https://localhost:8080/"
    },
    "id": "J_waty0Aa8g3",
    "outputId": "9127fe9a-1f06-4466-a5d5-1ffc08828a46"
   },
   "outputs": [
    {
     "name": "stderr",
     "output_type": "stream",
     "text": [
      "/usr/local/lib/python3.7/dist-packages/pandas/core/indexing.py:670: SettingWithCopyWarning: \n",
      "A value is trying to be set on a copy of a slice from a DataFrame\n",
      "\n",
      "See the caveats in the documentation: https://pandas.pydata.org/pandas-docs/stable/user_guide/indexing.html#returning-a-view-versus-a-copy\n",
      "  iloc._setitem_with_indexer(indexer, value)\n"
     ]
    }
   ],
   "source": [
    "c5 = add_freq(c5)\n",
    "c5 = assign_gender(c5)\n",
    "c5 = add_name(c5,0,0)"
   ]
  },
  {
   "cell_type": "code",
   "execution_count": null,
   "metadata": {
    "colab": {
     "base_uri": "https://localhost:8080/",
     "height": 204
    },
    "id": "TLsN5HJokQJy",
    "outputId": "3d9b8be9-2119-4f66-ebd7-acac9125431c"
   },
   "outputs": [
    {
     "data": {
      "text/html": [
       "<div>\n",
       "<style scoped>\n",
       "    .dataframe tbody tr th:only-of-type {\n",
       "        vertical-align: middle;\n",
       "    }\n",
       "\n",
       "    .dataframe tbody tr th {\n",
       "        vertical-align: top;\n",
       "    }\n",
       "\n",
       "    .dataframe thead th {\n",
       "        text-align: right;\n",
       "    }\n",
       "</style>\n",
       "<table border=\"1\" class=\"dataframe\">\n",
       "  <thead>\n",
       "    <tr style=\"text-align: right;\">\n",
       "      <th></th>\n",
       "      <th>Name</th>\n",
       "      <th>Gender</th>\n",
       "      <th>freq</th>\n",
       "      <th>male_freq</th>\n",
       "      <th>female_freq</th>\n",
       "      <th>first_name</th>\n",
       "      <th>last_name</th>\n",
       "    </tr>\n",
       "  </thead>\n",
       "  <tbody>\n",
       "    <tr>\n",
       "      <th>0</th>\n",
       "      <td>RAJSHREE DIWAN</td>\n",
       "      <td>Female</td>\n",
       "      <td>1</td>\n",
       "      <td>NaN</td>\n",
       "      <td>1.0</td>\n",
       "      <td>rajshree</td>\n",
       "      <td>diwan</td>\n",
       "    </tr>\n",
       "    <tr>\n",
       "      <th>1</th>\n",
       "      <td>JYOTHI JAIN</td>\n",
       "      <td>Female</td>\n",
       "      <td>1</td>\n",
       "      <td>NaN</td>\n",
       "      <td>1.0</td>\n",
       "      <td>jyothi</td>\n",
       "      <td>jain</td>\n",
       "    </tr>\n",
       "    <tr>\n",
       "      <th>2</th>\n",
       "      <td>KETKI JOSHINA</td>\n",
       "      <td>Female</td>\n",
       "      <td>1</td>\n",
       "      <td>NaN</td>\n",
       "      <td>1.0</td>\n",
       "      <td>ketki</td>\n",
       "      <td>joshina</td>\n",
       "    </tr>\n",
       "    <tr>\n",
       "      <th>3</th>\n",
       "      <td>ANURADHA KAUSHIK</td>\n",
       "      <td>Female</td>\n",
       "      <td>1</td>\n",
       "      <td>NaN</td>\n",
       "      <td>1.0</td>\n",
       "      <td>anuradha</td>\n",
       "      <td>kaushik</td>\n",
       "    </tr>\n",
       "    <tr>\n",
       "      <th>4</th>\n",
       "      <td>RAJNI KUNDHANI</td>\n",
       "      <td>Female</td>\n",
       "      <td>1</td>\n",
       "      <td>NaN</td>\n",
       "      <td>1.0</td>\n",
       "      <td>rajni</td>\n",
       "      <td>kundhani</td>\n",
       "    </tr>\n",
       "  </tbody>\n",
       "</table>\n",
       "</div>"
      ],
      "text/plain": [
       "               Name  Gender  freq  male_freq  female_freq first_name last_name\n",
       "0    RAJSHREE DIWAN  Female     1        NaN          1.0   rajshree     diwan\n",
       "1       JYOTHI JAIN  Female     1        NaN          1.0     jyothi      jain\n",
       "2     KETKI JOSHINA  Female     1        NaN          1.0      ketki   joshina\n",
       "3  ANURADHA KAUSHIK  Female     1        NaN          1.0   anuradha   kaushik\n",
       "4    RAJNI KUNDHANI  Female     1        NaN          1.0      rajni  kundhani"
      ]
     },
     "execution_count": 25,
     "metadata": {},
     "output_type": "execute_result"
    }
   ],
   "source": [
    "c4.head()"
   ]
  },
  {
   "cell_type": "code",
   "execution_count": null,
   "metadata": {
    "colab": {
     "base_uri": "https://localhost:8080/",
     "height": 204
    },
    "id": "pEa5298YkRx6",
    "outputId": "edb929a6-027f-44d4-be8e-ee34ebc1af8e"
   },
   "outputs": [
    {
     "data": {
      "text/html": [
       "<div>\n",
       "<style scoped>\n",
       "    .dataframe tbody tr th:only-of-type {\n",
       "        vertical-align: middle;\n",
       "    }\n",
       "\n",
       "    .dataframe tbody tr th {\n",
       "        vertical-align: top;\n",
       "    }\n",
       "\n",
       "    .dataframe thead th {\n",
       "        text-align: right;\n",
       "    }\n",
       "</style>\n",
       "<table border=\"1\" class=\"dataframe\">\n",
       "  <thead>\n",
       "    <tr style=\"text-align: right;\">\n",
       "      <th></th>\n",
       "      <th>Name</th>\n",
       "      <th>Gender</th>\n",
       "      <th>freq</th>\n",
       "      <th>male_freq</th>\n",
       "      <th>female_freq</th>\n",
       "      <th>first_name</th>\n",
       "      <th>last_name</th>\n",
       "    </tr>\n",
       "  </thead>\n",
       "  <tbody>\n",
       "    <tr>\n",
       "      <th>0</th>\n",
       "      <td>ASHA SAMAYSINGH MEENA</td>\n",
       "      <td>Female</td>\n",
       "      <td>1.0</td>\n",
       "      <td>NaN</td>\n",
       "      <td>1.0</td>\n",
       "      <td>asha</td>\n",
       "      <td>meena</td>\n",
       "    </tr>\n",
       "    <tr>\n",
       "      <th>1</th>\n",
       "      <td>REKHA SHERSINGH MEENA</td>\n",
       "      <td>Female</td>\n",
       "      <td>1.0</td>\n",
       "      <td>NaN</td>\n",
       "      <td>1.0</td>\n",
       "      <td>rekha</td>\n",
       "      <td>meena</td>\n",
       "    </tr>\n",
       "    <tr>\n",
       "      <th>2</th>\n",
       "      <td>FULY HIMMATMAL MALVIYA</td>\n",
       "      <td>Female</td>\n",
       "      <td>1.0</td>\n",
       "      <td>NaN</td>\n",
       "      <td>1.0</td>\n",
       "      <td>fuly</td>\n",
       "      <td>malviya</td>\n",
       "    </tr>\n",
       "    <tr>\n",
       "      <th>3</th>\n",
       "      <td>VAISHALI KISHOR TOKE</td>\n",
       "      <td>Female</td>\n",
       "      <td>1.0</td>\n",
       "      <td>NaN</td>\n",
       "      <td>1.0</td>\n",
       "      <td>vaishali</td>\n",
       "      <td>toke</td>\n",
       "    </tr>\n",
       "    <tr>\n",
       "      <th>4</th>\n",
       "      <td>RAJBATI RAMPRAKASH SINGH</td>\n",
       "      <td>Female</td>\n",
       "      <td>1.0</td>\n",
       "      <td>NaN</td>\n",
       "      <td>1.0</td>\n",
       "      <td>rajbati</td>\n",
       "      <td>singh</td>\n",
       "    </tr>\n",
       "  </tbody>\n",
       "</table>\n",
       "</div>"
      ],
      "text/plain": [
       "                       Name  Gender  freq  ...  female_freq  first_name last_name\n",
       "0     ASHA SAMAYSINGH MEENA  Female   1.0  ...          1.0        asha     meena\n",
       "1     REKHA SHERSINGH MEENA  Female   1.0  ...          1.0       rekha     meena\n",
       "2    FULY HIMMATMAL MALVIYA  Female   1.0  ...          1.0        fuly   malviya\n",
       "3      VAISHALI KISHOR TOKE  Female   1.0  ...          1.0    vaishali      toke\n",
       "4  RAJBATI RAMPRAKASH SINGH  Female   1.0  ...          1.0     rajbati     singh\n",
       "\n",
       "[5 rows x 7 columns]"
      ]
     },
     "execution_count": 26,
     "metadata": {},
     "output_type": "execute_result"
    }
   ],
   "source": [
    "c5.head()"
   ]
  },
  {
   "cell_type": "markdown",
   "metadata": {
    "id": "oYHVVhdM-cK5"
   },
   "source": [
    "Plot of last char "
   ]
  },
  {
   "cell_type": "code",
   "execution_count": null,
   "metadata": {
    "id": "W7mODIFCeT_d"
   },
   "outputs": [],
   "source": [
    "def get_freq_counts(df, col):\n",
    "  M = np.zeros(26)\n",
    "  F = np.zeros(26)\n",
    "  X = ['A', 'B', 'C', 'D' , 'E', 'F', 'G', 'H', 'I', 'J', 'K', 'L', 'M', 'N', 'O', 'P', 'Q' , 'R' , 'S', 'T', 'U', 'V', 'W','X','Y','Z']\n",
    "  for i in range(26):\n",
    "    c = df[(df[col]==X[i].lower())]\n",
    "    M[i] = c['male_freq'].sum()\n",
    "    F[i] = c['female_freq'].sum()\n",
    "  return M, F"
   ]
  },
  {
   "cell_type": "code",
   "execution_count": null,
   "metadata": {
    "id": "z-ycxU7Lb3Qg"
   },
   "outputs": [],
   "source": [
    "def plot_last_char(df, col):\n",
    "  df['last_letter'] = [str(name)[-1].lower() for name in df[col]]\n",
    "  M_list, F_list = get_freq_counts(df, 'last_letter')\n",
    "  X = ['A', 'B', 'C', 'D' , 'E', 'F', 'G', 'H', 'I', 'J', 'K', 'L', 'M', 'N', 'O', 'P', 'Q' , 'R' , 'S', 'T', 'U', 'V', 'W','X','Y','Z']\n",
    "\n",
    "  import matplotlib.pyplot as plt\n",
    "  X_axis = np.arange(len(X))\n",
    "\n",
    "  plt.bar(X_axis - 0.2, F_list, 0.4, label = 'Female')\n",
    "  plt.bar(X_axis + 0.2, M_list, 0.4, label = 'Male')\n",
    "    \n",
    "  print(M_list-F_list)\n",
    "\n",
    "  plt.xticks(X_axis, X)\n",
    "  plt.xlabel(\"Last char of first name\")\n",
    "  plt.ylabel(\"Percentage of students(cbse data)\")\n",
    "  # plt.title(\"Number of Students in each group\")\n",
    "  plt.legend()\n",
    "  plt.show()\n"
   ]
  },
  {
   "cell_type": "code",
   "execution_count": null,
   "metadata": {
    "colab": {
     "base_uri": "https://localhost:8080/",
     "height": 364
    },
    "id": "x9NRhp--fXoE",
    "outputId": "72ac38a0-5e09-4673-cdf1-5d172d8e76b3"
   },
   "outputs": [
    {
     "name": "stdout",
     "output_type": "stream",
     "text": [
      "[-4.7603e+04  5.1100e+02  1.3900e+02  5.4310e+03 -1.6000e+01  1.2600e+02\n",
      "  4.3000e+02  1.6289e+04 -1.1432e+04  2.1590e+03  3.3790e+03  8.3070e+03\n",
      "  3.1160e+03  4.0410e+03  6.2000e+01  2.6720e+03  8.0000e+01  7.4320e+03\n",
      "  1.1920e+03  3.0410e+03 -5.4220e+03  1.9590e+03  3.8000e+01  1.1000e+01\n",
      "  4.0650e+03 -9.0000e+00]\n"
     ]
    },
    {
     "data": {
      "image/png": "[encoded data removed]",
      "text/plain": [
       "<Figure size 432x288 with 1 Axes>"
      ]
     },
     "metadata": {
      "needs_background": "light"
     },
     "output_type": "display_data"
    }
   ],
   "source": [
    "plot_last_char(c4, 'first_name')"
   ]
  },
  {
   "cell_type": "code",
   "execution_count": null,
   "metadata": {
    "colab": {
     "base_uri": "https://localhost:8080/",
     "height": 364
    },
    "id": "H_oYcbaCft8v",
    "outputId": "4ac0417f-8374-465c-ec87-d8c0c4c32945"
   },
   "outputs": [
    {
     "name": "stdout",
     "output_type": "stream",
     "text": [
      "[-2.166e+03  2.000e+00 -1.000e+00  1.238e+03  3.640e+02  4.000e+01\n",
      "  7.800e+01  5.602e+03 -1.051e+04  4.100e+01  1.710e+02  1.647e+03\n",
      "  4.850e+02  7.000e+02 -3.870e+02  1.200e+02  2.200e+01  5.920e+02\n",
      "  1.820e+02  9.620e+02 -2.300e+02  5.280e+02  1.400e+01  3.000e+00\n",
      "  5.160e+02 -1.900e+01]\n"
     ]
    },
    {
     "data": {
      "image/png": "[encoded data removed]",
      "text/plain": [
       "<Figure size 432x288 with 1 Axes>"
      ]
     },
     "metadata": {
      "needs_background": "light"
     },
     "output_type": "display_data"
    }
   ],
   "source": [
    "plot_last_char(c4, 'Name')"
   ]
  },
  {
   "cell_type": "code",
   "execution_count": null,
   "metadata": {
    "colab": {
     "base_uri": "https://localhost:8080/",
     "height": 364
    },
    "id": "RyPYrzMPfvuh",
    "outputId": "e710c143-f95c-4315-b827-4828185cc491"
   },
   "outputs": [
    {
     "name": "stdout",
     "output_type": "stream",
     "text": [
      "[-4.4156e+04  4.9000e+02  1.6200e+02  4.9970e+03  2.0000e+01  1.0500e+02\n",
      "  3.6000e+02  1.4548e+04 -1.0617e+04  1.7840e+03  3.1640e+03  7.7060e+03\n",
      "  2.9690e+03  4.1870e+03  5.6000e+01  2.6330e+03  7.1000e+01  6.7920e+03\n",
      "  1.2390e+03  2.8130e+03 -4.8560e+03  1.8870e+03  2.6000e+01  9.0000e+00\n",
      "  3.6110e+03 -1.5000e+01]\n"
     ]
    },
    {
     "data": {
      "image/png": "[encoded data removed]",
      "text/plain": [
       "<Figure size 432x288 with 1 Axes>"
      ]
     },
     "metadata": {
      "needs_background": "light"
     },
     "output_type": "display_data"
    }
   ],
   "source": [
    "plot_last_char(c5, 'first_name')"
   ]
  },
  {
   "cell_type": "code",
   "execution_count": null,
   "metadata": {
    "colab": {
     "base_uri": "https://localhost:8080/",
     "height": 364
    },
    "id": "83lfMM6MfxrE",
    "outputId": "beb6d448-5f72-4355-8ebd-8fd009371fe0"
   },
   "outputs": [
    {
     "name": "stdout",
     "output_type": "stream",
     "text": [
      "[-1.6450e+03  2.1000e+01  4.0000e+00  1.1650e+03  3.8800e+02  3.1000e+01\n",
      "  7.5000e+01  5.1080e+03 -1.0298e+04  3.3000e+01  1.9400e+02  1.5300e+03\n",
      "  4.7000e+02  7.8600e+02 -3.2500e+02  1.0100e+02  2.2000e+01  5.3200e+02\n",
      "  1.8700e+02  8.3000e+02 -1.7600e+02  4.7500e+02  3.1000e+01  4.0000e+00\n",
      "  4.6300e+02 -1.3000e+01]\n"
     ]
    },
    {
     "data": {
      "image/png": "[encoded data removed]",
      "text/plain": [
       "<Figure size 432x288 with 1 Axes>"
      ]
     },
     "metadata": {
      "needs_background": "light"
     },
     "output_type": "display_data"
    }
   ],
   "source": [
    "plot_last_char(c5, 'Name')"
   ]
  },
  {
   "cell_type": "markdown",
   "metadata": {
    "id": "rp13vBgF-fN1"
   },
   "source": [
    "Most frequent Names -> Check first_names and complete_name"
   ]
  },
  {
   "cell_type": "code",
   "execution_count": null,
   "metadata": {
    "id": "GQ3fyuPzgcJ0"
   },
   "outputs": [],
   "source": [
    "def add_percent(df):\n",
    "  df['freq_percent'] = df['freq']/df['freq'].sum()\n",
    "  df['male_freq_percent'] = df['male_freq']/df['freq'].sum()\n",
    "  df['female_freq_percent'] = df['female_freq']/df['freq'].sum()\n",
    "  return df"
   ]
  },
  {
   "cell_type": "code",
   "execution_count": null,
   "metadata": {
    "id": "kmLI8dRMm5wR"
   },
   "outputs": [],
   "source": [
    "def get_first_name_counts(df):\n",
    "  fn_df = pd.DataFrame()\n",
    "  fn = list(df['first_name'].drop_duplicates())\n",
    "  freq = np.zeros(len(fn))\n",
    "  m_freq = np.zeros(len(fn))\n",
    "  f_freq = np.zeros(len(fn))\n",
    "  for i in range(len(fn)):\n",
    "    f = df[df['first_name']==fn[i]]\n",
    "    freq[i] = f.freq.sum()\n",
    "    m_freq[i] = f.male_freq.sum()\n",
    "    f_freq[i] = f.female_freq.sum()\n",
    "  fn_df['first_name'] = fn\n",
    "  fn_df['freq'] = freq\n",
    "  fn_df['male_freq'] = m_freq\n",
    "  fn_df['female_freq'] = f_freq\n",
    "  return fn_df"
   ]
  },
  {
   "cell_type": "code",
   "execution_count": null,
   "metadata": {
    "id": "Tr0AdQFfxWM7"
   },
   "outputs": [],
   "source": [
    "def get_last_name_counts(df):\n",
    "  fn_df = pd.DataFrame()\n",
    "  fn = list(df['last_name'].drop_duplicates())\n",
    "  freq = np.zeros(len(fn))\n",
    "  for i in range(len(fn)):\n",
    "    f = df[df['last_name']==fn[i]]\n",
    "    freq[i] = f.freq.sum()\n",
    "\n",
    "  fn_df['last_name'] = fn\n",
    "  fn_df['freq'] = freq\n",
    "  fn_df['freq_percent'] = fn_df['freq']/fn_df['freq'].sum()\n",
    "  return fn_df"
   ]
  },
  {
   "cell_type": "code",
   "execution_count": null,
   "metadata": {
    "id": "OxBGksMF_VuE"
   },
   "outputs": [],
   "source": [
    "cb = pd.concat([c4, c5], ignore_index=True)"
   ]
  },
  {
   "cell_type": "code",
   "execution_count": null,
   "metadata": {
    "colab": {
     "base_uri": "https://localhost:8080/"
    },
    "id": "5DEYCFIUASi1",
    "outputId": "2fea245b-9d8b-400d-aae2-038b7068bc90"
   },
   "outputs": [
    {
     "data": {
      "text/plain": [
       "Name\n",
       "SUNITA DEVI                494.0\n",
       "SUNITA                     439.0\n",
       "SUNITA SHARMA              435.0\n",
       "SANTOSH DEVI               410.0\n",
       "MANJU DEVI                 409.0\n",
       "                           ...  \n",
       "PAWAR DILIP NANA             0.0\n",
       "PAWAR TANAJI                 0.0\n",
       "PAWAR VASANT LAXMAN          0.0\n",
       "PAWAS AGRAWAL                0.0\n",
       "(LATE) SOHAN CHATURVEDI      0.0\n",
       "Name: female_freq, Length: 204543, dtype: float64"
      ]
     },
     "execution_count": 57,
     "metadata": {},
     "output_type": "execute_result"
    }
   ],
   "source": [
    "cb.groupby('Name').sum()['female_freq'].sort_values(ascending=False)"
   ]
  },
  {
   "cell_type": "code",
   "execution_count": null,
   "metadata": {
    "id": "mxv3-QNM_4TO"
   },
   "outputs": [],
   "source": [
    "def add_combined_freq(df):\n",
    "  df['freq'] = df['Name'].map(df.groupby('Name').sum()['freq'])\n",
    "  df['male_freq'] = df['Name'].map(df.groupby('Name').sum()['male_freq'])\n",
    "  df['female_freq']  = df['Name'].map(df.groupby('Name').sum()['female_freq'])\n",
    "  df = df.drop_duplicates(subset='Name', keep='last')\n",
    "  return df "
   ]
  },
  {
   "cell_type": "code",
   "execution_count": null,
   "metadata": {
    "id": "8JL51Unx_dXo"
   },
   "outputs": [],
   "source": [
    "cb_test = add_combined_freq(cb)"
   ]
  },
  {
   "cell_type": "code",
   "execution_count": null,
   "metadata": {
    "colab": {
     "base_uri": "https://localhost:8080/",
     "height": 419
    },
    "id": "RlybfGu3BbQf",
    "outputId": "663534c7-b808-47f0-bd88-486644c2751f"
   },
   "outputs": [
    {
     "data": {
      "text/html": [
       "<div>\n",
       "<style scoped>\n",
       "    .dataframe tbody tr th:only-of-type {\n",
       "        vertical-align: middle;\n",
       "    }\n",
       "\n",
       "    .dataframe tbody tr th {\n",
       "        vertical-align: top;\n",
       "    }\n",
       "\n",
       "    .dataframe thead th {\n",
       "        text-align: right;\n",
       "    }\n",
       "</style>\n",
       "<table border=\"1\" class=\"dataframe\">\n",
       "  <thead>\n",
       "    <tr style=\"text-align: right;\">\n",
       "      <th></th>\n",
       "      <th>Name</th>\n",
       "      <th>Gender</th>\n",
       "      <th>freq</th>\n",
       "      <th>male_freq</th>\n",
       "      <th>female_freq</th>\n",
       "      <th>first_name</th>\n",
       "      <th>last_name</th>\n",
       "      <th>last_letter</th>\n",
       "    </tr>\n",
       "  </thead>\n",
       "  <tbody>\n",
       "    <tr>\n",
       "      <th>174258</th>\n",
       "      <td>SUNITA DEVI</td>\n",
       "      <td>Female</td>\n",
       "      <td>494.0</td>\n",
       "      <td>0.0</td>\n",
       "      <td>494.0</td>\n",
       "      <td>sunita</td>\n",
       "      <td>devi</td>\n",
       "      <td>a</td>\n",
       "    </tr>\n",
       "    <tr>\n",
       "      <th>174296</th>\n",
       "      <td>SUNITA</td>\n",
       "      <td>Female</td>\n",
       "      <td>439.0</td>\n",
       "      <td>0.0</td>\n",
       "      <td>439.0</td>\n",
       "      <td>sunita</td>\n",
       "      <td>NaN</td>\n",
       "      <td>a</td>\n",
       "    </tr>\n",
       "    <tr>\n",
       "      <th>189779</th>\n",
       "      <td>SUNITA SHARMA</td>\n",
       "      <td>Female</td>\n",
       "      <td>436.0</td>\n",
       "      <td>1.0</td>\n",
       "      <td>435.0</td>\n",
       "      <td>sunita</td>\n",
       "      <td>sharma</td>\n",
       "      <td>a</td>\n",
       "    </tr>\n",
       "    <tr>\n",
       "      <th>160649</th>\n",
       "      <td>SANTOSH DEVI</td>\n",
       "      <td>Female</td>\n",
       "      <td>410.0</td>\n",
       "      <td>0.0</td>\n",
       "      <td>410.0</td>\n",
       "      <td>santosh</td>\n",
       "      <td>devi</td>\n",
       "      <td>h</td>\n",
       "    </tr>\n",
       "    <tr>\n",
       "      <th>174069</th>\n",
       "      <td>MANJU DEVI</td>\n",
       "      <td>Female</td>\n",
       "      <td>409.0</td>\n",
       "      <td>0.0</td>\n",
       "      <td>409.0</td>\n",
       "      <td>manju</td>\n",
       "      <td>devi</td>\n",
       "      <td>u</td>\n",
       "    </tr>\n",
       "    <tr>\n",
       "      <th>...</th>\n",
       "      <td>...</td>\n",
       "      <td>...</td>\n",
       "      <td>...</td>\n",
       "      <td>...</td>\n",
       "      <td>...</td>\n",
       "      <td>...</td>\n",
       "      <td>...</td>\n",
       "      <td>...</td>\n",
       "    </tr>\n",
       "    <tr>\n",
       "      <th>93524</th>\n",
       "      <td>SHANKARLAL TAKHTANI</td>\n",
       "      <td>Male</td>\n",
       "      <td>1.0</td>\n",
       "      <td>1.0</td>\n",
       "      <td>0.0</td>\n",
       "      <td>shankarlal</td>\n",
       "      <td>takhtani</td>\n",
       "      <td>i</td>\n",
       "    </tr>\n",
       "    <tr>\n",
       "      <th>93525</th>\n",
       "      <td>D BARMAN</td>\n",
       "      <td>Male</td>\n",
       "      <td>1.0</td>\n",
       "      <td>1.0</td>\n",
       "      <td>0.0</td>\n",
       "      <td>d</td>\n",
       "      <td>barman</td>\n",
       "      <td>n</td>\n",
       "    </tr>\n",
       "    <tr>\n",
       "      <th>93526</th>\n",
       "      <td>ASEEM KUMAR DUBEY</td>\n",
       "      <td>Male</td>\n",
       "      <td>1.0</td>\n",
       "      <td>1.0</td>\n",
       "      <td>0.0</td>\n",
       "      <td>aseem</td>\n",
       "      <td>dubey</td>\n",
       "      <td>y</td>\n",
       "    </tr>\n",
       "    <tr>\n",
       "      <th>237804</th>\n",
       "      <td>NARESH PARYANI</td>\n",
       "      <td>Male</td>\n",
       "      <td>1.0</td>\n",
       "      <td>1.0</td>\n",
       "      <td>0.0</td>\n",
       "      <td>naresh</td>\n",
       "      <td>paryani</td>\n",
       "      <td>h</td>\n",
       "    </tr>\n",
       "    <tr>\n",
       "      <th>221687</th>\n",
       "      <td>NaN</td>\n",
       "      <td>Female</td>\n",
       "      <td>NaN</td>\n",
       "      <td>NaN</td>\n",
       "      <td>NaN</td>\n",
       "      <td>nan</td>\n",
       "      <td>NaN</td>\n",
       "      <td>n</td>\n",
       "    </tr>\n",
       "  </tbody>\n",
       "</table>\n",
       "<p>204544 rows × 8 columns</p>\n",
       "</div>"
      ],
      "text/plain": [
       "                       Name  Gender   freq  ...  first_name  last_name last_letter\n",
       "174258          SUNITA DEVI  Female  494.0  ...      sunita       devi           a\n",
       "174296               SUNITA  Female  439.0  ...      sunita        NaN           a\n",
       "189779        SUNITA SHARMA  Female  436.0  ...      sunita     sharma           a\n",
       "160649         SANTOSH DEVI  Female  410.0  ...     santosh       devi           h\n",
       "174069           MANJU DEVI  Female  409.0  ...       manju       devi           u\n",
       "...                     ...     ...    ...  ...         ...        ...         ...\n",
       "93524   SHANKARLAL TAKHTANI    Male    1.0  ...  shankarlal   takhtani           i\n",
       "93525              D BARMAN    Male    1.0  ...           d     barman           n\n",
       "93526     ASEEM KUMAR DUBEY    Male    1.0  ...       aseem      dubey           y\n",
       "237804       NARESH PARYANI    Male    1.0  ...      naresh    paryani           h\n",
       "221687                  NaN  Female    NaN  ...         nan        NaN           n\n",
       "\n",
       "[204544 rows x 8 columns]"
      ]
     },
     "execution_count": 62,
     "metadata": {},
     "output_type": "execute_result"
    }
   ],
   "source": [
    "cb_test.sort_values('freq',ascending=False)"
   ]
  },
  {
   "cell_type": "code",
   "execution_count": null,
   "metadata": {
    "colab": {
     "base_uri": "https://localhost:8080/"
    },
    "id": "8wi3k8zdBnYO",
    "outputId": "61a7738e-a993-4c0f-856c-42b4603d6b70"
   },
   "outputs": [
    {
     "name": "stderr",
     "output_type": "stream",
     "text": [
      "/usr/local/lib/python3.7/dist-packages/ipykernel_launcher.py:2: SettingWithCopyWarning: \n",
      "A value is trying to be set on a copy of a slice from a DataFrame.\n",
      "Try using .loc[row_indexer,col_indexer] = value instead\n",
      "\n",
      "See the caveats in the documentation: https://pandas.pydata.org/pandas-docs/stable/user_guide/indexing.html#returning-a-view-versus-a-copy\n",
      "  \n",
      "/usr/local/lib/python3.7/dist-packages/ipykernel_launcher.py:3: SettingWithCopyWarning: \n",
      "A value is trying to be set on a copy of a slice from a DataFrame.\n",
      "Try using .loc[row_indexer,col_indexer] = value instead\n",
      "\n",
      "See the caveats in the documentation: https://pandas.pydata.org/pandas-docs/stable/user_guide/indexing.html#returning-a-view-versus-a-copy\n",
      "  This is separate from the ipykernel package so we can avoid doing imports until\n",
      "/usr/local/lib/python3.7/dist-packages/ipykernel_launcher.py:4: SettingWithCopyWarning: \n",
      "A value is trying to be set on a copy of a slice from a DataFrame.\n",
      "Try using .loc[row_indexer,col_indexer] = value instead\n",
      "\n",
      "See the caveats in the documentation: https://pandas.pydata.org/pandas-docs/stable/user_guide/indexing.html#returning-a-view-versus-a-copy\n",
      "  after removing the cwd from sys.path.\n"
     ]
    }
   ],
   "source": [
    "cb_test = add_percent(cb_test)"
   ]
  },
  {
   "cell_type": "code",
   "execution_count": null,
   "metadata": {
    "colab": {
     "base_uri": "https://localhost:8080/",
     "height": 204
    },
    "id": "gb-1AGz4xqCO",
    "outputId": "2778fded-7a00-4189-e36b-f8e8c71c1d90"
   },
   "outputs": [
    {
     "data": {
      "text/html": [
       "<div>\n",
       "<style scoped>\n",
       "    .dataframe tbody tr th:only-of-type {\n",
       "        vertical-align: middle;\n",
       "    }\n",
       "\n",
       "    .dataframe tbody tr th {\n",
       "        vertical-align: top;\n",
       "    }\n",
       "\n",
       "    .dataframe thead th {\n",
       "        text-align: right;\n",
       "    }\n",
       "</style>\n",
       "<table border=\"1\" class=\"dataframe\">\n",
       "  <thead>\n",
       "    <tr style=\"text-align: right;\">\n",
       "      <th></th>\n",
       "      <th>first_name</th>\n",
       "      <th>freq</th>\n",
       "      <th>male_freq</th>\n",
       "      <th>female_freq</th>\n",
       "    </tr>\n",
       "  </thead>\n",
       "  <tbody>\n",
       "    <tr>\n",
       "      <th>0</th>\n",
       "      <td>rajshree</td>\n",
       "      <td>165.0</td>\n",
       "      <td>0.0</td>\n",
       "      <td>165.0</td>\n",
       "    </tr>\n",
       "    <tr>\n",
       "      <th>1</th>\n",
       "      <td>jyothi</td>\n",
       "      <td>13.0</td>\n",
       "      <td>0.0</td>\n",
       "      <td>13.0</td>\n",
       "    </tr>\n",
       "    <tr>\n",
       "      <th>2</th>\n",
       "      <td>ketki</td>\n",
       "      <td>7.0</td>\n",
       "      <td>0.0</td>\n",
       "      <td>7.0</td>\n",
       "    </tr>\n",
       "    <tr>\n",
       "      <th>3</th>\n",
       "      <td>anuradha</td>\n",
       "      <td>389.0</td>\n",
       "      <td>2.0</td>\n",
       "      <td>387.0</td>\n",
       "    </tr>\n",
       "    <tr>\n",
       "      <th>4</th>\n",
       "      <td>rajni</td>\n",
       "      <td>816.0</td>\n",
       "      <td>2.0</td>\n",
       "      <td>814.0</td>\n",
       "    </tr>\n",
       "  </tbody>\n",
       "</table>\n",
       "</div>"
      ],
      "text/plain": [
       "  first_name   freq  male_freq  female_freq\n",
       "0   rajshree  165.0        0.0        165.0\n",
       "1     jyothi   13.0        0.0         13.0\n",
       "2      ketki    7.0        0.0          7.0\n",
       "3   anuradha  389.0        2.0        387.0\n",
       "4      rajni  816.0        2.0        814.0"
      ]
     },
     "execution_count": 66,
     "metadata": {},
     "output_type": "execute_result"
    }
   ],
   "source": [
    "cb_ln = get_last_name_counts(cb_test)\n",
    "cb_fn = get_first_name_counts(cb_test)\n",
    "cb_fn.head()"
   ]
  },
  {
   "cell_type": "code",
   "execution_count": null,
   "metadata": {
    "colab": {
     "base_uri": "https://localhost:8080/",
     "height": 204
    },
    "id": "4V-wU2OFEnNN",
    "outputId": "3a73a40a-4636-4597-9b2e-ca7d3c4cea75"
   },
   "outputs": [
    {
     "data": {
      "text/html": [
       "<div>\n",
       "<style scoped>\n",
       "    .dataframe tbody tr th:only-of-type {\n",
       "        vertical-align: middle;\n",
       "    }\n",
       "\n",
       "    .dataframe tbody tr th {\n",
       "        vertical-align: top;\n",
       "    }\n",
       "\n",
       "    .dataframe thead th {\n",
       "        text-align: right;\n",
       "    }\n",
       "</style>\n",
       "<table border=\"1\" class=\"dataframe\">\n",
       "  <thead>\n",
       "    <tr style=\"text-align: right;\">\n",
       "      <th></th>\n",
       "      <th>first_name</th>\n",
       "      <th>freq</th>\n",
       "      <th>male_freq</th>\n",
       "      <th>female_freq</th>\n",
       "      <th>freq_percent</th>\n",
       "      <th>male_freq_percent</th>\n",
       "      <th>female_freq_percent</th>\n",
       "    </tr>\n",
       "  </thead>\n",
       "  <tbody>\n",
       "    <tr>\n",
       "      <th>0</th>\n",
       "      <td>rajshree</td>\n",
       "      <td>165.0</td>\n",
       "      <td>0.0</td>\n",
       "      <td>165.0</td>\n",
       "      <td>0.000424</td>\n",
       "      <td>0.000000</td>\n",
       "      <td>0.000424</td>\n",
       "    </tr>\n",
       "    <tr>\n",
       "      <th>1</th>\n",
       "      <td>jyothi</td>\n",
       "      <td>13.0</td>\n",
       "      <td>0.0</td>\n",
       "      <td>13.0</td>\n",
       "      <td>0.000033</td>\n",
       "      <td>0.000000</td>\n",
       "      <td>0.000033</td>\n",
       "    </tr>\n",
       "    <tr>\n",
       "      <th>2</th>\n",
       "      <td>ketki</td>\n",
       "      <td>7.0</td>\n",
       "      <td>0.0</td>\n",
       "      <td>7.0</td>\n",
       "      <td>0.000018</td>\n",
       "      <td>0.000000</td>\n",
       "      <td>0.000018</td>\n",
       "    </tr>\n",
       "    <tr>\n",
       "      <th>3</th>\n",
       "      <td>anuradha</td>\n",
       "      <td>389.0</td>\n",
       "      <td>2.0</td>\n",
       "      <td>387.0</td>\n",
       "      <td>0.001000</td>\n",
       "      <td>0.000005</td>\n",
       "      <td>0.000995</td>\n",
       "    </tr>\n",
       "    <tr>\n",
       "      <th>4</th>\n",
       "      <td>rajni</td>\n",
       "      <td>816.0</td>\n",
       "      <td>2.0</td>\n",
       "      <td>814.0</td>\n",
       "      <td>0.002099</td>\n",
       "      <td>0.000005</td>\n",
       "      <td>0.002093</td>\n",
       "    </tr>\n",
       "  </tbody>\n",
       "</table>\n",
       "</div>"
      ],
      "text/plain": [
       "  first_name   freq  ...  male_freq_percent  female_freq_percent\n",
       "0   rajshree  165.0  ...           0.000000             0.000424\n",
       "1     jyothi   13.0  ...           0.000000             0.000033\n",
       "2      ketki    7.0  ...           0.000000             0.000018\n",
       "3   anuradha  389.0  ...           0.000005             0.000995\n",
       "4      rajni  816.0  ...           0.000005             0.002093\n",
       "\n",
       "[5 rows x 7 columns]"
      ]
     },
     "execution_count": 70,
     "metadata": {},
     "output_type": "execute_result"
    }
   ],
   "source": [
    "cb_fn.head()"
   ]
  },
  {
   "cell_type": "code",
   "execution_count": null,
   "metadata": {
    "id": "GX_zEzWDqgxa"
   },
   "outputs": [],
   "source": [
    "cb_fn = add_percent(cb_fn)\n",
    "# cb_ln = add_percent(cb_ln)"
   ]
  },
  {
   "cell_type": "code",
   "execution_count": null,
   "metadata": {
    "id": "TzEEndeUE3mA"
   },
   "outputs": [],
   "source": [
    "cb_ln['freq_percent'] = cb_ln['freq']/cb_ln['freq'].sum()\n"
   ]
  },
  {
   "cell_type": "code",
   "execution_count": null,
   "metadata": {
    "colab": {
     "base_uri": "https://localhost:8080/",
     "height": 204
    },
    "id": "2dD3SZocCW5m",
    "outputId": "df20443a-3f50-4cd7-fe67-739fd63a73cb"
   },
   "outputs": [
    {
     "data": {
      "text/html": [
       "<div>\n",
       "<style scoped>\n",
       "    .dataframe tbody tr th:only-of-type {\n",
       "        vertical-align: middle;\n",
       "    }\n",
       "\n",
       "    .dataframe tbody tr th {\n",
       "        vertical-align: top;\n",
       "    }\n",
       "\n",
       "    .dataframe thead th {\n",
       "        text-align: right;\n",
       "    }\n",
       "</style>\n",
       "<table border=\"1\" class=\"dataframe\">\n",
       "  <thead>\n",
       "    <tr style=\"text-align: right;\">\n",
       "      <th></th>\n",
       "      <th>Name</th>\n",
       "      <th>Gender</th>\n",
       "      <th>freq</th>\n",
       "      <th>male_freq</th>\n",
       "      <th>female_freq</th>\n",
       "      <th>first_name</th>\n",
       "      <th>last_name</th>\n",
       "      <th>last_letter</th>\n",
       "      <th>freq_percent</th>\n",
       "      <th>male_freq_percent</th>\n",
       "      <th>female_freq_percent</th>\n",
       "    </tr>\n",
       "  </thead>\n",
       "  <tbody>\n",
       "    <tr>\n",
       "      <th>174258</th>\n",
       "      <td>SUNITA DEVI</td>\n",
       "      <td>Female</td>\n",
       "      <td>494.0</td>\n",
       "      <td>0.0</td>\n",
       "      <td>494.0</td>\n",
       "      <td>sunita</td>\n",
       "      <td>devi</td>\n",
       "      <td>a</td>\n",
       "      <td>0.001270</td>\n",
       "      <td>0.000000</td>\n",
       "      <td>0.001270</td>\n",
       "    </tr>\n",
       "    <tr>\n",
       "      <th>174296</th>\n",
       "      <td>SUNITA</td>\n",
       "      <td>Female</td>\n",
       "      <td>439.0</td>\n",
       "      <td>0.0</td>\n",
       "      <td>439.0</td>\n",
       "      <td>sunita</td>\n",
       "      <td>NaN</td>\n",
       "      <td>a</td>\n",
       "      <td>0.001129</td>\n",
       "      <td>0.000000</td>\n",
       "      <td>0.001129</td>\n",
       "    </tr>\n",
       "    <tr>\n",
       "      <th>189779</th>\n",
       "      <td>SUNITA SHARMA</td>\n",
       "      <td>Female</td>\n",
       "      <td>436.0</td>\n",
       "      <td>1.0</td>\n",
       "      <td>435.0</td>\n",
       "      <td>sunita</td>\n",
       "      <td>sharma</td>\n",
       "      <td>a</td>\n",
       "      <td>0.001121</td>\n",
       "      <td>0.000003</td>\n",
       "      <td>0.001119</td>\n",
       "    </tr>\n",
       "    <tr>\n",
       "      <th>160649</th>\n",
       "      <td>SANTOSH DEVI</td>\n",
       "      <td>Female</td>\n",
       "      <td>410.0</td>\n",
       "      <td>0.0</td>\n",
       "      <td>410.0</td>\n",
       "      <td>santosh</td>\n",
       "      <td>devi</td>\n",
       "      <td>h</td>\n",
       "      <td>0.001054</td>\n",
       "      <td>0.000000</td>\n",
       "      <td>0.001054</td>\n",
       "    </tr>\n",
       "    <tr>\n",
       "      <th>174069</th>\n",
       "      <td>MANJU DEVI</td>\n",
       "      <td>Female</td>\n",
       "      <td>409.0</td>\n",
       "      <td>0.0</td>\n",
       "      <td>409.0</td>\n",
       "      <td>manju</td>\n",
       "      <td>devi</td>\n",
       "      <td>u</td>\n",
       "      <td>0.001052</td>\n",
       "      <td>0.000000</td>\n",
       "      <td>0.001052</td>\n",
       "    </tr>\n",
       "  </tbody>\n",
       "</table>\n",
       "</div>"
      ],
      "text/plain": [
       "                 Name  Gender  ...  male_freq_percent  female_freq_percent\n",
       "174258    SUNITA DEVI  Female  ...           0.000000             0.001270\n",
       "174296         SUNITA  Female  ...           0.000000             0.001129\n",
       "189779  SUNITA SHARMA  Female  ...           0.000003             0.001119\n",
       "160649   SANTOSH DEVI  Female  ...           0.000000             0.001054\n",
       "174069     MANJU DEVI  Female  ...           0.000000             0.001052\n",
       "\n",
       "[5 rows x 11 columns]"
      ]
     },
     "execution_count": 73,
     "metadata": {},
     "output_type": "execute_result"
    }
   ],
   "source": [
    "cb_test.sort_values('freq',ascending=False).head()"
   ]
  },
  {
   "cell_type": "code",
   "execution_count": null,
   "metadata": {
    "colab": {
     "base_uri": "https://localhost:8080/",
     "height": 204
    },
    "id": "cqkwy9uogAny",
    "outputId": "2fa16e10-da1c-4e95-d022-5431c3b6ed67"
   },
   "outputs": [
    {
     "data": {
      "text/html": [
       "<div>\n",
       "<style scoped>\n",
       "    .dataframe tbody tr th:only-of-type {\n",
       "        vertical-align: middle;\n",
       "    }\n",
       "\n",
       "    .dataframe tbody tr th {\n",
       "        vertical-align: top;\n",
       "    }\n",
       "\n",
       "    .dataframe thead th {\n",
       "        text-align: right;\n",
       "    }\n",
       "</style>\n",
       "<table border=\"1\" class=\"dataframe\">\n",
       "  <thead>\n",
       "    <tr style=\"text-align: right;\">\n",
       "      <th></th>\n",
       "      <th>Name</th>\n",
       "      <th>Gender</th>\n",
       "      <th>freq</th>\n",
       "      <th>male_freq</th>\n",
       "      <th>female_freq</th>\n",
       "      <th>first_name</th>\n",
       "      <th>last_name</th>\n",
       "      <th>last_letter</th>\n",
       "      <th>freq_percent</th>\n",
       "      <th>male_freq_percent</th>\n",
       "      <th>female_freq_percent</th>\n",
       "    </tr>\n",
       "  </thead>\n",
       "  <tbody>\n",
       "    <tr>\n",
       "      <th>236204</th>\n",
       "      <td>SANJAY JAIN</td>\n",
       "      <td>Male</td>\n",
       "      <td>279.0</td>\n",
       "      <td>279.0</td>\n",
       "      <td>0.0</td>\n",
       "      <td>sanjay</td>\n",
       "      <td>jain</td>\n",
       "      <td>y</td>\n",
       "      <td>0.000718</td>\n",
       "      <td>0.000718</td>\n",
       "      <td>0.000000</td>\n",
       "    </tr>\n",
       "    <tr>\n",
       "      <th>237296</th>\n",
       "      <td>RAJESH JAIN</td>\n",
       "      <td>Male</td>\n",
       "      <td>229.0</td>\n",
       "      <td>228.0</td>\n",
       "      <td>1.0</td>\n",
       "      <td>rajesh</td>\n",
       "      <td>jain</td>\n",
       "      <td>h</td>\n",
       "      <td>0.000589</td>\n",
       "      <td>0.000586</td>\n",
       "      <td>0.000003</td>\n",
       "    </tr>\n",
       "    <tr>\n",
       "      <th>235538</th>\n",
       "      <td>ASHOK KUMAR</td>\n",
       "      <td>Male</td>\n",
       "      <td>221.0</td>\n",
       "      <td>221.0</td>\n",
       "      <td>0.0</td>\n",
       "      <td>ashok</td>\n",
       "      <td>kumar</td>\n",
       "      <td>k</td>\n",
       "      <td>0.000568</td>\n",
       "      <td>0.000568</td>\n",
       "      <td>0.000000</td>\n",
       "    </tr>\n",
       "    <tr>\n",
       "      <th>237470</th>\n",
       "      <td>RAJESH SHARMA</td>\n",
       "      <td>Male</td>\n",
       "      <td>226.0</td>\n",
       "      <td>214.0</td>\n",
       "      <td>12.0</td>\n",
       "      <td>rajesh</td>\n",
       "      <td>sharma</td>\n",
       "      <td>h</td>\n",
       "      <td>0.000581</td>\n",
       "      <td>0.000550</td>\n",
       "      <td>0.000031</td>\n",
       "    </tr>\n",
       "    <tr>\n",
       "      <th>236960</th>\n",
       "      <td>RAJENDRA SINGH</td>\n",
       "      <td>Male</td>\n",
       "      <td>203.0</td>\n",
       "      <td>203.0</td>\n",
       "      <td>0.0</td>\n",
       "      <td>rajendra</td>\n",
       "      <td>singh</td>\n",
       "      <td>a</td>\n",
       "      <td>0.000522</td>\n",
       "      <td>0.000522</td>\n",
       "      <td>0.000000</td>\n",
       "    </tr>\n",
       "  </tbody>\n",
       "</table>\n",
       "</div>"
      ],
      "text/plain": [
       "                  Name Gender  ...  male_freq_percent  female_freq_percent\n",
       "236204     SANJAY JAIN   Male  ...           0.000718             0.000000\n",
       "237296     RAJESH JAIN   Male  ...           0.000586             0.000003\n",
       "235538     ASHOK KUMAR   Male  ...           0.000568             0.000000\n",
       "237470   RAJESH SHARMA   Male  ...           0.000550             0.000031\n",
       "236960  RAJENDRA SINGH   Male  ...           0.000522             0.000000\n",
       "\n",
       "[5 rows x 11 columns]"
      ]
     },
     "execution_count": 76,
     "metadata": {},
     "output_type": "execute_result"
    }
   ],
   "source": [
    "cb_test.sort_values('male_freq', ascending=False).head()"
   ]
  },
  {
   "cell_type": "code",
   "execution_count": null,
   "metadata": {
    "colab": {
     "base_uri": "https://localhost:8080/",
     "height": 204
    },
    "id": "gODPJ--QgKcI",
    "outputId": "65bdfbc1-e778-494a-feb7-2cad90eb87fd"
   },
   "outputs": [
    {
     "data": {
      "text/html": [
       "<div>\n",
       "<style scoped>\n",
       "    .dataframe tbody tr th:only-of-type {\n",
       "        vertical-align: middle;\n",
       "    }\n",
       "\n",
       "    .dataframe tbody tr th {\n",
       "        vertical-align: top;\n",
       "    }\n",
       "\n",
       "    .dataframe thead th {\n",
       "        text-align: right;\n",
       "    }\n",
       "</style>\n",
       "<table border=\"1\" class=\"dataframe\">\n",
       "  <thead>\n",
       "    <tr style=\"text-align: right;\">\n",
       "      <th></th>\n",
       "      <th>Name</th>\n",
       "      <th>Gender</th>\n",
       "      <th>freq</th>\n",
       "      <th>male_freq</th>\n",
       "      <th>female_freq</th>\n",
       "      <th>first_name</th>\n",
       "      <th>last_name</th>\n",
       "      <th>last_letter</th>\n",
       "      <th>freq_percent</th>\n",
       "      <th>male_freq_percent</th>\n",
       "      <th>female_freq_percent</th>\n",
       "    </tr>\n",
       "  </thead>\n",
       "  <tbody>\n",
       "    <tr>\n",
       "      <th>174258</th>\n",
       "      <td>SUNITA DEVI</td>\n",
       "      <td>Female</td>\n",
       "      <td>494.0</td>\n",
       "      <td>0.0</td>\n",
       "      <td>494.0</td>\n",
       "      <td>sunita</td>\n",
       "      <td>devi</td>\n",
       "      <td>a</td>\n",
       "      <td>0.001270</td>\n",
       "      <td>0.000000</td>\n",
       "      <td>0.001270</td>\n",
       "    </tr>\n",
       "    <tr>\n",
       "      <th>174296</th>\n",
       "      <td>SUNITA</td>\n",
       "      <td>Female</td>\n",
       "      <td>439.0</td>\n",
       "      <td>0.0</td>\n",
       "      <td>439.0</td>\n",
       "      <td>sunita</td>\n",
       "      <td>NaN</td>\n",
       "      <td>a</td>\n",
       "      <td>0.001129</td>\n",
       "      <td>0.000000</td>\n",
       "      <td>0.001129</td>\n",
       "    </tr>\n",
       "    <tr>\n",
       "      <th>189779</th>\n",
       "      <td>SUNITA SHARMA</td>\n",
       "      <td>Female</td>\n",
       "      <td>436.0</td>\n",
       "      <td>1.0</td>\n",
       "      <td>435.0</td>\n",
       "      <td>sunita</td>\n",
       "      <td>sharma</td>\n",
       "      <td>a</td>\n",
       "      <td>0.001121</td>\n",
       "      <td>0.000003</td>\n",
       "      <td>0.001119</td>\n",
       "    </tr>\n",
       "    <tr>\n",
       "      <th>160649</th>\n",
       "      <td>SANTOSH DEVI</td>\n",
       "      <td>Female</td>\n",
       "      <td>410.0</td>\n",
       "      <td>0.0</td>\n",
       "      <td>410.0</td>\n",
       "      <td>santosh</td>\n",
       "      <td>devi</td>\n",
       "      <td>h</td>\n",
       "      <td>0.001054</td>\n",
       "      <td>0.000000</td>\n",
       "      <td>0.001054</td>\n",
       "    </tr>\n",
       "    <tr>\n",
       "      <th>174069</th>\n",
       "      <td>MANJU DEVI</td>\n",
       "      <td>Female</td>\n",
       "      <td>409.0</td>\n",
       "      <td>0.0</td>\n",
       "      <td>409.0</td>\n",
       "      <td>manju</td>\n",
       "      <td>devi</td>\n",
       "      <td>u</td>\n",
       "      <td>0.001052</td>\n",
       "      <td>0.000000</td>\n",
       "      <td>0.001052</td>\n",
       "    </tr>\n",
       "  </tbody>\n",
       "</table>\n",
       "</div>"
      ],
      "text/plain": [
       "                 Name  Gender  ...  male_freq_percent  female_freq_percent\n",
       "174258    SUNITA DEVI  Female  ...           0.000000             0.001270\n",
       "174296         SUNITA  Female  ...           0.000000             0.001129\n",
       "189779  SUNITA SHARMA  Female  ...           0.000003             0.001119\n",
       "160649   SANTOSH DEVI  Female  ...           0.000000             0.001054\n",
       "174069     MANJU DEVI  Female  ...           0.000000             0.001052\n",
       "\n",
       "[5 rows x 11 columns]"
      ]
     },
     "execution_count": 77,
     "metadata": {},
     "output_type": "execute_result"
    }
   ],
   "source": [
    "cb_test.sort_values('female_freq', ascending=False).head()"
   ]
  },
  {
   "cell_type": "code",
   "execution_count": null,
   "metadata": {
    "colab": {
     "base_uri": "https://localhost:8080/",
     "height": 204
    },
    "id": "9hKpTrCwqc6d",
    "outputId": "7e385767-2261-43ce-df50-995726afd593"
   },
   "outputs": [
    {
     "data": {
      "text/html": [
       "<div>\n",
       "<style scoped>\n",
       "    .dataframe tbody tr th:only-of-type {\n",
       "        vertical-align: middle;\n",
       "    }\n",
       "\n",
       "    .dataframe tbody tr th {\n",
       "        vertical-align: top;\n",
       "    }\n",
       "\n",
       "    .dataframe thead th {\n",
       "        text-align: right;\n",
       "    }\n",
       "</style>\n",
       "<table border=\"1\" class=\"dataframe\">\n",
       "  <thead>\n",
       "    <tr style=\"text-align: right;\">\n",
       "      <th></th>\n",
       "      <th>first_name</th>\n",
       "      <th>freq</th>\n",
       "      <th>male_freq</th>\n",
       "      <th>female_freq</th>\n",
       "      <th>freq_percent</th>\n",
       "      <th>male_freq_percent</th>\n",
       "      <th>female_freq_percent</th>\n",
       "    </tr>\n",
       "  </thead>\n",
       "  <tbody>\n",
       "    <tr>\n",
       "      <th>57</th>\n",
       "      <td>sunita</td>\n",
       "      <td>6234.0</td>\n",
       "      <td>2.0</td>\n",
       "      <td>6232.0</td>\n",
       "      <td>0.016032</td>\n",
       "      <td>0.000005</td>\n",
       "      <td>0.016027</td>\n",
       "    </tr>\n",
       "    <tr>\n",
       "      <th>1195</th>\n",
       "      <td>rajesh</td>\n",
       "      <td>4489.0</td>\n",
       "      <td>4271.0</td>\n",
       "      <td>218.0</td>\n",
       "      <td>0.011545</td>\n",
       "      <td>0.010984</td>\n",
       "      <td>0.000561</td>\n",
       "    </tr>\n",
       "    <tr>\n",
       "      <th>240</th>\n",
       "      <td>anita</td>\n",
       "      <td>4400.0</td>\n",
       "      <td>0.0</td>\n",
       "      <td>4400.0</td>\n",
       "      <td>0.011316</td>\n",
       "      <td>0.000000</td>\n",
       "      <td>0.011316</td>\n",
       "    </tr>\n",
       "    <tr>\n",
       "      <th>276</th>\n",
       "      <td>manju</td>\n",
       "      <td>3915.0</td>\n",
       "      <td>1.0</td>\n",
       "      <td>3914.0</td>\n",
       "      <td>0.010069</td>\n",
       "      <td>0.000003</td>\n",
       "      <td>0.010066</td>\n",
       "    </tr>\n",
       "    <tr>\n",
       "      <th>1619</th>\n",
       "      <td>sanjay</td>\n",
       "      <td>3723.0</td>\n",
       "      <td>3708.0</td>\n",
       "      <td>15.0</td>\n",
       "      <td>0.009575</td>\n",
       "      <td>0.009536</td>\n",
       "      <td>0.000039</td>\n",
       "    </tr>\n",
       "  </tbody>\n",
       "</table>\n",
       "</div>"
      ],
      "text/plain": [
       "     first_name    freq  ...  male_freq_percent  female_freq_percent\n",
       "57       sunita  6234.0  ...           0.000005             0.016027\n",
       "1195     rajesh  4489.0  ...           0.010984             0.000561\n",
       "240       anita  4400.0  ...           0.000000             0.011316\n",
       "276       manju  3915.0  ...           0.000003             0.010066\n",
       "1619     sanjay  3723.0  ...           0.009536             0.000039\n",
       "\n",
       "[5 rows x 7 columns]"
      ]
     },
     "execution_count": 78,
     "metadata": {},
     "output_type": "execute_result"
    }
   ],
   "source": [
    "cb_fn.sort_values('freq',ascending =False).head()"
   ]
  },
  {
   "cell_type": "code",
   "execution_count": null,
   "metadata": {
    "colab": {
     "base_uri": "https://localhost:8080/",
     "height": 204
    },
    "id": "QoPsiH9WrKN6",
    "outputId": "4662a4fe-3e16-44df-ee80-a726c9a01cc5"
   },
   "outputs": [
    {
     "data": {
      "text/html": [
       "<div>\n",
       "<style scoped>\n",
       "    .dataframe tbody tr th:only-of-type {\n",
       "        vertical-align: middle;\n",
       "    }\n",
       "\n",
       "    .dataframe tbody tr th {\n",
       "        vertical-align: top;\n",
       "    }\n",
       "\n",
       "    .dataframe thead th {\n",
       "        text-align: right;\n",
       "    }\n",
       "</style>\n",
       "<table border=\"1\" class=\"dataframe\">\n",
       "  <thead>\n",
       "    <tr style=\"text-align: right;\">\n",
       "      <th></th>\n",
       "      <th>first_name</th>\n",
       "      <th>freq</th>\n",
       "      <th>male_freq</th>\n",
       "      <th>female_freq</th>\n",
       "      <th>freq_percent</th>\n",
       "      <th>male_freq_percent</th>\n",
       "      <th>female_freq_percent</th>\n",
       "    </tr>\n",
       "  </thead>\n",
       "  <tbody>\n",
       "    <tr>\n",
       "      <th>57</th>\n",
       "      <td>sunita</td>\n",
       "      <td>6234.0</td>\n",
       "      <td>2.0</td>\n",
       "      <td>6232.0</td>\n",
       "      <td>0.016032</td>\n",
       "      <td>0.000005</td>\n",
       "      <td>0.016027</td>\n",
       "    </tr>\n",
       "    <tr>\n",
       "      <th>240</th>\n",
       "      <td>anita</td>\n",
       "      <td>4400.0</td>\n",
       "      <td>0.0</td>\n",
       "      <td>4400.0</td>\n",
       "      <td>0.011316</td>\n",
       "      <td>0.000000</td>\n",
       "      <td>0.011316</td>\n",
       "    </tr>\n",
       "    <tr>\n",
       "      <th>276</th>\n",
       "      <td>manju</td>\n",
       "      <td>3915.0</td>\n",
       "      <td>1.0</td>\n",
       "      <td>3914.0</td>\n",
       "      <td>0.010069</td>\n",
       "      <td>0.000003</td>\n",
       "      <td>0.010066</td>\n",
       "    </tr>\n",
       "    <tr>\n",
       "      <th>543</th>\n",
       "      <td>seema</td>\n",
       "      <td>3328.0</td>\n",
       "      <td>0.0</td>\n",
       "      <td>3328.0</td>\n",
       "      <td>0.008559</td>\n",
       "      <td>0.000000</td>\n",
       "      <td>0.008559</td>\n",
       "    </tr>\n",
       "    <tr>\n",
       "      <th>174</th>\n",
       "      <td>rekha</td>\n",
       "      <td>3312.0</td>\n",
       "      <td>2.0</td>\n",
       "      <td>3310.0</td>\n",
       "      <td>0.008518</td>\n",
       "      <td>0.000005</td>\n",
       "      <td>0.008513</td>\n",
       "    </tr>\n",
       "  </tbody>\n",
       "</table>\n",
       "</div>"
      ],
      "text/plain": [
       "    first_name    freq  ...  male_freq_percent  female_freq_percent\n",
       "57      sunita  6234.0  ...           0.000005             0.016027\n",
       "240      anita  4400.0  ...           0.000000             0.011316\n",
       "276      manju  3915.0  ...           0.000003             0.010066\n",
       "543      seema  3328.0  ...           0.000000             0.008559\n",
       "174      rekha  3312.0  ...           0.000005             0.008513\n",
       "\n",
       "[5 rows x 7 columns]"
      ]
     },
     "execution_count": 79,
     "metadata": {},
     "output_type": "execute_result"
    }
   ],
   "source": [
    "cb_fn.sort_values('female_freq',ascending =False).head()"
   ]
  },
  {
   "cell_type": "code",
   "execution_count": null,
   "metadata": {
    "colab": {
     "base_uri": "https://localhost:8080/",
     "height": 204
    },
    "id": "VAcOpilxrjRN",
    "outputId": "9ebb78b6-95c1-40be-fe14-104df7744548"
   },
   "outputs": [
    {
     "data": {
      "text/html": [
       "<div>\n",
       "<style scoped>\n",
       "    .dataframe tbody tr th:only-of-type {\n",
       "        vertical-align: middle;\n",
       "    }\n",
       "\n",
       "    .dataframe tbody tr th {\n",
       "        vertical-align: top;\n",
       "    }\n",
       "\n",
       "    .dataframe thead th {\n",
       "        text-align: right;\n",
       "    }\n",
       "</style>\n",
       "<table border=\"1\" class=\"dataframe\">\n",
       "  <thead>\n",
       "    <tr style=\"text-align: right;\">\n",
       "      <th></th>\n",
       "      <th>first_name</th>\n",
       "      <th>freq</th>\n",
       "      <th>male_freq</th>\n",
       "      <th>female_freq</th>\n",
       "      <th>freq_percent</th>\n",
       "      <th>male_freq_percent</th>\n",
       "      <th>female_freq_percent</th>\n",
       "    </tr>\n",
       "  </thead>\n",
       "  <tbody>\n",
       "    <tr>\n",
       "      <th>1195</th>\n",
       "      <td>rajesh</td>\n",
       "      <td>4489.0</td>\n",
       "      <td>4271.0</td>\n",
       "      <td>218.0</td>\n",
       "      <td>0.011545</td>\n",
       "      <td>0.010984</td>\n",
       "      <td>0.000561</td>\n",
       "    </tr>\n",
       "    <tr>\n",
       "      <th>1619</th>\n",
       "      <td>sanjay</td>\n",
       "      <td>3723.0</td>\n",
       "      <td>3708.0</td>\n",
       "      <td>15.0</td>\n",
       "      <td>0.009575</td>\n",
       "      <td>0.009536</td>\n",
       "      <td>0.000039</td>\n",
       "    </tr>\n",
       "    <tr>\n",
       "      <th>5906</th>\n",
       "      <td>ashok</td>\n",
       "      <td>3494.0</td>\n",
       "      <td>3476.0</td>\n",
       "      <td>18.0</td>\n",
       "      <td>0.008986</td>\n",
       "      <td>0.008940</td>\n",
       "      <td>0.000046</td>\n",
       "    </tr>\n",
       "    <tr>\n",
       "      <th>5371</th>\n",
       "      <td>rajendra</td>\n",
       "      <td>3369.0</td>\n",
       "      <td>3354.0</td>\n",
       "      <td>15.0</td>\n",
       "      <td>0.008664</td>\n",
       "      <td>0.008626</td>\n",
       "      <td>0.000039</td>\n",
       "    </tr>\n",
       "    <tr>\n",
       "      <th>2524</th>\n",
       "      <td>anil</td>\n",
       "      <td>3274.0</td>\n",
       "      <td>3261.0</td>\n",
       "      <td>13.0</td>\n",
       "      <td>0.008420</td>\n",
       "      <td>0.008387</td>\n",
       "      <td>0.000033</td>\n",
       "    </tr>\n",
       "  </tbody>\n",
       "</table>\n",
       "</div>"
      ],
      "text/plain": [
       "     first_name    freq  ...  male_freq_percent  female_freq_percent\n",
       "1195     rajesh  4489.0  ...           0.010984             0.000561\n",
       "1619     sanjay  3723.0  ...           0.009536             0.000039\n",
       "5906      ashok  3494.0  ...           0.008940             0.000046\n",
       "5371   rajendra  3369.0  ...           0.008626             0.000039\n",
       "2524       anil  3274.0  ...           0.008387             0.000033\n",
       "\n",
       "[5 rows x 7 columns]"
      ]
     },
     "execution_count": 80,
     "metadata": {},
     "output_type": "execute_result"
    }
   ],
   "source": [
    "cb_fn.sort_values('male_freq',ascending =False).head()"
   ]
  },
  {
   "cell_type": "markdown",
   "metadata": {
    "id": "8KkYBUfQxHq4"
   },
   "source": [
    "Most Popular Surnames - No Gender"
   ]
  },
  {
   "cell_type": "code",
   "execution_count": null,
   "metadata": {
    "colab": {
     "base_uri": "https://localhost:8080/",
     "height": 669
    },
    "id": "SEv-GLBJxK63",
    "outputId": "74c59d4a-bd67-40ed-99ea-1ed91578f009"
   },
   "outputs": [
    {
     "data": {
      "text/html": [
       "<div>\n",
       "<style scoped>\n",
       "    .dataframe tbody tr th:only-of-type {\n",
       "        vertical-align: middle;\n",
       "    }\n",
       "\n",
       "    .dataframe tbody tr th {\n",
       "        vertical-align: top;\n",
       "    }\n",
       "\n",
       "    .dataframe thead th {\n",
       "        text-align: right;\n",
       "    }\n",
       "</style>\n",
       "<table border=\"1\" class=\"dataframe\">\n",
       "  <thead>\n",
       "    <tr style=\"text-align: right;\">\n",
       "      <th></th>\n",
       "      <th>last_name</th>\n",
       "      <th>freq</th>\n",
       "      <th>freq_percent</th>\n",
       "    </tr>\n",
       "  </thead>\n",
       "  <tbody>\n",
       "    <tr>\n",
       "      <th>287</th>\n",
       "      <td>sharma</td>\n",
       "      <td>21020.0</td>\n",
       "      <td>0.057047</td>\n",
       "    </tr>\n",
       "    <tr>\n",
       "      <th>219</th>\n",
       "      <td>singh</td>\n",
       "      <td>19867.0</td>\n",
       "      <td>0.053918</td>\n",
       "    </tr>\n",
       "    <tr>\n",
       "      <th>483</th>\n",
       "      <td>devi</td>\n",
       "      <td>17928.0</td>\n",
       "      <td>0.048656</td>\n",
       "    </tr>\n",
       "    <tr>\n",
       "      <th>1</th>\n",
       "      <td>jain</td>\n",
       "      <td>15309.0</td>\n",
       "      <td>0.041548</td>\n",
       "    </tr>\n",
       "    <tr>\n",
       "      <th>214</th>\n",
       "      <td>gupta</td>\n",
       "      <td>10099.0</td>\n",
       "      <td>0.027408</td>\n",
       "    </tr>\n",
       "    <tr>\n",
       "      <th>217</th>\n",
       "      <td>yadav</td>\n",
       "      <td>6730.0</td>\n",
       "      <td>0.018265</td>\n",
       "    </tr>\n",
       "    <tr>\n",
       "      <th>379</th>\n",
       "      <td>agrawal</td>\n",
       "      <td>4515.0</td>\n",
       "      <td>0.012254</td>\n",
       "    </tr>\n",
       "    <tr>\n",
       "      <th>952</th>\n",
       "      <td>kumar</td>\n",
       "      <td>4401.0</td>\n",
       "      <td>0.011944</td>\n",
       "    </tr>\n",
       "    <tr>\n",
       "      <th>326</th>\n",
       "      <td>soni</td>\n",
       "      <td>4268.0</td>\n",
       "      <td>0.011583</td>\n",
       "    </tr>\n",
       "    <tr>\n",
       "      <th>208</th>\n",
       "      <td>agarwal</td>\n",
       "      <td>4251.0</td>\n",
       "      <td>0.011537</td>\n",
       "    </tr>\n",
       "    <tr>\n",
       "      <th>75</th>\n",
       "      <td>meena</td>\n",
       "      <td>4196.0</td>\n",
       "      <td>0.011388</td>\n",
       "    </tr>\n",
       "    <tr>\n",
       "      <th>28</th>\n",
       "      <td>patel</td>\n",
       "      <td>3768.0</td>\n",
       "      <td>0.010226</td>\n",
       "    </tr>\n",
       "    <tr>\n",
       "      <th>259</th>\n",
       "      <td>verma</td>\n",
       "      <td>3583.0</td>\n",
       "      <td>0.009724</td>\n",
       "    </tr>\n",
       "    <tr>\n",
       "      <th>272</th>\n",
       "      <td>choudhary</td>\n",
       "      <td>3578.0</td>\n",
       "      <td>0.009711</td>\n",
       "    </tr>\n",
       "    <tr>\n",
       "      <th>210</th>\n",
       "      <td>mishra</td>\n",
       "      <td>3561.0</td>\n",
       "      <td>0.009664</td>\n",
       "    </tr>\n",
       "    <tr>\n",
       "      <th>632</th>\n",
       "      <td>tiwari</td>\n",
       "      <td>3553.0</td>\n",
       "      <td>0.009643</td>\n",
       "    </tr>\n",
       "    <tr>\n",
       "      <th>557</th>\n",
       "      <td>khan</td>\n",
       "      <td>3102.0</td>\n",
       "      <td>0.008419</td>\n",
       "    </tr>\n",
       "    <tr>\n",
       "      <th>908</th>\n",
       "      <td>kanwar</td>\n",
       "      <td>3048.0</td>\n",
       "      <td>0.008272</td>\n",
       "    </tr>\n",
       "    <tr>\n",
       "      <th>222</th>\n",
       "      <td>rathore</td>\n",
       "      <td>2966.0</td>\n",
       "      <td>0.008050</td>\n",
       "    </tr>\n",
       "    <tr>\n",
       "      <th>638</th>\n",
       "      <td>goyal</td>\n",
       "      <td>2339.0</td>\n",
       "      <td>0.006348</td>\n",
       "    </tr>\n",
       "  </tbody>\n",
       "</table>\n",
       "</div>"
      ],
      "text/plain": [
       "     last_name     freq  freq_percent\n",
       "287     sharma  21020.0      0.057047\n",
       "219      singh  19867.0      0.053918\n",
       "483       devi  17928.0      0.048656\n",
       "1         jain  15309.0      0.041548\n",
       "214      gupta  10099.0      0.027408\n",
       "217      yadav   6730.0      0.018265\n",
       "379    agrawal   4515.0      0.012254\n",
       "952      kumar   4401.0      0.011944\n",
       "326       soni   4268.0      0.011583\n",
       "208    agarwal   4251.0      0.011537\n",
       "75       meena   4196.0      0.011388\n",
       "28       patel   3768.0      0.010226\n",
       "259      verma   3583.0      0.009724\n",
       "272  choudhary   3578.0      0.009711\n",
       "210     mishra   3561.0      0.009664\n",
       "632     tiwari   3553.0      0.009643\n",
       "557       khan   3102.0      0.008419\n",
       "908     kanwar   3048.0      0.008272\n",
       "222    rathore   2966.0      0.008050\n",
       "638      goyal   2339.0      0.006348"
      ]
     },
     "execution_count": 81,
     "metadata": {},
     "output_type": "execute_result"
    }
   ],
   "source": [
    "cb_ln.sort_values('freq', ascending=False).head(20)"
   ]
  },
  {
   "cell_type": "code",
   "execution_count": null,
   "metadata": {
    "colab": {
     "base_uri": "https://localhost:8080/"
    },
    "id": "19HjmgG6F9Nf",
    "outputId": "49ba33d4-2750-454b-9fb9-769066c02cc3"
   },
   "outputs": [
    {
     "name": "stdout",
     "output_type": "stream",
     "text": [
      "Requirement already satisfied: wordcloud in /usr/local/lib/python3.7/dist-packages (1.5.0)\n",
      "Requirement already satisfied: pillow in /usr/local/lib/python3.7/dist-packages (from wordcloud) (7.1.2)\n",
      "Requirement already satisfied: numpy>=1.6.1 in /usr/local/lib/python3.7/dist-packages (from wordcloud) (1.19.5)\n"
     ]
    }
   ],
   "source": [
    "!pip install wordcloud"
   ]
  },
  {
   "cell_type": "code",
   "execution_count": null,
   "metadata": {
    "colab": {
     "base_uri": "https://localhost:8080/",
     "height": 198
    },
    "id": "Plkc_EAHGQ1Q",
    "outputId": "46dc499f-a35d-42e8-c195-fbe252343f7a"
   },
   "outputs": [
    {
     "data": {
      "image/png": "[encoded data removed]",
      "text/plain": [
       "<Figure size 432x288 with 1 Axes>"
      ]
     },
     "metadata": {
      "needs_background": "light"
     },
     "output_type": "display_data"
    }
   ],
   "source": [
    "ln = cb_ln.groupby('last_name').sum()['freq']\n",
    "d = dict(ln)\n",
    "\n",
    "import matplotlib.pyplot as plt\n",
    "from wordcloud import WordCloud\n",
    "\n",
    "wordcloud = WordCloud(background_color=\"white\")\n",
    "wordcloud.generate_from_frequencies(frequencies=d)\n",
    "plt.figure()\n",
    "plt.imshow(wordcloud, interpolation=\"bilinear\")\n",
    "plt.axis(\"off\")\n",
    "plt.show()"
   ]
  },
  {
   "cell_type": "markdown",
   "metadata": {
    "id": "LH0uD9zXgT5A"
   },
   "source": [
    "Most Frequent common names - parents data\n"
   ]
  },
  {
   "cell_type": "code",
   "execution_count": null,
   "metadata": {
    "colab": {
     "base_uri": "https://localhost:8080/",
     "height": 419
    },
    "id": "J7E-T4m3hg73",
    "outputId": "8844f01c-e80e-4a8b-f646-9096d699d85b"
   },
   "outputs": [
    {
     "data": {
      "text/html": [
       "<div>\n",
       "<style scoped>\n",
       "    .dataframe tbody tr th:only-of-type {\n",
       "        vertical-align: middle;\n",
       "    }\n",
       "\n",
       "    .dataframe tbody tr th {\n",
       "        vertical-align: top;\n",
       "    }\n",
       "\n",
       "    .dataframe thead th {\n",
       "        text-align: right;\n",
       "    }\n",
       "</style>\n",
       "<table border=\"1\" class=\"dataframe\">\n",
       "  <thead>\n",
       "    <tr style=\"text-align: right;\">\n",
       "      <th></th>\n",
       "      <th>Name</th>\n",
       "      <th>Gender</th>\n",
       "      <th>freq</th>\n",
       "      <th>male_freq</th>\n",
       "      <th>female_freq</th>\n",
       "      <th>first_name</th>\n",
       "      <th>last_name</th>\n",
       "      <th>last_letter</th>\n",
       "      <th>freq_percent</th>\n",
       "      <th>male_freq_percent</th>\n",
       "      <th>female_freq_percent</th>\n",
       "    </tr>\n",
       "  </thead>\n",
       "  <tbody>\n",
       "    <tr>\n",
       "      <th>189779</th>\n",
       "      <td>SUNITA SHARMA</td>\n",
       "      <td>Female</td>\n",
       "      <td>436.0</td>\n",
       "      <td>1.0</td>\n",
       "      <td>435.0</td>\n",
       "      <td>sunita</td>\n",
       "      <td>sharma</td>\n",
       "      <td>a</td>\n",
       "      <td>0.001121</td>\n",
       "      <td>0.000003</td>\n",
       "      <td>0.001119</td>\n",
       "    </tr>\n",
       "    <tr>\n",
       "      <th>174213</th>\n",
       "      <td>GEETA DEVI</td>\n",
       "      <td>Female</td>\n",
       "      <td>363.0</td>\n",
       "      <td>1.0</td>\n",
       "      <td>362.0</td>\n",
       "      <td>geeta</td>\n",
       "      <td>devi</td>\n",
       "      <td>a</td>\n",
       "      <td>0.000934</td>\n",
       "      <td>0.000003</td>\n",
       "      <td>0.000931</td>\n",
       "    </tr>\n",
       "    <tr>\n",
       "      <th>173880</th>\n",
       "      <td>SUNITA JAIN</td>\n",
       "      <td>Female</td>\n",
       "      <td>336.0</td>\n",
       "      <td>1.0</td>\n",
       "      <td>335.0</td>\n",
       "      <td>sunita</td>\n",
       "      <td>jain</td>\n",
       "      <td>a</td>\n",
       "      <td>0.000864</td>\n",
       "      <td>0.000003</td>\n",
       "      <td>0.000862</td>\n",
       "    </tr>\n",
       "    <tr>\n",
       "      <th>236126</th>\n",
       "      <td>SANTOSH</td>\n",
       "      <td>Female</td>\n",
       "      <td>275.0</td>\n",
       "      <td>52.0</td>\n",
       "      <td>223.0</td>\n",
       "      <td>santosh</td>\n",
       "      <td>NaN</td>\n",
       "      <td>h</td>\n",
       "      <td>0.000707</td>\n",
       "      <td>0.000134</td>\n",
       "      <td>0.000574</td>\n",
       "    </tr>\n",
       "    <tr>\n",
       "      <th>174057</th>\n",
       "      <td>SUMAN DEVI</td>\n",
       "      <td>Female</td>\n",
       "      <td>244.0</td>\n",
       "      <td>1.0</td>\n",
       "      <td>243.0</td>\n",
       "      <td>suman</td>\n",
       "      <td>devi</td>\n",
       "      <td>n</td>\n",
       "      <td>0.000628</td>\n",
       "      <td>0.000003</td>\n",
       "      <td>0.000625</td>\n",
       "    </tr>\n",
       "    <tr>\n",
       "      <th>...</th>\n",
       "      <td>...</td>\n",
       "      <td>...</td>\n",
       "      <td>...</td>\n",
       "      <td>...</td>\n",
       "      <td>...</td>\n",
       "      <td>...</td>\n",
       "      <td>...</td>\n",
       "      <td>...</td>\n",
       "      <td>...</td>\n",
       "      <td>...</td>\n",
       "      <td>...</td>\n",
       "    </tr>\n",
       "    <tr>\n",
       "      <th>157871</th>\n",
       "      <td>NIRMAL SINGHAL</td>\n",
       "      <td>Female</td>\n",
       "      <td>2.0</td>\n",
       "      <td>1.0</td>\n",
       "      <td>1.0</td>\n",
       "      <td>nirmal</td>\n",
       "      <td>singhal</td>\n",
       "      <td>l</td>\n",
       "      <td>0.000005</td>\n",
       "      <td>0.000003</td>\n",
       "      <td>0.000003</td>\n",
       "    </tr>\n",
       "    <tr>\n",
       "      <th>158627</th>\n",
       "      <td>AMAN AGRAWAL</td>\n",
       "      <td>Female</td>\n",
       "      <td>2.0</td>\n",
       "      <td>1.0</td>\n",
       "      <td>1.0</td>\n",
       "      <td>aman</td>\n",
       "      <td>agrawal</td>\n",
       "      <td>n</td>\n",
       "      <td>0.000005</td>\n",
       "      <td>0.000003</td>\n",
       "      <td>0.000003</td>\n",
       "    </tr>\n",
       "    <tr>\n",
       "      <th>159578</th>\n",
       "      <td>KHURSHEED</td>\n",
       "      <td>Female</td>\n",
       "      <td>2.0</td>\n",
       "      <td>1.0</td>\n",
       "      <td>1.0</td>\n",
       "      <td>khursheed</td>\n",
       "      <td>NaN</td>\n",
       "      <td>d</td>\n",
       "      <td>0.000005</td>\n",
       "      <td>0.000003</td>\n",
       "      <td>0.000003</td>\n",
       "    </tr>\n",
       "    <tr>\n",
       "      <th>55648</th>\n",
       "      <td>SMITA CHOKSHI</td>\n",
       "      <td>Female</td>\n",
       "      <td>2.0</td>\n",
       "      <td>1.0</td>\n",
       "      <td>1.0</td>\n",
       "      <td>smita</td>\n",
       "      <td>chokshi</td>\n",
       "      <td>i</td>\n",
       "      <td>0.000005</td>\n",
       "      <td>0.000003</td>\n",
       "      <td>0.000003</td>\n",
       "    </tr>\n",
       "    <tr>\n",
       "      <th>221687</th>\n",
       "      <td>NaN</td>\n",
       "      <td>Female</td>\n",
       "      <td>NaN</td>\n",
       "      <td>NaN</td>\n",
       "      <td>NaN</td>\n",
       "      <td>nan</td>\n",
       "      <td>NaN</td>\n",
       "      <td>n</td>\n",
       "      <td>NaN</td>\n",
       "      <td>NaN</td>\n",
       "      <td>NaN</td>\n",
       "    </tr>\n",
       "  </tbody>\n",
       "</table>\n",
       "<p>1001 rows × 11 columns</p>\n",
       "</div>"
      ],
      "text/plain": [
       "                  Name  Gender  ...  male_freq_percent  female_freq_percent\n",
       "189779   SUNITA SHARMA  Female  ...           0.000003             0.001119\n",
       "174213      GEETA DEVI  Female  ...           0.000003             0.000931\n",
       "173880     SUNITA JAIN  Female  ...           0.000003             0.000862\n",
       "236126         SANTOSH  Female  ...           0.000134             0.000574\n",
       "174057      SUMAN DEVI  Female  ...           0.000003             0.000625\n",
       "...                ...     ...  ...                ...                  ...\n",
       "157871  NIRMAL SINGHAL  Female  ...           0.000003             0.000003\n",
       "158627    AMAN AGRAWAL  Female  ...           0.000003             0.000003\n",
       "159578       KHURSHEED  Female  ...           0.000003             0.000003\n",
       "55648    SMITA CHOKSHI  Female  ...           0.000003             0.000003\n",
       "221687             NaN  Female  ...                NaN                  NaN\n",
       "\n",
       "[1001 rows x 11 columns]"
      ]
     },
     "execution_count": 84,
     "metadata": {},
     "output_type": "execute_result"
    }
   ],
   "source": [
    "common = cb_test[~((cb_test['male_freq']==0.0) | (cb_test['female_freq']==0.))]\n",
    "common.sort_values('freq', ascending=False)"
   ]
  },
  {
   "cell_type": "code",
   "execution_count": null,
   "metadata": {
    "colab": {
     "base_uri": "https://localhost:8080/",
     "height": 419
    },
    "id": "RGYPc2rG0MwW",
    "outputId": "24aa284e-eead-426c-d8be-3e9f59755bee"
   },
   "outputs": [
    {
     "data": {
      "text/html": [
       "<div>\n",
       "<style scoped>\n",
       "    .dataframe tbody tr th:only-of-type {\n",
       "        vertical-align: middle;\n",
       "    }\n",
       "\n",
       "    .dataframe tbody tr th {\n",
       "        vertical-align: top;\n",
       "    }\n",
       "\n",
       "    .dataframe thead th {\n",
       "        text-align: right;\n",
       "    }\n",
       "</style>\n",
       "<table border=\"1\" class=\"dataframe\">\n",
       "  <thead>\n",
       "    <tr style=\"text-align: right;\">\n",
       "      <th></th>\n",
       "      <th>first_name</th>\n",
       "      <th>freq</th>\n",
       "      <th>male_freq</th>\n",
       "      <th>female_freq</th>\n",
       "      <th>freq_percent</th>\n",
       "      <th>male_freq_percent</th>\n",
       "      <th>female_freq_percent</th>\n",
       "    </tr>\n",
       "  </thead>\n",
       "  <tbody>\n",
       "    <tr>\n",
       "      <th>57</th>\n",
       "      <td>sunita</td>\n",
       "      <td>6234.0</td>\n",
       "      <td>2.0</td>\n",
       "      <td>6232.0</td>\n",
       "      <td>0.016032</td>\n",
       "      <td>0.000005</td>\n",
       "      <td>0.016027</td>\n",
       "    </tr>\n",
       "    <tr>\n",
       "      <th>1195</th>\n",
       "      <td>rajesh</td>\n",
       "      <td>4489.0</td>\n",
       "      <td>4271.0</td>\n",
       "      <td>218.0</td>\n",
       "      <td>0.011545</td>\n",
       "      <td>0.010984</td>\n",
       "      <td>0.000561</td>\n",
       "    </tr>\n",
       "    <tr>\n",
       "      <th>276</th>\n",
       "      <td>manju</td>\n",
       "      <td>3915.0</td>\n",
       "      <td>1.0</td>\n",
       "      <td>3914.0</td>\n",
       "      <td>0.010069</td>\n",
       "      <td>0.000003</td>\n",
       "      <td>0.010066</td>\n",
       "    </tr>\n",
       "    <tr>\n",
       "      <th>1619</th>\n",
       "      <td>sanjay</td>\n",
       "      <td>3723.0</td>\n",
       "      <td>3708.0</td>\n",
       "      <td>15.0</td>\n",
       "      <td>0.009575</td>\n",
       "      <td>0.009536</td>\n",
       "      <td>0.000039</td>\n",
       "    </tr>\n",
       "    <tr>\n",
       "      <th>5906</th>\n",
       "      <td>ashok</td>\n",
       "      <td>3494.0</td>\n",
       "      <td>3476.0</td>\n",
       "      <td>18.0</td>\n",
       "      <td>0.008986</td>\n",
       "      <td>0.008940</td>\n",
       "      <td>0.000046</td>\n",
       "    </tr>\n",
       "    <tr>\n",
       "      <th>...</th>\n",
       "      <td>...</td>\n",
       "      <td>...</td>\n",
       "      <td>...</td>\n",
       "      <td>...</td>\n",
       "      <td>...</td>\n",
       "      <td>...</td>\n",
       "      <td>...</td>\n",
       "    </tr>\n",
       "    <tr>\n",
       "      <th>1459</th>\n",
       "      <td>niklesh</td>\n",
       "      <td>2.0</td>\n",
       "      <td>1.0</td>\n",
       "      <td>1.0</td>\n",
       "      <td>0.000005</td>\n",
       "      <td>0.000003</td>\n",
       "      <td>0.000003</td>\n",
       "    </tr>\n",
       "    <tr>\n",
       "      <th>8419</th>\n",
       "      <td>ani</td>\n",
       "      <td>2.0</td>\n",
       "      <td>1.0</td>\n",
       "      <td>1.0</td>\n",
       "      <td>0.000005</td>\n",
       "      <td>0.000003</td>\n",
       "      <td>0.000003</td>\n",
       "    </tr>\n",
       "    <tr>\n",
       "      <th>8420</th>\n",
       "      <td>dhira</td>\n",
       "      <td>2.0</td>\n",
       "      <td>1.0</td>\n",
       "      <td>1.0</td>\n",
       "      <td>0.000005</td>\n",
       "      <td>0.000003</td>\n",
       "      <td>0.000003</td>\n",
       "    </tr>\n",
       "    <tr>\n",
       "      <th>4760</th>\n",
       "      <td>mehender</td>\n",
       "      <td>2.0</td>\n",
       "      <td>1.0</td>\n",
       "      <td>1.0</td>\n",
       "      <td>0.000005</td>\n",
       "      <td>0.000003</td>\n",
       "      <td>0.000003</td>\n",
       "    </tr>\n",
       "    <tr>\n",
       "      <th>22586</th>\n",
       "      <td>shivlini</td>\n",
       "      <td>2.0</td>\n",
       "      <td>1.0</td>\n",
       "      <td>1.0</td>\n",
       "      <td>0.000005</td>\n",
       "      <td>0.000003</td>\n",
       "      <td>0.000003</td>\n",
       "    </tr>\n",
       "  </tbody>\n",
       "</table>\n",
       "<p>2136 rows × 7 columns</p>\n",
       "</div>"
      ],
      "text/plain": [
       "      first_name    freq  ...  male_freq_percent  female_freq_percent\n",
       "57        sunita  6234.0  ...           0.000005             0.016027\n",
       "1195      rajesh  4489.0  ...           0.010984             0.000561\n",
       "276        manju  3915.0  ...           0.000003             0.010066\n",
       "1619      sanjay  3723.0  ...           0.009536             0.000039\n",
       "5906       ashok  3494.0  ...           0.008940             0.000046\n",
       "...          ...     ...  ...                ...                  ...\n",
       "1459     niklesh     2.0  ...           0.000003             0.000003\n",
       "8419         ani     2.0  ...           0.000003             0.000003\n",
       "8420       dhira     2.0  ...           0.000003             0.000003\n",
       "4760    mehender     2.0  ...           0.000003             0.000003\n",
       "22586   shivlini     2.0  ...           0.000003             0.000003\n",
       "\n",
       "[2136 rows x 7 columns]"
      ]
     },
     "execution_count": 96,
     "metadata": {},
     "output_type": "execute_result"
    }
   ],
   "source": [
    "common = cb_fn[~((cb_fn['male_freq']==0.0) | (cb_fn['female_freq']==0.))]\n",
    "common.sort_values('freq', ascending=False)"
   ]
  },
  {
   "cell_type": "markdown",
   "metadata": {
    "id": "FxmWE8B08_ep"
   },
   "source": [
    "Studetns data"
   ]
  },
  {
   "cell_type": "code",
   "execution_count": null,
   "metadata": {
    "colab": {
     "base_uri": "https://localhost:8080/",
     "height": 389
    },
    "id": "OCIPnMRXhaRi",
    "outputId": "17afa0f8-5039-403b-f337-601e46840a91"
   },
   "outputs": [
    {
     "data": {
      "text/html": [
       "<div>\n",
       "<style scoped>\n",
       "    .dataframe tbody tr th:only-of-type {\n",
       "        vertical-align: middle;\n",
       "    }\n",
       "\n",
       "    .dataframe tbody tr th {\n",
       "        vertical-align: top;\n",
       "    }\n",
       "\n",
       "    .dataframe thead th {\n",
       "        text-align: right;\n",
       "    }\n",
       "</style>\n",
       "<table border=\"1\" class=\"dataframe\">\n",
       "  <thead>\n",
       "    <tr style=\"text-align: right;\">\n",
       "      <th></th>\n",
       "      <th>Unnamed: 0</th>\n",
       "      <th>roll_no</th>\n",
       "      <th>name</th>\n",
       "      <th>mother_name</th>\n",
       "      <th>father_name</th>\n",
       "      <th>result</th>\n",
       "      <th>ENGLISH CORE.sub_code</th>\n",
       "      <th>ENGLISH CORE.sub_name</th>\n",
       "      <th>ENGLISH CORE.theory</th>\n",
       "      <th>ENGLISH CORE.marks</th>\n",
       "      <th>ENGLISH CORE.grade</th>\n",
       "      <th>ECONOMICS.sub_code</th>\n",
       "      <th>ECONOMICS.sub_name</th>\n",
       "      <th>ECONOMICS.theory</th>\n",
       "      <th>ECONOMICS.marks</th>\n",
       "      <th>ECONOMICS.grade</th>\n",
       "      <th>MATHEMATICS.sub_code</th>\n",
       "      <th>MATHEMATICS.sub_name</th>\n",
       "      <th>MATHEMATICS.theory</th>\n",
       "      <th>MATHEMATICS.marks</th>\n",
       "      <th>MATHEMATICS.grade</th>\n",
       "      <th>BUSINESS STUDIES.sub_code</th>\n",
       "      <th>BUSINESS STUDIES.sub_name</th>\n",
       "      <th>BUSINESS STUDIES.theory</th>\n",
       "      <th>BUSINESS STUDIES.practical</th>\n",
       "      <th>BUSINESS STUDIES.marks</th>\n",
       "      <th>BUSINESS STUDIES.grade</th>\n",
       "      <th>ACCOUNTANCY.sub_code</th>\n",
       "      <th>ACCOUNTANCY.sub_name</th>\n",
       "      <th>ACCOUNTANCY.theory</th>\n",
       "      <th>ACCOUNTANCY.practical</th>\n",
       "      <th>ACCOUNTANCY.marks</th>\n",
       "      <th>ACCOUNTANCY.grade</th>\n",
       "      <th>WORK EXPERIENCE.sub_code</th>\n",
       "      <th>WORK EXPERIENCE.sub_name</th>\n",
       "      <th>WORK EXPERIENCE.grade</th>\n",
       "      <th>PHY &amp; HEALTH EDUCA.sub_code</th>\n",
       "      <th>PHY &amp; HEALTH EDUCA.sub_name</th>\n",
       "      <th>PHY &amp; HEALTH EDUCA.grade</th>\n",
       "      <th>GENERAL STUDIES.sub_code</th>\n",
       "      <th>...</th>\n",
       "      <th>FOOD PRODUCTIONIII.theory</th>\n",
       "      <th>FOOD PRODUCTIONIII.practical</th>\n",
       "      <th>FOOD PRODUCTIONIII.marks</th>\n",
       "      <th>FOOD PRODUCTIONIII.grade</th>\n",
       "      <th>FOOD PRODUCTION IV.sub_code</th>\n",
       "      <th>FOOD PRODUCTION IV.sub_name</th>\n",
       "      <th>FOOD PRODUCTION IV.theory</th>\n",
       "      <th>FOOD PRODUCTION IV.practical</th>\n",
       "      <th>FOOD PRODUCTION IV.marks</th>\n",
       "      <th>FOOD PRODUCTION IV.grade</th>\n",
       "      <th>EVOL &amp; FORMS M M.sub_code</th>\n",
       "      <th>EVOL &amp; FORMS M M.sub_name</th>\n",
       "      <th>EVOL &amp; FORMS M M.theory</th>\n",
       "      <th>EVOL &amp; FORMS M M.practical</th>\n",
       "      <th>EVOL &amp; FORMS M M.marks</th>\n",
       "      <th>EVOL &amp; FORMS M M.grade</th>\n",
       "      <th>CRTV &amp;COM.PROC M M.sub_code</th>\n",
       "      <th>CRTV &amp;COM.PROC M M.sub_name</th>\n",
       "      <th>CRTV &amp;COM.PROC M M.theory</th>\n",
       "      <th>CRTV &amp;COM.PROC M M.practical</th>\n",
       "      <th>CRTV &amp;COM.PROC M M.marks</th>\n",
       "      <th>CRTV &amp;COM.PROC M M.grade</th>\n",
       "      <th>LGSTCS,OPER&amp;SUP CH.sub_code</th>\n",
       "      <th>LGSTCS,OPER&amp;SUP CH.sub_name</th>\n",
       "      <th>LGSTCS,OPER&amp;SUP CH.theory</th>\n",
       "      <th>LGSTCS,OPER&amp;SUP CH.practical</th>\n",
       "      <th>LGSTCS,OPER&amp;SUP CH.marks</th>\n",
       "      <th>LGSTCS,OPER&amp;SUP CH.grade</th>\n",
       "      <th>B CONCEPT-H &amp;MED T.sub_code</th>\n",
       "      <th>B CONCEPT-H &amp;MED T.sub_name</th>\n",
       "      <th>B CONCEPT-H &amp;MED T.theory</th>\n",
       "      <th>B CONCEPT-H &amp;MED T.practical</th>\n",
       "      <th>B CONCEPT-H &amp;MED T.marks</th>\n",
       "      <th>B CONCEPT-H &amp;MED T.grade</th>\n",
       "      <th>F.AID&amp; EMER.M.CARE.sub_code</th>\n",
       "      <th>F.AID&amp; EMER.M.CARE.sub_name</th>\n",
       "      <th>F.AID&amp; EMER.M.CARE.theory</th>\n",
       "      <th>F.AID&amp; EMER.M.CARE.practical</th>\n",
       "      <th>F.AID&amp; EMER.M.CARE.marks</th>\n",
       "      <th>F.AID&amp; EMER.M.CARE.grade</th>\n",
       "    </tr>\n",
       "  </thead>\n",
       "  <tbody>\n",
       "    <tr>\n",
       "      <th>0</th>\n",
       "      <td>0</td>\n",
       "      <td>1610001</td>\n",
       "      <td>PRIYA DIWAN</td>\n",
       "      <td>RAJSHREE DIWAN</td>\n",
       "      <td>PARESHKUMAR DIWAN</td>\n",
       "      <td>PASS</td>\n",
       "      <td>301</td>\n",
       "      <td>ENGLISH CORE</td>\n",
       "      <td>95.0</td>\n",
       "      <td>95.0</td>\n",
       "      <td>A1</td>\n",
       "      <td>030</td>\n",
       "      <td>ECONOMICS</td>\n",
       "      <td>94.0</td>\n",
       "      <td>94.0</td>\n",
       "      <td>A1</td>\n",
       "      <td>041</td>\n",
       "      <td>MATHEMATICS</td>\n",
       "      <td>90.0</td>\n",
       "      <td>90.0</td>\n",
       "      <td>A2</td>\n",
       "      <td>054</td>\n",
       "      <td>BUSINESS STUDIES</td>\n",
       "      <td>75.0</td>\n",
       "      <td>19.0</td>\n",
       "      <td>94.0</td>\n",
       "      <td>A2</td>\n",
       "      <td>055</td>\n",
       "      <td>ACCOUNTANCY</td>\n",
       "      <td>75.0</td>\n",
       "      <td>19.0</td>\n",
       "      <td>94.0</td>\n",
       "      <td>A1</td>\n",
       "      <td>500</td>\n",
       "      <td>WORK EXPERIENCE</td>\n",
       "      <td>A1</td>\n",
       "      <td>502</td>\n",
       "      <td>PHY &amp; HEALTH EDUCA</td>\n",
       "      <td>B1</td>\n",
       "      <td>503</td>\n",
       "      <td>...</td>\n",
       "      <td>NaN</td>\n",
       "      <td>NaN</td>\n",
       "      <td>NaN</td>\n",
       "      <td>NaN</td>\n",
       "      <td>NaN</td>\n",
       "      <td>NaN</td>\n",
       "      <td>NaN</td>\n",
       "      <td>NaN</td>\n",
       "      <td>NaN</td>\n",
       "      <td>NaN</td>\n",
       "      <td>NaN</td>\n",
       "      <td>NaN</td>\n",
       "      <td>NaN</td>\n",
       "      <td>NaN</td>\n",
       "      <td>NaN</td>\n",
       "      <td>NaN</td>\n",
       "      <td>NaN</td>\n",
       "      <td>NaN</td>\n",
       "      <td>NaN</td>\n",
       "      <td>NaN</td>\n",
       "      <td>NaN</td>\n",
       "      <td>NaN</td>\n",
       "      <td>NaN</td>\n",
       "      <td>NaN</td>\n",
       "      <td>NaN</td>\n",
       "      <td>NaN</td>\n",
       "      <td>NaN</td>\n",
       "      <td>NaN</td>\n",
       "      <td>NaN</td>\n",
       "      <td>NaN</td>\n",
       "      <td>NaN</td>\n",
       "      <td>NaN</td>\n",
       "      <td>NaN</td>\n",
       "      <td>NaN</td>\n",
       "      <td>NaN</td>\n",
       "      <td>NaN</td>\n",
       "      <td>NaN</td>\n",
       "      <td>NaN</td>\n",
       "      <td>NaN</td>\n",
       "      <td>NaN</td>\n",
       "    </tr>\n",
       "    <tr>\n",
       "      <th>1</th>\n",
       "      <td>1</td>\n",
       "      <td>1610002</td>\n",
       "      <td>AKSHITA JAIN</td>\n",
       "      <td>JYOTHI JAIN</td>\n",
       "      <td>HEMENDRA JAIN</td>\n",
       "      <td>PASS</td>\n",
       "      <td>301</td>\n",
       "      <td>ENGLISH CORE</td>\n",
       "      <td>91.0</td>\n",
       "      <td>91.0</td>\n",
       "      <td>A2</td>\n",
       "      <td>030</td>\n",
       "      <td>ECONOMICS</td>\n",
       "      <td>80.0</td>\n",
       "      <td>80.0</td>\n",
       "      <td>A2</td>\n",
       "      <td>NaN</td>\n",
       "      <td>NaN</td>\n",
       "      <td>NaN</td>\n",
       "      <td>NaN</td>\n",
       "      <td>NaN</td>\n",
       "      <td>054</td>\n",
       "      <td>BUSINESS STUDIES</td>\n",
       "      <td>75.0</td>\n",
       "      <td>20.0</td>\n",
       "      <td>95.0</td>\n",
       "      <td>A1</td>\n",
       "      <td>055</td>\n",
       "      <td>ACCOUNTANCY</td>\n",
       "      <td>72.0</td>\n",
       "      <td>20.0</td>\n",
       "      <td>92.0</td>\n",
       "      <td>A2</td>\n",
       "      <td>500</td>\n",
       "      <td>WORK EXPERIENCE</td>\n",
       "      <td>A1</td>\n",
       "      <td>502</td>\n",
       "      <td>PHY &amp; HEALTH EDUCA</td>\n",
       "      <td>A1</td>\n",
       "      <td>503</td>\n",
       "      <td>...</td>\n",
       "      <td>NaN</td>\n",
       "      <td>NaN</td>\n",
       "      <td>NaN</td>\n",
       "      <td>NaN</td>\n",
       "      <td>NaN</td>\n",
       "      <td>NaN</td>\n",
       "      <td>NaN</td>\n",
       "      <td>NaN</td>\n",
       "      <td>NaN</td>\n",
       "      <td>NaN</td>\n",
       "      <td>NaN</td>\n",
       "      <td>NaN</td>\n",
       "      <td>NaN</td>\n",
       "      <td>NaN</td>\n",
       "      <td>NaN</td>\n",
       "      <td>NaN</td>\n",
       "      <td>NaN</td>\n",
       "      <td>NaN</td>\n",
       "      <td>NaN</td>\n",
       "      <td>NaN</td>\n",
       "      <td>NaN</td>\n",
       "      <td>NaN</td>\n",
       "      <td>NaN</td>\n",
       "      <td>NaN</td>\n",
       "      <td>NaN</td>\n",
       "      <td>NaN</td>\n",
       "      <td>NaN</td>\n",
       "      <td>NaN</td>\n",
       "      <td>NaN</td>\n",
       "      <td>NaN</td>\n",
       "      <td>NaN</td>\n",
       "      <td>NaN</td>\n",
       "      <td>NaN</td>\n",
       "      <td>NaN</td>\n",
       "      <td>NaN</td>\n",
       "      <td>NaN</td>\n",
       "      <td>NaN</td>\n",
       "      <td>NaN</td>\n",
       "      <td>NaN</td>\n",
       "      <td>NaN</td>\n",
       "    </tr>\n",
       "    <tr>\n",
       "      <th>2</th>\n",
       "      <td>2</td>\n",
       "      <td>1610003</td>\n",
       "      <td>NIDHI JAIN</td>\n",
       "      <td>NITU JAIN</td>\n",
       "      <td>DINESH JAIN</td>\n",
       "      <td>PASS</td>\n",
       "      <td>301</td>\n",
       "      <td>ENGLISH CORE</td>\n",
       "      <td>79.0</td>\n",
       "      <td>79.0</td>\n",
       "      <td>B2</td>\n",
       "      <td>030</td>\n",
       "      <td>ECONOMICS</td>\n",
       "      <td>46.0</td>\n",
       "      <td>46.0</td>\n",
       "      <td>C2</td>\n",
       "      <td>NaN</td>\n",
       "      <td>NaN</td>\n",
       "      <td>NaN</td>\n",
       "      <td>NaN</td>\n",
       "      <td>NaN</td>\n",
       "      <td>054</td>\n",
       "      <td>BUSINESS STUDIES</td>\n",
       "      <td>41.0</td>\n",
       "      <td>17.0</td>\n",
       "      <td>58.0</td>\n",
       "      <td>D1</td>\n",
       "      <td>055</td>\n",
       "      <td>ACCOUNTANCY</td>\n",
       "      <td>47.0</td>\n",
       "      <td>13.0</td>\n",
       "      <td>60.0</td>\n",
       "      <td>C2</td>\n",
       "      <td>500</td>\n",
       "      <td>WORK EXPERIENCE</td>\n",
       "      <td>B1</td>\n",
       "      <td>502</td>\n",
       "      <td>PHY &amp; HEALTH EDUCA</td>\n",
       "      <td>B2</td>\n",
       "      <td>503</td>\n",
       "      <td>...</td>\n",
       "      <td>NaN</td>\n",
       "      <td>NaN</td>\n",
       "      <td>NaN</td>\n",
       "      <td>NaN</td>\n",
       "      <td>NaN</td>\n",
       "      <td>NaN</td>\n",
       "      <td>NaN</td>\n",
       "      <td>NaN</td>\n",
       "      <td>NaN</td>\n",
       "      <td>NaN</td>\n",
       "      <td>NaN</td>\n",
       "      <td>NaN</td>\n",
       "      <td>NaN</td>\n",
       "      <td>NaN</td>\n",
       "      <td>NaN</td>\n",
       "      <td>NaN</td>\n",
       "      <td>NaN</td>\n",
       "      <td>NaN</td>\n",
       "      <td>NaN</td>\n",
       "      <td>NaN</td>\n",
       "      <td>NaN</td>\n",
       "      <td>NaN</td>\n",
       "      <td>NaN</td>\n",
       "      <td>NaN</td>\n",
       "      <td>NaN</td>\n",
       "      <td>NaN</td>\n",
       "      <td>NaN</td>\n",
       "      <td>NaN</td>\n",
       "      <td>NaN</td>\n",
       "      <td>NaN</td>\n",
       "      <td>NaN</td>\n",
       "      <td>NaN</td>\n",
       "      <td>NaN</td>\n",
       "      <td>NaN</td>\n",
       "      <td>NaN</td>\n",
       "      <td>NaN</td>\n",
       "      <td>NaN</td>\n",
       "      <td>NaN</td>\n",
       "      <td>NaN</td>\n",
       "      <td>NaN</td>\n",
       "    </tr>\n",
       "    <tr>\n",
       "      <th>3</th>\n",
       "      <td>3</td>\n",
       "      <td>1610004</td>\n",
       "      <td>SAMIKSHA JAIN</td>\n",
       "      <td>SARIKA JAIN</td>\n",
       "      <td>SUNDER JAIN</td>\n",
       "      <td>PASS</td>\n",
       "      <td>301</td>\n",
       "      <td>ENGLISH CORE</td>\n",
       "      <td>95.0</td>\n",
       "      <td>95.0</td>\n",
       "      <td>A1</td>\n",
       "      <td>030</td>\n",
       "      <td>ECONOMICS</td>\n",
       "      <td>95.0</td>\n",
       "      <td>95.0</td>\n",
       "      <td>A1</td>\n",
       "      <td>041</td>\n",
       "      <td>MATHEMATICS</td>\n",
       "      <td>85.0</td>\n",
       "      <td>85.0</td>\n",
       "      <td>A2</td>\n",
       "      <td>054</td>\n",
       "      <td>BUSINESS STUDIES</td>\n",
       "      <td>75.0</td>\n",
       "      <td>20.0</td>\n",
       "      <td>95.0</td>\n",
       "      <td>A1</td>\n",
       "      <td>055</td>\n",
       "      <td>ACCOUNTANCY</td>\n",
       "      <td>77.0</td>\n",
       "      <td>20.0</td>\n",
       "      <td>97.0</td>\n",
       "      <td>A1</td>\n",
       "      <td>500</td>\n",
       "      <td>WORK EXPERIENCE</td>\n",
       "      <td>A1</td>\n",
       "      <td>502</td>\n",
       "      <td>PHY &amp; HEALTH EDUCA</td>\n",
       "      <td>A2</td>\n",
       "      <td>503</td>\n",
       "      <td>...</td>\n",
       "      <td>NaN</td>\n",
       "      <td>NaN</td>\n",
       "      <td>NaN</td>\n",
       "      <td>NaN</td>\n",
       "      <td>NaN</td>\n",
       "      <td>NaN</td>\n",
       "      <td>NaN</td>\n",
       "      <td>NaN</td>\n",
       "      <td>NaN</td>\n",
       "      <td>NaN</td>\n",
       "      <td>NaN</td>\n",
       "      <td>NaN</td>\n",
       "      <td>NaN</td>\n",
       "      <td>NaN</td>\n",
       "      <td>NaN</td>\n",
       "      <td>NaN</td>\n",
       "      <td>NaN</td>\n",
       "      <td>NaN</td>\n",
       "      <td>NaN</td>\n",
       "      <td>NaN</td>\n",
       "      <td>NaN</td>\n",
       "      <td>NaN</td>\n",
       "      <td>NaN</td>\n",
       "      <td>NaN</td>\n",
       "      <td>NaN</td>\n",
       "      <td>NaN</td>\n",
       "      <td>NaN</td>\n",
       "      <td>NaN</td>\n",
       "      <td>NaN</td>\n",
       "      <td>NaN</td>\n",
       "      <td>NaN</td>\n",
       "      <td>NaN</td>\n",
       "      <td>NaN</td>\n",
       "      <td>NaN</td>\n",
       "      <td>NaN</td>\n",
       "      <td>NaN</td>\n",
       "      <td>NaN</td>\n",
       "      <td>NaN</td>\n",
       "      <td>NaN</td>\n",
       "      <td>NaN</td>\n",
       "    </tr>\n",
       "    <tr>\n",
       "      <th>4</th>\n",
       "      <td>4</td>\n",
       "      <td>1610005</td>\n",
       "      <td>NISHI JOSHINA</td>\n",
       "      <td>KETKI JOSHINA</td>\n",
       "      <td>ANAND JOSHINA</td>\n",
       "      <td>PASS</td>\n",
       "      <td>301</td>\n",
       "      <td>ENGLISH CORE</td>\n",
       "      <td>83.0</td>\n",
       "      <td>83.0</td>\n",
       "      <td>B1</td>\n",
       "      <td>030</td>\n",
       "      <td>ECONOMICS</td>\n",
       "      <td>95.0</td>\n",
       "      <td>95.0</td>\n",
       "      <td>A1</td>\n",
       "      <td>NaN</td>\n",
       "      <td>NaN</td>\n",
       "      <td>NaN</td>\n",
       "      <td>NaN</td>\n",
       "      <td>NaN</td>\n",
       "      <td>054</td>\n",
       "      <td>BUSINESS STUDIES</td>\n",
       "      <td>75.0</td>\n",
       "      <td>19.0</td>\n",
       "      <td>94.0</td>\n",
       "      <td>A2</td>\n",
       "      <td>055</td>\n",
       "      <td>ACCOUNTANCY</td>\n",
       "      <td>71.0</td>\n",
       "      <td>20.0</td>\n",
       "      <td>91.0</td>\n",
       "      <td>A2</td>\n",
       "      <td>500</td>\n",
       "      <td>WORK EXPERIENCE</td>\n",
       "      <td>A2</td>\n",
       "      <td>502</td>\n",
       "      <td>PHY &amp; HEALTH EDUCA</td>\n",
       "      <td>B2</td>\n",
       "      <td>503</td>\n",
       "      <td>...</td>\n",
       "      <td>NaN</td>\n",
       "      <td>NaN</td>\n",
       "      <td>NaN</td>\n",
       "      <td>NaN</td>\n",
       "      <td>NaN</td>\n",
       "      <td>NaN</td>\n",
       "      <td>NaN</td>\n",
       "      <td>NaN</td>\n",
       "      <td>NaN</td>\n",
       "      <td>NaN</td>\n",
       "      <td>NaN</td>\n",
       "      <td>NaN</td>\n",
       "      <td>NaN</td>\n",
       "      <td>NaN</td>\n",
       "      <td>NaN</td>\n",
       "      <td>NaN</td>\n",
       "      <td>NaN</td>\n",
       "      <td>NaN</td>\n",
       "      <td>NaN</td>\n",
       "      <td>NaN</td>\n",
       "      <td>NaN</td>\n",
       "      <td>NaN</td>\n",
       "      <td>NaN</td>\n",
       "      <td>NaN</td>\n",
       "      <td>NaN</td>\n",
       "      <td>NaN</td>\n",
       "      <td>NaN</td>\n",
       "      <td>NaN</td>\n",
       "      <td>NaN</td>\n",
       "      <td>NaN</td>\n",
       "      <td>NaN</td>\n",
       "      <td>NaN</td>\n",
       "      <td>NaN</td>\n",
       "      <td>NaN</td>\n",
       "      <td>NaN</td>\n",
       "      <td>NaN</td>\n",
       "      <td>NaN</td>\n",
       "      <td>NaN</td>\n",
       "      <td>NaN</td>\n",
       "      <td>NaN</td>\n",
       "    </tr>\n",
       "  </tbody>\n",
       "</table>\n",
       "<p>5 rows × 424 columns</p>\n",
       "</div>"
      ],
      "text/plain": [
       "  Unnamed: 0  roll_no  ... F.AID& EMER.M.CARE.marks F.AID& EMER.M.CARE.grade\n",
       "0          0  1610001  ...                      NaN                      NaN\n",
       "1          1  1610002  ...                      NaN                      NaN\n",
       "2          2  1610003  ...                      NaN                      NaN\n",
       "3          3  1610004  ...                      NaN                      NaN\n",
       "4          4  1610005  ...                      NaN                      NaN\n",
       "\n",
       "[5 rows x 424 columns]"
      ]
     },
     "execution_count": 99,
     "metadata": {},
     "output_type": "execute_result"
    }
   ],
   "source": [
    "cb4.head()"
   ]
  },
  {
   "cell_type": "code",
   "execution_count": null,
   "metadata": {
    "colab": {
     "base_uri": "https://localhost:8080/"
    },
    "id": "1roZyhl-iEoh",
    "outputId": "9c7c2c3b-34ae-421f-bb99-027408072ea4"
   },
   "outputs": [
    {
     "data": {
      "text/plain": [
       "(74098, 402)"
      ]
     },
     "execution_count": 100,
     "metadata": {},
     "output_type": "execute_result"
    }
   ],
   "source": [
    "cb5[cb5['result']=='PASS'].shape"
   ]
  },
  {
   "cell_type": "code",
   "execution_count": null,
   "metadata": {
    "colab": {
     "base_uri": "https://localhost:8080/"
    },
    "id": "wJd8fPtPiKFb",
    "outputId": "f661d403-1fed-46fb-fc74-4dafd6aada03"
   },
   "outputs": [
    {
     "data": {
      "text/plain": [
       "(93019, 402)"
      ]
     },
     "execution_count": 101,
     "metadata": {},
     "output_type": "execute_result"
    }
   ],
   "source": [
    "cb5.shape"
   ]
  },
  {
   "cell_type": "code",
   "execution_count": null,
   "metadata": {
    "colab": {
     "base_uri": "https://localhost:8080/"
    },
    "id": "9Tx_5cl6iMOS",
    "outputId": "3365c1d7-fd2b-4de1-acd8-16fdecb0b856"
   },
   "outputs": [
    {
     "data": {
      "text/plain": [
       "(79365, 424)"
      ]
     },
     "execution_count": 102,
     "metadata": {},
     "output_type": "execute_result"
    }
   ],
   "source": [
    "cb4[cb4['result']=='PASS'].shape"
   ]
  },
  {
   "cell_type": "code",
   "execution_count": null,
   "metadata": {
    "colab": {
     "base_uri": "https://localhost:8080/"
    },
    "id": "YKjaFeHLiPqt",
    "outputId": "c7beac74-f50e-43e7-a9ed-550e78da9a68"
   },
   "outputs": [
    {
     "data": {
      "text/plain": [
       "(101404, 424)"
      ]
     },
     "execution_count": 103,
     "metadata": {},
     "output_type": "execute_result"
    }
   ],
   "source": [
    "cb4.shape"
   ]
  },
  {
   "cell_type": "code",
   "execution_count": null,
   "metadata": {
    "id": "JHFzfbInebOe"
   },
   "outputs": [],
   "source": [
    "cb = pd.concat([cb4, cb5], ignore_index=True)"
   ]
  },
  {
   "cell_type": "code",
   "execution_count": null,
   "metadata": {
    "colab": {
     "base_uri": "https://localhost:8080/"
    },
    "id": "BzY_gZrniCcK",
    "outputId": "cafa3429-387d-4305-acc6-50f3e2c96170"
   },
   "outputs": [
    {
     "name": "stderr",
     "output_type": "stream",
     "text": [
      "/usr/local/lib/python3.7/dist-packages/ipykernel_launcher.py:27: SettingWithCopyWarning: \n",
      "A value is trying to be set on a copy of a slice from a DataFrame\n",
      "\n",
      "See the caveats in the documentation: https://pandas.pydata.org/pandas-docs/stable/user_guide/indexing.html#returning-a-view-versus-a-copy\n"
     ]
    }
   ],
   "source": [
    "import math\n",
    "\n",
    "marks_col = []\n",
    "for col in cb.columns:\n",
    "    if \"marks\" in col:\n",
    "        marks_col.append(col)\n",
    "        \n",
    "# print(marks_col)\n",
    "\n",
    "# Get student names and marks\n",
    "c4_scores = pd.DataFrame()\n",
    "cb4p = cb4[cb4['result']=='PASS']\n",
    "c4_scores['Name'] = cb4p['name']\n",
    "c4_scores['Marks'] = 0.0\n",
    "for index, row in cb4p.iterrows():\n",
    "    count = 0\n",
    "    score = 0\n",
    "    # print(row.index)\n",
    "    for col in marks_col:\n",
    "        if col in row.index and math.isnan(float(row[col])) == False:\n",
    "            count = count+1\n",
    "            score = score + float(row[col])\n",
    "    if count == 0:\n",
    "        avg = 0\n",
    "    else:\n",
    "        avg = score/count\n",
    "    c4_scores['Marks'][index] = avg "
   ]
  },
  {
   "cell_type": "code",
   "execution_count": null,
   "metadata": {
    "colab": {
     "base_uri": "https://localhost:8080/"
    },
    "id": "PNzdb0eE9Adm",
    "outputId": "87a58563-bc94-423a-ce6b-7c5dd972b751"
   },
   "outputs": [
    {
     "name": "stderr",
     "output_type": "stream",
     "text": [
      "/usr/local/lib/python3.7/dist-packages/ipykernel_launcher.py:27: SettingWithCopyWarning: \n",
      "A value is trying to be set on a copy of a slice from a DataFrame\n",
      "\n",
      "See the caveats in the documentation: https://pandas.pydata.org/pandas-docs/stable/user_guide/indexing.html#returning-a-view-versus-a-copy\n"
     ]
    }
   ],
   "source": [
    "import math\n",
    "\n",
    "marks_col = []\n",
    "for col in cb.columns:\n",
    "    if \"marks\" in col:\n",
    "        marks_col.append(col)\n",
    "        \n",
    "# print(marks_col)\n",
    "\n",
    "# Get student names and marks\n",
    "c5_scores = pd.DataFrame()\n",
    "cb5p = cb5[cb5['result']=='PASS']\n",
    "c5_scores['Name'] = cb5p['name']\n",
    "c5_scores['Marks'] = 0.0\n",
    "for index, row in cb5p.iterrows():\n",
    "    count = 0\n",
    "    score = 0\n",
    "    # print(row.index)\n",
    "    for col in marks_col:\n",
    "        if col in row.index and math.isnan(float(row[col])) == False:\n",
    "            count = count+1\n",
    "            score = score + float(row[col])\n",
    "    if count == 0:\n",
    "        avg = 0\n",
    "    else:\n",
    "        avg = score/count\n",
    "    c5_scores['Marks'][index] = avg "
   ]
  },
  {
   "cell_type": "code",
   "execution_count": null,
   "metadata": {
    "colab": {
     "base_uri": "https://localhost:8080/"
    },
    "id": "jgibDD9Hhsci",
    "outputId": "fa74acd0-6c80-4ee8-953b-31cba3fedad0"
   },
   "outputs": [
    {
     "name": "stdout",
     "output_type": "stream",
     "text": [
      "(79365, 2)\n",
      "(74098, 2)\n"
     ]
    }
   ],
   "source": [
    "print(c4_scores.shape)\n",
    "print(c5_scores.shape)"
   ]
  },
  {
   "cell_type": "code",
   "execution_count": null,
   "metadata": {
    "colab": {
     "base_uri": "https://localhost:8080/",
     "height": 206
    },
    "id": "DCcjuWZLkSNe",
    "outputId": "cfc69491-9339-4b80-c37d-dfcdb4bf4afa"
   },
   "outputs": [
    {
     "data": {
      "text/html": [
       "<div>\n",
       "<style scoped>\n",
       "    .dataframe tbody tr th:only-of-type {\n",
       "        vertical-align: middle;\n",
       "    }\n",
       "\n",
       "    .dataframe tbody tr th {\n",
       "        vertical-align: top;\n",
       "    }\n",
       "\n",
       "    .dataframe thead th {\n",
       "        text-align: right;\n",
       "    }\n",
       "</style>\n",
       "<table border=\"1\" class=\"dataframe\">\n",
       "  <thead>\n",
       "    <tr style=\"text-align: right;\">\n",
       "      <th></th>\n",
       "      <th>Name</th>\n",
       "      <th>Marks</th>\n",
       "    </tr>\n",
       "  </thead>\n",
       "  <tbody>\n",
       "    <tr>\n",
       "      <th>0</th>\n",
       "      <td>PRIYA DIWAN</td>\n",
       "      <td>93.4</td>\n",
       "    </tr>\n",
       "    <tr>\n",
       "      <th>1</th>\n",
       "      <td>AKSHITA JAIN</td>\n",
       "      <td>89.8</td>\n",
       "    </tr>\n",
       "    <tr>\n",
       "      <th>2</th>\n",
       "      <td>NIDHI JAIN</td>\n",
       "      <td>63.6</td>\n",
       "    </tr>\n",
       "    <tr>\n",
       "      <th>3</th>\n",
       "      <td>SAMIKSHA JAIN</td>\n",
       "      <td>93.4</td>\n",
       "    </tr>\n",
       "    <tr>\n",
       "      <th>4</th>\n",
       "      <td>NISHI JOSHINA</td>\n",
       "      <td>88.8</td>\n",
       "    </tr>\n",
       "  </tbody>\n",
       "</table>\n",
       "</div>"
      ],
      "text/plain": [
       "            Name  Marks\n",
       "0    PRIYA DIWAN   93.4\n",
       "1   AKSHITA JAIN   89.8\n",
       "2     NIDHI JAIN   63.6\n",
       "3  SAMIKSHA JAIN   93.4\n",
       "4  NISHI JOSHINA   88.8"
      ]
     },
     "execution_count": 16,
     "metadata": {},
     "output_type": "execute_result"
    }
   ],
   "source": [
    "c4_scores.head()"
   ]
  },
  {
   "cell_type": "code",
   "execution_count": null,
   "metadata": {
    "colab": {
     "base_uri": "https://localhost:8080/",
     "height": 206
    },
    "id": "O_lKLtIdkT5h",
    "outputId": "0b4805d9-c429-4950-f595-a79dffde4c05"
   },
   "outputs": [
    {
     "data": {
      "text/html": [
       "<div>\n",
       "<style scoped>\n",
       "    .dataframe tbody tr th:only-of-type {\n",
       "        vertical-align: middle;\n",
       "    }\n",
       "\n",
       "    .dataframe tbody tr th {\n",
       "        vertical-align: top;\n",
       "    }\n",
       "\n",
       "    .dataframe thead th {\n",
       "        text-align: right;\n",
       "    }\n",
       "</style>\n",
       "<table border=\"1\" class=\"dataframe\">\n",
       "  <thead>\n",
       "    <tr style=\"text-align: right;\">\n",
       "      <th></th>\n",
       "      <th>Name</th>\n",
       "      <th>Marks</th>\n",
       "    </tr>\n",
       "  </thead>\n",
       "  <tbody>\n",
       "    <tr>\n",
       "      <th>2</th>\n",
       "      <td>NARESH HIMMATMAL MALVIYA</td>\n",
       "      <td>95.8</td>\n",
       "    </tr>\n",
       "    <tr>\n",
       "      <th>3</th>\n",
       "      <td>NIKHIL KISHOR TOKE</td>\n",
       "      <td>58.8</td>\n",
       "    </tr>\n",
       "    <tr>\n",
       "      <th>4</th>\n",
       "      <td>RAHUL RAMPRAKASH SINGH</td>\n",
       "      <td>73.2</td>\n",
       "    </tr>\n",
       "    <tr>\n",
       "      <th>5</th>\n",
       "      <td>SAURABH SURESH DHUMAL</td>\n",
       "      <td>62.2</td>\n",
       "    </tr>\n",
       "    <tr>\n",
       "      <th>6</th>\n",
       "      <td>TARUN BABUBHAI SODVADIYA</td>\n",
       "      <td>62.2</td>\n",
       "    </tr>\n",
       "  </tbody>\n",
       "</table>\n",
       "</div>"
      ],
      "text/plain": [
       "                       Name  Marks\n",
       "2  NARESH HIMMATMAL MALVIYA   95.8\n",
       "3        NIKHIL KISHOR TOKE   58.8\n",
       "4    RAHUL RAMPRAKASH SINGH   73.2\n",
       "5     SAURABH SURESH DHUMAL   62.2\n",
       "6  TARUN BABUBHAI SODVADIYA   62.2"
      ]
     },
     "execution_count": 17,
     "metadata": {},
     "output_type": "execute_result"
    }
   ],
   "source": [
    "c5_scores.head()"
   ]
  },
  {
   "cell_type": "code",
   "execution_count": null,
   "metadata": {
    "colab": {
     "base_uri": "https://localhost:8080/",
     "height": 295
    },
    "id": "YIXOnRCJhyfL",
    "outputId": "d38a82f4-2f32-4ce5-f926-4e02814595fc"
   },
   "outputs": [
    {
     "data": {
      "image/png": "[encoded data removed]",
      "text/plain": [
       "<Figure size 432x288 with 1 Axes>"
      ]
     },
     "metadata": {
      "needs_background": "light"
     },
     "output_type": "display_data"
    }
   ],
   "source": [
    "# plot the count based on buckets\n",
    "ranges = [30,40,50,60,70,80,90,100]\n",
    "l1 = c5_scores.groupby(pd.cut(c5_scores.Marks, ranges)).count()\n",
    "l2 = c4_scores.groupby(pd.cut(c4_scores.Marks, ranges)).count()\n",
    "\n",
    "X_axis = np.arange(len(ranges[1:]))\n",
    "\n",
    "plt.bar(X_axis - 0.1, list(l1.Name),0.2 , label = '2015')\n",
    "plt.bar(X_axis + 0.1, list(l2.Name),0.2 ,label = '2014')\n",
    "\n",
    "plt.xticks(X_axis, ranges[1:])\n",
    "plt.xlabel(\"Marks Range\")\n",
    "plt.ylabel(\"Number of PASS Students\")\n",
    "plt.title(\"Marks distribution in CBSE Sample collected\")\n",
    "plt.legend()\n",
    "plt.show()"
   ]
  },
  {
   "cell_type": "code",
   "execution_count": null,
   "metadata": {
    "id": "NIFgVhaykBCs"
   },
   "outputs": [],
   "source": [
    "def extract_last_name(df, col):\n",
    "  df = df.reset_index(drop=True)\n",
    "  df['last_name'] = np.nan\n",
    "  for i in range(len(list(df[col]))):\n",
    "    name = df[col].loc[i]\n",
    "    first_name = name.split(' ')[0]\n",
    "    # name = name.split(' ')[1:]\n",
    "    if len(name.split(' ')) > 1:\n",
    "      last_name = name.split(' ')[-1]\n",
    "    else:\n",
    "      last_name = np.nan\n",
    "    df['last_name'].loc[i] = last_name\n",
    "  return df"
   ]
  },
  {
   "cell_type": "code",
   "execution_count": null,
   "metadata": {
    "colab": {
     "base_uri": "https://localhost:8080/"
    },
    "id": "DacHBmaomCIo",
    "outputId": "5350efc1-88b3-47ca-de1b-8c3d3e421f6a"
   },
   "outputs": [
    {
     "name": "stderr",
     "output_type": "stream",
     "text": [
      "/usr/local/lib/python3.7/dist-packages/pandas/core/indexing.py:670: SettingWithCopyWarning: \n",
      "A value is trying to be set on a copy of a slice from a DataFrame\n",
      "\n",
      "See the caveats in the documentation: https://pandas.pydata.org/pandas-docs/stable/user_guide/indexing.html#returning-a-view-versus-a-copy\n",
      "  iloc._setitem_with_indexer(indexer, value)\n"
     ]
    }
   ],
   "source": [
    "c5_scores = extract_last_name(c5_scores, 'Name')"
   ]
  },
  {
   "cell_type": "code",
   "execution_count": null,
   "metadata": {
    "colab": {
     "base_uri": "https://localhost:8080/",
     "height": 359
    },
    "id": "Cn-I3L70msW_",
    "outputId": "e83631a7-5af9-42f4-f30b-9cd232d68558"
   },
   "outputs": [
    {
     "data": {
      "text/html": [
       "<div>\n",
       "<style scoped>\n",
       "    .dataframe tbody tr th:only-of-type {\n",
       "        vertical-align: middle;\n",
       "    }\n",
       "\n",
       "    .dataframe tbody tr th {\n",
       "        vertical-align: top;\n",
       "    }\n",
       "\n",
       "    .dataframe thead th {\n",
       "        text-align: right;\n",
       "    }\n",
       "</style>\n",
       "<table border=\"1\" class=\"dataframe\">\n",
       "  <thead>\n",
       "    <tr style=\"text-align: right;\">\n",
       "      <th></th>\n",
       "      <th>Name</th>\n",
       "      <th>Marks</th>\n",
       "      <th>last_name</th>\n",
       "    </tr>\n",
       "  </thead>\n",
       "  <tbody>\n",
       "    <tr>\n",
       "      <th>0</th>\n",
       "      <td>NARESH HIMMATMAL MALVIYA</td>\n",
       "      <td>95.8</td>\n",
       "      <td>MALVIYA</td>\n",
       "    </tr>\n",
       "    <tr>\n",
       "      <th>1</th>\n",
       "      <td>NIKHIL KISHOR TOKE</td>\n",
       "      <td>58.8</td>\n",
       "      <td>TOKE</td>\n",
       "    </tr>\n",
       "    <tr>\n",
       "      <th>2</th>\n",
       "      <td>RAHUL RAMPRAKASH SINGH</td>\n",
       "      <td>73.2</td>\n",
       "      <td>SINGH</td>\n",
       "    </tr>\n",
       "    <tr>\n",
       "      <th>3</th>\n",
       "      <td>SAURABH SURESH DHUMAL</td>\n",
       "      <td>62.2</td>\n",
       "      <td>DHUMAL</td>\n",
       "    </tr>\n",
       "    <tr>\n",
       "      <th>4</th>\n",
       "      <td>TARUN BABUBHAI SODVADIYA</td>\n",
       "      <td>62.2</td>\n",
       "      <td>SODVADIYA</td>\n",
       "    </tr>\n",
       "    <tr>\n",
       "      <th>5</th>\n",
       "      <td>URVIL PARESH PRAJAPATI</td>\n",
       "      <td>55.0</td>\n",
       "      <td>PRAJAPATI</td>\n",
       "    </tr>\n",
       "    <tr>\n",
       "      <th>6</th>\n",
       "      <td>VISHAL RAJENDRA SHARMA</td>\n",
       "      <td>60.2</td>\n",
       "      <td>SHARMA</td>\n",
       "    </tr>\n",
       "    <tr>\n",
       "      <th>7</th>\n",
       "      <td>AAKASH DHIRUBHAI PATEL</td>\n",
       "      <td>72.6</td>\n",
       "      <td>PATEL</td>\n",
       "    </tr>\n",
       "    <tr>\n",
       "      <th>8</th>\n",
       "      <td>BHAKTI KAILESH DAVDA</td>\n",
       "      <td>71.8</td>\n",
       "      <td>DAVDA</td>\n",
       "    </tr>\n",
       "    <tr>\n",
       "      <th>9</th>\n",
       "      <td>DIGMA NAVINCHANDRA PATEL</td>\n",
       "      <td>80.8</td>\n",
       "      <td>PATEL</td>\n",
       "    </tr>\n",
       "  </tbody>\n",
       "</table>\n",
       "</div>"
      ],
      "text/plain": [
       "                       Name  Marks  last_name\n",
       "0  NARESH HIMMATMAL MALVIYA   95.8    MALVIYA\n",
       "1        NIKHIL KISHOR TOKE   58.8       TOKE\n",
       "2    RAHUL RAMPRAKASH SINGH   73.2      SINGH\n",
       "3     SAURABH SURESH DHUMAL   62.2     DHUMAL\n",
       "4  TARUN BABUBHAI SODVADIYA   62.2  SODVADIYA\n",
       "5    URVIL PARESH PRAJAPATI   55.0  PRAJAPATI\n",
       "6    VISHAL RAJENDRA SHARMA   60.2     SHARMA\n",
       "7    AAKASH DHIRUBHAI PATEL   72.6      PATEL\n",
       "8      BHAKTI KAILESH DAVDA   71.8      DAVDA\n",
       "9  DIGMA NAVINCHANDRA PATEL   80.8      PATEL"
      ]
     },
     "execution_count": 127,
     "metadata": {},
     "output_type": "execute_result"
    }
   ],
   "source": [
    "c5_scores.head(10)"
   ]
  },
  {
   "cell_type": "code",
   "execution_count": null,
   "metadata": {
    "colab": {
     "base_uri": "https://localhost:8080/"
    },
    "id": "SlPfvBmvhEGv",
    "outputId": "449185d8-a708-40a0-bf89-b276dd5ddabf"
   },
   "outputs": [
    {
     "data": {
      "text/plain": [
       "last_name\n",
       "AMIR        97.40\n",
       "KHARB       97.25\n",
       "MAHRSEE     97.25\n",
       "TARTE       97.20\n",
       "DIGGI       97.00\n",
       "            ...  \n",
       "GUNDIYA     33.00\n",
       "RISHIT      33.00\n",
       "GULHANE     33.00\n",
       "AMRE        33.00\n",
       "KAROSIYA    33.00\n",
       "Name: Marks, Length: 9340, dtype: float64"
      ]
     },
     "execution_count": 126,
     "metadata": {},
     "output_type": "execute_result"
    }
   ],
   "source": [
    "sur_names = c5_scores.groupby('last_name')\n",
    "scores = sur_names['Marks'].agg(np.mean)\n",
    "scores.sort_values(ascending = False)"
   ]
  },
  {
   "cell_type": "code",
   "execution_count": null,
   "metadata": {
    "colab": {
     "base_uri": "https://localhost:8080/"
    },
    "id": "amh312uLm4d6",
    "outputId": "a43f3c1a-df7e-4463-f3ed-bef73b9f022e"
   },
   "outputs": [
    {
     "data": {
      "text/plain": [
       "(9340,)"
      ]
     },
     "execution_count": 133,
     "metadata": {},
     "output_type": "execute_result"
    }
   ],
   "source": [
    "scores.shape"
   ]
  },
  {
   "cell_type": "code",
   "execution_count": null,
   "metadata": {
    "colab": {
     "base_uri": "https://localhost:8080/",
     "height": 198
    },
    "id": "Y_PSY5MSlpyl",
    "outputId": "cd800840-cc62-4ea5-8d7e-563cb39e822d"
   },
   "outputs": [
    {
     "data": {
      "image/png": "[encoded data removed]",
      "text/plain": [
       "<Figure size 432x288 with 1 Axes>"
      ]
     },
     "metadata": {
      "needs_background": "light"
     },
     "output_type": "display_data"
    }
   ],
   "source": [
    "# ln = cb_ln.groupby('last_name').sum()['freq']\n",
    "d = dict(scores[:3110])\n",
    "\n",
    "import matplotlib.pyplot as plt\n",
    "from wordcloud import WordCloud\n",
    "\n",
    "wordcloud = WordCloud(background_color=\"white\")\n",
    "wordcloud.generate_from_frequencies(frequencies=d)\n",
    "plt.figure()\n",
    "plt.imshow(wordcloud, interpolation=\"bilinear\")\n",
    "plt.axis(\"off\")\n",
    "plt.show()"
   ]
  },
  {
   "cell_type": "code",
   "execution_count": null,
   "metadata": {
    "colab": {
     "base_uri": "https://localhost:8080/",
     "height": 198
    },
    "id": "r6xQrikKnJDH",
    "outputId": "0d2a4d5e-49d9-4b1f-976a-9ad64366f3ae"
   },
   "outputs": [
    {
     "data": {
      "image/png": "[encoded data removed]",
      "text/plain": [
       "<Figure size 432x288 with 1 Axes>"
      ]
     },
     "metadata": {
      "needs_background": "light"
     },
     "output_type": "display_data"
    }
   ],
   "source": [
    "d = dict(scores[3110:6220])\n",
    "\n",
    "import matplotlib.pyplot as plt\n",
    "from wordcloud import WordCloud\n",
    "\n",
    "wordcloud = WordCloud(background_color=\"white\")\n",
    "wordcloud.generate_from_frequencies(frequencies=d)\n",
    "plt.figure()\n",
    "plt.imshow(wordcloud, interpolation=\"bilinear\")\n",
    "plt.axis(\"off\")\n",
    "plt.show()"
   ]
  },
  {
   "cell_type": "code",
   "execution_count": null,
   "metadata": {
    "colab": {
     "base_uri": "https://localhost:8080/",
     "height": 198
    },
    "id": "vPwbgBBkntpB",
    "outputId": "ff783334-1364-448a-8ae4-9b657ac84efd"
   },
   "outputs": [
    {
     "data": {
      "image/png": "[encoded data removed]",
      "text/plain": [
       "<Figure size 432x288 with 1 Axes>"
      ]
     },
     "metadata": {
      "needs_background": "light"
     },
     "output_type": "display_data"
    }
   ],
   "source": [
    "d = dict(scores[6220:])\n",
    "\n",
    "import matplotlib.pyplot as plt\n",
    "from wordcloud import WordCloud\n",
    "\n",
    "wordcloud = WordCloud(background_color=\"white\")\n",
    "wordcloud.generate_from_frequencies(frequencies=d)\n",
    "plt.figure()\n",
    "plt.imshow(wordcloud, interpolation=\"bilinear\")\n",
    "plt.axis(\"off\")\n",
    "plt.show()"
   ]
  },
  {
   "cell_type": "code",
   "execution_count": null,
   "metadata": {
    "id": "2ibAaAePn1d7"
   },
   "outputs": [],
   "source": [
    ""
   ]
  }
 ],
 "metadata": {
  "colab": {
   "collapsed_sections": [],
   "name": "Data_PreProcessing.ipynb",
   "provenance": []
  },
  "kernelspec": {
   "display_name": "Python 3 (ipykernel)",
   "language": "python",
   "name": "python3"
  },
  "language_info": {
   "codemirror_mode": {
    "name": "ipython",
    "version": 3
   },
   "file_extension": ".py",
   "mimetype": "text/x-python",
   "name": "python",
   "nbconvert_exporter": "python",
   "pygments_lexer": "ipython3",
   "version": "3.8.5"
  }
 },
 "nbformat": 4,
 "nbformat_minor": 0
}
