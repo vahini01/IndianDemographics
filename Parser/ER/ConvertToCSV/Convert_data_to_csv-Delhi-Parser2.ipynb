{
 "cells": [
  {
   "cell_type": "code",
   "execution_count": null,
   "metadata": {},
   "outputs": [],
   "source": [
    "!pip install pytesseract \n",
    "!apt-get install poppler-utils \n",
    "!pip install pytesseract\n",
    "!pip install opencv-python\n",
    "!pip install pandas"
   ]
  },
  {
   "cell_type": "code",
   "execution_count": null,
   "metadata": {},
   "outputs": [],
   "source": [
    "!pip install pdf2image --user\n",
    "!pip install pytesseract --user"
   ]
  },
  {
   "cell_type": "code",
   "execution_count": 12,
   "metadata": {
    "id": "9MkiJsbRSMTi"
   },
   "outputs": [],
   "source": [
    "import pdf2image\n",
    "try:\n",
    "    from PIL import Image\n",
    "except ImportError:\n",
    "    import Image\n",
    "import pytesseract\n",
    "from pytesseract import image_to_string\n",
    "from IPython.display import Image as pim, display\n",
    "import csv\n",
    "import os\n",
    "import pandas as pd\n",
    "from multiprocessing import Pool"
   ]
  },
  {
   "cell_type": "code",
   "execution_count": 13,
   "metadata": {
    "id": "114PM73Dn7le"
   },
   "outputs": [],
   "source": [
    "pytesseract.pytesseract.tesseract_cmd = r'/usr/bin/tesseract'"
   ]
  },
  {
   "cell_type": "code",
   "execution_count": 14,
   "metadata": {
    "id": "6LZ6mpSRCAYu"
   },
   "outputs": [],
   "source": [
    "CORES = 30\n",
    "DIRECTORY_PATH = \"../Delhi/\"\n",
    "DOWNLOAD_LOCATION = \"../ParsedData/Delhi/\"\n",
    "LOG_DIR = \"../ParsedData/Delhi/logs/\"\n",
    "TEMP_DIR = \"../ParsedData/Delhi/temp/\""
   ]
  },
  {
   "cell_type": "code",
   "execution_count": 15,
   "metadata": {
    "id": "u20hLHabooBX"
   },
   "outputs": [],
   "source": [
    "def convert_to_csv(filename, data, header):\n",
    "    df = pd.DataFrame(data, columns = header)\n",
    "    filename = filename.replace(\".pdf\",\"\")\n",
    "    path = DOWNLOAD_LOCATION+filename+\"_parsed.csv\"\n",
    "    with open(LOG_DIR+'log_ac_left.txt', 'a') as log_file:\n",
    "        log_file.write(f\"PID-{os.getpid()} at {path} !!\\n\")\n",
    "    df.to_csv(path)\n",
    "\n",
    "def pdf_to_img(pdf_file):\n",
    "    return pdf2image.convert_from_path(pdf_file)\n",
    "\n",
    "def ocr_core(file):\n",
    "    text = pytesseract.image_to_string(file)\n",
    "    return text\n",
    "\n",
    "def get_name(line_str, rem_str):\n",
    "    line_str = line_str.replace(rem_str, \"\")\n",
    "    line_str = line_str.strip()\n",
    "    # Assuming first letter of a name to be alphabet\n",
    "    i = 0\n",
    "    for i, char in enumerate(line_str):\n",
    "      if char.isalpha():\n",
    "        break\n",
    "    line_str = line_str[i:]\n",
    "    return line_str\n",
    "\n",
    "def parse_info(elem, data):\n",
    "    husband_name = \"\"\n",
    "    father_name = \"\"\n",
    "    mother_name = \"\"\n",
    "    house_number = \"\"\n",
    "    name = \"\"\n",
    "    age = 0\n",
    "    gender = \"\"\n",
    "    for line in elem.split('\\n'):\n",
    "      # print(line)\n",
    "      if \"Husband's Name\" in line:\n",
    "        husband_name = get_name(line, \"Husband's Name\")\n",
    "      elif \"Father's Name\" in line:\n",
    "        father_name = get_name(line, \"Father's Name\")\n",
    "      elif \"Mother's Name\" in line:\n",
    "        mother_name = get_name(line, \"Mother's Name\")\n",
    "      elif \"House Number\" in line:\n",
    "        house_number = get_name(line, \"House Number\")\n",
    "      elif \"Name\" in line:\n",
    "        name = get_name(line, \"Name\")\n",
    "      elif \"Age\" in line:\n",
    "        try:\n",
    "          age = int(line[5:7])\n",
    "        except:\n",
    "          pass\n",
    "        # Considering only 2 genders [for now]\n",
    "        if \"FEMALE\" in line:\n",
    "            gender = \"FEMALE\"\n",
    "        elif \"MALE\" in line:\n",
    "            gender = \"MALE\"\n",
    "      elif \"FEMALE\" in line:\n",
    "        gender = \"FEMALE\"\n",
    "      elif \"MALE\" in line:\n",
    "        gender = \"MALE\"\n",
    "    if name == \"\":\n",
    "      return data\n",
    "    arr = [name, father_name, husband_name, mother_name, house_number, gender, age]\n",
    "#     print(husband_name,\":\",father_name,\":\",mother_name,\":\",house_number,\":\", name,\":\",str(age),\":\",gender)\n",
    "    data.append(arr)\n",
    "    return data\n",
    "\n",
    "def extract_to_csv(img, data):\n",
    "    pid = str(os.getpid())   \n",
    "#     with open(LOG_DIR+'log_ac1_5.txt', 'a') as log_file:\n",
    "#         log_file.write(f\"{os.getpid()}:\")\n",
    "    image_name = pid+\"sample_delhi.jpeg\"  \n",
    "    img.save(TEMP_DIR+image_name, \"JPEG\")\n",
    "    # Extract data from page and delete\n",
    "    # Highlight the region that we want to extract\n",
    "    upper = 140\n",
    "    lower = 333\n",
    "    d1 = lower-upper\n",
    "    for i in range(1,11):\n",
    "      right = 565\n",
    "      left = 50\n",
    "      d = right - left\n",
    "      for j in range(1,4):\n",
    "          im = Image.open(TEMP_DIR+image_name)\n",
    "          im_crop = im.crop((left, upper, right, lower))\n",
    "          im_crop.save(TEMP_DIR+pid+'test_delhi.png', quality=95)\n",
    "          # display(pim('test.png'))\n",
    "          text = ocr_core(Image.open(TEMP_DIR+pid+'test_delhi.png'))\n",
    "          data = parse_info(text, data)\n",
    "          # print(text)          \n",
    "          left = left+d\n",
    "          right = right+d\n",
    "      upper = upper + d1\n",
    "      lower = lower + d1\n",
    "    return data\n",
    "\n",
    "def convert_pdf_to_csv(pdf_file):\n",
    "    header = ['name', 'father_name', 'husband_name', 'mother_name', 'house_number', 'gender', 'age']\n",
    "    data = []\n",
    "    loc = DIRECTORY_PATH\n",
    "    try:\n",
    "        images = pdf_to_img(loc+pdf_file)\n",
    "\n",
    "        with open(LOG_DIR+'log_ac_left.txt', 'a') as log:\n",
    "            log.write(f\"PID- {os.getpid()} : is converting {pdf_file} ==== \\n\")\n",
    "        for img in images[2:-1]:\n",
    "            data = extract_to_csv(img, data)\n",
    "        convert_to_csv(pdf_file, data, header)\n",
    "    except:\n",
    "        with open(LOG_DIR+'log_wrong.txt', 'a') as log_file:\n",
    "            log_file.write(f\"Unable to parse {pdf_file} by {os.getpid()}\\n\")\n",
    "\n",
    "# Convert all the pdfs present in a folder to a csv\n",
    "def extract_data(files):\n",
    "    for file in files:\n",
    "        convert_pdf_to_csv(file)"
   ]
  },
  {
   "cell_type": "code",
   "execution_count": 16,
   "metadata": {},
   "outputs": [],
   "source": [
    "# Get all files in a directory\n",
    "def get_files(location):\n",
    "    direc = os.listdir(location)\n",
    "    arr = []\n",
    "\n",
    "    for elem in direc:\n",
    "        if \".pdf\" in elem:\n",
    "#             if \"AC62_\" in elem or \"AC63_\" in elem or \"AC64_\" in elem or \"AC65_\" in elem or \"AC66_\" in elem or \"AC67_\" in elem or \"AC68_\" in elem or \"AC69_\" in elem or \"AC70_\" in elem:\n",
    "                arr.append(elem)\n",
    "        \n",
    "    return arr"
   ]
  },
  {
   "cell_type": "code",
   "execution_count": 17,
   "metadata": {},
   "outputs": [],
   "source": [
    "def del_downloaded_files(location, files):\n",
    "    downloaded_files = os.listdir(location)\n",
    "    rest = []\n",
    "    for elem in files:\n",
    "        temp = elem\n",
    "        elem = elem.replace(\".pdf\",\"\")\n",
    "        elem = elem + \"_parsed.csv\"\n",
    "        if elem not in downloaded_files:\n",
    "            rest.append(temp)\n",
    "    return rest"
   ]
  },
  {
   "cell_type": "code",
   "execution_count": 18,
   "metadata": {},
   "outputs": [
    {
     "data": {
      "text/plain": [
       "14462"
      ]
     },
     "execution_count": 18,
     "metadata": {},
     "output_type": "execute_result"
    }
   ],
   "source": [
    "len(get_files(DIRECTORY_PATH))"
   ]
  },
  {
   "cell_type": "code",
   "execution_count": 19,
   "metadata": {},
   "outputs": [],
   "source": [
    "files = del_downloaded_files(DOWNLOAD_LOCATION,get_files(DIRECTORY_PATH))"
   ]
  },
  {
   "cell_type": "code",
   "execution_count": 20,
   "metadata": {},
   "outputs": [
    {
     "name": "stdout",
     "output_type": "stream",
     "text": [
      "756\n"
     ]
    }
   ],
   "source": [
    "print(len(files))"
   ]
  },
  {
   "cell_type": "code",
   "execution_count": 21,
   "metadata": {},
   "outputs": [],
   "source": [
    "# print(files)"
   ]
  },
  {
   "cell_type": "code",
   "execution_count": null,
   "metadata": {},
   "outputs": [],
   "source": [
    "with Pool(CORES) as p:\n",
    "    p.map(convert_pdf_to_csv, files)"
   ]
  },
  {
   "cell_type": "code",
   "execution_count": null,
   "metadata": {},
   "outputs": [],
   "source": []
  }
 ],
 "metadata": {
  "colab": {
   "collapsed_sections": [],
   "name": "Get Names data to pdf",
   "provenance": []
  },
  "kernelspec": {
   "display_name": "Python 3 (ipykernel)",
   "language": "python",
   "name": "python3"
  },
  "language_info": {
   "codemirror_mode": {
    "name": "ipython",
    "version": 3
   },
   "file_extension": ".py",
   "mimetype": "text/x-python",
   "name": "python",
   "nbconvert_exporter": "python",
   "pygments_lexer": "ipython3",
   "version": "3.8.11"
  }
 },
 "nbformat": 4,
 "nbformat_minor": 1
}
