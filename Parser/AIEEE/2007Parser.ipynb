{
 "cells": [
  {
   "cell_type": "code",
   "execution_count": 3,
   "id": "81690abe",
   "metadata": {},
   "outputs": [
    {
     "name": "stdout",
     "output_type": "stream",
     "text": [
      "Requirement already satisfied: BeautifulSoup4 in /home/souvic/.conda/envs/py38/lib/python3.8/site-packages (4.10.0)\r\n",
      "Requirement already satisfied: soupsieve>1.2 in /home/souvic/.conda/envs/py38/lib/python3.8/site-packages (from BeautifulSoup4) (2.2.1)\r\n"
     ]
    }
   ],
   "source": [
    "!pip install BeautifulSoup4"
   ]
  },
  {
   "cell_type": "code",
   "execution_count": 4,
   "id": "e7bf09ad",
   "metadata": {},
   "outputs": [],
   "source": [
    "import pickle\n",
    "import pandas as pd\n",
    "from bs4 import BeautifulSoup"
   ]
  },
  {
   "cell_type": "code",
   "execution_count": 5,
   "id": "204a3f02",
   "metadata": {},
   "outputs": [],
   "source": [
    "# path\n",
    "AIEEE = '../../../jalend/aieeedata/'\n",
    "AIEEE_2004 = AIEEE+'2004.p'\n",
    "AIEEE_2005 = AIEEE+'2005.p'\n",
    "AIEEE_2006 = AIEEE+'2006.p'\n",
    "AIEEE_2007 = AIEEE+'2007.p'\n",
    "AIEEE_2008 = AIEEE+'2008.p'"
   ]
  },
  {
   "cell_type": "code",
   "execution_count": 6,
   "id": "bd0e7772",
   "metadata": {},
   "outputs": [],
   "source": [
    "with (open(AIEEE_2007, \"rb\")) as openfile:\n",
    "    ai_09 = pickle.load(openfile)"
   ]
  },
  {
   "cell_type": "code",
   "execution_count": 7,
   "id": "37ecf909",
   "metadata": {},
   "outputs": [],
   "source": [
    "rolls = ai_09.keys()"
   ]
  },
  {
   "cell_type": "code",
   "execution_count": 8,
   "id": "71e52029",
   "metadata": {},
   "outputs": [],
   "source": [
    "rn = []\n",
    "for key in rolls:\n",
    "    rn.append(key)"
   ]
  },
  {
   "cell_type": "code",
   "execution_count": 9,
   "id": "7e088cb2",
   "metadata": {},
   "outputs": [],
   "source": [
    "# Paper 1: Physics, Chemistry &amp; Mathematics\n",
    "# Paper 2: Mathematics, Aptitude Test &amp; Drawing"
   ]
  },
  {
   "cell_type": "code",
   "execution_count": 15,
   "id": "invisible-puzzle",
   "metadata": {},
   "outputs": [
    {
     "name": "stdout",
     "output_type": "stream",
     "text": [
      "10000\n",
      "20000\n",
      "30000\n",
      "40000\n",
      "50000\n",
      "60000\n",
      "70000\n"
     ]
    }
   ],
   "source": [
    "data = []\n",
    "count = 0\n",
    "for elem in rn:\n",
    "    student = []\n",
    "    count = count+1\n",
    "    if count%10000 == 0:\n",
    "        print(count)\n",
    "        df = pd.DataFrame(data, columns=['roll_no','name','mother_name','father_name','present','state','p1_marks','p2_marks','air_btech','state_btech','air_barch','state_barch'])\n",
    "    if ai_09[elem] == \"\":\n",
    "        continue\n",
    "    soup = BeautifulSoup(ai_09[elem],'html.parser')\n",
    "    tab  = soup.find_all('table', align=\"center\", border=\"0\", width=\"500\")\n",
    "    info0 = tab[0].find_all('td', align=\"left\")\n",
    "    roll_no = info0[0].string\n",
    "    name = info0[1].string\n",
    "    mother_name = info0[2].string\n",
    "    father_name = info0[3].string\n",
    "    student= student+([roll_no, name, mother_name, father_name])\n",
    "    taba = soup.find_all('table',width='400')\n",
    "    if len(tab) <= 2:\n",
    "        present = False\n",
    "        student.append(present)\n",
    "#         print(taba[0].text,\":\",elem)\n",
    "    else :\n",
    "        present = True\n",
    "        info2 = tab[1].find_all('td', align='right')\n",
    "        p1_marks = info2[1].string\n",
    "        p2_marks = info2[2].string\n",
    "        state = tab[2].find_all('tr', align='left')[0].find_all(\"td\")[0].text\n",
    "        info = tab[2].find_all('td', align='center')\n",
    "        air_btech = info[2].text\n",
    "        state_btech = info[4].text\n",
    "        air_barch = info[3].text\n",
    "        state_barch = info[5].text\n",
    "        student=student+([present,state, p1_marks, p2_marks, air_btech, state_btech, air_barch, state_barch])\n",
    "#     import pdb; pdb.set_trace()\n",
    "    data.append(student)\n",
    "#     break"
   ]
  },
  {
   "cell_type": "code",
   "execution_count": 16,
   "id": "369c1f9e",
   "metadata": {},
   "outputs": [],
   "source": [
    "df = pd.DataFrame(data, columns=['roll_no','name','mother_name','father_name','present','state','p1_marks','p2_marks','air_btech','state_btech','air_barch','state_barch'])\n"
   ]
  },
  {
   "cell_type": "code",
   "execution_count": null,
   "id": "0f25f8d0",
   "metadata": {},
   "outputs": [],
   "source": []
  },
  {
   "cell_type": "code",
   "execution_count": 17,
   "id": "b4381fbb",
   "metadata": {},
   "outputs": [
    {
     "data": {
      "text/plain": [
       "(71555, 12)"
      ]
     },
     "execution_count": 17,
     "metadata": {},
     "output_type": "execute_result"
    }
   ],
   "source": [
    "df.shape"
   ]
  },
  {
   "cell_type": "code",
   "execution_count": 18,
   "id": "e7d06d00",
   "metadata": {},
   "outputs": [],
   "source": [
    "df.to_csv('new_data/aieee_2007.csv')"
   ]
  },
  {
   "cell_type": "markdown",
   "id": "3ff74159",
   "metadata": {},
   "source": [
    "Add Labels"
   ]
  },
  {
   "cell_type": "code",
   "execution_count": 21,
   "id": "ccd7b773",
   "metadata": {},
   "outputs": [],
   "source": [
    "import os\n",
    "os.environ[\"CUDA_VISIBLE_DEVICES\"]=\"-1\"    \n",
    "import tensorflow as tf"
   ]
  },
  {
   "cell_type": "code",
   "execution_count": 22,
   "id": "3b39fab5",
   "metadata": {},
   "outputs": [],
   "source": [
    "def vocab():\n",
    "    alpha = ['a','b','c','d','e','f','g','h','i','j','k','l','m','n','o','p','q','r','s','t','u','v','w','x','y','z']\n",
    "    special = [' ']\n",
    "    vocab = alpha+special+['END']\n",
    "\n",
    "    return vocab\n",
    "    \n",
    "def getIndex(df, maxlen, file):\n",
    "    voc = vocab()\n",
    "    char_index = dict((c, i) for i, c in enumerate(voc))\n",
    "    \n",
    "    X = []\n",
    "    next_name = False\n",
    "    \n",
    "    # Club all the whitespaces\n",
    "    \n",
    "    trunc_X = [str(i).lower()[0:maxlen] for i in df['name']]\n",
    "    mask = []\n",
    "    for i in range(len(trunc_X)):\n",
    "        name = trunc_X[i]\n",
    "        tmp = []\n",
    "        for char in str(name):\n",
    "            if char not in voc:\n",
    "                with open(file,'a') as f:\n",
    "                    f.write(name+'\\n')\n",
    "                print(name)\n",
    "                next_name = True\n",
    "                break\n",
    "            else:\n",
    "                tmp.append(char_index[char])\n",
    "        if next_name:\n",
    "            mask.append(False)\n",
    "            next_name = False\n",
    "            continue\n",
    "        mask.append(True)\n",
    "        for k in range(0,maxlen - len(str(name))):\n",
    "            tmp.append(char_index[\"END\"])\n",
    "        X.append(tmp)\n",
    "            \n",
    "    return np.asarray(X), df[mask]"
   ]
  },
  {
   "cell_type": "code",
   "execution_count": 23,
   "id": "dddf54c0",
   "metadata": {},
   "outputs": [],
   "source": [
    "import re\n",
    "import numpy as np\n",
    "\n",
    "def preprocess_df(df):\n",
    "    df['name'] = [str(name).lower() for name in df['name']]\n",
    "    df['name'] = [str(name).strip() for name in df['name']]\n",
    "    df['name'] = [re.sub('[^a-zA-Z]+', ' ', str(name)) for name in df['name']]\n",
    "    df['name'] = [re.sub('[ \\t\\n]+',' ', str(name)) for name in df['name']]\n",
    "    df['name'].replace('', np.nan, inplace=True)\n",
    "    df = df[df['name']!='nan']\n",
    "    df.dropna(subset=['name'],inplace=True)\n",
    "    return df"
   ]
  },
  {
   "cell_type": "code",
   "execution_count": 24,
   "id": "3ed1a566",
   "metadata": {},
   "outputs": [],
   "source": [
    "def returnGenderPred(df, model):\n",
    "    test_x, df = getIndex(df, 30, 'oov.txt')\n",
    "    pred = model.predict(np.asarray(test_x), verbose = 1)\n",
    "    y_pred = np.argmax(pred, axis =1)\n",
    "    df['Gender'] = y_pred\n",
    "    return df\n",
    "\n",
    "def returnCastePred(df, model):\n",
    "    df = preprocess_df(df)\n",
    "    test_x, df = getIndex(df, 30, 'oov.txt')\n",
    "    pred = model.predict(np.asarray(test_x), verbose = 1)\n",
    "    y_pred = np.argmax(pred, axis =1)\n",
    "    df['Caste'] = y_pred\n",
    "    return df"
   ]
  },
  {
   "cell_type": "code",
   "execution_count": 25,
   "id": "6e42014a",
   "metadata": {},
   "outputs": [],
   "source": [
    "from keras.models import load_model\n",
    "\n",
    "\n",
    "def get_gender_model():\n",
    "    filename = \"/home/souvic/mounted/btp/vahini/Models/ERTrain/SavedModels/FinalSet/CharLSTM/ERModel/ERModel\"\n",
    "    model = load_model(filename)\n",
    "    return model\n",
    "\n",
    "def get_caste_model():\n",
    "    filename = \"/home/souvic/mounted/btp/vahini/Name2Demographics/Models/AIEEEData/CNNModel/SavedModel/CasteModel\"\n",
    "    model = load_model(filename)\n",
    "    return model"
   ]
  },
  {
   "cell_type": "code",
   "execution_count": 26,
   "id": "65ab9d79",
   "metadata": {},
   "outputs": [
    {
     "name": "stdout",
     "output_type": "stream",
     "text": [
      "WARNING:tensorflow:SavedModel saved prior to TF 2.5 detected when loading Keras model. Please ensure that you are saving the model with model.save() or tf.keras.models.save_model(), *NOT* tf.saved_model.save(). To confirm, there should be a file named \"keras_metadata.pb\" in the SavedModel directory.\n"
     ]
    },
    {
     "name": "stderr",
     "output_type": "stream",
     "text": [
      "2022-02-14 23:13:28.251356: E tensorflow/stream_executor/cuda/cuda_driver.cc:271] failed call to cuInit: CUDA_ERROR_NO_DEVICE: no CUDA-capable device is detected\n",
      "2022-02-14 23:13:28.252115: I tensorflow/stream_executor/cuda/cuda_diagnostics.cc:169] retrieving CUDA diagnostic information for host: obelix\n",
      "2022-02-14 23:13:28.252198: I tensorflow/stream_executor/cuda/cuda_diagnostics.cc:176] hostname: obelix\n",
      "2022-02-14 23:13:28.252960: I tensorflow/stream_executor/cuda/cuda_diagnostics.cc:200] libcuda reported version is: 470.86.0\n",
      "2022-02-14 23:13:28.253255: I tensorflow/stream_executor/cuda/cuda_diagnostics.cc:204] kernel reported version is: 470.86.0\n",
      "2022-02-14 23:13:28.253296: I tensorflow/stream_executor/cuda/cuda_diagnostics.cc:310] kernel version seems to match DSO: 470.86.0\n",
      "2022-02-14 23:13:28.255223: I tensorflow/core/platform/cpu_feature_guard.cc:151] This TensorFlow binary is optimized with oneAPI Deep Neural Network Library (oneDNN) to use the following CPU instructions in performance-critical operations:  AVX2 AVX512F FMA\n",
      "To enable them in other operations, rebuild TensorFlow with the appropriate compiler flags.\n"
     ]
    }
   ],
   "source": [
    "gender_model = get_gender_model()\n",
    "caste_model = get_caste_model()"
   ]
  },
  {
   "cell_type": "code",
   "execution_count": 27,
   "id": "503cc6fb",
   "metadata": {},
   "outputs": [
    {
     "name": "stdout",
     "output_type": "stream",
     "text": [
      "2237/2237 [==============================] - 826s 368ms/step\n",
      "2237/2237 [==============================] - 18s 8ms/step\n"
     ]
    }
   ],
   "source": [
    "df = pd.read_csv(\"new_data/aieee_2007.csv\")\n",
    "df = preprocess_df(df)\n",
    "df = returnGenderPred(df, gender_model)\n",
    "df = returnCastePred(df, caste_model)\n",
    "del df['Unnamed: 0']\n",
    "df.to_csv(\"new_data/aieee_2007.csv\")"
   ]
  },
  {
   "cell_type": "code",
   "execution_count": null,
   "id": "fb52de88",
   "metadata": {},
   "outputs": [],
   "source": []
  },
  {
   "cell_type": "code",
   "execution_count": null,
   "id": "c5fba835",
   "metadata": {},
   "outputs": [],
   "source": []
  }
 ],
 "metadata": {
  "kernelspec": {
   "display_name": "Python 3",
   "language": "python",
   "name": "python3"
  },
  "language_info": {
   "codemirror_mode": {
    "name": "ipython",
    "version": 3
   },
   "file_extension": ".py",
   "mimetype": "text/x-python",
   "name": "python",
   "nbconvert_exporter": "python",
   "pygments_lexer": "ipython3",
   "version": "3.8.11"
  }
 },
 "nbformat": 4,
 "nbformat_minor": 5
}
