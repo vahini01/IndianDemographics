{
 "cells": [
  {
   "cell_type": "code",
   "execution_count": 1,
   "id": "53075868",
   "metadata": {},
   "outputs": [
    {
     "name": "stdout",
     "output_type": "stream",
     "text": [
      "Requirement already satisfied: BeautifulSoup4 in /home/souvic/.conda/envs/py38/lib/python3.8/site-packages (4.10.0)\r\n",
      "Requirement already satisfied: soupsieve>1.2 in /home/souvic/.conda/envs/py38/lib/python3.8/site-packages (from BeautifulSoup4) (2.3)\r\n"
     ]
    }
   ],
   "source": [
    "!pip install BeautifulSoup4"
   ]
  },
  {
   "cell_type": "code",
   "execution_count": 2,
   "id": "b4a64df0",
   "metadata": {},
   "outputs": [],
   "source": [
    "import pickle\n",
    "import pandas as pd\n",
    "from bs4 import BeautifulSoup"
   ]
  },
  {
   "cell_type": "code",
   "execution_count": 3,
   "id": "83786bcb",
   "metadata": {},
   "outputs": [],
   "source": [
    "# path\n",
    "AIEEE = '../../../jalend/aieeedata/'\n",
    "AIEEE_2004 = AIEEE+'2004.p'\n",
    "AIEEE_2006 = AIEEE+'2006.p'\n",
    "AIEEE_2008 = AIEEE+'2008.p'\n",
    "AIEEE_2009 = AIEEE+'2009.p'\n",
    "AIEEE_2010 = AIEEE+'2010.p'\n",
    "AIEEE_2011 = AIEEE+'2011.p'"
   ]
  },
  {
   "cell_type": "code",
   "execution_count": 4,
   "id": "027a6aa8",
   "metadata": {},
   "outputs": [],
   "source": [
    "with (open(AIEEE_2010, \"rb\")) as openfile:\n",
    "    ai_10 = pickle.load(openfile)"
   ]
  },
  {
   "cell_type": "code",
   "execution_count": 5,
   "id": "7c0747c6",
   "metadata": {},
   "outputs": [],
   "source": [
    "rolls = ai_10.keys()"
   ]
  },
  {
   "cell_type": "code",
   "execution_count": 6,
   "id": "79b0d2e0",
   "metadata": {},
   "outputs": [],
   "source": [
    "rn = []\n",
    "for key in rolls:\n",
    "    rn.append(key)"
   ]
  },
  {
   "cell_type": "code",
   "execution_count": 7,
   "id": "d960cad5",
   "metadata": {},
   "outputs": [
    {
     "data": {
      "text/plain": [
       "26004929"
      ]
     },
     "execution_count": 7,
     "metadata": {},
     "output_type": "execute_result"
    }
   ],
   "source": [
    "rn[90]"
   ]
  },
  {
   "cell_type": "code",
   "execution_count": 128,
   "id": "90e1daf7",
   "metadata": {},
   "outputs": [],
   "source": [
    "soup = BeautifulSoup(ai_09[elem], 'html.parser')"
   ]
  },
  {
   "cell_type": "code",
   "execution_count": 146,
   "id": "7c655ba2",
   "metadata": {},
   "outputs": [
    {
     "data": {
      "text/plain": [
       "'Yardstick for permission to fill the choices online for counselling for B.E./B.Tech. & B.Arch./B.Planning \\r\\n'"
      ]
     },
     "execution_count": 146,
     "metadata": {},
     "output_type": "execute_result"
    }
   ],
   "source": [
    "tab = soup.find_all('table', width=\"400\")\n",
    "tab[0].b.text"
   ]
  },
  {
   "cell_type": "code",
   "execution_count": 131,
   "id": "e2c6910e",
   "metadata": {},
   "outputs": [
    {
     "data": {
      "text/plain": [
       "<html>\n",
       "<head>\n",
       "<style media=\"print\" type=\"text/css\">\n",
       ".dontprintme { display: none; }\n",
       "</style>\n",
       "<script language=\"javascript\">\n",
       "<!--\n",
       "function newwin()\n",
       "{\n",
       "if (self != top) \n",
       "top.location.href=\"cbseaieee.htm\";\n",
       "}\n",
       "function visitSite(url){\n",
       "mywin=window.open(\"\",\"goidisplaywin\",\"width=600,height=350,screenX=100,screenY=0,scrollbars=yes,menubar=yes,resizable=yes,status=yes,toolbar=yes,directories=no,location=yes\");\n",
       "mywin.location.href=url;\n",
       "mywin.focus();\n",
       "}\n",
       "//-->\n",
       "</script>\n",
       "<title> CBSE - ALL INDIA ENGINEERING / ARCHITECTURE ENTRANCE EXAMINATION 2009 </title>\n",
       "</head>\n",
       "<body alink=\"#3333cc\" bgcolor=\"#ffffff\" leftmargin=\"0\" link=\"#3333cc\" marginheight=\"0\" marginwidth=\"0\" onload=\"newwin()\" text=\"#000000\" topmargin=\"0\" vlink=\"#3333cc\">\n",
       "<table bgcolor=\"#373abe\" border=\"0\" cellpadding=\"0\" cellspacing=\"0\" width=\"100%\">\n",
       "<tr align=\"left\" valign=\"top\">\n",
       "<td width=\"5%\"><img height=\"69\" src=\"../images/cbse1.gif\" width=\"67\"/></td>\n",
       "<td valign=\"center\" width=\"95%\">\n",
       "<table border=\"0\" cellpadding=\"0\" cellspacing=\"0\" width=\"100%\">\n",
       "<tr align=\"right\" valign=\"bottom\">\n",
       "<td><font color=\"#ffffff\" face=\"Arial, Helvetica, sans-serif\" size=\"2\"><b><font size=\"3\">http://cbseresults.nic.in   </font></b></font></td>\n",
       "</tr>\n",
       "<tr>\n",
       "<td><img height=\"31\" src=\"../images/cbse2.gif\" width=\"263\"/></td>\n",
       "</tr>\n",
       "</table>\n",
       "</td>\n",
       "</tr>\n",
       "</table>\n",
       "<table bgcolor=\"#373abe\" border=\"0\" cellpadding=\"0\" cellspacing=\"0\" height=\"30\" width=\"100%\">\n",
       "<tr>\n",
       "<td><img height=\"26\" src=\"../images/cbse3.gif\" width=\"408\"/><font face=\"Arial, Helvetica, sans-serif\" size=\"3\"><font color=\"#ffffff\"><b><font size=\"4\">\n",
       "</font></b></font> </font></td>\n",
       "<td>\n",
       "<div align=\"right\"><font face=\"Arial, Helvetica, sans-serif\" size=\"3\"><font color=\"#ffffff\"><b><font size=\"4\"> \n",
       "        Examination Results 2009   </font></b></font> </font></div>\n",
       "</td>\n",
       "</tr>\n",
       "</table><div align=\"right\"><strong> \n",
       "Brought to you by <a href=\"javascript:visitSite('http://home.nic.in')\">National Informatics Centre</a>   <br/><br/></strong></div>\n",
       "<br/>\n",
       "<table align=\"center\" border=\"0\" cellpadding=\"0\" cellspacing=\"0\" width=\"790\">\n",
       "<tr>\n",
       "<td align=\"center\">\n",
       "<font color=\"#3333CC\" face=\"Arial, Helvetica, sans-serif\" size=\"3\">\n",
       "<strong>ALL INDIA ENGINEERING / ARCHITECTURE ENTRANCE EXAMINATION <br/>(AIEEE - 2009)\n",
       "</strong></font></td>\n",
       "</tr>\n",
       "</table>\n",
       "<table align=\"center\" width=\"600\"><tr><td align=\"right\">\n",
       "<input class=\"dontprintme\" name=\"Print\" onclick=\"javascript:window.print();return false\" type=\"button\" value=\"Print\"/>\n",
       "</td></tr></table>\n",
       "<br/>\n",
       "<table align=\"center\" cellpadding=\"0\" cellspacing=\"0\" height=\"10\" width=\"600\">\n",
       "<tr bgcolor=\"#373abe\"><td></td></tr>\n",
       "</table>\n",
       "<table align=\"center\" border=\"0\" width=\"500\">\n",
       "<tr>\n",
       "<td width=\"100\">\n",
       "<font face=\"Arial\" size=\"2\"><strong>Roll No:</strong></font>\n",
       "</td>\n",
       "<td align=\"left\" width=\"300\"><font face=\"Arial\" size=\"2\"><strong> 21415832 </strong></font></td>\n",
       "</tr>\n",
       "<tr>\n",
       "<td width=\"100\">\n",
       "<font face=\"Arial\" size=\"2\"><strong>Name:</strong></font>\n",
       "</td>\n",
       "<td align=\"left\" width=\"300\"><font face=\"Arial\" size=\"2\"><b> TEJPARTAP SINGH </b></font></td>\n",
       "</tr>\n",
       "<tr>\n",
       "<td width=\"100\">\n",
       "<font face=\"Arial\" size=\"2\"><strong>Mother's Name:</strong></font>\n",
       "</td>\n",
       "<td align=\"left\" width=\"300\"><font face=\"Arial\" size=\"2\"><b> HERJEET KAUR </b></font></td>\n",
       "</tr>\n",
       "<tr>\n",
       "<td width=\"100\">\n",
       "<font face=\"Arial\" size=\"2\"><strong>Father's Name:</strong></font>\n",
       "</td>\n",
       "<td align=\"left\" width=\"300\"><font face=\"Arial\" size=\"2\"><b> TARLOCHAN SINGH </b></font></td>\n",
       "</tr>\n",
       "</table>\n",
       "<table align=\"center\" border=\"0\" width=\"500\">\n",
       "<tr>\n",
       "<td width=\"100%\">\n",
       "<font face=\"Arial\" size=\"2\"><strong>Category:                 GEN\n",
       "\n",
       "</strong></font></td>\n",
       "</tr>\n",
       "<tr>\n",
       "<td width=\"100%\">\n",
       "<font face=\"Arial\" size=\"2\"><strong>State Code of Eligibility: 28</strong></font>\n",
       "</td>\n",
       "</tr>\n",
       "</table>\n",
       "<table align=\"center\" width=\"400\">\n",
       "<tr><td align=\"left\">\n",
       "<br/><br/><br/>\n",
       "<font face=\"arial\" size=\"2\"><b> Remarks:\n",
       "Absent\n",
       "</b>\n",
       "</font>\n",
       "</td></tr></table>\n",
       "<br/>\n",
       "<table align=\"center\" cellpadding=\"0\" cellspacing=\"0\" height=\"10\" width=\"600\">\n",
       "<tr bgcolor=\"#373abe\"><td></td></tr>\n",
       "</table>\n",
       "<table align=\"center\" border=\"0\" cellpadding=\"0\" cellspacing=\"0\" width=\"700\">\n",
       "<tr>\n",
       "<td><font color=\"#000000\" face=\"Arial, Helvetica, sans-serif\" size=\"2\"><b>\n",
       "   \n",
       "Note: </b>\n",
       "<li>\n",
       "For details on central counselling, Please visit\n",
       " <b><a href=\"http://ccb.nic.in\">http://ccb.nic.in</a> or <a href=\"http://aieee.nic.in\">http://aieee.nic.in</a></b><br/>\n",
       "</li>\n",
       "<li>\n",
       "Yardsticks for the purpose of counselling has been decided by Central Counselling Board.\n",
       "</li>\n",
       "<li>\n",
       "State Ranks are based on State Code of Eligibility ie. State from where the candidate has passsed +2 examination.  Those who have not filled up State Code of \n",
       "eligibility, their State rank has not been indicated.  State rank is privisional subject to verification of documents at the time of counselling.\n",
       "</li>\n",
       "<p></p><b>\n",
       "INSTRUCTIONS :</b>\n",
       "<table>\n",
       "<tr>\n",
       "<td valign=\"top\">1</td><td align=\"justify\"><font size=\"2\">Candidate must preserve Score Card till the process of admission in the colleges/Institutions is over. </font></td>\n",
       "</tr>\n",
       "<tr>\n",
       "<td valign=\"top\">2</td>\n",
       "<td align=\"justify\"><font size=\"2\">Based on relative rankings, a number of students have been permitted for filling of choices, which does not guaranty seat allotment as the seat allotment would be purely on merit in respective categories and availability of seats in those categories in participating institutions. </font></td>\n",
       "</tr>\n",
       "<tr>\n",
       "<td valign=\"top\">3</td><td align=\"justify\"><font size=\"2\">Admission in a college/Institution is subject to verification of original certificates. </font></td>\n",
       "</tr>\n",
       "<tr>\n",
       "<td valign=\"top\">4</td><td align=\"justify\"><font size=\"2\">Detailed Admission Procedure and Information Brochure are available on the website www.ccb.nic.in. Candidate must follow this admission procedure and instructions available in the Information Brochure carefully.</font> </td>\n",
       "</tr>\n",
       "<tr>\n",
       "<td valign=\"top\">5</td><td align=\"justify\"><font size=\"2\">The admission process involves the following steps: <br/>\n",
       "\n",
       "\tI.\tDuring 8th-28th June, 2009, all those candidates permitted to fill choices on the basis of AIEEE-2009 results are required to register ONLINE through Internet. (www.ccb.nic.in) from places of their convenience/near by Admission Centres/Help Centres. <br/>\n",
       "\tII.\tThey can also fill their choices of branches and institutions in their order of preference, any time during this period.<br/>\n",
       "\tIII.\t All the candidates must lock their choices on or before June 28, 2009 by 11.55PM. <br/>\n",
       "\tIV.\tSeat allotment results will be available on the website www.ccb.nic.in. No individual allotment letters will be sent. The successful \tcandidates have to go to any one of the Designated Admission Centres for remote reporting (for verification of Original certificates and payment of initial fee of Rs. 25,000/-) and take provisional admission.<br/>\n",
       "\tV.\tAll the candidates who have taken provisional admission shall report to the allotted institutes during July 16 - 24, 2009. </font> </td>\n",
       "</tr>\n",
       "<tr>\n",
       "<td valign=\"top\">6</td><td align=\"justify\"><font size=\"2\">State ranks are based on State of Eligibility, i.e. State from where the candidate has passed +2 examination. </font></td>\n",
       "</tr>\n",
       "</table>\n",
       "</font></td>\n",
       "</tr>\n",
       "</table>\n",
       "<hr align=\"center\" width=\"700\"/>\n",
       "<table align=\"center\" border=\"0\" cellpadding=\"0\" cellspacing=\"0\" width=\"700\">\n",
       "<tr> <td>\n",
       "<font size=\"2\"><font color=\"#000000\" face=\"Arial, Helvetica, sans-serif\">\n",
       "<b>Disclaimer:</b> \n",
       "Neither NIC nor \n",
       "            CBSE is responsible for any inadvertent error that may have crept in \n",
       "            the results being published on NET. The results published on net are \n",
       "            for immediate information to the examinees. These cannot be treated as \n",
       "      original Score card. Original Score cards shall be despatched by the Board.\n",
       "       \n",
       "     </font>\n",
       "</font></td></tr>\n",
       "<tr align=\"middle\" bgcolor=\"#c2dbf8\" valign=\"baseline\">\n",
       "<td height=\"23\">\n",
       "<div align=\"center\">\n",
       "<font color=\"#000000\" face=\"Arial, Helvetica, sans-serif\" size=\"2\"><b>\n",
       "<a href=\"javascript:visitSite('http://home.nic.in')\">Designed, \n",
       "        Developed and Hosted by National \n",
       "        Informatics Centre</a>\n",
       "</b></font></div>\n",
       "</td>\n",
       "</tr>\n",
       "</table>\n",
       "</body>\n",
       "</html>"
      ]
     },
     "execution_count": 131,
     "metadata": {},
     "output_type": "execute_result"
    }
   ],
   "source": [
    "soup"
   ]
  },
  {
   "cell_type": "code",
   "execution_count": 118,
   "id": "40af4c57",
   "metadata": {},
   "outputs": [
    {
     "data": {
      "text/plain": [
       "' \\r\\n\\r\\nNot Applicable/Not Applied\\r\\n\\r\\n '"
      ]
     },
     "execution_count": 118,
     "metadata": {},
     "output_type": "execute_result"
    }
   ],
   "source": [
    "tab[2].find_all('td', align='right')[2].string"
   ]
  },
  {
   "cell_type": "code",
   "execution_count": null,
   "id": "f49c513d",
   "metadata": {},
   "outputs": [],
   "source": [
    "# Paper 1: Physics, Chemistry &amp; Mathematics\n",
    "# Paper 2: Mathematics, Aptitude Test &amp; Drawing"
   ]
  },
  {
   "cell_type": "code",
   "execution_count": 152,
   "id": "2d1b103a",
   "metadata": {},
   "outputs": [
    {
     "data": {
      "text/html": [
       "<div>\n",
       "<style scoped>\n",
       "    .dataframe tbody tr th:only-of-type {\n",
       "        vertical-align: middle;\n",
       "    }\n",
       "\n",
       "    .dataframe tbody tr th {\n",
       "        vertical-align: top;\n",
       "    }\n",
       "\n",
       "    .dataframe thead th {\n",
       "        text-align: right;\n",
       "    }\n",
       "</style>\n",
       "<table border=\"1\" class=\"dataframe\">\n",
       "  <thead>\n",
       "    <tr style=\"text-align: right;\">\n",
       "      <th></th>\n",
       "      <th>Name</th>\n",
       "      <th>Age</th>\n",
       "    </tr>\n",
       "  </thead>\n",
       "  <tbody>\n",
       "    <tr>\n",
       "      <th>0</th>\n",
       "      <td>tom</td>\n",
       "      <td>25.0</td>\n",
       "    </tr>\n",
       "    <tr>\n",
       "      <th>1</th>\n",
       "      <td>krish</td>\n",
       "      <td>30.0</td>\n",
       "    </tr>\n",
       "    <tr>\n",
       "      <th>2</th>\n",
       "      <td>nick</td>\n",
       "      <td>NaN</td>\n",
       "    </tr>\n",
       "    <tr>\n",
       "      <th>3</th>\n",
       "      <td>juli</td>\n",
       "      <td>22.0</td>\n",
       "    </tr>\n",
       "  </tbody>\n",
       "</table>\n",
       "</div>"
      ],
      "text/plain": [
       "    Name   Age\n",
       "0    tom  25.0\n",
       "1  krish  30.0\n",
       "2   nick   NaN\n",
       "3   juli  22.0"
      ]
     },
     "execution_count": 152,
     "metadata": {},
     "output_type": "execute_result"
    }
   ],
   "source": [
    "# lst = [['tom', 25], ['krish', 30],\n",
    "#        ['nick'], ['juli', 22]]\n",
    "    \n",
    "# df = pd.DataFrame(lst, columns =['Name', 'Age'])\n",
    "# df"
   ]
  },
  {
   "cell_type": "code",
   "execution_count": null,
   "id": "3962e536",
   "metadata": {},
   "outputs": [],
   "source": [
    "data = []\n",
    "for elem in rn:\n",
    "    student = []\n",
    "    if ai_10[elem] == \"\":\n",
    "        continue\n",
    "    soup = BeautifulSoup(ai_10[elem],'html.parser')\n",
    "    tab  = soup.find_all('table', align=\"center\", border=\"0\", width=\"500\")\n",
    "    info0 = tab[0].find_all('td', align=\"left\")\n",
    "    roll_no = info0[0].string\n",
    "    name = info0[1].string\n",
    "    mother_name = info0[2].string\n",
    "    father_name = info0[3].string\n",
    "    info1 = tab[1].find_all('strong')\n",
    "    category = info1[0].string\n",
    "    state_no = info1[1].string\n",
    "    student = student+([roll_no, name, mother_name, father_name, category, state_no])\n",
    "    taba = soup.find_all('table',width='400')\n",
    "    if len(tab) <= 2:\n",
    "        present = False\n",
    "        student.append(present)\n",
    "#         print(taba[0].text,\":\",elem)\n",
    "    else :\n",
    "        present = True\n",
    "        info2 = tab[2].find_all('td', align='right')\n",
    "        p1_marks = info2[1].string\n",
    "        p2_marks = info2[2].string\n",
    "        info = tab[3].find_all('td', align='center')\n",
    "        air_btech = info[4].text\n",
    "        air_cat_btech = info[6].text\n",
    "        state_btech = info[10].text\n",
    "        state_cat_btech = info[12].text\n",
    "        air_barch = info[5].text\n",
    "        air_cat_barch = info[7].text\n",
    "        state_barch = info[11].text\n",
    "        state_cat_barch = info[13].text\n",
    "#         print(name,\":\", roll_no, \":\", mother_name,\":\", father_name, \":\", category,\":\",state_no,\":\",p1_marks,\":\",p2_marks,\":\")\n",
    "#         print(air_btech, \":\", air_cat_btech,\":\", state_btech, \":\",state_cat_btech,\":\", air_barch,\":\", air_cat_barch,\":\",state_barch,\":\",state_cat_barch)\n",
    "        student = student +([present, p1_marks, p2_marks, air_btech, air_cat_btech, state_btech, state_cat_btech, air_barch, air_cat_barch, state_barch, state_cat_barch])\n",
    "    data.append(student)\n",
    "    "
   ]
  },
  {
   "cell_type": "code",
   "execution_count": null,
   "id": "e3537162",
   "metadata": {},
   "outputs": [],
   "source": [
    "df = pd.DataFrame(data, columns=['roll_no','name','mother_name','father_name','category','state_no','present','p1_marks','p2_marks','air_btech','air_cat_btech','state_btech','state_cat_btech','air_barch','air_cat_barch','state_barch','state_cat_barch'])"
   ]
  },
  {
   "cell_type": "code",
   "execution_count": null,
   "id": "c32fd9ee",
   "metadata": {},
   "outputs": [],
   "source": [
    "df.shape"
   ]
  },
  {
   "cell_type": "code",
   "execution_count": null,
   "id": "782f9793",
   "metadata": {},
   "outputs": [],
   "source": []
  }
 ],
 "metadata": {
  "kernelspec": {
   "display_name": "Python [conda env:.conda-py38] *",
   "language": "python",
   "name": "conda-env-.conda-py38-py"
  },
  "language_info": {
   "codemirror_mode": {
    "name": "ipython",
    "version": 3
   },
   "file_extension": ".py",
   "mimetype": "text/x-python",
   "name": "python",
   "nbconvert_exporter": "python",
   "pygments_lexer": "ipython3",
   "version": "3.8.11"
  }
 },
 "nbformat": 4,
 "nbformat_minor": 5
}
