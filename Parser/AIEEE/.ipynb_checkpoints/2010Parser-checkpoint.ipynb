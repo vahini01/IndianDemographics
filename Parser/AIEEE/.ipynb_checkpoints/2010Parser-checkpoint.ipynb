{
 "cells": [
  {
   "cell_type": "code",
   "execution_count": 1,
   "id": "53075868",
   "metadata": {},
   "outputs": [
    {
     "name": "stdout",
     "output_type": "stream",
     "text": [
      "Requirement already satisfied: BeautifulSoup4 in /home/souvic/.conda/envs/py38/lib/python3.8/site-packages (4.10.0)\r\n",
      "Requirement already satisfied: soupsieve>1.2 in /home/souvic/.conda/envs/py38/lib/python3.8/site-packages (from BeautifulSoup4) (2.3)\r\n"
     ]
    }
   ],
   "source": [
    "!pip install BeautifulSoup4"
   ]
  },
  {
   "cell_type": "code",
   "execution_count": 2,
   "id": "b4a64df0",
   "metadata": {},
   "outputs": [],
   "source": [
    "import pickle\n",
    "import pandas as pd\n",
    "from bs4 import BeautifulSoup"
   ]
  },
  {
   "cell_type": "code",
   "execution_count": 3,
   "id": "83786bcb",
   "metadata": {},
   "outputs": [],
   "source": [
    "# path\n",
    "AIEEE = '../../../jalend/aieeedata/'\n",
    "AIEEE_2004 = AIEEE+'2004.p'\n",
    "AIEEE_2006 = AIEEE+'2006.p'\n",
    "AIEEE_2008 = AIEEE+'2008.p'\n",
    "AIEEE_2009 = AIEEE+'2009.p'\n",
    "AIEEE_2010 = AIEEE+'2010.p'\n",
    "AIEEE_2011 = AIEEE+'2011.p'"
   ]
  },
  {
   "cell_type": "code",
   "execution_count": 4,
   "id": "027a6aa8",
   "metadata": {},
   "outputs": [],
   "source": [
    "with (open(AIEEE_2010, \"rb\")) as openfile:\n",
    "    ai_10 = pickle.load(openfile)"
   ]
  },
  {
   "cell_type": "code",
   "execution_count": 5,
   "id": "7c0747c6",
   "metadata": {},
   "outputs": [],
   "source": [
    "rolls = ai_10.keys()"
   ]
  },
  {
   "cell_type": "code",
   "execution_count": 6,
   "id": "79b0d2e0",
   "metadata": {},
   "outputs": [],
   "source": [
    "rn = []\n",
    "for key in rolls:\n",
    "    rn.append(key)"
   ]
  },
  {
   "cell_type": "code",
   "execution_count": null,
   "id": "f49c513d",
   "metadata": {},
   "outputs": [],
   "source": [
    "# Paper 1: Physics, Chemistry &amp; Mathematics\n",
    "# Paper 2: Mathematics, Aptitude Test &amp; Drawing"
   ]
  },
  {
   "cell_type": "code",
   "execution_count": null,
   "id": "2d1b103a",
   "metadata": {},
   "outputs": [],
   "source": [
    "# lst = [['tom', 25], ['krish', 30],\n",
    "#        ['nick'], ['juli', 22]]\n",
    "    \n",
    "# df = pd.DataFrame(lst, columns =['Name', 'Age'])\n",
    "# df"
   ]
  },
  {
   "cell_type": "code",
   "execution_count": 11,
   "id": "3962e536",
   "metadata": {},
   "outputs": [],
   "source": [
    "data = []\n",
    "for elem in rn:\n",
    "    student = []\n",
    "    if ai_10[elem] == \"\":\n",
    "        continue\n",
    "    soup = BeautifulSoup(ai_10[elem],'html.parser')\n",
    "    tab  = soup.find_all('table', align=\"center\", border=\"0\", width=\"500\")\n",
    "    info0 = tab[0].find_all('td', align=\"left\")\n",
    "    roll_no = info0[0].string\n",
    "    name = info0[1].string\n",
    "    mother_name = info0[2].string\n",
    "    father_name = info0[3].string\n",
    "    info1 = tab[1].find_all('strong')\n",
    "    category = info1[0].string\n",
    "    state_no = info1[1].string\n",
    "    student = student+([roll_no, name, mother_name, father_name, category, state_no])\n",
    "    taba = soup.find_all('table',width='400')\n",
    "    if len(tab) <= 2:\n",
    "        present = False\n",
    "        student.append(present)\n",
    "#         print(taba[0].text,\":\",elem)\n",
    "    else :\n",
    "        present = True\n",
    "        info2 = tab[2].find_all('td', align='right')\n",
    "        p1_marks = info2[1].string\n",
    "        p2_marks = info2[2].string\n",
    "        info = tab[3].find_all('td', align='center')\n",
    "        air_btech = info[4].text\n",
    "        air_cat_btech = info[6].text\n",
    "        state_btech = info[10].text\n",
    "        state_cat_btech = info[12].text\n",
    "        air_barch = info[5].text\n",
    "        air_cat_barch = info[7].text\n",
    "        state_barch = info[11].text\n",
    "        state_cat_barch = info[13].text\n",
    "#         print(name,\":\", roll_no, \":\", mother_name,\":\", father_name, \":\", category,\":\",state_no,\":\",p1_marks,\":\",p2_marks,\":\")\n",
    "#         print(air_btech, \":\", air_cat_btech,\":\", state_btech, \":\",state_cat_btech,\":\", air_barch,\":\", air_cat_barch,\":\",state_barch,\":\",state_cat_barch)\n",
    "        student = student +([present, p1_marks, p2_marks, air_btech, air_cat_btech, state_btech, state_cat_btech, air_barch, air_cat_barch, state_barch, state_cat_barch])\n",
    "    data.append(student)\n",
    "    "
   ]
  },
  {
   "cell_type": "code",
   "execution_count": 12,
   "id": "e3537162",
   "metadata": {},
   "outputs": [],
   "source": [
    "df = pd.DataFrame(data, columns=['roll_no','name','mother_name','father_name','category','state_no','present','p1_marks','p2_marks','air_btech','air_cat_btech','state_btech','state_cat_btech','air_barch','air_cat_barch','state_barch','state_cat_barch'])"
   ]
  },
  {
   "cell_type": "code",
   "execution_count": 13,
   "id": "c32fd9ee",
   "metadata": {},
   "outputs": [
    {
     "data": {
      "text/plain": [
       "(122871, 17)"
      ]
     },
     "execution_count": 13,
     "metadata": {},
     "output_type": "execute_result"
    }
   ],
   "source": [
    "df.shape"
   ]
  },
  {
   "cell_type": "code",
   "execution_count": 14,
   "id": "6eca653f",
   "metadata": {},
   "outputs": [],
   "source": [
    "df.to_csv('aieee_2010.csv')"
   ]
  },
  {
   "cell_type": "code",
   "execution_count": null,
   "id": "b3d08961",
   "metadata": {},
   "outputs": [],
   "source": []
  }
 ],
 "metadata": {
  "kernelspec": {
   "display_name": "Python [conda env:.conda-py38] *",
   "language": "python",
   "name": "conda-env-.conda-py38-py"
  },
  "language_info": {
   "codemirror_mode": {
    "name": "ipython",
    "version": 3
   },
   "file_extension": ".py",
   "mimetype": "text/x-python",
   "name": "python",
   "nbconvert_exporter": "python",
   "pygments_lexer": "ipython3",
   "version": "3.8.11"
  }
 },
 "nbformat": 4,
 "nbformat_minor": 5
}
