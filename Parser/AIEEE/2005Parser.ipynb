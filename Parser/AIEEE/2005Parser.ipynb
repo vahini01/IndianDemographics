{
 "cells": [
  {
   "cell_type": "code",
   "execution_count": 1,
   "id": "81690abe",
   "metadata": {},
   "outputs": [
    {
     "name": "stdout",
     "output_type": "stream",
     "text": [
      "Requirement already satisfied: BeautifulSoup4 in /home/souvic/.conda/envs/py38/lib/python3.8/site-packages (4.10.0)\r\n",
      "Requirement already satisfied: soupsieve>1.2 in /home/souvic/.conda/envs/py38/lib/python3.8/site-packages (from BeautifulSoup4) (2.2.1)\r\n"
     ]
    }
   ],
   "source": [
    "!pip install BeautifulSoup4"
   ]
  },
  {
   "cell_type": "code",
   "execution_count": 2,
   "id": "e7bf09ad",
   "metadata": {},
   "outputs": [],
   "source": [
    "import pickle\n",
    "import pandas as pd\n",
    "from bs4 import BeautifulSoup"
   ]
  },
  {
   "cell_type": "code",
   "execution_count": 3,
   "id": "204a3f02",
   "metadata": {},
   "outputs": [],
   "source": [
    "# path\n",
    "AIEEE = '../../../jalend/aieeedata/'\n",
    "AIEEE_2004 = AIEEE+'2004.p'\n",
    "AIEEE_2005 = AIEEE+'2005.p'\n",
    "AIEEE_2006 = AIEEE+'2006.p'\n",
    "AIEEE_2007 = AIEEE+'2007.p'\n",
    "AIEEE_2008 = AIEEE+'2008.p'"
   ]
  },
  {
   "cell_type": "code",
   "execution_count": 4,
   "id": "bd0e7772",
   "metadata": {},
   "outputs": [],
   "source": [
    "with (open(AIEEE_2005, \"rb\")) as openfile:\n",
    "    ai_09 = pickle.load(openfile)"
   ]
  },
  {
   "cell_type": "code",
   "execution_count": 5,
   "id": "37ecf909",
   "metadata": {},
   "outputs": [],
   "source": [
    "rolls = ai_09.keys()"
   ]
  },
  {
   "cell_type": "code",
   "execution_count": 6,
   "id": "71e52029",
   "metadata": {},
   "outputs": [],
   "source": [
    "rn = []\n",
    "for key in rolls:\n",
    "    rn.append(key)"
   ]
  },
  {
   "cell_type": "code",
   "execution_count": 7,
   "id": "7e088cb2",
   "metadata": {},
   "outputs": [],
   "source": [
    "# Paper 1: Physics, Chemistry &amp; Mathematics\n",
    "# Paper 2: Mathematics, Aptitude Test &amp; Drawing"
   ]
  },
  {
   "cell_type": "code",
   "execution_count": 14,
   "id": "220d3eb5",
   "metadata": {},
   "outputs": [
    {
     "name": "stdout",
     "output_type": "stream",
     "text": [
      "10000\n",
      " 21700310 \n",
      "20000\n",
      "30000\n",
      "40000\n"
     ]
    }
   ],
   "source": [
    "data = []\n",
    "count = 0\n",
    "for elem in rn:\n",
    "    student = []\n",
    "    count = count+1\n",
    "    if count%10000 == 0:\n",
    "        print(count)\n",
    "        df = pd.DataFrame(data, columns=['roll_no','name','mother_name','father_name','state','present','p1_marks','p2_marks','p3_marks','air_btech','state_btech','air_barch','state_barch'])\n",
    "    if ai_09[elem] == \"\":\n",
    "        continue\n",
    "    soup = BeautifulSoup(ai_09[elem],'html.parser')\n",
    "    tab  = soup.find_all('table', align=\"center\", border=\"0\", width=\"500\")\n",
    "    info0 = tab[0].find_all('td', align=\"left\")\n",
    "    roll_no = info0[0].string\n",
    "    name = info0[1].string\n",
    "    mother_name = info0[2].string\n",
    "    father_name = info0[3].string\n",
    "    student= student+([roll_no, name, mother_name, father_name])\n",
    "    taba = soup.find_all('table',width='400')\n",
    "#     try: \n",
    "    if len(tab) <= 2:\n",
    "        present = False\n",
    "        student.append(present)\n",
    "#         print(taba[0].text,\":\",elem)\n",
    "    else :\n",
    "        present = True\n",
    "        info2 = tab[1].find_all('td', align='right')\n",
    "        p1_marks = info2[1].string\n",
    "        p2_marks = info2[2].string\n",
    "        p3_marks = info2[3].string\n",
    "        state = tab[2].find_all('td')[-3].text\n",
    "        info = tab[2].find_all('td', align='center')\n",
    "        air_btech = info[2].text\n",
    "        air_barch = info[3].text\n",
    "        try:\n",
    "            state_btech = info[4].text\n",
    "            state_barch = info[5].text\n",
    "            student=student+([state, present, p1_marks, p2_marks, p3_marks, air_btech, state_btech, air_barch, state_barch])\n",
    "        except:\n",
    "            print(roll_no)\n",
    "            student=student+([state, present, p1_marks, p2_marks, p3_marks, air_btech, air_barch])\n",
    "\n",
    "        \n",
    "#     except:\n",
    "#         import pdb; pdb.set_trace()\n",
    "    data.append(student)\n",
    "    "
   ]
  },
  {
   "cell_type": "code",
   "execution_count": 15,
   "id": "369c1f9e",
   "metadata": {},
   "outputs": [],
   "source": [
    "df = pd.DataFrame(data, columns=['roll_no','name','mother_name','father_name','state_no','present','p1_marks','p2_marks','p3_marks','air_btech','state_btech','air_barch','state_barch'])\n",
    "    "
   ]
  },
  {
   "cell_type": "code",
   "execution_count": 16,
   "id": "b4381fbb",
   "metadata": {},
   "outputs": [
    {
     "data": {
      "text/plain": [
       "(48682, 13)"
      ]
     },
     "execution_count": 16,
     "metadata": {},
     "output_type": "execute_result"
    }
   ],
   "source": [
    "df.shape"
   ]
  },
  {
   "cell_type": "code",
   "execution_count": 17,
   "id": "e7d06d00",
   "metadata": {},
   "outputs": [],
   "source": [
    "df.to_csv('new_data/aieee_2005.csv')"
   ]
  },
  {
   "cell_type": "code",
   "execution_count": 18,
   "id": "d0adcbd6",
   "metadata": {},
   "outputs": [
    {
     "data": {
      "text/html": [
       "<div>\n",
       "<style scoped>\n",
       "    .dataframe tbody tr th:only-of-type {\n",
       "        vertical-align: middle;\n",
       "    }\n",
       "\n",
       "    .dataframe tbody tr th {\n",
       "        vertical-align: top;\n",
       "    }\n",
       "\n",
       "    .dataframe thead th {\n",
       "        text-align: right;\n",
       "    }\n",
       "</style>\n",
       "<table border=\"1\" class=\"dataframe\">\n",
       "  <thead>\n",
       "    <tr style=\"text-align: right;\">\n",
       "      <th></th>\n",
       "      <th>roll_no</th>\n",
       "      <th>name</th>\n",
       "      <th>mother_name</th>\n",
       "      <th>father_name</th>\n",
       "      <th>state_no</th>\n",
       "      <th>present</th>\n",
       "      <th>p1_marks</th>\n",
       "      <th>p2_marks</th>\n",
       "      <th>p3_marks</th>\n",
       "      <th>air_btech</th>\n",
       "      <th>state_btech</th>\n",
       "      <th>air_barch</th>\n",
       "      <th>state_barch</th>\n",
       "    </tr>\n",
       "  </thead>\n",
       "  <tbody>\n",
       "    <tr>\n",
       "      <th>0</th>\n",
       "      <td>21300535</td>\n",
       "      <td>PRASHANT APARAJEYA</td>\n",
       "      <td>ABHA SINGH</td>\n",
       "      <td>RAM ASHISH SINGH</td>\n",
       "      <td>State Rank\\n( State code of eligibility : 05  )</td>\n",
       "      <td>True</td>\n",
       "      <td>178.0</td>\n",
       "      <td>\\r\\n\\r\\n  66.5\\r\\n\\r\\n</td>\n",
       "      <td>\\r\\n\\r\\n NA</td>\n",
       "      <td>19642 *</td>\n",
       "      <td>1244</td>\n",
       "      <td>------</td>\n",
       "      <td>------</td>\n",
       "    </tr>\n",
       "    <tr>\n",
       "      <th>1</th>\n",
       "      <td>26601212</td>\n",
       "      <td>ANISHIYA P</td>\n",
       "      <td>RAJAMMAL</td>\n",
       "      <td>PAULRAJ</td>\n",
       "      <td>State Rank\\n( State code of eligibility : 31  )</td>\n",
       "      <td>True</td>\n",
       "      <td>38.0</td>\n",
       "      <td>\\r\\n\\r\\n  -5.0\\r\\n\\r\\n</td>\n",
       "      <td>\\r\\n\\r\\n NA</td>\n",
       "      <td>252135</td>\n",
       "      <td>9371</td>\n",
       "      <td>------</td>\n",
       "      <td>------</td>\n",
       "    </tr>\n",
       "    <tr>\n",
       "      <th>2</th>\n",
       "      <td>21601262</td>\n",
       "      <td>KSHITIJ DUA</td>\n",
       "      <td>RENU DUA</td>\n",
       "      <td>VINOD DUA</td>\n",
       "      <td>State Rank\\n( State code of eligibility : 10  )</td>\n",
       "      <td>True</td>\n",
       "      <td>138.5</td>\n",
       "      <td>\\r\\n\\r\\n  56.5\\r\\n\\r\\n</td>\n",
       "      <td>\\r\\n\\r\\n NA</td>\n",
       "      <td>35231</td>\n",
       "      <td>3053</td>\n",
       "      <td>------</td>\n",
       "      <td>------</td>\n",
       "    </tr>\n",
       "    <tr>\n",
       "      <th>3</th>\n",
       "      <td>21630456</td>\n",
       "      <td>RAVI BHARDWAJ</td>\n",
       "      <td>RAMWATI BHARDWAJ</td>\n",
       "      <td>KHAZAN SINGH BHARDWAJ</td>\n",
       "      <td>State Rank\\n( State code of eligibility : 33  )</td>\n",
       "      <td>True</td>\n",
       "      <td>15.0</td>\n",
       "      <td>\\r\\n\\r\\n  -8.5\\r\\n\\r\\n</td>\n",
       "      <td>\\r\\n\\r\\n NA</td>\n",
       "      <td>340595</td>\n",
       "      <td>60369</td>\n",
       "      <td>------</td>\n",
       "      <td>------</td>\n",
       "    </tr>\n",
       "    <tr>\n",
       "      <th>4</th>\n",
       "      <td>26109362</td>\n",
       "      <td>RISHA MEHTA</td>\n",
       "      <td>PAWAN MEHTA</td>\n",
       "      <td>CHANDER MEHTA</td>\n",
       "      <td>False</td>\n",
       "      <td>None</td>\n",
       "      <td>None</td>\n",
       "      <td>None</td>\n",
       "      <td>None</td>\n",
       "      <td>None</td>\n",
       "      <td>None</td>\n",
       "      <td>None</td>\n",
       "      <td>None</td>\n",
       "    </tr>\n",
       "  </tbody>\n",
       "</table>\n",
       "</div>"
      ],
      "text/plain": [
       "      roll_no                  name         mother_name  \\\n",
       "0   21300535    PRASHANT APARAJEYA          ABHA SINGH    \n",
       "1   26601212            ANISHIYA P            RAJAMMAL    \n",
       "2   21601262           KSHITIJ DUA            RENU DUA    \n",
       "3   21630456         RAVI BHARDWAJ    RAMWATI BHARDWAJ    \n",
       "4   26109362           RISHA MEHTA         PAWAN MEHTA    \n",
       "\n",
       "               father_name                                          state_no  \\\n",
       "0        RAM ASHISH SINGH   State Rank\\n( State code of eligibility : 05  )    \n",
       "1                 PAULRAJ   State Rank\\n( State code of eligibility : 31  )    \n",
       "2               VINOD DUA   State Rank\\n( State code of eligibility : 10  )    \n",
       "3   KHAZAN SINGH BHARDWAJ   State Rank\\n( State code of eligibility : 33  )    \n",
       "4           CHANDER MEHTA                                              False   \n",
       "\n",
       "  present  p1_marks                  p2_marks      p3_marks air_btech  \\\n",
       "0    True    178.0    \\r\\n\\r\\n  66.5\\r\\n\\r\\n   \\r\\n\\r\\n NA    19642 *   \n",
       "1    True     38.0    \\r\\n\\r\\n  -5.0\\r\\n\\r\\n   \\r\\n\\r\\n NA    252135    \n",
       "2    True    138.5    \\r\\n\\r\\n  56.5\\r\\n\\r\\n   \\r\\n\\r\\n NA     35231    \n",
       "3    True     15.0    \\r\\n\\r\\n  -8.5\\r\\n\\r\\n   \\r\\n\\r\\n NA    340595    \n",
       "4    None      None                      None          None      None   \n",
       "\n",
       "  state_btech air_barch state_barch  \n",
       "0       1244    ------      ------   \n",
       "1       9371    ------      ------   \n",
       "2       3053    ------      ------   \n",
       "3      60369    ------      ------   \n",
       "4        None      None        None  "
      ]
     },
     "execution_count": 18,
     "metadata": {},
     "output_type": "execute_result"
    }
   ],
   "source": [
    "df.head()"
   ]
  },
  {
   "cell_type": "markdown",
   "id": "1f57a9db",
   "metadata": {},
   "source": [
    "Add Labels"
   ]
  },
  {
   "cell_type": "code",
   "execution_count": 19,
   "id": "ccd7b773",
   "metadata": {},
   "outputs": [],
   "source": [
    "import os\n",
    "os.environ[\"CUDA_VISIBLE_DEVICES\"]=\"-1\"    \n",
    "import tensorflow as tf"
   ]
  },
  {
   "cell_type": "code",
   "execution_count": 20,
   "id": "3b39fab5",
   "metadata": {},
   "outputs": [],
   "source": [
    "def vocab():\n",
    "    alpha = ['a','b','c','d','e','f','g','h','i','j','k','l','m','n','o','p','q','r','s','t','u','v','w','x','y','z']\n",
    "    special = [' ']\n",
    "    vocab = alpha+special+['END']\n",
    "\n",
    "    return vocab\n",
    "    \n",
    "def getIndex(df, maxlen, file):\n",
    "    voc = vocab()\n",
    "    char_index = dict((c, i) for i, c in enumerate(voc))\n",
    "    \n",
    "    X = []\n",
    "    next_name = False\n",
    "    \n",
    "    # Club all the whitespaces\n",
    "    \n",
    "    trunc_X = [str(i).lower()[0:maxlen] for i in df['name']]\n",
    "    mask = []\n",
    "    for i in range(len(trunc_X)):\n",
    "        name = trunc_X[i]\n",
    "        tmp = []\n",
    "        for char in str(name):\n",
    "            if char not in voc:\n",
    "                with open(file,'a') as f:\n",
    "                    f.write(name+'\\n')\n",
    "                print(name)\n",
    "                next_name = True\n",
    "                break\n",
    "            else:\n",
    "                tmp.append(char_index[char])\n",
    "        if next_name:\n",
    "            mask.append(False)\n",
    "            next_name = False\n",
    "            continue\n",
    "        mask.append(True)\n",
    "        for k in range(0,maxlen - len(str(name))):\n",
    "            tmp.append(char_index[\"END\"])\n",
    "        X.append(tmp)\n",
    "            \n",
    "    return np.asarray(X), df[mask]"
   ]
  },
  {
   "cell_type": "code",
   "execution_count": 21,
   "id": "dddf54c0",
   "metadata": {},
   "outputs": [],
   "source": [
    "import re\n",
    "import numpy as np\n",
    "\n",
    "def preprocess_df(df):\n",
    "    df['name'] = [str(name).lower() for name in df['name']]\n",
    "    df['name'] = [str(name).strip() for name in df['name']]\n",
    "    df['name'] = [re.sub('[^a-zA-Z]+', ' ', str(name)) for name in df['name']]\n",
    "    df['name'] = [re.sub('[ \\t\\n]+',' ', str(name)) for name in df['name']]\n",
    "    df['name'].replace('', np.nan, inplace=True)\n",
    "    df = df[df['name']!='nan']\n",
    "    df.dropna(subset=['name'],inplace=True)\n",
    "    return df"
   ]
  },
  {
   "cell_type": "code",
   "execution_count": 22,
   "id": "3ed1a566",
   "metadata": {},
   "outputs": [],
   "source": [
    "def returnGenderPred(df, model):\n",
    "    test_x, df = getIndex(df, 30, 'oov.txt')\n",
    "    pred = model.predict(np.asarray(test_x), verbose = 1)\n",
    "    y_pred = np.argmax(pred, axis =1)\n",
    "    df['Gender'] = y_pred\n",
    "    return df\n",
    "\n",
    "def returnCastePred(df, model):\n",
    "    df = preprocess_df(df)\n",
    "    test_x, df = getIndex(df, 30, 'oov.txt')\n",
    "    pred = model.predict(np.asarray(test_x), verbose = 1)\n",
    "    y_pred = np.argmax(pred, axis =1)\n",
    "    df['Caste'] = y_pred\n",
    "    return df"
   ]
  },
  {
   "cell_type": "code",
   "execution_count": 23,
   "id": "6e42014a",
   "metadata": {},
   "outputs": [],
   "source": [
    "from keras.models import load_model\n",
    "\n",
    "\n",
    "def get_gender_model():\n",
    "    filename = \"/home/souvic/mounted/btp/vahini/Models/ERTrain/SavedModels/FinalSet/CharLSTM/ERModel/ERModel\"\n",
    "    model = load_model(filename)\n",
    "    return model\n",
    "\n",
    "def get_caste_model():\n",
    "    filename = \"/home/souvic/mounted/btp/vahini/Name2Demographics/Models/AIEEEData/CNNModel/SavedModel/CasteModel\"\n",
    "    model = load_model(filename)\n",
    "    return model"
   ]
  },
  {
   "cell_type": "code",
   "execution_count": 24,
   "id": "65ab9d79",
   "metadata": {},
   "outputs": [
    {
     "name": "stdout",
     "output_type": "stream",
     "text": [
      "WARNING:tensorflow:SavedModel saved prior to TF 2.5 detected when loading Keras model. Please ensure that you are saving the model with model.save() or tf.keras.models.save_model(), *NOT* tf.saved_model.save(). To confirm, there should be a file named \"keras_metadata.pb\" in the SavedModel directory.\n"
     ]
    },
    {
     "name": "stderr",
     "output_type": "stream",
     "text": [
      "2022-02-14 23:11:22.919717: E tensorflow/stream_executor/cuda/cuda_driver.cc:271] failed call to cuInit: CUDA_ERROR_NO_DEVICE: no CUDA-capable device is detected\n",
      "2022-02-14 23:11:22.919814: I tensorflow/stream_executor/cuda/cuda_diagnostics.cc:169] retrieving CUDA diagnostic information for host: obelix\n",
      "2022-02-14 23:11:22.919832: I tensorflow/stream_executor/cuda/cuda_diagnostics.cc:176] hostname: obelix\n",
      "2022-02-14 23:11:22.919999: I tensorflow/stream_executor/cuda/cuda_diagnostics.cc:200] libcuda reported version is: 470.86.0\n",
      "2022-02-14 23:11:22.920056: I tensorflow/stream_executor/cuda/cuda_diagnostics.cc:204] kernel reported version is: 470.86.0\n",
      "2022-02-14 23:11:22.920071: I tensorflow/stream_executor/cuda/cuda_diagnostics.cc:310] kernel version seems to match DSO: 470.86.0\n",
      "2022-02-14 23:11:22.928046: I tensorflow/core/platform/cpu_feature_guard.cc:151] This TensorFlow binary is optimized with oneAPI Deep Neural Network Library (oneDNN) to use the following CPU instructions in performance-critical operations:  AVX2 AVX512F FMA\n",
      "To enable them in other operations, rebuild TensorFlow with the appropriate compiler flags.\n"
     ]
    }
   ],
   "source": [
    "gender_model = get_gender_model()\n",
    "caste_model = get_caste_model()"
   ]
  },
  {
   "cell_type": "code",
   "execution_count": 25,
   "id": "503cc6fb",
   "metadata": {},
   "outputs": [
    {
     "name": "stdout",
     "output_type": "stream",
     "text": [
      "1522/1522 [==============================] - 382s 250ms/step\n",
      "1522/1522 [==============================] - 17s 11ms/step\n"
     ]
    }
   ],
   "source": [
    "df = pd.read_csv(\"new_data/aieee_2005.csv\")\n",
    "df = preprocess_df(df)\n",
    "df = returnGenderPred(df, gender_model)\n",
    "df = returnCastePred(df, caste_model)\n",
    "del df['Unnamed: 0']\n"
   ]
  },
  {
   "cell_type": "code",
   "execution_count": 26,
   "id": "fb52de88",
   "metadata": {},
   "outputs": [],
   "source": [
    "df.to_csv(\"new_data/aieee_2005.csv\")"
   ]
  },
  {
   "cell_type": "code",
   "execution_count": null,
   "id": "6c4b01a5",
   "metadata": {},
   "outputs": [],
   "source": []
  }
 ],
 "metadata": {
  "kernelspec": {
   "display_name": "Python [conda env:.conda-py38] *",
   "language": "python",
   "name": "conda-env-.conda-py38-py"
  },
  "language_info": {
   "codemirror_mode": {
    "name": "ipython",
    "version": 3
   },
   "file_extension": ".py",
   "mimetype": "text/x-python",
   "name": "python",
   "nbconvert_exporter": "python",
   "pygments_lexer": "ipython3",
   "version": "3.8.11"
  }
 },
 "nbformat": 4,
 "nbformat_minor": 5
}
