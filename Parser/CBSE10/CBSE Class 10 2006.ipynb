{
 "cells": [
  {
   "cell_type": "code",
   "execution_count": 1,
   "id": "0f73930c",
   "metadata": {},
   "outputs": [
    {
     "name": "stdout",
     "output_type": "stream",
     "text": [
      "Requirement already satisfied: BeautifulSoup4 in /home/souvic/.conda/envs/py38/lib/python3.8/site-packages (4.10.0)\r\n",
      "Requirement already satisfied: soupsieve>1.2 in /home/souvic/.conda/envs/py38/lib/python3.8/site-packages (from BeautifulSoup4) (2.2.1)\r\n"
     ]
    }
   ],
   "source": [
    "!pip install BeautifulSoup4"
   ]
  },
  {
   "cell_type": "code",
   "execution_count": 2,
   "id": "a6577cf2",
   "metadata": {},
   "outputs": [],
   "source": [
    "import pickle\n",
    "import pandas as pd\n",
    "from bs4 import BeautifulSoup"
   ]
  },
  {
   "cell_type": "code",
   "execution_count": 3,
   "id": "f03aab52",
   "metadata": {},
   "outputs": [
    {
     "data": {
      "text/plain": [
       "'/home/souvic/mounted/btp/vahini/DataSets/CBSEData/Parser'"
      ]
     },
     "execution_count": 3,
     "metadata": {},
     "output_type": "execute_result"
    }
   ],
   "source": [
    "%pwd"
   ]
  },
  {
   "cell_type": "code",
   "execution_count": 4,
   "id": "a6fac369",
   "metadata": {},
   "outputs": [],
   "source": [
    "PATH = \"/home/souvic/mounted/btp/ndata/cbseclass10data/2006/\"\n",
    "STORE = \"/home/souvic/mounted/btp/ndata/extracted/CBSEClass10/2006/\""
   ]
  },
  {
   "cell_type": "code",
   "execution_count": 5,
   "id": "030741cb",
   "metadata": {},
   "outputs": [
    {
     "name": "stdout",
     "output_type": "stream",
     "text": [
      "/home/souvic/mounted/btp/ndata/cbseclass10data/2006\n"
     ]
    }
   ],
   "source": [
    "%cd $PATH"
   ]
  },
  {
   "cell_type": "code",
   "execution_count": 6,
   "id": "4f6ae999",
   "metadata": {},
   "outputs": [],
   "source": [
    "import os\n",
    "\n",
    "files = os.listdir(PATH)"
   ]
  },
  {
   "cell_type": "code",
   "execution_count": 10,
   "id": "7b72ded4",
   "metadata": {},
   "outputs": [],
   "source": [
    "for file in files:\n",
    "    with (open(file, \"rb\")) as openfile:\n",
    "        fd = pickle.load(openfile)\n",
    "    rolls = fd.keys()\n",
    "    rn = []\n",
    "    for key in rolls:\n",
    "        rn.append(key)\n",
    "\n",
    "    data = []\n",
    "    count = 0\n",
    "    for elem in rn:\n",
    "        student = []\n",
    "        count = count+1\n",
    "        if count%10000 == 0:\n",
    "            print(file, \":\", count)\n",
    "        try:\n",
    "            soup = BeautifulSoup(fd[elem],'html.parser')\n",
    "            tab  = soup.find_all('table', align=\"center\", width=\"75%\")\n",
    "            if len(tab) < 2:\n",
    "                continue\n",
    "            info = tab[1].find_all('td')\n",
    "            roll_no = info[1].text\n",
    "            name = info[3].text\n",
    "            father_name = info[5].text\n",
    "            mother_name = info[7].text\n",
    "    #         break\n",
    "            student = [roll_no, name, father_name, mother_name]\n",
    "            data.append(student)\n",
    "        except:\n",
    "            print(elem)\n",
    "#         break\n",
    "\n",
    "    df = pd.DataFrame(data, columns=['roll_no','name','mother_name','father_name'])\n",
    "    df.to_csv(STORE+file[:-2]+\".csv\")\n",
    "#     break\n",
    "    "
   ]
  },
  {
   "cell_type": "markdown",
   "id": "8e51ffa9",
   "metadata": {},
   "source": [
    "Adding Labels"
   ]
  },
  {
   "cell_type": "code",
   "execution_count": 11,
   "id": "02723ef6",
   "metadata": {},
   "outputs": [],
   "source": [
    "import os\n",
    "os.environ[\"CUDA_VISIBLE_DEVICES\"]=\"-1\"    \n",
    "import tensorflow as tf"
   ]
  },
  {
   "cell_type": "code",
   "execution_count": 12,
   "id": "290b316c",
   "metadata": {},
   "outputs": [],
   "source": [
    "def vocab():\n",
    "    alpha = ['a','b','c','d','e','f','g','h','i','j','k','l','m','n','o','p','q','r','s','t','u','v','w','x','y','z']\n",
    "    special = [' ']\n",
    "    vocab = alpha+special+['END']\n",
    "\n",
    "    return vocab\n",
    "    \n",
    "def getIndex(df, maxlen, file):\n",
    "    voc = vocab()\n",
    "    char_index = dict((c, i) for i, c in enumerate(voc))\n",
    "    \n",
    "    X = []\n",
    "    next_name = False\n",
    "    \n",
    "    # Club all the whitespaces\n",
    "    \n",
    "    trunc_X = [str(i).lower()[0:maxlen] for i in df['name']]\n",
    "    mask = []\n",
    "    for i in range(len(trunc_X)):\n",
    "        name = trunc_X[i]\n",
    "        tmp = []\n",
    "        for char in str(name):\n",
    "            if char not in voc:\n",
    "                with open(file,'a') as f:\n",
    "                    f.write(name+'\\n')\n",
    "                print(name)\n",
    "                next_name = True\n",
    "                break\n",
    "            else:\n",
    "                tmp.append(char_index[char])\n",
    "        if next_name:\n",
    "            mask.append(False)\n",
    "            next_name = False\n",
    "            continue\n",
    "        mask.append(True)\n",
    "        for k in range(0,maxlen - len(str(name))):\n",
    "            tmp.append(char_index[\"END\"])\n",
    "        X.append(tmp)\n",
    "            \n",
    "    return np.asarray(X), df[mask]"
   ]
  },
  {
   "cell_type": "code",
   "execution_count": 13,
   "id": "40b4b607",
   "metadata": {},
   "outputs": [],
   "source": [
    "import re\n",
    "import numpy as np\n",
    "\n",
    "def preprocess_df(df):\n",
    "    df['name'] = [str(name).lower() for name in df['name']]\n",
    "    df['name'] = [str(name).strip() for name in df['name']]\n",
    "    df['name'] = [re.sub('[^a-zA-Z]+', ' ', str(name)) for name in df['name']]\n",
    "    df['name'] = [re.sub('[ \\t\\n]+',' ', str(name)) for name in df['name']]\n",
    "    df['name'].replace('', np.nan, inplace=True)\n",
    "    df = df[df['name']!='nan']\n",
    "    df.dropna(subset=['name'],inplace=True)\n",
    "    return df"
   ]
  },
  {
   "cell_type": "code",
   "execution_count": 14,
   "id": "041f0a90",
   "metadata": {},
   "outputs": [],
   "source": [
    "def returnGenderPred(df, model):\n",
    "    test_x, df = getIndex(df, 30, 'oov.txt')\n",
    "    pred = model.predict(np.asarray(test_x), verbose = 1)\n",
    "    y_pred = np.argmax(pred, axis =1)\n",
    "    df['Gender'] = y_pred\n",
    "    return df\n",
    "\n",
    "def returnCastePred(df, model):\n",
    "    df = preprocess_df(df)\n",
    "    test_x, df = getIndex(df, 30, 'oov.txt')\n",
    "    pred = model.predict(np.asarray(test_x), verbose = 1)\n",
    "    y_pred = np.argmax(pred, axis =1)\n",
    "    df['Caste'] = y_pred\n",
    "    return df"
   ]
  },
  {
   "cell_type": "code",
   "execution_count": 15,
   "id": "efbf695b",
   "metadata": {},
   "outputs": [],
   "source": [
    "from keras.models import load_model\n",
    "\n",
    "\n",
    "def get_gender_model():\n",
    "  filename = \"/home/souvic/mounted/btp/vahini/Models/ERTrain/SavedModels/FinalSet/CharLSTM/ERModel/ERModel\"\n",
    "  model = load_model(filename)\n",
    "  return model\n",
    "\n",
    "def get_caste_model():\n",
    "  filename = \"/home/souvic/mounted/btp/vahini/Name2Demographics/Models/AIEEEData/CNNModel/SavedModel/CasteModel\"\n",
    "  model = load_model(filename)\n",
    "  return model"
   ]
  },
  {
   "cell_type": "code",
   "execution_count": 16,
   "id": "20dbb283",
   "metadata": {
    "scrolled": true
   },
   "outputs": [
    {
     "name": "stdout",
     "output_type": "stream",
     "text": [
      "WARNING:tensorflow:SavedModel saved prior to TF 2.5 detected when loading Keras model. Please ensure that you are saving the model with model.save() or tf.keras.models.save_model(), *NOT* tf.saved_model.save(). To confirm, there should be a file named \"keras_metadata.pb\" in the SavedModel directory.\n"
     ]
    },
    {
     "name": "stderr",
     "output_type": "stream",
     "text": [
      "2022-02-13 23:14:14.981802: E tensorflow/stream_executor/cuda/cuda_driver.cc:271] failed call to cuInit: CUDA_ERROR_NO_DEVICE: no CUDA-capable device is detected\n",
      "2022-02-13 23:14:14.981903: I tensorflow/stream_executor/cuda/cuda_diagnostics.cc:169] retrieving CUDA diagnostic information for host: obelix\n",
      "2022-02-13 23:14:14.981925: I tensorflow/stream_executor/cuda/cuda_diagnostics.cc:176] hostname: obelix\n",
      "2022-02-13 23:14:14.982570: I tensorflow/stream_executor/cuda/cuda_diagnostics.cc:200] libcuda reported version is: 470.86.0\n",
      "2022-02-13 23:14:14.982634: I tensorflow/stream_executor/cuda/cuda_diagnostics.cc:204] kernel reported version is: 470.86.0\n",
      "2022-02-13 23:14:14.982648: I tensorflow/stream_executor/cuda/cuda_diagnostics.cc:310] kernel version seems to match DSO: 470.86.0\n",
      "2022-02-13 23:14:14.983579: I tensorflow/core/platform/cpu_feature_guard.cc:151] This TensorFlow binary is optimized with oneAPI Deep Neural Network Library (oneDNN) to use the following CPU instructions in performance-critical operations:  AVX2 AVX512F FMA\n",
      "To enable them in other operations, rebuild TensorFlow with the appropriate compiler flags.\n"
     ]
    }
   ],
   "source": [
    "gender_model = get_gender_model()\n",
    "caste_model = get_caste_model()"
   ]
  },
  {
   "cell_type": "code",
   "execution_count": 17,
   "id": "5749562a",
   "metadata": {},
   "outputs": [
    {
     "name": "stdout",
     "output_type": "stream",
     "text": [
      "/home/souvic/mounted/btp/ndata/extracted/CBSEClass10/2006/\n"
     ]
    }
   ],
   "source": [
    "print(STORE)"
   ]
  },
  {
   "cell_type": "code",
   "execution_count": 18,
   "id": "eaf2322f",
   "metadata": {},
   "outputs": [],
   "source": [
    "files = os.listdir(STORE)"
   ]
  },
  {
   "cell_type": "code",
   "execution_count": 19,
   "id": "49d3b0ed",
   "metadata": {},
   "outputs": [
    {
     "name": "stdout",
     "output_type": "stream",
     "text": [
      "45/45 [==============================] - 11s 207ms/step\n",
      "45/45 [==============================] - 0s 5ms/step\n",
      "46/46 [==============================] - 9s 200ms/step\n",
      "46/46 [==============================] - 0s 5ms/step\n",
      "46/46 [==============================] - 9s 195ms/step\n",
      "46/46 [==============================] - 0s 5ms/step\n",
      "45/45 [==============================] - 9s 193ms/step\n",
      "45/45 [==============================] - 0s 4ms/step\n",
      "46/46 [==============================] - 9s 193ms/step\n",
      "46/46 [==============================] - 0s 6ms/step\n",
      "45/45 [==============================] - 9s 193ms/step\n",
      "45/45 [==============================] - 0s 4ms/step\n",
      "46/46 [==============================] - 9s 193ms/step\n",
      "46/46 [==============================] - 0s 6ms/step\n",
      "46/46 [==============================] - 9s 199ms/step\n",
      "46/46 [==============================] - 0s 4ms/step\n",
      "46/46 [==============================] - 9s 194ms/step\n",
      "46/46 [==============================] - 0s 4ms/step\n",
      "45/45 [==============================] - 9s 193ms/step\n",
      "45/45 [==============================] - 0s 4ms/step\n",
      "46/46 [==============================] - 9s 187ms/step\n",
      "46/46 [==============================] - 0s 6ms/step\n",
      "46/46 [==============================] - 9s 195ms/step\n",
      "46/46 [==============================] - 0s 4ms/step\n",
      "45/45 [==============================] - 9s 194ms/step\n",
      "45/45 [==============================] - 0s 5ms/step\n",
      "45/45 [==============================] - 9s 195ms/step\n",
      "45/45 [==============================] - 0s 5ms/step\n",
      "45/45 [==============================] - 9s 195ms/step\n",
      "45/45 [==============================] - 0s 5ms/step\n",
      "45/45 [==============================] - 9s 191ms/step\n",
      "45/45 [==============================] - 0s 5ms/step\n",
      "46/46 [==============================] - 9s 189ms/step\n",
      "46/46 [==============================] - 0s 5ms/step\n",
      "46/46 [==============================] - 9s 187ms/step\n",
      "46/46 [==============================] - 0s 4ms/step\n",
      "46/46 [==============================] - 9s 192ms/step\n",
      "46/46 [==============================] - 0s 4ms/step\n",
      "45/45 [==============================] - 9s 188ms/step\n",
      "45/45 [==============================] - 0s 3ms/step\n",
      "45/45 [==============================] - 9s 204ms/step\n",
      "45/45 [==============================] - 0s 2ms/step\n",
      "45/45 [==============================] - 9s 209ms/step\n",
      "45/45 [==============================] - 0s 5ms/step\n",
      "46/46 [==============================] - 9s 200ms/step\n",
      "46/46 [==============================] - 0s 5ms/step\n",
      "44/44 [==============================] - 9s 195ms/step\n",
      "44/44 [==============================] - 1s 10ms/step\n",
      "44/44 [==============================] - 12s 278ms/step\n",
      "44/44 [==============================] - 0s 9ms/step\n",
      "45/45 [==============================] - 11s 245ms/step\n",
      "45/45 [==============================] - 0s 9ms/step\n",
      "46/46 [==============================] - 11s 225ms/step\n",
      "46/46 [==============================] - 0s 6ms/step\n",
      "46/46 [==============================] - 12s 264ms/step\n",
      "46/46 [==============================] - 1s 11ms/step\n",
      "45/45 [==============================] - 13s 282ms/step\n",
      "45/45 [==============================] - 0s 4ms/step\n",
      "46/46 [==============================] - 10s 219ms/step\n",
      "46/46 [==============================] - 1s 10ms/step\n",
      "45/45 [==============================] - 12s 265ms/step\n",
      "45/45 [==============================] - 0s 5ms/step\n",
      "47/47 [==============================] - 12s 255ms/step\n",
      "47/47 [==============================] - 0s 6ms/step\n",
      "46/46 [==============================] - 15s 335ms/step\n",
      "46/46 [==============================] - 1s 10ms/step\n",
      "46/46 [==============================] - 15s 328ms/step\n",
      "46/46 [==============================] - 1s 10ms/step\n",
      "45/45 [==============================] - 17s 369ms/step\n",
      "45/45 [==============================] - 1s 10ms/step\n",
      "46/46 [==============================] - 16s 341ms/step\n",
      "46/46 [==============================] - 1s 13ms/step\n",
      "46/46 [==============================] - 15s 320ms/step\n",
      "46/46 [==============================] - 0s 7ms/step\n",
      "46/46 [==============================] - 17s 361ms/step\n",
      "46/46 [==============================] - 1s 9ms/step\n",
      "46/46 [==============================] - 19s 404ms/step\n",
      "46/46 [==============================] - 1s 12ms/step\n",
      "46/46 [==============================] - 17s 363ms/step\n",
      "46/46 [==============================] - 1s 10ms/step\n",
      "45/45 [==============================] - 23s 502ms/step\n",
      "45/45 [==============================] - 1s 11ms/step\n",
      "46/46 [==============================] - 17s 368ms/step\n",
      "46/46 [==============================] - 1s 11ms/step\n",
      "45/45 [==============================] - 21s 456ms/step\n",
      "45/45 [==============================] - 0s 9ms/step\n",
      "46/46 [==============================] - 18s 389ms/step\n",
      "46/46 [==============================] - 1s 11ms/step\n",
      "46/46 [==============================] - 21s 459ms/step\n",
      "46/46 [==============================] - 1s 11ms/step\n",
      "46/46 [==============================] - 21s 442ms/step\n",
      "46/46 [==============================] - 1s 13ms/step\n",
      "46/46 [==============================] - 19s 408ms/step\n",
      "46/46 [==============================] - 1s 11ms/step\n",
      "46/46 [==============================] - 19s 420ms/step\n",
      "46/46 [==============================] - 1s 11ms/step\n",
      "46/46 [==============================] - 19s 417ms/step\n",
      "46/46 [==============================] - 1s 16ms/step\n",
      "46/46 [==============================] - 17s 372ms/step\n",
      "46/46 [==============================] - 1s 10ms/step\n"
     ]
    }
   ],
   "source": [
    "for file in files:\n",
    "  df = pd.read_csv(STORE+file)\n",
    "  df = preprocess_df(df)\n",
    "  df = returnGenderPred(df, gender_model)\n",
    "  df = returnCastePred(df, caste_model)\n",
    "  del df['Unnamed: 0']\n",
    "  df.to_csv(STORE+file)"
   ]
  },
  {
   "cell_type": "code",
   "execution_count": null,
   "id": "d4ab9544",
   "metadata": {},
   "outputs": [],
   "source": []
  }
 ],
 "metadata": {
  "kernelspec": {
   "display_name": "Python [conda env:.conda-py38] *",
   "language": "python",
   "name": "conda-env-.conda-py38-py"
  },
  "language_info": {
   "codemirror_mode": {
    "name": "ipython",
    "version": 3
   },
   "file_extension": ".py",
   "mimetype": "text/x-python",
   "name": "python",
   "nbconvert_exporter": "python",
   "pygments_lexer": "ipython3",
   "version": "3.8.11"
  }
 },
 "nbformat": 4,
 "nbformat_minor": 5
}
