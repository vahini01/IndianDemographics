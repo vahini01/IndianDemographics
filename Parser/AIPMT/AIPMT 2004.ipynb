{
 "cells": [
  {
   "cell_type": "code",
   "execution_count": 1,
   "id": "fff9bb42",
   "metadata": {},
   "outputs": [
    {
     "name": "stdout",
     "output_type": "stream",
     "text": [
      "Requirement already satisfied: BeautifulSoup4 in /home/souvic/.conda/envs/py38/lib/python3.8/site-packages (4.10.0)\r\n",
      "Requirement already satisfied: soupsieve>1.2 in /home/souvic/.conda/envs/py38/lib/python3.8/site-packages (from BeautifulSoup4) (2.2.1)\r\n"
     ]
    }
   ],
   "source": [
    "!pip install BeautifulSoup4"
   ]
  },
  {
   "cell_type": "code",
   "execution_count": 2,
   "id": "06816627",
   "metadata": {},
   "outputs": [],
   "source": [
    "import pickle\n",
    "import pandas as pd\n",
    "from bs4 import BeautifulSoup"
   ]
  },
  {
   "cell_type": "code",
   "execution_count": 3,
   "id": "9507c791",
   "metadata": {},
   "outputs": [
    {
     "data": {
      "text/plain": [
       "'/home/souvic/mounted/btp/vahini/DataSets/CBSEData/Parser'"
      ]
     },
     "execution_count": 3,
     "metadata": {},
     "output_type": "execute_result"
    }
   ],
   "source": [
    "%pwd"
   ]
  },
  {
   "cell_type": "code",
   "execution_count": 4,
   "id": "c6500883",
   "metadata": {},
   "outputs": [],
   "source": [
    "\n",
    "year=\"2004\"\n",
    "PATH = \"/home/souvic/mounted/btp/ndata/aipmt/\"+year+\"/\"\n",
    "STORE = \"/home/souvic/mounted/btp/ndata/extracted/aipmt/\"+year+\"/\""
   ]
  },
  {
   "cell_type": "code",
   "execution_count": 5,
   "id": "bc6ef149",
   "metadata": {},
   "outputs": [
    {
     "name": "stdout",
     "output_type": "stream",
     "text": [
      "/home/souvic/mounted/btp/ndata/aipmt/2004\n"
     ]
    }
   ],
   "source": [
    "%cd $PATH"
   ]
  },
  {
   "cell_type": "code",
   "execution_count": 7,
   "id": "02f43657",
   "metadata": {},
   "outputs": [],
   "source": [
    "import os\n",
    "\n",
    "files = os.listdir(PATH)"
   ]
  },
  {
   "cell_type": "code",
   "execution_count": 8,
   "id": "99eb31a7",
   "metadata": {},
   "outputs": [],
   "source": [
    "def returnpick(x):\n",
    "    with (open(x, \"rb\")) as openfile:\n",
    "        return pickle.load(openfile)"
   ]
  },
  {
   "cell_type": "code",
   "execution_count": 19,
   "id": "1a195922",
   "metadata": {},
   "outputs": [
    {
     "name": "stdout",
     "output_type": "stream",
     "text": [
      "10000\n",
      "10000\n",
      "10000\n",
      "10000\n",
      "10000\n",
      "10000\n",
      "10000\n",
      "10000\n",
      "10000\n",
      "10000\n",
      "10000\n",
      "10000\n",
      "10000\n",
      "10000\n",
      "10000\n",
      "10000\n",
      "10000\n",
      "10000\n",
      "10000\n",
      "10000\n",
      "10000\n",
      "10000\n",
      "10000\n",
      "10000\n"
     ]
    }
   ],
   "source": [
    "for file in files:\n",
    "    fd = returnpick(file)\n",
    "    rn = []\n",
    "    count=0\n",
    "    data= []\n",
    "    for key in fd.keys():\n",
    "        rn.append(key)\n",
    "    \n",
    "    for elem in rn:\n",
    "        student = []\n",
    "        count = count+1\n",
    "        if count%10000 == 0:\n",
    "            print(count)\n",
    "        try:\n",
    "            soup = BeautifulSoup(fd[elem],'html.parser')\n",
    "            tab  = soup.find_all('table', align='center', width='600')\n",
    "            if len(tab) < 2:\n",
    "                continue\n",
    "            info = tab[1].find_all('td', align='left')\n",
    "            roll_no = info[0].text;\n",
    "            name = info[1].text;\n",
    "            mother_name = info[2].text;\n",
    "            father_name = info[3].text;\n",
    "            student = [roll_no, name, mother_name, father_name]\n",
    "            data.append(student)\n",
    "        except:\n",
    "            print(elem)\n",
    "\n",
    "\n",
    "    df = pd.DataFrame(data, columns=['roll_no','name','mother_name','father_name'])\n",
    "    df.to_csv(STORE+file[:-2]+\".csv\")\n"
   ]
  },
  {
   "cell_type": "markdown",
   "id": "154c8b5b",
   "metadata": {},
   "source": [
    "Add labels"
   ]
  },
  {
   "cell_type": "code",
   "execution_count": 20,
   "id": "ccd7b773",
   "metadata": {},
   "outputs": [],
   "source": [
    "import os\n",
    "os.environ[\"CUDA_VISIBLE_DEVICES\"]=\"-1\"    \n",
    "import tensorflow as tf"
   ]
  },
  {
   "cell_type": "code",
   "execution_count": 21,
   "id": "3b39fab5",
   "metadata": {},
   "outputs": [],
   "source": [
    "def vocab():\n",
    "    alpha = ['a','b','c','d','e','f','g','h','i','j','k','l','m','n','o','p','q','r','s','t','u','v','w','x','y','z']\n",
    "    special = [' ']\n",
    "    vocab = alpha+special+['END']\n",
    "\n",
    "    return vocab\n",
    "    \n",
    "def getIndex(df, maxlen, file):\n",
    "    voc = vocab()\n",
    "    char_index = dict((c, i) for i, c in enumerate(voc))\n",
    "    \n",
    "    X = []\n",
    "    next_name = False\n",
    "    \n",
    "    # Club all the whitespaces\n",
    "    \n",
    "    trunc_X = [str(i).lower()[0:maxlen] for i in df['name']]\n",
    "    mask = []\n",
    "    for i in range(len(trunc_X)):\n",
    "        name = trunc_X[i]\n",
    "        tmp = []\n",
    "        for char in str(name):\n",
    "            if char not in voc:\n",
    "                with open(file,'a') as f:\n",
    "                    f.write(name+'\\n')\n",
    "                print(name)\n",
    "                next_name = True\n",
    "                break\n",
    "            else:\n",
    "                tmp.append(char_index[char])\n",
    "        if next_name:\n",
    "            mask.append(False)\n",
    "            next_name = False\n",
    "            continue\n",
    "        mask.append(True)\n",
    "        for k in range(0,maxlen - len(str(name))):\n",
    "            tmp.append(char_index[\"END\"])\n",
    "        X.append(tmp)\n",
    "            \n",
    "    return np.asarray(X), df[mask]"
   ]
  },
  {
   "cell_type": "code",
   "execution_count": 22,
   "id": "dddf54c0",
   "metadata": {},
   "outputs": [],
   "source": [
    "import re\n",
    "import numpy as np\n",
    "\n",
    "def preprocess_df(df):\n",
    "    df['name'] = [str(name).lower() for name in df['name']]\n",
    "    df['name'] = [str(name).strip() for name in df['name']]\n",
    "    df['name'] = [re.sub('[^a-zA-Z]+', ' ', str(name)) for name in df['name']]\n",
    "    df['name'] = [re.sub('[ \\t\\n]+',' ', str(name)) for name in df['name']]\n",
    "    df['name'].replace('', np.nan, inplace=True)\n",
    "    df = df[df['name']!='nan']\n",
    "    df.dropna(subset=['name'],inplace=True)\n",
    "    return df"
   ]
  },
  {
   "cell_type": "code",
   "execution_count": 23,
   "id": "3ed1a566",
   "metadata": {},
   "outputs": [],
   "source": [
    "def returnGenderPred(df, model):\n",
    "    test_x, df = getIndex(df, 30, 'oov.txt')\n",
    "    pred = model.predict(np.asarray(test_x), verbose = 1)\n",
    "    y_pred = np.argmax(pred, axis =1)\n",
    "    df['Gender'] = y_pred\n",
    "    return df\n",
    "\n",
    "def returnCastePred(df, model):\n",
    "    df = preprocess_df(df)\n",
    "    test_x, df = getIndex(df, 30, 'oov.txt')\n",
    "    pred = model.predict(np.asarray(test_x), verbose = 1)\n",
    "    y_pred = np.argmax(pred, axis =1)\n",
    "    df['Caste'] = y_pred\n",
    "    return df"
   ]
  },
  {
   "cell_type": "code",
   "execution_count": 24,
   "id": "6e42014a",
   "metadata": {},
   "outputs": [],
   "source": [
    "from keras.models import load_model\n",
    "\n",
    "\n",
    "def get_gender_model():\n",
    "    filename = \"/home/souvic/mounted/btp/vahini/Models/ERTrain/SavedModels/FinalSet/CharLSTM/ERModel/ERModel\"\n",
    "    model = load_model(filename)\n",
    "    return model\n",
    "\n",
    "def get_caste_model():\n",
    "    filename = \"/home/souvic/mounted/btp/vahini/Name2Demographics/Models/AIEEEData/CNNModel/SavedModel/CasteModel\"\n",
    "    model = load_model(filename)\n",
    "    return model"
   ]
  },
  {
   "cell_type": "code",
   "execution_count": 25,
   "id": "65ab9d79",
   "metadata": {},
   "outputs": [
    {
     "name": "stdout",
     "output_type": "stream",
     "text": [
      "WARNING:tensorflow:SavedModel saved prior to TF 2.5 detected when loading Keras model. Please ensure that you are saving the model with model.save() or tf.keras.models.save_model(), *NOT* tf.saved_model.save(). To confirm, there should be a file named \"keras_metadata.pb\" in the SavedModel directory.\n"
     ]
    },
    {
     "name": "stderr",
     "output_type": "stream",
     "text": [
      "2022-02-14 19:27:32.611668: E tensorflow/stream_executor/cuda/cuda_driver.cc:271] failed call to cuInit: CUDA_ERROR_NO_DEVICE: no CUDA-capable device is detected\n",
      "2022-02-14 19:27:32.611744: I tensorflow/stream_executor/cuda/cuda_diagnostics.cc:169] retrieving CUDA diagnostic information for host: obelix\n",
      "2022-02-14 19:27:32.611759: I tensorflow/stream_executor/cuda/cuda_diagnostics.cc:176] hostname: obelix\n",
      "2022-02-14 19:27:32.611909: I tensorflow/stream_executor/cuda/cuda_diagnostics.cc:200] libcuda reported version is: 470.86.0\n",
      "2022-02-14 19:27:32.611954: I tensorflow/stream_executor/cuda/cuda_diagnostics.cc:204] kernel reported version is: 470.86.0\n",
      "2022-02-14 19:27:32.611964: I tensorflow/stream_executor/cuda/cuda_diagnostics.cc:310] kernel version seems to match DSO: 470.86.0\n",
      "2022-02-14 19:27:32.612413: I tensorflow/core/platform/cpu_feature_guard.cc:151] This TensorFlow binary is optimized with oneAPI Deep Neural Network Library (oneDNN) to use the following CPU instructions in performance-critical operations:  AVX2 AVX512F FMA\n",
      "To enable them in other operations, rebuild TensorFlow with the appropriate compiler flags.\n"
     ]
    }
   ],
   "source": [
    "gender_model = get_gender_model()\n",
    "caste_model = get_caste_model()"
   ]
  },
  {
   "cell_type": "code",
   "execution_count": 26,
   "id": "40c357d7",
   "metadata": {},
   "outputs": [
    {
     "name": "stdout",
     "output_type": "stream",
     "text": [
      "/home/souvic/mounted/btp/ndata/extracted/aipmt/2004/\n"
     ]
    }
   ],
   "source": [
    "print(STORE)"
   ]
  },
  {
   "cell_type": "code",
   "execution_count": 27,
   "id": "28d77b9a",
   "metadata": {},
   "outputs": [],
   "source": [
    "files = os.listdir(STORE)"
   ]
  },
  {
   "cell_type": "code",
   "execution_count": 28,
   "id": "503cc6fb",
   "metadata": {},
   "outputs": [
    {
     "name": "stdout",
     "output_type": "stream",
     "text": [
      "48/48 [==============================] - 6s 120ms/step\n",
      "48/48 [==============================] - 0s 2ms/step\n",
      "1/1 [==============================] - 0s 162ms/step\n",
      "1/1 [==============================] - 0s 22ms/step\n",
      "3/3 [==============================] - 0s 125ms/step\n",
      "3/3 [==============================] - 0s 3ms/step\n",
      "31/31 [==============================] - 4s 117ms/step\n",
      "31/31 [==============================] - 0s 2ms/step\n",
      "47/47 [==============================] - 6s 118ms/step\n",
      "47/47 [==============================] - 0s 2ms/step\n",
      "3/3 [==============================] - 0s 113ms/step\n",
      "3/3 [==============================] - 0s 2ms/step\n",
      "3/3 [==============================] - 0s 115ms/step\n",
      "3/3 [==============================] - 0s 3ms/step\n",
      "47/47 [==============================] - 5s 116ms/step\n",
      "47/47 [==============================] - 0s 2ms/step\n",
      "49/49 [==============================] - 8s 171ms/step\n",
      "49/49 [==============================] - 0s 6ms/step\n",
      "47/47 [==============================] - 8s 174ms/step\n",
      "47/47 [==============================] - 0s 6ms/step\n",
      "45/45 [==============================] - 9s 205ms/step\n",
      "45/45 [==============================] - 0s 2ms/step\n",
      "47/47 [==============================] - 10s 203ms/step\n",
      "47/47 [==============================] - 0s 3ms/step\n",
      "48/48 [==============================] - 13s 279ms/step\n",
      "48/48 [==============================] - 1s 10ms/step\n",
      "50/50 [==============================] - 15s 291ms/step\n",
      "50/50 [==============================] - 0s 7ms/step\n",
      "46/46 [==============================] - 14s 294ms/step\n",
      "46/46 [==============================] - 0s 8ms/step\n",
      "3/3 [==============================] - 1s 360ms/step\n",
      "3/3 [==============================] - 0s 7ms/step\n",
      "48/48 [==============================] - 17s 354ms/step\n",
      "48/48 [==============================] - 0s 8ms/step\n",
      "3/3 [==============================] - 1s 386ms/step\n",
      "3/3 [==============================] - 0s 17ms/step\n",
      "29/29 [==============================] - 11s 362ms/step\n",
      "29/29 [==============================] - 0s 9ms/step\n",
      "49/49 [==============================] - 14s 287ms/step\n",
      "49/49 [==============================] - 1s 12ms/step\n",
      "47/47 [==============================] - 15s 322ms/step\n",
      "47/47 [==============================] - 1s 13ms/step\n",
      "31/31 [==============================] - 11s 350ms/step\n",
      "31/31 [==============================] - 0s 10ms/step\n",
      "48/48 [==============================] - 19s 393ms/step\n",
      "48/48 [==============================] - 0s 6ms/step\n",
      "3/3 [==============================] - 1s 406ms/step\n",
      "3/3 [==============================] - 0s 10ms/step\n",
      "3/3 [==============================] - 1s 322ms/step\n",
      "3/3 [==============================] - 0s 13ms/step\n",
      "4/4 [==============================] - 1s 275ms/step\n",
      "4/4 [==============================] - 0s 7ms/step\n",
      "4/4 [==============================] - 1s 292ms/step\n",
      "4/4 [==============================] - 0s 29ms/step\n",
      "48/48 [==============================] - 16s 323ms/step\n",
      "48/48 [==============================] - 1s 10ms/step\n",
      "50/50 [==============================] - 15s 300ms/step\n",
      "50/50 [==============================] - 1s 15ms/step\n",
      "3/3 [==============================] - 1s 443ms/step\n",
      "3/3 [==============================] - 0s 8ms/step\n",
      "49/49 [==============================] - 20s 403ms/step\n",
      "49/49 [==============================] - 1s 14ms/step\n",
      "1/1 [==============================] - 0s 387ms/step\n",
      "1/1 [==============================] - 0s 253ms/step\n",
      "49/49 [==============================] - 19s 383ms/step\n",
      "49/49 [==============================] - 1s 11ms/step\n",
      "2/2 [==============================] - 1s 304ms/step\n",
      "2/2 [==============================] - 0s 12ms/step\n",
      "50/50 [==============================] - 17s 336ms/step\n",
      "50/50 [==============================] - 1s 17ms/step\n",
      "48/48 [==============================] - 18s 381ms/step\n",
      "48/48 [==============================] - 1s 10ms/step\n",
      "3/3 [==============================] - 2s 478ms/step\n",
      "3/3 [==============================] - 0s 14ms/step\n",
      "50/50 [==============================] - 19s 383ms/step\n",
      "50/50 [==============================] - 1s 13ms/step\n",
      "48/48 [==============================] - 18s 377ms/step\n",
      "48/48 [==============================] - 1s 17ms/step\n",
      "3/3 [==============================] - 2s 464ms/step\n",
      "3/3 [==============================] - 0s 24ms/step\n",
      "3/3 [==============================] - 1s 385ms/step\n",
      "3/3 [==============================] - 0s 16ms/step\n",
      "51/51 [==============================] - 18s 343ms/step\n",
      "51/51 [==============================] - 1s 10ms/step\n",
      "48/48 [==============================] - 20s 410ms/step\n",
      "48/48 [==============================] - 1s 10ms/step\n",
      "30/30 [==============================] - 10s 322ms/step\n",
      "30/30 [==============================] - 0s 7ms/step\n",
      "3/3 [==============================] - 1s 279ms/step\n",
      "3/3 [==============================] - 0s 7ms/step\n",
      "2/2 [==============================] - 1s 279ms/step\n",
      "2/2 [==============================] - 0s 9ms/step\n",
      "30/30 [==============================] - 11s 358ms/step\n",
      "30/30 [==============================] - 1s 13ms/step\n",
      "4/4 [==============================] - 2s 394ms/step\n",
      "4/4 [==============================] - 0s 10ms/step\n",
      "3/3 [==============================] - 2s 479ms/step\n",
      "3/3 [==============================] - 0s 19ms/step\n",
      "4/4 [==============================] - 2s 384ms/step\n",
      "4/4 [==============================] - 0s 16ms/step\n"
     ]
    }
   ],
   "source": [
    "for file in files:\n",
    "  df = pd.read_csv(STORE+file)\n",
    "  df = preprocess_df(df)\n",
    "  df = returnGenderPred(df, gender_model)\n",
    "  df = returnCastePred(df, caste_model)\n",
    "  del df['Unnamed: 0']\n",
    "  df.to_csv(STORE+file)"
   ]
  },
  {
   "cell_type": "code",
   "execution_count": null,
   "id": "fb52de88",
   "metadata": {},
   "outputs": [],
   "source": []
  }
 ],
 "metadata": {
  "kernelspec": {
   "display_name": "Python [conda env:.conda-py38] *",
   "language": "python",
   "name": "conda-env-.conda-py38-py"
  },
  "language_info": {
   "codemirror_mode": {
    "name": "ipython",
    "version": 3
   },
   "file_extension": ".py",
   "mimetype": "text/x-python",
   "name": "python",
   "nbconvert_exporter": "python",
   "pygments_lexer": "ipython3",
   "version": "3.8.11"
  }
 },
 "nbformat": 4,
 "nbformat_minor": 5
}
