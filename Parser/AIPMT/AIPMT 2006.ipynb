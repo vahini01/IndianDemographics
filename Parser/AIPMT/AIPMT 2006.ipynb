{
 "cells": [
  {
   "cell_type": "code",
   "execution_count": 27,
   "id": "fff9bb42",
   "metadata": {},
   "outputs": [
    {
     "name": "stdout",
     "output_type": "stream",
     "text": [
      "Requirement already satisfied: BeautifulSoup4 in /home/souvic/.conda/envs/py38/lib/python3.8/site-packages (4.10.0)\r\n",
      "Requirement already satisfied: soupsieve>1.2 in /home/souvic/.conda/envs/py38/lib/python3.8/site-packages (from BeautifulSoup4) (2.2.1)\r\n"
     ]
    }
   ],
   "source": [
    "!pip install BeautifulSoup4"
   ]
  },
  {
   "cell_type": "code",
   "execution_count": 28,
   "id": "06816627",
   "metadata": {},
   "outputs": [],
   "source": [
    "import pickle\n",
    "import pandas as pd\n",
    "from bs4 import BeautifulSoup"
   ]
  },
  {
   "cell_type": "code",
   "execution_count": 29,
   "id": "9507c791",
   "metadata": {},
   "outputs": [
    {
     "data": {
      "text/plain": [
       "'/home/souvic/mounted/btp/ndata/aipmt/2006'"
      ]
     },
     "execution_count": 29,
     "metadata": {},
     "output_type": "execute_result"
    }
   ],
   "source": [
    "%pwd"
   ]
  },
  {
   "cell_type": "code",
   "execution_count": 30,
   "id": "c6500883",
   "metadata": {},
   "outputs": [],
   "source": [
    "\n",
    "year=\"2006\"\n",
    "PATH = \"/home/souvic/mounted/btp/ndata/aipmt/\"+year+\"/\"\n",
    "STORE = \"/home/souvic/mounted/btp/ndata/extracted/aipmt/\"+year+\"/\""
   ]
  },
  {
   "cell_type": "code",
   "execution_count": 31,
   "id": "bc6ef149",
   "metadata": {},
   "outputs": [
    {
     "name": "stdout",
     "output_type": "stream",
     "text": [
      "/home/souvic/mounted/btp/ndata/aipmt/2006\n"
     ]
    }
   ],
   "source": [
    "%cd $PATH"
   ]
  },
  {
   "cell_type": "code",
   "execution_count": 32,
   "id": "02f43657",
   "metadata": {},
   "outputs": [],
   "source": [
    "import os\n",
    "\n",
    "files = os.listdir(PATH)"
   ]
  },
  {
   "cell_type": "code",
   "execution_count": 33,
   "id": "99eb31a7",
   "metadata": {},
   "outputs": [],
   "source": [
    "def returnpick(x):\n",
    "    with (open(x, \"rb\")) as openfile:\n",
    "        return pickle.load(openfile)"
   ]
  },
  {
   "cell_type": "code",
   "execution_count": 26,
   "id": "1a195922",
   "metadata": {},
   "outputs": [
    {
     "name": "stdout",
     "output_type": "stream",
     "text": [
      "10000\n",
      "10000\n",
      "10000\n",
      "10000\n",
      "10000\n",
      "10000\n",
      "10000\n",
      "10000\n",
      "10000\n",
      "10000\n",
      "10000\n",
      "10000\n",
      "10000\n",
      "10000\n",
      "10000\n",
      "10000\n",
      "10000\n",
      "10000\n",
      "10000\n",
      "10000\n",
      "10000\n",
      "10000\n",
      "10000\n",
      "10000\n",
      "10000\n",
      "10000\n",
      "10000\n",
      "10000\n",
      "10000\n"
     ]
    }
   ],
   "source": [
    "for file in files:\n",
    "    fd = returnpick(file)\n",
    "    rn = []\n",
    "    count=0\n",
    "    data= []\n",
    "    for key in fd.keys():\n",
    "        rn.append(key)\n",
    "    \n",
    "    for elem in rn:\n",
    "        student = []\n",
    "        count = count+1\n",
    "        if count%10000 == 0:\n",
    "            print(count)\n",
    "        try:\n",
    "            soup = BeautifulSoup(fd[elem],'html.parser')\n",
    "            tab  = soup.find_all('table', align='center', width='600')\n",
    "            if len(tab) < 3:\n",
    "                continue\n",
    "            info = tab[2].find_all('td', align='left')\n",
    "            roll_no = info[0].text;\n",
    "            name = info[1].text;\n",
    "            mother_name = info[2].text;\n",
    "            father_name = info[3].text;\n",
    "            student = [roll_no, name, mother_name, father_name]\n",
    "            data.append(student)\n",
    "#             break\n",
    "        except:\n",
    "            print(elem)\n",
    "#         break\n",
    "\n",
    "\n",
    "    df = pd.DataFrame(data, columns=['roll_no','name','mother_name','father_name'])\n",
    "    df.to_csv(STORE+file[:-2]+\".csv\")\n",
    "#     break\n"
   ]
  },
  {
   "cell_type": "markdown",
   "id": "154c8b5b",
   "metadata": {},
   "source": [
    "Add labels"
   ]
  },
  {
   "cell_type": "code",
   "execution_count": 34,
   "id": "ccd7b773",
   "metadata": {},
   "outputs": [],
   "source": [
    "import os\n",
    "os.environ[\"CUDA_VISIBLE_DEVICES\"]=\"-1\"    \n",
    "import tensorflow as tf"
   ]
  },
  {
   "cell_type": "code",
   "execution_count": 35,
   "id": "3b39fab5",
   "metadata": {},
   "outputs": [],
   "source": [
    "def vocab():\n",
    "    alpha = ['a','b','c','d','e','f','g','h','i','j','k','l','m','n','o','p','q','r','s','t','u','v','w','x','y','z']\n",
    "    special = [' ']\n",
    "    vocab = alpha+special+['END']\n",
    "\n",
    "    return vocab\n",
    "    \n",
    "def getIndex(df, maxlen, file):\n",
    "    voc = vocab()\n",
    "    char_index = dict((c, i) for i, c in enumerate(voc))\n",
    "    \n",
    "    X = []\n",
    "    next_name = False\n",
    "    \n",
    "    # Club all the whitespaces\n",
    "    \n",
    "    trunc_X = [str(i).lower()[0:maxlen] for i in df['name']]\n",
    "    mask = []\n",
    "    for i in range(len(trunc_X)):\n",
    "        name = trunc_X[i]\n",
    "        tmp = []\n",
    "        for char in str(name):\n",
    "            if char not in voc:\n",
    "                with open(file,'a') as f:\n",
    "                    f.write(name+'\\n')\n",
    "                print(name)\n",
    "                next_name = True\n",
    "                break\n",
    "            else:\n",
    "                tmp.append(char_index[char])\n",
    "        if next_name:\n",
    "            mask.append(False)\n",
    "            next_name = False\n",
    "            continue\n",
    "        mask.append(True)\n",
    "        for k in range(0,maxlen - len(str(name))):\n",
    "            tmp.append(char_index[\"END\"])\n",
    "        X.append(tmp)\n",
    "            \n",
    "    return np.asarray(X), df[mask]"
   ]
  },
  {
   "cell_type": "code",
   "execution_count": 36,
   "id": "dddf54c0",
   "metadata": {},
   "outputs": [],
   "source": [
    "import re\n",
    "import numpy as np\n",
    "\n",
    "def preprocess_df(df):\n",
    "    df['name'] = [str(name).lower() for name in df['name']]\n",
    "    df['name'] = [str(name).strip() for name in df['name']]\n",
    "    df['name'] = [re.sub('[^a-zA-Z]+', ' ', str(name)) for name in df['name']]\n",
    "    df['name'] = [re.sub('[ \\t\\n]+',' ', str(name)) for name in df['name']]\n",
    "    df['name'].replace('', np.nan, inplace=True)\n",
    "    df = df[df['name']!='nan']\n",
    "    df.dropna(subset=['name'],inplace=True)\n",
    "    return df"
   ]
  },
  {
   "cell_type": "code",
   "execution_count": 37,
   "id": "3ed1a566",
   "metadata": {},
   "outputs": [],
   "source": [
    "def returnGenderPred(df, model):\n",
    "    test_x, df = getIndex(df, 30, 'oov.txt')\n",
    "    pred = model.predict(np.asarray(test_x), verbose = 1)\n",
    "    y_pred = np.argmax(pred, axis =1)\n",
    "    df['Gender'] = y_pred\n",
    "    return df\n",
    "\n",
    "def returnCastePred(df, model):\n",
    "    df = preprocess_df(df)\n",
    "    test_x, df = getIndex(df, 30, 'oov.txt')\n",
    "    pred = model.predict(np.asarray(test_x), verbose = 1)\n",
    "    y_pred = np.argmax(pred, axis =1)\n",
    "    df['Caste'] = y_pred\n",
    "    return df"
   ]
  },
  {
   "cell_type": "code",
   "execution_count": 38,
   "id": "6e42014a",
   "metadata": {},
   "outputs": [],
   "source": [
    "from keras.models import load_model\n",
    "\n",
    "\n",
    "def get_gender_model():\n",
    "    filename = \"/home/souvic/mounted/btp/vahini/Models/ERTrain/SavedModels/FinalSet/CharLSTM/ERModel/ERModel\"\n",
    "    model = load_model(filename)\n",
    "    return model\n",
    "\n",
    "def get_caste_model():\n",
    "    filename = \"/home/souvic/mounted/btp/vahini/Name2Demographics/Models/AIEEEData/CNNModel/SavedModel/CasteModel\"\n",
    "    model = load_model(filename)\n",
    "    return model"
   ]
  },
  {
   "cell_type": "code",
   "execution_count": 39,
   "id": "65ab9d79",
   "metadata": {},
   "outputs": [
    {
     "name": "stdout",
     "output_type": "stream",
     "text": [
      "WARNING:tensorflow:SavedModel saved prior to TF 2.5 detected when loading Keras model. Please ensure that you are saving the model with model.save() or tf.keras.models.save_model(), *NOT* tf.saved_model.save(). To confirm, there should be a file named \"keras_metadata.pb\" in the SavedModel directory.\n"
     ]
    },
    {
     "name": "stderr",
     "output_type": "stream",
     "text": [
      "2022-02-14 19:28:28.071460: E tensorflow/stream_executor/cuda/cuda_driver.cc:271] failed call to cuInit: CUDA_ERROR_NO_DEVICE: no CUDA-capable device is detected\n",
      "2022-02-14 19:28:28.071620: I tensorflow/stream_executor/cuda/cuda_diagnostics.cc:169] retrieving CUDA diagnostic information for host: obelix\n",
      "2022-02-14 19:28:28.071639: I tensorflow/stream_executor/cuda/cuda_diagnostics.cc:176] hostname: obelix\n",
      "2022-02-14 19:28:28.072054: I tensorflow/stream_executor/cuda/cuda_diagnostics.cc:200] libcuda reported version is: 470.86.0\n",
      "2022-02-14 19:28:28.072192: I tensorflow/stream_executor/cuda/cuda_diagnostics.cc:204] kernel reported version is: 470.86.0\n",
      "2022-02-14 19:28:28.072217: I tensorflow/stream_executor/cuda/cuda_diagnostics.cc:310] kernel version seems to match DSO: 470.86.0\n",
      "2022-02-14 19:28:28.073364: I tensorflow/core/platform/cpu_feature_guard.cc:151] This TensorFlow binary is optimized with oneAPI Deep Neural Network Library (oneDNN) to use the following CPU instructions in performance-critical operations:  AVX2 AVX512F FMA\n",
      "To enable them in other operations, rebuild TensorFlow with the appropriate compiler flags.\n"
     ]
    }
   ],
   "source": [
    "gender_model = get_gender_model()\n",
    "caste_model = get_caste_model()"
   ]
  },
  {
   "cell_type": "code",
   "execution_count": 40,
   "id": "40c357d7",
   "metadata": {},
   "outputs": [
    {
     "name": "stdout",
     "output_type": "stream",
     "text": [
      "/home/souvic/mounted/btp/ndata/extracted/aipmt/2006/\n"
     ]
    }
   ],
   "source": [
    "print(STORE)"
   ]
  },
  {
   "cell_type": "code",
   "execution_count": 41,
   "id": "28d77b9a",
   "metadata": {},
   "outputs": [],
   "source": [
    "files = os.listdir(STORE)"
   ]
  },
  {
   "cell_type": "code",
   "execution_count": 42,
   "id": "503cc6fb",
   "metadata": {},
   "outputs": [
    {
     "name": "stdout",
     "output_type": "stream",
     "text": [
      "43/43 [==============================] - 15s 289ms/step\n",
      "43/43 [==============================] - 1s 8ms/step\n",
      "44/44 [==============================] - 14s 313ms/step\n",
      "44/44 [==============================] - 0s 7ms/step\n",
      "43/43 [==============================] - 13s 311ms/step\n",
      "43/43 [==============================] - 0s 8ms/step\n",
      "43/43 [==============================] - 19s 443ms/step\n",
      "43/43 [==============================] - 1s 9ms/step\n",
      "45/45 [==============================] - 18s 400ms/step\n",
      "45/45 [==============================] - 1s 14ms/step\n",
      "41/41 [==============================] - 16s 392ms/step\n",
      "41/41 [==============================] - 1s 11ms/step\n",
      "11/11 [==============================] - 4s 393ms/step\n",
      "11/11 [==============================] - 0s 13ms/step\n",
      "44/44 [==============================] - 17s 381ms/step\n",
      "44/44 [==============================] - 1s 9ms/step\n",
      "42/42 [==============================] - 19s 446ms/step\n",
      "42/42 [==============================] - 0s 7ms/step\n",
      "43/43 [==============================] - 16s 360ms/step\n",
      "43/43 [==============================] - 1s 15ms/step\n",
      "11/11 [==============================] - 4s 335ms/step\n",
      "11/11 [==============================] - 0s 14ms/step\n",
      "11/11 [==============================] - 4s 396ms/step\n",
      "11/11 [==============================] - 0s 5ms/step\n",
      "11/11 [==============================] - 4s 418ms/step\n",
      "11/11 [==============================] - 0s 12ms/step\n",
      "43/43 [==============================] - 19s 444ms/step\n",
      "43/43 [==============================] - 1s 17ms/step\n",
      "44/44 [==============================] - 22s 500ms/step\n",
      "44/44 [==============================] - 1s 18ms/step\n",
      "44/44 [==============================] - 22s 502ms/step\n",
      "44/44 [==============================] - 1s 14ms/step\n",
      "11/11 [==============================] - 5s 399ms/step\n",
      "11/11 [==============================] - 0s 6ms/step\n",
      "43/43 [==============================] - 19s 428ms/step\n",
      "43/43 [==============================] - 1s 9ms/step\n",
      "12/12 [==============================] - 5s 424ms/step\n",
      "12/12 [==============================] - 0s 18ms/step\n",
      "42/42 [==============================] - 20s 461ms/step\n",
      "42/42 [==============================] - 1s 16ms/step\n",
      "4/4 [==============================] - 2s 527ms/step\n",
      "4/4 [==============================] - 0s 23ms/step\n",
      "12/12 [==============================] - 5s 441ms/step\n",
      "12/12 [==============================] - 0s 19ms/step\n",
      "42/42 [==============================] - 21s 492ms/step\n",
      "42/42 [==============================] - 1s 16ms/step\n",
      "11/11 [==============================] - 5s 420ms/step\n",
      "11/11 [==============================] - 0s 15ms/step\n",
      "42/42 [==============================] - 16s 388ms/step\n",
      "42/42 [==============================] - 1s 9ms/step\n",
      "45/45 [==============================] - 18s 390ms/step\n",
      "45/45 [==============================] - 1s 17ms/step\n",
      "11/11 [==============================] - 7s 381ms/step\n",
      "11/11 [==============================] - 0s 16ms/step\n",
      "43/43 [==============================] - 18s 426ms/step\n",
      "43/43 [==============================] - 1s 13ms/step\n",
      "43/43 [==============================] - 17s 401ms/step\n",
      "43/43 [==============================] - 1s 17ms/step\n",
      "43/43 [==============================] - 17s 387ms/step\n",
      "43/43 [==============================] - 1s 14ms/step\n",
      "11/11 [==============================] - 4s 318ms/step\n",
      "11/11 [==============================] - 0s 4ms/step\n",
      "12/12 [==============================] - 4s 297ms/step\n",
      "12/12 [==============================] - 0s 12ms/step\n",
      "11/11 [==============================] - 4s 411ms/step\n",
      "11/11 [==============================] - 0s 17ms/step\n",
      "42/42 [==============================] - 19s 437ms/step\n",
      "42/42 [==============================] - 1s 13ms/step\n",
      "43/43 [==============================] - 16s 370ms/step\n",
      "43/43 [==============================] - 1s 14ms/step\n",
      "41/41 [==============================] - 16s 390ms/step\n",
      "41/41 [==============================] - 0s 7ms/step\n",
      "44/44 [==============================] - 15s 350ms/step\n",
      "44/44 [==============================] - 1s 16ms/step\n",
      "44/44 [==============================] - 17s 375ms/step\n",
      "44/44 [==============================] - 1s 11ms/step\n",
      "42/42 [==============================] - 15s 367ms/step\n",
      "42/42 [==============================] - 1s 13ms/step\n",
      "11/11 [==============================] - 5s 472ms/step\n",
      "11/11 [==============================] - 0s 10ms/step\n",
      "13/13 [==============================] - 5s 359ms/step\n",
      "13/13 [==============================] - 0s 13ms/step\n",
      "10/10 [==============================] - 4s 435ms/step\n",
      "10/10 [==============================] - 0s 18ms/step\n",
      "11/11 [==============================] - 5s 471ms/step\n",
      "11/11 [==============================] - 0s 14ms/step\n",
      "11/11 [==============================] - 3s 282ms/step\n",
      "11/11 [==============================] - 0s 2ms/step\n",
      "11/11 [==============================] - 2s 137ms/step\n",
      "11/11 [==============================] - 0s 3ms/step\n",
      "45/45 [==============================] - 8s 167ms/step\n",
      "45/45 [==============================] - 0s 2ms/step\n",
      "11/11 [==============================] - 2s 137ms/step\n",
      "11/11 [==============================] - 0s 2ms/step\n",
      "41/41 [==============================] - 10s 254ms/step\n",
      "41/41 [==============================] - 0s 2ms/step\n",
      "11/11 [==============================] - 3s 262ms/step\n",
      "11/11 [==============================] - 0s 4ms/step\n",
      "44/44 [==============================] - 9s 205ms/step\n",
      "44/44 [==============================] - 0s 2ms/step\n"
     ]
    }
   ],
   "source": [
    "for file in files:\n",
    "  df = pd.read_csv(STORE+file)\n",
    "  df = preprocess_df(df)\n",
    "  df = returnGenderPred(df, gender_model)\n",
    "  df = returnCastePred(df, caste_model)\n",
    "  del df['Unnamed: 0']\n",
    "  df.to_csv(STORE+file)"
   ]
  },
  {
   "cell_type": "code",
   "execution_count": null,
   "id": "fb52de88",
   "metadata": {},
   "outputs": [],
   "source": []
  }
 ],
 "metadata": {
  "kernelspec": {
   "display_name": "Python [conda env:.conda-py38] *",
   "language": "python",
   "name": "conda-env-.conda-py38-py"
  },
  "language_info": {
   "codemirror_mode": {
    "name": "ipython",
    "version": 3
   },
   "file_extension": ".py",
   "mimetype": "text/x-python",
   "name": "python",
   "nbconvert_exporter": "python",
   "pygments_lexer": "ipython3",
   "version": "3.8.11"
  }
 },
 "nbformat": 4,
 "nbformat_minor": 5
}
