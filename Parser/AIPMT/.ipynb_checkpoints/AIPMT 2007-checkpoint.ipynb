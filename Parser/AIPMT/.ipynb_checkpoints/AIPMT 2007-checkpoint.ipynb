{
 "cells": [
  {
   "cell_type": "code",
   "execution_count": 1,
   "id": "fff9bb42",
   "metadata": {},
   "outputs": [
    {
     "name": "stdout",
     "output_type": "stream",
     "text": [
      "Requirement already satisfied: BeautifulSoup4 in /home/souvic/.conda/envs/py38/lib/python3.8/site-packages (4.10.0)\n",
      "Requirement already satisfied: soupsieve>1.2 in /home/souvic/.conda/envs/py38/lib/python3.8/site-packages (from BeautifulSoup4) (2.2.1)\n"
     ]
    }
   ],
   "source": [
    "!pip install BeautifulSoup4"
   ]
  },
  {
   "cell_type": "code",
   "execution_count": 2,
   "id": "06816627",
   "metadata": {},
   "outputs": [],
   "source": [
    "import pickle\n",
    "import pandas as pd\n",
    "from bs4 import BeautifulSoup"
   ]
  },
  {
   "cell_type": "code",
   "execution_count": 3,
   "id": "9507c791",
   "metadata": {},
   "outputs": [
    {
     "data": {
      "text/plain": [
       "'/home/souvic/mounted/btp/vahini/DataSets/CBSEData/Parser'"
      ]
     },
     "execution_count": 3,
     "metadata": {},
     "output_type": "execute_result"
    }
   ],
   "source": [
    "%pwd"
   ]
  },
  {
   "cell_type": "code",
   "execution_count": 4,
   "id": "c6500883",
   "metadata": {},
   "outputs": [],
   "source": [
    "\n",
    "year=\"2007\"\n",
    "PATH = \"/home/souvic/mounted/btp/ndata/aipmt/\"+year+\"/\"\n",
    "STORE = \"/home/souvic/mounted/btp/ndata/extracted/aipmt/\"+year+\"/\""
   ]
  },
  {
   "cell_type": "code",
   "execution_count": 5,
   "id": "bc6ef149",
   "metadata": {},
   "outputs": [
    {
     "name": "stdout",
     "output_type": "stream",
     "text": [
      "/home/souvic/mounted/btp/ndata/aipmt/2007\n"
     ]
    }
   ],
   "source": [
    "%cd $PATH"
   ]
  },
  {
   "cell_type": "code",
   "execution_count": 6,
   "id": "02f43657",
   "metadata": {},
   "outputs": [],
   "source": [
    "import os\n",
    "\n",
    "files = os.listdir(PATH)"
   ]
  },
  {
   "cell_type": "code",
   "execution_count": 7,
   "id": "99eb31a7",
   "metadata": {},
   "outputs": [],
   "source": [
    "def returnpick(x):\n",
    "    with (open(x, \"rb\")) as openfile:\n",
    "        return pickle.load(openfile)"
   ]
  },
  {
   "cell_type": "code",
   "execution_count": 8,
   "id": "1a195922",
   "metadata": {},
   "outputs": [
    {
     "name": "stdout",
     "output_type": "stream",
     "text": [
      "2092716\n"
     ]
    }
   ],
   "source": [
    "for file in files:\n",
    "    fd = returnpick(file)\n",
    "    rn = []\n",
    "    count=0\n",
    "    data= []\n",
    "    for key in fd.keys():\n",
    "        rn.append(key)\n",
    "    \n",
    "    for elem in rn:\n",
    "        student = []\n",
    "        count = count+1\n",
    "        if count%10000 == 0:\n",
    "            print(count)\n",
    "        try:\n",
    "            soup = BeautifulSoup(fd[elem],'html.parser')\n",
    "            tab  = soup.find_all('table', align='center', width='600')\n",
    "            if len(tab) < 2:\n",
    "                continue\n",
    "            info = tab[1].find_all('td', align='left')\n",
    "            roll_no = info[0].text;\n",
    "            name = info[1].text;\n",
    "            mother_name = info[2].text;\n",
    "            father_name = info[3].text;\n",
    "            student = [roll_no, name, mother_name, father_name]\n",
    "            data.append(student)\n",
    "#             break\n",
    "        except:\n",
    "            print(elem)\n",
    "        break\n",
    "\n",
    "\n",
    "    df = pd.DataFrame(data, columns=['roll_no','name','mother_name','father_name'])\n",
    "    df.to_csv(STORE+file[:-2]+\".csv\")\n",
    "    break\n"
   ]
  },
  {
   "cell_type": "code",
   "execution_count": 9,
   "id": "a09a03d5",
   "metadata": {},
   "outputs": [
    {
     "data": {
      "text/plain": [
       "<html>\n",
       "<head>\n",
       "<script language=\"javascript\">\n",
       "<!--\n",
       "function newwin()\n",
       "{\n",
       "if (self != top) \n",
       "top.location.href=\"cbsepmtpre.htm\";\n",
       "}\n",
       "function visitSite(url){\n",
       "mywin=window.open(\"\",\"goidisplaywin\",\"width=600,height=350,screenX=100,screenY=0,scrollbars=yes,menubar=yes,resizable=yes,status=yes,toolbar=yes,directories=no,location=yes\");\n",
       "mywin.location.href=url;\n",
       "mywin.focus();\n",
       "}\n",
       "//-->\n",
       "</script>\n",
       "<title>CBSE - ALL INDIA PMT/PDT ENTRANCE EXAMINATION 2007 : Preliminary Exam Results</title>\n",
       "</head>\n",
       "<body alink=\"#3333cc\" bgcolor=\"#ffffff\" leftmargin=\"0\" link=\"#3333cc\" marginheight=\"0\" marginwidth=\"0\" onload=\"newwin()\" text=\"#000000\" topmargin=\"0\" vlink=\"#3333cc\">\n",
       "<table bgcolor=\"#373abe\" border=\"0\" cellpadding=\"0\" cellspacing=\"0\" width=\"100%\">\n",
       "<tr align=\"left\" valign=\"top\">\n",
       "<td width=\"5%\"><img height=\"69\" src=\"../images/cbse1.gif\" width=\"67\"/></td>\n",
       "<td valign=\"center\" width=\"95%\">\n",
       "<table border=\"0\" cellpadding=\"0\" cellspacing=\"0\" width=\"100%\">\n",
       "<tr align=\"right\" valign=\"bottom\">\n",
       "<td><font color=\"#ffffff\" face=\"Arial, Helvetica, sans-serif\" size=\"2\"><b>\n",
       "<font size=\"3\">http://cbseresults.nic.in</font></b></font></td>\n",
       "</tr>\n",
       "<tr>\n",
       "<td><img height=\"31\" src=\"../images/cbse2.gif\" width=\"263\"/></td>\n",
       "</tr>\n",
       "</table>\n",
       "</td>\n",
       "</tr>\n",
       "</table>\n",
       "<table bgcolor=\"#373abe\" border=\"0\" cellpadding=\"0\" cellspacing=\"0\" height=\"30\" width=\"100%\">\n",
       "<tr>\n",
       "<td><img height=\"26\" src=\"../images/cbse3.gif\" width=\"408\"/><font face=\"Arial, Helvetica, sans-serif\" size=\"3\"><font color=\"#ffffff\"><b><font size=\"4\">\n",
       "</font></b></font> </font></td>\n",
       "<td>\n",
       "<div align=\"right\"><font face=\"Arial, Helvetica, sans-serif\" size=\"3\"><font color=\"#ffffff\"><b><font size=\"4\"> \n",
       "        Examination Results 2007</font></b></font> </font></div>\n",
       "</td>\n",
       "</tr>\n",
       "</table><div align=\"right\"><strong> \n",
       "Brought to you by <a href=\"javascript:visitSite('http://home.nic.in')\">National Informatics Centre<br/><br/></a></strong></div>\n",
       "<table align=\"center\" border=\"0\" cellpadding=\"0\" cellspacing=\"0\" width=\"600\">\n",
       "<tr>\n",
       "<td align=\"center\">\n",
       "<font color=\"#3333CC\" face=\"Arial, Helvetica, sans-serif\" size=\"3\">\n",
       "<b>CBSE - ALL INDIA PMT/PDT ENTRANCE EXAMINATION 2007 <br/>\n",
       "<font size=\"2\">( RESULT OF PRELIMINARY EXAMINATION HELD ON 1st APRIL,2007 )</font><br/>\n",
       "</b></font></td>\n",
       "</tr>\n",
       "</table>\n",
       "<b></b><p></p><center>Check Your Roll Number and <a href=\"javascript:history.go(-1)\">ENTER</a> again<p></p><p>\n",
       "</p><table align=\"center\" style=\"font-family:verdana;font-size:10\" width=\"600\">\n",
       "<tr><td xalign=\"center\">\n",
       "<hr width=\"100%\"/>\n",
       "<b>Disclaimer:</b> \n",
       "Neither NIC nor \n",
       "            CBSE is responsible for any inadvertent error that may have crept in \n",
       "            the results being published on NET. The results published on net are \n",
       "            for immediate information to the examinees.</td></tr></table>\n",
       "<div align=\"center\"><font color=\"#000000\" face=\"Arial, Helvetica, sans-serif\" size=\"2\">    \n",
       "                   \n",
       "           .<br/>\n",
       "<br/></font></div>\n",
       "<tr align=\"middle\" bgcolor=\"#c2dbf8\" valign=\"baseline\">\n",
       "<td height=\"23\">\n",
       "<div align=\"center\">\n",
       "<font color=\"#000000\" face=\"verdana, Arial, Helvetica, sans-serif\" size=\"2\"><b>\n",
       "<a href=\"javascript:visitSite('http://home.nic.in')\">Designed, \n",
       "        Developed and Hosted by National \n",
       "        Informatics Centre</a>\n",
       "</b></font></div>\n",
       "</td>\n",
       "</tr>\n",
       "</center></body>\n",
       "</html>"
      ]
     },
     "execution_count": 9,
     "metadata": {},
     "output_type": "execute_result"
    }
   ],
   "source": [
    "soup"
   ]
  },
  {
   "cell_type": "markdown",
   "id": "154c8b5b",
   "metadata": {},
   "source": [
    "Add labels"
   ]
  },
  {
   "cell_type": "code",
   "execution_count": 14,
   "id": "ccd7b773",
   "metadata": {},
   "outputs": [],
   "source": [
    "import os\n",
    "os.environ[\"CUDA_VISIBLE_DEVICES\"]=\"-1\"    \n",
    "import tensorflow as tf"
   ]
  },
  {
   "cell_type": "code",
   "execution_count": 15,
   "id": "3b39fab5",
   "metadata": {},
   "outputs": [],
   "source": [
    "def vocab():\n",
    "    alpha = ['a','b','c','d','e','f','g','h','i','j','k','l','m','n','o','p','q','r','s','t','u','v','w','x','y','z']\n",
    "    special = [' ']\n",
    "    vocab = alpha+special+['END']\n",
    "\n",
    "    return vocab\n",
    "    \n",
    "def getIndex(df, maxlen, file):\n",
    "    voc = vocab()\n",
    "    char_index = dict((c, i) for i, c in enumerate(voc))\n",
    "    \n",
    "    X = []\n",
    "    next_name = False\n",
    "    \n",
    "    # Club all the whitespaces\n",
    "    \n",
    "    trunc_X = [str(i).lower()[0:maxlen] for i in df['name']]\n",
    "    mask = []\n",
    "    for i in range(len(trunc_X)):\n",
    "        name = trunc_X[i]\n",
    "        tmp = []\n",
    "        for char in str(name):\n",
    "            if char not in voc:\n",
    "                with open(file,'a') as f:\n",
    "                    f.write(name+'\\n')\n",
    "                print(name)\n",
    "                next_name = True\n",
    "                break\n",
    "            else:\n",
    "                tmp.append(char_index[char])\n",
    "        if next_name:\n",
    "            mask.append(False)\n",
    "            next_name = False\n",
    "            continue\n",
    "        mask.append(True)\n",
    "        for k in range(0,maxlen - len(str(name))):\n",
    "            tmp.append(char_index[\"END\"])\n",
    "        X.append(tmp)\n",
    "            \n",
    "    return np.asarray(X), df[mask]"
   ]
  },
  {
   "cell_type": "code",
   "execution_count": 16,
   "id": "dddf54c0",
   "metadata": {},
   "outputs": [],
   "source": [
    "import re\n",
    "import numpy as np\n",
    "\n",
    "def preprocess_df(df):\n",
    "    df['name'] = [str(name).lower() for name in df['name']]\n",
    "    df['name'] = [str(name).strip() for name in df['name']]\n",
    "    df['name'] = [re.sub('[^a-zA-Z]+', ' ', str(name)) for name in df['name']]\n",
    "    df['name'] = [re.sub('[ \\t\\n]+',' ', str(name)) for name in df['name']]\n",
    "    df['name'].replace('', np.nan, inplace=True)\n",
    "    df = df[df['name']!='nan']\n",
    "    df.dropna(subset=['name'],inplace=True)\n",
    "    return df"
   ]
  },
  {
   "cell_type": "code",
   "execution_count": 17,
   "id": "3ed1a566",
   "metadata": {},
   "outputs": [],
   "source": [
    "def returnGenderPred(df, model):\n",
    "    test_x, df = getIndex(df, 30, 'oov.txt')\n",
    "    pred = model.predict(np.asarray(test_x), verbose = 1)\n",
    "    y_pred = np.argmax(pred, axis =1)\n",
    "    df['Gender'] = y_pred\n",
    "    return df\n",
    "\n",
    "def returnCastePred(df, model):\n",
    "    df = preprocess_df(df)\n",
    "    test_x, df = getIndex(df, 30, 'oov.txt')\n",
    "    pred = model.predict(np.asarray(test_x), verbose = 1)\n",
    "    y_pred = np.argmax(pred, axis =1)\n",
    "    df['Caste'] = y_pred\n",
    "    return df"
   ]
  },
  {
   "cell_type": "code",
   "execution_count": 18,
   "id": "6e42014a",
   "metadata": {},
   "outputs": [],
   "source": [
    "from keras.models import load_model\n",
    "\n",
    "\n",
    "def get_gender_model():\n",
    "    filename = \"/home/souvic/mounted/btp/vahini/Models/ERTrain/SavedModels/FinalSet/CharLSTM/ERModel/ERModel\"\n",
    "    model = load_model(filename)\n",
    "    return model\n",
    "\n",
    "def get_caste_model():\n",
    "    filename = \"/home/souvic/mounted/btp/vahini/Name2Demographics/Models/AIEEEData/CNNModel/SavedModel/CasteModel\"\n",
    "    model = load_model(filename)\n",
    "    return model"
   ]
  },
  {
   "cell_type": "code",
   "execution_count": 19,
   "id": "65ab9d79",
   "metadata": {},
   "outputs": [
    {
     "name": "stdout",
     "output_type": "stream",
     "text": [
      "WARNING:tensorflow:SavedModel saved prior to TF 2.5 detected when loading Keras model. Please ensure that you are saving the model with model.save() or tf.keras.models.save_model(), *NOT* tf.saved_model.save(). To confirm, there should be a file named \"keras_metadata.pb\" in the SavedModel directory.\n"
     ]
    },
    {
     "name": "stderr",
     "output_type": "stream",
     "text": [
      "2022-02-14 00:59:27.535804: E tensorflow/stream_executor/cuda/cuda_driver.cc:271] failed call to cuInit: CUDA_ERROR_NO_DEVICE: no CUDA-capable device is detected\n",
      "2022-02-14 00:59:27.535871: I tensorflow/stream_executor/cuda/cuda_diagnostics.cc:169] retrieving CUDA diagnostic information for host: obelix\n",
      "2022-02-14 00:59:27.535884: I tensorflow/stream_executor/cuda/cuda_diagnostics.cc:176] hostname: obelix\n",
      "2022-02-14 00:59:27.536017: I tensorflow/stream_executor/cuda/cuda_diagnostics.cc:200] libcuda reported version is: 470.86.0\n",
      "2022-02-14 00:59:27.536056: I tensorflow/stream_executor/cuda/cuda_diagnostics.cc:204] kernel reported version is: 470.86.0\n",
      "2022-02-14 00:59:27.536065: I tensorflow/stream_executor/cuda/cuda_diagnostics.cc:310] kernel version seems to match DSO: 470.86.0\n",
      "2022-02-14 00:59:27.536491: I tensorflow/core/platform/cpu_feature_guard.cc:151] This TensorFlow binary is optimized with oneAPI Deep Neural Network Library (oneDNN) to use the following CPU instructions in performance-critical operations:  AVX2 AVX512F FMA\n",
      "To enable them in other operations, rebuild TensorFlow with the appropriate compiler flags.\n"
     ]
    }
   ],
   "source": [
    "gender_model = get_gender_model()\n",
    "caste_model = get_caste_model()"
   ]
  },
  {
   "cell_type": "code",
   "execution_count": 20,
   "id": "40c357d7",
   "metadata": {},
   "outputs": [
    {
     "name": "stdout",
     "output_type": "stream",
     "text": [
      "/home/souvic/mounted/btp/ndata/extracted/OtherFiles/2010_0/\n"
     ]
    }
   ],
   "source": [
    "print(STORE)"
   ]
  },
  {
   "cell_type": "code",
   "execution_count": 22,
   "id": "28d77b9a",
   "metadata": {},
   "outputs": [],
   "source": [
    "files = os.listdir(STORE)"
   ]
  },
  {
   "cell_type": "code",
   "execution_count": 23,
   "id": "503cc6fb",
   "metadata": {},
   "outputs": [
    {
     "name": "stdout",
     "output_type": "stream",
     "text": [
      "20/20 [==============================] - 3s 119ms/step\n",
      "20/20 [==============================] - 0s 3ms/step\n",
      "19/19 [==============================] - 2s 113ms/step\n",
      "19/19 [==============================] - 0s 2ms/step\n",
      "19/19 [==============================] - 2s 114ms/step\n",
      "19/19 [==============================] - 0s 2ms/step\n",
      "19/19 [==============================] - 3s 176ms/step\n",
      "19/19 [==============================] - 0s 2ms/step\n",
      "20/20 [==============================] - 2s 120ms/step\n",
      "20/20 [==============================] - 0s 5ms/step\n",
      "19/19 [==============================] - 4s 188ms/step\n",
      "19/19 [==============================] - 0s 4ms/step\n",
      "18/18 [==============================] - 3s 179ms/step\n",
      "18/18 [==============================] - 0s 2ms/step\n",
      "19/19 [==============================] - 5s 182ms/step\n",
      "19/19 [==============================] - 0s 7ms/step\n",
      "18/18 [==============================] - 3s 183ms/step\n",
      "18/18 [==============================] - 0s 6ms/step\n",
      "18/18 [==============================] - 3s 183ms/step\n",
      "18/18 [==============================] - 0s 2ms/step\n",
      "18/18 [==============================] - 2s 115ms/step\n",
      "18/18 [==============================] - 0s 2ms/step\n",
      "19/19 [==============================] - 4s 188ms/step\n",
      "19/19 [==============================] - 0s 6ms/step\n",
      "20/20 [==============================] - 3s 152ms/step\n",
      "20/20 [==============================] - 0s 6ms/step\n",
      "17/17 [==============================] - 3s 173ms/step\n",
      "17/17 [==============================] - 0s 4ms/step\n",
      "19/19 [==============================] - 3s 178ms/step\n",
      "19/19 [==============================] - 0s 7ms/step\n",
      "18/18 [==============================] - 4s 195ms/step\n",
      "18/18 [==============================] - 0s 6ms/step\n",
      "19/19 [==============================] - 4s 187ms/step\n",
      "19/19 [==============================] - 0s 2ms/step\n",
      "19/19 [==============================] - 4s 186ms/step\n",
      "19/19 [==============================] - 0s 5ms/step\n",
      "19/19 [==============================] - 4s 193ms/step\n",
      "19/19 [==============================] - 0s 2ms/step\n",
      "18/18 [==============================] - 3s 188ms/step\n",
      "18/18 [==============================] - 0s 4ms/step\n",
      "19/19 [==============================] - 3s 149ms/step\n",
      "19/19 [==============================] - 0s 6ms/step\n",
      "19/19 [==============================] - 3s 183ms/step\n",
      "19/19 [==============================] - 0s 6ms/step\n",
      "17/17 [==============================] - 3s 158ms/step\n",
      "17/17 [==============================] - 0s 7ms/step\n",
      "19/19 [==============================] - 4s 185ms/step\n",
      "19/19 [==============================] - 0s 2ms/step\n",
      "20/20 [==============================] - 4s 182ms/step\n",
      "20/20 [==============================] - 0s 3ms/step\n",
      "19/19 [==============================] - 4s 183ms/step\n",
      "19/19 [==============================] - 0s 6ms/step\n",
      "19/19 [==============================] - 3s 177ms/step\n",
      "19/19 [==============================] - 0s 4ms/step\n",
      "19/19 [==============================] - 4s 184ms/step\n",
      "19/19 [==============================] - 0s 5ms/step\n",
      "19/19 [==============================] - 3s 174ms/step\n",
      "19/19 [==============================] - 0s 6ms/step\n",
      "19/19 [==============================] - 3s 178ms/step\n",
      "19/19 [==============================] - 0s 6ms/step\n",
      "18/18 [==============================] - 3s 180ms/step\n",
      "18/18 [==============================] - 0s 2ms/step\n",
      "18/18 [==============================] - 3s 176ms/step\n",
      "18/18 [==============================] - 0s 6ms/step\n",
      "19/19 [==============================] - 3s 178ms/step\n",
      "19/19 [==============================] - 0s 6ms/step\n",
      "19/19 [==============================] - 3s 174ms/step\n",
      "19/19 [==============================] - 0s 4ms/step\n",
      "19/19 [==============================] - 3s 142ms/step\n",
      "19/19 [==============================] - 0s 2ms/step\n",
      "18/18 [==============================] - 3s 177ms/step\n",
      "18/18 [==============================] - 0s 7ms/step\n",
      "19/19 [==============================] - 4s 182ms/step\n",
      "19/19 [==============================] - 0s 2ms/step\n",
      "19/19 [==============================] - 3s 174ms/step\n",
      "19/19 [==============================] - 0s 2ms/step\n",
      "20/20 [==============================] - 2s 112ms/step\n",
      "20/20 [==============================] - 0s 2ms/step\n",
      "20/20 [==============================] - 2s 113ms/step\n",
      "20/20 [==============================] - 0s 2ms/step\n",
      "20/20 [==============================] - 2s 115ms/step\n",
      "20/20 [==============================] - 0s 2ms/step\n",
      "19/19 [==============================] - 2s 117ms/step\n",
      "19/19 [==============================] - 0s 4ms/step\n",
      "19/19 [==============================] - 4s 186ms/step\n",
      "19/19 [==============================] - 0s 6ms/step\n",
      "19/19 [==============================] - 3s 153ms/step\n",
      "19/19 [==============================] - 0s 4ms/step\n",
      "19/19 [==============================] - 4s 182ms/step\n",
      "19/19 [==============================] - 0s 2ms/step\n",
      "18/18 [==============================] - 3s 187ms/step\n",
      "18/18 [==============================] - 0s 7ms/step\n",
      "19/19 [==============================] - 3s 178ms/step\n",
      "19/19 [==============================] - 0s 2ms/step\n",
      "18/18 [==============================] - 3s 177ms/step\n",
      "18/18 [==============================] - 0s 4ms/step\n",
      "19/19 [==============================] - 4s 185ms/step\n",
      "19/19 [==============================] - 0s 6ms/step\n",
      "18/18 [==============================] - 3s 183ms/step\n",
      "18/18 [==============================] - 0s 2ms/step\n"
     ]
    }
   ],
   "source": [
    "for file in files:\n",
    "  df = pd.read_csv(STORE+file)\n",
    "  df = preprocess_df(df)\n",
    "  df = returnGenderPred(df, gender_model)\n",
    "  df = returnCastePred(df, caste_model)\n",
    "  del df['Unnamed: 0']\n",
    "  df.to_csv(STORE+file)"
   ]
  },
  {
   "cell_type": "code",
   "execution_count": null,
   "id": "fb52de88",
   "metadata": {},
   "outputs": [],
   "source": []
  }
 ],
 "metadata": {
  "kernelspec": {
   "display_name": "Python [conda env:.conda-py38] *",
   "language": "python",
   "name": "conda-env-.conda-py38-py"
  },
  "language_info": {
   "codemirror_mode": {
    "name": "ipython",
    "version": 3
   },
   "file_extension": ".py",
   "mimetype": "text/x-python",
   "name": "python",
   "nbconvert_exporter": "python",
   "pygments_lexer": "ipython3",
   "version": "3.8.11"
  }
 },
 "nbformat": 4,
 "nbformat_minor": 5
}
