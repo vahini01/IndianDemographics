{
 "cells": [
  {
   "cell_type": "code",
   "execution_count": 1,
   "id": "fff9bb42",
   "metadata": {},
   "outputs": [
    {
     "name": "stdout",
     "output_type": "stream",
     "text": [
      "Requirement already satisfied: BeautifulSoup4 in /home/souvic/.conda/envs/py38/lib/python3.8/site-packages (4.10.0)\r\n",
      "Requirement already satisfied: soupsieve>1.2 in /home/souvic/.conda/envs/py38/lib/python3.8/site-packages (from BeautifulSoup4) (2.2.1)\r\n"
     ]
    }
   ],
   "source": [
    "!pip install BeautifulSoup4"
   ]
  },
  {
   "cell_type": "code",
   "execution_count": 2,
   "id": "06816627",
   "metadata": {},
   "outputs": [],
   "source": [
    "import pickle\n",
    "import pandas as pd\n",
    "from bs4 import BeautifulSoup"
   ]
  },
  {
   "cell_type": "code",
   "execution_count": 3,
   "id": "9507c791",
   "metadata": {},
   "outputs": [
    {
     "data": {
      "text/plain": [
       "'/home/souvic/mounted/btp/vahini/DataSets/CBSEData/Parser'"
      ]
     },
     "execution_count": 3,
     "metadata": {},
     "output_type": "execute_result"
    }
   ],
   "source": [
    "%pwd"
   ]
  },
  {
   "cell_type": "code",
   "execution_count": 26,
   "id": "c6500883",
   "metadata": {},
   "outputs": [],
   "source": [
    "\n",
    "year=\"2010_1\"\n",
    "PATH = \"/home/souvic/mounted/btp/ndata/aipmt/\"+year+\"/\"\n",
    "STORE = \"/home/souvic/mounted/btp/ndata/extracted/OtherFiles/\"+\"2010_1_2\"+\"/\""
   ]
  },
  {
   "cell_type": "code",
   "execution_count": 27,
   "id": "bc6ef149",
   "metadata": {},
   "outputs": [
    {
     "name": "stdout",
     "output_type": "stream",
     "text": [
      "/home/souvic/mounted/btp/ndata/aipmt/2010_1\n"
     ]
    }
   ],
   "source": [
    "%cd $PATH"
   ]
  },
  {
   "cell_type": "code",
   "execution_count": 28,
   "id": "02f43657",
   "metadata": {},
   "outputs": [],
   "source": [
    "import os\n",
    "\n",
    "files = os.listdir(PATH)"
   ]
  },
  {
   "cell_type": "code",
   "execution_count": 29,
   "id": "99eb31a7",
   "metadata": {},
   "outputs": [],
   "source": [
    "def returnpick(x):\n",
    "    with (open(x, \"rb\")) as openfile:\n",
    "        return pickle.load(openfile)"
   ]
  },
  {
   "cell_type": "code",
   "execution_count": null,
   "id": "1a195922",
   "metadata": {},
   "outputs": [],
   "source": [
    "for file in files:\n",
    "    fd = returnpick(file)\n",
    "    rn = []\n",
    "    count=0\n",
    "    data= []\n",
    "    for key in fd.keys():\n",
    "        rn.append(key)\n",
    "    \n",
    "    for elem in rn:\n",
    "        student = []\n",
    "        count = count+1\n",
    "        if count%10000 == 0:\n",
    "            print(count)\n",
    "        try:\n",
    "            soup = BeautifulSoup(fd[elem],'html.parser')\n",
    "            tab  = soup.find_all('table', align='center', width='600')\n",
    "            if len(tab) < 2:\n",
    "                continue\n",
    "            info = tab[1].find_all('td', align='left')\n",
    "            roll_no = info[0].text;\n",
    "            name = info[1].text;\n",
    "            father_name = info[2].text;\n",
    "            category = info[3].text;\n",
    "            sub_category = info[4].text;\n",
    "            student = [roll_no, name, father_name, category, sub_category]\n",
    "            data.append(student)\n",
    "    #         break\n",
    "        except:\n",
    "            print(elem)\n",
    "\n",
    "\n",
    "    df = pd.DataFrame(data, columns=['roll_no','name','father_name','category','sub_category'])\n",
    "    df.to_csv(STORE+file[:-2]+\".csv\")\n"
   ]
  },
  {
   "cell_type": "markdown",
   "id": "154c8b5b",
   "metadata": {},
   "source": [
    "Add labels"
   ]
  },
  {
   "cell_type": "code",
   "execution_count": 12,
   "id": "ccd7b773",
   "metadata": {},
   "outputs": [],
   "source": [
    "import os\n",
    "os.environ[\"CUDA_VISIBLE_DEVICES\"]=\"-1\"    \n",
    "import tensorflow as tf"
   ]
  },
  {
   "cell_type": "code",
   "execution_count": 13,
   "id": "3b39fab5",
   "metadata": {},
   "outputs": [],
   "source": [
    "def vocab():\n",
    "    alpha = ['a','b','c','d','e','f','g','h','i','j','k','l','m','n','o','p','q','r','s','t','u','v','w','x','y','z']\n",
    "    special = [' ']\n",
    "    vocab = alpha+special+['END']\n",
    "\n",
    "    return vocab\n",
    "    \n",
    "def getIndex(df, maxlen, file):\n",
    "    voc = vocab()\n",
    "    char_index = dict((c, i) for i, c in enumerate(voc))\n",
    "    \n",
    "    X = []\n",
    "    next_name = False\n",
    "    \n",
    "    # Club all the whitespaces\n",
    "    \n",
    "    trunc_X = [str(i).lower()[0:maxlen] for i in df['name']]\n",
    "    mask = []\n",
    "    for i in range(len(trunc_X)):\n",
    "        name = trunc_X[i]\n",
    "        tmp = []\n",
    "        for char in str(name):\n",
    "            if char not in voc:\n",
    "                with open(file,'a') as f:\n",
    "                    f.write(name+'\\n')\n",
    "                print(name)\n",
    "                next_name = True\n",
    "                break\n",
    "            else:\n",
    "                tmp.append(char_index[char])\n",
    "        if next_name:\n",
    "            mask.append(False)\n",
    "            next_name = False\n",
    "            continue\n",
    "        mask.append(True)\n",
    "        for k in range(0,maxlen - len(str(name))):\n",
    "            tmp.append(char_index[\"END\"])\n",
    "        X.append(tmp)\n",
    "            \n",
    "    return np.asarray(X), df[mask]"
   ]
  },
  {
   "cell_type": "code",
   "execution_count": 14,
   "id": "dddf54c0",
   "metadata": {},
   "outputs": [],
   "source": [
    "import re\n",
    "import numpy as np\n",
    "\n",
    "def preprocess_df(df):\n",
    "    df['name'] = [str(name).lower() for name in df['name']]\n",
    "    df['name'] = [str(name).strip() for name in df['name']]\n",
    "    df['name'] = [re.sub('[^a-zA-Z]+', ' ', str(name)) for name in df['name']]\n",
    "    df['name'] = [re.sub('[ \\t\\n]+',' ', str(name)) for name in df['name']]\n",
    "    df['name'].replace('', np.nan, inplace=True)\n",
    "    df = df[df['name']!='nan']\n",
    "    df.dropna(subset=['name'],inplace=True)\n",
    "    return df"
   ]
  },
  {
   "cell_type": "code",
   "execution_count": 15,
   "id": "3ed1a566",
   "metadata": {},
   "outputs": [],
   "source": [
    "def returnGenderPred(df, model):\n",
    "    test_x, df = getIndex(df, 30, 'oov.txt')\n",
    "    pred = model.predict(np.asarray(test_x), verbose = 1)\n",
    "    y_pred = np.argmax(pred, axis =1)\n",
    "    df['Gender'] = y_pred\n",
    "    return df\n",
    "\n",
    "def returnCastePred(df, model):\n",
    "    df = preprocess_df(df)\n",
    "    test_x, df = getIndex(df, 30, 'oov.txt')\n",
    "    pred = model.predict(np.asarray(test_x), verbose = 1)\n",
    "    y_pred = np.argmax(pred, axis =1)\n",
    "    df['Caste'] = y_pred\n",
    "    return df"
   ]
  },
  {
   "cell_type": "code",
   "execution_count": 16,
   "id": "6e42014a",
   "metadata": {},
   "outputs": [],
   "source": [
    "from keras.models import load_model\n",
    "\n",
    "\n",
    "def get_gender_model():\n",
    "    filename = \"/home/souvic/mounted/btp/vahini/Models/ERTrain/SavedModels/FinalSet/CharLSTM/ERModel/ERModel\"\n",
    "    model = load_model(filename)\n",
    "    return model\n",
    "\n",
    "def get_caste_model():\n",
    "    filename = \"/home/souvic/mounted/btp/vahini/Name2Demographics/Models/AIEEEData/CNNModel/SavedModel/CasteModel\"\n",
    "    model = load_model(filename)\n",
    "    return model"
   ]
  },
  {
   "cell_type": "code",
   "execution_count": 17,
   "id": "65ab9d79",
   "metadata": {},
   "outputs": [
    {
     "name": "stdout",
     "output_type": "stream",
     "text": [
      "WARNING:tensorflow:SavedModel saved prior to TF 2.5 detected when loading Keras model. Please ensure that you are saving the model with model.save() or tf.keras.models.save_model(), *NOT* tf.saved_model.save(). To confirm, there should be a file named \"keras_metadata.pb\" in the SavedModel directory.\n"
     ]
    },
    {
     "name": "stderr",
     "output_type": "stream",
     "text": [
      "2022-02-14 00:59:38.734652: E tensorflow/stream_executor/cuda/cuda_driver.cc:271] failed call to cuInit: CUDA_ERROR_NO_DEVICE: no CUDA-capable device is detected\n",
      "2022-02-14 00:59:38.734725: I tensorflow/stream_executor/cuda/cuda_diagnostics.cc:169] retrieving CUDA diagnostic information for host: obelix\n",
      "2022-02-14 00:59:38.734737: I tensorflow/stream_executor/cuda/cuda_diagnostics.cc:176] hostname: obelix\n",
      "2022-02-14 00:59:38.734873: I tensorflow/stream_executor/cuda/cuda_diagnostics.cc:200] libcuda reported version is: 470.86.0\n",
      "2022-02-14 00:59:38.734913: I tensorflow/stream_executor/cuda/cuda_diagnostics.cc:204] kernel reported version is: 470.86.0\n",
      "2022-02-14 00:59:38.734923: I tensorflow/stream_executor/cuda/cuda_diagnostics.cc:310] kernel version seems to match DSO: 470.86.0\n",
      "2022-02-14 00:59:38.735385: I tensorflow/core/platform/cpu_feature_guard.cc:151] This TensorFlow binary is optimized with oneAPI Deep Neural Network Library (oneDNN) to use the following CPU instructions in performance-critical operations:  AVX2 AVX512F FMA\n",
      "To enable them in other operations, rebuild TensorFlow with the appropriate compiler flags.\n"
     ]
    }
   ],
   "source": [
    "gender_model = get_gender_model()\n",
    "caste_model = get_caste_model()"
   ]
  },
  {
   "cell_type": "code",
   "execution_count": 18,
   "id": "d2739d30",
   "metadata": {},
   "outputs": [
    {
     "name": "stdout",
     "output_type": "stream",
     "text": [
      "/home/souvic/mounted/btp/ndata/extracted/OtherFiles/2010_1/\n"
     ]
    }
   ],
   "source": [
    "print(STORE)"
   ]
  },
  {
   "cell_type": "code",
   "execution_count": 19,
   "id": "28d77b9a",
   "metadata": {},
   "outputs": [],
   "source": [
    "files = os.listdir(STORE)"
   ]
  },
  {
   "cell_type": "code",
   "execution_count": 20,
   "id": "503cc6fb",
   "metadata": {},
   "outputs": [
    {
     "name": "stdout",
     "output_type": "stream",
     "text": [
      "12/12 [==============================] - 4s 210ms/step\n",
      "12/12 [==============================] - 0s 5ms/step\n",
      "14/14 [==============================] - 3s 182ms/step\n",
      "14/14 [==============================] - 0s 6ms/step\n",
      "13/13 [==============================] - 2s 168ms/step\n",
      "13/13 [==============================] - 0s 7ms/step\n",
      "11/11 [==============================] - 2s 206ms/step\n",
      "11/11 [==============================] - 0s 2ms/step\n",
      "13/13 [==============================] - 1s 114ms/step\n",
      "13/13 [==============================] - 0s 7ms/step\n",
      "12/12 [==============================] - 3s 225ms/step\n",
      "12/12 [==============================] - 0s 7ms/step\n",
      "12/12 [==============================] - 2s 170ms/step\n",
      "12/12 [==============================] - 0s 4ms/step\n",
      "12/12 [==============================] - 2s 166ms/step\n",
      "12/12 [==============================] - 0s 7ms/step\n",
      "13/13 [==============================] - 3s 201ms/step\n",
      "13/13 [==============================] - 0s 3ms/step\n",
      "12/12 [==============================] - 3s 211ms/step\n",
      "12/12 [==============================] - 0s 3ms/step\n",
      "11/11 [==============================] - 2s 158ms/step\n",
      "11/11 [==============================] - 0s 8ms/step\n",
      "12/12 [==============================] - 2s 174ms/step\n",
      "12/12 [==============================] - 0s 3ms/step\n",
      "12/12 [==============================] - 2s 189ms/step\n",
      "12/12 [==============================] - 0s 4ms/step\n",
      "12/12 [==============================] - 3s 207ms/step\n",
      "12/12 [==============================] - 0s 4ms/step\n",
      "12/12 [==============================] - 2s 182ms/step\n",
      "12/12 [==============================] - 0s 2ms/step\n",
      "13/13 [==============================] - 2s 163ms/step\n",
      "13/13 [==============================] - 0s 2ms/step\n",
      "13/13 [==============================] - 2s 127ms/step\n",
      "13/13 [==============================] - 0s 5ms/step\n",
      "13/13 [==============================] - 3s 214ms/step\n",
      "13/13 [==============================] - 0s 2ms/step\n",
      "13/13 [==============================] - 3s 218ms/step\n",
      "13/13 [==============================] - 0s 3ms/step\n",
      "12/12 [==============================] - 2s 130ms/step\n",
      "12/12 [==============================] - 0s 2ms/step\n",
      "13/13 [==============================] - 2s 158ms/step\n",
      "13/13 [==============================] - 0s 3ms/step\n",
      "12/12 [==============================] - 2s 191ms/step\n",
      "12/12 [==============================] - 0s 3ms/step\n",
      "12/12 [==============================] - 3s 209ms/step\n",
      "12/12 [==============================] - 0s 7ms/step\n",
      "13/13 [==============================] - 2s 118ms/step\n",
      "13/13 [==============================] - 0s 2ms/step\n",
      "12/12 [==============================] - 2s 150ms/step\n",
      "12/12 [==============================] - 0s 4ms/step\n",
      "12/12 [==============================] - 2s 135ms/step\n",
      "12/12 [==============================] - 0s 3ms/step\n",
      "12/12 [==============================] - 1s 118ms/step\n",
      "12/12 [==============================] - 0s 6ms/step\n",
      "12/12 [==============================] - 3s 208ms/step\n",
      "12/12 [==============================] - 0s 3ms/step\n",
      "12/12 [==============================] - 2s 162ms/step\n",
      "12/12 [==============================] - 0s 4ms/step\n",
      "12/12 [==============================] - 2s 166ms/step\n",
      "12/12 [==============================] - 0s 7ms/step\n",
      "12/12 [==============================] - 2s 202ms/step\n",
      "12/12 [==============================] - 0s 2ms/step\n",
      "13/13 [==============================] - 3s 213ms/step\n",
      "13/13 [==============================] - 0s 5ms/step\n",
      "11/11 [==============================] - 2s 171ms/step\n",
      "11/11 [==============================] - 0s 4ms/step\n",
      "12/12 [==============================] - 2s 190ms/step\n",
      "12/12 [==============================] - 0s 2ms/step\n",
      "12/12 [==============================] - 3s 214ms/step\n",
      "12/12 [==============================] - 0s 4ms/step\n",
      "11/11 [==============================] - 2s 178ms/step\n",
      "11/11 [==============================] - 0s 8ms/step\n",
      "13/13 [==============================] - 2s 173ms/step\n",
      "13/13 [==============================] - 0s 4ms/step\n",
      "12/12 [==============================] - 3s 205ms/step\n",
      "12/12 [==============================] - 0s 4ms/step\n",
      "12/12 [==============================] - 2s 193ms/step\n",
      "12/12 [==============================] - 0s 3ms/step\n",
      "11/11 [==============================] - 2s 159ms/step\n",
      "11/11 [==============================] - 0s 4ms/step\n",
      "13/13 [==============================] - 3s 200ms/step\n",
      "13/13 [==============================] - 0s 2ms/step\n",
      "13/13 [==============================] - 3s 204ms/step\n",
      "13/13 [==============================] - 0s 6ms/step\n",
      "12/12 [==============================] - 2s 176ms/step\n",
      "12/12 [==============================] - 0s 6ms/step\n",
      "12/12 [==============================] - 2s 172ms/step\n",
      "12/12 [==============================] - 0s 7ms/step\n",
      "12/12 [==============================] - 2s 197ms/step\n",
      "12/12 [==============================] - 0s 3ms/step\n",
      "11/11 [==============================] - 2s 171ms/step\n",
      "11/11 [==============================] - 0s 3ms/step\n",
      "11/11 [==============================] - 3s 198ms/step\n",
      "11/11 [==============================] - 0s 7ms/step\n",
      "14/14 [==============================] - 2s 162ms/step\n",
      "14/14 [==============================] - 0s 7ms/step\n",
      "11/11 [==============================] - 2s 203ms/step\n",
      "11/11 [==============================] - 0s 2ms/step\n",
      "12/12 [==============================] - 3s 204ms/step\n",
      "12/12 [==============================] - 0s 7ms/step\n"
     ]
    }
   ],
   "source": [
    "for file in files:\n",
    "  df = pd.read_csv(STORE+file)\n",
    "  df = preprocess_df(df)\n",
    "  df = returnGenderPred(df, gender_model)\n",
    "  df = returnCastePred(df, caste_model)\n",
    "  del df['Unnamed: 0']\n",
    "  df.to_csv(STORE+file)"
   ]
  },
  {
   "cell_type": "code",
   "execution_count": null,
   "id": "fb52de88",
   "metadata": {},
   "outputs": [],
   "source": []
  }
 ],
 "metadata": {
  "kernelspec": {
   "display_name": "Python [conda env:.conda-py38] *",
   "language": "python",
   "name": "conda-env-.conda-py38-py"
  },
  "language_info": {
   "codemirror_mode": {
    "name": "ipython",
    "version": 3
   },
   "file_extension": ".py",
   "mimetype": "text/x-python",
   "name": "python",
   "nbconvert_exporter": "python",
   "pygments_lexer": "ipython3",
   "version": "3.8.11"
  }
 },
 "nbformat": 4,
 "nbformat_minor": 5
}
