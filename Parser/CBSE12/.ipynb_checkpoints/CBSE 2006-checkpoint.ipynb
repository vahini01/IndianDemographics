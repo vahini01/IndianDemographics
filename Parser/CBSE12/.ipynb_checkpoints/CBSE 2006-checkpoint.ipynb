{
 "cells": [
  {
   "cell_type": "code",
   "execution_count": 1,
   "id": "06764354",
   "metadata": {},
   "outputs": [
    {
     "name": "stdout",
     "output_type": "stream",
     "text": [
      "Requirement already satisfied: BeautifulSoup4 in /home/souvic/.conda/envs/py38/lib/python3.8/site-packages (4.10.0)\r\n",
      "Requirement already satisfied: soupsieve>1.2 in /home/souvic/.conda/envs/py38/lib/python3.8/site-packages (from BeautifulSoup4) (2.2.1)\r\n"
     ]
    }
   ],
   "source": [
    "!pip install BeautifulSoup4"
   ]
  },
  {
   "cell_type": "code",
   "execution_count": 2,
   "id": "5e0d3e15",
   "metadata": {},
   "outputs": [],
   "source": [
    "import pickle\n",
    "import pandas as pd\n",
    "from bs4 import BeautifulSoup"
   ]
  },
  {
   "cell_type": "code",
   "execution_count": 3,
   "id": "facf7c44",
   "metadata": {},
   "outputs": [
    {
     "data": {
      "text/plain": [
       "'/home/souvic/mounted/btp/vahini/DataSets/CBSEData/Parser'"
      ]
     },
     "execution_count": 3,
     "metadata": {},
     "output_type": "execute_result"
    }
   ],
   "source": [
    "%pwd"
   ]
  },
  {
   "cell_type": "code",
   "execution_count": 4,
   "id": "0f5dfa0d",
   "metadata": {},
   "outputs": [],
   "source": [
    "PATH = \"/home/souvic/mounted/btp/ndata/cbsedata/2005/\"\n",
    "STORE = \"/home/souvic/mounted/btp/ndata/extracted/CBSE/2005/\""
   ]
  },
  {
   "cell_type": "code",
   "execution_count": 5,
   "id": "87b17492",
   "metadata": {},
   "outputs": [
    {
     "name": "stdout",
     "output_type": "stream",
     "text": [
      "/home/souvic/mounted/btp/ndata/cbsedata/2005\n"
     ]
    }
   ],
   "source": [
    "%cd $PATH"
   ]
  },
  {
   "cell_type": "code",
   "execution_count": 6,
   "id": "ae471f2c",
   "metadata": {},
   "outputs": [],
   "source": [
    "import os\n",
    "\n",
    "files = os.listdir(PATH)"
   ]
  },
  {
   "cell_type": "code",
   "execution_count": null,
   "id": "9e6722f4",
   "metadata": {},
   "outputs": [],
   "source": [
    "for file in files:\n",
    "    with (open(file, \"rb\")) as openfile:\n",
    "        fd = pickle.load(openfile)\n",
    "    rolls = fd.keys()\n",
    "    rn = []\n",
    "    for key in rolls:\n",
    "        rn.append(key)\n",
    "\n",
    "    data = []\n",
    "    count = 0\n",
    "    for elem in rn:\n",
    "        student = []\n",
    "        count = count+1\n",
    "        if count%10000 == 0:\n",
    "            print(file, \":\", count)\n",
    "        try:\n",
    "            soup = BeautifulSoup(fd[elem],'html.parser')\n",
    "            tab  = soup.find_all('table', align=\"center\", width=\"75%\")\n",
    "            if len(tab) < 2:\n",
    "                continue\n",
    "            info = tab[1].find_all('td')\n",
    "            roll_no = info[1].text\n",
    "            name = info[3].text\n",
    "            father_name = info[5].text\n",
    "            mother_name = info[7].text\n",
    "    #         break\n",
    "            student = [roll_no, name, father_name, mother_name]\n",
    "            data.append(student)\n",
    "        except:\n",
    "            print(elem)\n",
    "\n",
    "    df = pd.DataFrame(data, columns=['roll_no','name','mother_name','father_name'])\n",
    "    df.to_csv(STORE+file[:-2]+\".csv\")\n",
    "    "
   ]
  },
  {
   "cell_type": "markdown",
   "id": "1c6deec5",
   "metadata": {},
   "source": [
    "elem"
   ]
  },
  {
   "cell_type": "code",
   "execution_count": null,
   "id": "1f58433d",
   "metadata": {},
   "outputs": [],
   "source": []
  }
 ],
 "metadata": {
  "kernelspec": {
   "display_name": "Python [conda env:.conda-py38] *",
   "language": "python",
   "name": "conda-env-.conda-py38-py"
  },
  "language_info": {
   "codemirror_mode": {
    "name": "ipython",
    "version": 3
   },
   "file_extension": ".py",
   "mimetype": "text/x-python",
   "name": "python",
   "nbconvert_exporter": "python",
   "pygments_lexer": "ipython3",
   "version": "3.8.11"
  }
 },
 "nbformat": 4,
 "nbformat_minor": 5
}
